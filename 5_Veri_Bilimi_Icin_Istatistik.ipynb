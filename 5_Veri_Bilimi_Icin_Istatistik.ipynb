{
 "cells": [
  {
   "cell_type": "markdown",
   "metadata": {},
   "source": [
    "# Veri Bilimi için Istatistik"
   ]
  },
  {
   "cell_type": "code",
   "execution_count": 1,
   "metadata": {},
   "outputs": [],
   "source": [
    "# bir veribilimcinin işi iş kararları aldırmaktır,harekete geçirmektir\n",
    "#depertmanları beslemek ve model geliştirmektir"
   ]
  },
  {
   "cell_type": "code",
   "execution_count": 2,
   "metadata": {},
   "outputs": [],
   "source": [
    "# kırmızı ve yeşil buton şans ile olup\n",
    "#olmadıgını anlamak icin istatistik\n",
    "#olarak test yapılmalı\n"
   ]
  },
  {
   "cell_type": "markdown",
   "metadata": {},
   "source": [
    "## Ornek Teorisi\n",
    "* Anakitlenin alt yapısıdır"
   ]
  },
  {
   "cell_type": "code",
   "execution_count": 3,
   "metadata": {},
   "outputs": [],
   "source": [
    "#orneklemden anakitlenin özelliklerini temsil etmesini bekliyoruz\n",
    "#bu orneklemle model kurulacak o yuzden cok iyi olması gerekir.\n",
    "#olasılıklı ornekleme: anakitle üzerinden rastgele ornekleme cekme islemine denir.\n"
   ]
  },
  {
   "cell_type": "code",
   "execution_count": 4,
   "metadata": {},
   "outputs": [],
   "source": [
    "# Orneklem dagılımı: Anakitle icinden birden fazla \n",
    "# ornek cektigimizde ve bunların dagılımıyla \n",
    "#ilgilendigimizde buna orneklem dagilimi denir.\n",
    "\n",
    "#********* Bu(Orneklem Dagılımı) tahmin başarısı ve aşırı ogrenmeye karsı dayanıklı bir yöntemdir\n",
    "#Merkezi Limit Teoremi:  orneklem dagılımında bir sürü ornek secmiştik.\n",
    "# bu ornekleri birlestirerek bazı işlemler yapabilmemin teorik dayanagıda merkezi limit teoremidir.\n",
    "# *****Merkezi Limit Teoremi: bagımsız ve aynı dağılıma sahip \n",
    "# rassal degiskenlerin toplamı yada aritmetik ortalması yaklasık\n",
    "#olarak normal dağılmaktadır\n"
   ]
  },
  {
   "cell_type": "markdown",
   "metadata": {},
   "source": [
    "# Ornek Teorisi Uygulama"
   ]
  },
  {
   "cell_type": "code",
   "execution_count": null,
   "metadata": {},
   "outputs": [],
   "source": [
    "# bir ilçedeki kişilerin yaşları hakkında bir cıkarımda bulunmak istiyoruz\n",
    "# 1000 kişiye sorup yaş ortalmasını bulmak yerine\n",
    "#100 kişiye sorup yaş ortalamasını öğreneceğim\n"
   ]
  },
  {
   "cell_type": "code",
   "execution_count": 4,
   "metadata": {},
   "outputs": [],
   "source": [
    "import numpy as np\n"
   ]
  },
  {
   "cell_type": "code",
   "execution_count": 7,
   "metadata": {},
   "outputs": [
    {
     "data": {
      "text/plain": [
       "array([ 7, 12, 45, ..., 55,  2, 26])"
      ]
     },
     "execution_count": 7,
     "metadata": {},
     "output_type": "execute_result"
    }
   ],
   "source": [
    "populasyon=np.random.randint(0,80,10000)\n",
    "# 0 ile 80 yas arasında 10.000 tane yas olacak sekilde populasyonu tanımladık\n",
    "populasyon"
   ]
  },
  {
   "cell_type": "code",
   "execution_count": 8,
   "metadata": {},
   "outputs": [
    {
     "data": {
      "text/plain": [
       "array([ 7, 12, 45, 32, 66, 16, 57, 52, 42,  7])"
      ]
     },
     "execution_count": 8,
     "metadata": {},
     "output_type": "execute_result"
    }
   ],
   "source": [
    "populasyon[0:10]"
   ]
  },
  {
   "cell_type": "markdown",
   "metadata": {},
   "source": [
    "* orneklem cekimi"
   ]
  },
  {
   "cell_type": "code",
   "execution_count": 9,
   "metadata": {},
   "outputs": [
    {
     "data": {
      "text/plain": [
       "array([ 5, 18, 26, 20,  9, 25, 42, 11,  9, 52])"
      ]
     },
     "execution_count": 9,
     "metadata": {},
     "output_type": "execute_result"
    }
   ],
   "source": [
    "#orneklem cekimi\n",
    "np.random.seed(10)# yapılacak olan islemlerin her tekrar edildiginde aynı sonucu getirmesine garanti altına alan bir işlemdir(seed) \n",
    "# aynı yapıya göre işlem yapmasını saglar\n",
    "# aynı yapıya göre örneklem seçer her cektiginde farklı sonuc gelmez \n",
    "orneklem=np.random.choice(a=populasyon,size=100)\n",
    "#bu populasyonun (anakitle) den rastgele 100 tane sec \n",
    "orneklem[0:10]\n"
   ]
  },
  {
   "cell_type": "code",
   "execution_count": 10,
   "metadata": {},
   "outputs": [
    {
     "data": {
      "text/plain": [
       "37.15"
      ]
     },
     "execution_count": 10,
     "metadata": {},
     "output_type": "execute_result"
    }
   ],
   "source": [
    "orneklem.mean()"
   ]
  },
  {
   "cell_type": "code",
   "execution_count": 11,
   "metadata": {},
   "outputs": [
    {
     "data": {
      "text/plain": [
       "39.4126"
      ]
     },
     "execution_count": 11,
     "metadata": {},
     "output_type": "execute_result"
    }
   ],
   "source": [
    "populasyon.mean()"
   ]
  },
  {
   "cell_type": "markdown",
   "metadata": {},
   "source": [
    "* orneklem dagilimi"
   ]
  },
  {
   "cell_type": "code",
   "execution_count": 15,
   "metadata": {},
   "outputs": [],
   "source": [
    "# anakitle üzerinden birden fazla ornek cekip\n",
    "#dagılımına bakmak demiştik\n",
    "# farklı farklı orneklemler cekicez\n",
    "np.random.seed(10)\n",
    "orneklem1=np.random.choice(a=populasyon,size=100)\n",
    "orneklem2=np.random.choice(a=populasyon,size=100)\n",
    "orneklem3=np.random.choice(a=populasyon,size=100)\n",
    "orneklem4=np.random.choice(a=populasyon,size=100)\n",
    "orneklem5=np.random.choice(a=populasyon,size=100)\n",
    "orneklem6=np.random.choice(a=populasyon,size=100)\n",
    "orneklem7=np.random.choice(a=populasyon,size=100)\n",
    "orneklem8=np.random.choice(a=populasyon,size=100)\n",
    "orneklem9=np.random.choice(a=populasyon,size=100)\n",
    "orneklem10=np.random.choice(a=populasyon,size=100)\n"
   ]
  },
  {
   "cell_type": "code",
   "execution_count": 18,
   "metadata": {},
   "outputs": [
    {
     "data": {
      "text/plain": [
       "37.882000000000005"
      ]
     },
     "execution_count": 18,
     "metadata": {},
     "output_type": "execute_result"
    }
   ],
   "source": [
    "(orneklem1.mean() + orneklem2.mean() + orneklem3.mean() \n",
    "+ orneklem4.mean() + orneklem5.mean() + orneklem6.mean()  \n",
    "+ orneklem7.mean() + orneklem8.mean() + orneklem9.mean()  \n",
    "+ orneklem10.mean() )/10 "
   ]
  },
  {
   "cell_type": "code",
   "execution_count": null,
   "metadata": {},
   "outputs": [],
   "source": [
    "# Sonuc olarak: merkezi limit teoremi aracılığıyla ana kitleyi çok iyi temsil edilmistir\n",
    "# 10 tane orneklem secip ortalmasını alıp cektigimiz orneklem sayısına boldugumuzde \n",
    "# merkezi limit teoremini uygulamıs oluruz."
   ]
  },
  {
   "cell_type": "markdown",
   "metadata": {},
   "source": [
    "# Betimsel İstatistikler\n",
    "\n",
    "* Ortalama \n",
    "* Medyan  \n",
    "* Standart Sapma\n",
    "* Mod   \n",
    "* Kovaryans \n",
    "* Kartiller \n",
    "* Korelasyon\n",
    "* Degisim Araligi"
   ]
  },
  {
   "cell_type": "markdown",
   "metadata": {},
   "source": [
    "* Kovaryans : iki degisken arasindaki iliskinin degiskenlik olcusudur\n",
    "* iki degisken arasinda iliski olabilir bunun degiskenligi nedire bakar"
   ]
  },
  {
   "cell_type": "markdown",
   "metadata": {},
   "source": [
    "* Varyans: ortalama etrafındaki dagılımın olcusu ---->standart sapmanın karesi=varyans"
   ]
  },
  {
   "cell_type": "markdown",
   "metadata": {},
   "source": [
    "* Korelasyon : İki degisken arasindaki iliskiyi,\n",
    "    iliskinin anlamlı olup olmadıgını,\n",
    "    iliskinin siddetini ve yonunu ifade eden \n",
    "    istatistiksel bir tekniktir."
   ]
  },
  {
   "cell_type": "markdown",
   "metadata": {},
   "source": [
    "## Betimsel İstatistikler Uygulama"
   ]
  },
  {
   "cell_type": "code",
   "execution_count": 20,
   "metadata": {},
   "outputs": [
    {
     "data": {
      "text/html": [
       "<div>\n",
       "<style scoped>\n",
       "    .dataframe tbody tr th:only-of-type {\n",
       "        vertical-align: middle;\n",
       "    }\n",
       "\n",
       "    .dataframe tbody tr th {\n",
       "        vertical-align: top;\n",
       "    }\n",
       "\n",
       "    .dataframe thead th {\n",
       "        text-align: right;\n",
       "    }\n",
       "</style>\n",
       "<table border=\"1\" class=\"dataframe\">\n",
       "  <thead>\n",
       "    <tr style=\"text-align: right;\">\n",
       "      <th></th>\n",
       "      <th>total_bill</th>\n",
       "      <th>tip</th>\n",
       "      <th>sex</th>\n",
       "      <th>smoker</th>\n",
       "      <th>day</th>\n",
       "      <th>time</th>\n",
       "      <th>size</th>\n",
       "    </tr>\n",
       "  </thead>\n",
       "  <tbody>\n",
       "    <tr>\n",
       "      <td>0</td>\n",
       "      <td>16.99</td>\n",
       "      <td>1.01</td>\n",
       "      <td>Female</td>\n",
       "      <td>No</td>\n",
       "      <td>Sun</td>\n",
       "      <td>Dinner</td>\n",
       "      <td>2</td>\n",
       "    </tr>\n",
       "    <tr>\n",
       "      <td>1</td>\n",
       "      <td>10.34</td>\n",
       "      <td>1.66</td>\n",
       "      <td>Male</td>\n",
       "      <td>No</td>\n",
       "      <td>Sun</td>\n",
       "      <td>Dinner</td>\n",
       "      <td>3</td>\n",
       "    </tr>\n",
       "    <tr>\n",
       "      <td>2</td>\n",
       "      <td>21.01</td>\n",
       "      <td>3.50</td>\n",
       "      <td>Male</td>\n",
       "      <td>No</td>\n",
       "      <td>Sun</td>\n",
       "      <td>Dinner</td>\n",
       "      <td>3</td>\n",
       "    </tr>\n",
       "    <tr>\n",
       "      <td>3</td>\n",
       "      <td>23.68</td>\n",
       "      <td>3.31</td>\n",
       "      <td>Male</td>\n",
       "      <td>No</td>\n",
       "      <td>Sun</td>\n",
       "      <td>Dinner</td>\n",
       "      <td>2</td>\n",
       "    </tr>\n",
       "    <tr>\n",
       "      <td>4</td>\n",
       "      <td>24.59</td>\n",
       "      <td>3.61</td>\n",
       "      <td>Female</td>\n",
       "      <td>No</td>\n",
       "      <td>Sun</td>\n",
       "      <td>Dinner</td>\n",
       "      <td>4</td>\n",
       "    </tr>\n",
       "  </tbody>\n",
       "</table>\n",
       "</div>"
      ],
      "text/plain": [
       "   total_bill   tip     sex smoker  day    time  size\n",
       "0       16.99  1.01  Female     No  Sun  Dinner     2\n",
       "1       10.34  1.66    Male     No  Sun  Dinner     3\n",
       "2       21.01  3.50    Male     No  Sun  Dinner     3\n",
       "3       23.68  3.31    Male     No  Sun  Dinner     2\n",
       "4       24.59  3.61  Female     No  Sun  Dinner     4"
      ]
     },
     "execution_count": 20,
     "metadata": {},
     "output_type": "execute_result"
    }
   ],
   "source": [
    "import seaborn as sns\n",
    "tips=sns.load_dataset(\"tips\")\n",
    "df=tips.copy()\n",
    "df.head()"
   ]
  },
  {
   "cell_type": "code",
   "execution_count": 21,
   "metadata": {},
   "outputs": [
    {
     "data": {
      "text/html": [
       "<div>\n",
       "<style scoped>\n",
       "    .dataframe tbody tr th:only-of-type {\n",
       "        vertical-align: middle;\n",
       "    }\n",
       "\n",
       "    .dataframe tbody tr th {\n",
       "        vertical-align: top;\n",
       "    }\n",
       "\n",
       "    .dataframe thead th {\n",
       "        text-align: right;\n",
       "    }\n",
       "</style>\n",
       "<table border=\"1\" class=\"dataframe\">\n",
       "  <thead>\n",
       "    <tr style=\"text-align: right;\">\n",
       "      <th></th>\n",
       "      <th>count</th>\n",
       "      <th>mean</th>\n",
       "      <th>std</th>\n",
       "      <th>min</th>\n",
       "      <th>25%</th>\n",
       "      <th>50%</th>\n",
       "      <th>75%</th>\n",
       "      <th>max</th>\n",
       "    </tr>\n",
       "  </thead>\n",
       "  <tbody>\n",
       "    <tr>\n",
       "      <td>total_bill</td>\n",
       "      <td>244.0</td>\n",
       "      <td>19.785943</td>\n",
       "      <td>8.902412</td>\n",
       "      <td>3.07</td>\n",
       "      <td>13.3475</td>\n",
       "      <td>17.795</td>\n",
       "      <td>24.1275</td>\n",
       "      <td>50.81</td>\n",
       "    </tr>\n",
       "    <tr>\n",
       "      <td>tip</td>\n",
       "      <td>244.0</td>\n",
       "      <td>2.998279</td>\n",
       "      <td>1.383638</td>\n",
       "      <td>1.00</td>\n",
       "      <td>2.0000</td>\n",
       "      <td>2.900</td>\n",
       "      <td>3.5625</td>\n",
       "      <td>10.00</td>\n",
       "    </tr>\n",
       "    <tr>\n",
       "      <td>size</td>\n",
       "      <td>244.0</td>\n",
       "      <td>2.569672</td>\n",
       "      <td>0.951100</td>\n",
       "      <td>1.00</td>\n",
       "      <td>2.0000</td>\n",
       "      <td>2.000</td>\n",
       "      <td>3.0000</td>\n",
       "      <td>6.00</td>\n",
       "    </tr>\n",
       "  </tbody>\n",
       "</table>\n",
       "</div>"
      ],
      "text/plain": [
       "            count       mean       std   min      25%     50%      75%    max\n",
       "total_bill  244.0  19.785943  8.902412  3.07  13.3475  17.795  24.1275  50.81\n",
       "tip         244.0   2.998279  1.383638  1.00   2.0000   2.900   3.5625  10.00\n",
       "size        244.0   2.569672  0.951100  1.00   2.0000   2.000   3.0000   6.00"
      ]
     },
     "execution_count": 21,
     "metadata": {},
     "output_type": "execute_result"
    }
   ],
   "source": [
    "df.describe().T"
   ]
  },
  {
   "cell_type": "code",
   "execution_count": 22,
   "metadata": {},
   "outputs": [
    {
     "name": "stdout",
     "output_type": "stream",
     "text": [
      "Collecting researchpy\n",
      "  Downloading https://files.pythonhosted.org/packages/5c/c7/f3a7fd06fd9da99d46f159da91942106d1da32a4a6d08e453d5e7e8d81f2/researchpy-0.1.8-py3-none-any.whl\n",
      "Requirement already satisfied: scipy in c:\\programdata\\anaconda3\\lib\\site-packages (from researchpy) (1.3.1)\n",
      "Requirement already satisfied: pandas in c:\\programdata\\anaconda3\\lib\\site-packages (from researchpy) (0.25.1)\n",
      "Requirement already satisfied: numpy in c:\\programdata\\anaconda3\\lib\\site-packages (from researchpy) (1.16.5)\n",
      "Requirement already satisfied: statsmodels in c:\\programdata\\anaconda3\\lib\\site-packages (from researchpy) (0.10.1)\n",
      "Requirement already satisfied: pytz>=2017.2 in c:\\programdata\\anaconda3\\lib\\site-packages (from pandas->researchpy) (2019.3)\n",
      "Requirement already satisfied: python-dateutil>=2.6.1 in c:\\programdata\\anaconda3\\lib\\site-packages (from pandas->researchpy) (2.8.0)\n",
      "Requirement already satisfied: patsy>=0.4.0 in c:\\programdata\\anaconda3\\lib\\site-packages (from statsmodels->researchpy) (0.5.1)\n",
      "Requirement already satisfied: six>=1.5 in c:\\programdata\\anaconda3\\lib\\site-packages (from python-dateutil>=2.6.1->pandas->researchpy) (1.12.0)\n",
      "Installing collected packages: researchpy\n",
      "Successfully installed researchpy-0.1.8\n"
     ]
    }
   ],
   "source": [
    "!pip install researchpy"
   ]
  },
  {
   "cell_type": "code",
   "execution_count": 24,
   "metadata": {},
   "outputs": [],
   "source": [
    "import researchpy as rp"
   ]
  },
  {
   "cell_type": "code",
   "execution_count": 25,
   "metadata": {},
   "outputs": [
    {
     "name": "stdout",
     "output_type": "stream",
     "text": [
      "\n",
      "\n"
     ]
    },
    {
     "data": {
      "text/html": [
       "<div>\n",
       "<style scoped>\n",
       "    .dataframe tbody tr th:only-of-type {\n",
       "        vertical-align: middle;\n",
       "    }\n",
       "\n",
       "    .dataframe tbody tr th {\n",
       "        vertical-align: top;\n",
       "    }\n",
       "\n",
       "    .dataframe thead th {\n",
       "        text-align: right;\n",
       "    }\n",
       "</style>\n",
       "<table border=\"1\" class=\"dataframe\">\n",
       "  <thead>\n",
       "    <tr style=\"text-align: right;\">\n",
       "      <th></th>\n",
       "      <th>Variable</th>\n",
       "      <th>N</th>\n",
       "      <th>Mean</th>\n",
       "      <th>SD</th>\n",
       "      <th>SE</th>\n",
       "      <th>95% Conf.</th>\n",
       "      <th>Interval</th>\n",
       "    </tr>\n",
       "  </thead>\n",
       "  <tbody>\n",
       "    <tr>\n",
       "      <td>0</td>\n",
       "      <td>total_bill</td>\n",
       "      <td>244.0</td>\n",
       "      <td>19.785943</td>\n",
       "      <td>8.902412</td>\n",
       "      <td>0.569919</td>\n",
       "      <td>18.663332</td>\n",
       "      <td>20.908554</td>\n",
       "    </tr>\n",
       "    <tr>\n",
       "      <td>1</td>\n",
       "      <td>tip</td>\n",
       "      <td>244.0</td>\n",
       "      <td>2.998279</td>\n",
       "      <td>1.383638</td>\n",
       "      <td>0.088578</td>\n",
       "      <td>2.823799</td>\n",
       "      <td>3.172758</td>\n",
       "    </tr>\n",
       "    <tr>\n",
       "      <td>2</td>\n",
       "      <td>size</td>\n",
       "      <td>244.0</td>\n",
       "      <td>2.569672</td>\n",
       "      <td>0.951100</td>\n",
       "      <td>0.060888</td>\n",
       "      <td>2.449737</td>\n",
       "      <td>2.689608</td>\n",
       "    </tr>\n",
       "  </tbody>\n",
       "</table>\n",
       "</div>"
      ],
      "text/plain": [
       "     Variable      N       Mean        SD        SE  95% Conf.   Interval\n",
       "0  total_bill  244.0  19.785943  8.902412  0.569919  18.663332  20.908554\n",
       "1         tip  244.0   2.998279  1.383638  0.088578   2.823799   3.172758\n",
       "2        size  244.0   2.569672  0.951100  0.060888   2.449737   2.689608"
      ]
     },
     "execution_count": 25,
     "metadata": {},
     "output_type": "execute_result"
    }
   ],
   "source": [
    "rp.summary_cont(df[[\"total_bill\",\"tip\",\"size\"]])# sayısal degiskenler icin kullaniliyor"
   ]
  },
  {
   "cell_type": "code",
   "execution_count": 26,
   "metadata": {},
   "outputs": [],
   "source": [
    "#SE standart hata\n",
    "#ve güven aralıklarını bize verdi"
   ]
  },
  {
   "cell_type": "code",
   "execution_count": 27,
   "metadata": {},
   "outputs": [
    {
     "data": {
      "text/html": [
       "<div>\n",
       "<style scoped>\n",
       "    .dataframe tbody tr th:only-of-type {\n",
       "        vertical-align: middle;\n",
       "    }\n",
       "\n",
       "    .dataframe tbody tr th {\n",
       "        vertical-align: top;\n",
       "    }\n",
       "\n",
       "    .dataframe thead th {\n",
       "        text-align: right;\n",
       "    }\n",
       "</style>\n",
       "<table border=\"1\" class=\"dataframe\">\n",
       "  <thead>\n",
       "    <tr style=\"text-align: right;\">\n",
       "      <th></th>\n",
       "      <th>Variable</th>\n",
       "      <th>Outcome</th>\n",
       "      <th>Count</th>\n",
       "      <th>Percent</th>\n",
       "    </tr>\n",
       "  </thead>\n",
       "  <tbody>\n",
       "    <tr>\n",
       "      <td>0</td>\n",
       "      <td>sex</td>\n",
       "      <td>Male</td>\n",
       "      <td>157</td>\n",
       "      <td>64.34</td>\n",
       "    </tr>\n",
       "    <tr>\n",
       "      <td>1</td>\n",
       "      <td></td>\n",
       "      <td>Female</td>\n",
       "      <td>87</td>\n",
       "      <td>35.66</td>\n",
       "    </tr>\n",
       "    <tr>\n",
       "      <td>2</td>\n",
       "      <td>smoker</td>\n",
       "      <td>No</td>\n",
       "      <td>151</td>\n",
       "      <td>61.89</td>\n",
       "    </tr>\n",
       "    <tr>\n",
       "      <td>3</td>\n",
       "      <td></td>\n",
       "      <td>Yes</td>\n",
       "      <td>93</td>\n",
       "      <td>38.11</td>\n",
       "    </tr>\n",
       "    <tr>\n",
       "      <td>4</td>\n",
       "      <td>day</td>\n",
       "      <td>Sat</td>\n",
       "      <td>87</td>\n",
       "      <td>35.66</td>\n",
       "    </tr>\n",
       "    <tr>\n",
       "      <td>5</td>\n",
       "      <td></td>\n",
       "      <td>Sun</td>\n",
       "      <td>76</td>\n",
       "      <td>31.15</td>\n",
       "    </tr>\n",
       "    <tr>\n",
       "      <td>6</td>\n",
       "      <td></td>\n",
       "      <td>Thur</td>\n",
       "      <td>62</td>\n",
       "      <td>25.41</td>\n",
       "    </tr>\n",
       "    <tr>\n",
       "      <td>7</td>\n",
       "      <td></td>\n",
       "      <td>Fri</td>\n",
       "      <td>19</td>\n",
       "      <td>7.79</td>\n",
       "    </tr>\n",
       "  </tbody>\n",
       "</table>\n",
       "</div>"
      ],
      "text/plain": [
       "  Variable Outcome  Count  Percent\n",
       "0      sex    Male    157    64.34\n",
       "1           Female     87    35.66\n",
       "2   smoker      No    151    61.89\n",
       "3              Yes     93    38.11\n",
       "4      day     Sat     87    35.66\n",
       "5              Sun     76    31.15\n",
       "6             Thur     62    25.41\n",
       "7              Fri     19     7.79"
      ]
     },
     "execution_count": 27,
     "metadata": {},
     "output_type": "execute_result"
    }
   ],
   "source": [
    "rp.summary_cat(df[[\"sex\",\"smoker\",\"day\"]])"
   ]
  },
  {
   "cell_type": "code",
   "execution_count": 28,
   "metadata": {},
   "outputs": [
    {
     "data": {
      "text/html": [
       "<div>\n",
       "<style scoped>\n",
       "    .dataframe tbody tr th:only-of-type {\n",
       "        vertical-align: middle;\n",
       "    }\n",
       "\n",
       "    .dataframe tbody tr th {\n",
       "        vertical-align: top;\n",
       "    }\n",
       "\n",
       "    .dataframe thead th {\n",
       "        text-align: right;\n",
       "    }\n",
       "</style>\n",
       "<table border=\"1\" class=\"dataframe\">\n",
       "  <thead>\n",
       "    <tr style=\"text-align: right;\">\n",
       "      <th></th>\n",
       "      <th>tip</th>\n",
       "      <th>total_bill</th>\n",
       "    </tr>\n",
       "  </thead>\n",
       "  <tbody>\n",
       "    <tr>\n",
       "      <td>tip</td>\n",
       "      <td>1.914455</td>\n",
       "      <td>8.323502</td>\n",
       "    </tr>\n",
       "    <tr>\n",
       "      <td>total_bill</td>\n",
       "      <td>8.323502</td>\n",
       "      <td>79.252939</td>\n",
       "    </tr>\n",
       "  </tbody>\n",
       "</table>\n",
       "</div>"
      ],
      "text/plain": [
       "                 tip  total_bill\n",
       "tip         1.914455    8.323502\n",
       "total_bill  8.323502   79.252939"
      ]
     },
     "execution_count": 28,
     "metadata": {},
     "output_type": "execute_result"
    }
   ],
   "source": [
    "#kovaryans :degiskenlerin iliskilerini olcen degiskenlik olcusudur\n",
    "df[[\"tip\",\"total_bill\"]].cov()"
   ]
  },
  {
   "cell_type": "code",
   "execution_count": 29,
   "metadata": {},
   "outputs": [
    {
     "data": {
      "text/html": [
       "<div>\n",
       "<style scoped>\n",
       "    .dataframe tbody tr th:only-of-type {\n",
       "        vertical-align: middle;\n",
       "    }\n",
       "\n",
       "    .dataframe tbody tr th {\n",
       "        vertical-align: top;\n",
       "    }\n",
       "\n",
       "    .dataframe thead th {\n",
       "        text-align: right;\n",
       "    }\n",
       "</style>\n",
       "<table border=\"1\" class=\"dataframe\">\n",
       "  <thead>\n",
       "    <tr style=\"text-align: right;\">\n",
       "      <th></th>\n",
       "      <th>tip</th>\n",
       "      <th>total_bill</th>\n",
       "    </tr>\n",
       "  </thead>\n",
       "  <tbody>\n",
       "    <tr>\n",
       "      <td>tip</td>\n",
       "      <td>1.000000</td>\n",
       "      <td>0.675734</td>\n",
       "    </tr>\n",
       "    <tr>\n",
       "      <td>total_bill</td>\n",
       "      <td>0.675734</td>\n",
       "      <td>1.000000</td>\n",
       "    </tr>\n",
       "  </tbody>\n",
       "</table>\n",
       "</div>"
      ],
      "text/plain": [
       "                 tip  total_bill\n",
       "tip         1.000000    0.675734\n",
       "total_bill  0.675734    1.000000"
      ]
     },
     "execution_count": 29,
     "metadata": {},
     "output_type": "execute_result"
    }
   ],
   "source": [
    "#korelasyon\n",
    "df[[\"tip\",\"total_bill\"]].corr()"
   ]
  },
  {
   "cell_type": "markdown",
   "metadata": {},
   "source": [
    "* Güven Araligi : Anakütle parametresinin\n",
    "    tahmini degerini kapsayabilecek iki sayidan olusan\n",
    "    bir aralık bulunmasıdır"
   ]
  },
  {
   "cell_type": "markdown",
   "metadata": {},
   "source": [
    "* güven araligi: olcumun hassasiyetinin bir gostergesidir "
   ]
  },
  {
   "cell_type": "code",
   "execution_count": 30,
   "metadata": {},
   "outputs": [],
   "source": [
    "# yani biz orneklem dagılımına bakarken ortalamaları hesaplamıstık.\n",
    "#bu hesapladıgımız deger tamam yakın deger ama \n",
    "# bu degeri belli bir guven aralıgı ile söylemek isteriz"
   ]
  },
  {
   "cell_type": "code",
   "execution_count": null,
   "metadata": {},
   "outputs": [],
   "source": [
    "# web sitesinde gecirilen sürenin güven aralıgı nedir\n",
    "# ortalama: 180 sn\n",
    "# standart sapma: 40 sn\n",
    "\n",
    "# öyle bir hesaplama yapıyoruz ki web sitesinde gecirilen süre \n",
    "# istatistiksel olarak %95 güvenilirlikle 172-188 sn arasındadır\n",
    "# yani gerceklestrilecek olan 100 denemeden 95 inde 172 ile 188 arasındadır\n",
    "# belli bir yanılma payıyla %5 oluyor oda degerleri sunmus oluyor"
   ]
  },
  {
   "cell_type": "markdown",
   "metadata": {},
   "source": [
    "* Guven aralıgı nasıl hesaplanır?\n"
   ]
  },
  {
   "cell_type": "markdown",
   "metadata": {},
   "source": [
    "* adım1: n, ortalamayı ve standart sapmayı bul\n",
    "\n",
    "n=100,   \n",
    "ortlama=180,  \n",
    "standart sapma=40"
   ]
  },
  {
   "cell_type": "markdown",
   "metadata": {},
   "source": [
    "* adım 2: güven aralıgına karar ver.\n",
    "    95 mi 99 mu\n",
    "    \n",
    "    güven aralıgını % 95 olarak seciyoruz\n",
    "    \n",
    "    z tablo degerini hesapla(1,96 - 2,57)\n",
    "    \n",
    "    bu degerimiz 1,96 dır."
   ]
  },
  {
   "cell_type": "markdown",
   "metadata": {},
   "source": [
    "* adım3: yukarıdaki degerleri kullanarak guven\n",
    "    araligi hesapla\n",
    "    \n",
    "    x+-z*s/kökn\n",
    "    \n",
    "    180+-1,96*40/kök100"
   ]
  },
  {
   "cell_type": "markdown",
   "metadata": {},
   "source": [
    "* Sonuc: 180+- 7,84 yani 172 ile 188 arasindadir"
   ]
  },
  {
   "cell_type": "markdown",
   "metadata": {},
   "source": [
    "## İş Uygulamasi: Fiyat Stratejisi Karar Destek Sistemi"
   ]
  },
  {
   "cell_type": "markdown",
   "metadata": {},
   "source": [
    "* Problem : CEO fiyat belirleme konusunda bilimsel bir dayanak ve esneklik isteniyor"
   ]
  },
  {
   "cell_type": "markdown",
   "metadata": {},
   "source": [
    "* Detaylar:\n",
    "    - Satıcı ,alıcı ve bir ürün var\n",
    "    - Alıcılara ürüne ne kadar ücret ödersiniz diye soruluyor\n",
    "    - Optimum fiyat bilimsel ve esnek olarak bulunmak isteniyor"
   ]
  },
  {
   "cell_type": "code",
   "execution_count": 31,
   "metadata": {},
   "outputs": [],
   "source": [
    "# Alıcılara ürün gösteriliyor ve onlardan ürünün\n",
    "#fiyatı hakkında teklif isteniyor. Burada öyle bir fiyat belirlemeliyiz ki\n",
    "# optimum fiyat bilimsel ve esnek olarak bulunmak isteniyor"
   ]
  },
  {
   "cell_type": "markdown",
   "metadata": {},
   "source": [
    "## İş Uygulamasi : Fiyat Stratejisi Karar Destek"
   ]
  },
  {
   "cell_type": "code",
   "execution_count": 32,
   "metadata": {},
   "outputs": [],
   "source": [
    "import numpy as np\n",
    "fiyatlar=np.random.randint(10,110,1000)"
   ]
  },
  {
   "cell_type": "code",
   "execution_count": 33,
   "metadata": {},
   "outputs": [
    {
     "data": {
      "text/plain": [
       "58.492"
      ]
     },
     "execution_count": 33,
     "metadata": {},
     "output_type": "execute_result"
    }
   ],
   "source": [
    "fiyatlar.mean()"
   ]
  },
  {
   "cell_type": "code",
   "execution_count": 34,
   "metadata": {},
   "outputs": [],
   "source": [
    "import statsmodels.stats.api as sms"
   ]
  },
  {
   "cell_type": "code",
   "execution_count": 36,
   "metadata": {},
   "outputs": [
    {
     "data": {
      "text/plain": [
       "(56.67953887736034, 60.30446112263965)"
      ]
     },
     "execution_count": 36,
     "metadata": {},
     "output_type": "execute_result"
    }
   ],
   "source": [
    "sms.DescrStatsW(fiyatlar).tconfint_mean()"
   ]
  },
  {
   "cell_type": "code",
   "execution_count": 37,
   "metadata": {},
   "outputs": [],
   "source": [
    "#Kullanıcıların ödemeyi göze aldıgı ücret %95 güvenilirlikle\n",
    "#56 ile 60 arasindadir.\n",
    "# bu bilimsel olarak belirlenmesi gereken en iyi fiyat aralıgıdır"
   ]
  },
  {
   "cell_type": "markdown",
   "metadata": {},
   "source": [
    "# OLASILIGA GİRİS VE OLASİLİK DAGİLİMLARİ"
   ]
  },
  {
   "cell_type": "code",
   "execution_count": null,
   "metadata": {},
   "outputs": [],
   "source": [
    "#olayların olabirliliginin sayısal ifadesidir\n"
   ]
  },
  {
   "cell_type": "markdown",
   "metadata": {},
   "source": [
    "* Rassal Degisken? \n",
    "\n",
    "- Degerlerini bir deneyin sonuclarından alan degiskene rassal degisken denir"
   ]
  },
  {
   "cell_type": "markdown",
   "metadata": {},
   "source": [
    "* Dagılım nedir?\n",
    "- Olayların sayısal karsılıklarının ortaya cıkardıgı yapıya dagılım denir \n",
    "* olasılık dagılımı?\n",
    "- olayların sayısal karsılıklarının gerceklesme olasılıgının dagılımı\n",
    "* olasılık fonk: olasılık hesaplamaya yarayan fonksiyon\n"
   ]
  },
  {
   "cell_type": "markdown",
   "metadata": {},
   "source": [
    "## Kesikli Olasılık Dagılımları\n",
    "* Bernoulli \n",
    "* Binom\n",
    "* Poisson\n",
    "\n",
    "## Surekli Olasılık Dagılımları\n",
    "* Normal Dagılım \n",
    "* Uniform Dagılım \n",
    "* Üstel Dagılım"
   ]
  },
  {
   "cell_type": "markdown",
   "metadata": {},
   "source": [
    "## Kesikli Olasılık Dagılımından \n",
    " ## Bernoulli Dagılımı\n",
    " * basarılı basarısız ,olumlu-olumsuz şeklinde iki sonuclu oalylar ile ilgilenildiginde kullanılan kesikli olasılık dagılımıdır.\n",
    " \n",
    " * kesikli olması demek 1 yada 0 demektir\n",
    " * sürekli olması demek 1 ve 2 arasında bir sürü deger alması demek\n",
    " \n",
    " - f(x;p) =p üssü x*(1-p) üssü 1-x\n",
    " - p=olasılık degeri(örn : yazı ve tura gelme olasılıgı) \n",
    " - x € {0,1}  =örn yazı icin 1 tura icin 0 seklinde\n",
    " \n",
    "*  E(x) = p ----beklenen deger\n",
    "* Var(x)---p*q=p*(1-p) -----dagılımını ifade eder\n",
    "- var= ilgili olayın gerceklesme olasılgı * gerceklesmeme olasılıgı"
   ]
  },
  {
   "cell_type": "markdown",
   "metadata": {},
   "source": [
    "## Bernoulli Dagılımı Uygulama"
   ]
  },
  {
   "cell_type": "code",
   "execution_count": 3,
   "metadata": {},
   "outputs": [],
   "source": [
    "from scipy.stats import bernoulli"
   ]
  },
  {
   "cell_type": "code",
   "execution_count": 4,
   "metadata": {},
   "outputs": [],
   "source": [
    "# p iki sonuclu olaydır\n",
    "p=0.6\n"
   ]
  },
  {
   "cell_type": "code",
   "execution_count": 6,
   "metadata": {},
   "outputs": [
    {
     "data": {
      "text/plain": [
       "0.6"
      ]
     },
     "execution_count": 6,
     "metadata": {},
     "output_type": "execute_result"
    }
   ],
   "source": [
    "rv=bernoulli(p)\n",
    "rv.pmf(k=1)# ilgilendigimiz olay k=1 true olması olasılıgı "
   ]
  },
  {
   "cell_type": "code",
   "execution_count": 7,
   "metadata": {},
   "outputs": [
    {
     "data": {
      "text/plain": [
       "0.4"
      ]
     },
     "execution_count": 7,
     "metadata": {},
     "output_type": "execute_result"
    }
   ],
   "source": [
    "rv.pmf(k=0)# yazı olma olasılıgı"
   ]
  },
  {
   "cell_type": "markdown",
   "metadata": {},
   "source": [
    "# Buyuk Sayılar Yasası"
   ]
  },
  {
   "cell_type": "markdown",
   "metadata": {},
   "source": [
    "* Bir rassal degiskenin uzun vadeli kararlıgını tanımlayan olasılık teoremidir"
   ]
  },
  {
   "cell_type": "code",
   "execution_count": 3,
   "metadata": {},
   "outputs": [
    {
     "name": "stdout",
     "output_type": "stream",
     "text": [
      "Atıs Sayisi: 2 --- Yazı Olasılıgı:0.50\n",
      "Atıs Sayisi: 4 --- Yazı Olasılıgı:0.00\n",
      "Atıs Sayisi: 8 --- Yazı Olasılıgı:0.62\n",
      "Atıs Sayisi: 16 --- Yazı Olasılıgı:0.44\n",
      "Atıs Sayisi: 32 --- Yazı Olasılıgı:0.47\n",
      "Atıs Sayisi: 64 --- Yazı Olasılıgı:0.56\n",
      "Atıs Sayisi: 128 --- Yazı Olasılıgı:0.51\n",
      "Atıs Sayisi: 256 --- Yazı Olasılıgı:0.53\n",
      "Atıs Sayisi: 512 --- Yazı Olasılıgı:0.53\n",
      "Atıs Sayisi: 1024 --- Yazı Olasılıgı:0.50\n",
      "Atıs Sayisi: 2048 --- Yazı Olasılıgı:0.49\n",
      "Atıs Sayisi: 4096 --- Yazı Olasılıgı:0.49\n",
      "Atıs Sayisi: 8192 --- Yazı Olasılıgı:0.50\n",
      "Atıs Sayisi: 16384 --- Yazı Olasılıgı:0.50\n",
      "Atıs Sayisi: 32768 --- Yazı Olasılıgı:0.50\n",
      "Atıs Sayisi: 65536 --- Yazı Olasılıgı:0.50\n",
      "Atıs Sayisi: 131072 --- Yazı Olasılıgı:0.50\n",
      "Atıs Sayisi: 262144 --- Yazı Olasılıgı:0.50\n",
      "Atıs Sayisi: 524288 --- Yazı Olasılıgı:0.50\n",
      "Atıs Sayisi: 1048576 --- Yazı Olasılıgı:0.50\n"
     ]
    }
   ],
   "source": [
    "import numpy as np\n",
    "rng= np.random.RandomState(123)\n",
    "for i in np.arange(1,21):\n",
    "    deney_sayisi=2**i\n",
    "    yazi_turalar=rng.randint(0,2,size=deney_sayisi)\n",
    "    yazi_olasiliklari=np.mean(yazi_turalar)\n",
    "    print(\"Atıs Sayisi:\",deney_sayisi,\"---\",'Yazı Olasılıgı:%.2f'% (yazi_olasiliklari))"
   ]
  },
  {
   "cell_type": "code",
   "execution_count": 5,
   "metadata": {},
   "outputs": [],
   "source": [
    "# ne kadar cok deney(atıs) yaparsak yazı ve tura oranı birbirine yakalasacaktır\n",
    "# deney sayısı artıkca olasılıksal ifadeler kendini ortaya koyabilmektedir"
   ]
  },
  {
   "cell_type": "markdown",
   "metadata": {},
   "source": [
    "# Binom Dagılımı\n",
    "* Binom dagılımı, bagımsız n deneme sonucu k basarılı olma olasılıgı ile ilgilenildiginde  kullanılan dagılımdır\n",
    "* E(x)=n*p\n",
    "* Var(x)=n*p(1-p)\n",
    "\n",
    "* n defa bir şey denenicek ve bu olayın basarılı olma olayıyla ilgilenecegiz.\n",
    "* Bernoulli nin n defa gerceklestirilmis halidir.\n",
    "* n deneme sayısı\n",
    "* p basarı sayısı\n",
    "* Ornek: Bir madeni para 4 kere atılıyor.2 kere yazı gelme olasılıgı nedir?"
   ]
  },
  {
   "cell_type": "markdown",
   "metadata": {},
   "source": [
    "## İs Uygulaması : Reklam Harcamasi Optimizasyonu"
   ]
  },
  {
   "cell_type": "markdown",
   "metadata": {},
   "source": [
    "* Problem: Cesitli mecralara reklam veriliyor, reklamların tıklanma \n",
    "    ve geri dönüsüm oranları optimize \n",
    "    edilmeye calısılıyor. Buna yonelik olarak belirli bir mecrada\n",
    "    cesitli senaryolara göre reklama tıklanma olasılıkları\n",
    "    hesaplanmak isteniliyor.\n",
    "    * Detaylar:\n",
    "    - Bir mecrada reklam verilecek\n",
    "    - Dagılım ve reklama tıklanma olasılıgı biliniyor(0.01)\n",
    "    - Soru: Reklamı 100 kisi gordugunde 1,5,10 tıklanması olasılıgı nedir?\n",
    "    * f(1;100,0.01)=0.37 - bir kisinin tıklaması\n",
    "    * f(5;100,0.01)=0.00289779\n",
    "    * f(10;100,0.01)=0.00000007\n",
    "    "
   ]
  },
  {
   "cell_type": "code",
   "execution_count": 6,
   "metadata": {},
   "outputs": [],
   "source": [
    "# 10 kisinin tıklaması icin reklamı kac kisinin gormesi lazım\n",
    "#hedeflerimize gore optimize etmeye calısırız"
   ]
  },
  {
   "cell_type": "code",
   "execution_count": 7,
   "metadata": {},
   "outputs": [],
   "source": [
    "from scipy.stats import binom"
   ]
  },
  {
   "cell_type": "code",
   "execution_count": 9,
   "metadata": {},
   "outputs": [
    {
     "name": "stdout",
     "output_type": "stream",
     "text": [
      "0.36972963764971983\n",
      "0.0028977871237616114\n",
      "7.006035693977161e-08\n"
     ]
    }
   ],
   "source": [
    "p=0.01\n",
    "n=100\n",
    "rv=binom(n,p)\n",
    "print(rv.pmf(1))# reklamı 1 ksinin gormesi\n",
    "print(rv.pmf(5))# 5 kisinin gormesi\n",
    "print(rv.pmf(10)) #10 kisinin gormesi"
   ]
  },
  {
   "cell_type": "markdown",
   "metadata": {},
   "source": [
    "# Poisson Dagılımı\n",
    "* Belirli bir zaman aralıgında belirli bir alanda NADİREN rastlanan olayların olasılıklarını hesaplamak icin kullanılır\n",
    " * E(X)=Lambda\n",
    " * Var(X)=Lambda\n",
    " - Lambda beklenen sonucun ortalama gerceklesme sayısıdır.\n",
    " - DİKKAT: Lambda hem ortalamayı hemde varyansı ifade eder"
   ]
  },
  {
   "cell_type": "code",
   "execution_count": 10,
   "metadata": {},
   "outputs": [],
   "source": [
    "# Poisson dagılımın lambda parametresi hem ortalamayı \n",
    "#hemde varyansı ifade etmektedir"
   ]
  },
  {
   "cell_type": "markdown",
   "metadata": {},
   "source": [
    "# Örnekler \n",
    " * 10 bin kelimeden olusan bir kitapta hatalı kelime sayısı\n",
    " * 4000 ögrencili okulda not girisinde hata yapılması\n",
    " * bir is gününde cagrı merkezine gelen taktir sayısı\n",
    " * Kredi kartı islemlerinde sahtekarlık olması  \n",
    " * Rötora düşen ucus sefer sayısı"
   ]
  },
  {
   "cell_type": "code",
   "execution_count": null,
   "metadata": {},
   "outputs": [],
   "source": [
    "# n büyük p kücük\n",
    "# n>50 -----bu durum1 \n",
    "# n*p <5 -----bu durum2 \n",
    "# durum1 ve durum2 saglanıyorsa buna nadir olay denir"
   ]
  },
  {
   "cell_type": "code",
   "execution_count": null,
   "metadata": {},
   "outputs": [],
   "source": [
    "# Son olarak; Rassal degiskenler iki sonuclu olmalı\n",
    "# Aynı kosullar altında gerceklesmeli\n",
    "#Rassal denemeler birbirinden bagımsız olmalıdır\n"
   ]
  },
  {
   "cell_type": "code",
   "execution_count": null,
   "metadata": {},
   "outputs": [],
   "source": [
    "#POİSSON ORNEK: Bir unide 5000 not girisinde\n",
    "# 5 tane notun yanlıs girilmesi olasılıgı nedir?\n",
    "# Dagılımın poisson oldugu biliniyor ve lambda=0.2\n",
    "p(5;0.2)=0.0000021"
   ]
  },
  {
   "cell_type": "markdown",
   "metadata": {},
   "source": [
    "# İş Uygulaması : İlan Girisi Hata Olasılıklarının Hesaplanması"
   ]
  },
  {
   "cell_type": "markdown",
   "metadata": {},
   "source": [
    "* Problem: Hatalı ilan girisi olasılıkları hesaplanmak isteniyor\n",
    "* Detaylar: - Bir yıl ölcüm yapılmıs\n",
    "- dagılım biliniyor ve lambda 0.1 (ortalama hata sayısı)\n",
    "- hiç hata olmaması 3 hata olması ve 5 hata olma olasılıkları nedir?\n",
    "* f(0;0.1)=0.9\n",
    "* f(3;0.1)=0.00015\n",
    "* f(5;0.1)=0.0000000754"
   ]
  },
  {
   "cell_type": "code",
   "execution_count": 14,
   "metadata": {},
   "outputs": [],
   "source": [
    "from scipy.stats import poisson"
   ]
  },
  {
   "cell_type": "code",
   "execution_count": 21,
   "metadata": {},
   "outputs": [
    {
     "data": {
      "text/plain": [
       "0.00015080623633932676"
      ]
     },
     "execution_count": 21,
     "metadata": {},
     "output_type": "execute_result"
    }
   ],
   "source": [
    "#mu=lambda degeridir\n",
    "rv=poisson(mu=0.1)\n",
    "rv.pmf(k=0)# hic hata olmaması\n",
    "rv.pmf(k=3)# 3 hata olması "
   ]
  },
  {
   "cell_type": "markdown",
   "metadata": {},
   "source": [
    "# NORMAL DAGILIM\n",
    "* Normal dagıldıgı bilinen sürekli rassal degiskenler icin olasılık hesaplaması için kullanılır"
   ]
  },
  {
   "cell_type": "markdown",
   "metadata": {},
   "source": [
    "## İs Uygulamasi: Ürün Satıs Olasılıklarının Hesaplanması\n",
    "* Problem: Bir yatırım/toplantı öncesinde gelecek ay ile ilgili satısların belirli degerlerde gerceklesmesi olasılıkları belirlenmek isteniyor\n",
    "- Detaylar:\n",
    "   * Dagılımın normal oldugu biliniyor\n",
    "   * Aylık ortalama satıs sayısı 80K ,Standart sapması 5K,\n",
    "   * 90K ' dan fazla satıs yapma olasılıgı nedir?\n",
    "   \n",
    "   p(x>90)=0.0228 \n",
    "   ..,/\\... =normal dagılım seklidir.\n",
    "   90 dan yüksek olan yerin alanı önemlidir"
   ]
  },
  {
   "cell_type": "code",
   "execution_count": 2,
   "metadata": {},
   "outputs": [],
   "source": [
    "from scipy.stats import norm\n"
   ]
  },
  {
   "cell_type": "code",
   "execution_count": 7,
   "metadata": {},
   "outputs": [
    {
     "data": {
      "text/plain": [
       "0.02275013194817921"
      ]
     },
     "execution_count": 7,
     "metadata": {},
     "output_type": "execute_result"
    }
   ],
   "source": [
    "# 90 dan fazla olması\n",
    "#cdf kumulatif yogunluk konksiyonu(kumulatif density function)\n",
    "1 - norm.cdf(90,80,5)"
   ]
  },
  {
   "cell_type": "code",
   "execution_count": 8,
   "metadata": {},
   "outputs": [
    {
     "data": {
      "text/plain": [
       "0.9772498680518208"
      ]
     },
     "execution_count": 8,
     "metadata": {},
     "output_type": "execute_result"
    }
   ],
   "source": [
    "# 70 den fazla olması\n",
    "1- norm.cdf(70,80,5)"
   ]
  },
  {
   "cell_type": "code",
   "execution_count": 11,
   "metadata": {},
   "outputs": [
    {
     "data": {
      "text/plain": [
       "0.08075665923377107"
      ]
     },
     "execution_count": 11,
     "metadata": {},
     "output_type": "execute_result"
    }
   ],
   "source": [
    "# 73' den az olması\n",
    "norm.cdf(73,80,5)"
   ]
  },
  {
   "cell_type": "code",
   "execution_count": 12,
   "metadata": {},
   "outputs": [
    {
     "data": {
      "text/plain": [
       "0.13590512198327787"
      ]
     },
     "execution_count": 12,
     "metadata": {},
     "output_type": "execute_result"
    }
   ],
   "source": [
    "# 85 ile 90 arasında olması\n",
    "norm.cdf(90,80,5)- norm.cdf(85,80,5)"
   ]
  },
  {
   "cell_type": "markdown",
   "metadata": {},
   "source": [
    "# HİPOTEZ TESTİ NEDİR?\n",
    "* Bir inanışı test etmek için kullanılan istatiksel bir tekniktir"
   ]
  },
  {
   "cell_type": "markdown",
   "metadata": {},
   "source": [
    "## Hipotezler ve Türleri\n",
    "- m:mü  ortalama demektir\n",
    "* H0:m=50---> \n",
    "* H1:m!=50----> alternatif hipotez\n",
    "****************\n",
    "* H0:m<=50---> \n",
    "* H1:m>50----> alternatif hipotez\n",
    "****************\n",
    "* H0:m>50---> \n",
    "* H1:m<50----> alternatif hipotez"
   ]
  },
  {
   "cell_type": "markdown",
   "metadata": {},
   "source": [
    "## Hata Tipleri\n",
    "* H0 dogruysa H0 reddedilmedi-----alfa hatası----(1-alfa) = güven düzeyi\n",
    "* H0 yanlıs H0 reddedildi deriz!!-----beta hatası -----(1-beta) = testin gücü"
   ]
  },
  {
   "cell_type": "markdown",
   "metadata": {},
   "source": [
    "## p value\n",
    "* p < 0.05  :)"
   ]
  },
  {
   "cell_type": "code",
   "execution_count": 14,
   "metadata": {},
   "outputs": [],
   "source": [
    "# Hipotez testlerinin sonuclarını degerlendirmek\n",
    "#üzere programlar tarafından p-value degeri verilir.Bu deger \n",
    "#üzerinden kolayca yorum yapabiliriz\n",
    "- eger buldugumuz p value degeri 0.05 ten kücükse\n",
    "ilgili h0 hipotezinin reddetmişiz demektir.\n",
    "alfa<0.05 = ho reddedildi :)\n",
    "    bazı durumlarda;\n",
    "    \n",
    "    NOT: Dagılım testlerinde h0 reddedilmek istenilmez.\n",
    "        Cünkü h0 örnek dagılımı ile teorik dagılımı \n",
    "        arasında fark yoktur  der.burada h0 ı reddetmek istemeyiz.\n",
    "        p<0.05 olması durumuna sevinemeyiz\n",
    "    "
   ]
  },
  {
   "cell_type": "markdown",
   "metadata": {},
   "source": [
    "# Hipotez Testi Adımları"
   ]
  },
  {
   "cell_type": "code",
   "execution_count": 2,
   "metadata": {},
   "outputs": [],
   "source": [
    "# A dım1: Hipotezlerinin kurulması ve yönlerinin belirlenmesi\n",
    "#H0 ve H1 ifadelerini yazmak"
   ]
  },
  {
   "cell_type": "code",
   "execution_count": 3,
   "metadata": {},
   "outputs": [],
   "source": [
    "#Adım2: Anlamlılık Düzeyinin ve tablo degerinin belirlenmesi\n",
    "# alfa degeri=0.05 olacagını bilmek\n",
    "# z ile calıısıyosak z ile\n",
    "# t ile calısıyorsak t ile bulmus olacagız\n"
   ]
  },
  {
   "cell_type": "code",
   "execution_count": 4,
   "metadata": {},
   "outputs": [],
   "source": [
    "#Adım3 : Test istatistiginin belirlenmesi ve test istatisliginin hesaplanması\n",
    "# tek orneklem yada iki orneklem ile hangi test istatitigini kullanacagını bilmek"
   ]
  },
  {
   "cell_type": "code",
   "execution_count": null,
   "metadata": {},
   "outputs": [],
   "source": [
    "# Adım4: Hesaplanan test istatigi ile alfaya karsılık gelen \n",
    "# tablo degerinin karsılastırılması\n",
    "#Test istatistigi (Zh) > tablo degeri(Zt) ise H0 red"
   ]
  },
  {
   "cell_type": "code",
   "execution_count": 5,
   "metadata": {},
   "outputs": [],
   "source": [
    "# biz p value degerine bakarakta bu tabloların degerlerini\n",
    "# yorumluyo olucaz."
   ]
  },
  {
   "cell_type": "code",
   "execution_count": null,
   "metadata": {},
   "outputs": [],
   "source": []
  },
  {
   "cell_type": "markdown",
   "metadata": {},
   "source": [
    "# Tek Orneklem T Testi"
   ]
  },
  {
   "cell_type": "markdown",
   "metadata": {},
   "source": [
    "Popülasyon ortalaması(anakitle ortalaması)  ile varsayımsal bir deger arasında istatistiksel olarak anlamlı bir fark olup olmadıgını test etmek icin kullanılan parametrik bir testir."
   ]
  },
  {
   "cell_type": "markdown",
   "metadata": {},
   "source": [
    "1.Hipotezler \n",
    "H0:m=50    \n",
    "H1:m!=50\n",
    "    \n",
    "H0:m<=50    \n",
    "H1:m>50\n",
    "    \n",
    "H0:m>=50    \n",
    "H1:m< 50\n",
    "2. t ve z dagılımlarına bakıcaz   \n",
    "test istatistikleri:\n",
    "t= x - m / (s/kök n)\n",
    "z= x- m  / (varyans/kök n)\n",
    "\n",
    "Not:\n",
    "1) Eger,Anakütle standart sapması BİLİNİYORSA z istatigi kullanılır.\n",
    "2) BİLİNMİYORSA ve n>30 ise z istatistigi kullanılır.\n",
    "3) Anakütle standart sapması bilinmiyor ve n<30 ise t istatistigi kullanılır.\n",
    "    \n",
    "Ornek sayısı artıkca arttıkca t dagılımı normal dagılıma yaklasacagından dolayı \n",
    "n büyüdükce t ,z (normal dagılım) ye yaklasır\n",
    "\n",
    "Tek orneklem t testinin varsayımları nelerdir?\n",
    "bu varsayımları test etmemiz gerek\n",
    "eger varsayım saglanıyorsa ilgili hipotez testini kullanıcaz ,saglanmıyorsa nonparametrik hipotez testlerini ele alıcaz\n",
    "- \n",
    "SON OLARAK; Elimizde tek bir örnekleme (tek bir örneklemin ortalmasına) ilişkin test yapma ihtiyacı oldugunda kullanılır.\n",
    "Örn: Bir lçedeki yaş ortalamasıyla ilgili bir hipotez testi kurmak istedigimizde  bunu kullanırız\n",
    "Örn: Web sitemizde insanların gecirdigig süre hakkında bir hipotez kurmak istedigimiizde kullanılır.-----> 180 sn den fazladır azdır gibi vb.\n"
   ]
  },
  {
   "cell_type": "markdown",
   "metadata": {},
   "source": [
    "# İş Uyfulaması: Ürün Satın Alma Adım Optimizasyonu"
   ]
  },
  {
   "cell_type": "code",
   "execution_count": 7,
   "metadata": {},
   "outputs": [],
   "source": [
    "# Bir e ticaret sirketi ürün satma sürecinde 4 yada 5 adım var.\n",
    "# Bu adımların optimize edilmesi gibi cabalar var.\n",
    "# Burada ortaya cıkan sorunları çözmek\n"
   ]
  },
  {
   "cell_type": "markdown",
   "metadata": {},
   "source": [
    "*  Problem: Sepete ürün ekleme işlemi sonrasında ödeme ekranında 5 adım vardır ve bu adımların birisi sorgulanmaktadır\n",
    "* Detaylar: \n",
    " - Her adımın 20 ser sn olması hedefi var 4.adım sorguanıyor.\n",
    " - Bu durumu test etmek için 100 örnek alınıyor\n",
    " - Ornek standart sapması 5 saniyedir. Ornek ortalaması ise 19 saniyedir\n",
    "    "
   ]
  },
  {
   "cell_type": "code",
   "execution_count": null,
   "metadata": {},
   "outputs": [],
   "source": [
    "# Bu problemde anakitleye tamamen erisemeyiz.\n",
    "#Mevcut müsterilerin arasından 100 orneklem alıyoruz\n",
    "# Bu orneklem üzerinden hipotez testi yapıcaz"
   ]
  },
  {
   "cell_type": "code",
   "execution_count": 8,
   "metadata": {},
   "outputs": [],
   "source": [
    "# Şans etkisi olmadıgını bilimsel olarak acıklıycaz"
   ]
  },
  {
   "cell_type": "markdown",
   "metadata": {},
   "source": [
    "#adım1: hiopezlerinin kurulması ve yönlerinin belirlenmesi\n",
    "H0:m=20# bilinmeyen anakitlede kullanıcıların 4.adımda 20 ser sn olması hedefi var\n",
    "H1:m!=20\n",
    "#adım2: anlamlılık düzeyinin(alfa=0.05=calısmanın basında kabul edilebilir hata miktarı) ve tablo degerinin belirlenmesi\n",
    "\n",
    "alfa=0.05 alfa/2=0.025 (kurmus oldugumuz hipotez 2 yönlü oldugu icin 2 ye bolduk)\n",
    "ama kucuktur buyuktur olsaydı alfa degerini direk kabul edecektik. \n",
    "z tablo olasılık degeri:0.5 - 0.025= 0.475\n",
    "0.475 degerine karsılık gelen tablo degerine bakmamız gerekiyor. O degerde +-1.96 dır.\n",
    "z tablo kritik deger: -/+ 1.96 \n",
    "\n",
    "#adım3: Test istatistiginin belirlenmesi ve test istatistiginin hesaplanması\n",
    "x= ornek ortalama degeri \n",
    "\n",
    "z= x - m /(varyans(s)/kök n)\n",
    "n=100\n",
    "standart sapma= 5\n",
    "örnek ortalaması= 19 sn\n",
    "\n",
    "zhesap=19 - 20 / 5/kök 100 = -2,00 \n",
    "\n",
    "#adım4: ztablo ve zhesap karsılastıtılması Zh> Zt yada - Zh< Zt ise H0 RED !!!!!!!!!!!!!!!!!!\n",
    "\n",
    "Zhesap=-2.00 < Ztablo= -1,96 oldugu icin H0 reddedilir \n",
    "\n",
    "\n",
    "#adım5: yorum! \n",
    "Kullanıcılar  istatistiksel olarak %95 güvenilirlikle 4.adımda 20 saniyeden farklı zaman gecirmektedir."
   ]
  },
  {
   "cell_type": "markdown",
   "metadata": {},
   "source": [
    "# İş Uygulaması: Web sitesinde geçirilen sürenin testi\n",
    "* Tek örneklem t testi icin baska is uygulamasi"
   ]
  },
  {
   "cell_type": "markdown",
   "metadata": {},
   "source": [
    "Problem:\n",
    "    Web sitemizde geçirilen ortalama süre gercekten 170 saniye mi?\n",
    "\n",
    "Detaylar: \n",
    " Yazılımlardan elde edilen web sitesinde geçirilen ort süreler var\n",
    " Bu veriler incelendiginde bir yönetici yada çalışanımız bu degerlerin böyle olmadıgına yönelik düsünceler tasıyor ve bu durumu test etmek istiyorlar"
   ]
  },
  {
   "cell_type": "markdown",
   "metadata": {},
   "source": [
    "- H0: m= 170\n",
    "- H1: m!=170 "
   ]
  },
  {
   "cell_type": "markdown",
   "metadata": {},
   "source": [
    "* Tek örneklem t testi örnek ortalamasına ilsikin test yapmak icin kullanılır"
   ]
  },
  {
   "cell_type": "code",
   "execution_count": 4,
   "metadata": {},
   "outputs": [],
   "source": [
    "import numpy as np\n",
    "olcumler=np.array([17,160,234,149,145,107,197,75,201,225,211,119,\n",
    "                  157,145,127,244,163,114,145,65,112,185,202,146,\n",
    "                  203,224,203,114,188,156,187,154,177,95,165,50,110,\n",
    "                  216,138,151,166,135,155,84,251,173,131,207,121,120])"
   ]
  },
  {
   "cell_type": "code",
   "execution_count": 24,
   "metadata": {},
   "outputs": [
    {
     "data": {
      "text/plain": [
       "array([ 17, 160, 234, 149, 145, 107, 197,  75, 201, 225])"
      ]
     },
     "execution_count": 24,
     "metadata": {},
     "output_type": "execute_result"
    }
   ],
   "source": [
    "olcumler[0:10]\n"
   ]
  },
  {
   "cell_type": "code",
   "execution_count": 25,
   "metadata": {},
   "outputs": [
    {
     "data": {
      "text/plain": [
       "DescribeResult(nobs=50, minmax=(17, 251), mean=154.38, variance=2578.0363265306123, skewness=-0.32398897278694483, kurtosis=-0.05849823498415985)"
      ]
     },
     "execution_count": 25,
     "metadata": {},
     "output_type": "execute_result"
    }
   ],
   "source": [
    "# bu olcumlerin betimsel istatistiklerini inceleyelim\n",
    "import scipy.stats as stats\n",
    "stats.describe(olcumler)"
   ]
  },
  {
   "cell_type": "code",
   "execution_count": 26,
   "metadata": {},
   "outputs": [],
   "source": [
    "# 148 sansa baglı olamaz mı\n",
    "# sansa baglı olup olmadıgını test etmek icin \n",
    "# hipotez kurarız\n",
    "\n"
   ]
  },
  {
   "cell_type": "code",
   "execution_count": 27,
   "metadata": {},
   "outputs": [],
   "source": [
    "# varsayımlara bakmamız lazım\n",
    "#tek orneklem t testinin varsayımı neydi?\n",
    "# normallik varsayımıydı."
   ]
  },
  {
   "cell_type": "markdown",
   "metadata": {},
   "source": [
    "## Tek Orneklem T testi Varsayım Kontrolü"
   ]
  },
  {
   "cell_type": "markdown",
   "metadata": {},
   "source": [
    "# normallik varsayımı 2 türlü gerceklestirilebilri\n",
    "1-grafik yöntemlerle( histogram ve qqplot tekikleri kullanılabilir)\n",
    "\n",
    "2- bazı testler ile gerceklestirilebilir(shapiro wilks testi kullanılabilir)"
   ]
  },
  {
   "cell_type": "code",
   "execution_count": 28,
   "metadata": {},
   "outputs": [
    {
     "data": {
      "image/png": "[encoded data removed]",
      "text/plain": [
       "<Figure size 432x288 with 1 Axes>"
      ]
     },
     "metadata": {
      "needs_background": "light"
     },
     "output_type": "display_data"
    }
   ],
   "source": [
    "#1-histogram ile\n",
    "import pandas as pd\n",
    "pd.DataFrame(olcumler).plot.hist();\n",
    "# histogram ile gorsellstirildiginde dagılımın normal\n",
    "#oldugu izlenimi verilmektedir"
   ]
  },
  {
   "cell_type": "code",
   "execution_count": 29,
   "metadata": {},
   "outputs": [
    {
     "data": {
      "image/png": "[encoded data removed]",
      "text/plain": [
       "<Figure size 432x288 with 1 Axes>"
      ]
     },
     "metadata": {
      "needs_background": "light"
     },
     "output_type": "display_data"
    }
   ],
   "source": [
    "# 2- qqplot ile \n",
    "import pylab\n",
    "stats.probplot(olcumler,dist=\"norm\",plot=pylab)\n",
    "pylab.show()\n",
    "# qqplot teorik dagılımla normal dagılım arasında bir degerlendirme imkanı saglar\n",
    "# noktaların kırmızı cizgi üzerinde konumlandıgı gozukmektedir\n"
   ]
  },
  {
   "cell_type": "markdown",
   "metadata": {},
   "source": [
    "## Shapiro - Wilks Testi\n"
   ]
  },
  {
   "cell_type": "markdown",
   "metadata": {},
   "source": [
    "h0: örnek dagılım ile teorik normal dagılım arasında \n",
    "    istatiksel olarak anlamlı bir farklılık yoktur\n",
    "h1: ...... fark vardır der.   "
   ]
  },
  {
   "cell_type": "code",
   "execution_count": 33,
   "metadata": {},
   "outputs": [
    {
     "data": {
      "text/plain": [
       "(0.9853105545043945, 0.7848747968673706)"
      ]
     },
     "execution_count": 33,
     "metadata": {},
     "output_type": "execute_result"
    }
   ],
   "source": [
    "from scipy.stats import shapiro\n",
    "shapiro(olcumler)"
   ]
  },
  {
   "cell_type": "markdown",
   "metadata": {},
   "source": [
    "\n",
    "# sol taraftaki test istatigi\n",
    "# sag taraftaki p - value degeridir\n",
    "h0--- p value 0.05 kücükse ho reddedilir\n",
    "\n",
    "h0---- p value 0.05 ten büyükse h0 reddedilemez"
   ]
  },
  {
   "cell_type": "code",
   "execution_count": 34,
   "metadata": {},
   "outputs": [],
   "source": [
    "# sonuc p-value 0.05 ten büyük oldugu icin h0 reddeilemez diyoruz.\n",
    "# h0 neydi. ornek dagılım ile teorik normal dagılımı arasında istatistiksel olarak anlamlı bir fark yoktur deriz.\n",
    "# bizim istedigimzde buydu .öyleyse biz parametrik bir test olantek orneklem  t testini uygulayabiliriz .\n",
    "# cünkü normal dagılım varsayımı saglanıyor\n"
   ]
  },
  {
   "cell_type": "code",
   "execution_count": 35,
   "metadata": {},
   "outputs": [
    {
     "name": "stdout",
     "output_type": "stream",
     "text": [
      "T Hesap İstatigi: 0.9853105545043945\n",
      "Hesaplanan P value:0.7848747968673706\n"
     ]
    }
   ],
   "source": [
    "print(\"T Hesap İstatigi: \"+ str(shapiro(olcumler)[0]))\n",
    "print(\"Hesaplanan P value:\"+ str(shapiro(olcumler)[1]))"
   ]
  },
  {
   "cell_type": "code",
   "execution_count": 36,
   "metadata": {},
   "outputs": [],
   "source": [
    "# Hipotez Testinin Yapılmasına geldik\n",
    "# Varsayım saglanıyorsa ancak testimizi gerceklestirebiliyoruz\n"
   ]
  },
  {
   "cell_type": "code",
   "execution_count": 37,
   "metadata": {},
   "outputs": [
    {
     "data": {
      "text/plain": [
       "Ttest_1sampResult(statistic=-2.1753117985877966, pvalue=0.034460415195071446)"
      ]
     },
     "execution_count": 37,
     "metadata": {},
     "output_type": "execute_result"
    }
   ],
   "source": [
    "stats.ttest_1samp(olcumler,popmean=170)"
   ]
  },
  {
   "cell_type": "code",
   "execution_count": 38,
   "metadata": {},
   "outputs": [],
   "source": [
    "# p value degeri 0.05 degerinden kucuk ldugundan \n",
    "#dolayı h0 hipotezi reddedilir\n",
    "# Sonuc olarak; web sitemizde gecirilen ort süre 170 degildir demektir."
   ]
  },
  {
   "cell_type": "markdown",
   "metadata": {},
   "source": [
    "## Varsayım saglanmıyorsa\n",
    "## Nonparametrik Tek Örneklem Testi"
   ]
  },
  {
   "cell_type": "code",
   "execution_count": 2,
   "metadata": {},
   "outputs": [],
   "source": [
    "from statsmodels.stats.descriptivestats import sign_test"
   ]
  },
  {
   "cell_type": "code",
   "execution_count": 5,
   "metadata": {},
   "outputs": [
    {
     "data": {
      "text/plain": [
       "(-7.0, 0.06490864707227219)"
      ]
     },
     "execution_count": 5,
     "metadata": {},
     "output_type": "execute_result"
    }
   ],
   "source": [
    "sign_test(olcumler,170)\n",
    "# soldaki test istatigi\n",
    "#p value sagdaki degerdir\n",
    "# p value degeri 0.06 oldugu icin h0 reddedemiyoruz"
   ]
  },
  {
   "cell_type": "code",
   "execution_count": 6,
   "metadata": {},
   "outputs": [],
   "source": [
    "#burada merkezi eğilimin 170 olup olmadıgını test ettik\n",
    "# merkezi egilim(ortalamanın)"
   ]
  },
  {
   "cell_type": "code",
   "execution_count": 7,
   "metadata": {},
   "outputs": [],
   "source": [
    "# Sonuc olarak elimizdeki veri zaten parametrikti.yani güvenilirdi.\n",
    "# sadece bu testin nasıl yapılabilecegini ele almış olduk\n",
    "# varsayım saglanmasaydı bu testin üzerine yorum yapacaktık ama suan icin gerek yoktur"
   ]
  },
  {
   "cell_type": "markdown",
   "metadata": {},
   "source": [
    "# Tek Örneklem Oran Testi"
   ]
  },
  {
   "cell_type": "markdown",
   "metadata": {},
   "source": [
    "* Oransal bir ifade test edilmek istenildiginde kullanılır"
   ]
  },
  {
   "cell_type": "markdown",
   "metadata": {},
   "source": [
    "- h0: P=P0\n",
    "- h1: P!=P0\n",
    "-----------------\n",
    "- h0:P<= P0\n",
    "- h1:P>P0\n",
    "-----------------\n",
    "- h0:P>=P0\n",
    "- h1:P<P0\n",
    "-----------------"
   ]
  },
  {
   "cell_type": "markdown",
   "metadata": {},
   "source": [
    "* z üzerinden bir hesaplama islemi gerceklestirilir\n",
    "* n>30 oldugunda bu testi gerceklestirebiliyoruz"
   ]
  },
  {
   "cell_type": "markdown",
   "metadata": {},
   "source": [
    "## İş Uygulamasi: Donusum Oranı Testi"
   ]
  },
  {
   "cell_type": "code",
   "execution_count": null,
   "metadata": {},
   "outputs": [],
   "source": [
    "# donusum oranı: e ticaret üzerinde kullanılan bir kavram\n",
    "#1/100 :100 kişi gördü 1 kişi tıkladı\n",
    "# bir ürünü 1000 kişi sepete koydu ve 5 kişi aldı gibi\n",
    "#5/1000"
   ]
  },
  {
   "cell_type": "markdown",
   "metadata": {},
   "source": [
    "* Problem: bir yazılım ile bir mecrada reklam\n",
    "    verilmis ve bu reklama iliskin yazılım tarafından\n",
    "    0.125 donusum oranı elde edildigi ifade edilmis.\n",
    "    Fakat bu durum kontrol edilmek isteniyor.Cunku bu yuksek bir oran ve \n",
    "    gelirler incelendiginde ortusmuyor\n",
    "  Detaylar: \n",
    "  - 500 kisi dıs mecrada reklama tıklamıs ,40 tanesi sitemize gelip alışveriş yapmıs\n",
    "  - ornek üzerinden elde edilen donusum oranı: 40/500 :0.08"
   ]
  },
  {
   "cell_type": "markdown",
   "metadata": {},
   "source": [
    "* 0.125 i test etmek istiyoruz.\n",
    "h0:p=0.125\n",
    "h1:p!=0.125"
   ]
  },
  {
   "cell_type": "code",
   "execution_count": 9,
   "metadata": {},
   "outputs": [],
   "source": [
    "from statsmodels.stats.proportion import proportions_ztest\n",
    "count=40\n",
    "nobs=500\n",
    "value=0.125"
   ]
  },
  {
   "cell_type": "code",
   "execution_count": 10,
   "metadata": {},
   "outputs": [
    {
     "data": {
      "text/plain": [
       "(-3.7090151628513017, 0.0002080669689845979)"
      ]
     },
     "execution_count": 10,
     "metadata": {},
     "output_type": "execute_result"
    }
   ],
   "source": [
    "proportions_ztest(count,nobs,value)"
   ]
  },
  {
   "cell_type": "code",
   "execution_count": 11,
   "metadata": {},
   "outputs": [],
   "source": [
    "# p value 0.05 ten kucuk oldugu icin h0 hipotezi reddedilir\n",
    "# donsuum oranı 0.125 oranı yanlıştır.\n",
    "# bunu istatiksel olrak %95 güvenilirlikle söylüyoruz."
   ]
  },
  {
   "cell_type": "markdown",
   "metadata": {},
   "source": [
    "# Bagımsız İki Örneklem T Testi - AB Testi"
   ]
  },
  {
   "cell_type": "markdown",
   "metadata": {},
   "source": [
    "* İki grup ortalması arasında karsılastırma yapılmak istenildiginde kullanılır"
   ]
  },
  {
   "cell_type": "markdown",
   "metadata": {},
   "source": [
    "\n",
    "- h0:m1=m2\n",
    "- h1:m1!=m2\n",
    "------------\n",
    "- h0:m1<=m2\n",
    "- h1:m1>m2\n",
    "------------\n",
    "- h0:m1>=m2\n",
    "- h1:m1<m2"
   ]
  },
  {
   "cell_type": "markdown",
   "metadata": {},
   "source": [
    "* Test istatigi:\n",
    "    - 1. yontem ===> ornek sayısı(n) aynı, varyanslar homojen ise;\n",
    "    farklı,\n",
    "    - 2.yontem===> ornek sayısı farklı, varyans homojen ise,\n",
    "    farklı bir formul kullanılır.\n",
    "    - 3.yontem===> ornek sayıları farklı varyanslar homojen degilse ;(3.yontem welch testi olarak gecer)\n",
    "    farklı bir formul kullanılır.\n",
    "    ---slayt 136 da formuller var"
   ]
  },
  {
   "cell_type": "markdown",
   "metadata": {},
   "source": [
    "## Bagımsız iki orneklem t testi :varsayımlar\n",
    "* normallik\n",
    "- 1. varsayım icin elimizdeki her iki ornek icin normallik testi yapılmalı:\n",
    "- nasıl yapılır? gorsel yada hipotez testleri yardımıyla yapabiliriz.qqplot yada histogram çizdirebilir yada shapiro wilks testi yapabiliriz.\n",
    "\n",
    "* varyans homojenligi: grupların varyanslarının birbirine benzer olması demektir.\n",
    "- bagımsız iki orneklem t testi , grupların varyansı birbirine benzer ise ben bu testi yaptırabilirim der\n",
    "\n"
   ]
  },
  {
   "cell_type": "markdown",
   "metadata": {},
   "source": [
    "# İş Uygulaması: ML Modelinin Basarı Testi"
   ]
  },
  {
   "cell_type": "markdown",
   "metadata": {},
   "source": [
    "* makine ogrenmesi modeli gelistirilip ve canlı siteme  sokulmus\n",
    "- A: eski sistem\n",
    "- B: ml modeli eklenen sistem\n",
    "*Problem: Bir ML projesine yatırım yapılmıs.Ürettigi tahminler neticesinde olusan gelir ile eski sistemin ürettigi gelirler karsılastıtılıp anlamlı bir fark olup olmadıgı test edilmek isteniyor.\n",
    "\n",
    "- bu proje insanlara ürün öneriyo\n",
    "Detaylar: \n",
    "- Model gelistirilmis ve web sitesine entegre edilmis\n",
    "- Site kullanıcıları belirli bir kurala göre ikiye bölünmüs olsun\n",
    "- A grubu eski B grubu yeni sistem\n",
    "- Gelir anlamaında anlamlı bir iş yapılıp yapılmadıgı test edilmek isteniyor\n",
    "- A grubuan eski sisteme göre ürünler göstetriliyor\n",
    "- B grubuan yeni sisteme göre ürün gösteriliyor\n"
   ]
  },
  {
   "cell_type": "markdown",
   "metadata": {},
   "source": [
    "* Hipotez kurulur\n",
    "* ml modeli anlamlı bir fark olusturabildi mi\n",
    "- h0: m1=m2\n",
    "- h1:m1!=m2"
   ]
  },
  {
   "cell_type": "code",
   "execution_count": null,
   "metadata": {},
   "outputs": [],
   "source": [
    "# VERİ TİPİ 1 "
   ]
  },
  {
   "cell_type": "code",
   "execution_count": 1,
   "metadata": {},
   "outputs": [
    {
     "data": {
      "text/html": [
       "<div>\n",
       "<style scoped>\n",
       "    .dataframe tbody tr th:only-of-type {\n",
       "        vertical-align: middle;\n",
       "    }\n",
       "\n",
       "    .dataframe tbody tr th {\n",
       "        vertical-align: top;\n",
       "    }\n",
       "\n",
       "    .dataframe thead th {\n",
       "        text-align: right;\n",
       "    }\n",
       "</style>\n",
       "<table border=\"1\" class=\"dataframe\">\n",
       "  <thead>\n",
       "    <tr style=\"text-align: right;\">\n",
       "      <th></th>\n",
       "      <th>A</th>\n",
       "      <th>B</th>\n",
       "    </tr>\n",
       "  </thead>\n",
       "  <tbody>\n",
       "    <tr>\n",
       "      <td>0</td>\n",
       "      <td>30</td>\n",
       "      <td>37</td>\n",
       "    </tr>\n",
       "    <tr>\n",
       "      <td>1</td>\n",
       "      <td>27</td>\n",
       "      <td>39</td>\n",
       "    </tr>\n",
       "    <tr>\n",
       "      <td>2</td>\n",
       "      <td>21</td>\n",
       "      <td>31</td>\n",
       "    </tr>\n",
       "    <tr>\n",
       "      <td>3</td>\n",
       "      <td>27</td>\n",
       "      <td>31</td>\n",
       "    </tr>\n",
       "    <tr>\n",
       "      <td>4</td>\n",
       "      <td>29</td>\n",
       "      <td>34</td>\n",
       "    </tr>\n",
       "  </tbody>\n",
       "</table>\n",
       "</div>"
      ],
      "text/plain": [
       "    A   B\n",
       "0  30  37\n",
       "1  27  39\n",
       "2  21  31\n",
       "3  27  31\n",
       "4  29  34"
      ]
     },
     "execution_count": 1,
     "metadata": {},
     "output_type": "execute_result"
    }
   ],
   "source": [
    "import pandas as pd\n",
    "A= pd.DataFrame([30,27,21,27,29,30,20,20,\n",
    "                27,32,35,22,24,23,25,27,23,27,23,25,21,18,24,26,33,26,27,28,19,25])\n",
    "B=pd.DataFrame([37,39,31,31,34,38,30,36,29,28,38,28,37,37,30,32,31,31,27,\n",
    "               32,33,33,33,31,32,33,26,32,33,29])\n",
    "A_B=pd.concat([A,B],axis=1)\n",
    "A_B.columns=[\"A\",\"B\"]\n",
    "A_B.head()"
   ]
  },
  {
   "cell_type": "code",
   "execution_count": 2,
   "metadata": {},
   "outputs": [
    {
     "name": "stdout",
     "output_type": "stream",
     "text": [
      "   gelir GRUP\n",
      "0     30    A\n",
      "1     27    A\n",
      "2     21    A\n",
      "3     27    A\n",
      "4     29    A\n",
      "    gelir GRUP\n",
      "25     33    B\n",
      "26     26    B\n",
      "27     32    B\n",
      "28     33    B\n",
      "29     29    B\n"
     ]
    }
   ],
   "source": [
    "# VERİ TİPİ 2 \n",
    "# Bu testi kullanabilmek icin bu hale getirmek zorundayız\n",
    "import numpy as np\n",
    "A= pd.DataFrame([30,27,21,27,29,30,20,20,\n",
    "                27,32,35,22,24,23,25,27,23,27,23,25,21,18,24,26,33,26,27,28,19,25])\n",
    "B=pd.DataFrame([37,39,31,31,34,38,30,36,29,28,38,28,37,37,30,32,31,31,27,\n",
    "               32,33,33,33,31,32,33,26,32,33,29])\n",
    "\n",
    "# A ve A nın grubu\n",
    "GRUP_A=np.arange(len(A))\n",
    "GRUP_A=pd.DataFrame(GRUP_A)\n",
    "GRUP_A[:]=\"A\"\n",
    "A=pd.concat([A,GRUP_A],axis=1)\n",
    "\n",
    "# B ve B nın grubu\n",
    "GRUP_B =np.arange(len(B))\n",
    "GRUP_B =pd.DataFrame(GRUP_B)\n",
    "GRUP_B [:]=\"B\"\n",
    "B =pd.concat([B ,GRUP_B ],axis=1)\n",
    "# Tum veri\n",
    "AB=pd.concat([A,B])\n",
    "AB.columns=[\"gelir\",\"GRUP\"]\n",
    "print(AB.head())\n",
    "print(AB.tail())"
   ]
  },
  {
   "cell_type": "code",
   "execution_count": 3,
   "metadata": {},
   "outputs": [
    {
     "data": {
      "text/plain": [
       "<matplotlib.axes._subplots.AxesSubplot at 0x8111ed9548>"
      ]
     },
     "execution_count": 3,
     "metadata": {},
     "output_type": "execute_result"
    }
   ],
   "source": [
    "import seaborn as sns\n",
    "sns.boxplot(x=\"GRUP\",y=\"gelir\",data=AB)\n",
    "# Dagılımları farklı gozukuyor ama bunun istatiksel olarak\n",
    "# anlamlı bir fark olup olmadıgını bilmiyoruz.bunu test etmeliyiz"
   ]
  },
  {
   "cell_type": "markdown",
   "metadata": {},
   "source": [
    "## Bagımsız İki orneklem t testi Varsayım Kontrolu"
   ]
  },
  {
   "cell_type": "markdown",
   "metadata": {},
   "source": [
    "* 1- normallik varsayımı - shapiro testi ile"
   ]
  },
  {
   "cell_type": "code",
   "execution_count": 4,
   "metadata": {},
   "outputs": [],
   "source": [
    "from scipy.stats import shapiro"
   ]
  },
  {
   "cell_type": "code",
   "execution_count": 5,
   "metadata": {},
   "outputs": [
    {
     "data": {
      "text/html": [
       "<div>\n",
       "<style scoped>\n",
       "    .dataframe tbody tr th:only-of-type {\n",
       "        vertical-align: middle;\n",
       "    }\n",
       "\n",
       "    .dataframe tbody tr th {\n",
       "        vertical-align: top;\n",
       "    }\n",
       "\n",
       "    .dataframe thead th {\n",
       "        text-align: right;\n",
       "    }\n",
       "</style>\n",
       "<table border=\"1\" class=\"dataframe\">\n",
       "  <thead>\n",
       "    <tr style=\"text-align: right;\">\n",
       "      <th></th>\n",
       "      <th>A</th>\n",
       "      <th>B</th>\n",
       "    </tr>\n",
       "  </thead>\n",
       "  <tbody>\n",
       "    <tr>\n",
       "      <td>0</td>\n",
       "      <td>30</td>\n",
       "      <td>37</td>\n",
       "    </tr>\n",
       "    <tr>\n",
       "      <td>1</td>\n",
       "      <td>27</td>\n",
       "      <td>39</td>\n",
       "    </tr>\n",
       "    <tr>\n",
       "      <td>2</td>\n",
       "      <td>21</td>\n",
       "      <td>31</td>\n",
       "    </tr>\n",
       "    <tr>\n",
       "      <td>3</td>\n",
       "      <td>27</td>\n",
       "      <td>31</td>\n",
       "    </tr>\n",
       "    <tr>\n",
       "      <td>4</td>\n",
       "      <td>29</td>\n",
       "      <td>34</td>\n",
       "    </tr>\n",
       "  </tbody>\n",
       "</table>\n",
       "</div>"
      ],
      "text/plain": [
       "    A   B\n",
       "0  30  37\n",
       "1  27  39\n",
       "2  21  31\n",
       "3  27  31\n",
       "4  29  34"
      ]
     },
     "execution_count": 5,
     "metadata": {},
     "output_type": "execute_result"
    }
   ],
   "source": [
    "A_B.head()"
   ]
  },
  {
   "cell_type": "code",
   "execution_count": 6,
   "metadata": {},
   "outputs": [
    {
     "data": {
      "text/html": [
       "<div>\n",
       "<style scoped>\n",
       "    .dataframe tbody tr th:only-of-type {\n",
       "        vertical-align: middle;\n",
       "    }\n",
       "\n",
       "    .dataframe tbody tr th {\n",
       "        vertical-align: top;\n",
       "    }\n",
       "\n",
       "    .dataframe thead th {\n",
       "        text-align: right;\n",
       "    }\n",
       "</style>\n",
       "<table border=\"1\" class=\"dataframe\">\n",
       "  <thead>\n",
       "    <tr style=\"text-align: right;\">\n",
       "      <th></th>\n",
       "      <th>gelir</th>\n",
       "      <th>GRUP</th>\n",
       "    </tr>\n",
       "  </thead>\n",
       "  <tbody>\n",
       "    <tr>\n",
       "      <td>0</td>\n",
       "      <td>30</td>\n",
       "      <td>A</td>\n",
       "    </tr>\n",
       "    <tr>\n",
       "      <td>1</td>\n",
       "      <td>27</td>\n",
       "      <td>A</td>\n",
       "    </tr>\n",
       "    <tr>\n",
       "      <td>2</td>\n",
       "      <td>21</td>\n",
       "      <td>A</td>\n",
       "    </tr>\n",
       "    <tr>\n",
       "      <td>3</td>\n",
       "      <td>27</td>\n",
       "      <td>A</td>\n",
       "    </tr>\n",
       "    <tr>\n",
       "      <td>4</td>\n",
       "      <td>29</td>\n",
       "      <td>A</td>\n",
       "    </tr>\n",
       "  </tbody>\n",
       "</table>\n",
       "</div>"
      ],
      "text/plain": [
       "   gelir GRUP\n",
       "0     30    A\n",
       "1     27    A\n",
       "2     21    A\n",
       "3     27    A\n",
       "4     29    A"
      ]
     },
     "execution_count": 6,
     "metadata": {},
     "output_type": "execute_result"
    }
   ],
   "source": [
    "AB.head()"
   ]
  },
  {
   "cell_type": "code",
   "execution_count": 7,
   "metadata": {},
   "outputs": [],
   "source": [
    "from scipy.stats import shapiro"
   ]
  },
  {
   "cell_type": "code",
   "execution_count": 9,
   "metadata": {},
   "outputs": [
    {
     "data": {
      "text/plain": [
       "(0.9561260342597961, 0.24584221839904785)"
      ]
     },
     "execution_count": 9,
     "metadata": {},
     "output_type": "execute_result"
    }
   ],
   "source": [
    "shapiro(A_B.A)# A_B içinden A yı cagırıyoruz\n",
    "# shapiro wilks in h0 hipotezi örnek dagılımla teorik normal dagılım arasında fark yoktur der.\n",
    "# bu h0 hipotezini red edememişizdir.p value degeri 0.05 ten büyük cünkü\n",
    "shapiro(A_B.B)# A_B içinden B yi cagırıyoruz.\n",
    "# h0 hipotezimiz örnek dagılımla teorik normal dagılım arasında fark yoktur der.\n",
    "# p- value 0.05 degerinden büyük oldugu icin h0 hipotezi red edilemez.\n",
    "# dolayısıyla ikinci grup içinde normallik varsayımı saglanmaktadır\n",
    "\n"
   ]
  },
  {
   "cell_type": "markdown",
   "metadata": {},
   "source": [
    "* 2- Varyans Homojenligi Varsayımı-  Levene testi ile\n",
    "    - H0: Varyans Homojendir\n",
    "    - H1: Varyans Homojen degildir"
   ]
  },
  {
   "cell_type": "code",
   "execution_count": 14,
   "metadata": {},
   "outputs": [
    {
     "data": {
      "text/plain": [
       "LeveneResult(statistic=1.1101802757158004, pvalue=0.2964124900636569)"
      ]
     },
     "execution_count": 14,
     "metadata": {},
     "output_type": "execute_result"
    }
   ],
   "source": [
    "from scipy import stats\n",
    "stats.levene(A_B.A,A_B.B)\n",
    "# p_value degeri 0.05 ten büyük oldugu icin\n",
    "# h0 hipotezi red edilemez yani varyans homojendir\n",
    "# sol taraftaki deger test istatistigini \n",
    "# sag taraftaki deger p_value degerini verir"
   ]
  },
  {
   "cell_type": "code",
   "execution_count": 15,
   "metadata": {},
   "outputs": [],
   "source": [
    "# gerekli varsayımlar saglandıgı icin artık \n",
    "# hipotez testini gerceklestirebiliriz"
   ]
  },
  {
   "cell_type": "markdown",
   "metadata": {},
   "source": [
    "## Bagımsız İki Orneklem T Testi ile Uygulama ( AB )"
   ]
  },
  {
   "cell_type": "markdown",
   "metadata": {},
   "source": [
    "* Hipotez Testi"
   ]
  },
  {
   "cell_type": "code",
   "execution_count": 16,
   "metadata": {},
   "outputs": [
    {
     "data": {
      "text/plain": [
       "Ttest_indResult(statistic=-7.028690967745927, pvalue=2.6233215605475075e-09)"
      ]
     },
     "execution_count": 16,
     "metadata": {},
     "output_type": "execute_result"
    }
   ],
   "source": [
    "stats.ttest_ind (A_B[\"A\"],A_B[\"B\"],equal_var=True)"
   ]
  },
  {
   "cell_type": "code",
   "execution_count": 17,
   "metadata": {},
   "outputs": [],
   "source": [
    "# p_ value degeri 0.05 ten kucuk oldugu icin farklılık vardır denir. \n",
    "# Farklılık olmadıgını iddia eden H0 hipotezi reddedilir"
   ]
  },
  {
   "cell_type": "code",
   "execution_count": 18,
   "metadata": {},
   "outputs": [
    {
     "name": "stdout",
     "output_type": "stream",
     "text": [
      "Test İstatistigi=-7.028691,p_degeri=0.0000\n"
     ]
    }
   ],
   "source": [
    "test_istatistigi,pvalue=stats.ttest_ind(A_B[\"A\"],A_B[\"B\"],equal_var=True)\n",
    "print('Test İstatistigi=%4f,p_degeri=%.4f'%(test_istatistigi,pvalue))"
   ]
  },
  {
   "cell_type": "code",
   "execution_count": null,
   "metadata": {},
   "outputs": [],
   "source": [
    "# eski sistem ile yeni sistem arasındaki fark yoktur hipotezini reddeder.yani fark vardır.\n",
    "# p_value degeri 0.05 ten kucuk oldugu icin ho reddedilir"
   ]
  },
  {
   "cell_type": "markdown",
   "metadata": {},
   "source": [
    "# Nonparametrik Bagımsız İki Orneklem T Testi - Mann Whitney U Testi"
   ]
  },
  {
   "cell_type": "code",
   "execution_count": null,
   "metadata": {},
   "outputs": [],
   "source": [
    "# Varsayımlar saglanmadıgında ; normallik varsayımı ve varyans homojenligi varsayımları saglanmıyor\n"
   ]
  },
  {
   "cell_type": "code",
   "execution_count": 20,
   "metadata": {},
   "outputs": [
    {
     "data": {
      "text/plain": [
       "MannwhitneyuResult(statistic=89.5, pvalue=4.778975189306267e-08)"
      ]
     },
     "execution_count": 20,
     "metadata": {},
     "output_type": "execute_result"
    }
   ],
   "source": [
    "stats.mannwhitneyu(A_B[\"A\"],A_B[\"B\"])"
   ]
  },
  {
   "cell_type": "code",
   "execution_count": 22,
   "metadata": {},
   "outputs": [
    {
     "name": "stdout",
     "output_type": "stream",
     "text": [
      "Test İstatistigi=89.500000,p_degeri=0.0000\n"
     ]
    }
   ],
   "source": [
    "test_istatistigi,pvalue=stats.mannwhitneyu(A_B[\"A\"],A_B[\"B\"])\n",
    "print('Test İstatistigi=%4f,p_degeri=%.4f'%(test_istatistigi,pvalue))"
   ]
  },
  {
   "cell_type": "code",
   "execution_count": 23,
   "metadata": {},
   "outputs": [],
   "source": [
    "# fark vardır sonucuna ulasmıs olduk"
   ]
  },
  {
   "cell_type": "markdown",
   "metadata": {},
   "source": [
    "# Bagımlı İki Orneklem T Testi\n",
    "\n",
    "- Bagımlı iki grup ortalaması arasında karsılastırma yapılmak istenildiignde kullanılır"
   ]
  },
  {
   "cell_type": "markdown",
   "metadata": {},
   "source": [
    "- Örn: Bir sirkette bir egitim veriliyor.\n",
    "  Bu egitimin öncesinde ve sonrasında\n",
    "    olcumler yapıldıgında aynı kitleye aynı\n",
    "    ornege  iki farklı uygulama yapıldıgında  ve bunun sonucları incelendiginde bagımlılık durumu söz konusudur. \n",
    "- burada elimizde bir kitle var ve bu kitleye ilk önce olcum yapıyor sonra bir islem uygulanıyor sonra tekrar aynı kitleye olcum yapılıyor\n",
    "\n",
    "- h0: mö=ms\n",
    "- h1:mö!=ms\n",
    "--------------\n",
    "- h0: mö<=ms\n",
    "- h1:mö>ms\n",
    "--------------\n",
    "- h0: mö>=ms\n",
    "- h1:mö< ms"
   ]
  },
  {
   "cell_type": "markdown",
   "metadata": {},
   "source": [
    "- Yani önceki durumun ortalamasıyla sonraki durumun ortalaması arasında bir farklılık olup olmadıgı yada yönlü bir farklılık olmadıgı inceleniyor"
   ]
  },
  {
   "cell_type": "markdown",
   "metadata": {},
   "source": [
    "## Bagımlı İki Orneklem T Testi: Varsayımlar\n",
    "- Normallik\n",
    "- Varyans Homojenligi"
   ]
  },
  {
   "cell_type": "markdown",
   "metadata": {},
   "source": [
    "## İş Uygulaması: Şirket İçi Eğitimin Performans Etkisi Ölçümü"
   ]
  },
  {
   "cell_type": "markdown",
   "metadata": {},
   "source": [
    "- Problem:\n",
    "  - Belirli ugraslar sonucunda alınan bir eğitimin katma deger saglayıp saglamadıgı olculmek isteniyor.\n",
    "- Detaylar: \n",
    "  - Bir depertman bir konuda eğitim talep ediliyor\n",
    "  - Gerekli/ gereksiz degerlendirmeleri neticesinde eğitim alınıyor\n",
    "  - Eğitimden önce ve sonra olacak sekilde gerekli ölcümler yapılıyor\n",
    "  - Eğitim sonrasında eğitimin sagladıgı katma deger test edilmek isteniyor\n",
    "  \n",
    "-  ho:mö=ms\n",
    "-  h1:mö!=ms"
   ]
  },
  {
   "cell_type": "code",
   "execution_count": 48,
   "metadata": {},
   "outputs": [],
   "source": [
    "oncesi=pd.DataFrame([123,119,119,116,123,123,121,120,117,118,121,121,123,119,\n",
    "                    121,118,124,121,125,115,115,119,118,121,117,117,120,120,\n",
    "                    121,117,118,117,123,118,124,121,115,118,125,115])\n",
    "sonrasi=pd.DataFrame([118,127,122,132,129,123,129,132,128,130,128,138,140,130,\n",
    "                     134,134,124,140,134,129,129,138,134,124,122,126,133,127,\n",
    "                     130,130,130,132,117,130,125,129,133,120,127,123])"
   ]
  },
  {
   "cell_type": "code",
   "execution_count": 49,
   "metadata": {},
   "outputs": [
    {
     "data": {
      "text/html": [
       "<div>\n",
       "<style scoped>\n",
       "    .dataframe tbody tr th:only-of-type {\n",
       "        vertical-align: middle;\n",
       "    }\n",
       "\n",
       "    .dataframe tbody tr th {\n",
       "        vertical-align: top;\n",
       "    }\n",
       "\n",
       "    .dataframe thead th {\n",
       "        text-align: right;\n",
       "    }\n",
       "</style>\n",
       "<table border=\"1\" class=\"dataframe\">\n",
       "  <thead>\n",
       "    <tr style=\"text-align: right;\">\n",
       "      <th></th>\n",
       "      <th>0</th>\n",
       "    </tr>\n",
       "  </thead>\n",
       "  <tbody>\n",
       "    <tr>\n",
       "      <td>0</td>\n",
       "      <td>123</td>\n",
       "    </tr>\n",
       "    <tr>\n",
       "      <td>1</td>\n",
       "      <td>119</td>\n",
       "    </tr>\n",
       "    <tr>\n",
       "      <td>2</td>\n",
       "      <td>119</td>\n",
       "    </tr>\n",
       "    <tr>\n",
       "      <td>3</td>\n",
       "      <td>116</td>\n",
       "    </tr>\n",
       "    <tr>\n",
       "      <td>4</td>\n",
       "      <td>123</td>\n",
       "    </tr>\n",
       "  </tbody>\n",
       "</table>\n",
       "</div>"
      ],
      "text/plain": [
       "     0\n",
       "0  123\n",
       "1  119\n",
       "2  119\n",
       "3  116\n",
       "4  123"
      ]
     },
     "execution_count": 49,
     "metadata": {},
     "output_type": "execute_result"
    }
   ],
   "source": [
    "oncesi[0:5]"
   ]
  },
  {
   "cell_type": "code",
   "execution_count": 50,
   "metadata": {},
   "outputs": [
    {
     "data": {
      "text/html": [
       "<div>\n",
       "<style scoped>\n",
       "    .dataframe tbody tr th:only-of-type {\n",
       "        vertical-align: middle;\n",
       "    }\n",
       "\n",
       "    .dataframe tbody tr th {\n",
       "        vertical-align: top;\n",
       "    }\n",
       "\n",
       "    .dataframe thead th {\n",
       "        text-align: right;\n",
       "    }\n",
       "</style>\n",
       "<table border=\"1\" class=\"dataframe\">\n",
       "  <thead>\n",
       "    <tr style=\"text-align: right;\">\n",
       "      <th></th>\n",
       "      <th>0</th>\n",
       "    </tr>\n",
       "  </thead>\n",
       "  <tbody>\n",
       "    <tr>\n",
       "      <td>0</td>\n",
       "      <td>118</td>\n",
       "    </tr>\n",
       "    <tr>\n",
       "      <td>1</td>\n",
       "      <td>127</td>\n",
       "    </tr>\n",
       "    <tr>\n",
       "      <td>2</td>\n",
       "      <td>122</td>\n",
       "    </tr>\n",
       "    <tr>\n",
       "      <td>3</td>\n",
       "      <td>132</td>\n",
       "    </tr>\n",
       "    <tr>\n",
       "      <td>4</td>\n",
       "      <td>129</td>\n",
       "    </tr>\n",
       "  </tbody>\n",
       "</table>\n",
       "</div>"
      ],
      "text/plain": [
       "     0\n",
       "0  118\n",
       "1  127\n",
       "2  122\n",
       "3  132\n",
       "4  129"
      ]
     },
     "execution_count": 50,
     "metadata": {},
     "output_type": "execute_result"
    }
   ],
   "source": [
    "sonrasi[0:5]"
   ]
  },
  {
   "cell_type": "code",
   "execution_count": 54,
   "metadata": {},
   "outputs": [
    {
     "name": "stdout",
     "output_type": "stream",
     "text": [
      "'AYRIK' Veri Seti:\n",
      "\n",
      "    ONCESI  SONRASI\n",
      "0     123      118\n",
      "1     119      127\n",
      "2     119      122\n",
      "3     116      132\n",
      "4     123      129 \n",
      "\n",
      "\n",
      " 'BIRLIKTE' Veri Seti:\n",
      "\n",
      "    PERFORMANS  ONCESI_SONRASI\n",
      "0          123         ONCESI\n",
      "1          119         ONCESI\n",
      "2          119         ONCESI\n",
      "3          116         ONCESI\n",
      "4          123         ONCESI \n",
      "\n"
     ]
    }
   ],
   "source": [
    "# BIRINCI VERİ SETİ\n",
    "AYRIK=pd.concat([oncesi,sonrasi],axis=1)\n",
    "AYRIK.columns=[\"ONCESI\",\"SONRASI\"]\n",
    "print(\"'AYRIK' Veri Seti:\\n\\n\", AYRIK.head(),\"\\n\\n\")\n",
    "\n",
    "\n",
    "# IKINCI VERİ SETİ\n",
    "#ONCESİ FLAG/ TAG 'INI OLUSTURMA\n",
    "GRUP_ONCESI=np.arange(len(oncesi))\n",
    "GRUP_ONCESI=pd.DataFrame(GRUP_ONCESI)\n",
    "GRUP_ONCESI[:]=\"ONCESI\"\n",
    "# FLAG VE ONCESI DEGERLERİNİ BİR ARAYA GETİRME\n",
    "A=pd.concat([oncesi,GRUP_ONCESI],axis=1)\n",
    "# SONRASI FLAG/TAG' INI OLUSTURMA\n",
    "GRUP_SONRASI=np.arange(len(sonrasi))\n",
    "GRUP_SONRASI=pd.DataFrame(GRUP_SONRASI)\n",
    "GRUP_SONRASI[:]=\"SONRASI\"\n",
    "# FLAG VE SONRASI DEGERLERINI BİR ARAYA GETİRME\n",
    "B=pd.concat([sonrasi,GRUP_SONRASI],axis=1)\n",
    "# TUM VERIYI BIR ARAYA GETIRME\n",
    "BIRLIKTE=pd.concat([A,B])\n",
    "BIRLIKTE\n",
    "#ISIMLENDIRME\n",
    "BIRLIKTE.columns=[\"PERFORMANS \",\"ONCESI_SONRASI\"]\n",
    "print(\" 'BIRLIKTE' Veri Seti:\\n\\n\",BIRLIKTE.head(),\"\\n\")"
   ]
  },
  {
   "cell_type": "code",
   "execution_count": null,
   "metadata": {},
   "outputs": [],
   "source": [
    "import seaborn as sns\n",
    "sns.boxplot(x = \"ONCESI_SONRASI\",y=\"PERFORMANS\", data=BIRLIKTE);"
   ]
  },
  {
   "cell_type": "markdown",
   "metadata": {},
   "source": [
    "# Bagımlı İki Orneklem T Testi Varsayım Kontrolleri"
   ]
  },
  {
   "cell_type": "markdown",
   "metadata": {},
   "source": [
    "* 1. Normallik Varsayımı"
   ]
  },
  {
   "cell_type": "code",
   "execution_count": 65,
   "metadata": {},
   "outputs": [],
   "source": [
    "from scipy.stats import shapiro"
   ]
  },
  {
   "cell_type": "code",
   "execution_count": 67,
   "metadata": {},
   "outputs": [
    {
     "data": {
      "text/plain": [
       "(0.9780089259147644, 0.6159515380859375)"
      ]
     },
     "execution_count": 67,
     "metadata": {},
     "output_type": "execute_result"
    }
   ],
   "source": [
    "shapiro(AYRIK.ONCESI)\n",
    "# p value degeri 0.10 oldugu icin yani 0.05 degerinden \n",
    "# buyuk oldugu icin h0 reddedemiyoruz\n",
    "# yani ornegimizin dagılımı normaldir\n",
    "shapiro(AYRIK.SONRASI)\n",
    "# P value degeri 0.61 0.05 ten büyük oldugu icin h0 rededilemez\n",
    "# h0 hipotezi ornek dagılım ile teorik normal dagılım arasında \n",
    "# istatiksel olarak anlamlı bir fark yoktur der .bizde h0 hipotezini red edemedik\n",
    "\n"
   ]
  },
  {
   "cell_type": "markdown",
   "metadata": {},
   "source": [
    "* 2. Varsayım kontrolü- levene fonksiyonu"
   ]
  },
  {
   "cell_type": "code",
   "execution_count": 68,
   "metadata": {},
   "outputs": [
    {
     "data": {
      "text/plain": [
       "LeveneResult(statistic=8.31303288672351, pvalue=0.0050844511807370246)"
      ]
     },
     "execution_count": 68,
     "metadata": {},
     "output_type": "execute_result"
    }
   ],
   "source": [
    "import scipy.stats as stats\n",
    "stats.levene(AYRIK.ONCESI,AYRIK.SONRASI)"
   ]
  },
  {
   "cell_type": "code",
   "execution_count": 69,
   "metadata": {},
   "outputs": [],
   "source": [
    "# P value degeri 0.005 0.05 ten kucuk oldugu icin h0 red edilir.\n",
    "# varyansların homojenligi varsayımı saglanmıyor."
   ]
  },
  {
   "cell_type": "markdown",
   "metadata": {},
   "source": [
    "* Varyans homojenligi saglanmadı ne yapılmalı?\n",
    "  - 1.secenek: Veri seti üzerinde bazı aykırılıklar varsa bunlarla ilgili düzenleme islemleri yapılabilir ve varsayımlar tekrar incelenebilir\n",
    "  - 2.secenek: varyans homojenligi bir miktar göz ardı ederek ilgili test gerceklestirilebilir.\n",
    "- sonuc olarak; birinci varsayım saglandı ama ikinci varsayım saglanmadı ama biz bunu göz ardı edecegiz"
   ]
  },
  {
   "cell_type": "markdown",
   "metadata": {},
   "source": [
    "## Bagımlı İki Orneklem T Testi Uygulama"
   ]
  },
  {
   "cell_type": "markdown",
   "metadata": {},
   "source": [
    "* Hipotez Testi"
   ]
  },
  {
   "cell_type": "code",
   "execution_count": 70,
   "metadata": {},
   "outputs": [
    {
     "data": {
      "text/plain": [
       "Ttest_relResult(statistic=-9.281533480429937, pvalue=2.0235251764440722e-11)"
      ]
     },
     "execution_count": 70,
     "metadata": {},
     "output_type": "execute_result"
    }
   ],
   "source": [
    "stats.ttest_rel(AYRIK.ONCESI,AYRIK.SONRASI)"
   ]
  },
  {
   "cell_type": "code",
   "execution_count": 72,
   "metadata": {},
   "outputs": [
    {
     "name": "stdout",
     "output_type": "stream",
     "text": [
      "Test İstatistigi=-9.281533,p_degeri=0.0000\n"
     ]
    }
   ],
   "source": [
    "test_istatistigi,pvalue=stats.ttest_rel(AYRIK[\"ONCESI\"],AYRIK[\"SONRASI\"])\n",
    "print('Test İstatistigi=%4f,p_degeri=%.4f'%(test_istatistigi,pvalue))"
   ]
  },
  {
   "cell_type": "code",
   "execution_count": 73,
   "metadata": {},
   "outputs": [],
   "source": [
    "# p value degeri 0.05 ten kucuk oldugu icin h0 hipotezi red edilir.\n",
    "# Yani calısanlara verilen egitim işe yaramıstır"
   ]
  },
  {
   "cell_type": "markdown",
   "metadata": {},
   "source": [
    "# Nonparametrik Bagımlı İki Orneklem Testi - Wilcoxon Testi"
   ]
  },
  {
   "cell_type": "code",
   "execution_count": null,
   "metadata": {},
   "outputs": [],
   "source": [
    "# normallik ve varyans homojenligi varsayımları saglanmamıs olsun.\n",
    "# Bu durumda wilcoxon testi kullanılır"
   ]
  },
  {
   "cell_type": "code",
   "execution_count": 74,
   "metadata": {},
   "outputs": [
    {
     "data": {
      "text/plain": [
       "WilcoxonResult(statistic=15.0, pvalue=2.491492033374464e-07)"
      ]
     },
     "execution_count": 74,
     "metadata": {},
     "output_type": "execute_result"
    }
   ],
   "source": [
    "stats.wilcoxon(AYRIK.ONCESI,AYRIK.SONRASI)"
   ]
  },
  {
   "cell_type": "code",
   "execution_count": 76,
   "metadata": {},
   "outputs": [
    {
     "name": "stdout",
     "output_type": "stream",
     "text": [
      "Test İstatistigi=15.000000,p_degeri=0.0000\n"
     ]
    }
   ],
   "source": [
    "test_istatistigi,pvalue=stats.wilcoxon(AYRIK[\"ONCESI\"],AYRIK[\"SONRASI\"])\n",
    "print('Test İstatistigi=%4f,p_degeri=%.4f'%(test_istatistigi,pvalue))"
   ]
  },
  {
   "cell_type": "code",
   "execution_count": null,
   "metadata": {},
   "outputs": [],
   "source": [
    "# İki grup arasında anlamlı bir fark gözlenmektedir.\n",
    "# h0 hipotezi p value degeri 0.05 ten kucuk oldugu icin red edilir\n",
    "# Yani verilen egitim performansları olumlu bir sekilde etkilemistir"
   ]
  },
  {
   "cell_type": "markdown",
   "metadata": {},
   "source": [
    "# İki Orneklem Oran Testi"
   ]
  },
  {
   "cell_type": "markdown",
   "metadata": {},
   "source": [
    "- İki oran arasında karsılastırma yapmak icin kullanılır\n",
    "\n",
    "- H0:P1=P2\n",
    "- H1:P1!=P2\n",
    "---------------\n",
    "- H0:P1<=P2\n",
    "- H1:P1>P2\n",
    "---------------\n",
    "- H0:P1>=P2\n",
    "- H1:P1< P2"
   ]
  },
  {
   "cell_type": "code",
   "execution_count": 1,
   "metadata": {},
   "outputs": [],
   "source": [
    "# z üzerinden bi hesaplama yapılır\n"
   ]
  },
  {
   "cell_type": "markdown",
   "metadata": {},
   "source": [
    "* İki Orneklem Oran Testi: Varsayımlar\n",
    "  - n1 > 30\n",
    "  - n2 > 30 "
   ]
  },
  {
   "cell_type": "markdown",
   "metadata": {},
   "source": [
    "## İş Uygulamasi: Kullanıcı Arayüzü Deneyi(AB Testi)\n",
    "\n",
    "* Bir web sitesinde butonların hangisinin tasarımda kullanılacagına karar vermek (yesil buton,mavi buton)\n",
    "\n",
    "* Problem:\n",
    " - Kırmızı buton mu yesil buton mu\n",
    " \n",
    "* Hipotez:\n",
    "  - H0: P1<= P2\n",
    "  - H1: P1>P2\n",
    "* Detaylar:\n",
    "- yesil buton \n",
    "   - 1000 goruntulenme\n",
    "   - 300 tıklama\n",
    "- kırmızı buton\n",
    "   - 1100 goruntulenme\n",
    "   - 250 tıklama"
   ]
  },
  {
   "cell_type": "code",
   "execution_count": 4,
   "metadata": {},
   "outputs": [],
   "source": [
    "from statsmodels.stats.proportion import proportions_ztest"
   ]
  },
  {
   "cell_type": "code",
   "execution_count": 5,
   "metadata": {},
   "outputs": [],
   "source": [
    "import numpy as np\n",
    "basari_sayisi=np.array([300,250])\n",
    "gozlem_sayisi=np.array([1000,1100])"
   ]
  },
  {
   "cell_type": "code",
   "execution_count": 6,
   "metadata": {},
   "outputs": [
    {
     "data": {
      "text/plain": [
       "(3.7857863233209255, 0.0001532232957772221)"
      ]
     },
     "execution_count": 6,
     "metadata": {},
     "output_type": "execute_result"
    }
   ],
   "source": [
    "proportions_ztest(count=basari_sayisi,nobs=gozlem_sayisi)"
   ]
  },
  {
   "cell_type": "code",
   "execution_count": 7,
   "metadata": {},
   "outputs": [],
   "source": [
    "# p value degeri 0.05 ten kucuk oldugu icin\n",
    "# h0 hipotezi red edilir!!!\n",
    "# h0 hipotezi p1 ve p2 oranının birbirine esit oldugunu savunur\n",
    "# yani h0 rededildigine göre  p1 ve p2 oranı esit degildir "
   ]
  },
  {
   "cell_type": "code",
   "execution_count": 8,
   "metadata": {},
   "outputs": [],
   "source": [
    "# İki Orneklem Oran Testinde varsaımımız iki ornegınde orneklem sayısı 30 dan buyuk olmalıdır."
   ]
  },
  {
   "cell_type": "markdown",
   "metadata": {},
   "source": [
    "# Varyans Analizi"
   ]
  },
  {
   "cell_type": "markdown",
   "metadata": {},
   "source": [
    "* İki den fazla grup oldugunda kullanacak oldugumuz hipotez testi yaklasımıdır\n",
    "- Tanım:\n",
    "  - İki yada daha fazla grup ortalması arasında istatistiksel olarak anlamlı bir farklılık olup olmadıgı ogrenilmek istenildiginde kullanılır\n",
    " \n",
    " - H0: m1=m2=m3\n",
    " - H1: esit degillerdir(en az birisi farklıdır)\n",
    " \n",
    "* Varyans analizinde test istatistigi F istatistigidir."
   ]
  },
  {
   "cell_type": "markdown",
   "metadata": {},
   "source": [
    "## Varyans Analizi: Varsayımlar\n",
    "* Gözlemlerin birbirinden bagımsız olması(grupların)\n",
    "* Normal Dagılım\n",
    "* Varyans Homojenligi"
   ]
  },
  {
   "cell_type": "markdown",
   "metadata": {},
   "source": [
    "# İş Uygulaması: Anasayfa İcerik Stratejisi Belirleme"
   ]
  },
  {
   "cell_type": "markdown",
   "metadata": {},
   "source": [
    "* Problem: \n",
    "    Anasayfa da gecirilen süre artırılmak isteniyor\n",
    "* Detaylar:\n",
    " - Bir web sitesi için basarı kriterleri :\n",
    "    - ortalama ziyaret süresi\n",
    "    - hemen cıkıs oranı vb.\n",
    "    \n",
    " - Uzun zaman gecirilen kullanıcıların \n",
    "   reklamlara daha fazla tıkladıgı ve markaya olan baglılıklarının arttıgı biliniyor.\n",
    " -  Buna yonelik olarak benzer haberler farklı resimler yada farklı formatlarda hazırlanarak olusturulan test gruplarına gösteriliyor\n",
    "    - A: Dogal Sekilde,\n",
    "    -  B: Yonlendirici, \n",
    "    -  C:ilgi Cekici"
   ]
  },
  {
   "cell_type": "code",
   "execution_count": 10,
   "metadata": {},
   "outputs": [
    {
     "data": {
      "text/html": [
       "<div>\n",
       "<style scoped>\n",
       "    .dataframe tbody tr th:only-of-type {\n",
       "        vertical-align: middle;\n",
       "    }\n",
       "\n",
       "    .dataframe tbody tr th {\n",
       "        vertical-align: top;\n",
       "    }\n",
       "\n",
       "    .dataframe thead th {\n",
       "        text-align: right;\n",
       "    }\n",
       "</style>\n",
       "<table border=\"1\" class=\"dataframe\">\n",
       "  <thead>\n",
       "    <tr style=\"text-align: right;\">\n",
       "      <th></th>\n",
       "      <th>GRUP_A</th>\n",
       "      <th>GRUP_B</th>\n",
       "      <th>GRUP_C</th>\n",
       "    </tr>\n",
       "  </thead>\n",
       "  <tbody>\n",
       "    <tr>\n",
       "      <td>0</td>\n",
       "      <td>28</td>\n",
       "      <td>31</td>\n",
       "      <td>40</td>\n",
       "    </tr>\n",
       "    <tr>\n",
       "      <td>1</td>\n",
       "      <td>33</td>\n",
       "      <td>32</td>\n",
       "      <td>33</td>\n",
       "    </tr>\n",
       "    <tr>\n",
       "      <td>2</td>\n",
       "      <td>30</td>\n",
       "      <td>30</td>\n",
       "      <td>38</td>\n",
       "    </tr>\n",
       "    <tr>\n",
       "      <td>3</td>\n",
       "      <td>29</td>\n",
       "      <td>30</td>\n",
       "      <td>41</td>\n",
       "    </tr>\n",
       "    <tr>\n",
       "      <td>4</td>\n",
       "      <td>28</td>\n",
       "      <td>33</td>\n",
       "      <td>42</td>\n",
       "    </tr>\n",
       "  </tbody>\n",
       "</table>\n",
       "</div>"
      ],
      "text/plain": [
       "   GRUP_A  GRUP_B  GRUP_C\n",
       "0      28      31      40\n",
       "1      33      32      33\n",
       "2      30      30      38\n",
       "3      29      30      41\n",
       "4      28      33      42"
      ]
     },
     "execution_count": 10,
     "metadata": {},
     "output_type": "execute_result"
    }
   ],
   "source": [
    "import pandas as pd\n",
    "A=pd.DataFrame([28,33,30,29,28,29,27,31,30,32,28,33,25,29,27,31,31,30,31,34,30,32,31,30])\n",
    "B=pd.DataFrame([31,32,30,30,33,32,34,27,36,30,31,30,38,29,30,34,34,31,35,35,33,30,28,30])\n",
    "C=pd.DataFrame([40,33,38,41,42,43,38,35,39,39,36,34,35,40,38,36,39,36,33,35,38,35,40,35])\n",
    "\n",
    "dfs=[A,B,C]\n",
    "ABC=pd.concat(dfs,axis=1)\n",
    "ABC.columns=[\"GRUP_A\",\"GRUP_B\",\"GRUP_C\"]\n",
    "ABC.head()"
   ]
  },
  {
   "cell_type": "markdown",
   "metadata": {},
   "source": [
    "## Varsayım Kontrolu"
   ]
  },
  {
   "cell_type": "code",
   "execution_count": 11,
   "metadata": {},
   "outputs": [],
   "source": [
    "# Grupların birbirinden bagımsız oldugunu varsayıyoruz yani bunu bastan kabul ediyoruz"
   ]
  },
  {
   "cell_type": "code",
   "execution_count": 12,
   "metadata": {},
   "outputs": [],
   "source": [
    "# Normallik Varsayımı-shapiro wilks testi- 3 grubada uyguluyoruz\n",
    "#varyans homojenligi - levene test -3 grubada uyguluyoruz"
   ]
  },
  {
   "cell_type": "code",
   "execution_count": 20,
   "metadata": {},
   "outputs": [],
   "source": [
    "from scipy.stats import shapiro"
   ]
  },
  {
   "cell_type": "code",
   "execution_count": 15,
   "metadata": {},
   "outputs": [
    {
     "data": {
      "text/plain": [
       "(0.9765340089797974, 0.8244526386260986)"
      ]
     },
     "execution_count": 15,
     "metadata": {},
     "output_type": "execute_result"
    }
   ],
   "source": [
    "shapiro(ABC[\"GRUP_A\"])"
   ]
  },
  {
   "cell_type": "code",
   "execution_count": 16,
   "metadata": {},
   "outputs": [
    {
     "data": {
      "text/plain": [
       "(0.9562814831733704, 0.36835354566574097)"
      ]
     },
     "execution_count": 16,
     "metadata": {},
     "output_type": "execute_result"
    }
   ],
   "source": [
    "shapiro(ABC[\"GRUP_B\"])"
   ]
  },
  {
   "cell_type": "code",
   "execution_count": 17,
   "metadata": {},
   "outputs": [
    {
     "data": {
      "text/plain": [
       "(0.9551042914390564, 0.3481234610080719)"
      ]
     },
     "execution_count": 17,
     "metadata": {},
     "output_type": "execute_result"
    }
   ],
   "source": [
    "shapiro(ABC[\"GRUP_C\"])"
   ]
  },
  {
   "cell_type": "code",
   "execution_count": 18,
   "metadata": {},
   "outputs": [],
   "source": [
    "# h0 hipotezi normallik ve teorik normal dagılım arasında fark yoktur der.\n",
    "#p value degeri 3 ü icinde 0.05 ten buyuk oldugu icin h0 red edilemez.\n",
    "# Yani 3 grup içinde normallik varsayımı saglanmaktadır."
   ]
  },
  {
   "cell_type": "code",
   "execution_count": 23,
   "metadata": {},
   "outputs": [
    {
     "data": {
      "text/plain": [
       "LeveneResult(statistic=1.2941031941031946, pvalue=0.2807129957308708)"
      ]
     },
     "execution_count": 23,
     "metadata": {},
     "output_type": "execute_result"
    }
   ],
   "source": [
    "import scipy.stats as stats\n",
    "stats.levene(ABC[\"GRUP_A\"],ABC[\"GRUP_B\"],ABC[\"GRUP_C\"])"
   ]
  },
  {
   "cell_type": "code",
   "execution_count": 24,
   "metadata": {},
   "outputs": [],
   "source": [
    "# H0 hipotezi varyanslar homojendir der.\n",
    "# p value degeri 0.05 ten buyuk oldugu icin red edilemez.\n",
    "# Yani grupların varyansları homojendir"
   ]
  },
  {
   "cell_type": "markdown",
   "metadata": {},
   "source": [
    "* Varyanslar saglandı"
   ]
  },
  {
   "cell_type": "markdown",
   "metadata": {},
   "source": [
    "## Hipotez Testinin Uygulanması"
   ]
  },
  {
   "cell_type": "code",
   "execution_count": 25,
   "metadata": {},
   "outputs": [],
   "source": [
    "from scipy.stats import f_oneway"
   ]
  },
  {
   "cell_type": "code",
   "execution_count": 26,
   "metadata": {},
   "outputs": [
    {
     "data": {
      "text/plain": [
       "F_onewayResult(statistic=55.74029712163417, pvalue=3.9213983154047106e-15)"
      ]
     },
     "execution_count": 26,
     "metadata": {},
     "output_type": "execute_result"
    }
   ],
   "source": [
    "f_oneway(ABC[\"GRUP_A\"],ABC[\"GRUP_B\"],ABC[\"GRUP_C\"])"
   ]
  },
  {
   "cell_type": "code",
   "execution_count": 28,
   "metadata": {},
   "outputs": [
    {
     "name": "stdout",
     "output_type": "stream",
     "text": [
      "0.00000\n"
     ]
    }
   ],
   "source": [
    "print('{:.5f}'.format(f_oneway(ABC[\"GRUP_A\"],ABC[\"GRUP_B\"],ABC[\"GRUP_C\"])[1]))\n",
    "\n",
    "# P value degeri 0.05 ten kucuk oldugu icin h0 red edilir"
   ]
  },
  {
   "cell_type": "code",
   "execution_count": 29,
   "metadata": {},
   "outputs": [],
   "source": [
    "# H0 HİPOTEZİ 3 GRUBA İLİSKİN web sitelerinde gecirilen sürelerde anlamlı bir fark yoktur der.\n",
    "# Ve biz bu H0 hipotezinin p value 0.05 ten kucuk oldugu icin red ederiz\n",
    "# Gruplar arasında anlamlı bir fark vardır"
   ]
  },
  {
   "cell_type": "code",
   "execution_count": 31,
   "metadata": {},
   "outputs": [
    {
     "data": {
      "text/html": [
       "<div>\n",
       "<style scoped>\n",
       "    .dataframe tbody tr th:only-of-type {\n",
       "        vertical-align: middle;\n",
       "    }\n",
       "\n",
       "    .dataframe tbody tr th {\n",
       "        vertical-align: top;\n",
       "    }\n",
       "\n",
       "    .dataframe thead th {\n",
       "        text-align: right;\n",
       "    }\n",
       "</style>\n",
       "<table border=\"1\" class=\"dataframe\">\n",
       "  <thead>\n",
       "    <tr style=\"text-align: right;\">\n",
       "      <th></th>\n",
       "      <th>count</th>\n",
       "      <th>mean</th>\n",
       "      <th>std</th>\n",
       "      <th>min</th>\n",
       "      <th>25%</th>\n",
       "      <th>50%</th>\n",
       "      <th>75%</th>\n",
       "      <th>max</th>\n",
       "    </tr>\n",
       "  </thead>\n",
       "  <tbody>\n",
       "    <tr>\n",
       "      <td>GRUP_A</td>\n",
       "      <td>24.0</td>\n",
       "      <td>29.958333</td>\n",
       "      <td>2.136213</td>\n",
       "      <td>25.0</td>\n",
       "      <td>28.75</td>\n",
       "      <td>30.0</td>\n",
       "      <td>31.00</td>\n",
       "      <td>34.0</td>\n",
       "    </tr>\n",
       "    <tr>\n",
       "      <td>GRUP_B</td>\n",
       "      <td>24.0</td>\n",
       "      <td>31.791667</td>\n",
       "      <td>2.669948</td>\n",
       "      <td>27.0</td>\n",
       "      <td>30.00</td>\n",
       "      <td>31.0</td>\n",
       "      <td>34.00</td>\n",
       "      <td>38.0</td>\n",
       "    </tr>\n",
       "    <tr>\n",
       "      <td>GRUP_C</td>\n",
       "      <td>24.0</td>\n",
       "      <td>37.416667</td>\n",
       "      <td>2.796219</td>\n",
       "      <td>33.0</td>\n",
       "      <td>35.00</td>\n",
       "      <td>38.0</td>\n",
       "      <td>39.25</td>\n",
       "      <td>43.0</td>\n",
       "    </tr>\n",
       "  </tbody>\n",
       "</table>\n",
       "</div>"
      ],
      "text/plain": [
       "        count       mean       std   min    25%   50%    75%   max\n",
       "GRUP_A   24.0  29.958333  2.136213  25.0  28.75  30.0  31.00  34.0\n",
       "GRUP_B   24.0  31.791667  2.669948  27.0  30.00  31.0  34.00  38.0\n",
       "GRUP_C   24.0  37.416667  2.796219  33.0  35.00  38.0  39.25  43.0"
      ]
     },
     "execution_count": 31,
     "metadata": {},
     "output_type": "execute_result"
    }
   ],
   "source": [
    "ABC.describe().T\n",
    "# 3 . tarz  yani C grubu haber daha çok etkilidir "
   ]
  },
  {
   "cell_type": "markdown",
   "metadata": {},
   "source": [
    "## Varsayımlar Saglanmasaydı"
   ]
  },
  {
   "cell_type": "markdown",
   "metadata": {},
   "source": [
    "# Nonparametrik Hipotez Testi - kruskal wollist testi"
   ]
  },
  {
   "cell_type": "code",
   "execution_count": 32,
   "metadata": {},
   "outputs": [],
   "source": [
    "from scipy.stats import kruskal"
   ]
  },
  {
   "cell_type": "code",
   "execution_count": 33,
   "metadata": {},
   "outputs": [
    {
     "data": {
      "text/plain": [
       "KruskalResult(statistic=43.249313925885104, pvalue=4.060044633385442e-10)"
      ]
     },
     "execution_count": 33,
     "metadata": {},
     "output_type": "execute_result"
    }
   ],
   "source": [
    "kruskal(ABC[\"GRUP_A\"],ABC[\"GRUP_B\"],ABC[\"GRUP_C\"])"
   ]
  },
  {
   "cell_type": "code",
   "execution_count": 34,
   "metadata": {},
   "outputs": [],
   "source": [
    "# p value 0.05 ten kucuk oldugu icin h0 hipotezi red edilir"
   ]
  },
  {
   "cell_type": "markdown",
   "metadata": {},
   "source": []
  },
  {
   "cell_type": "markdown",
   "metadata": {},
   "source": [
    "# Korelasyon Analizi"
   ]
  },
  {
   "cell_type": "code",
   "execution_count": 2,
   "metadata": {},
   "outputs": [],
   "source": [
    "# Degiskenler arasındaki iliski,bu iliskinin yönü ve \n",
    "# ve şiddeti ile ilgili bilgiler sağlayan istatistiksel bir yöntemdir."
   ]
  },
  {
   "cell_type": "markdown",
   "metadata": {},
   "source": [
    "* 1 ise mükemmel pozitif korelasyon\n",
    "* 0.7,0.8,0.9  yüksek pozitif korelasyon\n",
    "* 0.5 - 0.9 arasında iliski varsa anlamlı bir iliski vardır deriz\n",
    "* 0.5-0 çok anlamlı değil diye degerlendiririz\n",
    "* 0 ilişki yok\n",
    "* 0.5 düşük pozitif korelasyon\n",
    "* -0.5 düşük negatif korelasyon\n",
    "* 0.9 ile 0.5 arasında ise ; düşük pozitif korelasyonla\n",
    "* yüksek pozitif korelasyon arasında deriz\n",
    "\n",
    "\n",
    "Korelasyon Anlamlıgının Testi\n",
    "\n",
    "* H0:p=0# p burada ro ifadesi demek \n",
    "* H1:p=0 # p burada ro ifadesi demek  olasılık degeri degil\n",
    "\n",
    "* Korelasyon test istatigi: \n",
    "    \n",
    "    \n",
    "    t = r kök(n-2/(-r*r))\n",
    "\n",
    "* Korelasyon Analizi : Varsayımlar\n",
    "    - İki degisken içinde normallik varsayımı\n",
    "    - Varsayım saglanıyorsa Pearson Korelasyon Katsayısı\n",
    "    - Varsayım saglanmıyorsa Spearman Korelasyon Katsayısı\n",
    "    "
   ]
  },
  {
   "cell_type": "markdown",
   "metadata": {},
   "source": [
    "# İş Uygulaması: Bahşiş ile Hesap Arasındaki İliskinin İncelenmesi"
   ]
  },
  {
   "cell_type": "markdown",
   "metadata": {},
   "source": [
    "* Bahşis ile ödenen hesap arasında korelasyon var mı?\n",
    "\n",
    "* h0: p=0  (ro katsayısı) korelasyon yok \n",
    "* h1=p!=0 korelasyon var"
   ]
  },
  {
   "cell_type": "markdown",
   "metadata": {},
   "source": [
    "## Korelasyon Analizi"
   ]
  },
  {
   "cell_type": "markdown",
   "metadata": {},
   "source": [
    "* Bahşiş veri seti:\n",
    "   * total_bill :yemegin toplam fiyatı(bahsis ve vergiler dahil)\n",
    "   * tip: bahşiş\n",
    "   * sex: ücret ödeyen kişinin cinsiyeti(0=male,1=female)\n",
    "   * smoker : grupta sigara içen var mı(0:No,1: Yes)\n",
    "   * day : gün (3=Thur,4=Fri,5=Sat,6=Sun)\n",
    "   * time: ne zaman? (0: Day,1=Night)\n",
    "   * size:grupta kaç kişi var?"
   ]
  },
  {
   "cell_type": "code",
   "execution_count": 5,
   "metadata": {},
   "outputs": [
    {
     "data": {
      "text/html": [
       "<div>\n",
       "<style scoped>\n",
       "    .dataframe tbody tr th:only-of-type {\n",
       "        vertical-align: middle;\n",
       "    }\n",
       "\n",
       "    .dataframe tbody tr th {\n",
       "        vertical-align: top;\n",
       "    }\n",
       "\n",
       "    .dataframe thead th {\n",
       "        text-align: right;\n",
       "    }\n",
       "</style>\n",
       "<table border=\"1\" class=\"dataframe\">\n",
       "  <thead>\n",
       "    <tr style=\"text-align: right;\">\n",
       "      <th></th>\n",
       "      <th>total_bill</th>\n",
       "      <th>tip</th>\n",
       "      <th>sex</th>\n",
       "      <th>smoker</th>\n",
       "      <th>day</th>\n",
       "      <th>time</th>\n",
       "      <th>size</th>\n",
       "    </tr>\n",
       "  </thead>\n",
       "  <tbody>\n",
       "    <tr>\n",
       "      <td>0</td>\n",
       "      <td>16.99</td>\n",
       "      <td>1.01</td>\n",
       "      <td>Female</td>\n",
       "      <td>No</td>\n",
       "      <td>Sun</td>\n",
       "      <td>Dinner</td>\n",
       "      <td>2</td>\n",
       "    </tr>\n",
       "    <tr>\n",
       "      <td>1</td>\n",
       "      <td>10.34</td>\n",
       "      <td>1.66</td>\n",
       "      <td>Male</td>\n",
       "      <td>No</td>\n",
       "      <td>Sun</td>\n",
       "      <td>Dinner</td>\n",
       "      <td>3</td>\n",
       "    </tr>\n",
       "    <tr>\n",
       "      <td>2</td>\n",
       "      <td>21.01</td>\n",
       "      <td>3.50</td>\n",
       "      <td>Male</td>\n",
       "      <td>No</td>\n",
       "      <td>Sun</td>\n",
       "      <td>Dinner</td>\n",
       "      <td>3</td>\n",
       "    </tr>\n",
       "    <tr>\n",
       "      <td>3</td>\n",
       "      <td>23.68</td>\n",
       "      <td>3.31</td>\n",
       "      <td>Male</td>\n",
       "      <td>No</td>\n",
       "      <td>Sun</td>\n",
       "      <td>Dinner</td>\n",
       "      <td>2</td>\n",
       "    </tr>\n",
       "    <tr>\n",
       "      <td>4</td>\n",
       "      <td>24.59</td>\n",
       "      <td>3.61</td>\n",
       "      <td>Female</td>\n",
       "      <td>No</td>\n",
       "      <td>Sun</td>\n",
       "      <td>Dinner</td>\n",
       "      <td>4</td>\n",
       "    </tr>\n",
       "  </tbody>\n",
       "</table>\n",
       "</div>"
      ],
      "text/plain": [
       "   total_bill   tip     sex smoker  day    time  size\n",
       "0       16.99  1.01  Female     No  Sun  Dinner     2\n",
       "1       10.34  1.66    Male     No  Sun  Dinner     3\n",
       "2       21.01  3.50    Male     No  Sun  Dinner     3\n",
       "3       23.68  3.31    Male     No  Sun  Dinner     2\n",
       "4       24.59  3.61  Female     No  Sun  Dinner     4"
      ]
     },
     "execution_count": 5,
     "metadata": {},
     "output_type": "execute_result"
    }
   ],
   "source": [
    "import seaborn as sns\n",
    "tips=sns.load_dataset('tips')\n",
    "df=tips.copy()\n",
    "df.head()"
   ]
  },
  {
   "cell_type": "code",
   "execution_count": 6,
   "metadata": {},
   "outputs": [],
   "source": [
    "# Toplam hesabın bahşis ile olan ilişkisini temizledik\n",
    "\n",
    "df[\"total_bill\"]= df[\"total_bill\"]-df[\"tip\"]"
   ]
  },
  {
   "cell_type": "code",
   "execution_count": 7,
   "metadata": {},
   "outputs": [
    {
     "data": {
      "text/html": [
       "<div>\n",
       "<style scoped>\n",
       "    .dataframe tbody tr th:only-of-type {\n",
       "        vertical-align: middle;\n",
       "    }\n",
       "\n",
       "    .dataframe tbody tr th {\n",
       "        vertical-align: top;\n",
       "    }\n",
       "\n",
       "    .dataframe thead th {\n",
       "        text-align: right;\n",
       "    }\n",
       "</style>\n",
       "<table border=\"1\" class=\"dataframe\">\n",
       "  <thead>\n",
       "    <tr style=\"text-align: right;\">\n",
       "      <th></th>\n",
       "      <th>total_bill</th>\n",
       "      <th>tip</th>\n",
       "      <th>sex</th>\n",
       "      <th>smoker</th>\n",
       "      <th>day</th>\n",
       "      <th>time</th>\n",
       "      <th>size</th>\n",
       "    </tr>\n",
       "  </thead>\n",
       "  <tbody>\n",
       "    <tr>\n",
       "      <td>0</td>\n",
       "      <td>15.98</td>\n",
       "      <td>1.01</td>\n",
       "      <td>Female</td>\n",
       "      <td>No</td>\n",
       "      <td>Sun</td>\n",
       "      <td>Dinner</td>\n",
       "      <td>2</td>\n",
       "    </tr>\n",
       "    <tr>\n",
       "      <td>1</td>\n",
       "      <td>8.68</td>\n",
       "      <td>1.66</td>\n",
       "      <td>Male</td>\n",
       "      <td>No</td>\n",
       "      <td>Sun</td>\n",
       "      <td>Dinner</td>\n",
       "      <td>3</td>\n",
       "    </tr>\n",
       "    <tr>\n",
       "      <td>2</td>\n",
       "      <td>17.51</td>\n",
       "      <td>3.50</td>\n",
       "      <td>Male</td>\n",
       "      <td>No</td>\n",
       "      <td>Sun</td>\n",
       "      <td>Dinner</td>\n",
       "      <td>3</td>\n",
       "    </tr>\n",
       "    <tr>\n",
       "      <td>3</td>\n",
       "      <td>20.37</td>\n",
       "      <td>3.31</td>\n",
       "      <td>Male</td>\n",
       "      <td>No</td>\n",
       "      <td>Sun</td>\n",
       "      <td>Dinner</td>\n",
       "      <td>2</td>\n",
       "    </tr>\n",
       "    <tr>\n",
       "      <td>4</td>\n",
       "      <td>20.98</td>\n",
       "      <td>3.61</td>\n",
       "      <td>Female</td>\n",
       "      <td>No</td>\n",
       "      <td>Sun</td>\n",
       "      <td>Dinner</td>\n",
       "      <td>4</td>\n",
       "    </tr>\n",
       "  </tbody>\n",
       "</table>\n",
       "</div>"
      ],
      "text/plain": [
       "   total_bill   tip     sex smoker  day    time  size\n",
       "0       15.98  1.01  Female     No  Sun  Dinner     2\n",
       "1        8.68  1.66    Male     No  Sun  Dinner     3\n",
       "2       17.51  3.50    Male     No  Sun  Dinner     3\n",
       "3       20.37  3.31    Male     No  Sun  Dinner     2\n",
       "4       20.98  3.61  Female     No  Sun  Dinner     4"
      ]
     },
     "execution_count": 7,
     "metadata": {},
     "output_type": "execute_result"
    }
   ],
   "source": [
    "df.head()"
   ]
  },
  {
   "cell_type": "code",
   "execution_count": 9,
   "metadata": {},
   "outputs": [
    {
     "data": {
      "image/png": "[encoded data removed]",
      "text/plain": [
       "<Figure size 432x288 with 1 Axes>"
      ]
     },
     "metadata": {
      "needs_background": "light"
     },
     "output_type": "display_data"
    }
   ],
   "source": [
    "df.plot.scatter(\"tip\",\"total_bill\");"
   ]
  },
  {
   "cell_type": "markdown",
   "metadata": {},
   "source": [
    "## Korelasyon Varsayım Kontrolü"
   ]
  },
  {
   "cell_type": "code",
   "execution_count": 10,
   "metadata": {},
   "outputs": [],
   "source": [
    "from scipy.stats import shapiro"
   ]
  },
  {
   "cell_type": "code",
   "execution_count": 11,
   "metadata": {},
   "outputs": [
    {
     "name": "stdout",
     "output_type": "stream",
     "text": [
      "Test İstatistigi= 0.8978, p- degeri=0.0000\n",
      "Test İstatistigi= 0.9136, p- degeri=0.0000\n"
     ]
    }
   ],
   "source": [
    "test_istatistigi,pvalue=shapiro(df[\"tip\"])\n",
    "print('Test İstatistigi= %.4f, p- degeri=%.4f' % (test_istatistigi,pvalue))\n",
    "test_istatistigi,pvalue=shapiro(df[\"total_bill\"])\n",
    "print('Test İstatistigi= %.4f, p- degeri=%.4f' % (test_istatistigi,pvalue))"
   ]
  },
  {
   "cell_type": "code",
   "execution_count": 12,
   "metadata": {},
   "outputs": [],
   "source": [
    "# Yorumlama : p value degeri 0.05 ten kücük oldugu icin h0 hipotezi red edilir.\n",
    "# H0 hipotezi ;örnek dağılımla teorik normal dağılım arasında istatistiksel olarak anlamlı bir fark yoktur der.\n",
    "# Yani H0 hipotezini red ettiğimiz için örnek dağılımla teorik dağılım arasında fark vardır deriz. Yani dağılımlar birbirine benzemiyordur.\n",
    "# Normallik varsayımı sağlanmıyordur.\n"
   ]
  },
  {
   "cell_type": "markdown",
   "metadata": {},
   "source": [
    "## Parametrik Hipotez Testi"
   ]
  },
  {
   "cell_type": "markdown",
   "metadata": {},
   "source": [
    "* Korelasyon Katsayısı"
   ]
  },
  {
   "cell_type": "code",
   "execution_count": 15,
   "metadata": {},
   "outputs": [
    {
     "data": {
      "text/plain": [
       "0.5766634471096381"
      ]
     },
     "execution_count": 15,
     "metadata": {},
     "output_type": "execute_result"
    }
   ],
   "source": [
    "# iki degisken arasindaki korelasyon katsayısına bakmak icin corr fonksiyonu kullanılır.\n",
    "df[\"tip\"].corr(df[\"total_bill\"])"
   ]
  },
  {
   "cell_type": "code",
   "execution_count": null,
   "metadata": {},
   "outputs": [],
   "source": [
    "# Pearson korelasyon katsayısı ancak değişkenler için normallik varsayımı sağlandığında hesaplanabilir."
   ]
  },
  {
   "cell_type": "code",
   "execution_count": 17,
   "metadata": {},
   "outputs": [
    {
     "data": {
      "text/plain": [
       "0.593691939408997"
      ]
     },
     "execution_count": 17,
     "metadata": {},
     "output_type": "execute_result"
    }
   ],
   "source": [
    "# Ama burada sağlanmadığı için spearman korelasyon katsayısına bakılır\n",
    "df[\"tip\"].corr(df[\"total_bill\"],method=\"spearman\")"
   ]
  },
  {
   "cell_type": "code",
   "execution_count": null,
   "metadata": {},
   "outputs": [],
   "source": [
    "# Katsayinin Yorumlanmasi: Pozitif yönde orta şiddette bir ilişki var. "
   ]
  },
  {
   "cell_type": "markdown",
   "metadata": {},
   "source": [
    "* Korelasyon Anlamlılığının Testi"
   ]
  },
  {
   "cell_type": "code",
   "execution_count": 19,
   "metadata": {},
   "outputs": [
    {
     "name": "stdout",
     "output_type": "stream",
     "text": [
      "Test İstatistigi= 0.5767, p- degeri=0.0000\n"
     ]
    }
   ],
   "source": [
    "# Elimizdeki ilgili katsayının testini yapalım.Bir katsayı bulduk ama bu katsayı anlamlı mı ?\n",
    "\n",
    "from scipy.stats.stats import pearsonr\n",
    "test_istatistigi,pvalue=pearsonr(df[\"tip\"],df[\"total_bill\"])\n",
    "print('Korelasyon Katsayısı= %.4f, p- degeri=%.4f' % (test_istatistigi,pvalue))\n"
   ]
  },
  {
   "cell_type": "code",
   "execution_count": null,
   "metadata": {},
   "outputs": [],
   "source": [
    "# Yorumlama: Degiskenler arasında anlamlı bir iliski yoktur denen H0 hipotezini red ediyoruz.\n",
    "# Yan değişkenler arasinda anlamlı bir ilişki korelasyon vardır deriz."
   ]
  },
  {
   "cell_type": "markdown",
   "metadata": {},
   "source": [
    "## Nonparametrik Hipotez Testi"
   ]
  },
  {
   "cell_type": "markdown",
   "metadata": {},
   "source": [
    "* Varsayımlar sağlanmadığında ;\n",
    "     - Spearman Testi\n",
    "     - Kendall Tau Testi yapılır."
   ]
  },
  {
   "cell_type": "code",
   "execution_count": 21,
   "metadata": {},
   "outputs": [
    {
     "data": {
      "text/plain": [
       "SpearmanrResult(correlation=0.593691939408997, pvalue=1.2452285137560276e-24)"
      ]
     },
     "execution_count": 21,
     "metadata": {},
     "output_type": "execute_result"
    }
   ],
   "source": [
    "from scipy.stats import stats\n",
    "stats.spearmanr(df[\"tip\"],df[\"total_bill\"])"
   ]
  },
  {
   "cell_type": "code",
   "execution_count": 25,
   "metadata": {},
   "outputs": [
    {
     "name": "stdout",
     "output_type": "stream",
     "text": [
      "Test İstatistigi= 0.5937, p- degeri=0.0000\n"
     ]
    }
   ],
   "source": [
    "# Çıkan sonuca göre degiskenler arasında anlamlı fark yoktur diyen h0 hipotezi red edilir.\n",
    "# Yani değişkenler arasinda ilişki vardır bu orta şiddetli bir ilişkidir. Ve bu ilişki anlamlıdır.\n",
    "test_istatistigi,pvalue=stats.spearmanr(df[\"tip\"],df[\"total_bill\"])\n",
    "print('Korelasyon Katsayısı= %.4f, p- degeri=%.4f' % (test_istatistigi,pvalue))\n"
   ]
  },
  {
   "cell_type": "code",
   "execution_count": 26,
   "metadata": {},
   "outputs": [
    {
     "name": "stdout",
     "output_type": "stream",
     "text": [
      "Korelasyon Katsayısı= 0.4401, p- degeri=0.0000\n"
     ]
    }
   ],
   "source": [
    "# Kendall Tau Testi\n",
    "test_istatistigi,pvalue=stats.kendalltau(df[\"tip\"],df[\"total_bill\"])\n",
    "print('Korelasyon Katsayısı= %.4f, p- degeri=%.4f' % (test_istatistigi,pvalue))"
   ]
  },
  {
   "cell_type": "code",
   "execution_count": null,
   "metadata": {},
   "outputs": [],
   "source": []
  },
  {
   "cell_type": "code",
   "execution_count": null,
   "metadata": {},
   "outputs": [],
   "source": []
  },
  {
   "cell_type": "code",
   "execution_count": null,
   "metadata": {},
   "outputs": [],
   "source": []
  },
  {
   "cell_type": "code",
   "execution_count": null,
   "metadata": {},
   "outputs": [],
   "source": []
  },
  {
   "cell_type": "code",
   "execution_count": null,
   "metadata": {},
   "outputs": [],
   "source": []
  },
  {
   "cell_type": "code",
   "execution_count": null,
   "metadata": {},
   "outputs": [],
   "source": []
  }
 ],
 "metadata": {
  "kernelspec": {
   "display_name": "Python 3",
   "language": "python",
   "name": "python3"
  },
  "language_info": {
   "codemirror_mode": {
    "name": "ipython",
    "version": 3
   },
   "file_extension": ".py",
   "mimetype": "text/x-python",
   "name": "python",
   "nbconvert_exporter": "python",
   "pygments_lexer": "ipython3",
   "version": "3.7.4"
  }
 },
 "nbformat": 4,
 "nbformat_minor": 4
}
