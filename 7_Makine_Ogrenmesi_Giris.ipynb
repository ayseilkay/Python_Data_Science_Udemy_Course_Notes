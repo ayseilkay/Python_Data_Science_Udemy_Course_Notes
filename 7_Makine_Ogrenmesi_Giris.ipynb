{
 "cells": [
  {
   "cell_type": "code",
   "execution_count": null,
   "metadata": {},
   "outputs": [],
   "source": [
    "# Terminoloji\n",
    "\n",
    "# bagımlı degisken : y -----kategorik veya sürekli olabilir (hedef degisken,cıktı)\n",
    "# bagımsız degisken : x\n",
    "# gözetimli öğrenme : bagımsız degiskenler ile bagımlı degiskeni tahmin etme islemi\n",
    "# gözetimsiz öğrenme : yanıt degiskenin olmamasıdır\n",
    "# regresyon ise bagımlı degiskeni süreklidir.\n",
    "# bagımlı degiskeni sürekli degisken degil ise sınıflandırma problemidir.\n",
    "# Degisken Türleri\n",
    "    - Sayısal Degiskenler(nicel,kantitatif)\n",
    "    - Kategorik Degiskenler(nitel,kalitatif)\n",
    "# Ölçek Türleri\n",
    "    - Sayısal Degiskenler icin: Aralık ve Oran\n",
    "    - Kategorik Degiskenler icin: Nominal ve Ordinal\n",
    "        \n",
    "# Feature Engineering (Degisken Mühendisligi) : Veri seti olusturma aşamasında \n",
    "# degisken olusturma asamasıdır.\n",
    "# Degisken Seçimi: bagımlı degiskeni tahmin etme durumunda basarılı olan ayırt edici özelligi olan \n",
    "# degiskenlerin secilebilmesidir.\n",
    "\n",
    "# Model Seçimi\n",
    "\n",
    "- Model secimi icin iki durum söz konusudur.\n",
    "birincisi: Olusabilecek degisken kombinasyonları ile olusturulan modeller \n",
    "    arasından en iyi modelin secilmesi\n",
    " ikincisi: Kurulan birbirinden farklı modeller arasından model secimi\n",
    "\n",
    "    Model neye göre secilir?\n",
    "* Regresyon icin acıklanabilirlik oranı ve RMSE benzeri bir değer.\n",
    "* Sınıflandırma için doğru sınıflandırma oranı benzeri bir değer.\n",
    "\n",
    "Overfitting: aşırı öğrenme,rassallığını kaybediyor ve bu nedenle gercek \n",
    "    hayata uyguladıgımızda iyi calısmıyor.\n",
    "    \n",
    "Deterministic Modeller: Degiskenler arasında kesin bir ilişki oldugunu varsayan\n",
    "    modellere deterministic modeller denir. x e verdiğim bir değer ile y nin kesin\n",
    "    alacagı degeri direk bilirim. y=2,5*x\n",
    "Stokastik Modeller: y=2,5*x+tesadüfi hata\n",
    "\n"
   ]
  },
  {
   "cell_type": "code",
   "execution_count": null,
   "metadata": {},
   "outputs": [],
   "source": [
    "# Model Dogrulama Yöntemleri\n",
    "\n",
    "Modellerin ürettigi sonucların doğru değerlendirilmesi çalışmaları\n",
    "1. Holdout Yöntemi\n",
    "- Verisetini train ve test olarak ayırmak\n",
    "eğitim setiyle kurulan modelin performansı test seti ile ölçülür.\n",
    "2. K- Katlı Çapraz Doğrulama - k fold cross validation\n",
    "orjinal veri seti eğitim ve test seti olarak 2 ye ayrılır.\n",
    "eğitim seti k alt parçaya ayrılır. bu k parçadan biri dışarda bırakılır\n",
    "ve sonra geri kalan parçalarla model kurulup dışarda bırakılan parça ile \n",
    "test edilir. Benzer seklde bu islem tekrar eder. 5 parcaya bölündügü düsünülerse \n",
    "elde 5 tane test hatası olur ve bu hataların ortalması alındıgında elimizde \n",
    "egitim hatası yani validasyon hatası denir.\n",
    "(traver hesti-statistical learning) \n",
    "\n",
    "Eğitim hatası test hatasının kötü bir tahminleyicisidir.\n",
    "Bu nedenle biz eğitim hatasını iyi bir tahminci yapmaya calısırız.Bunu yapmanın\n",
    "yoluda valide etmektir.veri setinin eğitim setinden bir tane eğitim hatası elde\n",
    "edip bunu test hatası ile karsılasırmak  yerine,eğitim setini k parcaya ayırıp\n",
    "her bir parca üzerinden eğitim hatası buldugumuzda dogrulamıs oluruz.\n",
    "\n",
    "Overfittingin önüne gecme konusunda daha gercekci sonuclar verir.\n",
    "3.  Leave One Out Yöntemi\n",
    "k çapraz dogrulamanın özel bir halidir.\n",
    "k adet küme sayısı vardır.küme sayısı gözlem sayısına eşittir.her iterasyoonda bir gözlem\n",
    "dısarda bırakılır.diğer geride kalanla model kurulup dısarda bırakılan ile test edilir\n",
    "genelde cok kullanılmaz.\n",
    "4. Bootstrap \n",
    "Orjinal veri seti içinde yerine koymalı örnekleme yöntemiyle örnekler cekilir.\n"
   ]
  },
  {
   "cell_type": "code",
   "execution_count": 3,
   "metadata": {
    "collapsed": true,
    "jupyter": {
     "outputs_hidden": true
    }
   },
   "outputs": [
    {
     "ename": "SyntaxError",
     "evalue": "invalid syntax (<ipython-input-3-dc8ea8c0e5f1>, line 2)",
     "output_type": "error",
     "traceback": [
      "\u001b[1;36m  File \u001b[1;32m\"<ipython-input-3-dc8ea8c0e5f1>\"\u001b[1;36m, line \u001b[1;32m2\u001b[0m\n\u001b[1;33m    Modelin tahmin basarılarının degerlendirilmesidir.\u001b[0m\n\u001b[1;37m                 ^\u001b[0m\n\u001b[1;31mSyntaxError\u001b[0m\u001b[1;31m:\u001b[0m invalid syntax\n"
     ]
    }
   ],
   "source": [
    "# Model Basarı Degerlendirme Yöntemleri\n",
    "Modelin tahmin basarılarının degerlendirilmesidir.\n",
    "# Regresyon\n",
    "- MSE (HATA KARELERİN ORTALAMASI):Mean Square Error\n",
    "    gercek deger - tahmin edilen degerler karelerinin toplamının ortalması\n",
    "- SSE (HATA KARELER TOPLAMI):Sum Square Error\n",
    "- RMSE(HATA KARELER ORTALAMASININ KAREKÖKÜ )\n",
    "- MAE(MEAN ABSOLUTE ERROR) gercek deger - tahmin edilen degerlerin mutlak degeri\n",
    "\n",
    "# Sınıflandırma\n",
    "- KARISIKLIK MATRİSİ- Confusion Matrix\n",
    "----------------------------------------\n",
    "Gercek sınıf       Tahmin edilen sınıf\n",
    "                    Sınıf=1   Sınıf=0\n",
    "Sınıf =1              TP        FN\n",
    "Sınıf=0               FP        TN\n",
    "----------------------------------------\n",
    "Dogruluk: TP+TN/Hepsi\n",
    "Hata Oranı: FN+FP/Hepsi\n",
    "Kesinlik : TP/(TP+FN)\n",
    "Anma: TP/(TP+FN)\n",
    "    \n",
    "- ROC EĞRİSİ\n",
    "Bir veya birden fazla sınıflandırıcının basarısının degerlendirilmesi \n",
    "icin kullanılan degerdir.\n",
    " AUC degeri : eğri altında kalan alandır.Eğri altında kalan alan arttıkca \n",
    "        model daha basarılıdır seklinde yorum yapılabilir."
   ]
  },
  {
   "cell_type": "code",
   "execution_count": null,
   "metadata": {},
   "outputs": [],
   "source": [
    "# Yanlılık - Varyans Degis Tokusu\n",
    " ( Bias - Variance Tradeoff)\n",
    "Modellerin Tahmin Başarılarının Değerlendirilmesi\n",
    "\n",
    "- Eğitim hatası test hatasının kötü bir tahminleyicisidir.\n",
    "- Model değerlendirme 2 türlü yapılır. Biri eğitim hatası üzerinden \n",
    "diğeri test hatası üzerinden.\n",
    "\n",
    "overfitting : yüksek varyans - asırı ögrenme\n",
    "underfitting : yüksek yanlılık - az öğrenmis\n",
    "varyans : degişenlik ,hassaslık,esneklik demektir.\n",
    "veriseti içindeki yapıyı temsil etme kabiliyeti artıkca varyansı artar , yanlılıgı azalır.\n",
    "doğru model yapısı: düşük yanlılık, düşük varyans \n",
    "\n",
    "Not: Test setini, model esnekliğini değerlendirecek bir garantör olarak tutmanız \n",
    "gerekir.\n",
    "Modelin esnekliği arttıkça, veri seti asırı öğrenmeye başlar.\n",
    "\n",
    "Optimum noktayı bulmayı çalışmak için, esneklik artması durumunu belirleyip \n",
    "bir yerde durmak gerekir.\n",
    "Sonuç olarak; rassallığı bozmadan verinin kendisini değil verinin yapısını \n",
    "öğrenmemiz gerekir.\n",
    "Overfittingi önlemek adına bir çok makine öğrenmesi algoritmalarının parametreleri\n",
    "vardır. Bu durum söz konusu olsa bile biz kendimizde train ve test hatasındaki durumu\n",
    "gözlemleyip karar vermemiz gerekir."
   ]
  },
  {
   "cell_type": "code",
   "execution_count": null,
   "metadata": {},
   "outputs": [],
   "source": [
    "# Parametre,Hiperparametre, Parametre Tuning , Model Tuning \n",
    "Model Tahmin Performansını Arttırmak\n",
    "parametre (model parametresi): elimizde olmayan parametrelerdir.Kurmuş oldugumuz örneğin bir lojistic regresyon\n",
    "    modelinin veriye bakarak , veri içerisinden çıkardığı katsayılardır.modelin\n",
    "    bize internal bir şekilde sunduğu katsayılardır.\n",
    "hiperparametre(model hiperparametresi): kullanılan makine öğrenmesi algoritmalarının\n",
    "dışssal parametreleridir.kurulacak olan modelin model tarafından ortaya konamayan \n",
    "parametreleridir.kullanıcı tarafından belirlenen ve birbirinden farklı değerler\n",
    "alabilecek olan dışsal parametrelerdir.\n",
    "Modelin optimize edilmesi için kullanacağımız parametrelere hiperparametreler denir.\n",
    "aralarındaki fark parametre (model parametresi) model tarafından verilyor.\n",
    "hiperparametre de kullanıcı tarafından dışsal  olarak bir veya birden fazla\n",
    "verilen hiperparametrelerdir.\n",
    "\n",
    "parametre tuning:1.si: modelin kendi içindeki parametreleri ayarlamaktır(tune etmektir)\n",
    "2.si: Model hiperparametrelerini tune etmektir.\n",
    "parametre tuning ;hiper parametre değerlerinin en uygun değerlerine eriştirilmeye\n",
    "sağlanmasıdır.\n",
    "parametre tuning denince, içsel ve dışsal parametre mi.\n",
    "model tuning:  model tuning bütün yaptıgımız işlemleri kapsar.\n",
    "    \n",
    "    \n"
   ]
  },
  {
   "cell_type": "code",
   "execution_count": null,
   "metadata": {},
   "outputs": [],
   "source": []
  },
  {
   "cell_type": "code",
   "execution_count": null,
   "metadata": {},
   "outputs": [],
   "source": []
  },
  {
   "cell_type": "code",
   "execution_count": null,
   "metadata": {},
   "outputs": [],
   "source": []
  }
 ],
 "metadata": {
  "kernelspec": {
   "display_name": "Python 3",
   "language": "python",
   "name": "python3"
  },
  "language_info": {
   "codemirror_mode": {
    "name": "ipython",
    "version": 3
   },
   "file_extension": ".py",
   "mimetype": "text/x-python",
   "name": "python",
   "nbconvert_exporter": "python",
   "pygments_lexer": "ipython3",
   "version": "3.7.4"
  }
 },
 "nbformat": 4,
 "nbformat_minor": 4
}
