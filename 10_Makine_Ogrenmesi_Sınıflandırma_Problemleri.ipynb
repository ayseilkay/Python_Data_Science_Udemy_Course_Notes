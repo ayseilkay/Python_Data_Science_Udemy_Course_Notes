{
 "cells": [
  {
   "cell_type": "markdown",
   "metadata": {},
   "source": [
    "# SINIFLANDIRMA PROBLEMLERİ"
   ]
  },
  {
   "cell_type": "code",
   "execution_count": 1,
   "metadata": {},
   "outputs": [],
   "source": [
    "import numpy as np\n",
    "import pandas as pd\n",
    "import statsmodels.api as sm\n",
    "import statsmodels.formula.api as smf\n",
    "import seaborn as sns\n",
    "from sklearn.preprocessing import scale\n",
    "from sklearn.model_selection import train_test_split,GridSearchCV,cross_val_score,cross_val_predict\n",
    "from sklearn.metrics import confusion_matrix,accuracy_score,classification_report,log_loss\n",
    "from sklearn.metrics import roc_auc_score,roc_curve\n",
    "import statsmodels.formula.api as smf\n",
    "import matplotlib.pyplot as plt\n",
    "from sklearn.neighbors import KNeighborsClassifier\n",
    "from sklearn.discriminant_analysis import LinearDiscriminantAnalysis\n",
    "from sklearn.linear_model import LogisticRegression\n",
    "from sklearn.svm import SVC\n",
    "from sklearn.naive_bayes import GaussianNB\n",
    "from sklearn import tree\n",
    "from sklearn.ensemble import RandomForestClassifier\n",
    "from sklearn.ensemble import GradientBoostingClassifier\n",
    "from xgboost import XGBClassifier\n",
    "from lightgbm import LGBMClassifier\n",
    "from catboost import CatBoostClassifier\n",
    "from warnings import filterwarnings\n",
    "filterwarnings(\"ignore\")"
   ]
  },
  {
   "cell_type": "markdown",
   "metadata": {},
   "source": [
    "# Logistic Regresyon\n",
    "* Amac: Sınıflandırma problemi icin bagımlı ve bagımsız degiskenler arasındaki iliskiyi tanımlayan dogrusal bir model kurmaktır"
   ]
  },
  {
   "cell_type": "code",
   "execution_count": 6,
   "metadata": {},
   "outputs": [],
   "source": [
    "# Burada bagımlı degiskenimiz kategoriktir.Bir sınıflandırıcı secilir.\n",
    "# Yanıt degiskeni iki durumlu olan durumlarda dogrusal degisken kullanabiilir.ama iki den fazla sınıf oldugunda kullanılamaz.\n",
    "#Logistic regresyonda degerlerin 0 ile 1 arasında olması garanti altına alınmıs olur.\n",
    "# İlgilendigimiz sınıfın 1 olması olasılıgı ile ilgili bir olasılık degerleri hesaplanır.\n"
   ]
  },
  {
   "cell_type": "code",
   "execution_count": 7,
   "metadata": {},
   "outputs": [],
   "source": [
    "# Dogrusal regresyonda bir modelleme calısması icin kullanılabilir.\n",
    "# Fakat logistic regresyon kullanıldıgında yapılacak olan sınıf tahmininin \n",
    "# 0 ile 1 arasında olmasını garanti eder ve belirlenecek olan bir esik degerine göre\n",
    "# bu durumun bir degerlendirme sansı olur."
   ]
  },
  {
   "cell_type": "markdown",
   "metadata": {},
   "source": [
    "* Logistic Regresyon Özellikleri\n",
    "    - Bagımlı degisken kategoriktir\n",
    "    - Adını bagımlı degiskene uygulanan logit dönüsümünden alır\n",
    "    - Dogrusal Regresyonda aranan varsayımlar burada aranmadıgı icin dha esnek kullanabilirligi vardır.\n",
    "    - Bagımlı degiskenin 1 olarak tanımlanan degerinin gerceklesme olasılıgı hesaplanır. Dolayısıyla bagımlı degiskenin alacagı degerler ile ilgilenilmez.\n",
    "    - Logistic fonksiyonu sayesinde üretilen degerler 0-1 arasında olur."
   ]
  },
  {
   "cell_type": "code",
   "execution_count": 8,
   "metadata": {},
   "outputs": [],
   "source": [
    "# 1 yada 0 olması ile değil 1 veya 0 olmasının olasılıgı ile ilgilenilir."
   ]
  },
  {
   "cell_type": "markdown",
   "metadata": {},
   "source": [
    "# Logistic Regresyon - MODEL"
   ]
  },
  {
   "cell_type": "code",
   "execution_count": 66,
   "metadata": {},
   "outputs": [
    {
     "data": {
      "text/html": [
       "<div>\n",
       "<style scoped>\n",
       "    .dataframe tbody tr th:only-of-type {\n",
       "        vertical-align: middle;\n",
       "    }\n",
       "\n",
       "    .dataframe tbody tr th {\n",
       "        vertical-align: top;\n",
       "    }\n",
       "\n",
       "    .dataframe thead th {\n",
       "        text-align: right;\n",
       "    }\n",
       "</style>\n",
       "<table border=\"1\" class=\"dataframe\">\n",
       "  <thead>\n",
       "    <tr style=\"text-align: right;\">\n",
       "      <th></th>\n",
       "      <th>Pregnancies</th>\n",
       "      <th>Glucose</th>\n",
       "      <th>BloodPressure</th>\n",
       "      <th>SkinThickness</th>\n",
       "      <th>Insulin</th>\n",
       "      <th>BMI</th>\n",
       "      <th>DiabetesPedigreeFunction</th>\n",
       "      <th>Age</th>\n",
       "      <th>Outcome</th>\n",
       "    </tr>\n",
       "  </thead>\n",
       "  <tbody>\n",
       "    <tr>\n",
       "      <td>0</td>\n",
       "      <td>6</td>\n",
       "      <td>148</td>\n",
       "      <td>72</td>\n",
       "      <td>35</td>\n",
       "      <td>0</td>\n",
       "      <td>33.6</td>\n",
       "      <td>0.627</td>\n",
       "      <td>50</td>\n",
       "      <td>1</td>\n",
       "    </tr>\n",
       "    <tr>\n",
       "      <td>1</td>\n",
       "      <td>1</td>\n",
       "      <td>85</td>\n",
       "      <td>66</td>\n",
       "      <td>29</td>\n",
       "      <td>0</td>\n",
       "      <td>26.6</td>\n",
       "      <td>0.351</td>\n",
       "      <td>31</td>\n",
       "      <td>0</td>\n",
       "    </tr>\n",
       "    <tr>\n",
       "      <td>2</td>\n",
       "      <td>8</td>\n",
       "      <td>183</td>\n",
       "      <td>64</td>\n",
       "      <td>0</td>\n",
       "      <td>0</td>\n",
       "      <td>23.3</td>\n",
       "      <td>0.672</td>\n",
       "      <td>32</td>\n",
       "      <td>1</td>\n",
       "    </tr>\n",
       "    <tr>\n",
       "      <td>3</td>\n",
       "      <td>1</td>\n",
       "      <td>89</td>\n",
       "      <td>66</td>\n",
       "      <td>23</td>\n",
       "      <td>94</td>\n",
       "      <td>28.1</td>\n",
       "      <td>0.167</td>\n",
       "      <td>21</td>\n",
       "      <td>0</td>\n",
       "    </tr>\n",
       "    <tr>\n",
       "      <td>4</td>\n",
       "      <td>0</td>\n",
       "      <td>137</td>\n",
       "      <td>40</td>\n",
       "      <td>35</td>\n",
       "      <td>168</td>\n",
       "      <td>43.1</td>\n",
       "      <td>2.288</td>\n",
       "      <td>33</td>\n",
       "      <td>1</td>\n",
       "    </tr>\n",
       "  </tbody>\n",
       "</table>\n",
       "</div>"
      ],
      "text/plain": [
       "   Pregnancies  Glucose  BloodPressure  SkinThickness  Insulin   BMI  \\\n",
       "0            6      148             72             35        0  33.6   \n",
       "1            1       85             66             29        0  26.6   \n",
       "2            8      183             64              0        0  23.3   \n",
       "3            1       89             66             23       94  28.1   \n",
       "4            0      137             40             35      168  43.1   \n",
       "\n",
       "   DiabetesPedigreeFunction  Age  Outcome  \n",
       "0                     0.627   50        1  \n",
       "1                     0.351   31        0  \n",
       "2                     0.672   32        1  \n",
       "3                     0.167   21        0  \n",
       "4                     2.288   33        1  "
      ]
     },
     "execution_count": 66,
     "metadata": {},
     "output_type": "execute_result"
    }
   ],
   "source": [
    "diabets=pd.read_csv(\"diabets.csv\")\n",
    "df=diabets.copy()\n",
    "df=df.dropna()# eskik gözlemleri cıkarttık\n",
    "df.head()"
   ]
  },
  {
   "cell_type": "code",
   "execution_count": 67,
   "metadata": {},
   "outputs": [],
   "source": [
    "# bir hasta geldignde onun seker hastası olup olmadıgını \n",
    "#tahmin eden bir makine öğrenmesi modeli geliştirmek"
   ]
  },
  {
   "cell_type": "code",
   "execution_count": 68,
   "metadata": {},
   "outputs": [
    {
     "name": "stdout",
     "output_type": "stream",
     "text": [
      "<class 'pandas.core.frame.DataFrame'>\n",
      "Int64Index: 768 entries, 0 to 767\n",
      "Data columns (total 9 columns):\n",
      "Pregnancies                 768 non-null int64\n",
      "Glucose                     768 non-null int64\n",
      "BloodPressure               768 non-null int64\n",
      "SkinThickness               768 non-null int64\n",
      "Insulin                     768 non-null int64\n",
      "BMI                         768 non-null float64\n",
      "DiabetesPedigreeFunction    768 non-null float64\n",
      "Age                         768 non-null int64\n",
      "Outcome                     768 non-null int64\n",
      "dtypes: float64(2), int64(7)\n",
      "memory usage: 60.0 KB\n"
     ]
    }
   ],
   "source": [
    "df.info()"
   ]
  },
  {
   "cell_type": "code",
   "execution_count": 69,
   "metadata": {},
   "outputs": [],
   "source": [
    "# ilgilendigimiz sınıf 1 sınıfı olacak.Diabets hastası degil yada hasta "
   ]
  },
  {
   "cell_type": "code",
   "execution_count": 70,
   "metadata": {},
   "outputs": [
    {
     "data": {
      "text/plain": [
       "0    500\n",
       "1    268\n",
       "Name: Outcome, dtype: int64"
      ]
     },
     "execution_count": 70,
     "metadata": {},
     "output_type": "execute_result"
    }
   ],
   "source": [
    "df[\"Outcome\"].value_counts()"
   ]
  },
  {
   "cell_type": "code",
   "execution_count": 71,
   "metadata": {},
   "outputs": [
    {
     "data": {
      "text/plain": [
       "<matplotlib.axes._subplots.AxesSubplot at 0x1bd923aee08>"
      ]
     },
     "execution_count": 71,
     "metadata": {},
     "output_type": "execute_result"
    },
    {
     "data": {
      "image/png": "[encoded data removed]",
      "text/plain": [
       "<Figure size 432x288 with 1 Axes>"
      ]
     },
     "metadata": {
      "needs_background": "light"
     },
     "output_type": "display_data"
    }
   ],
   "source": [
    "df[\"Outcome\"].value_counts().plot.barh()"
   ]
  },
  {
   "cell_type": "code",
   "execution_count": 72,
   "metadata": {},
   "outputs": [
    {
     "data": {
      "text/html": [
       "<div>\n",
       "<style scoped>\n",
       "    .dataframe tbody tr th:only-of-type {\n",
       "        vertical-align: middle;\n",
       "    }\n",
       "\n",
       "    .dataframe tbody tr th {\n",
       "        vertical-align: top;\n",
       "    }\n",
       "\n",
       "    .dataframe thead th {\n",
       "        text-align: right;\n",
       "    }\n",
       "</style>\n",
       "<table border=\"1\" class=\"dataframe\">\n",
       "  <thead>\n",
       "    <tr style=\"text-align: right;\">\n",
       "      <th></th>\n",
       "      <th>count</th>\n",
       "      <th>mean</th>\n",
       "      <th>std</th>\n",
       "      <th>min</th>\n",
       "      <th>25%</th>\n",
       "      <th>50%</th>\n",
       "      <th>75%</th>\n",
       "      <th>max</th>\n",
       "    </tr>\n",
       "  </thead>\n",
       "  <tbody>\n",
       "    <tr>\n",
       "      <td>Pregnancies</td>\n",
       "      <td>768.0</td>\n",
       "      <td>3.845052</td>\n",
       "      <td>3.369578</td>\n",
       "      <td>0.000</td>\n",
       "      <td>1.00000</td>\n",
       "      <td>3.0000</td>\n",
       "      <td>6.00000</td>\n",
       "      <td>17.00</td>\n",
       "    </tr>\n",
       "    <tr>\n",
       "      <td>Glucose</td>\n",
       "      <td>768.0</td>\n",
       "      <td>120.894531</td>\n",
       "      <td>31.972618</td>\n",
       "      <td>0.000</td>\n",
       "      <td>99.00000</td>\n",
       "      <td>117.0000</td>\n",
       "      <td>140.25000</td>\n",
       "      <td>199.00</td>\n",
       "    </tr>\n",
       "    <tr>\n",
       "      <td>BloodPressure</td>\n",
       "      <td>768.0</td>\n",
       "      <td>69.105469</td>\n",
       "      <td>19.355807</td>\n",
       "      <td>0.000</td>\n",
       "      <td>62.00000</td>\n",
       "      <td>72.0000</td>\n",
       "      <td>80.00000</td>\n",
       "      <td>122.00</td>\n",
       "    </tr>\n",
       "    <tr>\n",
       "      <td>SkinThickness</td>\n",
       "      <td>768.0</td>\n",
       "      <td>20.536458</td>\n",
       "      <td>15.952218</td>\n",
       "      <td>0.000</td>\n",
       "      <td>0.00000</td>\n",
       "      <td>23.0000</td>\n",
       "      <td>32.00000</td>\n",
       "      <td>99.00</td>\n",
       "    </tr>\n",
       "    <tr>\n",
       "      <td>Insulin</td>\n",
       "      <td>768.0</td>\n",
       "      <td>79.799479</td>\n",
       "      <td>115.244002</td>\n",
       "      <td>0.000</td>\n",
       "      <td>0.00000</td>\n",
       "      <td>30.5000</td>\n",
       "      <td>127.25000</td>\n",
       "      <td>846.00</td>\n",
       "    </tr>\n",
       "    <tr>\n",
       "      <td>BMI</td>\n",
       "      <td>768.0</td>\n",
       "      <td>31.992578</td>\n",
       "      <td>7.884160</td>\n",
       "      <td>0.000</td>\n",
       "      <td>27.30000</td>\n",
       "      <td>32.0000</td>\n",
       "      <td>36.60000</td>\n",
       "      <td>67.10</td>\n",
       "    </tr>\n",
       "    <tr>\n",
       "      <td>DiabetesPedigreeFunction</td>\n",
       "      <td>768.0</td>\n",
       "      <td>0.471876</td>\n",
       "      <td>0.331329</td>\n",
       "      <td>0.078</td>\n",
       "      <td>0.24375</td>\n",
       "      <td>0.3725</td>\n",
       "      <td>0.62625</td>\n",
       "      <td>2.42</td>\n",
       "    </tr>\n",
       "    <tr>\n",
       "      <td>Age</td>\n",
       "      <td>768.0</td>\n",
       "      <td>33.240885</td>\n",
       "      <td>11.760232</td>\n",
       "      <td>21.000</td>\n",
       "      <td>24.00000</td>\n",
       "      <td>29.0000</td>\n",
       "      <td>41.00000</td>\n",
       "      <td>81.00</td>\n",
       "    </tr>\n",
       "    <tr>\n",
       "      <td>Outcome</td>\n",
       "      <td>768.0</td>\n",
       "      <td>0.348958</td>\n",
       "      <td>0.476951</td>\n",
       "      <td>0.000</td>\n",
       "      <td>0.00000</td>\n",
       "      <td>0.0000</td>\n",
       "      <td>1.00000</td>\n",
       "      <td>1.00</td>\n",
       "    </tr>\n",
       "  </tbody>\n",
       "</table>\n",
       "</div>"
      ],
      "text/plain": [
       "                          count        mean         std     min       25%  \\\n",
       "Pregnancies               768.0    3.845052    3.369578   0.000   1.00000   \n",
       "Glucose                   768.0  120.894531   31.972618   0.000  99.00000   \n",
       "BloodPressure             768.0   69.105469   19.355807   0.000  62.00000   \n",
       "SkinThickness             768.0   20.536458   15.952218   0.000   0.00000   \n",
       "Insulin                   768.0   79.799479  115.244002   0.000   0.00000   \n",
       "BMI                       768.0   31.992578    7.884160   0.000  27.30000   \n",
       "DiabetesPedigreeFunction  768.0    0.471876    0.331329   0.078   0.24375   \n",
       "Age                       768.0   33.240885   11.760232  21.000  24.00000   \n",
       "Outcome                   768.0    0.348958    0.476951   0.000   0.00000   \n",
       "\n",
       "                               50%        75%     max  \n",
       "Pregnancies                 3.0000    6.00000   17.00  \n",
       "Glucose                   117.0000  140.25000  199.00  \n",
       "BloodPressure              72.0000   80.00000  122.00  \n",
       "SkinThickness              23.0000   32.00000   99.00  \n",
       "Insulin                    30.5000  127.25000  846.00  \n",
       "BMI                        32.0000   36.60000   67.10  \n",
       "DiabetesPedigreeFunction    0.3725    0.62625    2.42  \n",
       "Age                        29.0000   41.00000   81.00  \n",
       "Outcome                     0.0000    1.00000    1.00  "
      ]
     },
     "execution_count": 72,
     "metadata": {},
     "output_type": "execute_result"
    }
   ],
   "source": [
    "df.describe().T"
   ]
  },
  {
   "cell_type": "code",
   "execution_count": 73,
   "metadata": {},
   "outputs": [],
   "source": [
    "# Outcome degiskenine arka tarafta etkisi olan degiskenler nelerdir.\n",
    "# Makine öğrenmesi algoritması arkada bu degiskenleri bulmaya calısır.\n"
   ]
  },
  {
   "cell_type": "code",
   "execution_count": 74,
   "metadata": {},
   "outputs": [],
   "source": [
    "y=df[\"Outcome\"]\n",
    "X=df.drop([\"Outcome\"],axis=1)"
   ]
  },
  {
   "cell_type": "code",
   "execution_count": 75,
   "metadata": {},
   "outputs": [
    {
     "name": "stdout",
     "output_type": "stream",
     "text": [
      "Optimization terminated successfully.\n",
      "         Current function value: 0.608498\n",
      "         Iterations 5\n"
     ]
    }
   ],
   "source": [
    "# statsmodel ile model kurma \n",
    "\n",
    "loj=sm.Logit(y,X)\n",
    "loj_model=loj.fit()"
   ]
  },
  {
   "cell_type": "code",
   "execution_count": 76,
   "metadata": {},
   "outputs": [
    {
     "data": {
      "text/html": [
       "<table class=\"simpletable\">\n",
       "<caption>Logit Regression Results</caption>\n",
       "<tr>\n",
       "  <th>Dep. Variable:</th>        <td>Outcome</td>     <th>  No. Observations:  </th>  <td>   768</td>  \n",
       "</tr>\n",
       "<tr>\n",
       "  <th>Model:</th>                 <td>Logit</td>      <th>  Df Residuals:      </th>  <td>   760</td>  \n",
       "</tr>\n",
       "<tr>\n",
       "  <th>Method:</th>                 <td>MLE</td>       <th>  Df Model:          </th>  <td>     7</td>  \n",
       "</tr>\n",
       "<tr>\n",
       "  <th>Date:</th>            <td>Mon, 04 May 2020</td> <th>  Pseudo R-squ.:     </th>  <td>0.05922</td> \n",
       "</tr>\n",
       "<tr>\n",
       "  <th>Time:</th>                <td>16:09:55</td>     <th>  Log-Likelihood:    </th> <td> -467.33</td> \n",
       "</tr>\n",
       "<tr>\n",
       "  <th>converged:</th>             <td>True</td>       <th>  LL-Null:           </th> <td> -496.74</td> \n",
       "</tr>\n",
       "<tr>\n",
       "  <th>Covariance Type:</th>     <td>nonrobust</td>    <th>  LLR p-value:       </th> <td>2.583e-10</td>\n",
       "</tr>\n",
       "</table>\n",
       "<table class=\"simpletable\">\n",
       "<tr>\n",
       "              <td></td>                <th>coef</th>     <th>std err</th>      <th>z</th>      <th>P>|z|</th>  <th>[0.025</th>    <th>0.975]</th>  \n",
       "</tr>\n",
       "<tr>\n",
       "  <th>Pregnancies</th>              <td>    0.1284</td> <td>    0.029</td> <td>    4.484</td> <td> 0.000</td> <td>    0.072</td> <td>    0.185</td>\n",
       "</tr>\n",
       "<tr>\n",
       "  <th>Glucose</th>                  <td>    0.0129</td> <td>    0.003</td> <td>    4.757</td> <td> 0.000</td> <td>    0.008</td> <td>    0.018</td>\n",
       "</tr>\n",
       "<tr>\n",
       "  <th>BloodPressure</th>            <td>   -0.0303</td> <td>    0.005</td> <td>   -6.481</td> <td> 0.000</td> <td>   -0.039</td> <td>   -0.021</td>\n",
       "</tr>\n",
       "<tr>\n",
       "  <th>SkinThickness</th>            <td>    0.0002</td> <td>    0.006</td> <td>    0.032</td> <td> 0.974</td> <td>   -0.012</td> <td>    0.012</td>\n",
       "</tr>\n",
       "<tr>\n",
       "  <th>Insulin</th>                  <td>    0.0007</td> <td>    0.001</td> <td>    0.942</td> <td> 0.346</td> <td>   -0.001</td> <td>    0.002</td>\n",
       "</tr>\n",
       "<tr>\n",
       "  <th>BMI</th>                      <td>   -0.0048</td> <td>    0.011</td> <td>   -0.449</td> <td> 0.653</td> <td>   -0.026</td> <td>    0.016</td>\n",
       "</tr>\n",
       "<tr>\n",
       "  <th>DiabetesPedigreeFunction</th> <td>    0.3203</td> <td>    0.240</td> <td>    1.335</td> <td> 0.182</td> <td>   -0.150</td> <td>    0.790</td>\n",
       "</tr>\n",
       "<tr>\n",
       "  <th>Age</th>                      <td>   -0.0156</td> <td>    0.008</td> <td>   -1.852</td> <td> 0.064</td> <td>   -0.032</td> <td>    0.001</td>\n",
       "</tr>\n",
       "</table>"
      ],
      "text/plain": [
       "<class 'statsmodels.iolib.summary.Summary'>\n",
       "\"\"\"\n",
       "                           Logit Regression Results                           \n",
       "==============================================================================\n",
       "Dep. Variable:                Outcome   No. Observations:                  768\n",
       "Model:                          Logit   Df Residuals:                      760\n",
       "Method:                           MLE   Df Model:                            7\n",
       "Date:                Mon, 04 May 2020   Pseudo R-squ.:                 0.05922\n",
       "Time:                        16:09:55   Log-Likelihood:                -467.33\n",
       "converged:                       True   LL-Null:                       -496.74\n",
       "Covariance Type:            nonrobust   LLR p-value:                 2.583e-10\n",
       "============================================================================================\n",
       "                               coef    std err          z      P>|z|      [0.025      0.975]\n",
       "--------------------------------------------------------------------------------------------\n",
       "Pregnancies                  0.1284      0.029      4.484      0.000       0.072       0.185\n",
       "Glucose                      0.0129      0.003      4.757      0.000       0.008       0.018\n",
       "BloodPressure               -0.0303      0.005     -6.481      0.000      -0.039      -0.021\n",
       "SkinThickness                0.0002      0.006      0.032      0.974      -0.012       0.012\n",
       "Insulin                      0.0007      0.001      0.942      0.346      -0.001       0.002\n",
       "BMI                         -0.0048      0.011     -0.449      0.653      -0.026       0.016\n",
       "DiabetesPedigreeFunction     0.3203      0.240      1.335      0.182      -0.150       0.790\n",
       "Age                         -0.0156      0.008     -1.852      0.064      -0.032       0.001\n",
       "============================================================================================\n",
       "\"\"\""
      ]
     },
     "execution_count": 76,
     "metadata": {},
     "output_type": "execute_result"
    }
   ],
   "source": [
    "loj_model.summary()"
   ]
  },
  {
   "cell_type": "code",
   "execution_count": 77,
   "metadata": {},
   "outputs": [],
   "source": [
    "# scikitlearn ile model kurma\n",
    "\n",
    "from sklearn.linear_model import LogisticRegression\n",
    "loj=LogisticRegression(solver=\"liblinear\")\n",
    "loj_model=loj.fit(X,y)"
   ]
  },
  {
   "cell_type": "code",
   "execution_count": 78,
   "metadata": {},
   "outputs": [
    {
     "data": {
      "text/plain": [
       "LogisticRegression(C=1.0, class_weight=None, dual=False, fit_intercept=True,\n",
       "                   intercept_scaling=1, l1_ratio=None, max_iter=100,\n",
       "                   multi_class='warn', n_jobs=None, penalty='l2',\n",
       "                   random_state=None, solver='liblinear', tol=0.0001, verbose=0,\n",
       "                   warm_start=False)"
      ]
     },
     "execution_count": 78,
     "metadata": {},
     "output_type": "execute_result"
    }
   ],
   "source": [
    "loj_model"
   ]
  },
  {
   "cell_type": "code",
   "execution_count": 79,
   "metadata": {},
   "outputs": [
    {
     "data": {
      "text/plain": [
       "array([-5.88581574])"
      ]
     },
     "execution_count": 79,
     "metadata": {},
     "output_type": "execute_result"
    }
   ],
   "source": [
    "loj_model.intercept_"
   ]
  },
  {
   "cell_type": "code",
   "execution_count": 80,
   "metadata": {},
   "outputs": [
    {
     "data": {
      "text/plain": [
       "array([[ 1.17109287e-01,  2.83637114e-02, -1.69030150e-02,\n",
       "         7.35724571e-04, -6.42784045e-04,  5.96466920e-02,\n",
       "         6.85700638e-01,  7.19299389e-03]])"
      ]
     },
     "execution_count": 80,
     "metadata": {},
     "output_type": "execute_result"
    }
   ],
   "source": [
    "loj_model.coef_"
   ]
  },
  {
   "cell_type": "markdown",
   "metadata": {},
   "source": [
    "# Logistic Regresyon - TAHMİN----MODEL TUNİNG"
   ]
  },
  {
   "cell_type": "code",
   "execution_count": 81,
   "metadata": {},
   "outputs": [
    {
     "data": {
      "text/plain": [
       "array([[448,  52],\n",
       "       [120, 148]], dtype=int64)"
      ]
     },
     "execution_count": 81,
     "metadata": {},
     "output_type": "execute_result"
    }
   ],
   "source": [
    "y_pred=loj_model.predict(X)# BAGIMSIZ DEGİSKENLERİ TAHMİN ET \n",
    "confusion_matrix(y,y_pred)"
   ]
  },
  {
   "cell_type": "code",
   "execution_count": 82,
   "metadata": {},
   "outputs": [
    {
     "data": {
      "text/plain": [
       "0.7760416666666666"
      ]
     },
     "execution_count": 82,
     "metadata": {},
     "output_type": "execute_result"
    }
   ],
   "source": [
    "accuracy_score(y,y_pred)# dogru sınıflandırma oranımız"
   ]
  },
  {
   "cell_type": "code",
   "execution_count": 83,
   "metadata": {},
   "outputs": [
    {
     "name": "stdout",
     "output_type": "stream",
     "text": [
      "              precision    recall  f1-score   support\n",
      "\n",
      "           0       0.79      0.90      0.84       500\n",
      "           1       0.74      0.55      0.63       268\n",
      "\n",
      "    accuracy                           0.78       768\n",
      "   macro avg       0.76      0.72      0.74       768\n",
      "weighted avg       0.77      0.78      0.77       768\n",
      "\n"
     ]
    }
   ],
   "source": [
    "print(classification_report(y,y_pred))"
   ]
  },
  {
   "cell_type": "code",
   "execution_count": 84,
   "metadata": {},
   "outputs": [
    {
     "data": {
      "text/plain": [
       "array([1, 0, 1, 0, 1], dtype=int64)"
      ]
     },
     "execution_count": 84,
     "metadata": {},
     "output_type": "execute_result"
    }
   ],
   "source": [
    "loj_model.predict(X)[0:5]# tahmin edilen degerler"
   ]
  },
  {
   "cell_type": "code",
   "execution_count": 85,
   "metadata": {},
   "outputs": [
    {
     "data": {
      "text/plain": [
       "array([[0.35043779, 0.64956221],\n",
       "       [0.91696356, 0.08303644],\n",
       "       [0.22433864, 0.77566136],\n",
       "       [0.92141996, 0.07858004],\n",
       "       [0.16538713, 0.83461287],\n",
       "       [0.79904414, 0.20095586],\n",
       "       [0.88018381, 0.11981619],\n",
       "       [0.27825923, 0.72174077],\n",
       "       [0.32175629, 0.67824371],\n",
       "       [0.9226324 , 0.0773676 ]])"
      ]
     },
     "execution_count": 85,
     "metadata": {},
     "output_type": "execute_result"
    }
   ],
   "source": [
    "loj_model.predict_proba(X)[0:10]# olasılık degerleri\n",
    "# 1 e ait olasılıklar sag taraftadır."
   ]
  },
  {
   "cell_type": "code",
   "execution_count": 29,
   "metadata": {},
   "outputs": [
    {
     "data": {
      "text/plain": [
       "0    1\n",
       "1    0\n",
       "2    1\n",
       "3    0\n",
       "4    1\n",
       "5    0\n",
       "6    1\n",
       "7    0\n",
       "8    1\n",
       "9    1\n",
       "Name: Outcome, dtype: int64"
      ]
     },
     "execution_count": 29,
     "metadata": {},
     "output_type": "execute_result"
    }
   ],
   "source": [
    "y[0:10]# gercek degerler"
   ]
  },
  {
   "cell_type": "code",
   "execution_count": 30,
   "metadata": {},
   "outputs": [],
   "source": [
    "y_probs=loj_model.predict_proba(X)\n",
    "y_probs=y_probs[:,1]"
   ]
  },
  {
   "cell_type": "code",
   "execution_count": 31,
   "metadata": {},
   "outputs": [
    {
     "data": {
      "text/plain": [
       "array([0.64956221, 0.08303644, 0.77566136, 0.07858004, 0.83461287,\n",
       "       0.20095586, 0.11981619, 0.72174077, 0.67824371, 0.0773676 ])"
      ]
     },
     "execution_count": 31,
     "metadata": {},
     "output_type": "execute_result"
    }
   ],
   "source": [
    "y_probs[0:10]"
   ]
  },
  {
   "cell_type": "code",
   "execution_count": 32,
   "metadata": {},
   "outputs": [
    {
     "data": {
      "text/plain": [
       "[1, 0, 1, 0, 1, 0, 0, 1, 1, 0]"
      ]
     },
     "execution_count": 32,
     "metadata": {},
     "output_type": "execute_result"
    }
   ],
   "source": [
    "# belli bir esik degere göre 1 ve 0 olarak işaretlemek istersek;\n",
    "y_pred=[1 if i >0.5 else 0 for i in y_probs]# 1 yap 0.5 ten büyükse degilse 0 yap\n",
    "y_pred[0:10]"
   ]
  },
  {
   "cell_type": "code",
   "execution_count": 33,
   "metadata": {},
   "outputs": [
    {
     "data": {
      "text/plain": [
       "array([[448,  52],\n",
       "       [120, 148]], dtype=int64)"
      ]
     },
     "execution_count": 33,
     "metadata": {},
     "output_type": "execute_result"
    }
   ],
   "source": [
    "confusion_matrix(y,y_pred)"
   ]
  },
  {
   "cell_type": "code",
   "execution_count": 34,
   "metadata": {},
   "outputs": [
    {
     "data": {
      "text/plain": [
       "0.7760416666666666"
      ]
     },
     "execution_count": 34,
     "metadata": {},
     "output_type": "execute_result"
    }
   ],
   "source": [
    "accuracy_score(y,y_pred)# dogru yaptıgımız isler/ tüm isler"
   ]
  },
  {
   "cell_type": "code",
   "execution_count": 35,
   "metadata": {},
   "outputs": [
    {
     "name": "stdout",
     "output_type": "stream",
     "text": [
      "              precision    recall  f1-score   support\n",
      "\n",
      "           0       0.79      0.90      0.84       500\n",
      "           1       0.74      0.55      0.63       268\n",
      "\n",
      "    accuracy                           0.78       768\n",
      "   macro avg       0.76      0.72      0.74       768\n",
      "weighted avg       0.77      0.78      0.77       768\n",
      "\n"
     ]
    }
   ],
   "source": [
    "print(classification_report(y,y_pred))"
   ]
  },
  {
   "cell_type": "code",
   "execution_count": 36,
   "metadata": {},
   "outputs": [],
   "source": [
    "# roc eğrisi - auc score(egri altında kalan alan )\n",
    "# baska bir basarıyı degerlendirme "
   ]
  },
  {
   "cell_type": "code",
   "execution_count": 37,
   "metadata": {},
   "outputs": [
    {
     "data": {
      "image/png": "[encoded data removed]",
      "text/plain": [
       "<Figure size 432x288 with 1 Axes>"
      ]
     },
     "metadata": {
      "needs_background": "light"
     },
     "output_type": "display_data"
    }
   ],
   "source": [
    "logit_roc_auc=roc_auc_score(y,loj_model.predict(X))\n",
    "\n",
    "fpr,tpr,threshold=roc_curve(y,loj_model.predict_proba(X)[:,1])\n",
    "plt.figure()\n",
    "plt.plot(fpr,tpr,label='AUC( area =%0.2f)' % logit_roc_auc)\n",
    "plt.plot([0,1],[0,1],'r--')\n",
    "plt.xlim([0.0,1.0])\n",
    "plt.ylim([0.0,1.05])\n",
    "plt.xlabel('False Positive Oranı')\n",
    "plt.ylabel('True Positive Oranı')\n",
    "plt.title('ROC')\n",
    "plt.show()"
   ]
  },
  {
   "cell_type": "code",
   "execution_count": 38,
   "metadata": {},
   "outputs": [],
   "source": [
    "# mümkün oldugu kadar kırmızı çizgiden uzaklasmak gerekiyor."
   ]
  },
  {
   "cell_type": "code",
   "execution_count": 39,
   "metadata": {},
   "outputs": [],
   "source": [
    "X_train,X_test,y_train,y_test=train_test_split(X,y,test_size=0.25,\n",
    "                                              random_state=42)"
   ]
  },
  {
   "cell_type": "code",
   "execution_count": 40,
   "metadata": {},
   "outputs": [],
   "source": [
    "from sklearn.linear_model import LogisticRegression\n",
    "loj=LogisticRegression(solver=\"liblinear\")\n",
    "loj_model=loj.fit(X_train,y_train)"
   ]
  },
  {
   "cell_type": "code",
   "execution_count": 41,
   "metadata": {},
   "outputs": [
    {
     "data": {
      "text/plain": [
       "0.7447916666666666"
      ]
     },
     "execution_count": 41,
     "metadata": {},
     "output_type": "execute_result"
    }
   ],
   "source": [
    "y_pred=loj_model.predict(X_test)\n",
    "accuracy_score(y_test,y_pred)"
   ]
  },
  {
   "cell_type": "code",
   "execution_count": 42,
   "metadata": {},
   "outputs": [
    {
     "data": {
      "text/plain": [
       "0.7273684210526316"
      ]
     },
     "execution_count": 42,
     "metadata": {},
     "output_type": "execute_result"
    }
   ],
   "source": [
    "cross_val_score(loj_model,X_test,y_test,cv=10).mean()# en dogru sonuca ulasırız."
   ]
  },
  {
   "cell_type": "markdown",
   "metadata": {},
   "source": [
    "# Naive Bayes \n",
    "* Olasılık temelli bir modelleme tekniğidir. Amac belirli bir örnegin her bir sınıfa ait olma olasılıgının kosullu olasılık temelli hesaplanmasıdır."
   ]
  },
  {
   "cell_type": "code",
   "execution_count": 43,
   "metadata": {},
   "outputs": [],
   "source": [
    "# cok kategorili sınıflarda iyi calısıldıgı söylenir.kategorik degisken sayısı sürekli degisken sayısı kadar oldugunda iyi calıtıgı söyleniyor."
   ]
  },
  {
   "cell_type": "markdown",
   "metadata": {},
   "source": [
    "# Gaussian Naive Bayes - MODEL"
   ]
  },
  {
   "cell_type": "code",
   "execution_count": 97,
   "metadata": {},
   "outputs": [],
   "source": [
    "diabets=pd.read_csv(\"diabets.csv\")\n",
    "df=diabets.copy()\n",
    "df=df.dropna()# eskik gözlemleri cıkarttık\n",
    "df.head()\n",
    "y=df[\"Outcome\"]\n",
    "X=df.drop([\"Outcome\"],axis=1)\n",
    "X_train,X_test,y_train,y_test=train_test_split(X,y,test_size=0.30,\n",
    "                                              random_state=42)"
   ]
  },
  {
   "cell_type": "code",
   "execution_count": 98,
   "metadata": {},
   "outputs": [],
   "source": [
    "from sklearn.naive_bayes import GaussianNB"
   ]
  },
  {
   "cell_type": "code",
   "execution_count": 99,
   "metadata": {},
   "outputs": [],
   "source": [
    "naive_bayes=GaussianNB()\n",
    "nb_model=naive_bayes.fit(X_train,y_train)"
   ]
  },
  {
   "cell_type": "code",
   "execution_count": 100,
   "metadata": {},
   "outputs": [
    {
     "data": {
      "text/plain": [
       "GaussianNB(priors=None, var_smoothing=1e-09)"
      ]
     },
     "execution_count": 100,
     "metadata": {},
     "output_type": "execute_result"
    }
   ],
   "source": [
    "nb_model"
   ]
  },
  {
   "cell_type": "code",
   "execution_count": 48,
   "metadata": {},
   "outputs": [
    {
     "data": {
      "text/plain": [
       "array([0, 0, 0, 0, 1, 1, 0, 0, 0, 1], dtype=int64)"
      ]
     },
     "execution_count": 48,
     "metadata": {},
     "output_type": "execute_result"
    }
   ],
   "source": [
    "nb_model.predict(X_test)[0:10]"
   ]
  },
  {
   "cell_type": "code",
   "execution_count": 49,
   "metadata": {},
   "outputs": [],
   "source": [
    "# eger bagımlı degiskenin sınıflarının dagılımı birbibirinden cok farklıysa bu dengesiz veridir.\n",
    "# Anormal durum olursa test size ı gözden gecirmek gerekmektedir."
   ]
  },
  {
   "cell_type": "code",
   "execution_count": 50,
   "metadata": {},
   "outputs": [
    {
     "data": {
      "text/plain": [
       "array([[0.73815858, 0.26184142],\n",
       "       [0.94027894, 0.05972106],\n",
       "       [0.97242831, 0.02757169],\n",
       "       [0.82840069, 0.17159931],\n",
       "       [0.47153473, 0.52846527],\n",
       "       [0.47274458, 0.52725542],\n",
       "       [0.99607705, 0.00392295],\n",
       "       [0.69925055, 0.30074945],\n",
       "       [0.53838117, 0.46161883],\n",
       "       [0.25004536, 0.74995464]])"
      ]
     },
     "execution_count": 50,
     "metadata": {},
     "output_type": "execute_result"
    }
   ],
   "source": [
    "nb_model.predict_proba(X_test)[0:10]# sınıfların olasılık degerleri"
   ]
  },
  {
   "cell_type": "code",
   "execution_count": 51,
   "metadata": {},
   "outputs": [],
   "source": [
    "y_pred=nb_model.predict(X_test)"
   ]
  },
  {
   "cell_type": "code",
   "execution_count": 52,
   "metadata": {},
   "outputs": [
    {
     "data": {
      "text/plain": [
       "0.7445887445887446"
      ]
     },
     "execution_count": 52,
     "metadata": {},
     "output_type": "execute_result"
    }
   ],
   "source": [
    "accuracy_score(y_test,y_pred)# test hatası "
   ]
  },
  {
   "cell_type": "code",
   "execution_count": 53,
   "metadata": {},
   "outputs": [
    {
     "data": {
      "text/plain": [
       "0.775"
      ]
     },
     "execution_count": 53,
     "metadata": {},
     "output_type": "execute_result"
    }
   ],
   "source": [
    "cross_val_score(nb_model,X_test,y_test,cv=10).mean()# test hatasının dogrulanmıs hali"
   ]
  },
  {
   "cell_type": "code",
   "execution_count": 54,
   "metadata": {},
   "outputs": [],
   "source": [
    "# naive bayes ın dıssal parametresi olmadıgı için model tuning yapmadık."
   ]
  },
  {
   "cell_type": "markdown",
   "metadata": {},
   "source": [
    "# K -En Yakın Komsu (KNN)\n",
    "* Tahminler gözlem benzerliğine göre yapılır."
   ]
  },
  {
   "cell_type": "markdown",
   "metadata": {},
   "source": [
    "* KNN Basamakları\n",
    "    - Komsu sayısını belirle(K)\n",
    "    - Bilinmeyen nokta ile diğer tüm noktalar ilearasındaki uzaklıkları hesapla\n",
    "    - Uzaklıkları sırala ve belirlenen k sayısna göre en yakın olan k gözlemi sec,\n",
    "    - Sınıflandırma ise en sık sınıf regresyon ise ortalama degeri tahmi degeri olarak ver"
   ]
  },
  {
   "cell_type": "markdown",
   "metadata": {},
   "source": [
    "# KNN - MODEL & TAHMİN"
   ]
  },
  {
   "cell_type": "code",
   "execution_count": 52,
   "metadata": {},
   "outputs": [],
   "source": [
    "diabets=pd.read_csv(\"diabets.csv\")\n",
    "df=diabets.copy()\n",
    "df=df.dropna()# eskik gözlemleri cıkarttık\n",
    "df.head()\n",
    "y=df[\"Outcome\"]\n",
    "X=df.drop([\"Outcome\"],axis=1)\n",
    "X_train,X_test,y_train,y_test=train_test_split(X,y,test_size=0.30,\n",
    "                                              random_state=42)"
   ]
  },
  {
   "cell_type": "code",
   "execution_count": 53,
   "metadata": {},
   "outputs": [],
   "source": [
    "knn=KNeighborsClassifier()"
   ]
  },
  {
   "cell_type": "code",
   "execution_count": 54,
   "metadata": {},
   "outputs": [],
   "source": [
    "knn_model=knn.fit(X_train,y_train)"
   ]
  },
  {
   "cell_type": "code",
   "execution_count": 55,
   "metadata": {},
   "outputs": [
    {
     "data": {
      "text/plain": [
       "KNeighborsClassifier(algorithm='auto', leaf_size=30, metric='minkowski',\n",
       "                     metric_params=None, n_jobs=None, n_neighbors=5, p=2,\n",
       "                     weights='uniform')"
      ]
     },
     "execution_count": 55,
     "metadata": {},
     "output_type": "execute_result"
    }
   ],
   "source": [
    "knn_model"
   ]
  },
  {
   "cell_type": "code",
   "execution_count": 56,
   "metadata": {},
   "outputs": [],
   "source": [
    "y_pred=knn_model.predict(X_test)"
   ]
  },
  {
   "cell_type": "code",
   "execution_count": 57,
   "metadata": {},
   "outputs": [
    {
     "data": {
      "text/plain": [
       "0.6883116883116883"
      ]
     },
     "execution_count": 57,
     "metadata": {},
     "output_type": "execute_result"
    }
   ],
   "source": [
    "accuracy_score(y_test,y_pred)"
   ]
  },
  {
   "cell_type": "code",
   "execution_count": 58,
   "metadata": {},
   "outputs": [
    {
     "data": {
      "text/plain": [
       "0.6755434782608696"
      ]
     },
     "execution_count": 58,
     "metadata": {},
     "output_type": "execute_result"
    }
   ],
   "source": [
    "cross_val_score(knn_model,X_test,y_test,cv=10).mean()# dogrulanmıs test hatası"
   ]
  },
  {
   "cell_type": "markdown",
   "metadata": {},
   "source": [
    "# KNN - MODEL TUNİNG"
   ]
  },
  {
   "cell_type": "code",
   "execution_count": 59,
   "metadata": {},
   "outputs": [],
   "source": [
    "knn_params={'n_neighbors':np.arange(1,50)}\n"
   ]
  },
  {
   "cell_type": "code",
   "execution_count": 60,
   "metadata": {},
   "outputs": [
    {
     "data": {
      "text/plain": [
       "GridSearchCV(cv=10, error_score='raise-deprecating',\n",
       "             estimator=KNeighborsClassifier(algorithm='auto', leaf_size=30,\n",
       "                                            metric='minkowski',\n",
       "                                            metric_params=None, n_jobs=None,\n",
       "                                            n_neighbors=5, p=2,\n",
       "                                            weights='uniform'),\n",
       "             iid='warn', n_jobs=None,\n",
       "             param_grid={'n_neighbors': array([ 1,  2,  3,  4,  5,  6,  7,  8,  9, 10, 11, 12, 13, 14, 15, 16, 17,\n",
       "       18, 19, 20, 21, 22, 23, 24, 25, 26, 27, 28, 29, 30, 31, 32, 33, 34,\n",
       "       35, 36, 37, 38, 39, 40, 41, 42, 43, 44, 45, 46, 47, 48, 49])},\n",
       "             pre_dispatch='2*n_jobs', refit=True, return_train_score=False,\n",
       "             scoring=None, verbose=0)"
      ]
     },
     "execution_count": 60,
     "metadata": {},
     "output_type": "execute_result"
    }
   ],
   "source": [
    "knn=KNeighborsClassifier()\n",
    "knn_cv=GridSearchCV(knn,knn_params,cv=10)\n",
    "knn_cv.fit(X_train,y_train)"
   ]
  },
  {
   "cell_type": "code",
   "execution_count": 61,
   "metadata": {},
   "outputs": [
    {
     "name": "stdout",
     "output_type": "stream",
     "text": [
      "En iyi skor:0.7486033519553073\n",
      "En iyi parametreler:{'n_neighbors': 11}\n"
     ]
    }
   ],
   "source": [
    "print(\"En iyi skor:\"+str(knn_cv.best_score_))\n",
    "print(\"En iyi parametreler:\"+str(knn_cv.best_params_))"
   ]
  },
  {
   "cell_type": "code",
   "execution_count": 62,
   "metadata": {},
   "outputs": [
    {
     "data": {
      "text/plain": [
       "KNeighborsClassifier(algorithm='auto', leaf_size=30, metric='minkowski',\n",
       "                     metric_params=None, n_jobs=None, n_neighbors=11, p=2,\n",
       "                     weights='uniform')"
      ]
     },
     "execution_count": 62,
     "metadata": {},
     "output_type": "execute_result"
    }
   ],
   "source": [
    "knn_tuned=KNeighborsClassifier(n_neighbors=11)\n",
    "knn_tuned.fit(X_train,y_train)"
   ]
  },
  {
   "cell_type": "code",
   "execution_count": 63,
   "metadata": {},
   "outputs": [],
   "source": [
    "y_pred=knn_tuned.predict(X_test)"
   ]
  },
  {
   "cell_type": "code",
   "execution_count": 67,
   "metadata": {},
   "outputs": [
    {
     "data": {
      "text/plain": [
       "0.7316017316017316"
      ]
     },
     "execution_count": 67,
     "metadata": {},
     "output_type": "execute_result"
    }
   ],
   "source": [
    "accuracy_score(y_test,y_pred)"
   ]
  },
  {
   "cell_type": "code",
   "execution_count": 68,
   "metadata": {},
   "outputs": [
    {
     "data": {
      "text/plain": [
       "0.7316017316017316"
      ]
     },
     "execution_count": 68,
     "metadata": {},
     "output_type": "execute_result"
    }
   ],
   "source": [
    "knn_tuned.score(X_test,y_test)"
   ]
  },
  {
   "cell_type": "markdown",
   "metadata": {},
   "source": [
    "# Destek Vektör Makineleri (SVM)"
   ]
  },
  {
   "cell_type": "markdown",
   "metadata": {},
   "source": [
    "* Amaç: İki sınıf arasındaki ayrımın(marjin) optimum olmasını sağayacak hiper-düzlemi bulmaktır."
   ]
  },
  {
   "cell_type": "markdown",
   "metadata": {},
   "source": [
    "* peki optimum hiper düzlem nasıl bulunur?\n",
    "- iki dogrunun arasında nokta olmayacak sekilde aralarındaki mesafenin \n",
    "maksimum  tutulması calısılmasıdır."
   ]
  },
  {
   "cell_type": "markdown",
   "metadata": {},
   "source": [
    "* Sınıflar dogrusal olmadıgında kernel trick adı verilen yöntem kullanılır. Radial basis adı verilen fonksiyon ile gercekleşiyor."
   ]
  },
  {
   "cell_type": "markdown",
   "metadata": {},
   "source": [
    "# Support Vector Classification- MODEL & TAHMİN"
   ]
  },
  {
   "cell_type": "code",
   "execution_count": 101,
   "metadata": {},
   "outputs": [],
   "source": [
    "diabets=pd.read_csv(\"diabets.csv\")\n",
    "df=diabets.copy()\n",
    "df=df.dropna()# eskik gözlemleri cıkarttık\n",
    "df.head()\n",
    "y=df[\"Outcome\"]\n",
    "X=df.drop([\"Outcome\"],axis=1)\n",
    "X_train,X_test,y_train,y_test=train_test_split(X,y,test_size=0.30,\n",
    "                                              random_state=42)"
   ]
  },
  {
   "cell_type": "code",
   "execution_count": 88,
   "metadata": {},
   "outputs": [],
   "source": [
    "svc_model=SVC(kernel=\"linear\").fit(X_train,y_train)"
   ]
  },
  {
   "cell_type": "code",
   "execution_count": 89,
   "metadata": {},
   "outputs": [
    {
     "data": {
      "text/plain": [
       "SVC(C=1.0, cache_size=200, class_weight=None, coef0=0.0,\n",
       "    decision_function_shape='ovr', degree=3, gamma='auto_deprecated',\n",
       "    kernel='linear', max_iter=-1, probability=False, random_state=None,\n",
       "    shrinking=True, tol=0.001, verbose=False)"
      ]
     },
     "execution_count": 89,
     "metadata": {},
     "output_type": "execute_result"
    }
   ],
   "source": [
    "svc_model"
   ]
  },
  {
   "cell_type": "code",
   "execution_count": 90,
   "metadata": {},
   "outputs": [],
   "source": [
    "y_pred=svc_model.predict(X_test)"
   ]
  },
  {
   "cell_type": "code",
   "execution_count": 91,
   "metadata": {},
   "outputs": [
    {
     "data": {
      "text/plain": [
       "0.7445887445887446"
      ]
     },
     "execution_count": 91,
     "metadata": {},
     "output_type": "execute_result"
    }
   ],
   "source": [
    "accuracy_score(y_test,y_pred)"
   ]
  },
  {
   "cell_type": "markdown",
   "metadata": {},
   "source": [
    "# SVC - MODEL TUNİNG"
   ]
  },
  {
   "cell_type": "code",
   "execution_count": 92,
   "metadata": {},
   "outputs": [],
   "source": [
    "svc_params={\"C\":np.arange(1,10)}# c degerinin 0 olmamsı gerekiyor\n",
    "# bu nedenle 1 ile 10 arasında yaptık"
   ]
  },
  {
   "cell_type": "code",
   "execution_count": 102,
   "metadata": {},
   "outputs": [],
   "source": [
    "svc=SVC(kernel=\"linear\")\n",
    "\n",
    "svc_cv_model=GridSearchCV(svc,svc_params,cv=10,n_jobs=-1,verbose=2)"
   ]
  },
  {
   "cell_type": "code",
   "execution_count": 94,
   "metadata": {},
   "outputs": [
    {
     "name": "stdout",
     "output_type": "stream",
     "text": [
      "Fitting 10 folds for each of 9 candidates, totalling 90 fits\n"
     ]
    },
    {
     "name": "stderr",
     "output_type": "stream",
     "text": [
      "[Parallel(n_jobs=-1)]: Using backend LokyBackend with 4 concurrent workers.\n",
      "[Parallel(n_jobs=-1)]: Done  33 tasks      | elapsed:  2.4min\n",
      "[Parallel(n_jobs=-1)]: Done  90 out of  90 | elapsed: 13.4min finished\n"
     ]
    },
    {
     "data": {
      "text/plain": [
       "GridSearchCV(cv=10, error_score='raise-deprecating',\n",
       "             estimator=SVC(C=1.0, cache_size=200, class_weight=None, coef0=0.0,\n",
       "                           decision_function_shape='ovr', degree=3,\n",
       "                           gamma='auto_deprecated', kernel='linear',\n",
       "                           max_iter=-1, probability=False, random_state=None,\n",
       "                           shrinking=True, tol=0.001, verbose=False),\n",
       "             iid='warn', n_jobs=-1,\n",
       "             param_grid={'C': array([1, 2, 3, 4, 5, 6, 7, 8, 9])},\n",
       "             pre_dispatch='2*n_jobs', refit=True, return_train_score=False,\n",
       "             scoring=None, verbose=2)"
      ]
     },
     "execution_count": 94,
     "metadata": {},
     "output_type": "execute_result"
    }
   ],
   "source": [
    "svc_cv_model.fit(X_train,y_train)"
   ]
  },
  {
   "cell_type": "code",
   "execution_count": null,
   "metadata": {},
   "outputs": [],
   "source": [
    "svc_cv_model.best_params_"
   ]
  },
  {
   "cell_type": "code",
   "execution_count": 103,
   "metadata": {},
   "outputs": [],
   "source": [
    "svc_tuned=SVC(kernel=\"linear\",C=5).fit(X_train,y_train)\n",
    "\n"
   ]
  },
  {
   "cell_type": "code",
   "execution_count": 104,
   "metadata": {},
   "outputs": [
    {
     "data": {
      "text/plain": [
       "0.7445887445887446"
      ]
     },
     "execution_count": 104,
     "metadata": {},
     "output_type": "execute_result"
    }
   ],
   "source": [
    "y_pred=svc_tuned.predict(X_test)\n",
    "accuracy_score(y_test,y_pred)"
   ]
  },
  {
   "cell_type": "markdown",
   "metadata": {},
   "source": [
    "# Dogrusal Olmayan Destek Vektör Makinaları\n",
    "## RBF SVC\n",
    "### MODEL & TAHMİN"
   ]
  },
  {
   "cell_type": "code",
   "execution_count": 105,
   "metadata": {},
   "outputs": [],
   "source": [
    "diabets=pd.read_csv(\"diabets.csv\")\n",
    "df=diabets.copy()\n",
    "df=df.dropna()# eskik gözlemleri cıkarttık\n",
    "df.head()\n",
    "y=df[\"Outcome\"]\n",
    "X=df.drop([\"Outcome\"],axis=1)\n",
    "X_train,X_test,y_train,y_test=train_test_split(X,y,test_size=0.30,\n",
    "                                              random_state=42)"
   ]
  },
  {
   "cell_type": "code",
   "execution_count": 106,
   "metadata": {},
   "outputs": [
    {
     "data": {
      "text/plain": [
       "SVC(C=1.0, cache_size=200, class_weight=None, coef0=0.0,\n",
       "    decision_function_shape='ovr', degree=3, gamma='auto_deprecated',\n",
       "    kernel='rbf', max_iter=-1, probability=False, random_state=None,\n",
       "    shrinking=True, tol=0.001, verbose=False)"
      ]
     },
     "execution_count": 106,
     "metadata": {},
     "output_type": "execute_result"
    }
   ],
   "source": [
    "svc_model=SVC(kernel=\"rbf\")# ön tanımlı degeri zaten rbf dir\n",
    "svc_model.fit(X_train,y_train)"
   ]
  },
  {
   "cell_type": "code",
   "execution_count": null,
   "metadata": {},
   "outputs": [],
   "source": [
    "dir(svc_model)"
   ]
  },
  {
   "cell_type": "code",
   "execution_count": null,
   "metadata": {},
   "outputs": [],
   "source": [
    "y_pred=svc_model.predict(X_test)\n",
    "accuracy_score(y_test,y_pred)"
   ]
  },
  {
   "cell_type": "markdown",
   "metadata": {},
   "source": [
    "# SVC RBF- MODEL TUNİNG "
   ]
  },
  {
   "cell_type": "code",
   "execution_count": 107,
   "metadata": {},
   "outputs": [],
   "source": [
    "svc_params={\"C\":[0.001,0.001,0.1,1,5,10,50,100],\n",
    "           \"gamma\":[0.001,0.001,0.1,1,5,10,50,100]}\n"
   ]
  },
  {
   "cell_type": "code",
   "execution_count": null,
   "metadata": {},
   "outputs": [],
   "source": [
    "svc=SVC(kernel=\"rbf\")"
   ]
  },
  {
   "cell_type": "code",
   "execution_count": null,
   "metadata": {},
   "outputs": [],
   "source": [
    "svc_cv_model=GridSearchCV(svc,svc_params,cv=10,n_jobs=-1,verbose=2)\n",
    "svc_cv_model.fit(X_train,y_train)"
   ]
  },
  {
   "cell_type": "code",
   "execution_count": null,
   "metadata": {},
   "outputs": [],
   "source": [
    "svc_cv_model.best_params_"
   ]
  },
  {
   "cell_type": "code",
   "execution_count": 108,
   "metadata": {},
   "outputs": [],
   "source": [
    "svc_tuned=SVC(C=1,gamma=0.001).fit(X_train,y_train)"
   ]
  },
  {
   "cell_type": "code",
   "execution_count": 109,
   "metadata": {},
   "outputs": [],
   "source": [
    "y_pred=svc_tuned.predict(X_test)"
   ]
  },
  {
   "cell_type": "code",
   "execution_count": null,
   "metadata": {},
   "outputs": [],
   "source": [
    "accuracy_score(y_test,y_pred)"
   ]
  },
  {
   "cell_type": "markdown",
   "metadata": {},
   "source": [
    "# Yapay Sinir Agaları- TEORİ"
   ]
  },
  {
   "cell_type": "markdown",
   "metadata": {},
   "source": [
    "* İnsan beyninin bilgi işleme seklini referans alan sınıflandırma ve regresyon problemleri icin kullanılabilen kuvvetli makine öğrenmesi algortimalarından birisidir."
   ]
  },
  {
   "cell_type": "code",
   "execution_count": null,
   "metadata": {},
   "outputs": [],
   "source": [
    "# epoch : iterasyon sayısı\n",
    "# her epochda gercek deger ile tahmin edilen deger karşılasştırılıyor.\n",
    "# bir sonraki epoch için agırlıklar güncelleniyor tekrar iterayon gerceklesiyor ve tekrar tahmin degeri olusturulup gercek deger ile karsılastırılıyor.\n",
    "#buna öğrenme deniyor. Öğrenme işlemi tamamlandıgında elimizde optimum katsayılar bulunulmus oluyor."
   ]
  },
  {
   "cell_type": "markdown",
   "metadata": {},
   "source": [
    "# Yapay Sinir Ağları  MODEL & TAHMİN"
   ]
  },
  {
   "cell_type": "code",
   "execution_count": 111,
   "metadata": {},
   "outputs": [],
   "source": [
    "diabets=pd.read_csv(\"diabets.csv\")\n",
    "df=diabets.copy()\n",
    "df=df.dropna()# eskik gözlemleri cıkarttık\n",
    "df.head()\n",
    "y=df[\"Outcome\"]\n",
    "X=df.drop([\"Outcome\"],axis=1)\n",
    "X_train,X_test,y_train,y_test=train_test_split(X,y,test_size=0.30,\n",
    "                                              random_state=42)"
   ]
  },
  {
   "cell_type": "code",
   "execution_count": 112,
   "metadata": {},
   "outputs": [],
   "source": [
    "from sklearn.preprocessing import StandardScaler"
   ]
  },
  {
   "cell_type": "code",
   "execution_count": 113,
   "metadata": {},
   "outputs": [],
   "source": [
    "scaler=StandardScaler()"
   ]
  },
  {
   "cell_type": "code",
   "execution_count": 117,
   "metadata": {},
   "outputs": [],
   "source": [
    "scaler.fit(X_train)\n",
    "X_train_scaled=scaler.transform(X_train)\n",
    "X_test_scaled=scaler.transform(X_test)"
   ]
  },
  {
   "cell_type": "code",
   "execution_count": 18,
   "metadata": {},
   "outputs": [
    {
     "data": {
      "text/plain": [
       "array([[-0.8362943 , -0.80005088, -0.53576428, -0.15714558, -0.18973183,\n",
       "        -1.06015343, -0.61421636, -0.94861028],\n",
       "       [ 0.39072767, -0.49054341,  0.12804365,  0.55361931,  2.13020339,\n",
       "         0.64646721, -0.90973787, -0.43466673]])"
      ]
     },
     "execution_count": 18,
     "metadata": {},
     "output_type": "execute_result"
    }
   ],
   "source": [
    "X_train_scaled[0:2]"
   ]
  },
  {
   "cell_type": "code",
   "execution_count": 115,
   "metadata": {},
   "outputs": [],
   "source": [
    "from sklearn.neural_network import MLPClassifier"
   ]
  },
  {
   "cell_type": "code",
   "execution_count": 118,
   "metadata": {},
   "outputs": [],
   "source": [
    "mlpc=MLPClassifier().fit(X_train_scaled,y_train)# multi layer perceptron classifcation"
   ]
  },
  {
   "cell_type": "code",
   "execution_count": 119,
   "metadata": {
    "collapsed": true,
    "jupyter": {
     "outputs_hidden": true
    }
   },
   "outputs": [
    {
     "data": {
      "text/plain": [
       "[array([[ 2.74425357e-02,  1.04908385e-01,  1.07865755e-01,\n",
       "         -5.81046802e-02, -3.27684489e-01, -1.27325399e-01,\n",
       "         -1.43676908e-01,  1.26214176e-01,  1.77436274e-02,\n",
       "          6.19974248e-02,  1.46624728e-01, -3.24824632e-02,\n",
       "          1.41585561e-01, -5.16204168e-02,  6.53982488e-02,\n",
       "         -3.68460916e-01, -2.82892501e-01,  5.28363830e-02,\n",
       "         -5.58852971e-01,  1.49733104e-02,  1.46685432e-01,\n",
       "         -1.69474708e-01,  5.11400901e-02, -1.42535168e-01,\n",
       "         -4.04988795e-01, -2.92978451e-01, -1.61396516e-02,\n",
       "         -1.76373350e-01, -1.74779486e-01,  3.50294229e-01,\n",
       "          7.90994349e-02, -2.07726335e-01, -3.66731896e-01,\n",
       "          3.77767321e-01,  1.51044789e-01, -5.81347286e-02,\n",
       "          2.04361943e-02,  9.04100818e-02, -4.83368116e-02,\n",
       "          9.94482617e-02, -2.83417025e-01,  6.61032981e-02,\n",
       "          1.01606268e-01, -5.98420576e-02, -1.49385385e-03,\n",
       "         -4.51587533e-01, -6.38093023e-02,  7.21991745e-02,\n",
       "         -3.05027567e-01, -4.54302966e-02,  2.15973023e-01,\n",
       "         -1.12489319e-01,  2.21320657e-01,  4.03049725e-02,\n",
       "         -1.37706210e-01,  4.27716565e-02, -8.94607996e-02,\n",
       "         -2.52098052e-02,  2.09617284e-01, -2.47732780e-01,\n",
       "          2.82769941e-02,  1.87883436e-01, -2.04492565e-02,\n",
       "         -3.61534009e-01, -9.83734109e-02,  3.54447353e-03,\n",
       "         -1.40713541e-01,  1.45845513e-01,  1.77944716e-01,\n",
       "         -4.62620280e-02, -1.82476736e-01, -7.99746731e-02,\n",
       "         -2.12887752e-01,  1.99492414e-01, -2.76651985e-01,\n",
       "          2.30998970e-01, -1.58499300e-01, -1.19745697e-01,\n",
       "          1.96338422e-01, -2.21058092e-01, -3.89920226e-02,\n",
       "          1.14227045e-02,  1.17375752e-01, -5.19186153e-02,\n",
       "         -2.47244371e-01,  1.53027437e-02, -1.54413614e-01,\n",
       "         -3.19016371e-02, -6.17357672e-04, -2.30160707e-02,\n",
       "          2.33102747e-02, -1.98143919e-01, -1.08537036e-01,\n",
       "         -2.24940730e-01,  2.06658987e-01,  2.78778902e-01,\n",
       "          1.87624434e-01,  1.42751364e-01, -4.36191963e-01,\n",
       "         -6.35703227e-02],\n",
       "        [-6.84233148e-02, -2.13731714e-03,  1.70846743e-01,\n",
       "          1.99737430e-01, -3.41898864e-01,  4.00700224e-02,\n",
       "          2.90062313e-01,  6.51873925e-02, -1.23835898e-01,\n",
       "         -2.04116855e-02,  2.09976085e-01, -1.83174918e-01,\n",
       "         -1.33865515e-01, -2.65102318e-01,  2.11239635e-01,\n",
       "         -2.34356437e-01, -2.55538917e-01,  7.72529801e-03,\n",
       "          3.74916126e-01, -7.71073620e-02, -2.02391096e-02,\n",
       "         -1.26745778e-01,  6.97015608e-02,  1.89151332e-01,\n",
       "          5.68254074e-02, -5.67678236e-02, -2.49002915e-01,\n",
       "         -1.14690004e-01, -1.04449573e-01,  1.41896164e-01,\n",
       "         -1.76217703e-02, -3.19026431e-02, -2.73701393e-01,\n",
       "         -1.23245905e-01,  3.22321073e-01, -1.52129108e-01,\n",
       "         -1.45370690e-02, -1.43095187e-01, -5.06263484e-02,\n",
       "          6.75250505e-02,  2.47851596e-01,  6.49903916e-02,\n",
       "         -1.28198116e-01,  2.33586636e-02, -2.39073787e-01,\n",
       "         -2.95824466e-01,  2.75735774e-01,  2.54693567e-01,\n",
       "          2.61087497e-01,  1.17531518e-01,  7.99281841e-02,\n",
       "          2.97752057e-01, -9.65486346e-02, -2.49144580e-01,\n",
       "          2.74940138e-02,  1.58592534e-01, -1.57366278e-02,\n",
       "         -1.96011078e-01,  3.19841654e-01, -2.75071138e-01,\n",
       "         -1.71271672e-02, -8.98891201e-02,  2.45553383e-01,\n",
       "         -2.06717511e-01,  4.40669292e-01,  3.08202570e-02,\n",
       "         -6.45380158e-02, -9.99476056e-02,  8.29564957e-03,\n",
       "         -7.26578263e-02,  1.95340553e-01,  9.51476880e-02,\n",
       "          1.25408202e-01, -7.56362022e-02, -2.46492301e-01,\n",
       "         -9.08514308e-02, -7.47867288e-02, -2.70952649e-02,\n",
       "         -1.01140415e-01,  3.12055357e-01, -4.10923312e-02,\n",
       "         -2.34312593e-02,  2.17037136e-01,  5.78280496e-02,\n",
       "         -1.58603322e-01,  1.24571796e-02,  3.72480175e-01,\n",
       "          5.46487857e-02,  3.75808514e-02, -1.12459417e-01,\n",
       "          3.15215549e-01,  1.50809702e-01,  9.30281475e-02,\n",
       "         -2.42259251e-01,  9.04499044e-02,  2.52475738e-01,\n",
       "         -3.87930986e-01, -4.14643939e-02,  1.79678081e-01,\n",
       "         -1.93558527e-01],\n",
       "        [ 3.09141168e-01, -2.87306120e-01,  2.29175648e-02,\n",
       "          8.02378129e-02,  3.78584155e-02,  1.79199834e-01,\n",
       "         -2.79556146e-01,  2.14659851e-01,  2.52068082e-01,\n",
       "         -5.08992307e-02, -4.08366926e-02,  1.98490118e-02,\n",
       "          1.07351304e-02,  9.16680221e-02,  7.23669581e-02,\n",
       "         -9.17988949e-02, -2.47585215e-02,  1.21589971e-01,\n",
       "          2.29239348e-01, -1.93027854e-01, -2.36611358e-02,\n",
       "          1.15555640e-01,  3.33970626e-02, -1.13903083e-01,\n",
       "         -2.34927445e-02,  1.81270555e-01,  1.75312849e-01,\n",
       "          1.22442101e-01,  8.33838449e-02, -6.25031327e-02,\n",
       "         -2.47230665e-01, -1.66328787e-01, -8.06315589e-03,\n",
       "         -2.62098730e-01,  2.83303705e-01, -6.48535803e-02,\n",
       "         -4.31266649e-03, -1.07135791e-01, -2.01347324e-01,\n",
       "          1.38405250e-01,  4.57844924e-03,  2.08312329e-01,\n",
       "          2.17833786e-01, -1.90895416e-01,  1.69134315e-01,\n",
       "         -2.79806606e-02, -1.22400816e-01, -1.94407975e-03,\n",
       "          1.23190414e-01, -1.80294830e-01,  1.69817566e-01,\n",
       "         -1.58950618e-01, -1.97684500e-01,  6.72275271e-02,\n",
       "         -4.43554999e-02, -6.78273476e-02, -8.88321627e-02,\n",
       "         -2.55742989e-01, -4.55529572e-02, -1.87817918e-01,\n",
       "          2.41554222e-01, -3.82571440e-01,  1.54607005e-01,\n",
       "          1.87387155e-01, -2.11107602e-01, -2.26631763e-01,\n",
       "         -1.34692175e-01,  2.39408060e-01,  2.88439584e-04,\n",
       "          3.31958251e-01, -2.15666156e-02,  1.40972853e-01,\n",
       "          1.26248723e-01,  9.81151180e-02, -1.04890120e-02,\n",
       "          5.15112909e-02,  1.52931288e-01,  4.39009220e-03,\n",
       "          5.73203847e-02, -2.16855130e-01,  4.92437548e-01,\n",
       "          1.44536966e-01, -2.11696556e-01,  1.58491280e-01,\n",
       "          2.40782081e-03, -8.62870194e-02, -2.10473598e-02,\n",
       "          2.38437365e-01, -1.72396291e-01,  9.67298814e-02,\n",
       "         -1.64251326e-01,  1.99918156e-01, -1.84655821e-01,\n",
       "         -2.03748847e-02, -2.72257075e-01,  1.33805402e-01,\n",
       "          5.36975083e-02, -5.43818082e-03,  2.61250814e-01,\n",
       "          6.26204224e-02],\n",
       "        [-1.98886369e-01,  2.61138227e-01, -1.03024156e-01,\n",
       "          4.92219331e-02,  8.39235952e-02, -2.27704174e-01,\n",
       "         -1.63423584e-01, -2.90859463e-01,  6.21143873e-02,\n",
       "         -2.28230375e-01,  1.31135444e-02, -6.66602395e-02,\n",
       "          1.48315058e-01, -5.01769270e-02,  1.10916916e-01,\n",
       "         -2.50083911e-01, -8.01698496e-02, -2.10777038e-01,\n",
       "          2.48647639e-01,  2.10981499e-01,  6.61760382e-02,\n",
       "         -1.94065103e-01,  2.97730838e-01,  4.20571273e-02,\n",
       "         -7.59791327e-02, -3.57825043e-01, -3.32237575e-01,\n",
       "         -1.45201612e-01, -1.47216704e-01,  2.42375914e-01,\n",
       "          1.34000847e-01, -1.90816439e-01, -1.00345663e-01,\n",
       "          2.61664277e-02,  2.59098360e-01,  8.72989304e-02,\n",
       "         -5.80263435e-02,  3.05063013e-01, -9.59452852e-02,\n",
       "         -1.32792691e-01, -1.82186170e-01,  6.14126820e-02,\n",
       "          2.41341325e-01,  2.15979291e-01,  8.40014834e-02,\n",
       "         -1.78508410e-01, -5.00477769e-02,  1.39586913e-01,\n",
       "          1.56750051e-01,  2.58062955e-02,  7.24138237e-02,\n",
       "         -1.50717253e-01, -1.52009702e-01, -2.73856294e-01,\n",
       "         -2.27346295e-01,  2.46558197e-01,  9.02862467e-02,\n",
       "          1.10786965e-01,  2.15320086e-01,  1.52588005e-01,\n",
       "         -2.90668474e-01, -3.17469234e-01,  1.26629826e-01,\n",
       "         -3.12205792e-01,  8.47189900e-02,  3.35260592e-01,\n",
       "          1.45243870e-01, -2.34247159e-01,  1.97097497e-01,\n",
       "         -8.37097532e-02, -1.76913284e-01, -1.51480099e-02,\n",
       "          1.70264214e-01,  3.34717090e-01,  1.58525224e-01,\n",
       "         -9.72625240e-02,  1.99447597e-01,  4.23691789e-02,\n",
       "         -2.16165080e-01, -9.25344606e-02,  2.05046384e-01,\n",
       "         -1.07734552e-01, -2.14178971e-01,  6.33761103e-02,\n",
       "         -2.23779328e-01, -1.47850927e-01, -4.13699550e-01,\n",
       "         -1.04402510e-01, -3.39194502e-02, -1.90910247e-01,\n",
       "         -2.45394459e-01, -1.78996235e-01, -3.51934819e-01,\n",
       "         -3.39400670e-02, -1.65395640e-01, -6.88212932e-02,\n",
       "          1.73989108e-01, -2.79874723e-01,  2.46088154e-02,\n",
       "          1.84425928e-01],\n",
       "        [-9.91046400e-03,  3.25335048e-02,  2.69454988e-01,\n",
       "          1.78626002e-01, -3.55131945e-01,  1.12861448e-01,\n",
       "         -2.90289424e-01, -2.44940056e-01,  2.16861822e-01,\n",
       "          1.67666271e-01, -9.35098368e-02,  1.06265907e-01,\n",
       "          1.17622573e-01,  1.48043735e-01,  1.05928009e-01,\n",
       "          2.53411847e-01,  1.66151076e-01, -2.31588078e-01,\n",
       "          2.76715430e-01, -1.84324213e-01,  1.24802473e-01,\n",
       "         -1.88012695e-01,  1.38916337e-01,  2.33795105e-01,\n",
       "          2.23812422e-01,  1.03388944e-01, -1.59766174e-02,\n",
       "         -1.85791893e-01,  1.99415934e-01,  2.50216030e-01,\n",
       "          1.30522848e-01, -1.80984557e-01,  3.08416124e-01,\n",
       "         -1.91036144e-01, -1.19133249e-01, -4.93014780e-02,\n",
       "          1.08881495e-01, -1.20571283e-01,  2.52685706e-01,\n",
       "          2.32553107e-01, -1.06182945e-01, -1.43165590e-01,\n",
       "          8.60131548e-02,  7.78730795e-02, -3.11640974e-01,\n",
       "          1.44785543e-01,  1.59861550e-01,  1.32055530e-01,\n",
       "         -8.15538289e-04, -1.13405706e-03,  1.97767048e-01,\n",
       "         -3.87516666e-01, -4.72032106e-01, -1.06563180e-01,\n",
       "          1.43122132e-01, -1.39295847e-01,  1.58800980e-01,\n",
       "          2.13540892e-01, -2.30274318e-01,  8.91642959e-02,\n",
       "          1.47180716e-01,  2.03230464e-01,  2.64135888e-01,\n",
       "          1.00453897e-01, -1.07072766e-01, -1.35616247e-01,\n",
       "          2.26842229e-01, -1.47890766e-01, -5.50994488e-02,\n",
       "         -3.43440382e-02, -3.18804127e-01,  2.37431502e-01,\n",
       "          2.46894290e-01,  2.71827980e-01, -2.54912540e-01,\n",
       "         -2.00005315e-01,  1.46667604e-01,  2.27542106e-01,\n",
       "         -1.81605687e-01, -2.25756110e-01, -1.63620227e-02,\n",
       "          1.60839199e-03,  1.02133662e-02, -1.11424177e-02,\n",
       "          2.23979795e-01, -1.13138110e-02,  9.39152126e-02,\n",
       "          2.85174099e-01,  9.10863762e-02,  1.77055306e-01,\n",
       "         -4.31353365e-01,  1.75725813e-01, -4.39656249e-02,\n",
       "          9.21818501e-02,  4.48486657e-02,  3.45684691e-02,\n",
       "          2.97375267e-01, -1.36343364e-01,  1.48585453e-01,\n",
       "         -8.31295270e-02],\n",
       "        [ 2.14721485e-01, -2.75857865e-01,  6.91456332e-02,\n",
       "         -6.31496692e-02, -9.24493720e-02,  5.62232270e-02,\n",
       "          6.24372780e-02,  1.75355297e-01,  2.75806993e-02,\n",
       "         -3.85364115e-02,  1.03554563e-01, -1.86275534e-02,\n",
       "         -4.68365051e-03,  1.77347155e-01, -1.67941557e-02,\n",
       "         -3.52750204e-02, -2.94627042e-01, -7.06107257e-02,\n",
       "         -2.14853326e-01,  2.56859986e-03, -5.65799062e-02,\n",
       "         -1.27288038e-02, -3.63016228e-02, -1.59147635e-01,\n",
       "         -1.57251214e-01, -9.21789152e-02,  3.24007509e-02,\n",
       "          2.66928173e-01, -1.11514189e-01,  1.85051985e-01,\n",
       "         -2.36669736e-01, -2.15622931e-01, -1.79250543e-01,\n",
       "          1.31816773e-01, -1.31919436e-01, -4.32928970e-02,\n",
       "         -8.32953236e-02,  4.49491108e-03, -4.06651143e-02,\n",
       "          9.75503128e-02,  1.68553448e-01, -3.75450077e-02,\n",
       "         -1.15633583e-01,  5.64909289e-02,  9.67746558e-02,\n",
       "         -3.09071598e-01,  1.16053861e-01,  1.67076387e-01,\n",
       "          1.69403892e-01, -3.97188823e-01, -2.58075555e-01,\n",
       "          4.33442641e-02,  2.91145041e-01,  2.86289904e-01,\n",
       "          4.32172820e-02,  1.37910006e-02,  1.54783830e-01,\n",
       "         -2.86691467e-01,  6.08846080e-02, -1.80096674e-01,\n",
       "          2.45851374e-01, -3.17039129e-01,  7.25129484e-02,\n",
       "         -1.71881389e-01,  2.14308858e-01, -3.00103792e-01,\n",
       "          1.13664848e-01,  7.68265151e-02, -3.05870426e-01,\n",
       "          1.74906218e-01, -1.60103853e-01, -1.08613271e-01,\n",
       "         -1.97958992e-01,  1.00483896e-03, -8.43862615e-02,\n",
       "          2.74717764e-01,  2.09029163e-01,  1.57303006e-01,\n",
       "         -3.61176147e-01,  2.66313561e-01,  1.46909538e-01,\n",
       "         -1.57389060e-01,  2.68662965e-01, -1.32812130e-01,\n",
       "         -7.68596435e-02,  3.27157781e-01, -1.06325396e-01,\n",
       "         -1.53080985e-01, -1.83653630e-01, -7.79979840e-02,\n",
       "          1.38385231e-01, -1.48915408e-01,  2.30922300e-01,\n",
       "         -1.33282565e-01, -8.05178115e-02, -1.80624129e-01,\n",
       "          1.03913100e-01, -9.14664127e-02, -1.38531178e-01,\n",
       "          1.02347393e-01],\n",
       "        [-2.38336809e-01, -3.29084186e-01,  1.37058147e-02,\n",
       "         -2.71036223e-01,  6.26808368e-02, -1.19990615e-01,\n",
       "          1.45800615e-01,  9.35107818e-02, -9.58591060e-02,\n",
       "          6.02192064e-02,  1.20125593e-01, -4.56679027e-01,\n",
       "         -7.03468972e-02, -1.33350967e-01,  1.04476964e-01,\n",
       "          1.39042034e-01,  2.68568233e-01, -3.62377873e-02,\n",
       "         -8.56056270e-03, -1.43870833e-01, -3.52826647e-01,\n",
       "         -7.37694404e-02, -1.85485875e-01,  1.68701767e-01,\n",
       "         -1.86012306e-02,  1.38615643e-01, -1.28934334e-01,\n",
       "         -4.38630562e-02, -1.88574241e-01,  2.19518480e-01,\n",
       "          1.53284164e-01,  9.82616137e-02, -8.45028035e-02,\n",
       "          1.84628952e-01, -5.06950508e-02,  1.71654848e-01,\n",
       "          1.01166172e-01, -1.97288380e-01, -2.66668580e-01,\n",
       "          1.09335943e-01, -1.79243959e-01,  2.59093076e-01,\n",
       "         -1.11740029e-01,  2.47241443e-01,  1.27553915e-01,\n",
       "          3.10393923e-01,  9.06264867e-02,  1.54449036e-01,\n",
       "          6.79637690e-02, -1.05800314e-01, -1.67565637e-01,\n",
       "          1.45283094e-01, -1.26834910e-01, -1.27879810e-01,\n",
       "          3.55964750e-01,  2.09283186e-01,  8.85159390e-02,\n",
       "         -3.84276336e-01,  3.83112604e-02, -1.18977763e-01,\n",
       "          9.55882301e-02,  3.90735255e-01, -4.70917619e-02,\n",
       "          3.89092590e-01, -1.30795497e-01, -4.85864086e-01,\n",
       "          8.47783065e-03,  5.95938014e-02, -1.97261957e-01,\n",
       "         -1.93613021e-01, -1.90699545e-01, -2.46432036e-01,\n",
       "          9.88541690e-02,  2.08075299e-01,  3.45200453e-03,\n",
       "          9.73683520e-02,  1.69283420e-02, -9.51225535e-02,\n",
       "         -2.12063355e-01,  1.40112016e-01, -5.83088524e-01,\n",
       "          2.92387499e-01, -4.69803095e-04,  1.62423596e-01,\n",
       "         -2.26092805e-01,  1.47492693e-01, -2.82687980e-01,\n",
       "         -1.63063361e-01,  5.79030581e-02,  2.99325606e-01,\n",
       "         -1.52318127e-01, -1.57244260e-01,  7.04684680e-02,\n",
       "         -1.30166769e-01, -2.01447122e-01,  1.72509117e-01,\n",
       "         -3.69377532e-02, -1.09609605e-01, -1.93777461e-01,\n",
       "          4.35657807e-02],\n",
       "        [-4.59944386e-02,  2.11023746e-01, -2.11330131e-01,\n",
       "          1.77328503e-02, -7.31234718e-02,  1.30202609e-01,\n",
       "         -8.51613449e-02,  2.51290024e-01, -1.28537923e-01,\n",
       "          2.39983908e-01, -4.68823348e-02, -1.92847957e-01,\n",
       "         -4.49398553e-02,  4.21256632e-02,  7.84168836e-02,\n",
       "         -4.47818382e-01, -2.80620374e-01,  3.11497355e-01,\n",
       "          2.51521047e-01, -3.46322589e-01, -3.86291743e-01,\n",
       "         -7.99084235e-02, -4.15260980e-01, -1.42613285e-01,\n",
       "          1.29077618e-01, -2.23806557e-01, -4.01573801e-01,\n",
       "          6.74975473e-02, -2.70431579e-01, -5.89721040e-02,\n",
       "          3.36995151e-02, -2.97490124e-01, -3.38151608e-01,\n",
       "         -1.66479305e-01, -5.77716502e-03,  1.13261412e-01,\n",
       "         -3.41291182e-01,  8.87995609e-02, -3.57084741e-01,\n",
       "         -1.89044409e-01,  1.15826607e-03,  2.15549957e-01,\n",
       "         -1.01864133e-01, -1.23034277e-01,  1.58953898e-01,\n",
       "         -2.88508656e-01,  4.27947486e-02,  6.47790532e-02,\n",
       "          1.87457351e-01,  6.58247544e-02, -2.74979846e-02,\n",
       "         -9.22869977e-02, -5.60644976e-02,  1.27181027e-01,\n",
       "          3.46912649e-01,  2.41014356e-01, -1.85392463e-01,\n",
       "         -3.25061935e-01, -1.83549444e-01, -8.71002880e-02,\n",
       "         -1.39213744e-01,  2.08877140e-01, -9.53493872e-02,\n",
       "         -4.10253006e-01, -1.47323768e-01,  2.40557309e-01,\n",
       "         -3.29316292e-01,  1.90568866e-01,  1.67633276e-01,\n",
       "         -2.62338870e-01, -6.66067078e-02,  6.26004524e-02,\n",
       "          9.52162321e-02,  1.96427972e-01, -1.15502787e-01,\n",
       "          3.04432815e-02, -1.30096253e-01, -1.10859660e-01,\n",
       "          2.75874175e-01,  8.34908273e-02, -1.15920474e-01,\n",
       "         -3.50584915e-01,  1.80030978e-02, -2.55381013e-01,\n",
       "         -2.92725198e-01,  1.37444418e-01, -7.38846448e-03,\n",
       "         -4.60775655e-01, -6.13514007e-02, -2.72581452e-01,\n",
       "         -3.26748868e-01,  1.73714459e-01, -1.29234034e-02,\n",
       "         -3.33222684e-01,  2.48474027e-02,  1.25743486e-02,\n",
       "          2.68015941e-02,  4.45673600e-01,  2.05480661e-01,\n",
       "          9.50115954e-02]]), array([[-0.08964559],\n",
       "        [-0.35832057],\n",
       "        [-0.20643373],\n",
       "        [ 0.20502708],\n",
       "        [-0.17073449],\n",
       "        [ 0.03942678],\n",
       "        [ 0.20068954],\n",
       "        [-0.10651464],\n",
       "        [-0.02559486],\n",
       "        [-0.222753  ],\n",
       "        [ 0.15512617],\n",
       "        [-0.42239417],\n",
       "        [ 0.1721415 ],\n",
       "        [ 0.3497367 ],\n",
       "        [-0.09980918],\n",
       "        [-0.18278443],\n",
       "        [-0.20549876],\n",
       "        [-0.32734219],\n",
       "        [ 0.30232162],\n",
       "        [-0.14339756],\n",
       "        [-0.33587559],\n",
       "        [-0.0030797 ],\n",
       "        [-0.11170156],\n",
       "        [ 0.20865905],\n",
       "        [ 0.27565704],\n",
       "        [-0.39943525],\n",
       "        [-0.28768509],\n",
       "        [ 0.10894016],\n",
       "        [-0.42369847],\n",
       "        [ 0.18755486],\n",
       "        [-0.19724591],\n",
       "        [-0.26392778],\n",
       "        [-0.13867128],\n",
       "        [ 0.36050031],\n",
       "        [ 0.23664538],\n",
       "        [-0.19733268],\n",
       "        [-0.24676992],\n",
       "        [-0.15070597],\n",
       "        [-0.30259565],\n",
       "        [-0.17164066],\n",
       "        [ 0.11116029],\n",
       "        [-0.16299757],\n",
       "        [ 0.08702437],\n",
       "        [ 0.18316475],\n",
       "        [-0.27522683],\n",
       "        [-0.21648458],\n",
       "        [ 0.29097751],\n",
       "        [ 0.21480569],\n",
       "        [ 0.21920268],\n",
       "        [-0.23277999],\n",
       "        [ 0.37703898],\n",
       "        [ 0.40579656],\n",
       "        [ 0.23443401],\n",
       "        [ 0.29957674],\n",
       "        [-0.22106132],\n",
       "        [-0.22425137],\n",
       "        [-0.1145422 ],\n",
       "        [-0.41808162],\n",
       "        [ 0.19681016],\n",
       "        [-0.23592286],\n",
       "        [-0.36714352],\n",
       "        [-0.24719405],\n",
       "        [ 0.16383733],\n",
       "        [-0.2697053 ],\n",
       "        [ 0.40973849],\n",
       "        [-0.32941636],\n",
       "        [-0.13245098],\n",
       "        [-0.10283211],\n",
       "        [-0.36596074],\n",
       "        [-0.45362017],\n",
       "        [ 0.27708642],\n",
       "        [ 0.39953379],\n",
       "        [ 0.33034282],\n",
       "        [ 0.30617332],\n",
       "        [-0.43921033],\n",
       "        [ 0.10409936],\n",
       "        [ 0.06044216],\n",
       "        [-0.17124591],\n",
       "        [-0.14443238],\n",
       "        [ 0.32374285],\n",
       "        [-0.36804034],\n",
       "        [-0.13377803],\n",
       "        [ 0.26672281],\n",
       "        [-0.07111679],\n",
       "        [-0.45534892],\n",
       "        [ 0.26130049],\n",
       "        [ 0.23722146],\n",
       "        [-0.24499533],\n",
       "        [-0.2284464 ],\n",
       "        [-0.39512136],\n",
       "        [ 0.33414787],\n",
       "        [ 0.42918062],\n",
       "        [ 0.30393679],\n",
       "        [-0.35547007],\n",
       "        [-0.0738157 ],\n",
       "        [ 0.24001489],\n",
       "        [ 0.56486132],\n",
       "        [-0.20050416],\n",
       "        [ 0.46987899],\n",
       "        [ 0.09531275]])]"
      ]
     },
     "execution_count": 119,
     "metadata": {},
     "output_type": "execute_result"
    }
   ],
   "source": [
    "mlpc.coefs_"
   ]
  },
  {
   "cell_type": "code",
   "execution_count": 25,
   "metadata": {
    "collapsed": true,
    "jupyter": {
     "outputs_hidden": true
    }
   },
   "outputs": [
    {
     "data": {
      "text/plain": [
       "['__abstractmethods__',\n",
       " '__class__',\n",
       " '__delattr__',\n",
       " '__dict__',\n",
       " '__dir__',\n",
       " '__doc__',\n",
       " '__eq__',\n",
       " '__format__',\n",
       " '__ge__',\n",
       " '__getattribute__',\n",
       " '__getstate__',\n",
       " '__gt__',\n",
       " '__hash__',\n",
       " '__init__',\n",
       " '__init_subclass__',\n",
       " '__le__',\n",
       " '__lt__',\n",
       " '__module__',\n",
       " '__ne__',\n",
       " '__new__',\n",
       " '__reduce__',\n",
       " '__reduce_ex__',\n",
       " '__repr__',\n",
       " '__setattr__',\n",
       " '__setstate__',\n",
       " '__sizeof__',\n",
       " '__str__',\n",
       " '__subclasshook__',\n",
       " '__weakref__',\n",
       " '_abc_impl',\n",
       " '_backprop',\n",
       " '_compute_loss_grad',\n",
       " '_estimator_type',\n",
       " '_fit',\n",
       " '_fit_lbfgs',\n",
       " '_fit_stochastic',\n",
       " '_forward_pass',\n",
       " '_get_param_names',\n",
       " '_get_tags',\n",
       " '_init_coef',\n",
       " '_initialize',\n",
       " '_label_binarizer',\n",
       " '_loss_grad_lbfgs',\n",
       " '_no_improvement_count',\n",
       " '_optimizer',\n",
       " '_partial_fit',\n",
       " '_predict',\n",
       " '_random_state',\n",
       " '_unpack',\n",
       " '_update_no_improvement_count',\n",
       " '_validate_hyperparameters',\n",
       " '_validate_input',\n",
       " 'activation',\n",
       " 'alpha',\n",
       " 'batch_size',\n",
       " 'best_loss_',\n",
       " 'beta_1',\n",
       " 'beta_2',\n",
       " 'classes_',\n",
       " 'coefs_',\n",
       " 'early_stopping',\n",
       " 'epsilon',\n",
       " 'fit',\n",
       " 'get_params',\n",
       " 'hidden_layer_sizes',\n",
       " 'intercepts_',\n",
       " 'learning_rate',\n",
       " 'learning_rate_init',\n",
       " 'loss',\n",
       " 'loss_',\n",
       " 'loss_curve_',\n",
       " 'max_iter',\n",
       " 'momentum',\n",
       " 'n_iter_',\n",
       " 'n_iter_no_change',\n",
       " 'n_layers_',\n",
       " 'n_outputs_',\n",
       " 'nesterovs_momentum',\n",
       " 'out_activation_',\n",
       " 'partial_fit',\n",
       " 'power_t',\n",
       " 'predict',\n",
       " 'predict_log_proba',\n",
       " 'predict_proba',\n",
       " 'random_state',\n",
       " 'score',\n",
       " 'set_params',\n",
       " 'shuffle',\n",
       " 'solver',\n",
       " 't_',\n",
       " 'tol',\n",
       " 'validation_fraction',\n",
       " 'verbose',\n",
       " 'warm_start']"
      ]
     },
     "execution_count": 25,
     "metadata": {},
     "output_type": "execute_result"
    }
   ],
   "source": [
    "dir(mlpc)# modelle ilgili erismek istediklerimize bakarız"
   ]
  },
  {
   "cell_type": "code",
   "execution_count": 26,
   "metadata": {},
   "outputs": [
    {
     "data": {
      "text/plain": [
       "0.7316017316017316"
      ]
     },
     "execution_count": 26,
     "metadata": {},
     "output_type": "execute_result"
    }
   ],
   "source": [
    "y_pred=mlpc.predict(X_test_scaled)\n",
    "accuracy_score(y_test,y_pred)"
   ]
  },
  {
   "cell_type": "markdown",
   "metadata": {},
   "source": [
    "# Yapay Sinir Agaları - MODEL TUNİNG"
   ]
  },
  {
   "cell_type": "code",
   "execution_count": 27,
   "metadata": {},
   "outputs": [],
   "source": [
    "# adam metodu büyük veri setlerinde daha iyi oldugu bilinen bir metoddur.\n",
    "# veri setimizin küçük oldugu dudrumlarda hangi metodun kullanlacagı bilinmesi gerekir.\n"
   ]
  },
  {
   "cell_type": "code",
   "execution_count": 29,
   "metadata": {
    "collapsed": true,
    "jupyter": {
     "outputs_hidden": true
    }
   },
   "outputs": [
    {
     "data": {
      "text/plain": [
       "\u001b[1;31mType:\u001b[0m        MLPClassifier\n",
       "\u001b[1;31mString form:\u001b[0m\n",
       "MLPClassifier(activation='relu', alpha=0.0001, batch_size='auto', beta_1=0.9,\n",
       "           beta_ <...> olver='adam', tol=0.0001,\n",
       "           validation_fraction=0.1, verbose=False, warm_start=False)\n",
       "\u001b[1;31mFile:\u001b[0m        c:\\users\\aayse\\appdata\\local\\continuum\\anaconda3\\lib\\site-packages\\sklearn\\neural_network\\multilayer_perceptron.py\n",
       "\u001b[1;31mDocstring:\u001b[0m  \n",
       "Multi-layer Perceptron classifier.\n",
       "\n",
       "This model optimizes the log-loss function using LBFGS or stochastic\n",
       "gradient descent.\n",
       "\n",
       ".. versionadded:: 0.18\n",
       "\n",
       "Parameters\n",
       "----------\n",
       "hidden_layer_sizes : tuple, length = n_layers - 2, default (100,)\n",
       "    The ith element represents the number of neurons in the ith\n",
       "    hidden layer.\n",
       "\n",
       "activation : {'identity', 'logistic', 'tanh', 'relu'}, default 'relu'\n",
       "    Activation function for the hidden layer.\n",
       "\n",
       "    - 'identity', no-op activation, useful to implement linear bottleneck,\n",
       "      returns f(x) = x\n",
       "\n",
       "    - 'logistic', the logistic sigmoid function,\n",
       "      returns f(x) = 1 / (1 + exp(-x)).\n",
       "\n",
       "    - 'tanh', the hyperbolic tan function,\n",
       "      returns f(x) = tanh(x).\n",
       "\n",
       "    - 'relu', the rectified linear unit function,\n",
       "      returns f(x) = max(0, x)\n",
       "\n",
       "solver : {'lbfgs', 'sgd', 'adam'}, default 'adam'\n",
       "    The solver for weight optimization.\n",
       "\n",
       "    - 'lbfgs' is an optimizer in the family of quasi-Newton methods.\n",
       "\n",
       "    - 'sgd' refers to stochastic gradient descent.\n",
       "\n",
       "    - 'adam' refers to a stochastic gradient-based optimizer proposed\n",
       "      by Kingma, Diederik, and Jimmy Ba\n",
       "\n",
       "    Note: The default solver 'adam' works pretty well on relatively\n",
       "    large datasets (with thousands of training samples or more) in terms of\n",
       "    both training time and validation score.\n",
       "    For small datasets, however, 'lbfgs' can converge faster and perform\n",
       "    better.\n",
       "\n",
       "alpha : float, optional, default 0.0001\n",
       "    L2 penalty (regularization term) parameter.\n",
       "\n",
       "batch_size : int, optional, default 'auto'\n",
       "    Size of minibatches for stochastic optimizers.\n",
       "    If the solver is 'lbfgs', the classifier will not use minibatch.\n",
       "    When set to \"auto\", `batch_size=min(200, n_samples)`\n",
       "\n",
       "learning_rate : {'constant', 'invscaling', 'adaptive'}, default 'constant'\n",
       "    Learning rate schedule for weight updates.\n",
       "\n",
       "    - 'constant' is a constant learning rate given by\n",
       "      'learning_rate_init'.\n",
       "\n",
       "    - 'invscaling' gradually decreases the learning rate at each\n",
       "      time step 't' using an inverse scaling exponent of 'power_t'.\n",
       "      effective_learning_rate = learning_rate_init / pow(t, power_t)\n",
       "\n",
       "    - 'adaptive' keeps the learning rate constant to\n",
       "      'learning_rate_init' as long as training loss keeps decreasing.\n",
       "      Each time two consecutive epochs fail to decrease training loss by at\n",
       "      least tol, or fail to increase validation score by at least tol if\n",
       "      'early_stopping' is on, the current learning rate is divided by 5.\n",
       "\n",
       "    Only used when ``solver='sgd'``.\n",
       "\n",
       "learning_rate_init : double, optional, default 0.001\n",
       "    The initial learning rate used. It controls the step-size\n",
       "    in updating the weights. Only used when solver='sgd' or 'adam'.\n",
       "\n",
       "power_t : double, optional, default 0.5\n",
       "    The exponent for inverse scaling learning rate.\n",
       "    It is used in updating effective learning rate when the learning_rate\n",
       "    is set to 'invscaling'. Only used when solver='sgd'.\n",
       "\n",
       "max_iter : int, optional, default 200\n",
       "    Maximum number of iterations. The solver iterates until convergence\n",
       "    (determined by 'tol') or this number of iterations. For stochastic\n",
       "    solvers ('sgd', 'adam'), note that this determines the number of epochs\n",
       "    (how many times each data point will be used), not the number of\n",
       "    gradient steps.\n",
       "\n",
       "shuffle : bool, optional, default True\n",
       "    Whether to shuffle samples in each iteration. Only used when\n",
       "    solver='sgd' or 'adam'.\n",
       "\n",
       "random_state : int, RandomState instance or None, optional, default None\n",
       "    If int, random_state is the seed used by the random number generator;\n",
       "    If RandomState instance, random_state is the random number generator;\n",
       "    If None, the random number generator is the RandomState instance used\n",
       "    by `np.random`.\n",
       "\n",
       "tol : float, optional, default 1e-4\n",
       "    Tolerance for the optimization. When the loss or score is not improving\n",
       "    by at least ``tol`` for ``n_iter_no_change`` consecutive iterations,\n",
       "    unless ``learning_rate`` is set to 'adaptive', convergence is\n",
       "    considered to be reached and training stops.\n",
       "\n",
       "verbose : bool, optional, default False\n",
       "    Whether to print progress messages to stdout.\n",
       "\n",
       "warm_start : bool, optional, default False\n",
       "    When set to True, reuse the solution of the previous\n",
       "    call to fit as initialization, otherwise, just erase the\n",
       "    previous solution. See :term:`the Glossary <warm_start>`.\n",
       "\n",
       "momentum : float, default 0.9\n",
       "    Momentum for gradient descent update. Should be between 0 and 1. Only\n",
       "    used when solver='sgd'.\n",
       "\n",
       "nesterovs_momentum : boolean, default True\n",
       "    Whether to use Nesterov's momentum. Only used when solver='sgd' and\n",
       "    momentum > 0.\n",
       "\n",
       "early_stopping : bool, default False\n",
       "    Whether to use early stopping to terminate training when validation\n",
       "    score is not improving. If set to true, it will automatically set\n",
       "    aside 10% of training data as validation and terminate training when\n",
       "    validation score is not improving by at least tol for\n",
       "    ``n_iter_no_change`` consecutive epochs. The split is stratified,\n",
       "    except in a multilabel setting.\n",
       "    Only effective when solver='sgd' or 'adam'\n",
       "\n",
       "validation_fraction : float, optional, default 0.1\n",
       "    The proportion of training data to set aside as validation set for\n",
       "    early stopping. Must be between 0 and 1.\n",
       "    Only used if early_stopping is True\n",
       "\n",
       "beta_1 : float, optional, default 0.9\n",
       "    Exponential decay rate for estimates of first moment vector in adam,\n",
       "    should be in [0, 1). Only used when solver='adam'\n",
       "\n",
       "beta_2 : float, optional, default 0.999\n",
       "    Exponential decay rate for estimates of second moment vector in adam,\n",
       "    should be in [0, 1). Only used when solver='adam'\n",
       "\n",
       "epsilon : float, optional, default 1e-8\n",
       "    Value for numerical stability in adam. Only used when solver='adam'\n",
       "\n",
       "n_iter_no_change : int, optional, default 10\n",
       "    Maximum number of epochs to not meet ``tol`` improvement.\n",
       "    Only effective when solver='sgd' or 'adam'\n",
       "\n",
       "    .. versionadded:: 0.20\n",
       "\n",
       "Attributes\n",
       "----------\n",
       "classes_ : array or list of array of shape (n_classes,)\n",
       "    Class labels for each output.\n",
       "\n",
       "loss_ : float\n",
       "    The current loss computed with the loss function.\n",
       "\n",
       "coefs_ : list, length n_layers - 1\n",
       "    The ith element in the list represents the weight matrix corresponding\n",
       "    to layer i.\n",
       "\n",
       "intercepts_ : list, length n_layers - 1\n",
       "    The ith element in the list represents the bias vector corresponding to\n",
       "    layer i + 1.\n",
       "\n",
       "n_iter_ : int,\n",
       "    The number of iterations the solver has ran.\n",
       "\n",
       "n_layers_ : int\n",
       "    Number of layers.\n",
       "\n",
       "n_outputs_ : int\n",
       "    Number of outputs.\n",
       "\n",
       "out_activation_ : string\n",
       "    Name of the output activation function.\n",
       "\n",
       "Notes\n",
       "-----\n",
       "MLPClassifier trains iteratively since at each time step\n",
       "the partial derivatives of the loss function with respect to the model\n",
       "parameters are computed to update the parameters.\n",
       "\n",
       "It can also have a regularization term added to the loss function\n",
       "that shrinks model parameters to prevent overfitting.\n",
       "\n",
       "This implementation works with data represented as dense numpy arrays or\n",
       "sparse scipy arrays of floating point values.\n",
       "\n",
       "References\n",
       "----------\n",
       "Hinton, Geoffrey E.\n",
       "    \"Connectionist learning procedures.\" Artificial intelligence 40.1\n",
       "    (1989): 185-234.\n",
       "\n",
       "Glorot, Xavier, and Yoshua Bengio. \"Understanding the difficulty of\n",
       "    training deep feedforward neural networks.\" International Conference\n",
       "    on Artificial Intelligence and Statistics. 2010.\n",
       "\n",
       "He, Kaiming, et al. \"Delving deep into rectifiers: Surpassing human-level\n",
       "    performance on imagenet classification.\" arXiv preprint\n",
       "    arXiv:1502.01852 (2015).\n",
       "\n",
       "Kingma, Diederik, and Jimmy Ba. \"Adam: A method for stochastic\n",
       "    optimization.\" arXiv preprint arXiv:1412.6980 (2014).\n"
      ]
     },
     "metadata": {},
     "output_type": "display_data"
    }
   ],
   "source": [
    "?mlpc"
   ]
  },
  {
   "cell_type": "code",
   "execution_count": 30,
   "metadata": {
    "collapsed": true,
    "jupyter": {
     "outputs_hidden": true
    }
   },
   "outputs": [
    {
     "data": {
      "text/plain": [
       "MLPClassifier(activation='relu', alpha=0.0001, batch_size='auto', beta_1=0.9,\n",
       "              beta_2=0.999, early_stopping=False, epsilon=1e-08,\n",
       "              hidden_layer_sizes=(100,), learning_rate='constant',\n",
       "              learning_rate_init=0.001, max_iter=200, momentum=0.9,\n",
       "              n_iter_no_change=10, nesterovs_momentum=True, power_t=0.5,\n",
       "              random_state=None, shuffle=True, solver='adam', tol=0.0001,\n",
       "              validation_fraction=0.1, verbose=False, warm_start=False)"
      ]
     },
     "execution_count": 30,
     "metadata": {},
     "output_type": "execute_result"
    }
   ],
   "source": [
    "mlpc"
   ]
  },
  {
   "cell_type": "code",
   "execution_count": 120,
   "metadata": {},
   "outputs": [],
   "source": [
    "mlpc_params={\"alpha\":[0.1,0.01,0.02,0.005,0.0001,0.00001],# ceza parametresi\n",
    "            \"hidden_layer_sizes\":[(10,10,10),\n",
    "                                 (100,100,100),\n",
    "                                 (100,100),(3,5),(5,3)],\n",
    "            \"solver\":[\"lbfgs\",\"adam\",\"sgd\"],\n",
    "            \"activation\":[\"relu\",\"logistic\"]}#activation function"
   ]
  },
  {
   "cell_type": "code",
   "execution_count": 33,
   "metadata": {},
   "outputs": [
    {
     "name": "stdout",
     "output_type": "stream",
     "text": [
      "Fitting 10 folds for each of 180 candidates, totalling 1800 fits\n"
     ]
    },
    {
     "name": "stderr",
     "output_type": "stream",
     "text": [
      "[Parallel(n_jobs=-1)]: Using backend LokyBackend with 4 concurrent workers.\n",
      "[Parallel(n_jobs=-1)]: Done  33 tasks      | elapsed:   10.8s\n",
      "[Parallel(n_jobs=-1)]: Done 154 tasks      | elapsed:  1.2min\n",
      "[Parallel(n_jobs=-1)]: Done 357 tasks      | elapsed:  3.1min\n",
      "[Parallel(n_jobs=-1)]: Done 640 tasks      | elapsed:  5.0min\n",
      "[Parallel(n_jobs=-1)]: Done 1005 tasks      | elapsed:  7.5min\n",
      "[Parallel(n_jobs=-1)]: Done 1450 tasks      | elapsed:  9.6min\n",
      "[Parallel(n_jobs=-1)]: Done 1800 out of 1800 | elapsed: 10.9min finished\n"
     ]
    },
    {
     "data": {
      "text/plain": [
       "GridSearchCV(cv=10, error_score='raise-deprecating',\n",
       "             estimator=MLPClassifier(activation='relu', alpha=0.0001,\n",
       "                                     batch_size='auto', beta_1=0.9,\n",
       "                                     beta_2=0.999, early_stopping=False,\n",
       "                                     epsilon=1e-08, hidden_layer_sizes=(100,),\n",
       "                                     learning_rate='constant',\n",
       "                                     learning_rate_init=0.001, max_iter=200,\n",
       "                                     momentum=0.9, n_iter_no_change=10,\n",
       "                                     nesterovs_momentum=True, power_t=0.5,\n",
       "                                     random_st...\n",
       "                                     validation_fraction=0.1, verbose=False,\n",
       "                                     warm_start=False),\n",
       "             iid='warn', n_jobs=-1,\n",
       "             param_grid={'activation': ['relu', 'logistic'],\n",
       "                         'alpha': [0.1, 0.01, 0.02, 0.005, 0.0001, 1e-05],\n",
       "                         'hidden_layer_sizes': [(10, 10, 10), (100, 100, 100),\n",
       "                                                (100, 100), (3, 5), (5, 3)],\n",
       "                         'solver': ['lbfgs', 'adam', 'sgd']},\n",
       "             pre_dispatch='2*n_jobs', refit=True, return_train_score=False,\n",
       "             scoring=None, verbose=2)"
      ]
     },
     "execution_count": 33,
     "metadata": {},
     "output_type": "execute_result"
    }
   ],
   "source": [
    "mlpc=MLPClassifier()\n",
    "mlpc_cv_model=GridSearchCV(mlpc,mlpc_params,\n",
    "                          cv=10,n_jobs=-1,\n",
    "                          verbose=2)\n",
    "mlpc_cv_model.fit(X_train_scaled,y_train)"
   ]
  },
  {
   "cell_type": "code",
   "execution_count": 34,
   "metadata": {},
   "outputs": [
    {
     "data": {
      "text/plain": [
       "{'activation': 'relu',\n",
       " 'alpha': 0.02,\n",
       " 'hidden_layer_sizes': (100, 100),\n",
       " 'solver': 'sgd'}"
      ]
     },
     "execution_count": 34,
     "metadata": {},
     "output_type": "execute_result"
    }
   ],
   "source": [
    "mlpc_cv_model.best_params_"
   ]
  },
  {
   "cell_type": "code",
   "execution_count": 148,
   "metadata": {},
   "outputs": [],
   "source": [
    "mlpc_tuned=MLPClassifier(alpha=0.02,\n",
    "                        hidden_layer_sizes=(100,100),\n",
    "                        solver=\"sgd\",\n",
    "                        activation=\"relu\")"
   ]
  },
  {
   "cell_type": "code",
   "execution_count": 149,
   "metadata": {},
   "outputs": [
    {
     "data": {
      "text/plain": [
       "MLPClassifier(activation='relu', alpha=0.02, batch_size='auto', beta_1=0.9,\n",
       "              beta_2=0.999, early_stopping=False, epsilon=1e-08,\n",
       "              hidden_layer_sizes=(100, 100), learning_rate='constant',\n",
       "              learning_rate_init=0.001, max_iter=200, momentum=0.9,\n",
       "              n_iter_no_change=10, nesterovs_momentum=True, power_t=0.5,\n",
       "              random_state=None, shuffle=True, solver='sgd', tol=0.0001,\n",
       "              validation_fraction=0.1, verbose=False, warm_start=False)"
      ]
     },
     "execution_count": 149,
     "metadata": {},
     "output_type": "execute_result"
    }
   ],
   "source": [
    "mlpc_tuned.fit(X_train_scaled,y_train)"
   ]
  },
  {
   "cell_type": "code",
   "execution_count": 150,
   "metadata": {},
   "outputs": [
    {
     "data": {
      "text/plain": [
       "0.7619047619047619"
      ]
     },
     "execution_count": 150,
     "metadata": {},
     "output_type": "execute_result"
    }
   ],
   "source": [
    "y_pred=mlpc_tuned.predict(X_test_scaled)\n",
    "accuracy_score(y_test,y_pred)"
   ]
  },
  {
   "cell_type": "markdown",
   "metadata": {},
   "source": [
    "# Classification and Regression (CART) - TEORİ"
   ]
  },
  {
   "cell_type": "markdown",
   "metadata": {},
   "source": [
    "* Amac: Veri seti içeirisndeki karmasık yapıları basit karar yapılarına dönüştürmektir.Heterojen veri setleri belirlenmiş bir hedef degiskene göre homojen alt gruplara ayrılır."
   ]
  },
  {
   "cell_type": "markdown",
   "metadata": {},
   "source": [
    "# Classification and Regression MODEL- TAHMİN"
   ]
  },
  {
   "cell_type": "code",
   "execution_count": 122,
   "metadata": {},
   "outputs": [],
   "source": [
    "diabets=pd.read_csv(\"diabets.csv\")\n",
    "df=diabets.copy()\n",
    "df=df.dropna()# eskik gözlemleri cıkarttık\n",
    "df.head()\n",
    "y=df[\"Outcome\"]\n",
    "X=df.drop([\"Outcome\"],axis=1)\n",
    "#X=df[\"Pregnancies\"]\n",
    "#X=pd.DataFrame(X)\n",
    "X_train,X_test,y_train,y_test=train_test_split(X,y,test_size=0.30,\n",
    "                                              random_state=42)"
   ]
  },
  {
   "cell_type": "code",
   "execution_count": 123,
   "metadata": {},
   "outputs": [],
   "source": [
    "from sklearn.tree import DecisionTreeClassifier"
   ]
  },
  {
   "cell_type": "code",
   "execution_count": 124,
   "metadata": {},
   "outputs": [],
   "source": [
    "cart= DecisionTreeClassifier()\n",
    "cart_model=cart.fit(X_train,y_train)"
   ]
  },
  {
   "cell_type": "code",
   "execution_count": 85,
   "metadata": {},
   "outputs": [
    {
     "data": {
      "text/plain": [
       "DecisionTreeClassifier(class_weight=None, criterion='gini', max_depth=None,\n",
       "                       max_features=None, max_leaf_nodes=None,\n",
       "                       min_impurity_decrease=0.0, min_impurity_split=None,\n",
       "                       min_samples_leaf=1, min_samples_split=2,\n",
       "                       min_weight_fraction_leaf=0.0, presort=False,\n",
       "                       random_state=None, splitter='best')"
      ]
     },
     "execution_count": 85,
     "metadata": {},
     "output_type": "execute_result"
    }
   ],
   "source": [
    "cart_model"
   ]
  },
  {
   "cell_type": "code",
   "execution_count": 86,
   "metadata": {},
   "outputs": [],
   "source": [
    "#!pip install skompiler"
   ]
  },
  {
   "cell_type": "code",
   "execution_count": 87,
   "metadata": {},
   "outputs": [],
   "source": [
    "from skompiler import skompile"
   ]
  },
  {
   "cell_type": "code",
   "execution_count": 88,
   "metadata": {
    "collapsed": true,
    "jupyter": {
     "outputs_hidden": true
    }
   },
   "outputs": [
    {
     "name": "stdout",
     "output_type": "stream",
     "text": [
      "((((((0 if x[6] <= 0.671999990940094 else 1 if x[6] <= 0.6974999904632568 else\n",
      "    0) if x[5] <= 31.40000057220459 else ((0 if x[3] <= 40.5 else 1) if x[1\n",
      "    ] <= 111.5 else ((1 if x[1] <= 123.0 else 0) if x[5] <= \n",
      "    37.39999961853027 else 0) if x[2] <= 72.0 else 1) if x[4] <= 9.0 else (\n",
      "    0 if x[6] <= 0.6395000219345093 else 1 if x[6] <= 0.6759999990463257 else\n",
      "    0) if x[0] <= 4.5 else 1 if x[2] <= 67.0 else 0) if x[5] <= \n",
      "    49.10000038146973 else 1) if x[1] <= 127.5 else 1 if x[2] <= 56.0 else \n",
      "    (0 if x[7] <= 27.5 else 1 if x[1] <= 138.0 else 0) if x[5] <= \n",
      "    30.300000190734863 else 1 if x[5] <= 32.000000953674316 else ((0 if x[5\n",
      "    ] <= 33.75 else 1) if x[0] <= 0.5 else 1 if x[5] <= 32.45000076293945 else\n",
      "    0) if x[2] <= 85.0 else 1) if x[7] <= 28.5 else (1 if x[7] <= 29.5 else\n",
      "    (0 if x[1] <= 133.0 else (1 if x[2] <= 74.0 else 0) if x[0] <= 4.5 else\n",
      "    0) if x[2] <= 94.0 else 1 if x[5] <= 12.0 else 0) if x[5] <= \n",
      "    26.949999809265137 else (1 if x[1] <= 28.5 else 0 if x[0] <= 9.5 else 0 if\n",
      "    x[3] <= 27.0 else 1 if x[3] <= 36.0 else 0) if x[1] <= 94.5 else ((((0 if\n",
      "    x[6] <= 0.24950000643730164 else 0 if x[2] <= 65.0 else 1) if x[5] <= \n",
      "    28.34999942779541 else 1 if x[5] <= 31.15000057220459 else (1 if x[6] <=\n",
      "    0.29499999433755875 else 0) if x[7] <= 36.5 else (0 if x[0] <= 5.5 else\n",
      "    1) if x[6] <= 0.21000000089406967 else 1 if x[0] <= 9.0 else 0 if x[6] <=\n",
      "    0.26500000059604645 else 1) if x[3] <= 26.5 else ((1 if x[4] <= 41.5 else\n",
      "    1 if x[0] <= 0.5 else 0) if x[2] <= 67.0 else 0 if x[4] <= 155.0 else 0 if\n",
      "    x[7] <= 35.0 else 1) if x[1] <= 127.5 else (1 if x[0] <= 2.5 else 0) if\n",
      "    x[3] <= 31.0 else 1) if x[2] <= 83.0 else ((0 if x[3] <= 39.5 else 1 if\n",
      "    x[1] <= 136.5 else 0) if x[5] <= 41.19999885559082 else 1) if x[4] <= \n",
      "    124.0 else 0 if x[3] <= 19.5 else 1) if x[6] <= 0.527999997138977 else \n",
      "    ((((1 if x[1] <= 106.5 else 0) if x[1] <= 108.5 else 1) if x[1] <= \n",
      "    132.0 else 0) if x[5] <= 29.09999942779541 else 1 if x[6] <= \n",
      "    0.5479999780654907 else 0) if x[5] <= 31.600000381469727 else ((1 if x[\n",
      "    2] <= 87.0 else 1 if x[5] <= 36.64999961853027 else 0) if x[3] <= 54.5 else\n",
      "    0) if x[6] <= 1.1489999890327454 else 1 if x[7] <= 36.0 else 0) if x[1] <=\n",
      "    154.5 else (1 if x[5] <= 25.350000381469727 else 0 if x[6] <= \n",
      "    0.3684999942779541 else (0 if x[1] <= 195.5 else 1) if x[3] <= 16.5 else\n",
      "    1) if x[5] <= 28.700000762939453 else (((((0 if x[2] <= 67.0 else 1) if\n",
      "    x[4] <= 180.0 else 0) if x[4] <= 457.0 else 1) if x[7] <= 30.5 else 1) if\n",
      "    x[6] <= 0.3044999986886978 else (1 if x[1] <= 164.5 else 0) if x[1] <= \n",
      "    165.5 else 1) if x[6] <= 1.4275000095367432 else 1 if x[7] <= 28.0 else 0)\n",
      "\n"
     ]
    }
   ],
   "source": [
    "print(skompile(cart_model.predict).to(\"python/code\"))"
   ]
  },
  {
   "cell_type": "code",
   "execution_count": 61,
   "metadata": {},
   "outputs": [],
   "source": [
    "x=[3]# kullanıcı 3 hamilelik gecirdiginde "
   ]
  },
  {
   "cell_type": "code",
   "execution_count": 62,
   "metadata": {},
   "outputs": [
    {
     "data": {
      "text/plain": [
       "0"
      ]
     },
     "execution_count": 62,
     "metadata": {},
     "output_type": "execute_result"
    }
   ],
   "source": [
    "((0 if x[0] <= 2.5 else 0) if x[0] <= 6.5 else 1 if x[0] <= 13.5 else 1)"
   ]
  },
  {
   "cell_type": "code",
   "execution_count": 63,
   "metadata": {},
   "outputs": [],
   "source": [
    "# sınıf tahmin olarak ;x e 3 verdigimzde 0 degeri cıktı.\n",
    "# yani 3 hamilelik geçirmesi ile seker hatsaı olması sınıf durumu 0 olarak cıktı."
   ]
  },
  {
   "cell_type": "code",
   "execution_count": 64,
   "metadata": {},
   "outputs": [
    {
     "data": {
      "text/plain": [
       "1"
      ]
     },
     "execution_count": 64,
     "metadata": {},
     "output_type": "execute_result"
    }
   ],
   "source": [
    "x=[9]#v 9 hamilelik gecirmis olsun\n",
    "((0 if x[0] <= 2.5 else 0) if x[0] <= 6.5 else 1 if x[0] <= 13.5 else 1)"
   ]
  },
  {
   "cell_type": "code",
   "execution_count": null,
   "metadata": {},
   "outputs": [],
   "source": [
    "# sınıf sonucu 1 olarak cktı."
   ]
  },
  {
   "cell_type": "code",
   "execution_count": 90,
   "metadata": {},
   "outputs": [
    {
     "data": {
      "text/plain": [
       "0.7056277056277056"
      ]
     },
     "execution_count": 90,
     "metadata": {},
     "output_type": "execute_result"
    }
   ],
   "source": [
    "y_pred=cart_model.predict(X_test)\n",
    "accuracy_score(y_test,y_pred)"
   ]
  },
  {
   "cell_type": "markdown",
   "metadata": {},
   "source": [
    "# Classification and Regression  - MODEL TUNİNG"
   ]
  },
  {
   "cell_type": "code",
   "execution_count": 91,
   "metadata": {},
   "outputs": [
    {
     "data": {
      "text/plain": [
       "DecisionTreeClassifier(class_weight=None, criterion='gini', max_depth=None,\n",
       "                       max_features=None, max_leaf_nodes=None,\n",
       "                       min_impurity_decrease=0.0, min_impurity_split=None,\n",
       "                       min_samples_leaf=1, min_samples_split=2,\n",
       "                       min_weight_fraction_leaf=0.0, presort=False,\n",
       "                       random_state=None, splitter='best')"
      ]
     },
     "execution_count": 91,
     "metadata": {},
     "output_type": "execute_result"
    }
   ],
   "source": [
    "cart_model"
   ]
  },
  {
   "cell_type": "code",
   "execution_count": 92,
   "metadata": {
    "collapsed": true,
    "jupyter": {
     "outputs_hidden": true
    }
   },
   "outputs": [
    {
     "data": {
      "text/plain": [
       "\u001b[1;31mType:\u001b[0m        DecisionTreeClassifier\n",
       "\u001b[1;31mString form:\u001b[0m\n",
       "DecisionTreeClassifier(class_weight=None, criterion='gini', max_depth=None,\n",
       "           <...> ight_fraction_leaf=0.0, presort=False,\n",
       "           random_state=None, splitter='best')\n",
       "\u001b[1;31mFile:\u001b[0m        c:\\users\\aayse\\appdata\\local\\continuum\\anaconda3\\lib\\site-packages\\sklearn\\tree\\tree.py\n",
       "\u001b[1;31mDocstring:\u001b[0m  \n",
       "A decision tree classifier.\n",
       "\n",
       "Read more in the :ref:`User Guide <tree>`.\n",
       "\n",
       "Parameters\n",
       "----------\n",
       "criterion : string, optional (default=\"gini\")\n",
       "    The function to measure the quality of a split. Supported criteria are\n",
       "    \"gini\" for the Gini impurity and \"entropy\" for the information gain.\n",
       "\n",
       "splitter : string, optional (default=\"best\")\n",
       "    The strategy used to choose the split at each node. Supported\n",
       "    strategies are \"best\" to choose the best split and \"random\" to choose\n",
       "    the best random split.\n",
       "\n",
       "max_depth : int or None, optional (default=None)\n",
       "    The maximum depth of the tree. If None, then nodes are expanded until\n",
       "    all leaves are pure or until all leaves contain less than\n",
       "    min_samples_split samples.\n",
       "\n",
       "min_samples_split : int, float, optional (default=2)\n",
       "    The minimum number of samples required to split an internal node:\n",
       "\n",
       "    - If int, then consider `min_samples_split` as the minimum number.\n",
       "    - If float, then `min_samples_split` is a fraction and\n",
       "      `ceil(min_samples_split * n_samples)` are the minimum\n",
       "      number of samples for each split.\n",
       "\n",
       "    .. versionchanged:: 0.18\n",
       "       Added float values for fractions.\n",
       "\n",
       "min_samples_leaf : int, float, optional (default=1)\n",
       "    The minimum number of samples required to be at a leaf node.\n",
       "    A split point at any depth will only be considered if it leaves at\n",
       "    least ``min_samples_leaf`` training samples in each of the left and\n",
       "    right branches.  This may have the effect of smoothing the model,\n",
       "    especially in regression.\n",
       "\n",
       "    - If int, then consider `min_samples_leaf` as the minimum number.\n",
       "    - If float, then `min_samples_leaf` is a fraction and\n",
       "      `ceil(min_samples_leaf * n_samples)` are the minimum\n",
       "      number of samples for each node.\n",
       "\n",
       "    .. versionchanged:: 0.18\n",
       "       Added float values for fractions.\n",
       "\n",
       "min_weight_fraction_leaf : float, optional (default=0.)\n",
       "    The minimum weighted fraction of the sum total of weights (of all\n",
       "    the input samples) required to be at a leaf node. Samples have\n",
       "    equal weight when sample_weight is not provided.\n",
       "\n",
       "max_features : int, float, string or None, optional (default=None)\n",
       "    The number of features to consider when looking for the best split:\n",
       "\n",
       "        - If int, then consider `max_features` features at each split.\n",
       "        - If float, then `max_features` is a fraction and\n",
       "          `int(max_features * n_features)` features are considered at each\n",
       "          split.\n",
       "        - If \"auto\", then `max_features=sqrt(n_features)`.\n",
       "        - If \"sqrt\", then `max_features=sqrt(n_features)`.\n",
       "        - If \"log2\", then `max_features=log2(n_features)`.\n",
       "        - If None, then `max_features=n_features`.\n",
       "\n",
       "    Note: the search for a split does not stop until at least one\n",
       "    valid partition of the node samples is found, even if it requires to\n",
       "    effectively inspect more than ``max_features`` features.\n",
       "\n",
       "random_state : int, RandomState instance or None, optional (default=None)\n",
       "    If int, random_state is the seed used by the random number generator;\n",
       "    If RandomState instance, random_state is the random number generator;\n",
       "    If None, the random number generator is the RandomState instance used\n",
       "    by `np.random`.\n",
       "\n",
       "max_leaf_nodes : int or None, optional (default=None)\n",
       "    Grow a tree with ``max_leaf_nodes`` in best-first fashion.\n",
       "    Best nodes are defined as relative reduction in impurity.\n",
       "    If None then unlimited number of leaf nodes.\n",
       "\n",
       "min_impurity_decrease : float, optional (default=0.)\n",
       "    A node will be split if this split induces a decrease of the impurity\n",
       "    greater than or equal to this value.\n",
       "\n",
       "    The weighted impurity decrease equation is the following::\n",
       "\n",
       "        N_t / N * (impurity - N_t_R / N_t * right_impurity\n",
       "                            - N_t_L / N_t * left_impurity)\n",
       "\n",
       "    where ``N`` is the total number of samples, ``N_t`` is the number of\n",
       "    samples at the current node, ``N_t_L`` is the number of samples in the\n",
       "    left child, and ``N_t_R`` is the number of samples in the right child.\n",
       "\n",
       "    ``N``, ``N_t``, ``N_t_R`` and ``N_t_L`` all refer to the weighted sum,\n",
       "    if ``sample_weight`` is passed.\n",
       "\n",
       "    .. versionadded:: 0.19\n",
       "\n",
       "min_impurity_split : float, (default=1e-7)\n",
       "    Threshold for early stopping in tree growth. A node will split\n",
       "    if its impurity is above the threshold, otherwise it is a leaf.\n",
       "\n",
       "    .. deprecated:: 0.19\n",
       "       ``min_impurity_split`` has been deprecated in favor of\n",
       "       ``min_impurity_decrease`` in 0.19. The default value of\n",
       "       ``min_impurity_split`` will change from 1e-7 to 0 in 0.23 and it\n",
       "       will be removed in 0.25. Use ``min_impurity_decrease`` instead.\n",
       "\n",
       "class_weight : dict, list of dicts, \"balanced\" or None, default=None\n",
       "    Weights associated with classes in the form ``{class_label: weight}``.\n",
       "    If not given, all classes are supposed to have weight one. For\n",
       "    multi-output problems, a list of dicts can be provided in the same\n",
       "    order as the columns of y.\n",
       "\n",
       "    Note that for multioutput (including multilabel) weights should be\n",
       "    defined for each class of every column in its own dict. For example,\n",
       "    for four-class multilabel classification weights should be\n",
       "    [{0: 1, 1: 1}, {0: 1, 1: 5}, {0: 1, 1: 1}, {0: 1, 1: 1}] instead of\n",
       "    [{1:1}, {2:5}, {3:1}, {4:1}].\n",
       "\n",
       "    The \"balanced\" mode uses the values of y to automatically adjust\n",
       "    weights inversely proportional to class frequencies in the input data\n",
       "    as ``n_samples / (n_classes * np.bincount(y))``\n",
       "\n",
       "    For multi-output, the weights of each column of y will be multiplied.\n",
       "\n",
       "    Note that these weights will be multiplied with sample_weight (passed\n",
       "    through the fit method) if sample_weight is specified.\n",
       "\n",
       "presort : bool, optional (default=False)\n",
       "    Whether to presort the data to speed up the finding of best splits in\n",
       "    fitting. For the default settings of a decision tree on large\n",
       "    datasets, setting this to true may slow down the training process.\n",
       "    When using either a smaller dataset or a restricted depth, this may\n",
       "    speed up the training.\n",
       "\n",
       "Attributes\n",
       "----------\n",
       "classes_ : array of shape = [n_classes] or a list of such arrays\n",
       "    The classes labels (single output problem),\n",
       "    or a list of arrays of class labels (multi-output problem).\n",
       "\n",
       "feature_importances_ : array of shape = [n_features]\n",
       "    The feature importances. The higher, the more important the\n",
       "    feature. The importance of a feature is computed as the (normalized)\n",
       "    total reduction of the criterion brought by that feature.  It is also\n",
       "    known as the Gini importance [4]_.\n",
       "\n",
       "max_features_ : int,\n",
       "    The inferred value of max_features.\n",
       "\n",
       "n_classes_ : int or list\n",
       "    The number of classes (for single output problems),\n",
       "    or a list containing the number of classes for each\n",
       "    output (for multi-output problems).\n",
       "\n",
       "n_features_ : int\n",
       "    The number of features when ``fit`` is performed.\n",
       "\n",
       "n_outputs_ : int\n",
       "    The number of outputs when ``fit`` is performed.\n",
       "\n",
       "tree_ : Tree object\n",
       "    The underlying Tree object. Please refer to\n",
       "    ``help(sklearn.tree._tree.Tree)`` for attributes of Tree object and\n",
       "    :ref:`sphx_glr_auto_examples_tree_plot_unveil_tree_structure.py`\n",
       "    for basic usage of these attributes.\n",
       "\n",
       "Notes\n",
       "-----\n",
       "The default values for the parameters controlling the size of the trees\n",
       "(e.g. ``max_depth``, ``min_samples_leaf``, etc.) lead to fully grown and\n",
       "unpruned trees which can potentially be very large on some data sets. To\n",
       "reduce memory consumption, the complexity and size of the trees should be\n",
       "controlled by setting those parameter values.\n",
       "\n",
       "The features are always randomly permuted at each split. Therefore,\n",
       "the best found split may vary, even with the same training data and\n",
       "``max_features=n_features``, if the improvement of the criterion is\n",
       "identical for several splits enumerated during the search of the best\n",
       "split. To obtain a deterministic behaviour during fitting,\n",
       "``random_state`` has to be fixed.\n",
       "\n",
       "See also\n",
       "--------\n",
       "DecisionTreeRegressor\n",
       "\n",
       "References\n",
       "----------\n",
       "\n",
       ".. [1] https://en.wikipedia.org/wiki/Decision_tree_learning\n",
       "\n",
       ".. [2] L. Breiman, J. Friedman, R. Olshen, and C. Stone, \"Classification\n",
       "       and Regression Trees\", Wadsworth, Belmont, CA, 1984.\n",
       "\n",
       ".. [3] T. Hastie, R. Tibshirani and J. Friedman. \"Elements of Statistical\n",
       "       Learning\", Springer, 2009.\n",
       "\n",
       ".. [4] L. Breiman, and A. Cutler, \"Random Forests\",\n",
       "       https://www.stat.berkeley.edu/~breiman/RandomForests/cc_home.htm\n",
       "\n",
       "Examples\n",
       "--------\n",
       ">>> from sklearn.datasets import load_iris\n",
       ">>> from sklearn.model_selection import cross_val_score\n",
       ">>> from sklearn.tree import DecisionTreeClassifier\n",
       ">>> clf = DecisionTreeClassifier(random_state=0)\n",
       ">>> iris = load_iris()\n",
       ">>> cross_val_score(clf, iris.data, iris.target, cv=10)\n",
       "...                             # doctest: +SKIP\n",
       "...\n",
       "array([ 1.     ,  0.93...,  0.86...,  0.93...,  0.93...,\n",
       "        0.93...,  0.93...,  1.     ,  0.93...,  1.      ])\n"
      ]
     },
     "metadata": {},
     "output_type": "display_data"
    }
   ],
   "source": [
    "?cart_model\n",
    "# min_samples_leaf:en son nodelarda barındırılacak olan eleman sayısını ifade eder.\n",
    "# min_samples_split:olusturulan bir node 'un iiçindeki minimum örnek sayısnı ifade ediyor.\n",
    "\n"
   ]
  },
  {
   "cell_type": "code",
   "execution_count": 125,
   "metadata": {},
   "outputs": [],
   "source": [
    "cart_params={\"max_depth\":list(range(1,10)),\n",
    "            \"min_samples_split\":list(range(2,50))}"
   ]
  },
  {
   "cell_type": "code",
   "execution_count": 95,
   "metadata": {},
   "outputs": [
    {
     "name": "stdout",
     "output_type": "stream",
     "text": [
      "Fitting 10 folds for each of 432 candidates, totalling 4320 fits\n"
     ]
    },
    {
     "name": "stderr",
     "output_type": "stream",
     "text": [
      "[Parallel(n_jobs=-1)]: Using backend LokyBackend with 4 concurrent workers.\n",
      "[Parallel(n_jobs=-1)]: Done  37 tasks      | elapsed:    5.2s\n",
      "[Parallel(n_jobs=-1)]: Done 1682 tasks      | elapsed:   10.2s\n",
      "[Parallel(n_jobs=-1)]: Done 4320 out of 4320 | elapsed:   18.5s finished\n"
     ]
    }
   ],
   "source": [
    "cart=tree.DecisionTreeClassifier()\n",
    "cart_cv=GridSearchCV(cart,cart_params,cv=10,n_jobs=-1,verbose=2)\n",
    "cart_cv_model=cart_cv.fit(X_train,y_train)"
   ]
  },
  {
   "cell_type": "code",
   "execution_count": 96,
   "metadata": {},
   "outputs": [
    {
     "data": {
      "text/plain": [
       "{'max_depth': 5, 'min_samples_split': 19}"
      ]
     },
     "execution_count": 96,
     "metadata": {},
     "output_type": "execute_result"
    }
   ],
   "source": [
    "cart_cv_model.best_params_"
   ]
  },
  {
   "cell_type": "code",
   "execution_count": 126,
   "metadata": {},
   "outputs": [],
   "source": [
    "cart=tree.DecisionTreeClassifier(max_depth=5,\n",
    "                                min_samples_split=19)\n",
    "cart_tuned=cart.fit(X_train,y_train)"
   ]
  },
  {
   "cell_type": "code",
   "execution_count": 127,
   "metadata": {},
   "outputs": [
    {
     "data": {
      "text/plain": [
       "0.7532467532467533"
      ]
     },
     "execution_count": 127,
     "metadata": {},
     "output_type": "execute_result"
    }
   ],
   "source": [
    "y_pred=cart_tuned.predict(X_test)\n",
    "accuracy_score(y_test,y_pred)"
   ]
  },
  {
   "cell_type": "markdown",
   "metadata": {},
   "source": [
    "# Random Forests Sınıflandırma"
   ]
  },
  {
   "cell_type": "markdown",
   "metadata": {},
   "source": [
    "* Temeli birden cok karar agacının ürettiği tahminleri bir araya getirilerek degerlendirilmesine dayanır."
   ]
  },
  {
   "cell_type": "markdown",
   "metadata": {},
   "source": [
    "# Random Forest - MODEL & TAHMİN"
   ]
  },
  {
   "cell_type": "code",
   "execution_count": 128,
   "metadata": {},
   "outputs": [],
   "source": [
    "diabets=pd.read_csv(\"diabets.csv\")\n",
    "df=diabets.copy()\n",
    "df=df.dropna()# eskik gözlemleri cıkarttık\n",
    "df.head()\n",
    "y=df[\"Outcome\"]\n",
    "X=df.drop([\"Outcome\"],axis=1)\n",
    "X_train,X_test,y_train,y_test=train_test_split(X,y,test_size=0.30,\n",
    "                                              random_state=42)"
   ]
  },
  {
   "cell_type": "code",
   "execution_count": 100,
   "metadata": {},
   "outputs": [],
   "source": [
    "from sklearn.ensemble import RandomForestClassifier"
   ]
  },
  {
   "cell_type": "code",
   "execution_count": 129,
   "metadata": {},
   "outputs": [],
   "source": [
    "rf_model=RandomForestClassifier().fit(X_train,y_train)"
   ]
  },
  {
   "cell_type": "code",
   "execution_count": 130,
   "metadata": {},
   "outputs": [
    {
     "data": {
      "text/plain": [
       "RandomForestClassifier(bootstrap=True, class_weight=None, criterion='gini',\n",
       "                       max_depth=None, max_features='auto', max_leaf_nodes=None,\n",
       "                       min_impurity_decrease=0.0, min_impurity_split=None,\n",
       "                       min_samples_leaf=1, min_samples_split=2,\n",
       "                       min_weight_fraction_leaf=0.0, n_estimators=10,\n",
       "                       n_jobs=None, oob_score=False, random_state=None,\n",
       "                       verbose=0, warm_start=False)"
      ]
     },
     "execution_count": 130,
     "metadata": {},
     "output_type": "execute_result"
    }
   ],
   "source": [
    "rf_model"
   ]
  },
  {
   "cell_type": "code",
   "execution_count": 103,
   "metadata": {},
   "outputs": [
    {
     "data": {
      "text/plain": [
       "0.7402597402597403"
      ]
     },
     "execution_count": 103,
     "metadata": {},
     "output_type": "execute_result"
    }
   ],
   "source": [
    "y_pred=rf_model.predict(X_test)\n",
    "accuracy_score(y_test,y_pred)"
   ]
  },
  {
   "cell_type": "markdown",
   "metadata": {},
   "source": [
    "# Random Forest - MODEL TUNİNG "
   ]
  },
  {
   "cell_type": "code",
   "execution_count": 106,
   "metadata": {
    "collapsed": true,
    "jupyter": {
     "outputs_hidden": true
    }
   },
   "outputs": [
    {
     "data": {
      "text/plain": [
       "\u001b[1;31mType:\u001b[0m        RandomForestClassifier\n",
       "\u001b[1;31mString form:\u001b[0m\n",
       "RandomForestClassifier(bootstrap=True, class_weight=None, criterion='gini',\n",
       "           <...> obs=None, oob_score=False, random_state=None,\n",
       "           verbose=0, warm_start=False)\n",
       "\u001b[1;31mLength:\u001b[0m      10\n",
       "\u001b[1;31mFile:\u001b[0m        c:\\users\\aayse\\appdata\\local\\continuum\\anaconda3\\lib\\site-packages\\sklearn\\ensemble\\forest.py\n",
       "\u001b[1;31mDocstring:\u001b[0m  \n",
       "A random forest classifier.\n",
       "\n",
       "A random forest is a meta estimator that fits a number of decision tree\n",
       "classifiers on various sub-samples of the dataset and uses averaging to\n",
       "improve the predictive accuracy and control over-fitting.\n",
       "The sub-sample size is always the same as the original\n",
       "input sample size but the samples are drawn with replacement if\n",
       "`bootstrap=True` (default).\n",
       "\n",
       "Read more in the :ref:`User Guide <forest>`.\n",
       "\n",
       "Parameters\n",
       "----------\n",
       "n_estimators : integer, optional (default=10)\n",
       "    The number of trees in the forest.\n",
       "\n",
       "    .. versionchanged:: 0.20\n",
       "       The default value of ``n_estimators`` will change from 10 in\n",
       "       version 0.20 to 100 in version 0.22.\n",
       "\n",
       "criterion : string, optional (default=\"gini\")\n",
       "    The function to measure the quality of a split. Supported criteria are\n",
       "    \"gini\" for the Gini impurity and \"entropy\" for the information gain.\n",
       "    Note: this parameter is tree-specific.\n",
       "\n",
       "max_depth : integer or None, optional (default=None)\n",
       "    The maximum depth of the tree. If None, then nodes are expanded until\n",
       "    all leaves are pure or until all leaves contain less than\n",
       "    min_samples_split samples.\n",
       "\n",
       "min_samples_split : int, float, optional (default=2)\n",
       "    The minimum number of samples required to split an internal node:\n",
       "\n",
       "    - If int, then consider `min_samples_split` as the minimum number.\n",
       "    - If float, then `min_samples_split` is a fraction and\n",
       "      `ceil(min_samples_split * n_samples)` are the minimum\n",
       "      number of samples for each split.\n",
       "\n",
       "    .. versionchanged:: 0.18\n",
       "       Added float values for fractions.\n",
       "\n",
       "min_samples_leaf : int, float, optional (default=1)\n",
       "    The minimum number of samples required to be at a leaf node.\n",
       "    A split point at any depth will only be considered if it leaves at\n",
       "    least ``min_samples_leaf`` training samples in each of the left and\n",
       "    right branches.  This may have the effect of smoothing the model,\n",
       "    especially in regression.\n",
       "\n",
       "    - If int, then consider `min_samples_leaf` as the minimum number.\n",
       "    - If float, then `min_samples_leaf` is a fraction and\n",
       "      `ceil(min_samples_leaf * n_samples)` are the minimum\n",
       "      number of samples for each node.\n",
       "\n",
       "    .. versionchanged:: 0.18\n",
       "       Added float values for fractions.\n",
       "\n",
       "min_weight_fraction_leaf : float, optional (default=0.)\n",
       "    The minimum weighted fraction of the sum total of weights (of all\n",
       "    the input samples) required to be at a leaf node. Samples have\n",
       "    equal weight when sample_weight is not provided.\n",
       "\n",
       "max_features : int, float, string or None, optional (default=\"auto\")\n",
       "    The number of features to consider when looking for the best split:\n",
       "\n",
       "    - If int, then consider `max_features` features at each split.\n",
       "    - If float, then `max_features` is a fraction and\n",
       "      `int(max_features * n_features)` features are considered at each\n",
       "      split.\n",
       "    - If \"auto\", then `max_features=sqrt(n_features)`.\n",
       "    - If \"sqrt\", then `max_features=sqrt(n_features)` (same as \"auto\").\n",
       "    - If \"log2\", then `max_features=log2(n_features)`.\n",
       "    - If None, then `max_features=n_features`.\n",
       "\n",
       "    Note: the search for a split does not stop until at least one\n",
       "    valid partition of the node samples is found, even if it requires to\n",
       "    effectively inspect more than ``max_features`` features.\n",
       "\n",
       "max_leaf_nodes : int or None, optional (default=None)\n",
       "    Grow trees with ``max_leaf_nodes`` in best-first fashion.\n",
       "    Best nodes are defined as relative reduction in impurity.\n",
       "    If None then unlimited number of leaf nodes.\n",
       "\n",
       "min_impurity_decrease : float, optional (default=0.)\n",
       "    A node will be split if this split induces a decrease of the impurity\n",
       "    greater than or equal to this value.\n",
       "\n",
       "    The weighted impurity decrease equation is the following::\n",
       "\n",
       "        N_t / N * (impurity - N_t_R / N_t * right_impurity\n",
       "                            - N_t_L / N_t * left_impurity)\n",
       "\n",
       "    where ``N`` is the total number of samples, ``N_t`` is the number of\n",
       "    samples at the current node, ``N_t_L`` is the number of samples in the\n",
       "    left child, and ``N_t_R`` is the number of samples in the right child.\n",
       "\n",
       "    ``N``, ``N_t``, ``N_t_R`` and ``N_t_L`` all refer to the weighted sum,\n",
       "    if ``sample_weight`` is passed.\n",
       "\n",
       "    .. versionadded:: 0.19\n",
       "\n",
       "min_impurity_split : float, (default=1e-7)\n",
       "    Threshold for early stopping in tree growth. A node will split\n",
       "    if its impurity is above the threshold, otherwise it is a leaf.\n",
       "\n",
       "    .. deprecated:: 0.19\n",
       "       ``min_impurity_split`` has been deprecated in favor of\n",
       "       ``min_impurity_decrease`` in 0.19. The default value of\n",
       "       ``min_impurity_split`` will change from 1e-7 to 0 in 0.23 and it\n",
       "       will be removed in 0.25. Use ``min_impurity_decrease`` instead.\n",
       "\n",
       "\n",
       "bootstrap : boolean, optional (default=True)\n",
       "    Whether bootstrap samples are used when building trees. If False, the\n",
       "    whole datset is used to build each tree.\n",
       "\n",
       "oob_score : bool (default=False)\n",
       "    Whether to use out-of-bag samples to estimate\n",
       "    the generalization accuracy.\n",
       "\n",
       "n_jobs : int or None, optional (default=None)\n",
       "    The number of jobs to run in parallel for both `fit` and `predict`.\n",
       "    ``None`` means 1 unless in a :obj:`joblib.parallel_backend` context.\n",
       "    ``-1`` means using all processors. See :term:`Glossary <n_jobs>`\n",
       "    for more details.\n",
       "\n",
       "random_state : int, RandomState instance or None, optional (default=None)\n",
       "    If int, random_state is the seed used by the random number generator;\n",
       "    If RandomState instance, random_state is the random number generator;\n",
       "    If None, the random number generator is the RandomState instance used\n",
       "    by `np.random`.\n",
       "\n",
       "verbose : int, optional (default=0)\n",
       "    Controls the verbosity when fitting and predicting.\n",
       "\n",
       "warm_start : bool, optional (default=False)\n",
       "    When set to ``True``, reuse the solution of the previous call to fit\n",
       "    and add more estimators to the ensemble, otherwise, just fit a whole\n",
       "    new forest. See :term:`the Glossary <warm_start>`.\n",
       "\n",
       "class_weight : dict, list of dicts, \"balanced\", \"balanced_subsample\" or     None, optional (default=None)\n",
       "    Weights associated with classes in the form ``{class_label: weight}``.\n",
       "    If not given, all classes are supposed to have weight one. For\n",
       "    multi-output problems, a list of dicts can be provided in the same\n",
       "    order as the columns of y.\n",
       "\n",
       "    Note that for multioutput (including multilabel) weights should be\n",
       "    defined for each class of every column in its own dict. For example,\n",
       "    for four-class multilabel classification weights should be\n",
       "    [{0: 1, 1: 1}, {0: 1, 1: 5}, {0: 1, 1: 1}, {0: 1, 1: 1}] instead of\n",
       "    [{1:1}, {2:5}, {3:1}, {4:1}].\n",
       "\n",
       "    The \"balanced\" mode uses the values of y to automatically adjust\n",
       "    weights inversely proportional to class frequencies in the input data\n",
       "    as ``n_samples / (n_classes * np.bincount(y))``\n",
       "\n",
       "    The \"balanced_subsample\" mode is the same as \"balanced\" except that\n",
       "    weights are computed based on the bootstrap sample for every tree\n",
       "    grown.\n",
       "\n",
       "    For multi-output, the weights of each column of y will be multiplied.\n",
       "\n",
       "    Note that these weights will be multiplied with sample_weight (passed\n",
       "    through the fit method) if sample_weight is specified.\n",
       "\n",
       "Attributes\n",
       "----------\n",
       "estimators_ : list of DecisionTreeClassifier\n",
       "    The collection of fitted sub-estimators.\n",
       "\n",
       "classes_ : array of shape = [n_classes] or a list of such arrays\n",
       "    The classes labels (single output problem), or a list of arrays of\n",
       "    class labels (multi-output problem).\n",
       "\n",
       "n_classes_ : int or list\n",
       "    The number of classes (single output problem), or a list containing the\n",
       "    number of classes for each output (multi-output problem).\n",
       "\n",
       "n_features_ : int\n",
       "    The number of features when ``fit`` is performed.\n",
       "\n",
       "n_outputs_ : int\n",
       "    The number of outputs when ``fit`` is performed.\n",
       "\n",
       "feature_importances_ : array of shape = [n_features]\n",
       "    The feature importances (the higher, the more important the feature).\n",
       "\n",
       "oob_score_ : float\n",
       "    Score of the training dataset obtained using an out-of-bag estimate.\n",
       "\n",
       "oob_decision_function_ : array of shape = [n_samples, n_classes]\n",
       "    Decision function computed with out-of-bag estimate on the training\n",
       "    set. If n_estimators is small it might be possible that a data point\n",
       "    was never left out during the bootstrap. In this case,\n",
       "    `oob_decision_function_` might contain NaN.\n",
       "\n",
       "Examples\n",
       "--------\n",
       ">>> from sklearn.ensemble import RandomForestClassifier\n",
       ">>> from sklearn.datasets import make_classification\n",
       "\n",
       ">>> X, y = make_classification(n_samples=1000, n_features=4,\n",
       "...                            n_informative=2, n_redundant=0,\n",
       "...                            random_state=0, shuffle=False)\n",
       ">>> clf = RandomForestClassifier(n_estimators=100, max_depth=2,\n",
       "...                              random_state=0)\n",
       ">>> clf.fit(X, y)  # doctest: +NORMALIZE_WHITESPACE\n",
       "RandomForestClassifier(bootstrap=True, class_weight=None, criterion='gini',\n",
       "            max_depth=2, max_features='auto', max_leaf_nodes=None,\n",
       "            min_impurity_decrease=0.0, min_impurity_split=None,\n",
       "            min_samples_leaf=1, min_samples_split=2,\n",
       "            min_weight_fraction_leaf=0.0, n_estimators=100, n_jobs=None,\n",
       "            oob_score=False, random_state=0, verbose=0, warm_start=False)\n",
       ">>> print(clf.feature_importances_)\n",
       "[0.14205973 0.76664038 0.0282433  0.06305659]\n",
       ">>> print(clf.predict([[0, 0, 0, 0]]))\n",
       "[1]\n",
       "\n",
       "Notes\n",
       "-----\n",
       "The default values for the parameters controlling the size of the trees\n",
       "(e.g. ``max_depth``, ``min_samples_leaf``, etc.) lead to fully grown and\n",
       "unpruned trees which can potentially be very large on some data sets. To\n",
       "reduce memory consumption, the complexity and size of the trees should be\n",
       "controlled by setting those parameter values.\n",
       "\n",
       "The features are always randomly permuted at each split. Therefore,\n",
       "the best found split may vary, even with the same training data,\n",
       "``max_features=n_features`` and ``bootstrap=False``, if the improvement\n",
       "of the criterion is identical for several splits enumerated during the\n",
       "search of the best split. To obtain a deterministic behaviour during\n",
       "fitting, ``random_state`` has to be fixed.\n",
       "\n",
       "References\n",
       "----------\n",
       "\n",
       ".. [1] L. Breiman, \"Random Forests\", Machine Learning, 45(1), 5-32, 2001.\n",
       "\n",
       "See also\n",
       "--------\n",
       "DecisionTreeClassifier, ExtraTreesClassifier\n"
      ]
     },
     "metadata": {},
     "output_type": "display_data"
    }
   ],
   "source": [
    "?rf_model\n",
    "# n_estimators: kullanılacak olan agac sayısı(bilmsel çalışmalar da bu degerin 500 yada 1000 olması gerekitigi söyleniliyor)\n",
    "# bu degerler her calısmada aynı sekilde olacak  demek degildir."
   ]
  },
  {
   "cell_type": "code",
   "execution_count": 131,
   "metadata": {},
   "outputs": [],
   "source": [
    "rf_params={\"max_depth\":[2,3,5,8,10],\n",
    "          \"max_features\":[2,5,8],\n",
    "          \"n_estimators\":[10,500,1000],\n",
    "          \"min_samples_split\":[2,5,10]}# göz öünde bulunacak olan degsken sayısı"
   ]
  },
  {
   "cell_type": "code",
   "execution_count": 112,
   "metadata": {},
   "outputs": [],
   "source": [
    "rf_model=RandomForestClassifier()\n",
    "rf_cv_model=GridSearchCV(rf_model,\n",
    "                       rf_params,\n",
    "                       cv=10,\n",
    "                       n_jobs=-1,verbose=2)"
   ]
  },
  {
   "cell_type": "code",
   "execution_count": 113,
   "metadata": {},
   "outputs": [
    {
     "name": "stdout",
     "output_type": "stream",
     "text": [
      "Fitting 10 folds for each of 135 candidates, totalling 1350 fits\n"
     ]
    },
    {
     "name": "stderr",
     "output_type": "stream",
     "text": [
      "[Parallel(n_jobs=-1)]: Using backend LokyBackend with 4 concurrent workers.\n",
      "[Parallel(n_jobs=-1)]: Done  33 tasks      | elapsed:   16.2s\n",
      "[Parallel(n_jobs=-1)]: Done 154 tasks      | elapsed:  1.1min\n",
      "[Parallel(n_jobs=-1)]: Done 357 tasks      | elapsed:  2.6min\n",
      "[Parallel(n_jobs=-1)]: Done 640 tasks      | elapsed:  4.7min\n",
      "[Parallel(n_jobs=-1)]: Done 1005 tasks      | elapsed:  7.7min\n",
      "[Parallel(n_jobs=-1)]: Done 1350 out of 1350 | elapsed: 10.8min finished\n"
     ]
    },
    {
     "data": {
      "text/plain": [
       "GridSearchCV(cv=10, error_score='raise-deprecating',\n",
       "             estimator=RandomForestClassifier(bootstrap=True, class_weight=None,\n",
       "                                              criterion='gini', max_depth=None,\n",
       "                                              max_features='auto',\n",
       "                                              max_leaf_nodes=None,\n",
       "                                              min_impurity_decrease=0.0,\n",
       "                                              min_impurity_split=None,\n",
       "                                              min_samples_leaf=1,\n",
       "                                              min_samples_split=2,\n",
       "                                              min_weight_fraction_leaf=0.0,\n",
       "                                              n_estimators='warn', n_jobs=None,\n",
       "                                              oob_score=False,\n",
       "                                              random_state=None, verbose=0,\n",
       "                                              warm_start=False),\n",
       "             iid='warn', n_jobs=-1,\n",
       "             param_grid={'max_depth': [2, 3, 5, 8, 10],\n",
       "                         'max_features': [2, 5, 8],\n",
       "                         'min_samples_split': [2, 5, 10],\n",
       "                         'n_estimators': [10, 500, 1000]},\n",
       "             pre_dispatch='2*n_jobs', refit=True, return_train_score=False,\n",
       "             scoring=None, verbose=2)"
      ]
     },
     "execution_count": 113,
     "metadata": {},
     "output_type": "execute_result"
    }
   ],
   "source": [
    "rf_cv_model.fit(X_train,y_train)"
   ]
  },
  {
   "cell_type": "code",
   "execution_count": 114,
   "metadata": {},
   "outputs": [
    {
     "data": {
      "text/plain": [
       "{'max_depth': 8,\n",
       " 'max_features': 8,\n",
       " 'min_samples_split': 2,\n",
       " 'n_estimators': 500}"
      ]
     },
     "execution_count": 114,
     "metadata": {},
     "output_type": "execute_result"
    }
   ],
   "source": [
    "rf_cv_model.best_params_"
   ]
  },
  {
   "cell_type": "code",
   "execution_count": 152,
   "metadata": {},
   "outputs": [],
   "source": [
    "rf_tuned=RandomForestClassifier(max_depth= 8,\n",
    " max_features=8,\n",
    " min_samples_split= 2,\n",
    " n_estimators= 500)"
   ]
  },
  {
   "cell_type": "code",
   "execution_count": 153,
   "metadata": {},
   "outputs": [
    {
     "data": {
      "text/plain": [
       "RandomForestClassifier(bootstrap=True, class_weight=None, criterion='gini',\n",
       "                       max_depth=8, max_features=8, max_leaf_nodes=None,\n",
       "                       min_impurity_decrease=0.0, min_impurity_split=None,\n",
       "                       min_samples_leaf=1, min_samples_split=2,\n",
       "                       min_weight_fraction_leaf=0.0, n_estimators=500,\n",
       "                       n_jobs=None, oob_score=False, random_state=None,\n",
       "                       verbose=0, warm_start=False)"
      ]
     },
     "execution_count": 153,
     "metadata": {},
     "output_type": "execute_result"
    }
   ],
   "source": [
    "rf_tuned.fit(X_train,y_train)"
   ]
  },
  {
   "cell_type": "code",
   "execution_count": 154,
   "metadata": {},
   "outputs": [
    {
     "data": {
      "text/plain": [
       "0.7575757575757576"
      ]
     },
     "execution_count": 154,
     "metadata": {},
     "output_type": "execute_result"
    }
   ],
   "source": [
    "y_pred=rf_model.predict(X_test)\n",
    "accuracy_score(y_test,y_pred)"
   ]
  },
  {
   "cell_type": "code",
   "execution_count": 125,
   "metadata": {},
   "outputs": [
    {
     "data": {
      "text/plain": [
       "Text(0.5, 0, 'Degiskenlerin Önem Düzeyleri')"
      ]
     },
     "execution_count": 125,
     "metadata": {},
     "output_type": "execute_result"
    },
    {
     "data": {
      "image/png": "[encoded data removed]",
      "text/plain": [
       "<Figure size 432x288 with 1 Axes>"
      ]
     },
     "metadata": {
      "needs_background": "light"
     },
     "output_type": "display_data"
    }
   ],
   "source": [
    "# degisken önem düzeyi bulma\n",
    "Importance=pd.DataFrame({\"Importance\":rf_tuned.feature_importances_*100},\n",
    "                       index=X_train.columns)\n",
    "Importance.sort_values(by=\"Importance\",\n",
    "                       axis=0,\n",
    "                       ascending=True).plot(kind=\"barh\",\n",
    "                                            color=\"r\")\n",
    "\n",
    "plt.xlabel(\"Degiskenlerin Önem Düzeyleri\")"
   ]
  },
  {
   "cell_type": "markdown",
   "metadata": {},
   "source": [
    "# Gradient Boosting Machines \n",
    "* AdaBoost'un sınıflandırma ve regresyon problemlerine kolayca uyarlanabilen genelleştirilmiş versiyonudur.\n",
    "* Artıklar üzerine tek bir tahminsel model formunda olan modeller serisi kurulur.\n"
   ]
  },
  {
   "cell_type": "markdown",
   "metadata": {},
   "source": [
    "* Boosting Yöntemlerine Giriş\n",
    "    - Zayıf öğrencileri bir araya getirip güçlü bir öğrenci ortaya çıkarmak fikrine dayanır."
   ]
  },
  {
   "cell_type": "markdown",
   "metadata": {},
   "source": [
    "* Adaptive Boosting (AdaBoost)\n",
    "    - Zayıf sınıflandırıcıların bir araya gelerek güçlü bir sınıflandırıcı olusturması fikrini hayata geçiren algoritmadır."
   ]
  },
  {
   "cell_type": "code",
   "execution_count": 1,
   "metadata": {},
   "outputs": [],
   "source": [
    "# GBM bir framework dür."
   ]
  },
  {
   "cell_type": "markdown",
   "metadata": {},
   "source": [
    "* Gradient boosting machines tek bir tahminsel model formunda olan modeller serisi oluşturulur\n",
    "* Seri içeirisindeki bir model serideki bir önceki modelin tahmin artıklarının/hatalarının (residuals) üzerine kurularak (fit) edilir.\n",
    "* GBM diferansiyellenebilen herhangi bir kayıp fonksiyonu optimize edebilen Gradient descent algoritmasını kullanmakta \n",
    "* GB bir çok temel öğrenici tipi(base learner type) kullanılabilir.(trees , linear terms,splines,...)\n",
    "* Cost fonksiyonları ve lin fonksiyonları modifiye edilebilirdir.\n",
    "* Boosting + Gradient Descent"
   ]
  },
  {
   "cell_type": "code",
   "execution_count": 2,
   "metadata": {},
   "outputs": [],
   "source": [
    "# Bagging birbirinden bagımsız agaclar olusturur.\n",
    "# Random Forest temelini bunun üzerine oturtmustur.# Burada modeller birbirinden 7\n",
    "# bagımsızdır.\n",
    "\n",
    "# Boosting tek bir tahminsel model ile olusuturlan modeller serisi\n",
    "# olusturuluyor.Ve bu modeller birbirine bagımlıdır."
   ]
  },
  {
   "cell_type": "markdown",
   "metadata": {},
   "source": [
    "# Gradient Boosting Machines - MODEL & TAHMİN"
   ]
  },
  {
   "cell_type": "code",
   "execution_count": 133,
   "metadata": {},
   "outputs": [],
   "source": [
    "diabets=pd.read_csv(\"diabets.csv\")\n",
    "df=diabets.copy()\n",
    "df=df.dropna()# eskik gözlemleri cıkarttık\n",
    "df.head()\n",
    "y=df[\"Outcome\"]\n",
    "X=df.drop([\"Outcome\"],axis=1)\n",
    "X_train,X_test,y_train,y_test=train_test_split(X,y,test_size=0.30,\n",
    "                                              random_state=42)"
   ]
  },
  {
   "cell_type": "code",
   "execution_count": 134,
   "metadata": {},
   "outputs": [],
   "source": [
    "from sklearn.ensemble import GradientBoostingClassifier"
   ]
  },
  {
   "cell_type": "code",
   "execution_count": 135,
   "metadata": {},
   "outputs": [],
   "source": [
    "gbm_model=GradientBoostingClassifier().fit(X_train,y_train)"
   ]
  },
  {
   "cell_type": "code",
   "execution_count": 136,
   "metadata": {},
   "outputs": [
    {
     "data": {
      "text/plain": [
       "0.7445887445887446"
      ]
     },
     "execution_count": 136,
     "metadata": {},
     "output_type": "execute_result"
    }
   ],
   "source": [
    "y_pred=gbm_model.predict(X_test)\n",
    "accuracy_score(y_test,y_pred)"
   ]
  },
  {
   "cell_type": "markdown",
   "metadata": {},
   "source": [
    "# Gradient Boosting Machines - MODEL TUNİNG"
   ]
  },
  {
   "cell_type": "code",
   "execution_count": 9,
   "metadata": {},
   "outputs": [
    {
     "data": {
      "text/plain": [
       "GradientBoostingClassifier(criterion='friedman_mse', init=None,\n",
       "                           learning_rate=0.1, loss='deviance', max_depth=3,\n",
       "                           max_features=None, max_leaf_nodes=None,\n",
       "                           min_impurity_decrease=0.0, min_impurity_split=None,\n",
       "                           min_samples_leaf=1, min_samples_split=2,\n",
       "                           min_weight_fraction_leaf=0.0, n_estimators=100,\n",
       "                           n_iter_no_change=None, presort='auto',\n",
       "                           random_state=None, subsample=1.0, tol=0.0001,\n",
       "                           validation_fraction=0.1, verbose=0,\n",
       "                           warm_start=False)"
      ]
     },
     "execution_count": 9,
     "metadata": {},
     "output_type": "execute_result"
    }
   ],
   "source": [
    "gbm_model"
   ]
  },
  {
   "cell_type": "code",
   "execution_count": 10,
   "metadata": {
    "collapsed": true,
    "jupyter": {
     "outputs_hidden": true
    }
   },
   "outputs": [
    {
     "data": {
      "text/plain": [
       "\u001b[1;31mType:\u001b[0m        GradientBoostingClassifier\n",
       "\u001b[1;31mString form:\u001b[0m\n",
       "GradientBoostingClassifier(criterion='friedman_mse', init=None,\n",
       "           learni <...>                  validation_fraction=0.1, verbose=0,\n",
       "           warm_start=False)\n",
       "\u001b[1;31mLength:\u001b[0m      100\n",
       "\u001b[1;31mFile:\u001b[0m        c:\\users\\aayse\\appdata\\local\\continuum\\anaconda3\\lib\\site-packages\\sklearn\\ensemble\\gradient_boosting.py\n",
       "\u001b[1;31mDocstring:\u001b[0m  \n",
       "Gradient Boosting for classification.\n",
       "\n",
       "GB builds an additive model in a\n",
       "forward stage-wise fashion; it allows for the optimization of\n",
       "arbitrary differentiable loss functions. In each stage ``n_classes_``\n",
       "regression trees are fit on the negative gradient of the\n",
       "binomial or multinomial deviance loss function. Binary classification\n",
       "is a special case where only a single regression tree is induced.\n",
       "\n",
       "Read more in the :ref:`User Guide <gradient_boosting>`.\n",
       "\n",
       "Parameters\n",
       "----------\n",
       "loss : {'deviance', 'exponential'}, optional (default='deviance')\n",
       "    loss function to be optimized. 'deviance' refers to\n",
       "    deviance (= logistic regression) for classification\n",
       "    with probabilistic outputs. For loss 'exponential' gradient\n",
       "    boosting recovers the AdaBoost algorithm.\n",
       "\n",
       "learning_rate : float, optional (default=0.1)\n",
       "    learning rate shrinks the contribution of each tree by `learning_rate`.\n",
       "    There is a trade-off between learning_rate and n_estimators.\n",
       "\n",
       "n_estimators : int (default=100)\n",
       "    The number of boosting stages to perform. Gradient boosting\n",
       "    is fairly robust to over-fitting so a large number usually\n",
       "    results in better performance.\n",
       "\n",
       "subsample : float, optional (default=1.0)\n",
       "    The fraction of samples to be used for fitting the individual base\n",
       "    learners. If smaller than 1.0 this results in Stochastic Gradient\n",
       "    Boosting. `subsample` interacts with the parameter `n_estimators`.\n",
       "    Choosing `subsample < 1.0` leads to a reduction of variance\n",
       "    and an increase in bias.\n",
       "\n",
       "criterion : string, optional (default=\"friedman_mse\")\n",
       "    The function to measure the quality of a split. Supported criteria\n",
       "    are \"friedman_mse\" for the mean squared error with improvement\n",
       "    score by Friedman, \"mse\" for mean squared error, and \"mae\" for\n",
       "    the mean absolute error. The default value of \"friedman_mse\" is\n",
       "    generally the best as it can provide a better approximation in\n",
       "    some cases.\n",
       "\n",
       "    .. versionadded:: 0.18\n",
       "\n",
       "min_samples_split : int, float, optional (default=2)\n",
       "    The minimum number of samples required to split an internal node:\n",
       "\n",
       "    - If int, then consider `min_samples_split` as the minimum number.\n",
       "    - If float, then `min_samples_split` is a fraction and\n",
       "      `ceil(min_samples_split * n_samples)` are the minimum\n",
       "      number of samples for each split.\n",
       "\n",
       "    .. versionchanged:: 0.18\n",
       "       Added float values for fractions.\n",
       "\n",
       "min_samples_leaf : int, float, optional (default=1)\n",
       "    The minimum number of samples required to be at a leaf node.\n",
       "    A split point at any depth will only be considered if it leaves at\n",
       "    least ``min_samples_leaf`` training samples in each of the left and\n",
       "    right branches.  This may have the effect of smoothing the model,\n",
       "    especially in regression.\n",
       "\n",
       "    - If int, then consider `min_samples_leaf` as the minimum number.\n",
       "    - If float, then `min_samples_leaf` is a fraction and\n",
       "      `ceil(min_samples_leaf * n_samples)` are the minimum\n",
       "      number of samples for each node.\n",
       "\n",
       "    .. versionchanged:: 0.18\n",
       "       Added float values for fractions.\n",
       "\n",
       "min_weight_fraction_leaf : float, optional (default=0.)\n",
       "    The minimum weighted fraction of the sum total of weights (of all\n",
       "    the input samples) required to be at a leaf node. Samples have\n",
       "    equal weight when sample_weight is not provided.\n",
       "\n",
       "max_depth : integer, optional (default=3)\n",
       "    maximum depth of the individual regression estimators. The maximum\n",
       "    depth limits the number of nodes in the tree. Tune this parameter\n",
       "    for best performance; the best value depends on the interaction\n",
       "    of the input variables.\n",
       "\n",
       "min_impurity_decrease : float, optional (default=0.)\n",
       "    A node will be split if this split induces a decrease of the impurity\n",
       "    greater than or equal to this value.\n",
       "\n",
       "    The weighted impurity decrease equation is the following::\n",
       "\n",
       "        N_t / N * (impurity - N_t_R / N_t * right_impurity\n",
       "                            - N_t_L / N_t * left_impurity)\n",
       "\n",
       "    where ``N`` is the total number of samples, ``N_t`` is the number of\n",
       "    samples at the current node, ``N_t_L`` is the number of samples in the\n",
       "    left child, and ``N_t_R`` is the number of samples in the right child.\n",
       "\n",
       "    ``N``, ``N_t``, ``N_t_R`` and ``N_t_L`` all refer to the weighted sum,\n",
       "    if ``sample_weight`` is passed.\n",
       "\n",
       "    .. versionadded:: 0.19\n",
       "\n",
       "min_impurity_split : float, (default=1e-7)\n",
       "    Threshold for early stopping in tree growth. A node will split\n",
       "    if its impurity is above the threshold, otherwise it is a leaf.\n",
       "\n",
       "    .. deprecated:: 0.19\n",
       "       ``min_impurity_split`` has been deprecated in favor of\n",
       "       ``min_impurity_decrease`` in 0.19. The default value of\n",
       "       ``min_impurity_split`` will change from 1e-7 to 0 in 0.23 and it\n",
       "       will be removed in 0.25. Use ``min_impurity_decrease`` instead.\n",
       "\n",
       "init : estimator or 'zero', optional (default=None)\n",
       "    An estimator object that is used to compute the initial predictions.\n",
       "    ``init`` has to provide `fit` and `predict_proba`. If 'zero', the\n",
       "    initial raw predictions are set to zero. By default, a\n",
       "    ``DummyEstimator`` predicting the classes priors is used.\n",
       "\n",
       "random_state : int, RandomState instance or None, optional (default=None)\n",
       "    If int, random_state is the seed used by the random number generator;\n",
       "    If RandomState instance, random_state is the random number generator;\n",
       "    If None, the random number generator is the RandomState instance used\n",
       "    by `np.random`.\n",
       "\n",
       "max_features : int, float, string or None, optional (default=None)\n",
       "    The number of features to consider when looking for the best split:\n",
       "\n",
       "    - If int, then consider `max_features` features at each split.\n",
       "    - If float, then `max_features` is a fraction and\n",
       "      `int(max_features * n_features)` features are considered at each\n",
       "      split.\n",
       "    - If \"auto\", then `max_features=sqrt(n_features)`.\n",
       "    - If \"sqrt\", then `max_features=sqrt(n_features)`.\n",
       "    - If \"log2\", then `max_features=log2(n_features)`.\n",
       "    - If None, then `max_features=n_features`.\n",
       "\n",
       "    Choosing `max_features < n_features` leads to a reduction of variance\n",
       "    and an increase in bias.\n",
       "\n",
       "    Note: the search for a split does not stop until at least one\n",
       "    valid partition of the node samples is found, even if it requires to\n",
       "    effectively inspect more than ``max_features`` features.\n",
       "\n",
       "verbose : int, default: 0\n",
       "    Enable verbose output. If 1 then it prints progress and performance\n",
       "    once in a while (the more trees the lower the frequency). If greater\n",
       "    than 1 then it prints progress and performance for every tree.\n",
       "\n",
       "max_leaf_nodes : int or None, optional (default=None)\n",
       "    Grow trees with ``max_leaf_nodes`` in best-first fashion.\n",
       "    Best nodes are defined as relative reduction in impurity.\n",
       "    If None then unlimited number of leaf nodes.\n",
       "\n",
       "warm_start : bool, default: False\n",
       "    When set to ``True``, reuse the solution of the previous call to fit\n",
       "    and add more estimators to the ensemble, otherwise, just erase the\n",
       "    previous solution. See :term:`the Glossary <warm_start>`.\n",
       "\n",
       "presort : bool or 'auto', optional (default='auto')\n",
       "    Whether to presort the data to speed up the finding of best splits in\n",
       "    fitting. Auto mode by default will use presorting on dense data and\n",
       "    default to normal sorting on sparse data. Setting presort to true on\n",
       "    sparse data will raise an error.\n",
       "\n",
       "    .. versionadded:: 0.17\n",
       "       *presort* parameter.\n",
       "\n",
       "validation_fraction : float, optional, default 0.1\n",
       "    The proportion of training data to set aside as validation set for\n",
       "    early stopping. Must be between 0 and 1.\n",
       "    Only used if ``n_iter_no_change`` is set to an integer.\n",
       "\n",
       "    .. versionadded:: 0.20\n",
       "\n",
       "n_iter_no_change : int, default None\n",
       "    ``n_iter_no_change`` is used to decide if early stopping will be used\n",
       "    to terminate training when validation score is not improving. By\n",
       "    default it is set to None to disable early stopping. If set to a\n",
       "    number, it will set aside ``validation_fraction`` size of the training\n",
       "    data as validation and terminate training when validation score is not\n",
       "    improving in all of the previous ``n_iter_no_change`` numbers of\n",
       "    iterations. The split is stratified.\n",
       "\n",
       "    .. versionadded:: 0.20\n",
       "\n",
       "tol : float, optional, default 1e-4\n",
       "    Tolerance for the early stopping. When the loss is not improving\n",
       "    by at least tol for ``n_iter_no_change`` iterations (if set to a\n",
       "    number), the training stops.\n",
       "\n",
       "    .. versionadded:: 0.20\n",
       "\n",
       "Attributes\n",
       "----------\n",
       "n_estimators_ : int\n",
       "    The number of estimators as selected by early stopping (if\n",
       "    ``n_iter_no_change`` is specified). Otherwise it is set to\n",
       "    ``n_estimators``.\n",
       "\n",
       "    .. versionadded:: 0.20\n",
       "\n",
       "feature_importances_ : array, shape (n_features,)\n",
       "    The feature importances (the higher, the more important the feature).\n",
       "\n",
       "oob_improvement_ : array, shape (n_estimators,)\n",
       "    The improvement in loss (= deviance) on the out-of-bag samples\n",
       "    relative to the previous iteration.\n",
       "    ``oob_improvement_[0]`` is the improvement in\n",
       "    loss of the first stage over the ``init`` estimator.\n",
       "\n",
       "train_score_ : array, shape (n_estimators,)\n",
       "    The i-th score ``train_score_[i]`` is the deviance (= loss) of the\n",
       "    model at iteration ``i`` on the in-bag sample.\n",
       "    If ``subsample == 1`` this is the deviance on the training data.\n",
       "\n",
       "loss_ : LossFunction\n",
       "    The concrete ``LossFunction`` object.\n",
       "\n",
       "init_ : estimator\n",
       "    The estimator that provides the initial predictions.\n",
       "    Set via the ``init`` argument or ``loss.init_estimator``.\n",
       "\n",
       "estimators_ : ndarray of DecisionTreeRegressor,shape (n_estimators, ``loss_.K``)\n",
       "    The collection of fitted sub-estimators. ``loss_.K`` is 1 for binary\n",
       "    classification, otherwise n_classes.\n",
       "\n",
       "Notes\n",
       "-----\n",
       "The features are always randomly permuted at each split. Therefore,\n",
       "the best found split may vary, even with the same training data and\n",
       "``max_features=n_features``, if the improvement of the criterion is\n",
       "identical for several splits enumerated during the search of the best\n",
       "split. To obtain a deterministic behaviour during fitting,\n",
       "``random_state`` has to be fixed.\n",
       "\n",
       "See also\n",
       "--------\n",
       "sklearn.ensemble.HistGradientBoostingClassifier,\n",
       "sklearn.tree.DecisionTreeClassifier, RandomForestClassifier\n",
       "AdaBoostClassifier\n",
       "\n",
       "References\n",
       "----------\n",
       "J. Friedman, Greedy Function Approximation: A Gradient Boosting\n",
       "Machine, The Annals of Statistics, Vol. 29, No. 5, 2001.\n",
       "\n",
       "J. Friedman, Stochastic Gradient Boosting, 1999\n",
       "\n",
       "T. Hastie, R. Tibshirani and J. Friedman.\n",
       "Elements of Statistical Learning Ed. 2, Springer, 2009.\n"
      ]
     },
     "metadata": {},
     "output_type": "display_data"
    }
   ],
   "source": [
    "?gbm_model"
   ]
  },
  {
   "cell_type": "code",
   "execution_count": 11,
   "metadata": {},
   "outputs": [],
   "source": [
    "# min_samples_leaf:leaf node a bırakılacak olan örnek sayısı"
   ]
  },
  {
   "cell_type": "code",
   "execution_count": 140,
   "metadata": {},
   "outputs": [],
   "source": [
    "gbm_params={\"learning_rate\":[0.001,0.01,0.1,0.05],\n",
    "           \"n_estimators\":[100,500,1000],\n",
    "           \"max_depth\":[3,5,10],\n",
    "           \"min_samples_split\":[2,5,10]}"
   ]
  },
  {
   "cell_type": "code",
   "execution_count": 141,
   "metadata": {},
   "outputs": [],
   "source": [
    "gbm=GradientBoostingClassifier()"
   ]
  },
  {
   "cell_type": "code",
   "execution_count": 142,
   "metadata": {},
   "outputs": [],
   "source": [
    "gbm_cv=GridSearchCV(gbm,gbm_params,cv=10,n_jobs=-1,verbose=2)"
   ]
  },
  {
   "cell_type": "code",
   "execution_count": 143,
   "metadata": {},
   "outputs": [
    {
     "name": "stdout",
     "output_type": "stream",
     "text": [
      "Fitting 10 folds for each of 108 candidates, totalling 1080 fits\n"
     ]
    },
    {
     "name": "stderr",
     "output_type": "stream",
     "text": [
      "[Parallel(n_jobs=-1)]: Using backend LokyBackend with 4 concurrent workers.\n",
      "[Parallel(n_jobs=-1)]: Done  33 tasks      | elapsed:   14.6s\n",
      "[Parallel(n_jobs=-1)]: Done 154 tasks      | elapsed:  1.2min\n",
      "[Parallel(n_jobs=-1)]: Done 357 tasks      | elapsed:  4.4min\n",
      "[Parallel(n_jobs=-1)]: Done 640 tasks      | elapsed:  8.3min\n",
      "[Parallel(n_jobs=-1)]: Done 1005 tasks      | elapsed: 10.9min\n",
      "[Parallel(n_jobs=-1)]: Done 1080 out of 1080 | elapsed: 11.7min finished\n"
     ]
    },
    {
     "data": {
      "text/plain": [
       "GridSearchCV(cv=10, error_score='raise-deprecating',\n",
       "             estimator=GradientBoostingClassifier(criterion='friedman_mse',\n",
       "                                                  init=None, learning_rate=0.1,\n",
       "                                                  loss='deviance', max_depth=3,\n",
       "                                                  max_features=None,\n",
       "                                                  max_leaf_nodes=None,\n",
       "                                                  min_impurity_decrease=0.0,\n",
       "                                                  min_impurity_split=None,\n",
       "                                                  min_samples_leaf=1,\n",
       "                                                  min_samples_split=2,\n",
       "                                                  min_weight_fraction_leaf=0.0,\n",
       "                                                  n_estimators=100,\n",
       "                                                  n_iter_n...None,\n",
       "                                                  presort='auto',\n",
       "                                                  random_state=None,\n",
       "                                                  subsample=1.0, tol=0.0001,\n",
       "                                                  validation_fraction=0.1,\n",
       "                                                  verbose=0, warm_start=False),\n",
       "             iid='warn', n_jobs=-1,\n",
       "             param_grid={'learning_rate': [0.001, 0.01, 0.1, 0.05],\n",
       "                         'max_depth': [3, 5, 10],\n",
       "                         'min_samples_split': [2, 5, 10],\n",
       "                         'n_estimators': [100, 500, 1000]},\n",
       "             pre_dispatch='2*n_jobs', refit=True, return_train_score=False,\n",
       "             scoring=None, verbose=2)"
      ]
     },
     "execution_count": 143,
     "metadata": {},
     "output_type": "execute_result"
    }
   ],
   "source": [
    "gbm_cv.fit(X_train,y_train)"
   ]
  },
  {
   "cell_type": "code",
   "execution_count": 144,
   "metadata": {},
   "outputs": [
    {
     "data": {
      "text/plain": [
       "{'learning_rate': 0.01,\n",
       " 'max_depth': 3,\n",
       " 'min_samples_split': 5,\n",
       " 'n_estimators': 500}"
      ]
     },
     "execution_count": 144,
     "metadata": {},
     "output_type": "execute_result"
    }
   ],
   "source": [
    "gbm_cv.best_params_\n"
   ]
  },
  {
   "cell_type": "code",
   "execution_count": 145,
   "metadata": {},
   "outputs": [],
   "source": [
    "gbm=GradientBoostingClassifier(learning_rate=0.01,\n",
    "                                    max_depth=3,\n",
    "                                    min_samples_split=5,\n",
    "                                    n_estimators=500)"
   ]
  },
  {
   "cell_type": "code",
   "execution_count": 146,
   "metadata": {},
   "outputs": [
    {
     "data": {
      "text/plain": [
       "0.7489177489177489"
      ]
     },
     "execution_count": 146,
     "metadata": {},
     "output_type": "execute_result"
    }
   ],
   "source": [
    "gbm_tuned=gbm.fit(X_train,y_train)\n",
    "y_pred=gbm_tuned.predict(X_test)\n",
    "accuracy_score(y_test,y_pred)"
   ]
  },
  {
   "cell_type": "markdown",
   "metadata": {},
   "source": [
    "# eXtreme Gradient Boosting(XGBoost)\n",
    "* XGBoost , GBM'in hız ve tahmin performansını artırmak üzere optimize edilmis ; ölçeklenebilir ve farklı platformlara entegre edilebilir halidir.(Tianqi Chen 2014)"
   ]
  },
  {
   "cell_type": "markdown",
   "metadata": {},
   "source": [
    "* XGBoost \n",
    "    - R,Python,Hadoop,Scala,Julia ile kullanılabilir\n",
    "    - Ölçeklenebilirdir.\n",
    "    - Hızlıdır\n",
    "    - Tahmin basarısı yüksektir.\n",
    "    - Bir çok kaggle yarısmaında basarısını kanıtlamıstır."
   ]
  },
  {
   "cell_type": "code",
   "execution_count": 2,
   "metadata": {},
   "outputs": [],
   "source": [
    "# iteratif işlemleri inmemory olarak kullandıgımızda performansının artıgı görülecektir\n"
   ]
  },
  {
   "cell_type": "markdown",
   "metadata": {},
   "source": [
    "# XGBoost - MODEL & TAHMİN"
   ]
  },
  {
   "cell_type": "code",
   "execution_count": 3,
   "metadata": {},
   "outputs": [],
   "source": [
    "diabets=pd.read_csv(\"diabets.csv\")\n",
    "df=diabets.copy()\n",
    "df=df.dropna()# eskik gözlemleri cıkarttık\n",
    "df.head()\n",
    "y=df[\"Outcome\"]\n",
    "X=df.drop([\"Outcome\"],axis=1)\n",
    "X_train,X_test,y_train,y_test=train_test_split(X,y,test_size=0.30,\n",
    "                                              random_state=42)"
   ]
  },
  {
   "cell_type": "code",
   "execution_count": 4,
   "metadata": {},
   "outputs": [],
   "source": [
    "#!pip install xgboost\n",
    "from xgboost import XGBClassifier"
   ]
  },
  {
   "cell_type": "code",
   "execution_count": 5,
   "metadata": {},
   "outputs": [],
   "source": [
    "xgb_model=XGBClassifier().fit(X_train,y_train)"
   ]
  },
  {
   "cell_type": "code",
   "execution_count": 6,
   "metadata": {},
   "outputs": [
    {
     "data": {
      "text/plain": [
       "0.7359307359307359"
      ]
     },
     "execution_count": 6,
     "metadata": {},
     "output_type": "execute_result"
    }
   ],
   "source": [
    "# modelin test hatası \n",
    "y_pred=xgb_model.predict(X_test)\n",
    "accuracy_score(y_test,y_pred)"
   ]
  },
  {
   "cell_type": "markdown",
   "metadata": {},
   "source": [
    "# XGBoost - MODEL TUNİNG"
   ]
  },
  {
   "cell_type": "code",
   "execution_count": 7,
   "metadata": {},
   "outputs": [
    {
     "data": {
      "text/plain": [
       "XGBClassifier(base_score=0.5, booster=None, colsample_bylevel=1,\n",
       "              colsample_bynode=1, colsample_bytree=1, gamma=0, gpu_id=-1,\n",
       "              importance_type='gain', interaction_constraints=None,\n",
       "              learning_rate=0.300000012, max_delta_step=0, max_depth=6,\n",
       "              min_child_weight=1, missing=nan, monotone_constraints=None,\n",
       "              n_estimators=100, n_jobs=0, num_parallel_tree=1,\n",
       "              objective='binary:logistic', random_state=0, reg_alpha=0,\n",
       "              reg_lambda=1, scale_pos_weight=1, subsample=1, tree_method=None,\n",
       "              validate_parameters=False, verbosity=None)"
      ]
     },
     "execution_count": 7,
     "metadata": {},
     "output_type": "execute_result"
    }
   ],
   "source": [
    "xgb_model"
   ]
  },
  {
   "cell_type": "code",
   "execution_count": 8,
   "metadata": {
    "collapsed": true,
    "jupyter": {
     "outputs_hidden": true
    }
   },
   "outputs": [
    {
     "data": {
      "text/plain": [
       "\u001b[1;31mType:\u001b[0m        XGBClassifier\n",
       "\u001b[1;31mString form:\u001b[0m\n",
       "XGBClassifier(base_score=0.5, booster=None, colsample_bylevel=1,\n",
       "           colsample_bynode=1 <...> weight=1, subsample=1, tree_method=None,\n",
       "           validate_parameters=False, verbosity=None)\n",
       "\u001b[1;31mFile:\u001b[0m        c:\\users\\aayse\\appdata\\local\\continuum\\anaconda3\\lib\\site-packages\\xgboost\\sklearn.py\n",
       "\u001b[1;31mDocstring:\u001b[0m  \n",
       "Implementation of the scikit-learn API for XGBoost classification.\n",
       "\n",
       "\n",
       "Parameters\n",
       "----------\n",
       "\n",
       "    max_depth : int\n",
       "        Maximum tree depth for base learners.\n",
       "    learning_rate : float\n",
       "        Boosting learning rate (xgb's \"eta\")\n",
       "    verbosity : int\n",
       "        The degree of verbosity. Valid values are 0 (silent) - 3 (debug).\n",
       "    objective : string or callable\n",
       "        Specify the learning task and the corresponding learning objective or\n",
       "        a custom objective function to be used (see note below).\n",
       "    booster: string\n",
       "        Specify which booster to use: gbtree, gblinear or dart.\n",
       "    tree_method: string\n",
       "        Specify which tree method to use.  Default to auto.  If this parameter\n",
       "        is set to default, XGBoost will choose the most conservative option\n",
       "        available.  It's recommended to study this option from parameters\n",
       "        document.\n",
       "    n_jobs : int\n",
       "        Number of parallel threads used to run xgboost.\n",
       "    gamma : float\n",
       "        Minimum loss reduction required to make a further partition on a leaf\n",
       "        node of the tree.\n",
       "    min_child_weight : int\n",
       "        Minimum sum of instance weight(hessian) needed in a child.\n",
       "    max_delta_step : int\n",
       "        Maximum delta step we allow each tree's weight estimation to be.\n",
       "    subsample : float\n",
       "        Subsample ratio of the training instance.\n",
       "    colsample_bytree : float\n",
       "        Subsample ratio of columns when constructing each tree.\n",
       "    colsample_bylevel : float\n",
       "        Subsample ratio of columns for each level.\n",
       "    colsample_bynode : float\n",
       "        Subsample ratio of columns for each split.\n",
       "    reg_alpha : float (xgb's alpha)\n",
       "        L1 regularization term on weights\n",
       "    reg_lambda : float (xgb's lambda)\n",
       "        L2 regularization term on weights\n",
       "    scale_pos_weight : float\n",
       "        Balancing of positive and negative weights.\n",
       "    base_score:\n",
       "        The initial prediction score of all instances, global bias.\n",
       "    random_state : int\n",
       "        Random number seed.\n",
       "\n",
       "        .. note::\n",
       "\n",
       "           Using gblinear booster with shotgun updater is nondeterministic as\n",
       "           it uses Hogwild algorithm.\n",
       "\n",
       "    missing : float, optional\n",
       "        Value in the data which needs to be present as a missing value. If\n",
       "        None, defaults to np.nan.\n",
       "    num_parallel_tree: int\n",
       "        Used for boosting random forest.\n",
       "    monotone_constraints : str\n",
       "        Constraint of variable monotonicity.  See tutorial for more\n",
       "        information.c\n",
       "    interaction_constraints : str\n",
       "        Constraints for interaction representing permitted interactions.  The\n",
       "        constraints must be specified in the form of a nest list, e.g. [[0, 1],\n",
       "        [2, 3, 4]], where each inner list is a group of indices of features\n",
       "        that are allowed to interact with each other.  See tutorial for more\n",
       "        information\n",
       "    importance_type: string, default \"gain\"\n",
       "        The feature importance type for the feature_importances\\_ property:\n",
       "        either \"gain\", \"weight\", \"cover\", \"total_gain\" or \"total_cover\".\n",
       "\n",
       "    \\*\\*kwargs : dict, optional\n",
       "        Keyword arguments for XGBoost Booster object.  Full documentation of\n",
       "        parameters can be found here:\n",
       "        https://github.com/dmlc/xgboost/blob/master/doc/parameter.rst.\n",
       "        Attempting to set a parameter via the constructor args and \\*\\*kwargs\n",
       "        dict simultaneously will result in a TypeError.\n",
       "\n",
       "        .. note:: \\*\\*kwargs unsupported by scikit-learn\n",
       "\n",
       "            \\*\\*kwargs is unsupported by scikit-learn.  We do not guarantee\n",
       "            that parameters passed via this argument will interact properly\n",
       "            with scikit-learn.\n",
       "\n",
       "        .. note::  Custom objective function\n",
       "\n",
       "            A custom objective function can be provided for the ``objective``\n",
       "            parameter. In this case, it should have the signature\n",
       "            ``objective(y_true, y_pred) -> grad, hess``:\n",
       "\n",
       "            y_true: array_like of shape [n_samples]\n",
       "                The target values\n",
       "            y_pred: array_like of shape [n_samples]\n",
       "                The predicted values\n",
       "\n",
       "            grad: array_like of shape [n_samples]\n",
       "                The value of the gradient for each sample point.\n",
       "            hess: array_like of shape [n_samples]\n",
       "                The value of the second derivative for each sample point\n"
      ]
     },
     "metadata": {},
     "output_type": "display_data"
    }
   ],
   "source": [
    "?xgb_model"
   ]
  },
  {
   "cell_type": "code",
   "execution_count": 15,
   "metadata": {},
   "outputs": [],
   "source": [
    "xgb_params={\"n_estimators\":[100,500,1000,2000],\n",
    "           \"subsample\":[0.6,0.8,1.0],\n",
    "           \"max_depth\":[3,4,5,6],\n",
    "           \"learning_rate\":[0.1,0.01,0.02,0.05],\n",
    "           \"min_samples_split\":[2,5,10]}"
   ]
  },
  {
   "cell_type": "code",
   "execution_count": 17,
   "metadata": {},
   "outputs": [],
   "source": [
    "xgb=XGBClassifier()\n",
    "xgb_cv_model=GridSearchCV(xgb,xgb_params,cv=10,n_jobs=-1,verbose=2)"
   ]
  },
  {
   "cell_type": "code",
   "execution_count": 18,
   "metadata": {
    "collapsed": true,
    "jupyter": {
     "outputs_hidden": true
    }
   },
   "outputs": [
    {
     "name": "stdout",
     "output_type": "stream",
     "text": [
      "Fitting 10 folds for each of 576 candidates, totalling 5760 fits\n"
     ]
    },
    {
     "name": "stderr",
     "output_type": "stream",
     "text": [
      "[Parallel(n_jobs=-1)]: Using backend LokyBackend with 4 concurrent workers.\n",
      "[Parallel(n_jobs=-1)]: Done  33 tasks      | elapsed:   14.6s\n",
      "[Parallel(n_jobs=-1)]: Done 154 tasks      | elapsed:   46.7s\n",
      "[Parallel(n_jobs=-1)]: Done 357 tasks      | elapsed:  1.7min\n",
      "[Parallel(n_jobs=-1)]: Done 640 tasks      | elapsed:  2.7min\n",
      "[Parallel(n_jobs=-1)]: Done 1005 tasks      | elapsed:  4.3min\n",
      "[Parallel(n_jobs=-1)]: Done 1450 tasks      | elapsed:  6.3min\n",
      "[Parallel(n_jobs=-1)]: Done 1977 tasks      | elapsed:  8.6min\n",
      "[Parallel(n_jobs=-1)]: Done 2584 tasks      | elapsed: 11.9min\n",
      "[Parallel(n_jobs=-1)]: Done 3273 tasks      | elapsed: 15.8min\n",
      "[Parallel(n_jobs=-1)]: Done 4042 tasks      | elapsed: 19.9min\n",
      "[Parallel(n_jobs=-1)]: Done 4893 tasks      | elapsed: 24.0min\n",
      "[Parallel(n_jobs=-1)]: Done 5760 out of 5760 | elapsed: 28.3min finished\n"
     ]
    },
    {
     "data": {
      "text/plain": [
       "GridSearchCV(cv=10, error_score='raise-deprecating',\n",
       "             estimator=XGBClassifier(base_score=None, booster=None,\n",
       "                                     colsample_bylevel=None,\n",
       "                                     colsample_bynode=None,\n",
       "                                     colsample_bytree=None, gamma=None,\n",
       "                                     gpu_id=None, importance_type='gain',\n",
       "                                     interaction_constraints=None,\n",
       "                                     learning_rate=None, max_delta_step=None,\n",
       "                                     max_depth=None, min_child_weight=None,\n",
       "                                     missing=nan, monotone_constra...\n",
       "                                     reg_lambda=None, scale_pos_weight=None,\n",
       "                                     subsample=None, tree_method=None,\n",
       "                                     validate_parameters=False,\n",
       "                                     verbosity=None),\n",
       "             iid='warn', n_jobs=-1,\n",
       "             param_grid={'learning_rate': [0.1, 0.01, 0.02, 0.05],\n",
       "                         'max_depth': [3, 4, 5, 6],\n",
       "                         'min_samples_split': [2, 5, 10],\n",
       "                         'n_estimators': [100, 500, 1000, 2000],\n",
       "                         'subsample': [0.6, 0.8, 1.0]},\n",
       "             pre_dispatch='2*n_jobs', refit=True, return_train_score=False,\n",
       "             scoring=None, verbose=2)"
      ]
     },
     "execution_count": 18,
     "metadata": {},
     "output_type": "execute_result"
    }
   ],
   "source": [
    "xgb_cv_model.fit(X_train,y_train)"
   ]
  },
  {
   "cell_type": "code",
   "execution_count": 19,
   "metadata": {},
   "outputs": [
    {
     "data": {
      "text/plain": [
       "{'learning_rate': 0.01,\n",
       " 'max_depth': 3,\n",
       " 'min_samples_split': 2,\n",
       " 'n_estimators': 100,\n",
       " 'subsample': 1.0}"
      ]
     },
     "execution_count": 19,
     "metadata": {},
     "output_type": "execute_result"
    }
   ],
   "source": [
    "xgb_cv_model.best_params_\n"
   ]
  },
  {
   "cell_type": "code",
   "execution_count": 20,
   "metadata": {},
   "outputs": [],
   "source": [
    "xgb=XGBClassifier(n_estimators=100,\n",
    "                       subsample=1.0,\n",
    "                       max_depth=3,\n",
    "                       learning_rate=0.01,\n",
    "                       min_samples_split=2)"
   ]
  },
  {
   "cell_type": "code",
   "execution_count": 21,
   "metadata": {},
   "outputs": [],
   "source": [
    "xgb_tuned=xgb.fit(X_train,y_train)"
   ]
  },
  {
   "cell_type": "code",
   "execution_count": 22,
   "metadata": {},
   "outputs": [
    {
     "data": {
      "text/plain": [
       "0.7489177489177489"
      ]
     },
     "execution_count": 22,
     "metadata": {},
     "output_type": "execute_result"
    }
   ],
   "source": [
    "y_pred=xgb_tuned.predict(X_test)\n",
    "accuracy_score(y_test,y_pred)"
   ]
  },
  {
   "cell_type": "markdown",
   "metadata": {},
   "source": [
    "# Light GBM\n",
    "* Light GBM, XGBoost'un eğitim süresi performansını arttırmaya yönelik geliştirilen bir diğer GBM türüdür.(Microsoft 2017)\n",
    "\n"
   ]
  },
  {
   "cell_type": "markdown",
   "metadata": {},
   "source": [
    "* Light GBM\n",
    "    - Daha performanslı\n",
    "    - Level-wise büyüme stratejisi yerine Leaf- wise büyüme stratejisi\n",
    "    - Breadth-first search(BFS) yerine depth-first search (DFS)\n",
    "    \n",
    "* Not: Veri setindeki gözlem ve degisken sayısı çok miktarda oldugunda, \n",
    "\n",
    "* XGBoost genis kapsamlı ilk arama yapıyor.(BFS)\n",
    "* LightGBM ise derinlemesine ilk arama yapıyor(DFS)\n",
    "\n",
    "\n",
    "* Light GBM XGBoost a göre daha performanslıdır"
   ]
  },
  {
   "cell_type": "markdown",
   "metadata": {},
   "source": [
    "# LightGBM - MODEL & TAHMİN"
   ]
  },
  {
   "cell_type": "code",
   "execution_count": 23,
   "metadata": {},
   "outputs": [],
   "source": [
    "diabets=pd.read_csv(\"diabets.csv\")\n",
    "df=diabets.copy()\n",
    "df=df.dropna()# eskik gözlemleri cıkarttık\n",
    "df.head()\n",
    "y=df[\"Outcome\"]\n",
    "X=df.drop([\"Outcome\"],axis=1)\n",
    "X_train,X_test,y_train,y_test=train_test_split(X,y,test_size=0.30,\n",
    "                                              random_state=42)"
   ]
  },
  {
   "cell_type": "code",
   "execution_count": 24,
   "metadata": {},
   "outputs": [],
   "source": [
    "#!conda install -c conda-forge lightgbm\n",
    "from lightgbm import LGBMClassifier"
   ]
  },
  {
   "cell_type": "code",
   "execution_count": 25,
   "metadata": {},
   "outputs": [],
   "source": [
    "lgbm_model=LGBMClassifier().fit(X_train,y_train)"
   ]
  },
  {
   "cell_type": "code",
   "execution_count": 27,
   "metadata": {},
   "outputs": [
    {
     "data": {
      "text/plain": [
       "0.7272727272727273"
      ]
     },
     "execution_count": 27,
     "metadata": {},
     "output_type": "execute_result"
    }
   ],
   "source": [
    "y_pred=lgbm_model.predict(X_test)\n",
    "accuracy_score(y_test,y_pred)"
   ]
  },
  {
   "cell_type": "markdown",
   "metadata": {},
   "source": [
    "# LİGHT GBM - MODEL TUNİNG"
   ]
  },
  {
   "cell_type": "code",
   "execution_count": 28,
   "metadata": {},
   "outputs": [
    {
     "data": {
      "text/plain": [
       "LGBMClassifier(boosting_type='gbdt', class_weight=None, colsample_bytree=1.0,\n",
       "               importance_type='split', learning_rate=0.1, max_depth=-1,\n",
       "               min_child_samples=20, min_child_weight=0.001, min_split_gain=0.0,\n",
       "               n_estimators=100, n_jobs=-1, num_leaves=31, objective=None,\n",
       "               random_state=None, reg_alpha=0.0, reg_lambda=0.0, silent=True,\n",
       "               subsample=1.0, subsample_for_bin=200000, subsample_freq=0)"
      ]
     },
     "execution_count": 28,
     "metadata": {},
     "output_type": "execute_result"
    }
   ],
   "source": [
    "lgbm_model"
   ]
  },
  {
   "cell_type": "code",
   "execution_count": 29,
   "metadata": {
    "collapsed": true,
    "jupyter": {
     "outputs_hidden": true
    }
   },
   "outputs": [
    {
     "data": {
      "text/plain": [
       "\u001b[1;31mType:\u001b[0m           LGBMClassifier\n",
       "\u001b[1;31mString form:\u001b[0m   \n",
       "LGBMClassifier(boosting_type='gbdt', class_weight=None, colsample_bytree=1.0,\n",
       "           impo <...> ambda=0.0, silent=True,\n",
       "           subsample=1.0, subsample_for_bin=200000, subsample_freq=0)\n",
       "\u001b[1;31mFile:\u001b[0m           c:\\users\\aayse\\appdata\\local\\continuum\\anaconda3\\lib\\site-packages\\lightgbm\\sklearn.py\n",
       "\u001b[1;31mDocstring:\u001b[0m      LightGBM classifier.\n",
       "\u001b[1;31mInit docstring:\u001b[0m\n",
       "Construct a gradient boosting model.\n",
       "\n",
       "Parameters\n",
       "----------\n",
       "boosting_type : string, optional (default='gbdt')\n",
       "    'gbdt', traditional Gradient Boosting Decision Tree.\n",
       "    'dart', Dropouts meet Multiple Additive Regression Trees.\n",
       "    'goss', Gradient-based One-Side Sampling.\n",
       "    'rf', Random Forest.\n",
       "num_leaves : int, optional (default=31)\n",
       "    Maximum tree leaves for base learners.\n",
       "max_depth : int, optional (default=-1)\n",
       "    Maximum tree depth for base learners, <=0 means no limit.\n",
       "learning_rate : float, optional (default=0.1)\n",
       "    Boosting learning rate.\n",
       "    You can use ``callbacks`` parameter of ``fit`` method to shrink/adapt learning rate\n",
       "    in training using ``reset_parameter`` callback.\n",
       "    Note, that this will ignore the ``learning_rate`` argument in training.\n",
       "n_estimators : int, optional (default=100)\n",
       "    Number of boosted trees to fit.\n",
       "subsample_for_bin : int, optional (default=200000)\n",
       "    Number of samples for constructing bins.\n",
       "objective : string, callable or None, optional (default=None)\n",
       "    Specify the learning task and the corresponding learning objective or\n",
       "    a custom objective function to be used (see note below).\n",
       "    Default: 'regression' for LGBMRegressor, 'binary' or 'multiclass' for LGBMClassifier, 'lambdarank' for LGBMRanker.\n",
       "class_weight : dict, 'balanced' or None, optional (default=None)\n",
       "    Weights associated with classes in the form ``{class_label: weight}``.\n",
       "    Use this parameter only for multi-class classification task;\n",
       "    for binary classification task you may use ``is_unbalance`` or ``scale_pos_weight`` parameters.\n",
       "    Note, that the usage of all these parameters will result in poor estimates of the individual class probabilities.\n",
       "    You may want to consider performing probability calibration\n",
       "    (https://scikit-learn.org/stable/modules/calibration.html) of your model.\n",
       "    The 'balanced' mode uses the values of y to automatically adjust weights\n",
       "    inversely proportional to class frequencies in the input data as ``n_samples / (n_classes * np.bincount(y))``.\n",
       "    If None, all classes are supposed to have weight one.\n",
       "    Note, that these weights will be multiplied with ``sample_weight`` (passed through the ``fit`` method)\n",
       "    if ``sample_weight`` is specified.\n",
       "min_split_gain : float, optional (default=0.)\n",
       "    Minimum loss reduction required to make a further partition on a leaf node of the tree.\n",
       "min_child_weight : float, optional (default=1e-3)\n",
       "    Minimum sum of instance weight (hessian) needed in a child (leaf).\n",
       "min_child_samples : int, optional (default=20)\n",
       "    Minimum number of data needed in a child (leaf).\n",
       "subsample : float, optional (default=1.)\n",
       "    Subsample ratio of the training instance.\n",
       "subsample_freq : int, optional (default=0)\n",
       "    Frequence of subsample, <=0 means no enable.\n",
       "colsample_bytree : float, optional (default=1.)\n",
       "    Subsample ratio of columns when constructing each tree.\n",
       "reg_alpha : float, optional (default=0.)\n",
       "    L1 regularization term on weights.\n",
       "reg_lambda : float, optional (default=0.)\n",
       "    L2 regularization term on weights.\n",
       "random_state : int or None, optional (default=None)\n",
       "    Random number seed.\n",
       "    If None, default seeds in C++ code will be used.\n",
       "n_jobs : int, optional (default=-1)\n",
       "    Number of parallel threads.\n",
       "silent : bool, optional (default=True)\n",
       "    Whether to print messages while running boosting.\n",
       "importance_type : string, optional (default='split')\n",
       "    The type of feature importance to be filled into ``feature_importances_``.\n",
       "    If 'split', result contains numbers of times the feature is used in a model.\n",
       "    If 'gain', result contains total gains of splits which use the feature.\n",
       "**kwargs\n",
       "    Other parameters for the model.\n",
       "    Check http://lightgbm.readthedocs.io/en/latest/Parameters.html for more parameters.\n",
       "\n",
       "    .. warning::\n",
       "\n",
       "        \\*\\*kwargs is not supported in sklearn, it may cause unexpected issues.\n",
       "\n",
       "Attributes\n",
       "----------\n",
       "n_features_ : int\n",
       "    The number of features of fitted model.\n",
       "classes_ : array of shape = [n_classes]\n",
       "    The class label array (only for classification problem).\n",
       "n_classes_ : int\n",
       "    The number of classes (only for classification problem).\n",
       "best_score_ : dict or None\n",
       "    The best score of fitted model.\n",
       "best_iteration_ : int or None\n",
       "    The best iteration of fitted model if ``early_stopping_rounds`` has been specified.\n",
       "objective_ : string or callable\n",
       "    The concrete objective used while fitting this model.\n",
       "booster_ : Booster\n",
       "    The underlying Booster of this model.\n",
       "evals_result_ : dict or None\n",
       "    The evaluation results if ``early_stopping_rounds`` has been specified.\n",
       "feature_importances_ : array of shape = [n_features]\n",
       "    The feature importances (the higher, the more important the feature).\n",
       "\n",
       "Note\n",
       "----\n",
       "A custom objective function can be provided for the ``objective`` parameter.\n",
       "In this case, it should have the signature\n",
       "``objective(y_true, y_pred) -> grad, hess`` or\n",
       "``objective(y_true, y_pred, group) -> grad, hess``:\n",
       "\n",
       "    y_true : array-like of shape = [n_samples]\n",
       "        The target values.\n",
       "    y_pred : array-like of shape = [n_samples] or shape = [n_samples * n_classes] (for multi-class task)\n",
       "        The predicted values.\n",
       "    group : array-like\n",
       "        Group/query data, used for ranking task.\n",
       "    grad : array-like of shape = [n_samples] or shape = [n_samples * n_classes] (for multi-class task)\n",
       "        The value of the first order derivative (gradient) for each sample point.\n",
       "    hess : array-like of shape = [n_samples] or shape = [n_samples * n_classes] (for multi-class task)\n",
       "        The value of the second order derivative (Hessian) for each sample point.\n",
       "\n",
       "For multi-class task, the y_pred is group by class_id first, then group by row_id.\n",
       "If you want to get i-th row y_pred in j-th class, the access way is y_pred[j * num_data + i]\n",
       "and you should group grad and hess in this way as well.\n"
      ]
     },
     "metadata": {},
     "output_type": "display_data"
    }
   ],
   "source": [
    "?lgbm_model"
   ]
  },
  {
   "cell_type": "code",
   "execution_count": 30,
   "metadata": {},
   "outputs": [],
   "source": [
    "lgbm_params={\"n_estimators\":[100,500,1000,2000],\n",
    "           \"subsample\":[0.6,0.8,1.0],\n",
    "           \"max_depth\":[3,4,5,6],\n",
    "           \"learning_rate\":[0.1,0.01,0.02,0.05],\n",
    "           \"min_child_samples\":[5,10,20]}"
   ]
  },
  {
   "cell_type": "code",
   "execution_count": 31,
   "metadata": {},
   "outputs": [],
   "source": [
    "\n",
    "lgbm=LGBMClassifier()\n",
    "lgbm_cv_model=GridSearchCV(lgbm,\n",
    "                           lgbm_params,\n",
    "                           cv=10,\n",
    "                           n_jobs=-1,\n",
    "                           verbose=2)"
   ]
  },
  {
   "cell_type": "code",
   "execution_count": 32,
   "metadata": {},
   "outputs": [
    {
     "name": "stdout",
     "output_type": "stream",
     "text": [
      "Fitting 10 folds for each of 576 candidates, totalling 5760 fits\n"
     ]
    },
    {
     "name": "stderr",
     "output_type": "stream",
     "text": [
      "[Parallel(n_jobs=-1)]: Using backend LokyBackend with 4 concurrent workers.\n",
      "[Parallel(n_jobs=-1)]: Done  33 tasks      | elapsed:    6.0s\n",
      "[Parallel(n_jobs=-1)]: Done 154 tasks      | elapsed:   24.5s\n",
      "[Parallel(n_jobs=-1)]: Done 357 tasks      | elapsed:   57.5s\n",
      "[Parallel(n_jobs=-1)]: Done 640 tasks      | elapsed:  1.7min\n",
      "[Parallel(n_jobs=-1)]: Done 1005 tasks      | elapsed:  2.8min\n",
      "[Parallel(n_jobs=-1)]: Done 1450 tasks      | elapsed:  4.2min\n",
      "[Parallel(n_jobs=-1)]: Done 1977 tasks      | elapsed:  5.5min\n",
      "[Parallel(n_jobs=-1)]: Done 2584 tasks      | elapsed:  7.8min\n",
      "[Parallel(n_jobs=-1)]: Done 3273 tasks      | elapsed: 10.2min\n",
      "[Parallel(n_jobs=-1)]: Done 4042 tasks      | elapsed: 12.9min\n",
      "[Parallel(n_jobs=-1)]: Done 4893 tasks      | elapsed: 15.5min\n",
      "[Parallel(n_jobs=-1)]: Done 5760 out of 5760 | elapsed: 18.9min finished\n"
     ]
    },
    {
     "data": {
      "text/plain": [
       "GridSearchCV(cv=10, error_score='raise-deprecating',\n",
       "             estimator=LGBMClassifier(boosting_type='gbdt', class_weight=None,\n",
       "                                      colsample_bytree=1.0,\n",
       "                                      importance_type='split',\n",
       "                                      learning_rate=0.1, max_depth=-1,\n",
       "                                      min_child_samples=20,\n",
       "                                      min_child_weight=0.001,\n",
       "                                      min_split_gain=0.0, n_estimators=100,\n",
       "                                      n_jobs=-1, num_leaves=31, objective=None,\n",
       "                                      random_state=None, reg_alpha=0.0,\n",
       "                                      reg_lambda=0.0, silent=True,\n",
       "                                      subsample=1.0, subsample_for_bin=200000,\n",
       "                                      subsample_freq=0),\n",
       "             iid='warn', n_jobs=-1,\n",
       "             param_grid={'learning_rate': [0.1, 0.01, 0.02, 0.05],\n",
       "                         'max_depth': [3, 4, 5, 6],\n",
       "                         'min_child_samples': [5, 10, 20],\n",
       "                         'n_estimators': [100, 500, 1000, 2000],\n",
       "                         'subsample': [0.6, 0.8, 1.0]},\n",
       "             pre_dispatch='2*n_jobs', refit=True, return_train_score=False,\n",
       "             scoring=None, verbose=2)"
      ]
     },
     "execution_count": 32,
     "metadata": {},
     "output_type": "execute_result"
    }
   ],
   "source": [
    "lgbm_cv_model.fit(X_train,y_train)"
   ]
  },
  {
   "cell_type": "code",
   "execution_count": 33,
   "metadata": {},
   "outputs": [
    {
     "data": {
      "text/plain": [
       "{'learning_rate': 0.01,\n",
       " 'max_depth': 3,\n",
       " 'min_child_samples': 20,\n",
       " 'n_estimators': 500,\n",
       " 'subsample': 0.6}"
      ]
     },
     "execution_count": 33,
     "metadata": {},
     "output_type": "execute_result"
    }
   ],
   "source": [
    "lgbm_cv_model.best_params_"
   ]
  },
  {
   "cell_type": "code",
   "execution_count": 34,
   "metadata": {},
   "outputs": [],
   "source": [
    "lgbm=LGBMClassifier(learning_rate=0.01,\n",
    "                   max_depth=3,\n",
    "                   subsample=0.6,\n",
    "                   n_estimators=500,\n",
    "                   min_child_samples=20)"
   ]
  },
  {
   "cell_type": "code",
   "execution_count": 35,
   "metadata": {},
   "outputs": [],
   "source": [
    "lgbm_tuned=lgbm.fit(X_train,y_train)"
   ]
  },
  {
   "cell_type": "code",
   "execution_count": 36,
   "metadata": {},
   "outputs": [
    {
     "data": {
      "text/plain": [
       "0.7445887445887446"
      ]
     },
     "execution_count": 36,
     "metadata": {},
     "output_type": "execute_result"
    }
   ],
   "source": [
    "y_pred=lgbm_tuned.predict(X_test)\n",
    "accuracy_score(y_test,y_pred)"
   ]
  },
  {
   "cell_type": "markdown",
   "metadata": {},
   "source": [
    "# Category Boosting (CatBoost)\n",
    "* Kategorik degişkenler ile otomatik olarak mücadele edebilen,hızlı,başarılı bir diğer GBM türevi"
   ]
  },
  {
   "cell_type": "markdown",
   "metadata": {},
   "source": [
    "* Category Boosting (CatBoost)\n",
    "    - Kategorik degisken destegi\n",
    "    - Hızlı ve ölçeklenebilir GPU destegi\n",
    "    - Daha basarılı tahminler\n",
    "    - Hızlı train ve hızlı tahmin\n",
    "    - Rusyanın ilk açık kaynak kodlu ,başarılı ML çalışması"
   ]
  },
  {
   "cell_type": "markdown",
   "metadata": {},
   "source": [
    "# CatBoost - MODEL & TAHMİN"
   ]
  },
  {
   "cell_type": "code",
   "execution_count": 37,
   "metadata": {},
   "outputs": [],
   "source": [
    "diabets=pd.read_csv(\"diabets.csv\")\n",
    "df=diabets.copy()\n",
    "df=df.dropna()# eskik gözlemleri cıkarttık\n",
    "df.head()\n",
    "y=df[\"Outcome\"]\n",
    "X=df.drop([\"Outcome\"],axis=1)\n",
    "X_train,X_test,y_train,y_test=train_test_split(X,y,test_size=0.30,\n",
    "                                              random_state=42)"
   ]
  },
  {
   "cell_type": "code",
   "execution_count": 38,
   "metadata": {},
   "outputs": [],
   "source": [
    "# !pip install catboost\n",
    "from catboost import CatBoostClassifier\n"
   ]
  },
  {
   "cell_type": "code",
   "execution_count": 39,
   "metadata": {
    "collapsed": true,
    "jupyter": {
     "outputs_hidden": true
    }
   },
   "outputs": [
    {
     "name": "stdout",
     "output_type": "stream",
     "text": [
      "Learning rate set to 0.0079\n",
      "0:\tlearn: 0.6879822\ttotal: 72.4ms\tremaining: 1m 12s\n",
      "1:\tlearn: 0.6843544\ttotal: 75.3ms\tremaining: 37.5s\n",
      "2:\tlearn: 0.6805937\ttotal: 78.1ms\tremaining: 25.9s\n",
      "3:\tlearn: 0.6766011\ttotal: 80.9ms\tremaining: 20.1s\n",
      "4:\tlearn: 0.6721103\ttotal: 84.2ms\tremaining: 16.7s\n",
      "5:\tlearn: 0.6681927\ttotal: 87.2ms\tremaining: 14.4s\n",
      "6:\tlearn: 0.6642263\ttotal: 89.8ms\tremaining: 12.7s\n",
      "7:\tlearn: 0.6603263\ttotal: 92.5ms\tremaining: 11.5s\n",
      "8:\tlearn: 0.6563030\ttotal: 95.4ms\tremaining: 10.5s\n",
      "9:\tlearn: 0.6528911\ttotal: 98.5ms\tremaining: 9.75s\n",
      "10:\tlearn: 0.6488276\ttotal: 101ms\tremaining: 9.06s\n",
      "11:\tlearn: 0.6455457\ttotal: 104ms\tremaining: 8.52s\n",
      "12:\tlearn: 0.6419444\ttotal: 106ms\tremaining: 8.06s\n",
      "13:\tlearn: 0.6374939\ttotal: 109ms\tremaining: 7.66s\n",
      "14:\tlearn: 0.6340194\ttotal: 112ms\tremaining: 7.35s\n",
      "15:\tlearn: 0.6304776\ttotal: 115ms\tremaining: 7.06s\n",
      "16:\tlearn: 0.6267531\ttotal: 118ms\tremaining: 6.8s\n",
      "17:\tlearn: 0.6238199\ttotal: 120ms\tremaining: 6.54s\n",
      "18:\tlearn: 0.6204938\ttotal: 122ms\tremaining: 6.32s\n",
      "19:\tlearn: 0.6170669\ttotal: 125ms\tremaining: 6.14s\n",
      "20:\tlearn: 0.6133936\ttotal: 128ms\tremaining: 5.98s\n",
      "21:\tlearn: 0.6105467\ttotal: 131ms\tremaining: 5.82s\n",
      "22:\tlearn: 0.6070055\ttotal: 134ms\tremaining: 5.67s\n",
      "23:\tlearn: 0.6036988\ttotal: 136ms\tremaining: 5.54s\n",
      "24:\tlearn: 0.6005906\ttotal: 140ms\tremaining: 5.45s\n",
      "25:\tlearn: 0.5978029\ttotal: 143ms\tremaining: 5.34s\n",
      "26:\tlearn: 0.5948687\ttotal: 145ms\tremaining: 5.24s\n",
      "27:\tlearn: 0.5920321\ttotal: 148ms\tremaining: 5.13s\n",
      "28:\tlearn: 0.5885543\ttotal: 151ms\tremaining: 5.04s\n",
      "29:\tlearn: 0.5848739\ttotal: 154ms\tremaining: 4.99s\n",
      "30:\tlearn: 0.5814562\ttotal: 158ms\tremaining: 4.93s\n",
      "31:\tlearn: 0.5783158\ttotal: 160ms\tremaining: 4.84s\n",
      "32:\tlearn: 0.5754880\ttotal: 163ms\tremaining: 4.77s\n",
      "33:\tlearn: 0.5737960\ttotal: 166ms\tremaining: 4.71s\n",
      "34:\tlearn: 0.5713558\ttotal: 169ms\tremaining: 4.65s\n",
      "35:\tlearn: 0.5687880\ttotal: 172ms\tremaining: 4.6s\n",
      "36:\tlearn: 0.5660068\ttotal: 175ms\tremaining: 4.54s\n",
      "37:\tlearn: 0.5642053\ttotal: 178ms\tremaining: 4.5s\n",
      "38:\tlearn: 0.5618905\ttotal: 181ms\tremaining: 4.47s\n",
      "39:\tlearn: 0.5596534\ttotal: 185ms\tremaining: 4.44s\n",
      "40:\tlearn: 0.5576328\ttotal: 188ms\tremaining: 4.38s\n",
      "41:\tlearn: 0.5553185\ttotal: 190ms\tremaining: 4.34s\n",
      "42:\tlearn: 0.5531257\ttotal: 193ms\tremaining: 4.29s\n",
      "43:\tlearn: 0.5501080\ttotal: 196ms\tremaining: 4.26s\n",
      "44:\tlearn: 0.5479930\ttotal: 199ms\tremaining: 4.22s\n",
      "45:\tlearn: 0.5456177\ttotal: 202ms\tremaining: 4.18s\n",
      "46:\tlearn: 0.5438786\ttotal: 205ms\tremaining: 4.15s\n",
      "47:\tlearn: 0.5419967\ttotal: 208ms\tremaining: 4.12s\n",
      "48:\tlearn: 0.5394665\ttotal: 212ms\tremaining: 4.1s\n",
      "49:\tlearn: 0.5376058\ttotal: 214ms\tremaining: 4.07s\n",
      "50:\tlearn: 0.5352902\ttotal: 217ms\tremaining: 4.04s\n",
      "51:\tlearn: 0.5332041\ttotal: 220ms\tremaining: 4.02s\n",
      "52:\tlearn: 0.5306692\ttotal: 225ms\tremaining: 4.03s\n",
      "53:\tlearn: 0.5284961\ttotal: 229ms\tremaining: 4s\n",
      "54:\tlearn: 0.5266646\ttotal: 234ms\tremaining: 4.01s\n",
      "55:\tlearn: 0.5245416\ttotal: 238ms\tremaining: 4.01s\n",
      "56:\tlearn: 0.5225713\ttotal: 244ms\tremaining: 4.04s\n",
      "57:\tlearn: 0.5206087\ttotal: 248ms\tremaining: 4.03s\n",
      "58:\tlearn: 0.5182788\ttotal: 253ms\tremaining: 4.03s\n",
      "59:\tlearn: 0.5160537\ttotal: 257ms\tremaining: 4.03s\n",
      "60:\tlearn: 0.5146418\ttotal: 261ms\tremaining: 4.02s\n",
      "61:\tlearn: 0.5133434\ttotal: 264ms\tremaining: 4s\n",
      "62:\tlearn: 0.5120091\ttotal: 268ms\tremaining: 3.99s\n",
      "63:\tlearn: 0.5105931\ttotal: 271ms\tremaining: 3.97s\n",
      "64:\tlearn: 0.5082239\ttotal: 274ms\tremaining: 3.94s\n",
      "65:\tlearn: 0.5062303\ttotal: 277ms\tremaining: 3.92s\n",
      "66:\tlearn: 0.5046140\ttotal: 279ms\tremaining: 3.89s\n",
      "67:\tlearn: 0.5026774\ttotal: 283ms\tremaining: 3.88s\n",
      "68:\tlearn: 0.5014878\ttotal: 285ms\tremaining: 3.85s\n",
      "69:\tlearn: 0.5001072\ttotal: 288ms\tremaining: 3.82s\n",
      "70:\tlearn: 0.4986150\ttotal: 291ms\tremaining: 3.8s\n",
      "71:\tlearn: 0.4968047\ttotal: 293ms\tremaining: 3.78s\n",
      "72:\tlearn: 0.4953632\ttotal: 296ms\tremaining: 3.76s\n",
      "73:\tlearn: 0.4938498\ttotal: 299ms\tremaining: 3.74s\n",
      "74:\tlearn: 0.4922801\ttotal: 301ms\tremaining: 3.72s\n",
      "75:\tlearn: 0.4908261\ttotal: 304ms\tremaining: 3.69s\n",
      "76:\tlearn: 0.4892363\ttotal: 306ms\tremaining: 3.67s\n",
      "77:\tlearn: 0.4876098\ttotal: 310ms\tremaining: 3.67s\n",
      "78:\tlearn: 0.4862050\ttotal: 313ms\tremaining: 3.65s\n",
      "79:\tlearn: 0.4850063\ttotal: 316ms\tremaining: 3.63s\n",
      "80:\tlearn: 0.4839806\ttotal: 319ms\tremaining: 3.61s\n",
      "81:\tlearn: 0.4823197\ttotal: 321ms\tremaining: 3.6s\n",
      "82:\tlearn: 0.4806850\ttotal: 324ms\tremaining: 3.58s\n",
      "83:\tlearn: 0.4791040\ttotal: 327ms\tremaining: 3.57s\n",
      "84:\tlearn: 0.4776899\ttotal: 330ms\tremaining: 3.55s\n",
      "85:\tlearn: 0.4760505\ttotal: 333ms\tremaining: 3.54s\n",
      "86:\tlearn: 0.4750202\ttotal: 336ms\tremaining: 3.53s\n",
      "87:\tlearn: 0.4736074\ttotal: 339ms\tremaining: 3.52s\n",
      "88:\tlearn: 0.4721145\ttotal: 342ms\tremaining: 3.5s\n",
      "89:\tlearn: 0.4709314\ttotal: 345ms\tremaining: 3.48s\n",
      "90:\tlearn: 0.4693651\ttotal: 347ms\tremaining: 3.47s\n",
      "91:\tlearn: 0.4679810\ttotal: 351ms\tremaining: 3.46s\n",
      "92:\tlearn: 0.4665089\ttotal: 354ms\tremaining: 3.45s\n",
      "93:\tlearn: 0.4650662\ttotal: 356ms\tremaining: 3.44s\n",
      "94:\tlearn: 0.4638027\ttotal: 359ms\tremaining: 3.42s\n",
      "95:\tlearn: 0.4625580\ttotal: 362ms\tremaining: 3.4s\n",
      "96:\tlearn: 0.4611601\ttotal: 365ms\tremaining: 3.4s\n",
      "97:\tlearn: 0.4601908\ttotal: 368ms\tremaining: 3.39s\n",
      "98:\tlearn: 0.4589758\ttotal: 371ms\tremaining: 3.37s\n",
      "99:\tlearn: 0.4579517\ttotal: 373ms\tremaining: 3.36s\n",
      "100:\tlearn: 0.4568376\ttotal: 376ms\tremaining: 3.35s\n",
      "101:\tlearn: 0.4560033\ttotal: 379ms\tremaining: 3.33s\n",
      "102:\tlearn: 0.4550106\ttotal: 382ms\tremaining: 3.32s\n",
      "103:\tlearn: 0.4538100\ttotal: 384ms\tremaining: 3.31s\n",
      "104:\tlearn: 0.4525246\ttotal: 392ms\tremaining: 3.34s\n",
      "105:\tlearn: 0.4516290\ttotal: 395ms\tremaining: 3.33s\n",
      "106:\tlearn: 0.4505692\ttotal: 398ms\tremaining: 3.32s\n",
      "107:\tlearn: 0.4493491\ttotal: 401ms\tremaining: 3.31s\n",
      "108:\tlearn: 0.4484229\ttotal: 403ms\tremaining: 3.29s\n",
      "109:\tlearn: 0.4475237\ttotal: 406ms\tremaining: 3.28s\n",
      "110:\tlearn: 0.4462811\ttotal: 410ms\tremaining: 3.28s\n",
      "111:\tlearn: 0.4455498\ttotal: 412ms\tremaining: 3.27s\n",
      "112:\tlearn: 0.4447490\ttotal: 415ms\tremaining: 3.26s\n",
      "113:\tlearn: 0.4436312\ttotal: 417ms\tremaining: 3.24s\n",
      "114:\tlearn: 0.4426529\ttotal: 420ms\tremaining: 3.23s\n",
      "115:\tlearn: 0.4419532\ttotal: 423ms\tremaining: 3.22s\n",
      "116:\tlearn: 0.4408642\ttotal: 426ms\tremaining: 3.21s\n",
      "117:\tlearn: 0.4400705\ttotal: 429ms\tremaining: 3.2s\n",
      "118:\tlearn: 0.4392703\ttotal: 432ms\tremaining: 3.19s\n",
      "119:\tlearn: 0.4382235\ttotal: 435ms\tremaining: 3.19s\n",
      "120:\tlearn: 0.4373214\ttotal: 437ms\tremaining: 3.17s\n",
      "121:\tlearn: 0.4364590\ttotal: 440ms\tremaining: 3.16s\n",
      "122:\tlearn: 0.4358042\ttotal: 442ms\tremaining: 3.15s\n",
      "123:\tlearn: 0.4346576\ttotal: 445ms\tremaining: 3.14s\n",
      "124:\tlearn: 0.4334821\ttotal: 449ms\tremaining: 3.14s\n",
      "125:\tlearn: 0.4328019\ttotal: 451ms\tremaining: 3.13s\n",
      "126:\tlearn: 0.4319468\ttotal: 454ms\tremaining: 3.12s\n",
      "127:\tlearn: 0.4313707\ttotal: 457ms\tremaining: 3.11s\n",
      "128:\tlearn: 0.4305355\ttotal: 460ms\tremaining: 3.1s\n",
      "129:\tlearn: 0.4298462\ttotal: 463ms\tremaining: 3.1s\n",
      "130:\tlearn: 0.4292290\ttotal: 466ms\tremaining: 3.09s\n",
      "131:\tlearn: 0.4280695\ttotal: 469ms\tremaining: 3.08s\n",
      "132:\tlearn: 0.4270546\ttotal: 472ms\tremaining: 3.07s\n",
      "133:\tlearn: 0.4260827\ttotal: 475ms\tremaining: 3.07s\n",
      "134:\tlearn: 0.4253427\ttotal: 479ms\tremaining: 3.07s\n",
      "135:\tlearn: 0.4245101\ttotal: 481ms\tremaining: 3.06s\n",
      "136:\tlearn: 0.4237595\ttotal: 484ms\tremaining: 3.05s\n",
      "137:\tlearn: 0.4228898\ttotal: 486ms\tremaining: 3.04s\n",
      "138:\tlearn: 0.4221720\ttotal: 493ms\tremaining: 3.05s\n",
      "139:\tlearn: 0.4214328\ttotal: 496ms\tremaining: 3.05s\n",
      "140:\tlearn: 0.4206441\ttotal: 499ms\tremaining: 3.04s\n",
      "141:\tlearn: 0.4194387\ttotal: 502ms\tremaining: 3.03s\n",
      "142:\tlearn: 0.4190300\ttotal: 504ms\tremaining: 3.02s\n",
      "143:\tlearn: 0.4183890\ttotal: 507ms\tremaining: 3.01s\n",
      "144:\tlearn: 0.4178356\ttotal: 510ms\tremaining: 3s\n",
      "145:\tlearn: 0.4169107\ttotal: 513ms\tremaining: 3s\n",
      "146:\tlearn: 0.4165857\ttotal: 515ms\tremaining: 2.99s\n",
      "147:\tlearn: 0.4157928\ttotal: 518ms\tremaining: 2.98s\n",
      "148:\tlearn: 0.4151702\ttotal: 521ms\tremaining: 2.98s\n",
      "149:\tlearn: 0.4140647\ttotal: 524ms\tremaining: 2.97s\n",
      "150:\tlearn: 0.4134993\ttotal: 527ms\tremaining: 2.96s\n",
      "151:\tlearn: 0.4129717\ttotal: 531ms\tremaining: 2.96s\n",
      "152:\tlearn: 0.4118548\ttotal: 533ms\tremaining: 2.95s\n",
      "153:\tlearn: 0.4111608\ttotal: 536ms\tremaining: 2.94s\n",
      "154:\tlearn: 0.4104780\ttotal: 538ms\tremaining: 2.94s\n",
      "155:\tlearn: 0.4098930\ttotal: 541ms\tremaining: 2.93s\n",
      "156:\tlearn: 0.4089691\ttotal: 544ms\tremaining: 2.92s\n",
      "157:\tlearn: 0.4087054\ttotal: 547ms\tremaining: 2.92s\n",
      "158:\tlearn: 0.4077668\ttotal: 551ms\tremaining: 2.91s\n",
      "159:\tlearn: 0.4072638\ttotal: 553ms\tremaining: 2.9s\n",
      "160:\tlearn: 0.4067148\ttotal: 556ms\tremaining: 2.9s\n",
      "161:\tlearn: 0.4060385\ttotal: 561ms\tremaining: 2.9s\n",
      "162:\tlearn: 0.4055288\ttotal: 564ms\tremaining: 2.9s\n",
      "163:\tlearn: 0.4047306\ttotal: 566ms\tremaining: 2.89s\n",
      "164:\tlearn: 0.4037789\ttotal: 569ms\tremaining: 2.88s\n",
      "165:\tlearn: 0.4031834\ttotal: 572ms\tremaining: 2.87s\n",
      "166:\tlearn: 0.4026181\ttotal: 575ms\tremaining: 2.87s\n",
      "167:\tlearn: 0.4019249\ttotal: 579ms\tremaining: 2.87s\n",
      "168:\tlearn: 0.4011902\ttotal: 581ms\tremaining: 2.86s\n",
      "169:\tlearn: 0.4004675\ttotal: 584ms\tremaining: 2.85s\n",
      "170:\tlearn: 0.3998937\ttotal: 586ms\tremaining: 2.84s\n",
      "171:\tlearn: 0.3990494\ttotal: 590ms\tremaining: 2.84s\n",
      "172:\tlearn: 0.3984273\ttotal: 592ms\tremaining: 2.83s\n",
      "173:\tlearn: 0.3978255\ttotal: 595ms\tremaining: 2.83s\n",
      "174:\tlearn: 0.3969608\ttotal: 598ms\tremaining: 2.82s\n",
      "175:\tlearn: 0.3965716\ttotal: 601ms\tremaining: 2.81s\n",
      "176:\tlearn: 0.3958000\ttotal: 604ms\tremaining: 2.81s\n",
      "177:\tlearn: 0.3950526\ttotal: 607ms\tremaining: 2.8s\n",
      "178:\tlearn: 0.3943012\ttotal: 610ms\tremaining: 2.8s\n",
      "179:\tlearn: 0.3936510\ttotal: 613ms\tremaining: 2.79s\n",
      "180:\tlearn: 0.3931304\ttotal: 616ms\tremaining: 2.79s\n",
      "181:\tlearn: 0.3922809\ttotal: 618ms\tremaining: 2.78s\n",
      "182:\tlearn: 0.3916910\ttotal: 621ms\tremaining: 2.77s\n",
      "183:\tlearn: 0.3911177\ttotal: 625ms\tremaining: 2.77s\n",
      "184:\tlearn: 0.3902377\ttotal: 628ms\tremaining: 2.77s\n",
      "185:\tlearn: 0.3896318\ttotal: 632ms\tremaining: 2.77s\n",
      "186:\tlearn: 0.3889018\ttotal: 635ms\tremaining: 2.76s\n",
      "187:\tlearn: 0.3884345\ttotal: 637ms\tremaining: 2.75s\n",
      "188:\tlearn: 0.3880162\ttotal: 641ms\tremaining: 2.75s\n",
      "189:\tlearn: 0.3873354\ttotal: 645ms\tremaining: 2.75s\n",
      "190:\tlearn: 0.3865013\ttotal: 649ms\tremaining: 2.75s\n",
      "191:\tlearn: 0.3858420\ttotal: 651ms\tremaining: 2.74s\n",
      "192:\tlearn: 0.3851892\ttotal: 654ms\tremaining: 2.73s\n",
      "193:\tlearn: 0.3846598\ttotal: 657ms\tremaining: 2.73s\n",
      "194:\tlearn: 0.3840737\ttotal: 660ms\tremaining: 2.72s\n",
      "195:\tlearn: 0.3837046\ttotal: 662ms\tremaining: 2.72s\n",
      "196:\tlearn: 0.3832085\ttotal: 665ms\tremaining: 2.71s\n",
      "197:\tlearn: 0.3827921\ttotal: 668ms\tremaining: 2.71s\n",
      "198:\tlearn: 0.3823105\ttotal: 671ms\tremaining: 2.7s\n",
      "199:\tlearn: 0.3818350\ttotal: 674ms\tremaining: 2.7s\n",
      "200:\tlearn: 0.3815497\ttotal: 677ms\tremaining: 2.69s\n",
      "201:\tlearn: 0.3809861\ttotal: 680ms\tremaining: 2.69s\n",
      "202:\tlearn: 0.3805201\ttotal: 682ms\tremaining: 2.68s\n",
      "203:\tlearn: 0.3800554\ttotal: 685ms\tremaining: 2.67s\n",
      "204:\tlearn: 0.3796176\ttotal: 688ms\tremaining: 2.67s\n",
      "205:\tlearn: 0.3791170\ttotal: 691ms\tremaining: 2.66s\n",
      "206:\tlearn: 0.3783718\ttotal: 694ms\tremaining: 2.66s\n",
      "207:\tlearn: 0.3780501\ttotal: 697ms\tremaining: 2.65s\n",
      "208:\tlearn: 0.3773893\ttotal: 701ms\tremaining: 2.65s\n",
      "209:\tlearn: 0.3766736\ttotal: 704ms\tremaining: 2.65s\n",
      "210:\tlearn: 0.3762009\ttotal: 706ms\tremaining: 2.64s\n",
      "211:\tlearn: 0.3754611\ttotal: 709ms\tremaining: 2.63s\n",
      "212:\tlearn: 0.3750611\ttotal: 712ms\tremaining: 2.63s\n",
      "213:\tlearn: 0.3744271\ttotal: 715ms\tremaining: 2.63s\n",
      "214:\tlearn: 0.3738456\ttotal: 717ms\tremaining: 2.62s\n",
      "215:\tlearn: 0.3730705\ttotal: 720ms\tremaining: 2.61s\n",
      "216:\tlearn: 0.3725167\ttotal: 723ms\tremaining: 2.61s\n",
      "217:\tlearn: 0.3718862\ttotal: 725ms\tremaining: 2.6s\n",
      "218:\tlearn: 0.3714487\ttotal: 728ms\tremaining: 2.6s\n",
      "219:\tlearn: 0.3709871\ttotal: 731ms\tremaining: 2.59s\n",
      "220:\tlearn: 0.3707378\ttotal: 734ms\tremaining: 2.58s\n",
      "221:\tlearn: 0.3704158\ttotal: 736ms\tremaining: 2.58s\n",
      "222:\tlearn: 0.3699811\ttotal: 739ms\tremaining: 2.57s\n",
      "223:\tlearn: 0.3695598\ttotal: 742ms\tremaining: 2.57s\n",
      "224:\tlearn: 0.3689447\ttotal: 745ms\tremaining: 2.56s\n",
      "225:\tlearn: 0.3685225\ttotal: 747ms\tremaining: 2.56s\n",
      "226:\tlearn: 0.3680421\ttotal: 750ms\tremaining: 2.55s\n",
      "227:\tlearn: 0.3676042\ttotal: 757ms\tremaining: 2.56s\n",
      "228:\tlearn: 0.3671906\ttotal: 760ms\tremaining: 2.56s\n",
      "229:\tlearn: 0.3668212\ttotal: 763ms\tremaining: 2.55s\n",
      "230:\tlearn: 0.3663692\ttotal: 766ms\tremaining: 2.55s\n",
      "231:\tlearn: 0.3659467\ttotal: 769ms\tremaining: 2.54s\n",
      "232:\tlearn: 0.3655393\ttotal: 772ms\tremaining: 2.54s\n",
      "233:\tlearn: 0.3651726\ttotal: 775ms\tremaining: 2.54s\n",
      "234:\tlearn: 0.3647837\ttotal: 777ms\tremaining: 2.53s\n",
      "235:\tlearn: 0.3641776\ttotal: 780ms\tremaining: 2.52s\n",
      "236:\tlearn: 0.3638442\ttotal: 783ms\tremaining: 2.52s\n",
      "237:\tlearn: 0.3635195\ttotal: 786ms\tremaining: 2.52s\n",
      "238:\tlearn: 0.3631796\ttotal: 789ms\tremaining: 2.51s\n",
      "239:\tlearn: 0.3626676\ttotal: 792ms\tremaining: 2.51s\n",
      "240:\tlearn: 0.3622121\ttotal: 795ms\tremaining: 2.5s\n",
      "241:\tlearn: 0.3619048\ttotal: 798ms\tremaining: 2.5s\n",
      "242:\tlearn: 0.3615063\ttotal: 801ms\tremaining: 2.5s\n",
      "243:\tlearn: 0.3612841\ttotal: 804ms\tremaining: 2.49s\n",
      "244:\tlearn: 0.3609073\ttotal: 807ms\tremaining: 2.48s\n",
      "245:\tlearn: 0.3604078\ttotal: 809ms\tremaining: 2.48s\n",
      "246:\tlearn: 0.3599520\ttotal: 813ms\tremaining: 2.48s\n",
      "247:\tlearn: 0.3595811\ttotal: 815ms\tremaining: 2.47s\n",
      "248:\tlearn: 0.3591317\ttotal: 819ms\tremaining: 2.47s\n",
      "249:\tlearn: 0.3588479\ttotal: 822ms\tremaining: 2.47s\n",
      "250:\tlearn: 0.3583543\ttotal: 825ms\tremaining: 2.46s\n",
      "251:\tlearn: 0.3581791\ttotal: 828ms\tremaining: 2.46s\n",
      "252:\tlearn: 0.3578163\ttotal: 832ms\tremaining: 2.46s\n",
      "253:\tlearn: 0.3575379\ttotal: 835ms\tremaining: 2.45s\n",
      "254:\tlearn: 0.3572027\ttotal: 837ms\tremaining: 2.45s\n",
      "255:\tlearn: 0.3567982\ttotal: 841ms\tremaining: 2.44s\n",
      "256:\tlearn: 0.3562229\ttotal: 844ms\tremaining: 2.44s\n",
      "257:\tlearn: 0.3558689\ttotal: 846ms\tremaining: 2.43s\n",
      "258:\tlearn: 0.3551774\ttotal: 849ms\tremaining: 2.43s\n",
      "259:\tlearn: 0.3548640\ttotal: 853ms\tremaining: 2.43s\n",
      "260:\tlearn: 0.3544581\ttotal: 856ms\tremaining: 2.42s\n",
      "261:\tlearn: 0.3540613\ttotal: 859ms\tremaining: 2.42s\n",
      "262:\tlearn: 0.3538128\ttotal: 861ms\tremaining: 2.41s\n",
      "263:\tlearn: 0.3532543\ttotal: 864ms\tremaining: 2.41s\n",
      "264:\tlearn: 0.3528296\ttotal: 869ms\tremaining: 2.41s\n",
      "265:\tlearn: 0.3524755\ttotal: 872ms\tremaining: 2.4s\n",
      "266:\tlearn: 0.3521389\ttotal: 875ms\tremaining: 2.4s\n",
      "267:\tlearn: 0.3518051\ttotal: 877ms\tremaining: 2.4s\n",
      "268:\tlearn: 0.3513371\ttotal: 880ms\tremaining: 2.39s\n",
      "269:\tlearn: 0.3509465\ttotal: 883ms\tremaining: 2.39s\n",
      "270:\tlearn: 0.3506477\ttotal: 886ms\tremaining: 2.38s\n",
      "271:\tlearn: 0.3502686\ttotal: 888ms\tremaining: 2.38s\n",
      "272:\tlearn: 0.3499996\ttotal: 891ms\tremaining: 2.37s\n",
      "273:\tlearn: 0.3494654\ttotal: 893ms\tremaining: 2.37s\n",
      "274:\tlearn: 0.3490672\ttotal: 897ms\tremaining: 2.36s\n",
      "275:\tlearn: 0.3487140\ttotal: 900ms\tremaining: 2.36s\n",
      "276:\tlearn: 0.3483148\ttotal: 903ms\tremaining: 2.36s\n",
      "277:\tlearn: 0.3479376\ttotal: 905ms\tremaining: 2.35s\n",
      "278:\tlearn: 0.3476559\ttotal: 908ms\tremaining: 2.35s\n",
      "279:\tlearn: 0.3475056\ttotal: 910ms\tremaining: 2.34s\n",
      "280:\tlearn: 0.3470299\ttotal: 913ms\tremaining: 2.34s\n",
      "281:\tlearn: 0.3465974\ttotal: 916ms\tremaining: 2.33s\n",
      "282:\tlearn: 0.3457104\ttotal: 918ms\tremaining: 2.33s\n",
      "283:\tlearn: 0.3453699\ttotal: 921ms\tremaining: 2.32s\n",
      "284:\tlearn: 0.3449194\ttotal: 926ms\tremaining: 2.32s\n",
      "285:\tlearn: 0.3445781\ttotal: 929ms\tremaining: 2.32s\n",
      "286:\tlearn: 0.3442549\ttotal: 931ms\tremaining: 2.31s\n",
      "287:\tlearn: 0.3436732\ttotal: 934ms\tremaining: 2.31s\n",
      "288:\tlearn: 0.3431971\ttotal: 937ms\tremaining: 2.3s\n",
      "289:\tlearn: 0.3430385\ttotal: 940ms\tremaining: 2.3s\n",
      "290:\tlearn: 0.3426125\ttotal: 942ms\tremaining: 2.3s\n",
      "291:\tlearn: 0.3423901\ttotal: 945ms\tremaining: 2.29s\n",
      "292:\tlearn: 0.3418502\ttotal: 949ms\tremaining: 2.29s\n",
      "293:\tlearn: 0.3413629\ttotal: 952ms\tremaining: 2.29s\n",
      "294:\tlearn: 0.3410155\ttotal: 955ms\tremaining: 2.28s\n",
      "295:\tlearn: 0.3406270\ttotal: 957ms\tremaining: 2.28s\n",
      "296:\tlearn: 0.3403616\ttotal: 960ms\tremaining: 2.27s\n",
      "297:\tlearn: 0.3400305\ttotal: 962ms\tremaining: 2.27s\n",
      "298:\tlearn: 0.3397938\ttotal: 965ms\tremaining: 2.26s\n",
      "299:\tlearn: 0.3395162\ttotal: 968ms\tremaining: 2.26s\n",
      "300:\tlearn: 0.3391135\ttotal: 971ms\tremaining: 2.25s\n",
      "301:\tlearn: 0.3387590\ttotal: 975ms\tremaining: 2.25s\n",
      "302:\tlearn: 0.3383585\ttotal: 979ms\tremaining: 2.25s\n",
      "303:\tlearn: 0.3379814\ttotal: 982ms\tremaining: 2.25s\n",
      "304:\tlearn: 0.3375277\ttotal: 985ms\tremaining: 2.24s\n",
      "305:\tlearn: 0.3372477\ttotal: 987ms\tremaining: 2.24s\n",
      "306:\tlearn: 0.3369210\ttotal: 990ms\tremaining: 2.23s\n",
      "307:\tlearn: 0.3367762\ttotal: 994ms\tremaining: 2.23s\n",
      "308:\tlearn: 0.3363929\ttotal: 998ms\tremaining: 2.23s\n",
      "309:\tlearn: 0.3361404\ttotal: 1s\tremaining: 2.23s\n",
      "310:\tlearn: 0.3358016\ttotal: 1s\tremaining: 2.22s\n",
      "311:\tlearn: 0.3354371\ttotal: 1.01s\tremaining: 2.22s\n",
      "312:\tlearn: 0.3351281\ttotal: 1.01s\tremaining: 2.21s\n",
      "313:\tlearn: 0.3349342\ttotal: 1.01s\tremaining: 2.21s\n",
      "314:\tlearn: 0.3345681\ttotal: 1.01s\tremaining: 2.21s\n",
      "315:\tlearn: 0.3341835\ttotal: 1.02s\tremaining: 2.2s\n",
      "316:\tlearn: 0.3339848\ttotal: 1.02s\tremaining: 2.2s\n",
      "317:\tlearn: 0.3334631\ttotal: 1.02s\tremaining: 2.19s\n",
      "318:\tlearn: 0.3333090\ttotal: 1.03s\tremaining: 2.19s\n",
      "319:\tlearn: 0.3331853\ttotal: 1.03s\tremaining: 2.19s\n",
      "320:\tlearn: 0.3329144\ttotal: 1.03s\tremaining: 2.18s\n",
      "321:\tlearn: 0.3325655\ttotal: 1.03s\tremaining: 2.18s\n",
      "322:\tlearn: 0.3323911\ttotal: 1.04s\tremaining: 2.17s\n",
      "323:\tlearn: 0.3321008\ttotal: 1.04s\tremaining: 2.17s\n",
      "324:\tlearn: 0.3318429\ttotal: 1.04s\tremaining: 2.17s\n",
      "325:\tlearn: 0.3313364\ttotal: 1.05s\tremaining: 2.16s\n",
      "326:\tlearn: 0.3311141\ttotal: 1.05s\tremaining: 2.16s\n",
      "327:\tlearn: 0.3306946\ttotal: 1.05s\tremaining: 2.16s\n",
      "328:\tlearn: 0.3303195\ttotal: 1.05s\tremaining: 2.15s\n",
      "329:\tlearn: 0.3299492\ttotal: 1.06s\tremaining: 2.15s\n",
      "330:\tlearn: 0.3296295\ttotal: 1.06s\tremaining: 2.14s\n",
      "331:\tlearn: 0.3292299\ttotal: 1.06s\tremaining: 2.14s\n",
      "332:\tlearn: 0.3288012\ttotal: 1.07s\tremaining: 2.13s\n",
      "333:\tlearn: 0.3284230\ttotal: 1.07s\tremaining: 2.13s\n",
      "334:\tlearn: 0.3281356\ttotal: 1.07s\tremaining: 2.13s\n",
      "335:\tlearn: 0.3278105\ttotal: 1.07s\tremaining: 2.12s\n",
      "336:\tlearn: 0.3275766\ttotal: 1.08s\tremaining: 2.12s\n",
      "337:\tlearn: 0.3272361\ttotal: 1.08s\tremaining: 2.12s\n",
      "338:\tlearn: 0.3271448\ttotal: 1.08s\tremaining: 2.11s\n",
      "339:\tlearn: 0.3270027\ttotal: 1.08s\tremaining: 2.11s\n",
      "340:\tlearn: 0.3264515\ttotal: 1.09s\tremaining: 2.1s\n",
      "341:\tlearn: 0.3261568\ttotal: 1.09s\tremaining: 2.1s\n",
      "342:\tlearn: 0.3259076\ttotal: 1.09s\tremaining: 2.1s\n",
      "343:\tlearn: 0.3257816\ttotal: 1.1s\tremaining: 2.09s\n",
      "344:\tlearn: 0.3253372\ttotal: 1.1s\tremaining: 2.09s\n",
      "345:\tlearn: 0.3249546\ttotal: 1.1s\tremaining: 2.08s\n",
      "346:\tlearn: 0.3247155\ttotal: 1.1s\tremaining: 2.08s\n",
      "347:\tlearn: 0.3242784\ttotal: 1.11s\tremaining: 2.08s\n",
      "348:\tlearn: 0.3240593\ttotal: 1.11s\tremaining: 2.07s\n",
      "349:\tlearn: 0.3236125\ttotal: 1.11s\tremaining: 2.07s\n",
      "350:\tlearn: 0.3233139\ttotal: 1.12s\tremaining: 2.07s\n",
      "351:\tlearn: 0.3230584\ttotal: 1.12s\tremaining: 2.06s\n",
      "352:\tlearn: 0.3227589\ttotal: 1.12s\tremaining: 2.06s\n",
      "353:\tlearn: 0.3226484\ttotal: 1.13s\tremaining: 2.06s\n",
      "354:\tlearn: 0.3224708\ttotal: 1.13s\tremaining: 2.05s\n",
      "355:\tlearn: 0.3222481\ttotal: 1.13s\tremaining: 2.05s\n",
      "356:\tlearn: 0.3220751\ttotal: 1.14s\tremaining: 2.05s\n",
      "357:\tlearn: 0.3217743\ttotal: 1.14s\tremaining: 2.04s\n",
      "358:\tlearn: 0.3215696\ttotal: 1.14s\tremaining: 2.04s\n",
      "359:\tlearn: 0.3213855\ttotal: 1.14s\tremaining: 2.03s\n",
      "360:\tlearn: 0.3210040\ttotal: 1.15s\tremaining: 2.03s\n",
      "361:\tlearn: 0.3206377\ttotal: 1.15s\tremaining: 2.03s\n",
      "362:\tlearn: 0.3203844\ttotal: 1.15s\tremaining: 2.02s\n",
      "363:\tlearn: 0.3199615\ttotal: 1.16s\tremaining: 2.02s\n",
      "364:\tlearn: 0.3196000\ttotal: 1.16s\tremaining: 2.02s\n",
      "365:\tlearn: 0.3192366\ttotal: 1.16s\tremaining: 2.01s\n",
      "366:\tlearn: 0.3189433\ttotal: 1.17s\tremaining: 2.01s\n",
      "367:\tlearn: 0.3187596\ttotal: 1.17s\tremaining: 2s\n",
      "368:\tlearn: 0.3183334\ttotal: 1.17s\tremaining: 2s\n",
      "369:\tlearn: 0.3181075\ttotal: 1.17s\tremaining: 2s\n",
      "370:\tlearn: 0.3179868\ttotal: 1.18s\tremaining: 1.99s\n",
      "371:\tlearn: 0.3177287\ttotal: 1.18s\tremaining: 1.99s\n",
      "372:\tlearn: 0.3174213\ttotal: 1.18s\tremaining: 1.99s\n",
      "373:\tlearn: 0.3173105\ttotal: 1.18s\tremaining: 1.98s\n",
      "374:\tlearn: 0.3169930\ttotal: 1.19s\tremaining: 1.98s\n",
      "375:\tlearn: 0.3167770\ttotal: 1.19s\tremaining: 1.97s\n",
      "376:\tlearn: 0.3164586\ttotal: 1.19s\tremaining: 1.97s\n",
      "377:\tlearn: 0.3162964\ttotal: 1.19s\tremaining: 1.97s\n",
      "378:\tlearn: 0.3157005\ttotal: 1.2s\tremaining: 1.96s\n",
      "379:\tlearn: 0.3154507\ttotal: 1.2s\tremaining: 1.96s\n",
      "380:\tlearn: 0.3150930\ttotal: 1.2s\tremaining: 1.95s\n",
      "381:\tlearn: 0.3147706\ttotal: 1.21s\tremaining: 1.95s\n",
      "382:\tlearn: 0.3143755\ttotal: 1.21s\tremaining: 1.95s\n",
      "383:\tlearn: 0.3139819\ttotal: 1.21s\tremaining: 1.94s\n",
      "384:\tlearn: 0.3136702\ttotal: 1.21s\tremaining: 1.94s\n",
      "385:\tlearn: 0.3134343\ttotal: 1.22s\tremaining: 1.94s\n",
      "386:\tlearn: 0.3133741\ttotal: 1.22s\tremaining: 1.93s\n",
      "387:\tlearn: 0.3130709\ttotal: 1.22s\tremaining: 1.93s\n",
      "388:\tlearn: 0.3128360\ttotal: 1.23s\tremaining: 1.92s\n",
      "389:\tlearn: 0.3124279\ttotal: 1.23s\tremaining: 1.92s\n",
      "390:\tlearn: 0.3121571\ttotal: 1.23s\tremaining: 1.92s\n",
      "391:\tlearn: 0.3118727\ttotal: 1.23s\tremaining: 1.91s\n",
      "392:\tlearn: 0.3117433\ttotal: 1.24s\tremaining: 1.91s\n",
      "393:\tlearn: 0.3113093\ttotal: 1.24s\tremaining: 1.9s\n",
      "394:\tlearn: 0.3111498\ttotal: 1.24s\tremaining: 1.9s\n",
      "395:\tlearn: 0.3108884\ttotal: 1.24s\tremaining: 1.9s\n",
      "396:\tlearn: 0.3106935\ttotal: 1.25s\tremaining: 1.89s\n",
      "397:\tlearn: 0.3104544\ttotal: 1.25s\tremaining: 1.89s\n",
      "398:\tlearn: 0.3100203\ttotal: 1.25s\tremaining: 1.89s\n",
      "399:\tlearn: 0.3097922\ttotal: 1.25s\tremaining: 1.88s\n",
      "400:\tlearn: 0.3093006\ttotal: 1.26s\tremaining: 1.88s\n",
      "401:\tlearn: 0.3090082\ttotal: 1.26s\tremaining: 1.88s\n",
      "402:\tlearn: 0.3086350\ttotal: 1.27s\tremaining: 1.88s\n",
      "403:\tlearn: 0.3085525\ttotal: 1.27s\tremaining: 1.87s\n",
      "404:\tlearn: 0.3082926\ttotal: 1.27s\tremaining: 1.87s\n",
      "405:\tlearn: 0.3079534\ttotal: 1.28s\tremaining: 1.87s\n",
      "406:\tlearn: 0.3077615\ttotal: 1.28s\tremaining: 1.86s\n",
      "407:\tlearn: 0.3076204\ttotal: 1.28s\tremaining: 1.86s\n",
      "408:\tlearn: 0.3073705\ttotal: 1.28s\tremaining: 1.86s\n",
      "409:\tlearn: 0.3072051\ttotal: 1.29s\tremaining: 1.85s\n",
      "410:\tlearn: 0.3069296\ttotal: 1.29s\tremaining: 1.85s\n",
      "411:\tlearn: 0.3067305\ttotal: 1.29s\tremaining: 1.85s\n",
      "412:\tlearn: 0.3064667\ttotal: 1.3s\tremaining: 1.84s\n",
      "413:\tlearn: 0.3062177\ttotal: 1.3s\tremaining: 1.84s\n",
      "414:\tlearn: 0.3059366\ttotal: 1.3s\tremaining: 1.84s\n",
      "415:\tlearn: 0.3057826\ttotal: 1.3s\tremaining: 1.83s\n",
      "416:\tlearn: 0.3053670\ttotal: 1.31s\tremaining: 1.83s\n",
      "417:\tlearn: 0.3052102\ttotal: 1.31s\tremaining: 1.83s\n",
      "418:\tlearn: 0.3048241\ttotal: 1.31s\tremaining: 1.82s\n",
      "419:\tlearn: 0.3043941\ttotal: 1.32s\tremaining: 1.82s\n",
      "420:\tlearn: 0.3042906\ttotal: 1.32s\tremaining: 1.82s\n",
      "421:\tlearn: 0.3042106\ttotal: 1.32s\tremaining: 1.81s\n",
      "422:\tlearn: 0.3039127\ttotal: 1.33s\tremaining: 1.81s\n",
      "423:\tlearn: 0.3036822\ttotal: 1.33s\tremaining: 1.81s\n",
      "424:\tlearn: 0.3032348\ttotal: 1.33s\tremaining: 1.8s\n",
      "425:\tlearn: 0.3030739\ttotal: 1.34s\tremaining: 1.8s\n",
      "426:\tlearn: 0.3027756\ttotal: 1.34s\tremaining: 1.8s\n",
      "427:\tlearn: 0.3025508\ttotal: 1.34s\tremaining: 1.79s\n",
      "428:\tlearn: 0.3022920\ttotal: 1.34s\tremaining: 1.79s\n",
      "429:\tlearn: 0.3020336\ttotal: 1.35s\tremaining: 1.78s\n",
      "430:\tlearn: 0.3018311\ttotal: 1.35s\tremaining: 1.78s\n",
      "431:\tlearn: 0.3016490\ttotal: 1.35s\tremaining: 1.78s\n",
      "432:\tlearn: 0.3014655\ttotal: 1.35s\tremaining: 1.77s\n",
      "433:\tlearn: 0.3011402\ttotal: 1.36s\tremaining: 1.77s\n",
      "434:\tlearn: 0.3008430\ttotal: 1.36s\tremaining: 1.77s\n",
      "435:\tlearn: 0.3005948\ttotal: 1.36s\tremaining: 1.76s\n",
      "436:\tlearn: 0.3003246\ttotal: 1.37s\tremaining: 1.76s\n",
      "437:\tlearn: 0.2998332\ttotal: 1.37s\tremaining: 1.76s\n",
      "438:\tlearn: 0.2995628\ttotal: 1.37s\tremaining: 1.75s\n",
      "439:\tlearn: 0.2993476\ttotal: 1.38s\tremaining: 1.75s\n",
      "440:\tlearn: 0.2992118\ttotal: 1.38s\tremaining: 1.75s\n",
      "441:\tlearn: 0.2989786\ttotal: 1.38s\tremaining: 1.74s\n",
      "442:\tlearn: 0.2987332\ttotal: 1.38s\tremaining: 1.74s\n",
      "443:\tlearn: 0.2983521\ttotal: 1.39s\tremaining: 1.74s\n",
      "444:\tlearn: 0.2981144\ttotal: 1.39s\tremaining: 1.73s\n",
      "445:\tlearn: 0.2979409\ttotal: 1.39s\tremaining: 1.73s\n",
      "446:\tlearn: 0.2976007\ttotal: 1.39s\tremaining: 1.73s\n",
      "447:\tlearn: 0.2974376\ttotal: 1.4s\tremaining: 1.72s\n",
      "448:\tlearn: 0.2971482\ttotal: 1.4s\tremaining: 1.72s\n",
      "449:\tlearn: 0.2970532\ttotal: 1.4s\tremaining: 1.71s\n",
      "450:\tlearn: 0.2968756\ttotal: 1.41s\tremaining: 1.71s\n",
      "451:\tlearn: 0.2966521\ttotal: 1.41s\tremaining: 1.71s\n",
      "452:\tlearn: 0.2963392\ttotal: 1.41s\tremaining: 1.71s\n",
      "453:\tlearn: 0.2962526\ttotal: 1.42s\tremaining: 1.7s\n",
      "454:\tlearn: 0.2959383\ttotal: 1.42s\tremaining: 1.7s\n",
      "455:\tlearn: 0.2957414\ttotal: 1.42s\tremaining: 1.7s\n",
      "456:\tlearn: 0.2954628\ttotal: 1.42s\tremaining: 1.69s\n",
      "457:\tlearn: 0.2951344\ttotal: 1.43s\tremaining: 1.69s\n",
      "458:\tlearn: 0.2949065\ttotal: 1.43s\tremaining: 1.69s\n",
      "459:\tlearn: 0.2948312\ttotal: 1.43s\tremaining: 1.68s\n",
      "460:\tlearn: 0.2946606\ttotal: 1.44s\tremaining: 1.68s\n",
      "461:\tlearn: 0.2944450\ttotal: 1.44s\tremaining: 1.68s\n",
      "462:\tlearn: 0.2942192\ttotal: 1.44s\tremaining: 1.67s\n",
      "463:\tlearn: 0.2940629\ttotal: 1.44s\tremaining: 1.67s\n",
      "464:\tlearn: 0.2936862\ttotal: 1.45s\tremaining: 1.66s\n",
      "465:\tlearn: 0.2934564\ttotal: 1.45s\tremaining: 1.66s\n",
      "466:\tlearn: 0.2931260\ttotal: 1.45s\tremaining: 1.66s\n",
      "467:\tlearn: 0.2927964\ttotal: 1.46s\tremaining: 1.65s\n",
      "468:\tlearn: 0.2926018\ttotal: 1.46s\tremaining: 1.65s\n",
      "469:\tlearn: 0.2923854\ttotal: 1.46s\tremaining: 1.65s\n",
      "470:\tlearn: 0.2921834\ttotal: 1.46s\tremaining: 1.64s\n",
      "471:\tlearn: 0.2919782\ttotal: 1.47s\tremaining: 1.64s\n",
      "472:\tlearn: 0.2917113\ttotal: 1.47s\tremaining: 1.64s\n",
      "473:\tlearn: 0.2912696\ttotal: 1.47s\tremaining: 1.63s\n",
      "474:\tlearn: 0.2910249\ttotal: 1.47s\tremaining: 1.63s\n",
      "475:\tlearn: 0.2907673\ttotal: 1.48s\tremaining: 1.63s\n",
      "476:\tlearn: 0.2904237\ttotal: 1.48s\tremaining: 1.62s\n",
      "477:\tlearn: 0.2902551\ttotal: 1.48s\tremaining: 1.62s\n",
      "478:\tlearn: 0.2899177\ttotal: 1.49s\tremaining: 1.61s\n",
      "479:\tlearn: 0.2897175\ttotal: 1.49s\tremaining: 1.61s\n",
      "480:\tlearn: 0.2896110\ttotal: 1.49s\tremaining: 1.61s\n",
      "481:\tlearn: 0.2892980\ttotal: 1.49s\tremaining: 1.6s\n",
      "482:\tlearn: 0.2889870\ttotal: 1.5s\tremaining: 1.6s\n",
      "483:\tlearn: 0.2887236\ttotal: 1.5s\tremaining: 1.6s\n",
      "484:\tlearn: 0.2885040\ttotal: 1.5s\tremaining: 1.59s\n",
      "485:\tlearn: 0.2881886\ttotal: 1.5s\tremaining: 1.59s\n",
      "486:\tlearn: 0.2880321\ttotal: 1.51s\tremaining: 1.59s\n",
      "487:\tlearn: 0.2877498\ttotal: 1.51s\tremaining: 1.58s\n",
      "488:\tlearn: 0.2874975\ttotal: 1.51s\tremaining: 1.58s\n",
      "489:\tlearn: 0.2870005\ttotal: 1.51s\tremaining: 1.58s\n",
      "490:\tlearn: 0.2867773\ttotal: 1.52s\tremaining: 1.57s\n",
      "491:\tlearn: 0.2866602\ttotal: 1.52s\tremaining: 1.57s\n",
      "492:\tlearn: 0.2864573\ttotal: 1.52s\tremaining: 1.56s\n",
      "493:\tlearn: 0.2862369\ttotal: 1.52s\tremaining: 1.56s\n",
      "494:\tlearn: 0.2860048\ttotal: 1.53s\tremaining: 1.56s\n",
      "495:\tlearn: 0.2858847\ttotal: 1.53s\tremaining: 1.56s\n",
      "496:\tlearn: 0.2856706\ttotal: 1.53s\tremaining: 1.55s\n",
      "497:\tlearn: 0.2853657\ttotal: 1.54s\tremaining: 1.55s\n",
      "498:\tlearn: 0.2851930\ttotal: 1.54s\tremaining: 1.55s\n",
      "499:\tlearn: 0.2848883\ttotal: 1.54s\tremaining: 1.54s\n",
      "500:\tlearn: 0.2847668\ttotal: 1.55s\tremaining: 1.54s\n",
      "501:\tlearn: 0.2846362\ttotal: 1.55s\tremaining: 1.54s\n",
      "502:\tlearn: 0.2843093\ttotal: 1.55s\tremaining: 1.53s\n",
      "503:\tlearn: 0.2841273\ttotal: 1.55s\tremaining: 1.53s\n",
      "504:\tlearn: 0.2839508\ttotal: 1.56s\tremaining: 1.53s\n",
      "505:\tlearn: 0.2838791\ttotal: 1.56s\tremaining: 1.52s\n",
      "506:\tlearn: 0.2835382\ttotal: 1.56s\tremaining: 1.52s\n",
      "507:\tlearn: 0.2832336\ttotal: 1.56s\tremaining: 1.51s\n",
      "508:\tlearn: 0.2830058\ttotal: 1.57s\tremaining: 1.51s\n",
      "509:\tlearn: 0.2828549\ttotal: 1.57s\tremaining: 1.51s\n",
      "510:\tlearn: 0.2826536\ttotal: 1.57s\tremaining: 1.5s\n",
      "511:\tlearn: 0.2821348\ttotal: 1.58s\tremaining: 1.5s\n",
      "512:\tlearn: 0.2817643\ttotal: 1.58s\tremaining: 1.5s\n",
      "513:\tlearn: 0.2817056\ttotal: 1.58s\tremaining: 1.5s\n",
      "514:\tlearn: 0.2815301\ttotal: 1.59s\tremaining: 1.49s\n",
      "515:\tlearn: 0.2812127\ttotal: 1.59s\tremaining: 1.49s\n",
      "516:\tlearn: 0.2811157\ttotal: 1.59s\tremaining: 1.49s\n",
      "517:\tlearn: 0.2810220\ttotal: 1.59s\tremaining: 1.48s\n",
      "518:\tlearn: 0.2808123\ttotal: 1.6s\tremaining: 1.48s\n",
      "519:\tlearn: 0.2804794\ttotal: 1.6s\tremaining: 1.48s\n",
      "520:\tlearn: 0.2802338\ttotal: 1.6s\tremaining: 1.47s\n",
      "521:\tlearn: 0.2800138\ttotal: 1.61s\tremaining: 1.47s\n",
      "522:\tlearn: 0.2798458\ttotal: 1.61s\tremaining: 1.47s\n",
      "523:\tlearn: 0.2795009\ttotal: 1.61s\tremaining: 1.46s\n",
      "524:\tlearn: 0.2792134\ttotal: 1.61s\tremaining: 1.46s\n",
      "525:\tlearn: 0.2789277\ttotal: 1.62s\tremaining: 1.46s\n",
      "526:\tlearn: 0.2787092\ttotal: 1.62s\tremaining: 1.46s\n",
      "527:\tlearn: 0.2785171\ttotal: 1.62s\tremaining: 1.45s\n",
      "528:\tlearn: 0.2782431\ttotal: 1.63s\tremaining: 1.45s\n",
      "529:\tlearn: 0.2780792\ttotal: 1.63s\tremaining: 1.45s\n",
      "530:\tlearn: 0.2778468\ttotal: 1.63s\tremaining: 1.44s\n",
      "531:\tlearn: 0.2776214\ttotal: 1.64s\tremaining: 1.44s\n",
      "532:\tlearn: 0.2775225\ttotal: 1.64s\tremaining: 1.44s\n",
      "533:\tlearn: 0.2772761\ttotal: 1.64s\tremaining: 1.43s\n",
      "534:\tlearn: 0.2770526\ttotal: 1.64s\tremaining: 1.43s\n",
      "535:\tlearn: 0.2768688\ttotal: 1.65s\tremaining: 1.43s\n",
      "536:\tlearn: 0.2767198\ttotal: 1.65s\tremaining: 1.42s\n",
      "537:\tlearn: 0.2763635\ttotal: 1.65s\tremaining: 1.42s\n",
      "538:\tlearn: 0.2761839\ttotal: 1.66s\tremaining: 1.42s\n",
      "539:\tlearn: 0.2760329\ttotal: 1.66s\tremaining: 1.41s\n",
      "540:\tlearn: 0.2758814\ttotal: 1.66s\tremaining: 1.41s\n",
      "541:\tlearn: 0.2756554\ttotal: 1.66s\tremaining: 1.41s\n",
      "542:\tlearn: 0.2753469\ttotal: 1.67s\tremaining: 1.4s\n",
      "543:\tlearn: 0.2751437\ttotal: 1.67s\tremaining: 1.4s\n",
      "544:\tlearn: 0.2749836\ttotal: 1.67s\tremaining: 1.4s\n",
      "545:\tlearn: 0.2748715\ttotal: 1.67s\tremaining: 1.39s\n",
      "546:\tlearn: 0.2748156\ttotal: 1.68s\tremaining: 1.39s\n",
      "547:\tlearn: 0.2746396\ttotal: 1.68s\tremaining: 1.39s\n",
      "548:\tlearn: 0.2742751\ttotal: 1.68s\tremaining: 1.38s\n",
      "549:\tlearn: 0.2740222\ttotal: 1.69s\tremaining: 1.38s\n",
      "550:\tlearn: 0.2737643\ttotal: 1.69s\tremaining: 1.38s\n",
      "551:\tlearn: 0.2735570\ttotal: 1.69s\tremaining: 1.37s\n",
      "552:\tlearn: 0.2732473\ttotal: 1.7s\tremaining: 1.37s\n",
      "553:\tlearn: 0.2730397\ttotal: 1.7s\tremaining: 1.37s\n",
      "554:\tlearn: 0.2726986\ttotal: 1.7s\tremaining: 1.36s\n",
      "555:\tlearn: 0.2726207\ttotal: 1.7s\tremaining: 1.36s\n",
      "556:\tlearn: 0.2724192\ttotal: 1.71s\tremaining: 1.36s\n",
      "557:\tlearn: 0.2722507\ttotal: 1.71s\tremaining: 1.36s\n",
      "558:\tlearn: 0.2718974\ttotal: 1.72s\tremaining: 1.35s\n",
      "559:\tlearn: 0.2717007\ttotal: 1.72s\tremaining: 1.35s\n",
      "560:\tlearn: 0.2714049\ttotal: 1.72s\tremaining: 1.35s\n",
      "561:\tlearn: 0.2712418\ttotal: 1.72s\tremaining: 1.34s\n",
      "562:\tlearn: 0.2709507\ttotal: 1.73s\tremaining: 1.34s\n",
      "563:\tlearn: 0.2707628\ttotal: 1.73s\tremaining: 1.34s\n",
      "564:\tlearn: 0.2705255\ttotal: 1.73s\tremaining: 1.33s\n",
      "565:\tlearn: 0.2703786\ttotal: 1.73s\tremaining: 1.33s\n",
      "566:\tlearn: 0.2702270\ttotal: 1.74s\tremaining: 1.33s\n",
      "567:\tlearn: 0.2699564\ttotal: 1.74s\tremaining: 1.32s\n",
      "568:\tlearn: 0.2697149\ttotal: 1.74s\tremaining: 1.32s\n",
      "569:\tlearn: 0.2695101\ttotal: 1.75s\tremaining: 1.32s\n",
      "570:\tlearn: 0.2693226\ttotal: 1.75s\tremaining: 1.32s\n",
      "571:\tlearn: 0.2692401\ttotal: 1.75s\tremaining: 1.31s\n",
      "572:\tlearn: 0.2690312\ttotal: 1.76s\tremaining: 1.31s\n",
      "573:\tlearn: 0.2688283\ttotal: 1.76s\tremaining: 1.31s\n",
      "574:\tlearn: 0.2685991\ttotal: 1.76s\tremaining: 1.3s\n",
      "575:\tlearn: 0.2684519\ttotal: 1.77s\tremaining: 1.3s\n",
      "576:\tlearn: 0.2681852\ttotal: 1.77s\tremaining: 1.3s\n",
      "577:\tlearn: 0.2679966\ttotal: 1.77s\tremaining: 1.29s\n",
      "578:\tlearn: 0.2678214\ttotal: 1.77s\tremaining: 1.29s\n",
      "579:\tlearn: 0.2675508\ttotal: 1.78s\tremaining: 1.29s\n",
      "580:\tlearn: 0.2672992\ttotal: 1.78s\tremaining: 1.28s\n",
      "581:\tlearn: 0.2671163\ttotal: 1.78s\tremaining: 1.28s\n",
      "582:\tlearn: 0.2669239\ttotal: 1.79s\tremaining: 1.28s\n",
      "583:\tlearn: 0.2667451\ttotal: 1.79s\tremaining: 1.27s\n",
      "584:\tlearn: 0.2665639\ttotal: 1.79s\tremaining: 1.27s\n",
      "585:\tlearn: 0.2662928\ttotal: 1.79s\tremaining: 1.27s\n",
      "586:\tlearn: 0.2659768\ttotal: 1.8s\tremaining: 1.26s\n",
      "587:\tlearn: 0.2657706\ttotal: 1.8s\tremaining: 1.26s\n",
      "588:\tlearn: 0.2656701\ttotal: 1.8s\tremaining: 1.26s\n",
      "589:\tlearn: 0.2653913\ttotal: 1.8s\tremaining: 1.25s\n",
      "590:\tlearn: 0.2652461\ttotal: 1.81s\tremaining: 1.25s\n",
      "591:\tlearn: 0.2650850\ttotal: 1.81s\tremaining: 1.25s\n",
      "592:\tlearn: 0.2649887\ttotal: 1.81s\tremaining: 1.25s\n",
      "593:\tlearn: 0.2649084\ttotal: 1.82s\tremaining: 1.24s\n",
      "594:\tlearn: 0.2647971\ttotal: 1.82s\tremaining: 1.24s\n",
      "595:\tlearn: 0.2646760\ttotal: 1.82s\tremaining: 1.24s\n",
      "596:\tlearn: 0.2643129\ttotal: 1.83s\tremaining: 1.23s\n",
      "597:\tlearn: 0.2641118\ttotal: 1.83s\tremaining: 1.23s\n",
      "598:\tlearn: 0.2638480\ttotal: 1.83s\tremaining: 1.23s\n",
      "599:\tlearn: 0.2636756\ttotal: 1.83s\tremaining: 1.22s\n",
      "600:\tlearn: 0.2634917\ttotal: 1.84s\tremaining: 1.22s\n",
      "601:\tlearn: 0.2632788\ttotal: 1.84s\tremaining: 1.22s\n",
      "602:\tlearn: 0.2630358\ttotal: 1.84s\tremaining: 1.21s\n",
      "603:\tlearn: 0.2627907\ttotal: 1.84s\tremaining: 1.21s\n",
      "604:\tlearn: 0.2626487\ttotal: 1.85s\tremaining: 1.21s\n",
      "605:\tlearn: 0.2623086\ttotal: 1.85s\tremaining: 1.2s\n",
      "606:\tlearn: 0.2622148\ttotal: 1.85s\tremaining: 1.2s\n",
      "607:\tlearn: 0.2619977\ttotal: 1.86s\tremaining: 1.2s\n",
      "608:\tlearn: 0.2618683\ttotal: 1.86s\tremaining: 1.19s\n",
      "609:\tlearn: 0.2617262\ttotal: 1.86s\tremaining: 1.19s\n",
      "610:\tlearn: 0.2614272\ttotal: 1.86s\tremaining: 1.19s\n",
      "611:\tlearn: 0.2612679\ttotal: 1.87s\tremaining: 1.18s\n",
      "612:\tlearn: 0.2610038\ttotal: 1.87s\tremaining: 1.18s\n",
      "613:\tlearn: 0.2607667\ttotal: 1.87s\tremaining: 1.18s\n",
      "614:\tlearn: 0.2605145\ttotal: 1.88s\tremaining: 1.17s\n",
      "615:\tlearn: 0.2602892\ttotal: 1.88s\tremaining: 1.17s\n",
      "616:\tlearn: 0.2599984\ttotal: 1.88s\tremaining: 1.17s\n",
      "617:\tlearn: 0.2598193\ttotal: 1.88s\tremaining: 1.16s\n",
      "618:\tlearn: 0.2596203\ttotal: 1.89s\tremaining: 1.16s\n",
      "619:\tlearn: 0.2594357\ttotal: 1.89s\tremaining: 1.16s\n",
      "620:\tlearn: 0.2590858\ttotal: 1.89s\tremaining: 1.16s\n",
      "621:\tlearn: 0.2589773\ttotal: 1.9s\tremaining: 1.15s\n",
      "622:\tlearn: 0.2585929\ttotal: 1.9s\tremaining: 1.15s\n",
      "623:\tlearn: 0.2581706\ttotal: 1.91s\tremaining: 1.15s\n",
      "624:\tlearn: 0.2578699\ttotal: 1.91s\tremaining: 1.14s\n",
      "625:\tlearn: 0.2576291\ttotal: 1.91s\tremaining: 1.14s\n",
      "626:\tlearn: 0.2574157\ttotal: 1.91s\tremaining: 1.14s\n",
      "627:\tlearn: 0.2569596\ttotal: 1.92s\tremaining: 1.13s\n",
      "628:\tlearn: 0.2566992\ttotal: 1.92s\tremaining: 1.13s\n",
      "629:\tlearn: 0.2564773\ttotal: 1.92s\tremaining: 1.13s\n",
      "630:\tlearn: 0.2563904\ttotal: 1.92s\tremaining: 1.13s\n",
      "631:\tlearn: 0.2562541\ttotal: 1.93s\tremaining: 1.12s\n",
      "632:\tlearn: 0.2560905\ttotal: 1.93s\tremaining: 1.12s\n",
      "633:\tlearn: 0.2559196\ttotal: 1.93s\tremaining: 1.12s\n",
      "634:\tlearn: 0.2556727\ttotal: 1.94s\tremaining: 1.11s\n",
      "635:\tlearn: 0.2554610\ttotal: 1.94s\tremaining: 1.11s\n",
      "636:\tlearn: 0.2553226\ttotal: 1.94s\tremaining: 1.11s\n",
      "637:\tlearn: 0.2551740\ttotal: 1.95s\tremaining: 1.1s\n",
      "638:\tlearn: 0.2549789\ttotal: 1.95s\tremaining: 1.1s\n",
      "639:\tlearn: 0.2547121\ttotal: 1.95s\tremaining: 1.1s\n",
      "640:\tlearn: 0.2546132\ttotal: 1.95s\tremaining: 1.09s\n",
      "641:\tlearn: 0.2543087\ttotal: 1.96s\tremaining: 1.09s\n",
      "642:\tlearn: 0.2541042\ttotal: 1.96s\tremaining: 1.09s\n",
      "643:\tlearn: 0.2538693\ttotal: 1.96s\tremaining: 1.08s\n",
      "644:\tlearn: 0.2535917\ttotal: 1.97s\tremaining: 1.08s\n",
      "645:\tlearn: 0.2533902\ttotal: 1.97s\tremaining: 1.08s\n",
      "646:\tlearn: 0.2532326\ttotal: 1.97s\tremaining: 1.07s\n",
      "647:\tlearn: 0.2530459\ttotal: 1.97s\tremaining: 1.07s\n",
      "648:\tlearn: 0.2528119\ttotal: 1.98s\tremaining: 1.07s\n",
      "649:\tlearn: 0.2525547\ttotal: 1.98s\tremaining: 1.06s\n",
      "650:\tlearn: 0.2524567\ttotal: 1.98s\tremaining: 1.06s\n",
      "651:\tlearn: 0.2521524\ttotal: 1.98s\tremaining: 1.06s\n",
      "652:\tlearn: 0.2518746\ttotal: 1.99s\tremaining: 1.05s\n",
      "653:\tlearn: 0.2515442\ttotal: 1.99s\tremaining: 1.05s\n",
      "654:\tlearn: 0.2513742\ttotal: 1.99s\tremaining: 1.05s\n",
      "655:\tlearn: 0.2511759\ttotal: 2s\tremaining: 1.05s\n",
      "656:\tlearn: 0.2508741\ttotal: 2s\tremaining: 1.04s\n",
      "657:\tlearn: 0.2507077\ttotal: 2s\tremaining: 1.04s\n",
      "658:\tlearn: 0.2505781\ttotal: 2s\tremaining: 1.04s\n",
      "659:\tlearn: 0.2505100\ttotal: 2.01s\tremaining: 1.03s\n",
      "660:\tlearn: 0.2501853\ttotal: 2.01s\tremaining: 1.03s\n",
      "661:\tlearn: 0.2500339\ttotal: 2.01s\tremaining: 1.03s\n",
      "662:\tlearn: 0.2498808\ttotal: 2.01s\tremaining: 1.02s\n",
      "663:\tlearn: 0.2496646\ttotal: 2.02s\tremaining: 1.02s\n",
      "664:\tlearn: 0.2493293\ttotal: 2.02s\tremaining: 1.02s\n",
      "665:\tlearn: 0.2491573\ttotal: 2.02s\tremaining: 1.01s\n",
      "666:\tlearn: 0.2489233\ttotal: 2.02s\tremaining: 1.01s\n",
      "667:\tlearn: 0.2488568\ttotal: 2.03s\tremaining: 1.01s\n",
      "668:\tlearn: 0.2486144\ttotal: 2.03s\tremaining: 1s\n",
      "669:\tlearn: 0.2483773\ttotal: 2.03s\tremaining: 1s\n",
      "670:\tlearn: 0.2482201\ttotal: 2.04s\tremaining: 999ms\n",
      "671:\tlearn: 0.2481445\ttotal: 2.04s\tremaining: 996ms\n",
      "672:\tlearn: 0.2480453\ttotal: 2.04s\tremaining: 993ms\n",
      "673:\tlearn: 0.2478585\ttotal: 2.05s\tremaining: 990ms\n",
      "674:\tlearn: 0.2477204\ttotal: 2.05s\tremaining: 987ms\n",
      "675:\tlearn: 0.2476415\ttotal: 2.05s\tremaining: 984ms\n",
      "676:\tlearn: 0.2473815\ttotal: 2.06s\tremaining: 980ms\n",
      "677:\tlearn: 0.2471798\ttotal: 2.06s\tremaining: 979ms\n",
      "678:\tlearn: 0.2470178\ttotal: 2.06s\tremaining: 975ms\n",
      "679:\tlearn: 0.2468595\ttotal: 2.06s\tremaining: 972ms\n",
      "680:\tlearn: 0.2465018\ttotal: 2.07s\tremaining: 969ms\n",
      "681:\tlearn: 0.2463322\ttotal: 2.07s\tremaining: 966ms\n",
      "682:\tlearn: 0.2461881\ttotal: 2.07s\tremaining: 963ms\n",
      "683:\tlearn: 0.2460320\ttotal: 2.08s\tremaining: 959ms\n",
      "684:\tlearn: 0.2459155\ttotal: 2.08s\tremaining: 956ms\n",
      "685:\tlearn: 0.2457787\ttotal: 2.08s\tremaining: 953ms\n",
      "686:\tlearn: 0.2455912\ttotal: 2.08s\tremaining: 950ms\n",
      "687:\tlearn: 0.2453303\ttotal: 2.09s\tremaining: 947ms\n",
      "688:\tlearn: 0.2451950\ttotal: 2.09s\tremaining: 943ms\n",
      "689:\tlearn: 0.2450738\ttotal: 2.09s\tremaining: 940ms\n",
      "690:\tlearn: 0.2448890\ttotal: 2.1s\tremaining: 937ms\n",
      "691:\tlearn: 0.2445965\ttotal: 2.1s\tremaining: 934ms\n",
      "692:\tlearn: 0.2444868\ttotal: 2.1s\tremaining: 931ms\n",
      "693:\tlearn: 0.2443674\ttotal: 2.1s\tremaining: 928ms\n",
      "694:\tlearn: 0.2442138\ttotal: 2.11s\tremaining: 924ms\n",
      "695:\tlearn: 0.2439370\ttotal: 2.11s\tremaining: 921ms\n",
      "696:\tlearn: 0.2438278\ttotal: 2.11s\tremaining: 918ms\n",
      "697:\tlearn: 0.2435801\ttotal: 2.11s\tremaining: 915ms\n",
      "698:\tlearn: 0.2434457\ttotal: 2.12s\tremaining: 912ms\n",
      "699:\tlearn: 0.2432475\ttotal: 2.12s\tremaining: 909ms\n",
      "700:\tlearn: 0.2428014\ttotal: 2.12s\tremaining: 906ms\n",
      "701:\tlearn: 0.2424086\ttotal: 2.13s\tremaining: 902ms\n",
      "702:\tlearn: 0.2423574\ttotal: 2.13s\tremaining: 899ms\n",
      "703:\tlearn: 0.2422899\ttotal: 2.13s\tremaining: 896ms\n",
      "704:\tlearn: 0.2420831\ttotal: 2.13s\tremaining: 893ms\n",
      "705:\tlearn: 0.2418675\ttotal: 2.14s\tremaining: 890ms\n",
      "706:\tlearn: 0.2417139\ttotal: 2.14s\tremaining: 887ms\n",
      "707:\tlearn: 0.2416066\ttotal: 2.14s\tremaining: 883ms\n",
      "708:\tlearn: 0.2413955\ttotal: 2.15s\tremaining: 880ms\n",
      "709:\tlearn: 0.2412798\ttotal: 2.15s\tremaining: 877ms\n",
      "710:\tlearn: 0.2409843\ttotal: 2.15s\tremaining: 874ms\n",
      "711:\tlearn: 0.2405534\ttotal: 2.15s\tremaining: 871ms\n",
      "712:\tlearn: 0.2403035\ttotal: 2.16s\tremaining: 868ms\n",
      "713:\tlearn: 0.2401702\ttotal: 2.16s\tremaining: 865ms\n",
      "714:\tlearn: 0.2399140\ttotal: 2.16s\tremaining: 862ms\n",
      "715:\tlearn: 0.2397337\ttotal: 2.16s\tremaining: 858ms\n",
      "716:\tlearn: 0.2396964\ttotal: 2.17s\tremaining: 855ms\n",
      "717:\tlearn: 0.2395390\ttotal: 2.17s\tremaining: 852ms\n",
      "718:\tlearn: 0.2392122\ttotal: 2.17s\tremaining: 849ms\n",
      "719:\tlearn: 0.2390619\ttotal: 2.17s\tremaining: 846ms\n",
      "720:\tlearn: 0.2389439\ttotal: 2.18s\tremaining: 843ms\n",
      "721:\tlearn: 0.2385429\ttotal: 2.18s\tremaining: 840ms\n",
      "722:\tlearn: 0.2383707\ttotal: 2.18s\tremaining: 836ms\n",
      "723:\tlearn: 0.2382535\ttotal: 2.19s\tremaining: 833ms\n",
      "724:\tlearn: 0.2381393\ttotal: 2.19s\tremaining: 830ms\n",
      "725:\tlearn: 0.2379856\ttotal: 2.19s\tremaining: 827ms\n",
      "726:\tlearn: 0.2377765\ttotal: 2.19s\tremaining: 824ms\n",
      "727:\tlearn: 0.2376745\ttotal: 2.2s\tremaining: 821ms\n",
      "728:\tlearn: 0.2375429\ttotal: 2.2s\tremaining: 818ms\n",
      "729:\tlearn: 0.2373491\ttotal: 2.2s\tremaining: 815ms\n",
      "730:\tlearn: 0.2370027\ttotal: 2.21s\tremaining: 812ms\n",
      "731:\tlearn: 0.2368848\ttotal: 2.21s\tremaining: 809ms\n",
      "732:\tlearn: 0.2367762\ttotal: 2.21s\tremaining: 806ms\n",
      "733:\tlearn: 0.2366998\ttotal: 2.21s\tremaining: 803ms\n",
      "734:\tlearn: 0.2364429\ttotal: 2.22s\tremaining: 800ms\n",
      "735:\tlearn: 0.2363494\ttotal: 2.22s\tremaining: 797ms\n",
      "736:\tlearn: 0.2361932\ttotal: 2.23s\tremaining: 794ms\n",
      "737:\tlearn: 0.2358759\ttotal: 2.23s\tremaining: 791ms\n",
      "738:\tlearn: 0.2356413\ttotal: 2.23s\tremaining: 788ms\n",
      "739:\tlearn: 0.2354374\ttotal: 2.23s\tremaining: 785ms\n",
      "740:\tlearn: 0.2353556\ttotal: 2.24s\tremaining: 782ms\n",
      "741:\tlearn: 0.2352407\ttotal: 2.24s\tremaining: 778ms\n",
      "742:\tlearn: 0.2350888\ttotal: 2.24s\tremaining: 775ms\n",
      "743:\tlearn: 0.2348339\ttotal: 2.24s\tremaining: 772ms\n",
      "744:\tlearn: 0.2344997\ttotal: 2.25s\tremaining: 769ms\n",
      "745:\tlearn: 0.2343514\ttotal: 2.25s\tremaining: 766ms\n",
      "746:\tlearn: 0.2341343\ttotal: 2.25s\tremaining: 763ms\n",
      "747:\tlearn: 0.2337582\ttotal: 2.25s\tremaining: 760ms\n",
      "748:\tlearn: 0.2335933\ttotal: 2.26s\tremaining: 757ms\n",
      "749:\tlearn: 0.2334627\ttotal: 2.26s\tremaining: 754ms\n",
      "750:\tlearn: 0.2332623\ttotal: 2.26s\tremaining: 751ms\n",
      "751:\tlearn: 0.2331015\ttotal: 2.27s\tremaining: 747ms\n",
      "752:\tlearn: 0.2330066\ttotal: 2.27s\tremaining: 744ms\n",
      "753:\tlearn: 0.2328590\ttotal: 2.27s\tremaining: 741ms\n",
      "754:\tlearn: 0.2327142\ttotal: 2.27s\tremaining: 738ms\n",
      "755:\tlearn: 0.2323644\ttotal: 2.28s\tremaining: 735ms\n",
      "756:\tlearn: 0.2320818\ttotal: 2.28s\tremaining: 732ms\n",
      "757:\tlearn: 0.2319190\ttotal: 2.28s\tremaining: 729ms\n",
      "758:\tlearn: 0.2315921\ttotal: 2.29s\tremaining: 726ms\n",
      "759:\tlearn: 0.2314518\ttotal: 2.29s\tremaining: 723ms\n",
      "760:\tlearn: 0.2312555\ttotal: 2.29s\tremaining: 720ms\n",
      "761:\tlearn: 0.2310545\ttotal: 2.29s\tremaining: 716ms\n",
      "762:\tlearn: 0.2309143\ttotal: 2.3s\tremaining: 713ms\n",
      "763:\tlearn: 0.2307787\ttotal: 2.3s\tremaining: 710ms\n",
      "764:\tlearn: 0.2303175\ttotal: 2.3s\tremaining: 707ms\n",
      "765:\tlearn: 0.2300101\ttotal: 2.3s\tremaining: 704ms\n",
      "766:\tlearn: 0.2298963\ttotal: 2.31s\tremaining: 701ms\n",
      "767:\tlearn: 0.2296899\ttotal: 2.31s\tremaining: 698ms\n",
      "768:\tlearn: 0.2295813\ttotal: 2.31s\tremaining: 695ms\n",
      "769:\tlearn: 0.2292246\ttotal: 2.32s\tremaining: 692ms\n",
      "770:\tlearn: 0.2290453\ttotal: 2.32s\tremaining: 689ms\n",
      "771:\tlearn: 0.2289676\ttotal: 2.32s\tremaining: 686ms\n",
      "772:\tlearn: 0.2286484\ttotal: 2.32s\tremaining: 682ms\n",
      "773:\tlearn: 0.2284585\ttotal: 2.33s\tremaining: 679ms\n",
      "774:\tlearn: 0.2282500\ttotal: 2.33s\tremaining: 676ms\n",
      "775:\tlearn: 0.2281407\ttotal: 2.33s\tremaining: 673ms\n",
      "776:\tlearn: 0.2279219\ttotal: 2.33s\tremaining: 670ms\n",
      "777:\tlearn: 0.2276128\ttotal: 2.34s\tremaining: 667ms\n",
      "778:\tlearn: 0.2274184\ttotal: 2.34s\tremaining: 664ms\n",
      "779:\tlearn: 0.2271612\ttotal: 2.34s\tremaining: 661ms\n",
      "780:\tlearn: 0.2269394\ttotal: 2.35s\tremaining: 658ms\n",
      "781:\tlearn: 0.2268496\ttotal: 2.35s\tremaining: 655ms\n",
      "782:\tlearn: 0.2267682\ttotal: 2.35s\tremaining: 652ms\n",
      "783:\tlearn: 0.2266919\ttotal: 2.35s\tremaining: 649ms\n",
      "784:\tlearn: 0.2264667\ttotal: 2.36s\tremaining: 645ms\n",
      "785:\tlearn: 0.2261897\ttotal: 2.36s\tremaining: 642ms\n",
      "786:\tlearn: 0.2261238\ttotal: 2.36s\tremaining: 639ms\n",
      "787:\tlearn: 0.2260221\ttotal: 2.37s\tremaining: 636ms\n",
      "788:\tlearn: 0.2259542\ttotal: 2.37s\tremaining: 633ms\n",
      "789:\tlearn: 0.2257492\ttotal: 2.37s\tremaining: 630ms\n",
      "790:\tlearn: 0.2255727\ttotal: 2.37s\tremaining: 627ms\n",
      "791:\tlearn: 0.2254361\ttotal: 2.38s\tremaining: 624ms\n",
      "792:\tlearn: 0.2251975\ttotal: 2.38s\tremaining: 621ms\n",
      "793:\tlearn: 0.2251099\ttotal: 2.38s\tremaining: 618ms\n",
      "794:\tlearn: 0.2250267\ttotal: 2.38s\tremaining: 615ms\n",
      "795:\tlearn: 0.2249045\ttotal: 2.39s\tremaining: 612ms\n",
      "796:\tlearn: 0.2246708\ttotal: 2.39s\tremaining: 609ms\n",
      "797:\tlearn: 0.2244320\ttotal: 2.4s\tremaining: 606ms\n",
      "798:\tlearn: 0.2242313\ttotal: 2.4s\tremaining: 603ms\n",
      "799:\tlearn: 0.2238984\ttotal: 2.4s\tremaining: 600ms\n",
      "800:\tlearn: 0.2234516\ttotal: 2.4s\tremaining: 597ms\n",
      "801:\tlearn: 0.2233933\ttotal: 2.41s\tremaining: 594ms\n",
      "802:\tlearn: 0.2232868\ttotal: 2.41s\tremaining: 591ms\n",
      "803:\tlearn: 0.2230518\ttotal: 2.41s\tremaining: 588ms\n",
      "804:\tlearn: 0.2228824\ttotal: 2.41s\tremaining: 585ms\n",
      "805:\tlearn: 0.2226697\ttotal: 2.42s\tremaining: 582ms\n",
      "806:\tlearn: 0.2225086\ttotal: 2.42s\tremaining: 579ms\n",
      "807:\tlearn: 0.2223386\ttotal: 2.42s\tremaining: 576ms\n",
      "808:\tlearn: 0.2221959\ttotal: 2.42s\tremaining: 573ms\n",
      "809:\tlearn: 0.2219787\ttotal: 2.43s\tremaining: 570ms\n",
      "810:\tlearn: 0.2216724\ttotal: 2.43s\tremaining: 566ms\n",
      "811:\tlearn: 0.2214549\ttotal: 2.43s\tremaining: 563ms\n",
      "812:\tlearn: 0.2211909\ttotal: 2.44s\tremaining: 560ms\n",
      "813:\tlearn: 0.2208207\ttotal: 2.44s\tremaining: 557ms\n",
      "814:\tlearn: 0.2206241\ttotal: 2.44s\tremaining: 554ms\n",
      "815:\tlearn: 0.2204944\ttotal: 2.44s\tremaining: 551ms\n",
      "816:\tlearn: 0.2203338\ttotal: 2.45s\tremaining: 548ms\n",
      "817:\tlearn: 0.2202234\ttotal: 2.45s\tremaining: 545ms\n",
      "818:\tlearn: 0.2199347\ttotal: 2.45s\tremaining: 542ms\n",
      "819:\tlearn: 0.2197637\ttotal: 2.46s\tremaining: 539ms\n",
      "820:\tlearn: 0.2196321\ttotal: 2.46s\tremaining: 536ms\n",
      "821:\tlearn: 0.2195166\ttotal: 2.46s\tremaining: 533ms\n",
      "822:\tlearn: 0.2193558\ttotal: 2.46s\tremaining: 530ms\n",
      "823:\tlearn: 0.2192363\ttotal: 2.47s\tremaining: 527ms\n",
      "824:\tlearn: 0.2190681\ttotal: 2.47s\tremaining: 524ms\n",
      "825:\tlearn: 0.2188877\ttotal: 2.47s\tremaining: 521ms\n",
      "826:\tlearn: 0.2188229\ttotal: 2.47s\tremaining: 518ms\n",
      "827:\tlearn: 0.2187377\ttotal: 2.48s\tremaining: 515ms\n",
      "828:\tlearn: 0.2185021\ttotal: 2.48s\tremaining: 512ms\n",
      "829:\tlearn: 0.2184467\ttotal: 2.48s\tremaining: 509ms\n",
      "830:\tlearn: 0.2182458\ttotal: 2.48s\tremaining: 505ms\n",
      "831:\tlearn: 0.2179170\ttotal: 2.49s\tremaining: 502ms\n",
      "832:\tlearn: 0.2177744\ttotal: 2.49s\tremaining: 499ms\n",
      "833:\tlearn: 0.2176498\ttotal: 2.49s\tremaining: 496ms\n",
      "834:\tlearn: 0.2174674\ttotal: 2.5s\tremaining: 493ms\n",
      "835:\tlearn: 0.2171573\ttotal: 2.5s\tremaining: 490ms\n",
      "836:\tlearn: 0.2170428\ttotal: 2.5s\tremaining: 487ms\n",
      "837:\tlearn: 0.2168558\ttotal: 2.5s\tremaining: 484ms\n",
      "838:\tlearn: 0.2167658\ttotal: 2.51s\tremaining: 481ms\n",
      "839:\tlearn: 0.2165640\ttotal: 2.51s\tremaining: 478ms\n",
      "840:\tlearn: 0.2164665\ttotal: 2.51s\tremaining: 475ms\n",
      "841:\tlearn: 0.2163036\ttotal: 2.52s\tremaining: 472ms\n",
      "842:\tlearn: 0.2161783\ttotal: 2.52s\tremaining: 469ms\n",
      "843:\tlearn: 0.2160460\ttotal: 2.52s\tremaining: 466ms\n",
      "844:\tlearn: 0.2159027\ttotal: 2.52s\tremaining: 463ms\n",
      "845:\tlearn: 0.2157109\ttotal: 2.53s\tremaining: 460ms\n",
      "846:\tlearn: 0.2156211\ttotal: 2.53s\tremaining: 457ms\n",
      "847:\tlearn: 0.2155515\ttotal: 2.53s\tremaining: 454ms\n",
      "848:\tlearn: 0.2154780\ttotal: 2.54s\tremaining: 451ms\n",
      "849:\tlearn: 0.2152790\ttotal: 2.54s\tremaining: 448ms\n",
      "850:\tlearn: 0.2151652\ttotal: 2.54s\tremaining: 445ms\n",
      "851:\tlearn: 0.2151018\ttotal: 2.54s\tremaining: 442ms\n",
      "852:\tlearn: 0.2149208\ttotal: 2.55s\tremaining: 439ms\n",
      "853:\tlearn: 0.2147438\ttotal: 2.55s\tremaining: 436ms\n",
      "854:\tlearn: 0.2145937\ttotal: 2.55s\tremaining: 433ms\n",
      "855:\tlearn: 0.2145381\ttotal: 2.56s\tremaining: 430ms\n",
      "856:\tlearn: 0.2144657\ttotal: 2.56s\tremaining: 427ms\n",
      "857:\tlearn: 0.2141945\ttotal: 2.56s\tremaining: 424ms\n",
      "858:\tlearn: 0.2141378\ttotal: 2.56s\tremaining: 421ms\n",
      "859:\tlearn: 0.2140764\ttotal: 2.57s\tremaining: 418ms\n",
      "860:\tlearn: 0.2139788\ttotal: 2.57s\tremaining: 415ms\n",
      "861:\tlearn: 0.2138364\ttotal: 2.57s\tremaining: 412ms\n",
      "862:\tlearn: 0.2136299\ttotal: 2.58s\tremaining: 409ms\n",
      "863:\tlearn: 0.2134113\ttotal: 2.58s\tremaining: 406ms\n",
      "864:\tlearn: 0.2132956\ttotal: 2.58s\tremaining: 403ms\n",
      "865:\tlearn: 0.2130691\ttotal: 2.58s\tremaining: 400ms\n",
      "866:\tlearn: 0.2128784\ttotal: 2.59s\tremaining: 397ms\n",
      "867:\tlearn: 0.2126727\ttotal: 2.59s\tremaining: 394ms\n",
      "868:\tlearn: 0.2125340\ttotal: 2.59s\tremaining: 391ms\n",
      "869:\tlearn: 0.2122840\ttotal: 2.6s\tremaining: 388ms\n",
      "870:\tlearn: 0.2120469\ttotal: 2.6s\tremaining: 385ms\n",
      "871:\tlearn: 0.2118639\ttotal: 2.6s\tremaining: 382ms\n",
      "872:\tlearn: 0.2117496\ttotal: 2.6s\tremaining: 379ms\n",
      "873:\tlearn: 0.2114516\ttotal: 2.61s\tremaining: 376ms\n",
      "874:\tlearn: 0.2111775\ttotal: 2.61s\tremaining: 373ms\n",
      "875:\tlearn: 0.2110101\ttotal: 2.61s\tremaining: 370ms\n",
      "876:\tlearn: 0.2107460\ttotal: 2.62s\tremaining: 367ms\n",
      "877:\tlearn: 0.2106560\ttotal: 2.62s\tremaining: 364ms\n",
      "878:\tlearn: 0.2104605\ttotal: 2.62s\tremaining: 361ms\n",
      "879:\tlearn: 0.2103590\ttotal: 2.63s\tremaining: 358ms\n",
      "880:\tlearn: 0.2103160\ttotal: 2.63s\tremaining: 355ms\n",
      "881:\tlearn: 0.2102141\ttotal: 2.63s\tremaining: 352ms\n",
      "882:\tlearn: 0.2098803\ttotal: 2.63s\tremaining: 349ms\n",
      "883:\tlearn: 0.2097233\ttotal: 2.64s\tremaining: 346ms\n",
      "884:\tlearn: 0.2095986\ttotal: 2.64s\tremaining: 343ms\n",
      "885:\tlearn: 0.2094989\ttotal: 2.64s\tremaining: 340ms\n",
      "886:\tlearn: 0.2092139\ttotal: 2.65s\tremaining: 337ms\n",
      "887:\tlearn: 0.2090122\ttotal: 2.65s\tremaining: 334ms\n",
      "888:\tlearn: 0.2088416\ttotal: 2.65s\tremaining: 331ms\n",
      "889:\tlearn: 0.2087120\ttotal: 2.65s\tremaining: 328ms\n",
      "890:\tlearn: 0.2085946\ttotal: 2.66s\tremaining: 325ms\n",
      "891:\tlearn: 0.2084567\ttotal: 2.66s\tremaining: 322ms\n",
      "892:\tlearn: 0.2083637\ttotal: 2.66s\tremaining: 319ms\n",
      "893:\tlearn: 0.2082819\ttotal: 2.67s\tremaining: 316ms\n",
      "894:\tlearn: 0.2081431\ttotal: 2.67s\tremaining: 313ms\n",
      "895:\tlearn: 0.2079990\ttotal: 2.67s\tremaining: 310ms\n",
      "896:\tlearn: 0.2078031\ttotal: 2.67s\tremaining: 307ms\n",
      "897:\tlearn: 0.2076147\ttotal: 2.68s\tremaining: 304ms\n",
      "898:\tlearn: 0.2074966\ttotal: 2.68s\tremaining: 301ms\n",
      "899:\tlearn: 0.2074233\ttotal: 2.68s\tremaining: 298ms\n",
      "900:\tlearn: 0.2073176\ttotal: 2.69s\tremaining: 295ms\n",
      "901:\tlearn: 0.2071963\ttotal: 2.69s\tremaining: 292ms\n",
      "902:\tlearn: 0.2070281\ttotal: 2.69s\tremaining: 289ms\n",
      "903:\tlearn: 0.2068952\ttotal: 2.7s\tremaining: 286ms\n",
      "904:\tlearn: 0.2067909\ttotal: 2.7s\tremaining: 283ms\n",
      "905:\tlearn: 0.2065923\ttotal: 2.7s\tremaining: 280ms\n",
      "906:\tlearn: 0.2064879\ttotal: 2.71s\tremaining: 277ms\n",
      "907:\tlearn: 0.2062348\ttotal: 2.71s\tremaining: 274ms\n",
      "908:\tlearn: 0.2061212\ttotal: 2.71s\tremaining: 271ms\n",
      "909:\tlearn: 0.2059688\ttotal: 2.71s\tremaining: 268ms\n",
      "910:\tlearn: 0.2057464\ttotal: 2.72s\tremaining: 266ms\n",
      "911:\tlearn: 0.2056163\ttotal: 2.72s\tremaining: 263ms\n",
      "912:\tlearn: 0.2055138\ttotal: 2.73s\tremaining: 260ms\n",
      "913:\tlearn: 0.2054613\ttotal: 2.73s\tremaining: 257ms\n",
      "914:\tlearn: 0.2053515\ttotal: 2.73s\tremaining: 254ms\n",
      "915:\tlearn: 0.2052184\ttotal: 2.74s\tremaining: 251ms\n",
      "916:\tlearn: 0.2050330\ttotal: 2.74s\tremaining: 248ms\n",
      "917:\tlearn: 0.2049049\ttotal: 2.74s\tremaining: 245ms\n",
      "918:\tlearn: 0.2046657\ttotal: 2.75s\tremaining: 242ms\n",
      "919:\tlearn: 0.2043994\ttotal: 2.75s\tremaining: 239ms\n",
      "920:\tlearn: 0.2043421\ttotal: 2.75s\tremaining: 236ms\n",
      "921:\tlearn: 0.2040999\ttotal: 2.75s\tremaining: 233ms\n",
      "922:\tlearn: 0.2039345\ttotal: 2.76s\tremaining: 230ms\n",
      "923:\tlearn: 0.2037581\ttotal: 2.76s\tremaining: 227ms\n",
      "924:\tlearn: 0.2036368\ttotal: 2.76s\tremaining: 224ms\n",
      "925:\tlearn: 0.2035197\ttotal: 2.76s\tremaining: 221ms\n",
      "926:\tlearn: 0.2033980\ttotal: 2.77s\tremaining: 218ms\n",
      "927:\tlearn: 0.2032414\ttotal: 2.77s\tremaining: 215ms\n",
      "928:\tlearn: 0.2030566\ttotal: 2.77s\tremaining: 212ms\n",
      "929:\tlearn: 0.2027728\ttotal: 2.78s\tremaining: 209ms\n",
      "930:\tlearn: 0.2025859\ttotal: 2.78s\tremaining: 206ms\n",
      "931:\tlearn: 0.2025003\ttotal: 2.78s\tremaining: 203ms\n",
      "932:\tlearn: 0.2023148\ttotal: 2.78s\tremaining: 200ms\n",
      "933:\tlearn: 0.2022241\ttotal: 2.79s\tremaining: 197ms\n",
      "934:\tlearn: 0.2021301\ttotal: 2.79s\tremaining: 194ms\n",
      "935:\tlearn: 0.2020509\ttotal: 2.79s\tremaining: 191ms\n",
      "936:\tlearn: 0.2019055\ttotal: 2.79s\tremaining: 188ms\n",
      "937:\tlearn: 0.2018676\ttotal: 2.8s\tremaining: 185ms\n",
      "938:\tlearn: 0.2016924\ttotal: 2.8s\tremaining: 182ms\n",
      "939:\tlearn: 0.2016378\ttotal: 2.8s\tremaining: 179ms\n",
      "940:\tlearn: 0.2014014\ttotal: 2.8s\tremaining: 176ms\n",
      "941:\tlearn: 0.2012791\ttotal: 2.81s\tremaining: 173ms\n",
      "942:\tlearn: 0.2012014\ttotal: 2.81s\tremaining: 170ms\n",
      "943:\tlearn: 0.2010983\ttotal: 2.81s\tremaining: 167ms\n",
      "944:\tlearn: 0.2009464\ttotal: 2.82s\tremaining: 164ms\n",
      "945:\tlearn: 0.2008588\ttotal: 2.82s\tremaining: 161ms\n",
      "946:\tlearn: 0.2007579\ttotal: 2.82s\tremaining: 158ms\n",
      "947:\tlearn: 0.2006770\ttotal: 2.83s\tremaining: 155ms\n",
      "948:\tlearn: 0.2005245\ttotal: 2.83s\tremaining: 152ms\n",
      "949:\tlearn: 0.2004856\ttotal: 2.83s\tremaining: 149ms\n",
      "950:\tlearn: 0.2004359\ttotal: 2.83s\tremaining: 146ms\n",
      "951:\tlearn: 0.2001823\ttotal: 2.84s\tremaining: 143ms\n",
      "952:\tlearn: 0.1999742\ttotal: 2.84s\tremaining: 140ms\n",
      "953:\tlearn: 0.1998538\ttotal: 2.84s\tremaining: 137ms\n",
      "954:\tlearn: 0.1997505\ttotal: 2.84s\tremaining: 134ms\n",
      "955:\tlearn: 0.1996788\ttotal: 2.85s\tremaining: 131ms\n",
      "956:\tlearn: 0.1994983\ttotal: 2.85s\tremaining: 128ms\n",
      "957:\tlearn: 0.1993423\ttotal: 2.85s\tremaining: 125ms\n",
      "958:\tlearn: 0.1992059\ttotal: 2.85s\tremaining: 122ms\n",
      "959:\tlearn: 0.1989424\ttotal: 2.86s\tremaining: 119ms\n",
      "960:\tlearn: 0.1987826\ttotal: 2.86s\tremaining: 116ms\n",
      "961:\tlearn: 0.1986675\ttotal: 2.86s\tremaining: 113ms\n",
      "962:\tlearn: 0.1986389\ttotal: 2.87s\tremaining: 110ms\n",
      "963:\tlearn: 0.1985507\ttotal: 2.87s\tremaining: 107ms\n",
      "964:\tlearn: 0.1984114\ttotal: 2.87s\tremaining: 104ms\n",
      "965:\tlearn: 0.1983626\ttotal: 2.87s\tremaining: 101ms\n",
      "966:\tlearn: 0.1981922\ttotal: 2.88s\tremaining: 98.2ms\n",
      "967:\tlearn: 0.1979989\ttotal: 2.88s\tremaining: 95.2ms\n",
      "968:\tlearn: 0.1979202\ttotal: 2.88s\tremaining: 92.2ms\n",
      "969:\tlearn: 0.1977933\ttotal: 2.88s\tremaining: 89.3ms\n",
      "970:\tlearn: 0.1976935\ttotal: 2.89s\tremaining: 86.3ms\n",
      "971:\tlearn: 0.1975237\ttotal: 2.89s\tremaining: 83.3ms\n",
      "972:\tlearn: 0.1974117\ttotal: 2.89s\tremaining: 80.3ms\n",
      "973:\tlearn: 0.1972646\ttotal: 2.9s\tremaining: 77.3ms\n",
      "974:\tlearn: 0.1971243\ttotal: 2.9s\tremaining: 74.3ms\n",
      "975:\tlearn: 0.1969940\ttotal: 2.9s\tremaining: 71.3ms\n",
      "976:\tlearn: 0.1969432\ttotal: 2.9s\tremaining: 68.4ms\n",
      "977:\tlearn: 0.1967682\ttotal: 2.91s\tremaining: 65.4ms\n",
      "978:\tlearn: 0.1966439\ttotal: 2.91s\tremaining: 62.4ms\n",
      "979:\tlearn: 0.1965434\ttotal: 2.91s\tremaining: 59.4ms\n",
      "980:\tlearn: 0.1964754\ttotal: 2.92s\tremaining: 56.5ms\n",
      "981:\tlearn: 0.1963268\ttotal: 2.92s\tremaining: 53.5ms\n",
      "982:\tlearn: 0.1961554\ttotal: 2.92s\tremaining: 50.5ms\n",
      "983:\tlearn: 0.1958981\ttotal: 2.92s\tremaining: 47.5ms\n",
      "984:\tlearn: 0.1958360\ttotal: 2.93s\tremaining: 44.6ms\n",
      "985:\tlearn: 0.1955453\ttotal: 2.93s\tremaining: 41.6ms\n",
      "986:\tlearn: 0.1954170\ttotal: 2.93s\tremaining: 38.6ms\n",
      "987:\tlearn: 0.1952517\ttotal: 2.93s\tremaining: 35.6ms\n",
      "988:\tlearn: 0.1950590\ttotal: 2.94s\tremaining: 32.7ms\n",
      "989:\tlearn: 0.1948965\ttotal: 2.94s\tremaining: 29.7ms\n",
      "990:\tlearn: 0.1947814\ttotal: 2.94s\tremaining: 26.7ms\n",
      "991:\tlearn: 0.1945362\ttotal: 2.94s\tremaining: 23.7ms\n",
      "992:\tlearn: 0.1944756\ttotal: 2.95s\tremaining: 20.8ms\n",
      "993:\tlearn: 0.1943506\ttotal: 2.95s\tremaining: 17.8ms\n",
      "994:\tlearn: 0.1942585\ttotal: 2.96s\tremaining: 14.8ms\n",
      "995:\tlearn: 0.1941885\ttotal: 2.96s\tremaining: 11.9ms\n",
      "996:\tlearn: 0.1939930\ttotal: 2.96s\tremaining: 8.91ms\n",
      "997:\tlearn: 0.1938128\ttotal: 2.97s\tremaining: 5.94ms\n",
      "998:\tlearn: 0.1936294\ttotal: 2.97s\tremaining: 2.97ms\n",
      "999:\tlearn: 0.1935149\ttotal: 2.97s\tremaining: 0us\n"
     ]
    }
   ],
   "source": [
    "catb_model=CatBoostClassifier().fit(X_train,y_train)"
   ]
  },
  {
   "cell_type": "code",
   "execution_count": 40,
   "metadata": {},
   "outputs": [
    {
     "data": {
      "text/plain": [
       "0.7402597402597403"
      ]
     },
     "execution_count": 40,
     "metadata": {},
     "output_type": "execute_result"
    }
   ],
   "source": [
    "y_pred=catb_model.predict(X_test)\n",
    "accuracy_score(y_test,y_pred)"
   ]
  },
  {
   "cell_type": "markdown",
   "metadata": {},
   "source": [
    "# CatBoost -MODEL TUNİNG"
   ]
  },
  {
   "cell_type": "code",
   "execution_count": 41,
   "metadata": {},
   "outputs": [],
   "source": [
    "catb_params={\"iterations\":[200,500],\n",
    "            \"learning_rate\":[0.01,0.05,0.1],\n",
    "            \"depth\":[3,5,8]}\n",
    "# daha az sayıda arama işlemi gerceklestiricez süreden dolayı"
   ]
  },
  {
   "cell_type": "code",
   "execution_count": 43,
   "metadata": {
    "collapsed": true,
    "jupyter": {
     "outputs_hidden": true
    }
   },
   "outputs": [
    {
     "name": "stdout",
     "output_type": "stream",
     "text": [
      "Fitting 5 folds for each of 18 candidates, totalling 90 fits\n"
     ]
    },
    {
     "name": "stderr",
     "output_type": "stream",
     "text": [
      "[Parallel(n_jobs=-1)]: Using backend LokyBackend with 4 concurrent workers.\n",
      "[Parallel(n_jobs=-1)]: Done  33 tasks      | elapsed:   19.4s\n",
      "[Parallel(n_jobs=-1)]: Done  90 out of  90 | elapsed:  1.3min finished\n"
     ]
    },
    {
     "name": "stdout",
     "output_type": "stream",
     "text": [
      "0:\tlearn: 0.6602060\ttotal: 6.5ms\tremaining: 1.29s\n",
      "1:\tlearn: 0.6435982\ttotal: 8.32ms\tremaining: 823ms\n",
      "2:\tlearn: 0.6178314\ttotal: 13.8ms\tremaining: 904ms\n",
      "3:\tlearn: 0.5967672\ttotal: 18.9ms\tremaining: 925ms\n",
      "4:\tlearn: 0.5765110\ttotal: 23.9ms\tremaining: 932ms\n",
      "5:\tlearn: 0.5585606\ttotal: 29.4ms\tremaining: 949ms\n",
      "6:\tlearn: 0.5406541\ttotal: 34.8ms\tremaining: 960ms\n",
      "7:\tlearn: 0.5244714\ttotal: 39.9ms\tremaining: 958ms\n",
      "8:\tlearn: 0.5120344\ttotal: 44.9ms\tremaining: 953ms\n",
      "9:\tlearn: 0.4996476\ttotal: 50.7ms\tremaining: 964ms\n",
      "10:\tlearn: 0.4853946\ttotal: 56.3ms\tremaining: 967ms\n",
      "11:\tlearn: 0.4766248\ttotal: 61.9ms\tremaining: 969ms\n",
      "12:\tlearn: 0.4667088\ttotal: 67.4ms\tremaining: 969ms\n",
      "13:\tlearn: 0.4559282\ttotal: 73ms\tremaining: 970ms\n",
      "14:\tlearn: 0.4468032\ttotal: 78.4ms\tremaining: 967ms\n",
      "15:\tlearn: 0.4363093\ttotal: 83.3ms\tremaining: 958ms\n",
      "16:\tlearn: 0.4287096\ttotal: 88.2ms\tremaining: 950ms\n",
      "17:\tlearn: 0.4193085\ttotal: 93.5ms\tremaining: 945ms\n",
      "18:\tlearn: 0.4110406\ttotal: 98.3ms\tremaining: 937ms\n",
      "19:\tlearn: 0.4034872\ttotal: 103ms\tremaining: 928ms\n",
      "20:\tlearn: 0.3948658\ttotal: 109ms\tremaining: 929ms\n",
      "21:\tlearn: 0.3874641\ttotal: 114ms\tremaining: 924ms\n",
      "22:\tlearn: 0.3814768\ttotal: 119ms\tremaining: 917ms\n",
      "23:\tlearn: 0.3764032\ttotal: 125ms\tremaining: 916ms\n",
      "24:\tlearn: 0.3712998\ttotal: 131ms\tremaining: 915ms\n",
      "25:\tlearn: 0.3657828\ttotal: 136ms\tremaining: 913ms\n",
      "26:\tlearn: 0.3644998\ttotal: 138ms\tremaining: 882ms\n",
      "27:\tlearn: 0.3574576\ttotal: 143ms\tremaining: 880ms\n",
      "28:\tlearn: 0.3540504\ttotal: 149ms\tremaining: 878ms\n",
      "29:\tlearn: 0.3496627\ttotal: 156ms\tremaining: 884ms\n",
      "30:\tlearn: 0.3446800\ttotal: 164ms\tremaining: 893ms\n",
      "31:\tlearn: 0.3388907\ttotal: 170ms\tremaining: 894ms\n",
      "32:\tlearn: 0.3340970\ttotal: 177ms\tremaining: 898ms\n",
      "33:\tlearn: 0.3292292\ttotal: 183ms\tremaining: 893ms\n",
      "34:\tlearn: 0.3238085\ttotal: 188ms\tremaining: 887ms\n",
      "35:\tlearn: 0.3211298\ttotal: 194ms\tremaining: 882ms\n",
      "36:\tlearn: 0.3158362\ttotal: 200ms\tremaining: 880ms\n",
      "37:\tlearn: 0.3122221\ttotal: 205ms\tremaining: 876ms\n",
      "38:\tlearn: 0.3081998\ttotal: 211ms\tremaining: 871ms\n",
      "39:\tlearn: 0.3029462\ttotal: 217ms\tremaining: 868ms\n",
      "40:\tlearn: 0.2988970\ttotal: 223ms\tremaining: 866ms\n",
      "41:\tlearn: 0.2963014\ttotal: 229ms\tremaining: 861ms\n",
      "42:\tlearn: 0.2924074\ttotal: 235ms\tremaining: 857ms\n",
      "43:\tlearn: 0.2900743\ttotal: 242ms\tremaining: 857ms\n",
      "44:\tlearn: 0.2862121\ttotal: 248ms\tremaining: 855ms\n",
      "45:\tlearn: 0.2844194\ttotal: 258ms\tremaining: 862ms\n",
      "46:\tlearn: 0.2823197\ttotal: 264ms\tremaining: 861ms\n",
      "47:\tlearn: 0.2771873\ttotal: 272ms\tremaining: 860ms\n",
      "48:\tlearn: 0.2746847\ttotal: 278ms\tremaining: 856ms\n",
      "49:\tlearn: 0.2722872\ttotal: 284ms\tremaining: 851ms\n",
      "50:\tlearn: 0.2704378\ttotal: 289ms\tremaining: 846ms\n",
      "51:\tlearn: 0.2685528\ttotal: 295ms\tremaining: 840ms\n",
      "52:\tlearn: 0.2667534\ttotal: 301ms\tremaining: 835ms\n",
      "53:\tlearn: 0.2651189\ttotal: 307ms\tremaining: 830ms\n",
      "54:\tlearn: 0.2632053\ttotal: 313ms\tremaining: 825ms\n",
      "55:\tlearn: 0.2581137\ttotal: 319ms\tremaining: 820ms\n",
      "56:\tlearn: 0.2571313\ttotal: 324ms\tremaining: 813ms\n",
      "57:\tlearn: 0.2536434\ttotal: 330ms\tremaining: 807ms\n",
      "58:\tlearn: 0.2494582\ttotal: 335ms\tremaining: 801ms\n",
      "59:\tlearn: 0.2469620\ttotal: 341ms\tremaining: 795ms\n",
      "60:\tlearn: 0.2449491\ttotal: 347ms\tremaining: 791ms\n",
      "61:\tlearn: 0.2426594\ttotal: 352ms\tremaining: 784ms\n",
      "62:\tlearn: 0.2398183\ttotal: 357ms\tremaining: 777ms\n",
      "63:\tlearn: 0.2371589\ttotal: 363ms\tremaining: 770ms\n",
      "64:\tlearn: 0.2360953\ttotal: 368ms\tremaining: 764ms\n",
      "65:\tlearn: 0.2337826\ttotal: 374ms\tremaining: 760ms\n",
      "66:\tlearn: 0.2303907\ttotal: 381ms\tremaining: 757ms\n",
      "67:\tlearn: 0.2286428\ttotal: 387ms\tremaining: 751ms\n",
      "68:\tlearn: 0.2264648\ttotal: 393ms\tremaining: 746ms\n",
      "69:\tlearn: 0.2227682\ttotal: 398ms\tremaining: 740ms\n",
      "70:\tlearn: 0.2200985\ttotal: 404ms\tremaining: 735ms\n",
      "71:\tlearn: 0.2181941\ttotal: 411ms\tremaining: 730ms\n",
      "72:\tlearn: 0.2165415\ttotal: 417ms\tremaining: 726ms\n",
      "73:\tlearn: 0.2158186\ttotal: 424ms\tremaining: 721ms\n",
      "74:\tlearn: 0.2131097\ttotal: 429ms\tremaining: 715ms\n",
      "75:\tlearn: 0.2108476\ttotal: 435ms\tremaining: 709ms\n",
      "76:\tlearn: 0.2095851\ttotal: 441ms\tremaining: 704ms\n",
      "77:\tlearn: 0.2079083\ttotal: 446ms\tremaining: 698ms\n",
      "78:\tlearn: 0.2071583\ttotal: 453ms\tremaining: 693ms\n",
      "79:\tlearn: 0.2061524\ttotal: 458ms\tremaining: 687ms\n",
      "80:\tlearn: 0.2042665\ttotal: 463ms\tremaining: 681ms\n",
      "81:\tlearn: 0.2026969\ttotal: 469ms\tremaining: 675ms\n",
      "82:\tlearn: 0.2004707\ttotal: 474ms\tremaining: 668ms\n",
      "83:\tlearn: 0.1984459\ttotal: 479ms\tremaining: 662ms\n",
      "84:\tlearn: 0.1960435\ttotal: 485ms\tremaining: 656ms\n",
      "85:\tlearn: 0.1935291\ttotal: 490ms\tremaining: 650ms\n",
      "86:\tlearn: 0.1921847\ttotal: 496ms\tremaining: 644ms\n",
      "87:\tlearn: 0.1912337\ttotal: 501ms\tremaining: 638ms\n",
      "88:\tlearn: 0.1894707\ttotal: 508ms\tremaining: 633ms\n",
      "89:\tlearn: 0.1878210\ttotal: 513ms\tremaining: 627ms\n",
      "90:\tlearn: 0.1856654\ttotal: 519ms\tremaining: 622ms\n",
      "91:\tlearn: 0.1848509\ttotal: 525ms\tremaining: 616ms\n",
      "92:\tlearn: 0.1841264\ttotal: 530ms\tremaining: 610ms\n",
      "93:\tlearn: 0.1828991\ttotal: 535ms\tremaining: 603ms\n",
      "94:\tlearn: 0.1816976\ttotal: 540ms\tremaining: 597ms\n",
      "95:\tlearn: 0.1804665\ttotal: 546ms\tremaining: 591ms\n",
      "96:\tlearn: 0.1796755\ttotal: 551ms\tremaining: 585ms\n",
      "97:\tlearn: 0.1781131\ttotal: 556ms\tremaining: 579ms\n",
      "98:\tlearn: 0.1757664\ttotal: 562ms\tremaining: 573ms\n",
      "99:\tlearn: 0.1740462\ttotal: 570ms\tremaining: 570ms\n",
      "100:\tlearn: 0.1722466\ttotal: 576ms\tremaining: 564ms\n",
      "101:\tlearn: 0.1699836\ttotal: 582ms\tremaining: 559ms\n",
      "102:\tlearn: 0.1691433\ttotal: 589ms\tremaining: 555ms\n",
      "103:\tlearn: 0.1679153\ttotal: 595ms\tremaining: 549ms\n",
      "104:\tlearn: 0.1668480\ttotal: 602ms\tremaining: 545ms\n",
      "105:\tlearn: 0.1661064\ttotal: 608ms\tremaining: 539ms\n",
      "106:\tlearn: 0.1653268\ttotal: 614ms\tremaining: 533ms\n",
      "107:\tlearn: 0.1642066\ttotal: 619ms\tremaining: 527ms\n",
      "108:\tlearn: 0.1636755\ttotal: 624ms\tremaining: 521ms\n",
      "109:\tlearn: 0.1628148\ttotal: 629ms\tremaining: 515ms\n",
      "110:\tlearn: 0.1615419\ttotal: 635ms\tremaining: 509ms\n",
      "111:\tlearn: 0.1605172\ttotal: 641ms\tremaining: 503ms\n",
      "112:\tlearn: 0.1583357\ttotal: 646ms\tremaining: 498ms\n",
      "113:\tlearn: 0.1573674\ttotal: 652ms\tremaining: 492ms\n",
      "114:\tlearn: 0.1561765\ttotal: 657ms\tremaining: 486ms\n",
      "115:\tlearn: 0.1549724\ttotal: 662ms\tremaining: 480ms\n",
      "116:\tlearn: 0.1535256\ttotal: 667ms\tremaining: 473ms\n",
      "117:\tlearn: 0.1522655\ttotal: 673ms\tremaining: 468ms\n",
      "118:\tlearn: 0.1504579\ttotal: 678ms\tremaining: 461ms\n",
      "119:\tlearn: 0.1486881\ttotal: 683ms\tremaining: 456ms\n",
      "120:\tlearn: 0.1477526\ttotal: 690ms\tremaining: 451ms\n",
      "121:\tlearn: 0.1471156\ttotal: 696ms\tremaining: 445ms\n",
      "122:\tlearn: 0.1456062\ttotal: 701ms\tremaining: 439ms\n",
      "123:\tlearn: 0.1444413\ttotal: 707ms\tremaining: 433ms\n",
      "124:\tlearn: 0.1437952\ttotal: 712ms\tremaining: 427ms\n",
      "125:\tlearn: 0.1422884\ttotal: 717ms\tremaining: 421ms\n",
      "126:\tlearn: 0.1408861\ttotal: 723ms\tremaining: 415ms\n",
      "127:\tlearn: 0.1392216\ttotal: 728ms\tremaining: 410ms\n",
      "128:\tlearn: 0.1381455\ttotal: 734ms\tremaining: 404ms\n",
      "129:\tlearn: 0.1374427\ttotal: 739ms\tremaining: 398ms\n",
      "130:\tlearn: 0.1366999\ttotal: 745ms\tremaining: 392ms\n",
      "131:\tlearn: 0.1362498\ttotal: 750ms\tremaining: 386ms\n",
      "132:\tlearn: 0.1355798\ttotal: 756ms\tremaining: 381ms\n",
      "133:\tlearn: 0.1347913\ttotal: 763ms\tremaining: 376ms\n",
      "134:\tlearn: 0.1335428\ttotal: 769ms\tremaining: 370ms\n",
      "135:\tlearn: 0.1321943\ttotal: 776ms\tremaining: 365ms\n",
      "136:\tlearn: 0.1310325\ttotal: 782ms\tremaining: 360ms\n",
      "137:\tlearn: 0.1296131\ttotal: 790ms\tremaining: 355ms\n",
      "138:\tlearn: 0.1288179\ttotal: 800ms\tremaining: 351ms\n",
      "139:\tlearn: 0.1279536\ttotal: 806ms\tremaining: 346ms\n",
      "140:\tlearn: 0.1269589\ttotal: 813ms\tremaining: 340ms\n",
      "141:\tlearn: 0.1265884\ttotal: 819ms\tremaining: 335ms\n",
      "142:\tlearn: 0.1262077\ttotal: 826ms\tremaining: 329ms\n",
      "143:\tlearn: 0.1255700\ttotal: 831ms\tremaining: 323ms\n",
      "144:\tlearn: 0.1248651\ttotal: 836ms\tremaining: 317ms\n",
      "145:\tlearn: 0.1240863\ttotal: 841ms\tremaining: 311ms\n",
      "146:\tlearn: 0.1234290\ttotal: 846ms\tremaining: 305ms\n",
      "147:\tlearn: 0.1223587\ttotal: 852ms\tremaining: 299ms\n",
      "148:\tlearn: 0.1213080\ttotal: 857ms\tremaining: 293ms\n",
      "149:\tlearn: 0.1203717\ttotal: 866ms\tremaining: 289ms\n",
      "150:\tlearn: 0.1194077\ttotal: 873ms\tremaining: 283ms\n",
      "151:\tlearn: 0.1178042\ttotal: 879ms\tremaining: 278ms\n",
      "152:\tlearn: 0.1165067\ttotal: 885ms\tremaining: 272ms\n",
      "153:\tlearn: 0.1164122\ttotal: 891ms\tremaining: 266ms\n",
      "154:\tlearn: 0.1153538\ttotal: 896ms\tremaining: 260ms\n",
      "155:\tlearn: 0.1144494\ttotal: 902ms\tremaining: 254ms\n",
      "156:\tlearn: 0.1141327\ttotal: 908ms\tremaining: 249ms\n",
      "157:\tlearn: 0.1134514\ttotal: 914ms\tremaining: 243ms\n",
      "158:\tlearn: 0.1125538\ttotal: 920ms\tremaining: 237ms\n",
      "159:\tlearn: 0.1115145\ttotal: 926ms\tremaining: 232ms\n",
      "160:\tlearn: 0.1105770\ttotal: 932ms\tremaining: 226ms\n",
      "161:\tlearn: 0.1102957\ttotal: 938ms\tremaining: 220ms\n",
      "162:\tlearn: 0.1093814\ttotal: 944ms\tremaining: 214ms\n",
      "163:\tlearn: 0.1088551\ttotal: 950ms\tremaining: 208ms\n",
      "164:\tlearn: 0.1083082\ttotal: 957ms\tremaining: 203ms\n",
      "165:\tlearn: 0.1080501\ttotal: 963ms\tremaining: 197ms\n",
      "166:\tlearn: 0.1075901\ttotal: 969ms\tremaining: 191ms\n",
      "167:\tlearn: 0.1066821\ttotal: 974ms\tremaining: 186ms\n",
      "168:\tlearn: 0.1062151\ttotal: 980ms\tremaining: 180ms\n",
      "169:\tlearn: 0.1057040\ttotal: 986ms\tremaining: 174ms\n",
      "170:\tlearn: 0.1048478\ttotal: 991ms\tremaining: 168ms\n",
      "171:\tlearn: 0.1041653\ttotal: 997ms\tremaining: 162ms\n",
      "172:\tlearn: 0.1038785\ttotal: 1s\tremaining: 157ms\n",
      "173:\tlearn: 0.1028948\ttotal: 1.01s\tremaining: 151ms\n",
      "174:\tlearn: 0.1015866\ttotal: 1.01s\tremaining: 145ms\n",
      "175:\tlearn: 0.1009584\ttotal: 1.02s\tremaining: 139ms\n",
      "176:\tlearn: 0.1003957\ttotal: 1.02s\tremaining: 133ms\n",
      "177:\tlearn: 0.1000578\ttotal: 1.03s\tremaining: 127ms\n",
      "178:\tlearn: 0.0993778\ttotal: 1.03s\tremaining: 122ms\n",
      "179:\tlearn: 0.0982004\ttotal: 1.04s\tremaining: 116ms\n",
      "180:\tlearn: 0.0979055\ttotal: 1.05s\tremaining: 110ms\n",
      "181:\tlearn: 0.0973353\ttotal: 1.05s\tremaining: 104ms\n",
      "182:\tlearn: 0.0969578\ttotal: 1.06s\tremaining: 98.2ms\n",
      "183:\tlearn: 0.0966312\ttotal: 1.06s\tremaining: 92.5ms\n",
      "184:\tlearn: 0.0962936\ttotal: 1.07s\tremaining: 86.7ms\n",
      "185:\tlearn: 0.0958973\ttotal: 1.07s\tremaining: 80.9ms\n",
      "186:\tlearn: 0.0955206\ttotal: 1.08s\tremaining: 75.1ms\n",
      "187:\tlearn: 0.0948101\ttotal: 1.08s\tremaining: 69.3ms\n",
      "188:\tlearn: 0.0938494\ttotal: 1.09s\tremaining: 63.5ms\n",
      "189:\tlearn: 0.0929519\ttotal: 1.1s\tremaining: 57.8ms\n",
      "190:\tlearn: 0.0922940\ttotal: 1.1s\tremaining: 52.1ms\n",
      "191:\tlearn: 0.0916422\ttotal: 1.11s\tremaining: 46.3ms\n",
      "192:\tlearn: 0.0914626\ttotal: 1.11s\tremaining: 40.4ms\n",
      "193:\tlearn: 0.0905595\ttotal: 1.12s\tremaining: 34.6ms\n",
      "194:\tlearn: 0.0895600\ttotal: 1.13s\tremaining: 28.8ms\n",
      "195:\tlearn: 0.0893158\ttotal: 1.13s\tremaining: 23.1ms\n",
      "196:\tlearn: 0.0882803\ttotal: 1.14s\tremaining: 17.3ms\n",
      "197:\tlearn: 0.0876554\ttotal: 1.14s\tremaining: 11.5ms\n",
      "198:\tlearn: 0.0873078\ttotal: 1.15s\tremaining: 5.76ms\n",
      "199:\tlearn: 0.0867081\ttotal: 1.15s\tremaining: 0us\n"
     ]
    },
    {
     "data": {
      "text/plain": [
       "{'depth': 8, 'iterations': 200, 'learning_rate': 0.05}"
      ]
     },
     "execution_count": 43,
     "metadata": {},
     "output_type": "execute_result"
    }
   ],
   "source": [
    "catb=CatBoostClassifier()\n",
    "catb_cv_model=GridSearchCV(catb,catb_params,cv=5,n_jobs=-1,verbose=2)\n",
    "catb_cv_model.fit(X_train,y_train)\n",
    "catb_cv_model.best_params_"
   ]
  },
  {
   "cell_type": "code",
   "execution_count": 48,
   "metadata": {
    "collapsed": true,
    "jupyter": {
     "outputs_hidden": true
    }
   },
   "outputs": [
    {
     "name": "stdout",
     "output_type": "stream",
     "text": [
      "0:\tlearn: 0.6602060\ttotal: 6.27ms\tremaining: 1.25s\n",
      "1:\tlearn: 0.6435982\ttotal: 8.09ms\tremaining: 801ms\n",
      "2:\tlearn: 0.6178314\ttotal: 13.5ms\tremaining: 884ms\n",
      "3:\tlearn: 0.5967672\ttotal: 18.7ms\tremaining: 918ms\n",
      "4:\tlearn: 0.5765110\ttotal: 24.2ms\tremaining: 943ms\n",
      "5:\tlearn: 0.5585606\ttotal: 29.7ms\tremaining: 959ms\n",
      "6:\tlearn: 0.5406541\ttotal: 35ms\tremaining: 965ms\n",
      "7:\tlearn: 0.5244714\ttotal: 40.3ms\tremaining: 967ms\n",
      "8:\tlearn: 0.5120344\ttotal: 45.6ms\tremaining: 967ms\n",
      "9:\tlearn: 0.4996476\ttotal: 51.1ms\tremaining: 971ms\n",
      "10:\tlearn: 0.4853946\ttotal: 60.3ms\tremaining: 1.03s\n",
      "11:\tlearn: 0.4766248\ttotal: 66.8ms\tremaining: 1.05s\n",
      "12:\tlearn: 0.4667088\ttotal: 73.2ms\tremaining: 1.05s\n",
      "13:\tlearn: 0.4559282\ttotal: 78.5ms\tremaining: 1.04s\n",
      "14:\tlearn: 0.4468032\ttotal: 85.1ms\tremaining: 1.05s\n",
      "15:\tlearn: 0.4363093\ttotal: 90.5ms\tremaining: 1.04s\n",
      "16:\tlearn: 0.4287096\ttotal: 95.6ms\tremaining: 1.03s\n",
      "17:\tlearn: 0.4193085\ttotal: 101ms\tremaining: 1.02s\n",
      "18:\tlearn: 0.4110406\ttotal: 106ms\tremaining: 1.01s\n",
      "19:\tlearn: 0.4034872\ttotal: 111ms\tremaining: 999ms\n",
      "20:\tlearn: 0.3948658\ttotal: 116ms\tremaining: 990ms\n",
      "21:\tlearn: 0.3874641\ttotal: 121ms\tremaining: 983ms\n",
      "22:\tlearn: 0.3814768\ttotal: 126ms\tremaining: 973ms\n",
      "23:\tlearn: 0.3764032\ttotal: 132ms\tremaining: 968ms\n",
      "24:\tlearn: 0.3712998\ttotal: 137ms\tremaining: 960ms\n",
      "25:\tlearn: 0.3657828\ttotal: 142ms\tremaining: 950ms\n",
      "26:\tlearn: 0.3644998\ttotal: 144ms\tremaining: 920ms\n",
      "27:\tlearn: 0.3574576\ttotal: 149ms\tremaining: 915ms\n",
      "28:\tlearn: 0.3540504\ttotal: 154ms\tremaining: 908ms\n",
      "29:\tlearn: 0.3496627\ttotal: 161ms\tremaining: 910ms\n",
      "30:\tlearn: 0.3446800\ttotal: 166ms\tremaining: 904ms\n",
      "31:\tlearn: 0.3388907\ttotal: 171ms\tremaining: 898ms\n",
      "32:\tlearn: 0.3340970\ttotal: 177ms\tremaining: 896ms\n",
      "33:\tlearn: 0.3292292\ttotal: 182ms\tremaining: 889ms\n",
      "34:\tlearn: 0.3238085\ttotal: 188ms\tremaining: 885ms\n",
      "35:\tlearn: 0.3211298\ttotal: 193ms\tremaining: 880ms\n",
      "36:\tlearn: 0.3158362\ttotal: 198ms\tremaining: 874ms\n",
      "37:\tlearn: 0.3122221\ttotal: 203ms\tremaining: 866ms\n",
      "38:\tlearn: 0.3081998\ttotal: 209ms\tremaining: 861ms\n",
      "39:\tlearn: 0.3029462\ttotal: 214ms\tremaining: 856ms\n",
      "40:\tlearn: 0.2988970\ttotal: 219ms\tremaining: 849ms\n",
      "41:\tlearn: 0.2963014\ttotal: 225ms\tremaining: 846ms\n",
      "42:\tlearn: 0.2924074\ttotal: 230ms\tremaining: 839ms\n",
      "43:\tlearn: 0.2900743\ttotal: 235ms\tremaining: 834ms\n",
      "44:\tlearn: 0.2862121\ttotal: 242ms\tremaining: 834ms\n",
      "45:\tlearn: 0.2844194\ttotal: 247ms\tremaining: 828ms\n",
      "46:\tlearn: 0.2823197\ttotal: 253ms\tremaining: 823ms\n",
      "47:\tlearn: 0.2771873\ttotal: 258ms\tremaining: 817ms\n",
      "48:\tlearn: 0.2746847\ttotal: 263ms\tremaining: 811ms\n",
      "49:\tlearn: 0.2722872\ttotal: 268ms\tremaining: 805ms\n",
      "50:\tlearn: 0.2704378\ttotal: 273ms\tremaining: 799ms\n",
      "51:\tlearn: 0.2685528\ttotal: 279ms\tremaining: 793ms\n",
      "52:\tlearn: 0.2667534\ttotal: 284ms\tremaining: 787ms\n",
      "53:\tlearn: 0.2651189\ttotal: 289ms\tremaining: 782ms\n",
      "54:\tlearn: 0.2632053\ttotal: 294ms\tremaining: 776ms\n",
      "55:\tlearn: 0.2581137\ttotal: 300ms\tremaining: 771ms\n",
      "56:\tlearn: 0.2571313\ttotal: 306ms\tremaining: 767ms\n",
      "57:\tlearn: 0.2536434\ttotal: 311ms\tremaining: 761ms\n",
      "58:\tlearn: 0.2494582\ttotal: 316ms\tremaining: 755ms\n",
      "59:\tlearn: 0.2469620\ttotal: 321ms\tremaining: 748ms\n",
      "60:\tlearn: 0.2449491\ttotal: 326ms\tremaining: 742ms\n",
      "61:\tlearn: 0.2426594\ttotal: 330ms\tremaining: 735ms\n",
      "62:\tlearn: 0.2398183\ttotal: 335ms\tremaining: 729ms\n",
      "63:\tlearn: 0.2371589\ttotal: 340ms\tremaining: 723ms\n",
      "64:\tlearn: 0.2360953\ttotal: 347ms\tremaining: 720ms\n",
      "65:\tlearn: 0.2337826\ttotal: 351ms\tremaining: 713ms\n",
      "66:\tlearn: 0.2303907\ttotal: 357ms\tremaining: 709ms\n",
      "67:\tlearn: 0.2286428\ttotal: 363ms\tremaining: 705ms\n",
      "68:\tlearn: 0.2264648\ttotal: 369ms\tremaining: 701ms\n",
      "69:\tlearn: 0.2227682\ttotal: 375ms\tremaining: 696ms\n",
      "70:\tlearn: 0.2200985\ttotal: 381ms\tremaining: 692ms\n",
      "71:\tlearn: 0.2181941\ttotal: 386ms\tremaining: 687ms\n",
      "72:\tlearn: 0.2165415\ttotal: 392ms\tremaining: 682ms\n",
      "73:\tlearn: 0.2158186\ttotal: 397ms\tremaining: 676ms\n",
      "74:\tlearn: 0.2131097\ttotal: 402ms\tremaining: 671ms\n",
      "75:\tlearn: 0.2108476\ttotal: 407ms\tremaining: 665ms\n",
      "76:\tlearn: 0.2095851\ttotal: 412ms\tremaining: 659ms\n",
      "77:\tlearn: 0.2079083\ttotal: 418ms\tremaining: 654ms\n",
      "78:\tlearn: 0.2071583\ttotal: 423ms\tremaining: 648ms\n",
      "79:\tlearn: 0.2061524\ttotal: 429ms\tremaining: 643ms\n",
      "80:\tlearn: 0.2042665\ttotal: 435ms\tremaining: 639ms\n",
      "81:\tlearn: 0.2026969\ttotal: 440ms\tremaining: 633ms\n",
      "82:\tlearn: 0.2004707\ttotal: 445ms\tremaining: 628ms\n",
      "83:\tlearn: 0.1984459\ttotal: 450ms\tremaining: 622ms\n",
      "84:\tlearn: 0.1960435\ttotal: 455ms\tremaining: 615ms\n",
      "85:\tlearn: 0.1935291\ttotal: 460ms\tremaining: 610ms\n",
      "86:\tlearn: 0.1921847\ttotal: 465ms\tremaining: 603ms\n",
      "87:\tlearn: 0.1912337\ttotal: 469ms\tremaining: 597ms\n",
      "88:\tlearn: 0.1894707\ttotal: 474ms\tremaining: 591ms\n",
      "89:\tlearn: 0.1878210\ttotal: 479ms\tremaining: 585ms\n",
      "90:\tlearn: 0.1856654\ttotal: 483ms\tremaining: 579ms\n",
      "91:\tlearn: 0.1848509\ttotal: 489ms\tremaining: 574ms\n",
      "92:\tlearn: 0.1841264\ttotal: 494ms\tremaining: 568ms\n",
      "93:\tlearn: 0.1828991\ttotal: 499ms\tremaining: 562ms\n",
      "94:\tlearn: 0.1816976\ttotal: 504ms\tremaining: 557ms\n",
      "95:\tlearn: 0.1804665\ttotal: 509ms\tremaining: 551ms\n",
      "96:\tlearn: 0.1796755\ttotal: 514ms\tremaining: 545ms\n",
      "97:\tlearn: 0.1781131\ttotal: 521ms\tremaining: 542ms\n",
      "98:\tlearn: 0.1757664\ttotal: 526ms\tremaining: 537ms\n",
      "99:\tlearn: 0.1740462\ttotal: 532ms\tremaining: 532ms\n",
      "100:\tlearn: 0.1722466\ttotal: 538ms\tremaining: 527ms\n",
      "101:\tlearn: 0.1699836\ttotal: 544ms\tremaining: 522ms\n",
      "102:\tlearn: 0.1691433\ttotal: 549ms\tremaining: 517ms\n",
      "103:\tlearn: 0.1679153\ttotal: 554ms\tremaining: 512ms\n",
      "104:\tlearn: 0.1668480\ttotal: 560ms\tremaining: 506ms\n",
      "105:\tlearn: 0.1661064\ttotal: 565ms\tremaining: 501ms\n",
      "106:\tlearn: 0.1653268\ttotal: 571ms\tremaining: 496ms\n",
      "107:\tlearn: 0.1642066\ttotal: 576ms\tremaining: 491ms\n",
      "108:\tlearn: 0.1636755\ttotal: 581ms\tremaining: 485ms\n",
      "109:\tlearn: 0.1628148\ttotal: 586ms\tremaining: 480ms\n",
      "110:\tlearn: 0.1615419\ttotal: 591ms\tremaining: 474ms\n",
      "111:\tlearn: 0.1605172\ttotal: 596ms\tremaining: 468ms\n",
      "112:\tlearn: 0.1583357\ttotal: 601ms\tremaining: 463ms\n",
      "113:\tlearn: 0.1573674\ttotal: 609ms\tremaining: 459ms\n",
      "114:\tlearn: 0.1561765\ttotal: 614ms\tremaining: 454ms\n",
      "115:\tlearn: 0.1549724\ttotal: 619ms\tremaining: 448ms\n",
      "116:\tlearn: 0.1535256\ttotal: 624ms\tremaining: 443ms\n",
      "117:\tlearn: 0.1522655\ttotal: 629ms\tremaining: 437ms\n",
      "118:\tlearn: 0.1504579\ttotal: 634ms\tremaining: 432ms\n",
      "119:\tlearn: 0.1486881\ttotal: 639ms\tremaining: 426ms\n",
      "120:\tlearn: 0.1477526\ttotal: 645ms\tremaining: 421ms\n",
      "121:\tlearn: 0.1471156\ttotal: 650ms\tremaining: 415ms\n",
      "122:\tlearn: 0.1456062\ttotal: 654ms\tremaining: 410ms\n",
      "123:\tlearn: 0.1444413\ttotal: 660ms\tremaining: 405ms\n",
      "124:\tlearn: 0.1437952\ttotal: 665ms\tremaining: 399ms\n",
      "125:\tlearn: 0.1422884\ttotal: 670ms\tremaining: 393ms\n",
      "126:\tlearn: 0.1408861\ttotal: 676ms\tremaining: 388ms\n",
      "127:\tlearn: 0.1392216\ttotal: 681ms\tremaining: 383ms\n",
      "128:\tlearn: 0.1381455\ttotal: 685ms\tremaining: 377ms\n",
      "129:\tlearn: 0.1374427\ttotal: 693ms\tremaining: 373ms\n",
      "130:\tlearn: 0.1366999\ttotal: 698ms\tremaining: 367ms\n",
      "131:\tlearn: 0.1362498\ttotal: 703ms\tremaining: 362ms\n",
      "132:\tlearn: 0.1355798\ttotal: 708ms\tremaining: 357ms\n",
      "133:\tlearn: 0.1347913\ttotal: 714ms\tremaining: 352ms\n",
      "134:\tlearn: 0.1335428\ttotal: 719ms\tremaining: 346ms\n",
      "135:\tlearn: 0.1321943\ttotal: 724ms\tremaining: 341ms\n",
      "136:\tlearn: 0.1310325\ttotal: 730ms\tremaining: 335ms\n",
      "137:\tlearn: 0.1296131\ttotal: 735ms\tremaining: 330ms\n",
      "138:\tlearn: 0.1288179\ttotal: 740ms\tremaining: 325ms\n",
      "139:\tlearn: 0.1279536\ttotal: 746ms\tremaining: 320ms\n",
      "140:\tlearn: 0.1269589\ttotal: 751ms\tremaining: 314ms\n",
      "141:\tlearn: 0.1265884\ttotal: 756ms\tremaining: 309ms\n",
      "142:\tlearn: 0.1262077\ttotal: 761ms\tremaining: 303ms\n",
      "143:\tlearn: 0.1255700\ttotal: 767ms\tremaining: 298ms\n",
      "144:\tlearn: 0.1248651\ttotal: 773ms\tremaining: 293ms\n",
      "145:\tlearn: 0.1240863\ttotal: 778ms\tremaining: 288ms\n",
      "146:\tlearn: 0.1234290\ttotal: 784ms\tremaining: 283ms\n",
      "147:\tlearn: 0.1223587\ttotal: 789ms\tremaining: 277ms\n",
      "148:\tlearn: 0.1213080\ttotal: 794ms\tremaining: 272ms\n",
      "149:\tlearn: 0.1203717\ttotal: 802ms\tremaining: 267ms\n",
      "150:\tlearn: 0.1194077\ttotal: 807ms\tremaining: 262ms\n",
      "151:\tlearn: 0.1178042\ttotal: 813ms\tremaining: 257ms\n",
      "152:\tlearn: 0.1165067\ttotal: 817ms\tremaining: 251ms\n",
      "153:\tlearn: 0.1164122\ttotal: 822ms\tremaining: 246ms\n",
      "154:\tlearn: 0.1153538\ttotal: 828ms\tremaining: 240ms\n",
      "155:\tlearn: 0.1144494\ttotal: 833ms\tremaining: 235ms\n",
      "156:\tlearn: 0.1141327\ttotal: 839ms\tremaining: 230ms\n",
      "157:\tlearn: 0.1134514\ttotal: 844ms\tremaining: 224ms\n",
      "158:\tlearn: 0.1125538\ttotal: 850ms\tremaining: 219ms\n",
      "159:\tlearn: 0.1115145\ttotal: 855ms\tremaining: 214ms\n",
      "160:\tlearn: 0.1105770\ttotal: 862ms\tremaining: 209ms\n",
      "161:\tlearn: 0.1102957\ttotal: 867ms\tremaining: 203ms\n",
      "162:\tlearn: 0.1093814\ttotal: 872ms\tremaining: 198ms\n",
      "163:\tlearn: 0.1088551\ttotal: 878ms\tremaining: 193ms\n",
      "164:\tlearn: 0.1083082\ttotal: 883ms\tremaining: 187ms\n",
      "165:\tlearn: 0.1080501\ttotal: 891ms\tremaining: 183ms\n",
      "166:\tlearn: 0.1075901\ttotal: 897ms\tremaining: 177ms\n",
      "167:\tlearn: 0.1066821\ttotal: 903ms\tremaining: 172ms\n",
      "168:\tlearn: 0.1062151\ttotal: 909ms\tremaining: 167ms\n",
      "169:\tlearn: 0.1057040\ttotal: 915ms\tremaining: 161ms\n",
      "170:\tlearn: 0.1048478\ttotal: 920ms\tremaining: 156ms\n",
      "171:\tlearn: 0.1041653\ttotal: 926ms\tremaining: 151ms\n",
      "172:\tlearn: 0.1038785\ttotal: 931ms\tremaining: 145ms\n",
      "173:\tlearn: 0.1028948\ttotal: 936ms\tremaining: 140ms\n",
      "174:\tlearn: 0.1015866\ttotal: 942ms\tremaining: 135ms\n",
      "175:\tlearn: 0.1009584\ttotal: 947ms\tremaining: 129ms\n",
      "176:\tlearn: 0.1003957\ttotal: 952ms\tremaining: 124ms\n",
      "177:\tlearn: 0.1000578\ttotal: 957ms\tremaining: 118ms\n",
      "178:\tlearn: 0.0993778\ttotal: 963ms\tremaining: 113ms\n",
      "179:\tlearn: 0.0982004\ttotal: 968ms\tremaining: 108ms\n",
      "180:\tlearn: 0.0979055\ttotal: 973ms\tremaining: 102ms\n",
      "181:\tlearn: 0.0973353\ttotal: 978ms\tremaining: 96.7ms\n",
      "182:\tlearn: 0.0969578\ttotal: 983ms\tremaining: 91.3ms\n",
      "183:\tlearn: 0.0966312\ttotal: 988ms\tremaining: 85.9ms\n",
      "184:\tlearn: 0.0962936\ttotal: 994ms\tremaining: 80.6ms\n",
      "185:\tlearn: 0.0958973\ttotal: 999ms\tremaining: 75.2ms\n",
      "186:\tlearn: 0.0955206\ttotal: 1s\tremaining: 69.8ms\n",
      "187:\tlearn: 0.0948101\ttotal: 1.01s\tremaining: 64.5ms\n",
      "188:\tlearn: 0.0938494\ttotal: 1.01s\tremaining: 59.1ms\n",
      "189:\tlearn: 0.0929519\ttotal: 1.02s\tremaining: 53.7ms\n",
      "190:\tlearn: 0.0922940\ttotal: 1.03s\tremaining: 48.3ms\n",
      "191:\tlearn: 0.0916422\ttotal: 1.04s\tremaining: 43.2ms\n",
      "192:\tlearn: 0.0914626\ttotal: 1.04s\tremaining: 37.6ms\n",
      "193:\tlearn: 0.0905595\ttotal: 1.04s\tremaining: 32.3ms\n",
      "194:\tlearn: 0.0895600\ttotal: 1.05s\tremaining: 26.9ms\n",
      "195:\tlearn: 0.0893158\ttotal: 1.05s\tremaining: 21.5ms\n",
      "196:\tlearn: 0.0882803\ttotal: 1.06s\tremaining: 16.2ms\n",
      "197:\tlearn: 0.0876554\ttotal: 1.07s\tremaining: 10.8ms\n",
      "198:\tlearn: 0.0873078\ttotal: 1.07s\tremaining: 5.39ms\n",
      "199:\tlearn: 0.0867081\ttotal: 1.08s\tremaining: 0us\n"
     ]
    },
    {
     "data": {
      "text/plain": [
       "0.7489177489177489"
      ]
     },
     "execution_count": 48,
     "metadata": {},
     "output_type": "execute_result"
    }
   ],
   "source": [
    "catb=CatBoostClassifier(iterations=200,\n",
    "                       learning_rate=0.05,\n",
    "                       depth=8)\n",
    "\n",
    "catb_tuned=catb.fit(X_train,y_train)\n",
    "y_pred=catb_tuned.predict(X_test)\n",
    "accuracy_score(y_test,y_pred)"
   ]
  },
  {
   "cell_type": "markdown",
   "metadata": {},
   "source": [
    "# Tüm modellerin karsılastırılması"
   ]
  },
  {
   "cell_type": "code",
   "execution_count": 155,
   "metadata": {},
   "outputs": [
    {
     "name": "stdout",
     "output_type": "stream",
     "text": [
      "____________________________\n",
      "KNeighborsClassifier:\n",
      "Accuracy:73.1602%\n",
      "____________________________\n",
      "LogisticRegression:\n",
      "Accuracy:76.6234%\n",
      "____________________________\n",
      "SVC:\n",
      "Accuracy:70.5628%\n",
      "____________________________\n",
      "GaussianNB:\n",
      "Accuracy:74.4589%\n",
      "____________________________\n",
      "MLPClassifier:\n",
      "Accuracy:34.6320%\n",
      "____________________________\n",
      "DecisionTreeClassifier:\n",
      "Accuracy:75.3247%\n",
      "____________________________\n",
      "RandomForestClassifier:\n",
      "Accuracy:75.3247%\n",
      "____________________________\n",
      "GradientBoostingClassifier:\n",
      "Accuracy:74.8918%\n",
      "____________________________\n",
      "CatBoostClassifier:\n",
      "Accuracy:74.8918%\n",
      "____________________________\n",
      "LGBMClassifier:\n",
      "Accuracy:74.4589%\n",
      "____________________________\n",
      "XGBClassifier:\n",
      "Accuracy:74.8918%\n"
     ]
    }
   ],
   "source": [
    "modeller=[knn_tuned,\n",
    "          loj_model,\n",
    "         svc_tuned,\n",
    "         nb_model,\n",
    "         mlpc_tuned,\n",
    "         cart_tuned,\n",
    "         rf_tuned,\n",
    "         gbm_tuned,\n",
    "         catb_tuned,\n",
    "         lgbm_tuned,\n",
    "         xgb_tuned]\n",
    "\n",
    "\n",
    "for model in modeller:\n",
    "    isimler=model.__class__.__name__\n",
    "    y_pred=model.predict(X_test)\n",
    "    dogruluk=accuracy_score(y_test,y_pred)\n",
    "    print(\"_\" *28)\n",
    "    print(isimler +\":\")\n",
    "    print(\"Accuracy:{:.4%}\".format(dogruluk))\n",
    "    \n",
    "# yapay sinir aglarında düsük gelmesinin sbebi ölçkelenmeden veri modele verilmiştir."
   ]
  },
  {
   "cell_type": "code",
   "execution_count": 156,
   "metadata": {},
   "outputs": [
    {
     "data": {
      "image/png": "[encoded data removed]",
      "text/plain": [
       "<Figure size 432x288 with 1 Axes>"
      ]
     },
     "metadata": {
      "needs_background": "light"
     },
     "output_type": "display_data"
    }
   ],
   "source": [
    "sonuc=[]\n",
    "sonuclar=pd.DataFrame(columns=[\"Modeller\",\"Accuracy\"])\n",
    "\n",
    "for model in modeller:\n",
    "    isimler=model.__class__.__name__\n",
    "    y_pred=model.predict(X_test)\n",
    "    dogruluk=accuracy_score(y_test,y_pred)\n",
    "    sonuc=pd.DataFrame([[isimler,dogruluk*100]],columns=[\"Modeller\",\"Accuracy\"])\n",
    "    sonuclar=sonuclar.append(sonuc)\n",
    "    \n",
    "    \n",
    "    sns.barplot(x=\"Accuracy\",y=\"Modeller\",data=sonuclar,color=\"r\")\n",
    "    plt.xlabel(\"Accuracy %\")\n",
    "    plt.title(\"Modellerin Dogruluk Oranı\");"
   ]
  },
  {
   "cell_type": "code",
   "execution_count": null,
   "metadata": {},
   "outputs": [],
   "source": []
  }
 ],
 "metadata": {
  "kernelspec": {
   "display_name": "Python 3",
   "language": "python",
   "name": "python3"
  },
  "language_info": {
   "codemirror_mode": {
    "name": "ipython",
    "version": 3
   },
   "file_extension": ".py",
   "mimetype": "text/x-python",
   "name": "python",
   "nbconvert_exporter": "python",
   "pygments_lexer": "ipython3",
   "version": "3.7.4"
  }
 },
 "nbformat": 4,
 "nbformat_minor": 4
}
