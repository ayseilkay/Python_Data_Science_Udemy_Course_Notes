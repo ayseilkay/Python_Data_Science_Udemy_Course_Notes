{
 "cells": [
  {
   "cell_type": "markdown",
   "metadata": {},
   "source": [
    "# DOGRUSAL OLMAYAN REGRESYON MODELLERİ"
   ]
  },
  {
   "cell_type": "code",
   "execution_count": 5,
   "metadata": {},
   "outputs": [],
   "source": [
    "import numpy as np\n",
    "import pandas as pd\n",
    "from sklearn.model_selection import train_test_split,ShuffleSplit,GridSearchCV\n",
    "from sklearn.metrics import mean_squared_error,r2_score\n",
    "import matplotlib.pyplot as plt\n",
    "from sklearn.preprocessing import scale\n",
    "from sklearn import model_selection\n",
    "from sklearn.tree import DecisionTreeRegressor,DecisionTreeClassifier\n",
    "from sklearn.neighbors import KNeighborsRegressor\n",
    "from sklearn.ensemble import BaggingRegressor"
   ]
  },
  {
   "cell_type": "markdown",
   "metadata": {},
   "source": [
    "# K- En Yakın Komsu (KNN)\n",
    "* Tahminler gözlem benzerligine göre yapılır"
   ]
  },
  {
   "cell_type": "code",
   "execution_count": null,
   "metadata": {},
   "outputs": [],
   "source": [
    "# büyük veri setlerinde çok performanslı oldugu söylenemez.\n",
    "# verilen gözlem birine en yakın olan gözlem birimine bakarak bagımlı degiskeni bize verir.\n",
    "# verilen gözlemin her bir gözleme olan uzaklıgı hesaplanır.en yakın olan k=5 seçilirse;\n",
    "# bu bulunan 5 degerin bagımlı degiskenlerinin ortalması alınarak verilen gözlemin bagımlı degisken degeri bulunmus olur."
   ]
  },
  {
   "cell_type": "markdown",
   "metadata": {},
   "source": [
    "* KNN Basamakları\n",
    "    - Komsu sayısını belirle\n",
    "    - Bilinmeyen nokta ile diger tüm noktalar arasındaki uzaklıkları hesapla\n",
    "    - Uzaklıkları sırala ve belirlenen k sayısına göre en yakın olan k gözlemi sec\n",
    "    - Sınıflandırma ise en sık sınıf ,regresyon ise ortalama degeri tahmin olarak ver"
   ]
  },
  {
   "cell_type": "markdown",
   "metadata": {},
   "source": [
    "# KNN - MODEL"
   ]
  },
  {
   "cell_type": "code",
   "execution_count": 5,
   "metadata": {},
   "outputs": [
    {
     "name": "stdout",
     "output_type": "stream",
     "text": [
      "X_train (197, 19)\n",
      "y_train (197,)\n",
      "X_test (66, 19)\n",
      "y_test (66,)\n",
      "training (263, 20)\n"
     ]
    }
   ],
   "source": [
    "hit=pd.read_csv(\"original.csv\")# American basketbol ligi \n",
    "df=hit.copy()\n",
    "df=df.dropna()\n",
    "dms= pd.get_dummies(df[['League','Division','NewLeague']])\n",
    "y=df[\"Salary\"]\n",
    "X_= df.drop([\"Salary\",\"League\",\"Division\",\"NewLeague\"],axis=1).astype(\"float64\")\n",
    "X=pd.concat([X_,dms[[\"League_N\",\"Division_W\",\"NewLeague_N\"]]],axis=1)\n",
    "# veri setini test ve train olarak ayırdık\n",
    "from sklearn.model_selection import train_test_split,cross_val_score,cross_val_predict\n",
    "X_train,X_test,y_train,y_test=train_test_split(X,y,test_size=0.25,\n",
    "                                              random_state=42)\n",
    "print(\"X_train\",X_train.shape)\n",
    "print(\"y_train\",y_train.shape)\n",
    "print(\"X_test\",X_test.shape)\n",
    "print(\"y_test\",y_test.shape)\n",
    "training= df.copy()# tüm veri seti\n",
    "print(\"training\",training.shape)"
   ]
  },
  {
   "cell_type": "code",
   "execution_count": 6,
   "metadata": {},
   "outputs": [],
   "source": [
    "knn_model=KNeighborsRegressor().fit(X_train,y_train)"
   ]
  },
  {
   "cell_type": "code",
   "execution_count": 7,
   "metadata": {},
   "outputs": [
    {
     "data": {
      "text/plain": [
       "KNeighborsRegressor(algorithm='auto', leaf_size=30, metric='minkowski',\n",
       "                    metric_params=None, n_jobs=None, n_neighbors=5, p=2,\n",
       "                    weights='uniform')"
      ]
     },
     "execution_count": 7,
     "metadata": {},
     "output_type": "execute_result"
    }
   ],
   "source": [
    "knn_model"
   ]
  },
  {
   "cell_type": "code",
   "execution_count": 8,
   "metadata": {},
   "outputs": [
    {
     "data": {
      "text/plain": [
       "5"
      ]
     },
     "execution_count": 8,
     "metadata": {},
     "output_type": "execute_result"
    }
   ],
   "source": [
    "knn_model.n_neighbors"
   ]
  },
  {
   "cell_type": "markdown",
   "metadata": {},
   "source": [
    "# KNN - TAHMİN"
   ]
  },
  {
   "cell_type": "code",
   "execution_count": 9,
   "metadata": {},
   "outputs": [],
   "source": [
    "y_pred=knn_model.predict(X_test)"
   ]
  },
  {
   "cell_type": "code",
   "execution_count": 10,
   "metadata": {},
   "outputs": [
    {
     "data": {
      "text/plain": [
       "426.6570764525201"
      ]
     },
     "execution_count": 10,
     "metadata": {},
     "output_type": "execute_result"
    }
   ],
   "source": [
    "np.sqrt(mean_squared_error(y_test,y_pred))"
   ]
  },
  {
   "cell_type": "code",
   "execution_count": 15,
   "metadata": {},
   "outputs": [
    {
     "name": "stdout",
     "output_type": "stream",
     "text": [
      "k=  1 icin RMSE degeri: 0.0\n",
      "k=  2 icin RMSE degeri: 179.52761335480352\n",
      "k=  3 icin RMSE degeri: 205.20157172291863\n",
      "k=  4 icin RMSE degeri: 220.5139794876305\n",
      "k=  5 icin RMSE degeri: 239.64671325413764\n",
      "k=  6 icin RMSE degeri: 243.5904190007242\n",
      "k=  7 icin RMSE degeri: 258.1478781634636\n",
      "k=  8 icin RMSE degeri: 266.05374203349805\n",
      "k=  9 icin RMSE degeri: 269.73782093553376\n",
      "k=  10 icin RMSE degeri: 271.2798300436963\n"
     ]
    }
   ],
   "source": [
    "RMSE =[]\n",
    "\n",
    "for k in range(10):\n",
    "    k=k+1\n",
    "    knn_model=KNeighborsRegressor(n_neighbors=k).fit(X_train,y_train)\n",
    "    y_pred=knn_model.predict(X_train)\n",
    "    rmse=np.sqrt(mean_squared_error(y_train,y_pred))\n",
    "    RMSE.append(rmse)\n",
    "    print(\"k= \",k,\"icin RMSE degeri:\",rmse)"
   ]
  },
  {
   "cell_type": "markdown",
   "metadata": {},
   "source": [
    "# KNN - MODEL TUNİNG"
   ]
  },
  {
   "cell_type": "code",
   "execution_count": 16,
   "metadata": {},
   "outputs": [],
   "source": [
    "from sklearn.model_selection import GridSearchCV"
   ]
  },
  {
   "cell_type": "code",
   "execution_count": 17,
   "metadata": {},
   "outputs": [],
   "source": [
    "knn_params={'n_neighbors':np.arange(1,30,1)}# 1 den 30 kadar k degerleri ürettik"
   ]
  },
  {
   "cell_type": "code",
   "execution_count": 18,
   "metadata": {},
   "outputs": [],
   "source": [
    "knn=KNeighborsRegressor()"
   ]
  },
  {
   "cell_type": "code",
   "execution_count": 20,
   "metadata": {},
   "outputs": [],
   "source": [
    "knn_cv_model=GridSearchCV(knn,knn_params,cv=10)"
   ]
  },
  {
   "cell_type": "code",
   "execution_count": 23,
   "metadata": {},
   "outputs": [
    {
     "name": "stderr",
     "output_type": "stream",
     "text": [
      "C:\\Users\\aayse\\AppData\\Local\\Continuum\\anaconda3\\lib\\site-packages\\sklearn\\model_selection\\_search.py:814: DeprecationWarning: The default of the `iid` parameter will change from True to False in version 0.22 and will be removed in 0.24. This will change numeric results when test-set sizes are unequal.\n",
      "  DeprecationWarning)\n"
     ]
    },
    {
     "data": {
      "text/plain": [
       "GridSearchCV(cv=10, error_score='raise-deprecating',\n",
       "             estimator=KNeighborsRegressor(algorithm='auto', leaf_size=30,\n",
       "                                           metric='minkowski',\n",
       "                                           metric_params=None, n_jobs=None,\n",
       "                                           n_neighbors=5, p=2,\n",
       "                                           weights='uniform'),\n",
       "             iid='warn', n_jobs=None,\n",
       "             param_grid={'n_neighbors': array([ 1,  2,  3,  4,  5,  6,  7,  8,  9, 10, 11, 12, 13, 14, 15, 16, 17,\n",
       "       18, 19, 20, 21, 22, 23, 24, 25, 26, 27, 28, 29])},\n",
       "             pre_dispatch='2*n_jobs', refit=True, return_train_score=False,\n",
       "             scoring=None, verbose=0)"
      ]
     },
     "execution_count": 23,
     "metadata": {},
     "output_type": "execute_result"
    }
   ],
   "source": [
    "knn_cv_model.fit(X_train,y_train)"
   ]
  },
  {
   "cell_type": "code",
   "execution_count": 24,
   "metadata": {},
   "outputs": [
    {
     "data": {
      "text/plain": [
       "8"
      ]
     },
     "execution_count": 24,
     "metadata": {},
     "output_type": "execute_result"
    }
   ],
   "source": [
    "knn_cv_model.best_params_[\"n_neighbors\"]"
   ]
  },
  {
   "cell_type": "code",
   "execution_count": 25,
   "metadata": {},
   "outputs": [
    {
     "name": "stdout",
     "output_type": "stream",
     "text": [
      "k=  1 icin RMSE degeri: 0.0 RMSE_CV_degeri: 325.39475147063825\n",
      "k=  2 icin RMSE degeri: 179.52761335480352 RMSE_CV_degeri: 293.24000183333817\n",
      "k=  3 icin RMSE degeri: 205.20157172291863 RMSE_CV_degeri: 283.7486667487823\n",
      "k=  4 icin RMSE degeri: 220.5139794876305 RMSE_CV_degeri: 286.3240222024089\n",
      "k=  5 icin RMSE degeri: 239.64671325413764 RMSE_CV_degeri: 290.0705466132226\n",
      "k=  6 icin RMSE degeri: 243.5904190007242 RMSE_CV_degeri: 298.1263115575851\n",
      "k=  7 icin RMSE degeri: 258.1478781634636 RMSE_CV_degeri: 294.77070479194987\n",
      "k=  8 icin RMSE degeri: 266.05374203349805 RMSE_CV_degeri: 291.98672028891235\n",
      "k=  9 icin RMSE degeri: 269.73782093553376 RMSE_CV_degeri: 295.7162739573105\n",
      "k=  10 icin RMSE degeri: 271.2798300436963 RMSE_CV_degeri: 301.31047022701154\n"
     ]
    }
   ],
   "source": [
    "RMSE =[]\n",
    "RMSE_CV=[]\n",
    "\n",
    "for k in range(10):\n",
    "    k=k+1\n",
    "    knn_model=KNeighborsRegressor(n_neighbors=k).fit(X_train,y_train)\n",
    "    y_pred=knn_model.predict(X_train)\n",
    "    rmse=np.sqrt(mean_squared_error(y_train,y_pred))\n",
    "    rmse_cv=np.sqrt(-1*cross_val_score(knn_model,X_train,y_train,cv=10,\n",
    "                                      scoring=\"neg_mean_squared_error\").mean())\n",
    "    RMSE.append(rmse)\n",
    "    RMSE_CV.append(rmse_cv)\n",
    "    print(\"k= \",k,\"icin RMSE degeri:\",rmse,\"RMSE_CV_degeri:\",rmse_cv)"
   ]
  },
  {
   "cell_type": "code",
   "execution_count": 26,
   "metadata": {},
   "outputs": [],
   "source": [
    "knn_tuned=KNeighborsRegressor(n_neighbors=knn_cv_model.best_params_[\"n_neighbors\"])"
   ]
  },
  {
   "cell_type": "code",
   "execution_count": 27,
   "metadata": {},
   "outputs": [
    {
     "data": {
      "text/plain": [
       "KNeighborsRegressor(algorithm='auto', leaf_size=30, metric='minkowski',\n",
       "                    metric_params=None, n_jobs=None, n_neighbors=8, p=2,\n",
       "                    weights='uniform')"
      ]
     },
     "execution_count": 27,
     "metadata": {},
     "output_type": "execute_result"
    }
   ],
   "source": [
    "knn_tuned.fit(X_train,y_train)"
   ]
  },
  {
   "cell_type": "code",
   "execution_count": 28,
   "metadata": {},
   "outputs": [],
   "source": [
    "y_pred=knn_tuned.predict(X_test)"
   ]
  },
  {
   "cell_type": "code",
   "execution_count": 29,
   "metadata": {},
   "outputs": [
    {
     "data": {
      "text/plain": [
       "413.7094731463598"
      ]
     },
     "execution_count": 29,
     "metadata": {},
     "output_type": "execute_result"
    }
   ],
   "source": [
    "np.sqrt(mean_squared_error(y_test,y_pred))"
   ]
  },
  {
   "cell_type": "markdown",
   "metadata": {},
   "source": [
    "# Destek Vektör Regresyonu (SVR)"
   ]
  },
  {
   "cell_type": "markdown",
   "metadata": {},
   "source": [
    "* Amaç: Bir marjin aralıgına maksimum noktayı en küçük hata ile alabilecek şekilde dogru yada eğriyi belirlemektir"
   ]
  },
  {
   "cell_type": "code",
   "execution_count": null,
   "metadata": {},
   "outputs": [],
   "source": [
    "#kısi degerleri aykırı gözlemlerden yararlanarak eğri bulnuyor.\n",
    "# artıklar epsilon degerlerinden kücük oldukca onlar kale alınmaz.\n",
    "# artıklar epsilon degerlerinin dısında kalıyor. ve bu aykırı degerler eğriyi belirleyen noktalar oluyor.\n",
    "\n",
    "# kabul edilebilir hata miktarı(epsilon) "
   ]
  },
  {
   "cell_type": "markdown",
   "metadata": {},
   "source": [
    "# SVR (Destek Vektör Regresonu) - MODEL"
   ]
  },
  {
   "cell_type": "code",
   "execution_count": 64,
   "metadata": {},
   "outputs": [
    {
     "name": "stdout",
     "output_type": "stream",
     "text": [
      "X_train (197, 19)\n",
      "y_train (197,)\n",
      "X_test (66, 19)\n",
      "y_test (66,)\n",
      "training (263, 20)\n"
     ]
    }
   ],
   "source": [
    "hit=pd.read_csv(\"original.csv\")# American basketbol ligi \n",
    "df=hit.copy()\n",
    "df=df.dropna()\n",
    "dms= pd.get_dummies(df[['League','Division','NewLeague']])\n",
    "y=df[\"Salary\"]\n",
    "X_= df.drop([\"Salary\",\"League\",\"Division\",\"NewLeague\"],axis=1).astype(\"float64\")\n",
    "X=pd.concat([X_,dms[[\"League_N\",\"Division_W\",\"NewLeague_N\"]]],axis=1)\n",
    "# veri setini test ve train olarak ayırdık\n",
    "from sklearn.model_selection import train_test_split,cross_val_score,cross_val_predict\n",
    "X_train,X_test,y_train,y_test=train_test_split(X,y,test_size=0.25,\n",
    "                                              random_state=42)\n",
    "print(\"X_train\",X_train.shape)\n",
    "print(\"y_train\",y_train.shape)\n",
    "print(\"X_test\",X_test.shape)\n",
    "print(\"y_test\",y_test.shape)\n",
    "training= df.copy()# tüm veri seti\n",
    "print(\"training\",training.shape)"
   ]
  },
  {
   "cell_type": "code",
   "execution_count": 32,
   "metadata": {},
   "outputs": [],
   "source": [
    "X_train=pd.DataFrame(X_train[\"Hits\"])\n",
    "X_test=pd.DataFrame(X_test[\"Hits\"])"
   ]
  },
  {
   "cell_type": "code",
   "execution_count": 33,
   "metadata": {},
   "outputs": [],
   "source": [
    "from sklearn.svm import SVR"
   ]
  },
  {
   "cell_type": "code",
   "execution_count": 34,
   "metadata": {},
   "outputs": [],
   "source": [
    "svr_model=SVR(\"linear\").fit(X_train,y_train)"
   ]
  },
  {
   "cell_type": "code",
   "execution_count": 36,
   "metadata": {},
   "outputs": [],
   "source": [
    "y_pred=svr_model.predict(X_test)"
   ]
  },
  {
   "cell_type": "code",
   "execution_count": 37,
   "metadata": {},
   "outputs": [
    {
     "data": {
      "text/plain": [
       "459.0187960365147"
      ]
     },
     "execution_count": 37,
     "metadata": {},
     "output_type": "execute_result"
    }
   ],
   "source": [
    "np.sqrt(mean_squared_error(y_test,y_pred))"
   ]
  },
  {
   "cell_type": "code",
   "execution_count": 38,
   "metadata": {},
   "outputs": [
    {
     "name": "stdout",
     "output_type": "stream",
     "text": [
      "y=-48.69756097561513 +4.969512195122093 x\n"
     ]
    }
   ],
   "source": [
    "# dogrusal svr ın model denklemi\n",
    "\n",
    "print(\"y={0} +{1} x\".format(svr_model.intercept_[0],\n",
    "                           svr_model.coef_[0][0]))"
   ]
  },
  {
   "cell_type": "code",
   "execution_count": 39,
   "metadata": {},
   "outputs": [
    {
     "data": {
      "text/plain": [
       "183    91.0\n",
       "Name: Hits, dtype: float64"
      ]
     },
     "execution_count": 39,
     "metadata": {},
     "output_type": "execute_result"
    }
   ],
   "source": [
    "X_train[\"Hits\"][0:1]"
   ]
  },
  {
   "cell_type": "code",
   "execution_count": 41,
   "metadata": {},
   "outputs": [],
   "source": [
    "y_pred=svr_model.predict(X_train)"
   ]
  },
  {
   "cell_type": "code",
   "execution_count": 42,
   "metadata": {},
   "outputs": [
    {
     "data": {
      "text/plain": [
       "[<matplotlib.lines.Line2D at 0x227a878f9c8>]"
      ]
     },
     "execution_count": 42,
     "metadata": {},
     "output_type": "execute_result"
    },
    {
     "data": {
      "image/png": "[encoded data removed]",
      "text/plain": [
       "<Figure size 432x288 with 1 Axes>"
      ]
     },
     "metadata": {
      "needs_background": "light"
     },
     "output_type": "display_data"
    }
   ],
   "source": [
    "\n",
    "plt.scatter(X_train,y_train)\n",
    "plt.plot(X_train,y_pred,color=\"r\")"
   ]
  },
  {
   "cell_type": "code",
   "execution_count": 8,
   "metadata": {},
   "outputs": [
    {
     "name": "stdout",
     "output_type": "stream",
     "text": [
      "y= -4.648694722336131 +-1.773248821012152 x\n"
     ]
    }
   ],
   "source": [
    "from sklearn.linear_model import LinearRegression\n",
    "lm_model=LinearRegression().fit(X_train,y_train)\n",
    "lm_pred=lm_model.predict(X_train)\n",
    "print(\"y= {0} +{1} x\".format(lm_model.intercept_,lm_model.coef_[0]))"
   ]
  },
  {
   "cell_type": "code",
   "execution_count": 45,
   "metadata": {},
   "outputs": [
    {
     "data": {
      "text/plain": [
       "[<matplotlib.lines.Line2D at 0x227a8831c48>]"
      ]
     },
     "execution_count": 45,
     "metadata": {},
     "output_type": "execute_result"
    },
    {
     "data": {
      "image/png": "[encoded data removed]",
      "text/plain": [
       "<Figure size 432x288 with 1 Axes>"
      ]
     },
     "metadata": {
      "needs_background": "light"
     },
     "output_type": "display_data"
    }
   ],
   "source": [
    "\n",
    "plt.scatter(X_train,y_train)\n",
    "plt.plot(X_train,lm_pred,color=\"g\")\n",
    "plt.plot(X_train,y_pred,color=\"r\")"
   ]
  },
  {
   "cell_type": "code",
   "execution_count": 46,
   "metadata": {},
   "outputs": [],
   "source": [
    "# yesil dogru regresyon modeli\n",
    "# kırmızı dogru svr modeli\n",
    "# svr robasttır.aykırı gözlemlerin etkisi svr da biraz daha düşüktür."
   ]
  },
  {
   "cell_type": "markdown",
   "metadata": {},
   "source": [
    "# SVR - TAHMİN"
   ]
  },
  {
   "cell_type": "code",
   "execution_count": 47,
   "metadata": {},
   "outputs": [
    {
     "data": {
      "text/plain": [
       "array([403.52804878])"
      ]
     },
     "execution_count": 47,
     "metadata": {},
     "output_type": "execute_result"
    }
   ],
   "source": [
    "svr_model.predict([[91]])"
   ]
  },
  {
   "cell_type": "code",
   "execution_count": 49,
   "metadata": {},
   "outputs": [],
   "source": [
    "y_pred=svr_model.predict(X_test)"
   ]
  },
  {
   "cell_type": "code",
   "execution_count": 50,
   "metadata": {},
   "outputs": [
    {
     "data": {
      "text/plain": [
       "459.0187960365147"
      ]
     },
     "execution_count": 50,
     "metadata": {},
     "output_type": "execute_result"
    }
   ],
   "source": [
    "np.sqrt(mean_squared_error(y_test,y_pred))"
   ]
  },
  {
   "cell_type": "code",
   "execution_count": 51,
   "metadata": {},
   "outputs": [
    {
     "data": {
      "text/plain": [
       "SVR(C=1.0, cache_size=200, coef0=0.0, degree=3, epsilon=0.1,\n",
       "    gamma='auto_deprecated', kernel='linear', max_iter=-1, shrinking=True,\n",
       "    tol=0.001, verbose=False)"
      ]
     },
     "execution_count": 51,
     "metadata": {},
     "output_type": "execute_result"
    }
   ],
   "source": [
    "svr_model"
   ]
  },
  {
   "cell_type": "markdown",
   "metadata": {},
   "source": [
    "## SVR - MODEL TUNİNG"
   ]
  },
  {
   "cell_type": "code",
   "execution_count": 52,
   "metadata": {},
   "outputs": [
    {
     "data": {
      "text/plain": [
       "SVR(C=1.0, cache_size=200, coef0=0.0, degree=3, epsilon=0.1,\n",
       "    gamma='auto_deprecated', kernel='linear', max_iter=-1, shrinking=True,\n",
       "    tol=0.001, verbose=False)"
      ]
     },
     "execution_count": 52,
     "metadata": {},
     "output_type": "execute_result"
    }
   ],
   "source": [
    "svr_model"
   ]
  },
  {
   "cell_type": "code",
   "execution_count": null,
   "metadata": {},
   "outputs": [],
   "source": [
    "svr_params={\"C\":np.arange(0.1,2,0.1)}\n",
    "svr_cv_model=GridSearchCV(svr_model,svr_params,cv=10).fit(X_train,y_train)"
   ]
  },
  {
   "cell_type": "code",
   "execution_count": 58,
   "metadata": {},
   "outputs": [
    {
     "data": {
      "text/plain": [
       "{'C': 0.1}"
      ]
     },
     "execution_count": 58,
     "metadata": {},
     "output_type": "execute_result"
    }
   ],
   "source": [
    "svr_cv_model.best_params_# en iyi parametre "
   ]
  },
  {
   "cell_type": "code",
   "execution_count": 61,
   "metadata": {},
   "outputs": [],
   "source": [
    "svr_tuned=SVR(\"linear\",C=pd.Series(svr_cv_model.best_params_)[0]).fit(X_train,y_train)"
   ]
  },
  {
   "cell_type": "code",
   "execution_count": 62,
   "metadata": {},
   "outputs": [],
   "source": [
    "y_pred=svr_tuned.predict(X_test)"
   ]
  },
  {
   "cell_type": "code",
   "execution_count": 63,
   "metadata": {},
   "outputs": [
    {
     "data": {
      "text/plain": [
       "458.198966781116"
      ]
     },
     "execution_count": 63,
     "metadata": {},
     "output_type": "execute_result"
    }
   ],
   "source": [
    "np.sqrt(mean_squared_error(y_test,y_pred))# x_test[hits ] lerin calıstırıldıgı kod blogu ile cıkan hata"
   ]
  },
  {
   "cell_type": "code",
   "execution_count": null,
   "metadata": {},
   "outputs": [],
   "source": [
    "np.sqrt(mean_squared_error(y_test,y_pred))# direk veri setinin kendisinin calıstırılmasyıyla cıkan hata "
   ]
  },
  {
   "cell_type": "markdown",
   "metadata": {},
   "source": [
    "# Dogusal Olmayan SVR"
   ]
  },
  {
   "cell_type": "code",
   "execution_count": 2,
   "metadata": {},
   "outputs": [],
   "source": [
    "# Aykırı degerler EKK Dogrusunu'  kendilerine dogru cekerler .Ama SVR aykırı degerlere karsı daha dayanıklıdır.\n"
   ]
  },
  {
   "cell_type": "code",
   "execution_count": 9,
   "metadata": {},
   "outputs": [
    {
     "name": "stdout",
     "output_type": "stream",
     "text": [
      "X_train (197, 19)\n",
      "y_train (197,)\n",
      "X_test (66, 19)\n",
      "y_test (66,)\n",
      "training (263, 20)\n"
     ]
    }
   ],
   "source": [
    "hit=pd.read_csv(\"original.csv\")# American basketbol ligi \n",
    "df=hit.copy()\n",
    "df=df.dropna()\n",
    "dms= pd.get_dummies(df[['League','Division','NewLeague']])\n",
    "y=df[\"Salary\"]\n",
    "X_= df.drop([\"Salary\",\"League\",\"Division\",\"NewLeague\"],axis=1).astype(\"float64\")\n",
    "X=pd.concat([X_,dms[[\"League_N\",\"Division_W\",\"NewLeague_N\"]]],axis=1)\n",
    "# veri setini test ve train olarak ayırdık\n",
    "from sklearn.model_selection import train_test_split,cross_val_score,cross_val_predict\n",
    "X_train,X_test,y_train,y_test=train_test_split(X,y,test_size=0.25,\n",
    "                                              random_state=42)\n",
    "print(\"X_train\",X_train.shape)\n",
    "print(\"y_train\",y_train.shape)\n",
    "print(\"X_test\",X_test.shape)\n",
    "print(\"y_test\",y_test.shape)\n",
    "training= df.copy()# tüm veri seti\n",
    "print(\"training\",training.shape)"
   ]
  },
  {
   "cell_type": "code",
   "execution_count": 11,
   "metadata": {},
   "outputs": [
    {
     "name": "stderr",
     "output_type": "stream",
     "text": [
      "C:\\Users\\aayse\\AppData\\Local\\Continuum\\anaconda3\\lib\\site-packages\\sklearn\\svm\\base.py:193: FutureWarning: The default value of gamma will change from 'auto' to 'scale' in version 0.22 to account better for unscaled features. Set gamma explicitly to 'auto' or 'scale' to avoid this warning.\n",
      "  \"avoid this warning.\", FutureWarning)\n"
     ]
    }
   ],
   "source": [
    "from sklearn.svm import SVR\n",
    "svr_rbf=SVR(\"rbf\").fit(X_train,y_train)"
   ]
  },
  {
   "cell_type": "markdown",
   "metadata": {},
   "source": [
    "## Dogrusal Olmayan SVR - TAHMİN"
   ]
  },
  {
   "cell_type": "code",
   "execution_count": 13,
   "metadata": {},
   "outputs": [],
   "source": [
    "y_pred=svr_rbf.predict(X_test)"
   ]
  },
  {
   "cell_type": "code",
   "execution_count": 14,
   "metadata": {},
   "outputs": [
    {
     "data": {
      "text/plain": [
       "473.4445984431814"
      ]
     },
     "execution_count": 14,
     "metadata": {},
     "output_type": "execute_result"
    }
   ],
   "source": [
    "np.sqrt(mean_squared_error(y_test,y_pred))"
   ]
  },
  {
   "cell_type": "markdown",
   "metadata": {},
   "source": [
    "## Dogrusal Olmayan SVR - MODEL TUNİNG"
   ]
  },
  {
   "cell_type": "code",
   "execution_count": 16,
   "metadata": {},
   "outputs": [
    {
     "data": {
      "text/plain": [
       "SVR(C=1.0, cache_size=200, coef0=0.0, degree=3, epsilon=0.1,\n",
       "    gamma='auto_deprecated', kernel='rbf', max_iter=-1, shrinking=True,\n",
       "    tol=0.001, verbose=False)"
      ]
     },
     "execution_count": 16,
     "metadata": {},
     "output_type": "execute_result"
    }
   ],
   "source": [
    "svr_rbf"
   ]
  },
  {
   "cell_type": "code",
   "execution_count": 17,
   "metadata": {
    "collapsed": true,
    "jupyter": {
     "outputs_hidden": true
    }
   },
   "outputs": [
    {
     "name": "stderr",
     "output_type": "stream",
     "text": [
      "C:\\Users\\aayse\\AppData\\Local\\Continuum\\anaconda3\\lib\\site-packages\\sklearn\\svm\\base.py:193: FutureWarning: The default value of gamma will change from 'auto' to 'scale' in version 0.22 to account better for unscaled features. Set gamma explicitly to 'auto' or 'scale' to avoid this warning.\n",
      "  \"avoid this warning.\", FutureWarning)\n",
      "C:\\Users\\aayse\\AppData\\Local\\Continuum\\anaconda3\\lib\\site-packages\\sklearn\\svm\\base.py:193: FutureWarning: The default value of gamma will change from 'auto' to 'scale' in version 0.22 to account better for unscaled features. Set gamma explicitly to 'auto' or 'scale' to avoid this warning.\n",
      "  \"avoid this warning.\", FutureWarning)\n",
      "C:\\Users\\aayse\\AppData\\Local\\Continuum\\anaconda3\\lib\\site-packages\\sklearn\\svm\\base.py:193: FutureWarning: The default value of gamma will change from 'auto' to 'scale' in version 0.22 to account better for unscaled features. Set gamma explicitly to 'auto' or 'scale' to avoid this warning.\n",
      "  \"avoid this warning.\", FutureWarning)\n",
      "C:\\Users\\aayse\\AppData\\Local\\Continuum\\anaconda3\\lib\\site-packages\\sklearn\\svm\\base.py:193: FutureWarning: The default value of gamma will change from 'auto' to 'scale' in version 0.22 to account better for unscaled features. Set gamma explicitly to 'auto' or 'scale' to avoid this warning.\n",
      "  \"avoid this warning.\", FutureWarning)\n",
      "C:\\Users\\aayse\\AppData\\Local\\Continuum\\anaconda3\\lib\\site-packages\\sklearn\\svm\\base.py:193: FutureWarning: The default value of gamma will change from 'auto' to 'scale' in version 0.22 to account better for unscaled features. Set gamma explicitly to 'auto' or 'scale' to avoid this warning.\n",
      "  \"avoid this warning.\", FutureWarning)\n",
      "C:\\Users\\aayse\\AppData\\Local\\Continuum\\anaconda3\\lib\\site-packages\\sklearn\\svm\\base.py:193: FutureWarning: The default value of gamma will change from 'auto' to 'scale' in version 0.22 to account better for unscaled features. Set gamma explicitly to 'auto' or 'scale' to avoid this warning.\n",
      "  \"avoid this warning.\", FutureWarning)\n",
      "C:\\Users\\aayse\\AppData\\Local\\Continuum\\anaconda3\\lib\\site-packages\\sklearn\\svm\\base.py:193: FutureWarning: The default value of gamma will change from 'auto' to 'scale' in version 0.22 to account better for unscaled features. Set gamma explicitly to 'auto' or 'scale' to avoid this warning.\n",
      "  \"avoid this warning.\", FutureWarning)\n",
      "C:\\Users\\aayse\\AppData\\Local\\Continuum\\anaconda3\\lib\\site-packages\\sklearn\\svm\\base.py:193: FutureWarning: The default value of gamma will change from 'auto' to 'scale' in version 0.22 to account better for unscaled features. Set gamma explicitly to 'auto' or 'scale' to avoid this warning.\n",
      "  \"avoid this warning.\", FutureWarning)\n",
      "C:\\Users\\aayse\\AppData\\Local\\Continuum\\anaconda3\\lib\\site-packages\\sklearn\\svm\\base.py:193: FutureWarning: The default value of gamma will change from 'auto' to 'scale' in version 0.22 to account better for unscaled features. Set gamma explicitly to 'auto' or 'scale' to avoid this warning.\n",
      "  \"avoid this warning.\", FutureWarning)\n",
      "C:\\Users\\aayse\\AppData\\Local\\Continuum\\anaconda3\\lib\\site-packages\\sklearn\\svm\\base.py:193: FutureWarning: The default value of gamma will change from 'auto' to 'scale' in version 0.22 to account better for unscaled features. Set gamma explicitly to 'auto' or 'scale' to avoid this warning.\n",
      "  \"avoid this warning.\", FutureWarning)\n",
      "C:\\Users\\aayse\\AppData\\Local\\Continuum\\anaconda3\\lib\\site-packages\\sklearn\\svm\\base.py:193: FutureWarning: The default value of gamma will change from 'auto' to 'scale' in version 0.22 to account better for unscaled features. Set gamma explicitly to 'auto' or 'scale' to avoid this warning.\n",
      "  \"avoid this warning.\", FutureWarning)\n",
      "C:\\Users\\aayse\\AppData\\Local\\Continuum\\anaconda3\\lib\\site-packages\\sklearn\\svm\\base.py:193: FutureWarning: The default value of gamma will change from 'auto' to 'scale' in version 0.22 to account better for unscaled features. Set gamma explicitly to 'auto' or 'scale' to avoid this warning.\n",
      "  \"avoid this warning.\", FutureWarning)\n",
      "C:\\Users\\aayse\\AppData\\Local\\Continuum\\anaconda3\\lib\\site-packages\\sklearn\\svm\\base.py:193: FutureWarning: The default value of gamma will change from 'auto' to 'scale' in version 0.22 to account better for unscaled features. Set gamma explicitly to 'auto' or 'scale' to avoid this warning.\n",
      "  \"avoid this warning.\", FutureWarning)\n",
      "C:\\Users\\aayse\\AppData\\Local\\Continuum\\anaconda3\\lib\\site-packages\\sklearn\\svm\\base.py:193: FutureWarning: The default value of gamma will change from 'auto' to 'scale' in version 0.22 to account better for unscaled features. Set gamma explicitly to 'auto' or 'scale' to avoid this warning.\n",
      "  \"avoid this warning.\", FutureWarning)\n",
      "C:\\Users\\aayse\\AppData\\Local\\Continuum\\anaconda3\\lib\\site-packages\\sklearn\\svm\\base.py:193: FutureWarning: The default value of gamma will change from 'auto' to 'scale' in version 0.22 to account better for unscaled features. Set gamma explicitly to 'auto' or 'scale' to avoid this warning.\n",
      "  \"avoid this warning.\", FutureWarning)\n",
      "C:\\Users\\aayse\\AppData\\Local\\Continuum\\anaconda3\\lib\\site-packages\\sklearn\\svm\\base.py:193: FutureWarning: The default value of gamma will change from 'auto' to 'scale' in version 0.22 to account better for unscaled features. Set gamma explicitly to 'auto' or 'scale' to avoid this warning.\n",
      "  \"avoid this warning.\", FutureWarning)\n",
      "C:\\Users\\aayse\\AppData\\Local\\Continuum\\anaconda3\\lib\\site-packages\\sklearn\\svm\\base.py:193: FutureWarning: The default value of gamma will change from 'auto' to 'scale' in version 0.22 to account better for unscaled features. Set gamma explicitly to 'auto' or 'scale' to avoid this warning.\n",
      "  \"avoid this warning.\", FutureWarning)\n",
      "C:\\Users\\aayse\\AppData\\Local\\Continuum\\anaconda3\\lib\\site-packages\\sklearn\\svm\\base.py:193: FutureWarning: The default value of gamma will change from 'auto' to 'scale' in version 0.22 to account better for unscaled features. Set gamma explicitly to 'auto' or 'scale' to avoid this warning.\n",
      "  \"avoid this warning.\", FutureWarning)\n",
      "C:\\Users\\aayse\\AppData\\Local\\Continuum\\anaconda3\\lib\\site-packages\\sklearn\\svm\\base.py:193: FutureWarning: The default value of gamma will change from 'auto' to 'scale' in version 0.22 to account better for unscaled features. Set gamma explicitly to 'auto' or 'scale' to avoid this warning.\n",
      "  \"avoid this warning.\", FutureWarning)\n",
      "C:\\Users\\aayse\\AppData\\Local\\Continuum\\anaconda3\\lib\\site-packages\\sklearn\\svm\\base.py:193: FutureWarning: The default value of gamma will change from 'auto' to 'scale' in version 0.22 to account better for unscaled features. Set gamma explicitly to 'auto' or 'scale' to avoid this warning.\n",
      "  \"avoid this warning.\", FutureWarning)\n",
      "C:\\Users\\aayse\\AppData\\Local\\Continuum\\anaconda3\\lib\\site-packages\\sklearn\\svm\\base.py:193: FutureWarning: The default value of gamma will change from 'auto' to 'scale' in version 0.22 to account better for unscaled features. Set gamma explicitly to 'auto' or 'scale' to avoid this warning.\n",
      "  \"avoid this warning.\", FutureWarning)\n",
      "C:\\Users\\aayse\\AppData\\Local\\Continuum\\anaconda3\\lib\\site-packages\\sklearn\\svm\\base.py:193: FutureWarning: The default value of gamma will change from 'auto' to 'scale' in version 0.22 to account better for unscaled features. Set gamma explicitly to 'auto' or 'scale' to avoid this warning.\n",
      "  \"avoid this warning.\", FutureWarning)\n",
      "C:\\Users\\aayse\\AppData\\Local\\Continuum\\anaconda3\\lib\\site-packages\\sklearn\\svm\\base.py:193: FutureWarning: The default value of gamma will change from 'auto' to 'scale' in version 0.22 to account better for unscaled features. Set gamma explicitly to 'auto' or 'scale' to avoid this warning.\n",
      "  \"avoid this warning.\", FutureWarning)\n",
      "C:\\Users\\aayse\\AppData\\Local\\Continuum\\anaconda3\\lib\\site-packages\\sklearn\\svm\\base.py:193: FutureWarning: The default value of gamma will change from 'auto' to 'scale' in version 0.22 to account better for unscaled features. Set gamma explicitly to 'auto' or 'scale' to avoid this warning.\n",
      "  \"avoid this warning.\", FutureWarning)\n",
      "C:\\Users\\aayse\\AppData\\Local\\Continuum\\anaconda3\\lib\\site-packages\\sklearn\\svm\\base.py:193: FutureWarning: The default value of gamma will change from 'auto' to 'scale' in version 0.22 to account better for unscaled features. Set gamma explicitly to 'auto' or 'scale' to avoid this warning.\n",
      "  \"avoid this warning.\", FutureWarning)\n",
      "C:\\Users\\aayse\\AppData\\Local\\Continuum\\anaconda3\\lib\\site-packages\\sklearn\\svm\\base.py:193: FutureWarning: The default value of gamma will change from 'auto' to 'scale' in version 0.22 to account better for unscaled features. Set gamma explicitly to 'auto' or 'scale' to avoid this warning.\n",
      "  \"avoid this warning.\", FutureWarning)\n",
      "C:\\Users\\aayse\\AppData\\Local\\Continuum\\anaconda3\\lib\\site-packages\\sklearn\\svm\\base.py:193: FutureWarning: The default value of gamma will change from 'auto' to 'scale' in version 0.22 to account better for unscaled features. Set gamma explicitly to 'auto' or 'scale' to avoid this warning.\n",
      "  \"avoid this warning.\", FutureWarning)\n",
      "C:\\Users\\aayse\\AppData\\Local\\Continuum\\anaconda3\\lib\\site-packages\\sklearn\\svm\\base.py:193: FutureWarning: The default value of gamma will change from 'auto' to 'scale' in version 0.22 to account better for unscaled features. Set gamma explicitly to 'auto' or 'scale' to avoid this warning.\n",
      "  \"avoid this warning.\", FutureWarning)\n",
      "C:\\Users\\aayse\\AppData\\Local\\Continuum\\anaconda3\\lib\\site-packages\\sklearn\\svm\\base.py:193: FutureWarning: The default value of gamma will change from 'auto' to 'scale' in version 0.22 to account better for unscaled features. Set gamma explicitly to 'auto' or 'scale' to avoid this warning.\n",
      "  \"avoid this warning.\", FutureWarning)\n",
      "C:\\Users\\aayse\\AppData\\Local\\Continuum\\anaconda3\\lib\\site-packages\\sklearn\\svm\\base.py:193: FutureWarning: The default value of gamma will change from 'auto' to 'scale' in version 0.22 to account better for unscaled features. Set gamma explicitly to 'auto' or 'scale' to avoid this warning.\n",
      "  \"avoid this warning.\", FutureWarning)\n",
      "C:\\Users\\aayse\\AppData\\Local\\Continuum\\anaconda3\\lib\\site-packages\\sklearn\\svm\\base.py:193: FutureWarning: The default value of gamma will change from 'auto' to 'scale' in version 0.22 to account better for unscaled features. Set gamma explicitly to 'auto' or 'scale' to avoid this warning.\n",
      "  \"avoid this warning.\", FutureWarning)\n",
      "C:\\Users\\aayse\\AppData\\Local\\Continuum\\anaconda3\\lib\\site-packages\\sklearn\\svm\\base.py:193: FutureWarning: The default value of gamma will change from 'auto' to 'scale' in version 0.22 to account better for unscaled features. Set gamma explicitly to 'auto' or 'scale' to avoid this warning.\n",
      "  \"avoid this warning.\", FutureWarning)\n",
      "C:\\Users\\aayse\\AppData\\Local\\Continuum\\anaconda3\\lib\\site-packages\\sklearn\\svm\\base.py:193: FutureWarning: The default value of gamma will change from 'auto' to 'scale' in version 0.22 to account better for unscaled features. Set gamma explicitly to 'auto' or 'scale' to avoid this warning.\n",
      "  \"avoid this warning.\", FutureWarning)\n",
      "C:\\Users\\aayse\\AppData\\Local\\Continuum\\anaconda3\\lib\\site-packages\\sklearn\\svm\\base.py:193: FutureWarning: The default value of gamma will change from 'auto' to 'scale' in version 0.22 to account better for unscaled features. Set gamma explicitly to 'auto' or 'scale' to avoid this warning.\n",
      "  \"avoid this warning.\", FutureWarning)\n",
      "C:\\Users\\aayse\\AppData\\Local\\Continuum\\anaconda3\\lib\\site-packages\\sklearn\\svm\\base.py:193: FutureWarning: The default value of gamma will change from 'auto' to 'scale' in version 0.22 to account better for unscaled features. Set gamma explicitly to 'auto' or 'scale' to avoid this warning.\n",
      "  \"avoid this warning.\", FutureWarning)\n",
      "C:\\Users\\aayse\\AppData\\Local\\Continuum\\anaconda3\\lib\\site-packages\\sklearn\\svm\\base.py:193: FutureWarning: The default value of gamma will change from 'auto' to 'scale' in version 0.22 to account better for unscaled features. Set gamma explicitly to 'auto' or 'scale' to avoid this warning.\n",
      "  \"avoid this warning.\", FutureWarning)\n",
      "C:\\Users\\aayse\\AppData\\Local\\Continuum\\anaconda3\\lib\\site-packages\\sklearn\\svm\\base.py:193: FutureWarning: The default value of gamma will change from 'auto' to 'scale' in version 0.22 to account better for unscaled features. Set gamma explicitly to 'auto' or 'scale' to avoid this warning.\n",
      "  \"avoid this warning.\", FutureWarning)\n",
      "C:\\Users\\aayse\\AppData\\Local\\Continuum\\anaconda3\\lib\\site-packages\\sklearn\\svm\\base.py:193: FutureWarning: The default value of gamma will change from 'auto' to 'scale' in version 0.22 to account better for unscaled features. Set gamma explicitly to 'auto' or 'scale' to avoid this warning.\n",
      "  \"avoid this warning.\", FutureWarning)\n",
      "C:\\Users\\aayse\\AppData\\Local\\Continuum\\anaconda3\\lib\\site-packages\\sklearn\\svm\\base.py:193: FutureWarning: The default value of gamma will change from 'auto' to 'scale' in version 0.22 to account better for unscaled features. Set gamma explicitly to 'auto' or 'scale' to avoid this warning.\n",
      "  \"avoid this warning.\", FutureWarning)\n",
      "C:\\Users\\aayse\\AppData\\Local\\Continuum\\anaconda3\\lib\\site-packages\\sklearn\\svm\\base.py:193: FutureWarning: The default value of gamma will change from 'auto' to 'scale' in version 0.22 to account better for unscaled features. Set gamma explicitly to 'auto' or 'scale' to avoid this warning.\n",
      "  \"avoid this warning.\", FutureWarning)\n",
      "C:\\Users\\aayse\\AppData\\Local\\Continuum\\anaconda3\\lib\\site-packages\\sklearn\\svm\\base.py:193: FutureWarning: The default value of gamma will change from 'auto' to 'scale' in version 0.22 to account better for unscaled features. Set gamma explicitly to 'auto' or 'scale' to avoid this warning.\n",
      "  \"avoid this warning.\", FutureWarning)\n",
      "C:\\Users\\aayse\\AppData\\Local\\Continuum\\anaconda3\\lib\\site-packages\\sklearn\\svm\\base.py:193: FutureWarning: The default value of gamma will change from 'auto' to 'scale' in version 0.22 to account better for unscaled features. Set gamma explicitly to 'auto' or 'scale' to avoid this warning.\n",
      "  \"avoid this warning.\", FutureWarning)\n",
      "C:\\Users\\aayse\\AppData\\Local\\Continuum\\anaconda3\\lib\\site-packages\\sklearn\\svm\\base.py:193: FutureWarning: The default value of gamma will change from 'auto' to 'scale' in version 0.22 to account better for unscaled features. Set gamma explicitly to 'auto' or 'scale' to avoid this warning.\n",
      "  \"avoid this warning.\", FutureWarning)\n",
      "C:\\Users\\aayse\\AppData\\Local\\Continuum\\anaconda3\\lib\\site-packages\\sklearn\\svm\\base.py:193: FutureWarning: The default value of gamma will change from 'auto' to 'scale' in version 0.22 to account better for unscaled features. Set gamma explicitly to 'auto' or 'scale' to avoid this warning.\n",
      "  \"avoid this warning.\", FutureWarning)\n",
      "C:\\Users\\aayse\\AppData\\Local\\Continuum\\anaconda3\\lib\\site-packages\\sklearn\\svm\\base.py:193: FutureWarning: The default value of gamma will change from 'auto' to 'scale' in version 0.22 to account better for unscaled features. Set gamma explicitly to 'auto' or 'scale' to avoid this warning.\n",
      "  \"avoid this warning.\", FutureWarning)\n",
      "C:\\Users\\aayse\\AppData\\Local\\Continuum\\anaconda3\\lib\\site-packages\\sklearn\\svm\\base.py:193: FutureWarning: The default value of gamma will change from 'auto' to 'scale' in version 0.22 to account better for unscaled features. Set gamma explicitly to 'auto' or 'scale' to avoid this warning.\n",
      "  \"avoid this warning.\", FutureWarning)\n",
      "C:\\Users\\aayse\\AppData\\Local\\Continuum\\anaconda3\\lib\\site-packages\\sklearn\\svm\\base.py:193: FutureWarning: The default value of gamma will change from 'auto' to 'scale' in version 0.22 to account better for unscaled features. Set gamma explicitly to 'auto' or 'scale' to avoid this warning.\n",
      "  \"avoid this warning.\", FutureWarning)\n",
      "C:\\Users\\aayse\\AppData\\Local\\Continuum\\anaconda3\\lib\\site-packages\\sklearn\\svm\\base.py:193: FutureWarning: The default value of gamma will change from 'auto' to 'scale' in version 0.22 to account better for unscaled features. Set gamma explicitly to 'auto' or 'scale' to avoid this warning.\n",
      "  \"avoid this warning.\", FutureWarning)\n",
      "C:\\Users\\aayse\\AppData\\Local\\Continuum\\anaconda3\\lib\\site-packages\\sklearn\\svm\\base.py:193: FutureWarning: The default value of gamma will change from 'auto' to 'scale' in version 0.22 to account better for unscaled features. Set gamma explicitly to 'auto' or 'scale' to avoid this warning.\n",
      "  \"avoid this warning.\", FutureWarning)\n",
      "C:\\Users\\aayse\\AppData\\Local\\Continuum\\anaconda3\\lib\\site-packages\\sklearn\\svm\\base.py:193: FutureWarning: The default value of gamma will change from 'auto' to 'scale' in version 0.22 to account better for unscaled features. Set gamma explicitly to 'auto' or 'scale' to avoid this warning.\n",
      "  \"avoid this warning.\", FutureWarning)\n",
      "C:\\Users\\aayse\\AppData\\Local\\Continuum\\anaconda3\\lib\\site-packages\\sklearn\\svm\\base.py:193: FutureWarning: The default value of gamma will change from 'auto' to 'scale' in version 0.22 to account better for unscaled features. Set gamma explicitly to 'auto' or 'scale' to avoid this warning.\n",
      "  \"avoid this warning.\", FutureWarning)\n",
      "C:\\Users\\aayse\\AppData\\Local\\Continuum\\anaconda3\\lib\\site-packages\\sklearn\\svm\\base.py:193: FutureWarning: The default value of gamma will change from 'auto' to 'scale' in version 0.22 to account better for unscaled features. Set gamma explicitly to 'auto' or 'scale' to avoid this warning.\n",
      "  \"avoid this warning.\", FutureWarning)\n",
      "C:\\Users\\aayse\\AppData\\Local\\Continuum\\anaconda3\\lib\\site-packages\\sklearn\\svm\\base.py:193: FutureWarning: The default value of gamma will change from 'auto' to 'scale' in version 0.22 to account better for unscaled features. Set gamma explicitly to 'auto' or 'scale' to avoid this warning.\n",
      "  \"avoid this warning.\", FutureWarning)\n",
      "C:\\Users\\aayse\\AppData\\Local\\Continuum\\anaconda3\\lib\\site-packages\\sklearn\\svm\\base.py:193: FutureWarning: The default value of gamma will change from 'auto' to 'scale' in version 0.22 to account better for unscaled features. Set gamma explicitly to 'auto' or 'scale' to avoid this warning.\n",
      "  \"avoid this warning.\", FutureWarning)\n",
      "C:\\Users\\aayse\\AppData\\Local\\Continuum\\anaconda3\\lib\\site-packages\\sklearn\\svm\\base.py:193: FutureWarning: The default value of gamma will change from 'auto' to 'scale' in version 0.22 to account better for unscaled features. Set gamma explicitly to 'auto' or 'scale' to avoid this warning.\n",
      "  \"avoid this warning.\", FutureWarning)\n",
      "C:\\Users\\aayse\\AppData\\Local\\Continuum\\anaconda3\\lib\\site-packages\\sklearn\\svm\\base.py:193: FutureWarning: The default value of gamma will change from 'auto' to 'scale' in version 0.22 to account better for unscaled features. Set gamma explicitly to 'auto' or 'scale' to avoid this warning.\n",
      "  \"avoid this warning.\", FutureWarning)\n",
      "C:\\Users\\aayse\\AppData\\Local\\Continuum\\anaconda3\\lib\\site-packages\\sklearn\\svm\\base.py:193: FutureWarning: The default value of gamma will change from 'auto' to 'scale' in version 0.22 to account better for unscaled features. Set gamma explicitly to 'auto' or 'scale' to avoid this warning.\n",
      "  \"avoid this warning.\", FutureWarning)\n",
      "C:\\Users\\aayse\\AppData\\Local\\Continuum\\anaconda3\\lib\\site-packages\\sklearn\\svm\\base.py:193: FutureWarning: The default value of gamma will change from 'auto' to 'scale' in version 0.22 to account better for unscaled features. Set gamma explicitly to 'auto' or 'scale' to avoid this warning.\n",
      "  \"avoid this warning.\", FutureWarning)\n",
      "C:\\Users\\aayse\\AppData\\Local\\Continuum\\anaconda3\\lib\\site-packages\\sklearn\\svm\\base.py:193: FutureWarning: The default value of gamma will change from 'auto' to 'scale' in version 0.22 to account better for unscaled features. Set gamma explicitly to 'auto' or 'scale' to avoid this warning.\n",
      "  \"avoid this warning.\", FutureWarning)\n",
      "C:\\Users\\aayse\\AppData\\Local\\Continuum\\anaconda3\\lib\\site-packages\\sklearn\\svm\\base.py:193: FutureWarning: The default value of gamma will change from 'auto' to 'scale' in version 0.22 to account better for unscaled features. Set gamma explicitly to 'auto' or 'scale' to avoid this warning.\n",
      "  \"avoid this warning.\", FutureWarning)\n",
      "C:\\Users\\aayse\\AppData\\Local\\Continuum\\anaconda3\\lib\\site-packages\\sklearn\\svm\\base.py:193: FutureWarning: The default value of gamma will change from 'auto' to 'scale' in version 0.22 to account better for unscaled features. Set gamma explicitly to 'auto' or 'scale' to avoid this warning.\n",
      "  \"avoid this warning.\", FutureWarning)\n",
      "C:\\Users\\aayse\\AppData\\Local\\Continuum\\anaconda3\\lib\\site-packages\\sklearn\\svm\\base.py:193: FutureWarning: The default value of gamma will change from 'auto' to 'scale' in version 0.22 to account better for unscaled features. Set gamma explicitly to 'auto' or 'scale' to avoid this warning.\n",
      "  \"avoid this warning.\", FutureWarning)\n",
      "C:\\Users\\aayse\\AppData\\Local\\Continuum\\anaconda3\\lib\\site-packages\\sklearn\\svm\\base.py:193: FutureWarning: The default value of gamma will change from 'auto' to 'scale' in version 0.22 to account better for unscaled features. Set gamma explicitly to 'auto' or 'scale' to avoid this warning.\n",
      "  \"avoid this warning.\", FutureWarning)\n",
      "C:\\Users\\aayse\\AppData\\Local\\Continuum\\anaconda3\\lib\\site-packages\\sklearn\\svm\\base.py:193: FutureWarning: The default value of gamma will change from 'auto' to 'scale' in version 0.22 to account better for unscaled features. Set gamma explicitly to 'auto' or 'scale' to avoid this warning.\n",
      "  \"avoid this warning.\", FutureWarning)\n",
      "C:\\Users\\aayse\\AppData\\Local\\Continuum\\anaconda3\\lib\\site-packages\\sklearn\\svm\\base.py:193: FutureWarning: The default value of gamma will change from 'auto' to 'scale' in version 0.22 to account better for unscaled features. Set gamma explicitly to 'auto' or 'scale' to avoid this warning.\n",
      "  \"avoid this warning.\", FutureWarning)\n",
      "C:\\Users\\aayse\\AppData\\Local\\Continuum\\anaconda3\\lib\\site-packages\\sklearn\\svm\\base.py:193: FutureWarning: The default value of gamma will change from 'auto' to 'scale' in version 0.22 to account better for unscaled features. Set gamma explicitly to 'auto' or 'scale' to avoid this warning.\n",
      "  \"avoid this warning.\", FutureWarning)\n",
      "C:\\Users\\aayse\\AppData\\Local\\Continuum\\anaconda3\\lib\\site-packages\\sklearn\\svm\\base.py:193: FutureWarning: The default value of gamma will change from 'auto' to 'scale' in version 0.22 to account better for unscaled features. Set gamma explicitly to 'auto' or 'scale' to avoid this warning.\n",
      "  \"avoid this warning.\", FutureWarning)\n",
      "C:\\Users\\aayse\\AppData\\Local\\Continuum\\anaconda3\\lib\\site-packages\\sklearn\\svm\\base.py:193: FutureWarning: The default value of gamma will change from 'auto' to 'scale' in version 0.22 to account better for unscaled features. Set gamma explicitly to 'auto' or 'scale' to avoid this warning.\n",
      "  \"avoid this warning.\", FutureWarning)\n",
      "C:\\Users\\aayse\\AppData\\Local\\Continuum\\anaconda3\\lib\\site-packages\\sklearn\\svm\\base.py:193: FutureWarning: The default value of gamma will change from 'auto' to 'scale' in version 0.22 to account better for unscaled features. Set gamma explicitly to 'auto' or 'scale' to avoid this warning.\n",
      "  \"avoid this warning.\", FutureWarning)\n",
      "C:\\Users\\aayse\\AppData\\Local\\Continuum\\anaconda3\\lib\\site-packages\\sklearn\\svm\\base.py:193: FutureWarning: The default value of gamma will change from 'auto' to 'scale' in version 0.22 to account better for unscaled features. Set gamma explicitly to 'auto' or 'scale' to avoid this warning.\n",
      "  \"avoid this warning.\", FutureWarning)\n",
      "C:\\Users\\aayse\\AppData\\Local\\Continuum\\anaconda3\\lib\\site-packages\\sklearn\\svm\\base.py:193: FutureWarning: The default value of gamma will change from 'auto' to 'scale' in version 0.22 to account better for unscaled features. Set gamma explicitly to 'auto' or 'scale' to avoid this warning.\n",
      "  \"avoid this warning.\", FutureWarning)\n",
      "C:\\Users\\aayse\\AppData\\Local\\Continuum\\anaconda3\\lib\\site-packages\\sklearn\\svm\\base.py:193: FutureWarning: The default value of gamma will change from 'auto' to 'scale' in version 0.22 to account better for unscaled features. Set gamma explicitly to 'auto' or 'scale' to avoid this warning.\n",
      "  \"avoid this warning.\", FutureWarning)\n",
      "C:\\Users\\aayse\\AppData\\Local\\Continuum\\anaconda3\\lib\\site-packages\\sklearn\\svm\\base.py:193: FutureWarning: The default value of gamma will change from 'auto' to 'scale' in version 0.22 to account better for unscaled features. Set gamma explicitly to 'auto' or 'scale' to avoid this warning.\n",
      "  \"avoid this warning.\", FutureWarning)\n",
      "C:\\Users\\aayse\\AppData\\Local\\Continuum\\anaconda3\\lib\\site-packages\\sklearn\\svm\\base.py:193: FutureWarning: The default value of gamma will change from 'auto' to 'scale' in version 0.22 to account better for unscaled features. Set gamma explicitly to 'auto' or 'scale' to avoid this warning.\n",
      "  \"avoid this warning.\", FutureWarning)\n",
      "C:\\Users\\aayse\\AppData\\Local\\Continuum\\anaconda3\\lib\\site-packages\\sklearn\\svm\\base.py:193: FutureWarning: The default value of gamma will change from 'auto' to 'scale' in version 0.22 to account better for unscaled features. Set gamma explicitly to 'auto' or 'scale' to avoid this warning.\n",
      "  \"avoid this warning.\", FutureWarning)\n",
      "C:\\Users\\aayse\\AppData\\Local\\Continuum\\anaconda3\\lib\\site-packages\\sklearn\\svm\\base.py:193: FutureWarning: The default value of gamma will change from 'auto' to 'scale' in version 0.22 to account better for unscaled features. Set gamma explicitly to 'auto' or 'scale' to avoid this warning.\n",
      "  \"avoid this warning.\", FutureWarning)\n",
      "C:\\Users\\aayse\\AppData\\Local\\Continuum\\anaconda3\\lib\\site-packages\\sklearn\\svm\\base.py:193: FutureWarning: The default value of gamma will change from 'auto' to 'scale' in version 0.22 to account better for unscaled features. Set gamma explicitly to 'auto' or 'scale' to avoid this warning.\n",
      "  \"avoid this warning.\", FutureWarning)\n",
      "C:\\Users\\aayse\\AppData\\Local\\Continuum\\anaconda3\\lib\\site-packages\\sklearn\\svm\\base.py:193: FutureWarning: The default value of gamma will change from 'auto' to 'scale' in version 0.22 to account better for unscaled features. Set gamma explicitly to 'auto' or 'scale' to avoid this warning.\n",
      "  \"avoid this warning.\", FutureWarning)\n",
      "C:\\Users\\aayse\\AppData\\Local\\Continuum\\anaconda3\\lib\\site-packages\\sklearn\\svm\\base.py:193: FutureWarning: The default value of gamma will change from 'auto' to 'scale' in version 0.22 to account better for unscaled features. Set gamma explicitly to 'auto' or 'scale' to avoid this warning.\n",
      "  \"avoid this warning.\", FutureWarning)\n",
      "C:\\Users\\aayse\\AppData\\Local\\Continuum\\anaconda3\\lib\\site-packages\\sklearn\\svm\\base.py:193: FutureWarning: The default value of gamma will change from 'auto' to 'scale' in version 0.22 to account better for unscaled features. Set gamma explicitly to 'auto' or 'scale' to avoid this warning.\n",
      "  \"avoid this warning.\", FutureWarning)\n",
      "C:\\Users\\aayse\\AppData\\Local\\Continuum\\anaconda3\\lib\\site-packages\\sklearn\\model_selection\\_search.py:814: DeprecationWarning: The default of the `iid` parameter will change from True to False in version 0.22 and will be removed in 0.24. This will change numeric results when test-set sizes are unequal.\n",
      "  DeprecationWarning)\n",
      "C:\\Users\\aayse\\AppData\\Local\\Continuum\\anaconda3\\lib\\site-packages\\sklearn\\svm\\base.py:193: FutureWarning: The default value of gamma will change from 'auto' to 'scale' in version 0.22 to account better for unscaled features. Set gamma explicitly to 'auto' or 'scale' to avoid this warning.\n",
      "  \"avoid this warning.\", FutureWarning)\n"
     ]
    },
    {
     "data": {
      "text/plain": [
       "GridSearchCV(cv=10, error_score='raise-deprecating',\n",
       "             estimator=SVR(C=1.0, cache_size=200, coef0=0.0, degree=3,\n",
       "                           epsilon=0.1, gamma='auto_deprecated', kernel='rbf',\n",
       "                           max_iter=-1, shrinking=True, tol=0.001,\n",
       "                           verbose=False),\n",
       "             iid='warn', n_jobs=None,\n",
       "             param_grid={'C': [0.1, 0.4, 5, 10, 20, 30, 40, 50]},\n",
       "             pre_dispatch='2*n_jobs', refit=True, return_train_score=False,\n",
       "             scoring=None, verbose=0)"
      ]
     },
     "execution_count": 17,
     "metadata": {},
     "output_type": "execute_result"
    }
   ],
   "source": [
    "svr_params={\"C\":[0.1,0.4,5,10,20,30,40,50]}\n",
    "svr_cv_model=GridSearchCV(svr_rbf,svr_params,cv=10)\n",
    "svr_cv_model.fit(X_train,y_train)"
   ]
  },
  {
   "cell_type": "code",
   "execution_count": 18,
   "metadata": {},
   "outputs": [
    {
     "data": {
      "text/plain": [
       "{'C': 20}"
      ]
     },
     "execution_count": 18,
     "metadata": {},
     "output_type": "execute_result"
    }
   ],
   "source": [
    "svr_cv_model.best_params_"
   ]
  },
  {
   "cell_type": "code",
   "execution_count": 20,
   "metadata": {},
   "outputs": [
    {
     "name": "stderr",
     "output_type": "stream",
     "text": [
      "C:\\Users\\aayse\\AppData\\Local\\Continuum\\anaconda3\\lib\\site-packages\\sklearn\\svm\\base.py:193: FutureWarning: The default value of gamma will change from 'auto' to 'scale' in version 0.22 to account better for unscaled features. Set gamma explicitly to 'auto' or 'scale' to avoid this warning.\n",
      "  \"avoid this warning.\", FutureWarning)\n"
     ]
    }
   ],
   "source": [
    "svr_tuned=SVR(\"rbf\",C=pd.Series(svr_cv_model.best_params_)[0]).fit(X_train,y_train)"
   ]
  },
  {
   "cell_type": "code",
   "execution_count": 22,
   "metadata": {},
   "outputs": [],
   "source": [
    "y_pred=svr_tuned.predict(X_test)"
   ]
  },
  {
   "cell_type": "code",
   "execution_count": 23,
   "metadata": {},
   "outputs": [
    {
     "data": {
      "text/plain": [
       "472.20974524750574"
      ]
     },
     "execution_count": 23,
     "metadata": {},
     "output_type": "execute_result"
    }
   ],
   "source": [
    "np.sqrt(mean_squared_error(y_test,y_pred))"
   ]
  },
  {
   "cell_type": "markdown",
   "metadata": {},
   "source": [
    "# Yapay Sinir Ağları"
   ]
  },
  {
   "cell_type": "markdown",
   "metadata": {},
   "source": [
    "* İnsan beyninin bilgi işleme şeklini referans alan sınıflandırma ve regresyon problemleri için kullanılabilen kuvvetli makine öğrenmesi algortimalarından birisidir."
   ]
  },
  {
   "cell_type": "code",
   "execution_count": null,
   "metadata": {},
   "outputs": [],
   "source": [
    "# amacımız her zman hata kareler toplamını minimimize edecek sekilde \n",
    "# kural setleri cıkarmaktır."
   ]
  },
  {
   "cell_type": "code",
   "execution_count": 25,
   "metadata": {},
   "outputs": [],
   "source": [
    "# back propogation:geriye yayılımlı ,bu algortima optimum parametreleri bulmak icin etkili calısan bir algoritmadır.\n",
    "# delta öğrenme kuralını kullanır."
   ]
  },
  {
   "cell_type": "markdown",
   "metadata": {},
   "source": [
    "# Yapay Sinir Agları - Çok Katmanlı Algılayıcı"
   ]
  },
  {
   "cell_type": "code",
   "execution_count": 26,
   "metadata": {},
   "outputs": [
    {
     "name": "stdout",
     "output_type": "stream",
     "text": [
      "X_train (197, 19)\n",
      "y_train (197,)\n",
      "X_test (66, 19)\n",
      "y_test (66,)\n",
      "training (263, 20)\n"
     ]
    }
   ],
   "source": [
    "hit=pd.read_csv(\"original.csv\")# American basketbol ligi \n",
    "df=hit.copy()\n",
    "df=df.dropna()\n",
    "dms= pd.get_dummies(df[['League','Division','NewLeague']])\n",
    "y=df[\"Salary\"]\n",
    "X_= df.drop([\"Salary\",\"League\",\"Division\",\"NewLeague\"],axis=1).astype(\"float64\")\n",
    "X=pd.concat([X_,dms[[\"League_N\",\"Division_W\",\"NewLeague_N\"]]],axis=1)\n",
    "# veri setini test ve train olarak ayırdık\n",
    "from sklearn.model_selection import train_test_split,cross_val_score,cross_val_predict\n",
    "X_train,X_test,y_train,y_test=train_test_split(X,y,test_size=0.25,\n",
    "                                              random_state=42)\n",
    "print(\"X_train\",X_train.shape)\n",
    "print(\"y_train\",y_train.shape)\n",
    "print(\"X_test\",X_test.shape)\n",
    "print(\"y_test\",y_test.shape)\n",
    "training= df.copy()# tüm veri seti\n",
    "print(\"training\",training.shape)"
   ]
  },
  {
   "cell_type": "code",
   "execution_count": 29,
   "metadata": {},
   "outputs": [],
   "source": [
    "from sklearn.preprocessing import StandardScaler"
   ]
  },
  {
   "cell_type": "code",
   "execution_count": 31,
   "metadata": {},
   "outputs": [
    {
     "data": {
      "text/plain": [
       "StandardScaler(copy=True, with_mean=True, with_std=True)"
      ]
     },
     "execution_count": 31,
     "metadata": {},
     "output_type": "execute_result"
    }
   ],
   "source": [
    "scaler=StandardScaler()\n",
    "scaler.fit(X_train)"
   ]
  },
  {
   "cell_type": "code",
   "execution_count": 32,
   "metadata": {},
   "outputs": [],
   "source": [
    "X_train_scaled=scaler.transform(X_train)"
   ]
  },
  {
   "cell_type": "code",
   "execution_count": 33,
   "metadata": {},
   "outputs": [],
   "source": [
    "X_test_scaled=scaler.transform(X_test)"
   ]
  },
  {
   "cell_type": "code",
   "execution_count": 34,
   "metadata": {},
   "outputs": [],
   "source": [
    "from sklearn.neural_network import MLPRegressor"
   ]
  },
  {
   "cell_type": "code",
   "execution_count": 45,
   "metadata": {},
   "outputs": [
    {
     "name": "stderr",
     "output_type": "stream",
     "text": [
      "C:\\Users\\aayse\\AppData\\Local\\Continuum\\anaconda3\\lib\\site-packages\\sklearn\\neural_network\\multilayer_perceptron.py:566: ConvergenceWarning: Stochastic Optimizer: Maximum iterations (200) reached and the optimization hasn't converged yet.\n",
      "  % self.max_iter, ConvergenceWarning)\n"
     ]
    }
   ],
   "source": [
    "mlp_model=MLPRegressor(hidden_layer_sizes=[100,20]).fit(X_train_scaled,y_train)"
   ]
  },
  {
   "cell_type": "code",
   "execution_count": 46,
   "metadata": {},
   "outputs": [
    {
     "data": {
      "text/plain": [
       "MLPRegressor(activation='relu', alpha=0.0001, batch_size='auto', beta_1=0.9,\n",
       "             beta_2=0.999, early_stopping=False, epsilon=1e-08,\n",
       "             hidden_layer_sizes=[100, 20], learning_rate='constant',\n",
       "             learning_rate_init=0.001, max_iter=200, momentum=0.9,\n",
       "             n_iter_no_change=10, nesterovs_momentum=True, power_t=0.5,\n",
       "             random_state=None, shuffle=True, solver='adam', tol=0.0001,\n",
       "             validation_fraction=0.1, verbose=False, warm_start=False)"
      ]
     },
     "execution_count": 46,
     "metadata": {},
     "output_type": "execute_result"
    }
   ],
   "source": [
    "mlp_model"
   ]
  },
  {
   "cell_type": "code",
   "execution_count": 47,
   "metadata": {},
   "outputs": [
    {
     "data": {
      "text/plain": [
       "4"
      ]
     },
     "execution_count": 47,
     "metadata": {},
     "output_type": "execute_result"
    }
   ],
   "source": [
    "mlp_model.n_layers_#katman sayısı\n",
    "# girdi katmanı\n",
    "# gizli katman\n",
    "#cıktı katmanı"
   ]
  },
  {
   "cell_type": "code",
   "execution_count": 48,
   "metadata": {},
   "outputs": [
    {
     "data": {
      "text/plain": [
       "[100, 20]"
      ]
     },
     "execution_count": 48,
     "metadata": {},
     "output_type": "execute_result"
    }
   ],
   "source": [
    "mlp_model.hidden_layer_sizes# gizli katman sayısı"
   ]
  },
  {
   "cell_type": "markdown",
   "metadata": {},
   "source": [
    "## Yapay Sinir Agları - TAHMİN"
   ]
  },
  {
   "cell_type": "code",
   "execution_count": 49,
   "metadata": {},
   "outputs": [
    {
     "data": {
      "text/plain": [
       "array([116.13515873, 458.53910034, 305.94347982, 104.14187333,\n",
       "        75.55782545])"
      ]
     },
     "execution_count": 49,
     "metadata": {},
     "output_type": "execute_result"
    }
   ],
   "source": [
    "mlp_model.predict(X_train_scaled)[0:5]"
   ]
  },
  {
   "cell_type": "code",
   "execution_count": 50,
   "metadata": {},
   "outputs": [],
   "source": [
    "y_pred=mlp_model.predict(X_test_scaled)"
   ]
  },
  {
   "cell_type": "code",
   "execution_count": 51,
   "metadata": {},
   "outputs": [
    {
     "data": {
      "text/plain": [
       "422.63308991889545"
      ]
     },
     "execution_count": 51,
     "metadata": {},
     "output_type": "execute_result"
    }
   ],
   "source": [
    "np.sqrt(mean_squared_error(y_test,y_pred))"
   ]
  },
  {
   "cell_type": "markdown",
   "metadata": {},
   "source": [
    "# Yapay Sinir Agları - MODEL TUNİNG"
   ]
  },
  {
   "cell_type": "code",
   "execution_count": 52,
   "metadata": {},
   "outputs": [
    {
     "data": {
      "text/plain": [
       "MLPRegressor(activation='relu', alpha=0.0001, batch_size='auto', beta_1=0.9,\n",
       "             beta_2=0.999, early_stopping=False, epsilon=1e-08,\n",
       "             hidden_layer_sizes=[100, 20], learning_rate='constant',\n",
       "             learning_rate_init=0.001, max_iter=200, momentum=0.9,\n",
       "             n_iter_no_change=10, nesterovs_momentum=True, power_t=0.5,\n",
       "             random_state=None, shuffle=True, solver='adam', tol=0.0001,\n",
       "             validation_fraction=0.1, verbose=False, warm_start=False)"
      ]
     },
     "execution_count": 52,
     "metadata": {},
     "output_type": "execute_result"
    }
   ],
   "source": [
    "mlp_model"
   ]
  },
  {
   "cell_type": "code",
   "execution_count": 55,
   "metadata": {},
   "outputs": [],
   "source": [
    "mlp_params={\"alpha\":[0.1,0.01,0.02,0.05],\n",
    "           \"hidden_layer_sizes\":[(20,20),(100,50,150),(300,200,150)],\n",
    "           \"activation\":[\"relu\",\"logistic\"]}\n",
    "#hidden layerda katmanlarda kullanılan nöron sayılarını verdik\n",
    "# (20,50)#2 KATMANLI DEMEK\n",
    "# (100,50,150)# 3 katmanlı demek \n"
   ]
  },
  {
   "cell_type": "code",
   "execution_count": 57,
   "metadata": {},
   "outputs": [],
   "source": [
    "mlp_cv_model=GridSearchCV(mlp_model,mlp_params,cv=10)"
   ]
  },
  {
   "cell_type": "code",
   "execution_count": 58,
   "metadata": {
    "collapsed": true,
    "jupyter": {
     "outputs_hidden": true
    }
   },
   "outputs": [
    {
     "name": "stderr",
     "output_type": "stream",
     "text": [
      "C:\\Users\\aayse\\AppData\\Local\\Continuum\\anaconda3\\lib\\site-packages\\sklearn\\neural_network\\multilayer_perceptron.py:566: ConvergenceWarning: Stochastic Optimizer: Maximum iterations (200) reached and the optimization hasn't converged yet.\n",
      "  % self.max_iter, ConvergenceWarning)\n",
      "C:\\Users\\aayse\\AppData\\Local\\Continuum\\anaconda3\\lib\\site-packages\\sklearn\\neural_network\\multilayer_perceptron.py:566: ConvergenceWarning: Stochastic Optimizer: Maximum iterations (200) reached and the optimization hasn't converged yet.\n",
      "  % self.max_iter, ConvergenceWarning)\n",
      "C:\\Users\\aayse\\AppData\\Local\\Continuum\\anaconda3\\lib\\site-packages\\sklearn\\neural_network\\multilayer_perceptron.py:566: ConvergenceWarning: Stochastic Optimizer: Maximum iterations (200) reached and the optimization hasn't converged yet.\n",
      "  % self.max_iter, ConvergenceWarning)\n",
      "C:\\Users\\aayse\\AppData\\Local\\Continuum\\anaconda3\\lib\\site-packages\\sklearn\\neural_network\\multilayer_perceptron.py:566: ConvergenceWarning: Stochastic Optimizer: Maximum iterations (200) reached and the optimization hasn't converged yet.\n",
      "  % self.max_iter, ConvergenceWarning)\n",
      "C:\\Users\\aayse\\AppData\\Local\\Continuum\\anaconda3\\lib\\site-packages\\sklearn\\neural_network\\multilayer_perceptron.py:566: ConvergenceWarning: Stochastic Optimizer: Maximum iterations (200) reached and the optimization hasn't converged yet.\n",
      "  % self.max_iter, ConvergenceWarning)\n",
      "C:\\Users\\aayse\\AppData\\Local\\Continuum\\anaconda3\\lib\\site-packages\\sklearn\\neural_network\\multilayer_perceptron.py:566: ConvergenceWarning: Stochastic Optimizer: Maximum iterations (200) reached and the optimization hasn't converged yet.\n",
      "  % self.max_iter, ConvergenceWarning)\n",
      "C:\\Users\\aayse\\AppData\\Local\\Continuum\\anaconda3\\lib\\site-packages\\sklearn\\neural_network\\multilayer_perceptron.py:566: ConvergenceWarning: Stochastic Optimizer: Maximum iterations (200) reached and the optimization hasn't converged yet.\n",
      "  % self.max_iter, ConvergenceWarning)\n",
      "C:\\Users\\aayse\\AppData\\Local\\Continuum\\anaconda3\\lib\\site-packages\\sklearn\\neural_network\\multilayer_perceptron.py:566: ConvergenceWarning: Stochastic Optimizer: Maximum iterations (200) reached and the optimization hasn't converged yet.\n",
      "  % self.max_iter, ConvergenceWarning)\n",
      "C:\\Users\\aayse\\AppData\\Local\\Continuum\\anaconda3\\lib\\site-packages\\sklearn\\neural_network\\multilayer_perceptron.py:566: ConvergenceWarning: Stochastic Optimizer: Maximum iterations (200) reached and the optimization hasn't converged yet.\n",
      "  % self.max_iter, ConvergenceWarning)\n",
      "C:\\Users\\aayse\\AppData\\Local\\Continuum\\anaconda3\\lib\\site-packages\\sklearn\\neural_network\\multilayer_perceptron.py:566: ConvergenceWarning: Stochastic Optimizer: Maximum iterations (200) reached and the optimization hasn't converged yet.\n",
      "  % self.max_iter, ConvergenceWarning)\n",
      "C:\\Users\\aayse\\AppData\\Local\\Continuum\\anaconda3\\lib\\site-packages\\sklearn\\neural_network\\multilayer_perceptron.py:566: ConvergenceWarning: Stochastic Optimizer: Maximum iterations (200) reached and the optimization hasn't converged yet.\n",
      "  % self.max_iter, ConvergenceWarning)\n",
      "C:\\Users\\aayse\\AppData\\Local\\Continuum\\anaconda3\\lib\\site-packages\\sklearn\\neural_network\\multilayer_perceptron.py:566: ConvergenceWarning: Stochastic Optimizer: Maximum iterations (200) reached and the optimization hasn't converged yet.\n",
      "  % self.max_iter, ConvergenceWarning)\n",
      "C:\\Users\\aayse\\AppData\\Local\\Continuum\\anaconda3\\lib\\site-packages\\sklearn\\neural_network\\multilayer_perceptron.py:566: ConvergenceWarning: Stochastic Optimizer: Maximum iterations (200) reached and the optimization hasn't converged yet.\n",
      "  % self.max_iter, ConvergenceWarning)\n",
      "C:\\Users\\aayse\\AppData\\Local\\Continuum\\anaconda3\\lib\\site-packages\\sklearn\\neural_network\\multilayer_perceptron.py:566: ConvergenceWarning: Stochastic Optimizer: Maximum iterations (200) reached and the optimization hasn't converged yet.\n",
      "  % self.max_iter, ConvergenceWarning)\n",
      "C:\\Users\\aayse\\AppData\\Local\\Continuum\\anaconda3\\lib\\site-packages\\sklearn\\neural_network\\multilayer_perceptron.py:566: ConvergenceWarning: Stochastic Optimizer: Maximum iterations (200) reached and the optimization hasn't converged yet.\n",
      "  % self.max_iter, ConvergenceWarning)\n",
      "C:\\Users\\aayse\\AppData\\Local\\Continuum\\anaconda3\\lib\\site-packages\\sklearn\\neural_network\\multilayer_perceptron.py:566: ConvergenceWarning: Stochastic Optimizer: Maximum iterations (200) reached and the optimization hasn't converged yet.\n",
      "  % self.max_iter, ConvergenceWarning)\n",
      "C:\\Users\\aayse\\AppData\\Local\\Continuum\\anaconda3\\lib\\site-packages\\sklearn\\neural_network\\multilayer_perceptron.py:566: ConvergenceWarning: Stochastic Optimizer: Maximum iterations (200) reached and the optimization hasn't converged yet.\n",
      "  % self.max_iter, ConvergenceWarning)\n",
      "C:\\Users\\aayse\\AppData\\Local\\Continuum\\anaconda3\\lib\\site-packages\\sklearn\\neural_network\\multilayer_perceptron.py:566: ConvergenceWarning: Stochastic Optimizer: Maximum iterations (200) reached and the optimization hasn't converged yet.\n",
      "  % self.max_iter, ConvergenceWarning)\n",
      "C:\\Users\\aayse\\AppData\\Local\\Continuum\\anaconda3\\lib\\site-packages\\sklearn\\neural_network\\multilayer_perceptron.py:566: ConvergenceWarning: Stochastic Optimizer: Maximum iterations (200) reached and the optimization hasn't converged yet.\n",
      "  % self.max_iter, ConvergenceWarning)\n",
      "C:\\Users\\aayse\\AppData\\Local\\Continuum\\anaconda3\\lib\\site-packages\\sklearn\\neural_network\\multilayer_perceptron.py:566: ConvergenceWarning: Stochastic Optimizer: Maximum iterations (200) reached and the optimization hasn't converged yet.\n",
      "  % self.max_iter, ConvergenceWarning)\n",
      "C:\\Users\\aayse\\AppData\\Local\\Continuum\\anaconda3\\lib\\site-packages\\sklearn\\neural_network\\multilayer_perceptron.py:566: ConvergenceWarning: Stochastic Optimizer: Maximum iterations (200) reached and the optimization hasn't converged yet.\n",
      "  % self.max_iter, ConvergenceWarning)\n",
      "C:\\Users\\aayse\\AppData\\Local\\Continuum\\anaconda3\\lib\\site-packages\\sklearn\\neural_network\\multilayer_perceptron.py:566: ConvergenceWarning: Stochastic Optimizer: Maximum iterations (200) reached and the optimization hasn't converged yet.\n",
      "  % self.max_iter, ConvergenceWarning)\n",
      "C:\\Users\\aayse\\AppData\\Local\\Continuum\\anaconda3\\lib\\site-packages\\sklearn\\neural_network\\multilayer_perceptron.py:566: ConvergenceWarning: Stochastic Optimizer: Maximum iterations (200) reached and the optimization hasn't converged yet.\n",
      "  % self.max_iter, ConvergenceWarning)\n",
      "C:\\Users\\aayse\\AppData\\Local\\Continuum\\anaconda3\\lib\\site-packages\\sklearn\\neural_network\\multilayer_perceptron.py:566: ConvergenceWarning: Stochastic Optimizer: Maximum iterations (200) reached and the optimization hasn't converged yet.\n",
      "  % self.max_iter, ConvergenceWarning)\n",
      "C:\\Users\\aayse\\AppData\\Local\\Continuum\\anaconda3\\lib\\site-packages\\sklearn\\neural_network\\multilayer_perceptron.py:566: ConvergenceWarning: Stochastic Optimizer: Maximum iterations (200) reached and the optimization hasn't converged yet.\n",
      "  % self.max_iter, ConvergenceWarning)\n",
      "C:\\Users\\aayse\\AppData\\Local\\Continuum\\anaconda3\\lib\\site-packages\\sklearn\\neural_network\\multilayer_perceptron.py:566: ConvergenceWarning: Stochastic Optimizer: Maximum iterations (200) reached and the optimization hasn't converged yet.\n",
      "  % self.max_iter, ConvergenceWarning)\n",
      "C:\\Users\\aayse\\AppData\\Local\\Continuum\\anaconda3\\lib\\site-packages\\sklearn\\neural_network\\multilayer_perceptron.py:566: ConvergenceWarning: Stochastic Optimizer: Maximum iterations (200) reached and the optimization hasn't converged yet.\n",
      "  % self.max_iter, ConvergenceWarning)\n",
      "C:\\Users\\aayse\\AppData\\Local\\Continuum\\anaconda3\\lib\\site-packages\\sklearn\\neural_network\\multilayer_perceptron.py:566: ConvergenceWarning: Stochastic Optimizer: Maximum iterations (200) reached and the optimization hasn't converged yet.\n",
      "  % self.max_iter, ConvergenceWarning)\n",
      "C:\\Users\\aayse\\AppData\\Local\\Continuum\\anaconda3\\lib\\site-packages\\sklearn\\neural_network\\multilayer_perceptron.py:566: ConvergenceWarning: Stochastic Optimizer: Maximum iterations (200) reached and the optimization hasn't converged yet.\n",
      "  % self.max_iter, ConvergenceWarning)\n",
      "C:\\Users\\aayse\\AppData\\Local\\Continuum\\anaconda3\\lib\\site-packages\\sklearn\\neural_network\\multilayer_perceptron.py:566: ConvergenceWarning: Stochastic Optimizer: Maximum iterations (200) reached and the optimization hasn't converged yet.\n",
      "  % self.max_iter, ConvergenceWarning)\n",
      "C:\\Users\\aayse\\AppData\\Local\\Continuum\\anaconda3\\lib\\site-packages\\sklearn\\neural_network\\multilayer_perceptron.py:566: ConvergenceWarning: Stochastic Optimizer: Maximum iterations (200) reached and the optimization hasn't converged yet.\n",
      "  % self.max_iter, ConvergenceWarning)\n",
      "C:\\Users\\aayse\\AppData\\Local\\Continuum\\anaconda3\\lib\\site-packages\\sklearn\\neural_network\\multilayer_perceptron.py:566: ConvergenceWarning: Stochastic Optimizer: Maximum iterations (200) reached and the optimization hasn't converged yet.\n",
      "  % self.max_iter, ConvergenceWarning)\n",
      "C:\\Users\\aayse\\AppData\\Local\\Continuum\\anaconda3\\lib\\site-packages\\sklearn\\neural_network\\multilayer_perceptron.py:566: ConvergenceWarning: Stochastic Optimizer: Maximum iterations (200) reached and the optimization hasn't converged yet.\n",
      "  % self.max_iter, ConvergenceWarning)\n",
      "C:\\Users\\aayse\\AppData\\Local\\Continuum\\anaconda3\\lib\\site-packages\\sklearn\\neural_network\\multilayer_perceptron.py:566: ConvergenceWarning: Stochastic Optimizer: Maximum iterations (200) reached and the optimization hasn't converged yet.\n",
      "  % self.max_iter, ConvergenceWarning)\n",
      "C:\\Users\\aayse\\AppData\\Local\\Continuum\\anaconda3\\lib\\site-packages\\sklearn\\neural_network\\multilayer_perceptron.py:566: ConvergenceWarning: Stochastic Optimizer: Maximum iterations (200) reached and the optimization hasn't converged yet.\n",
      "  % self.max_iter, ConvergenceWarning)\n",
      "C:\\Users\\aayse\\AppData\\Local\\Continuum\\anaconda3\\lib\\site-packages\\sklearn\\neural_network\\multilayer_perceptron.py:566: ConvergenceWarning: Stochastic Optimizer: Maximum iterations (200) reached and the optimization hasn't converged yet.\n",
      "  % self.max_iter, ConvergenceWarning)\n",
      "C:\\Users\\aayse\\AppData\\Local\\Continuum\\anaconda3\\lib\\site-packages\\sklearn\\neural_network\\multilayer_perceptron.py:566: ConvergenceWarning: Stochastic Optimizer: Maximum iterations (200) reached and the optimization hasn't converged yet.\n",
      "  % self.max_iter, ConvergenceWarning)\n",
      "C:\\Users\\aayse\\AppData\\Local\\Continuum\\anaconda3\\lib\\site-packages\\sklearn\\neural_network\\multilayer_perceptron.py:566: ConvergenceWarning: Stochastic Optimizer: Maximum iterations (200) reached and the optimization hasn't converged yet.\n",
      "  % self.max_iter, ConvergenceWarning)\n",
      "C:\\Users\\aayse\\AppData\\Local\\Continuum\\anaconda3\\lib\\site-packages\\sklearn\\neural_network\\multilayer_perceptron.py:566: ConvergenceWarning: Stochastic Optimizer: Maximum iterations (200) reached and the optimization hasn't converged yet.\n",
      "  % self.max_iter, ConvergenceWarning)\n",
      "C:\\Users\\aayse\\AppData\\Local\\Continuum\\anaconda3\\lib\\site-packages\\sklearn\\neural_network\\multilayer_perceptron.py:566: ConvergenceWarning: Stochastic Optimizer: Maximum iterations (200) reached and the optimization hasn't converged yet.\n",
      "  % self.max_iter, ConvergenceWarning)\n",
      "C:\\Users\\aayse\\AppData\\Local\\Continuum\\anaconda3\\lib\\site-packages\\sklearn\\neural_network\\multilayer_perceptron.py:566: ConvergenceWarning: Stochastic Optimizer: Maximum iterations (200) reached and the optimization hasn't converged yet.\n",
      "  % self.max_iter, ConvergenceWarning)\n",
      "C:\\Users\\aayse\\AppData\\Local\\Continuum\\anaconda3\\lib\\site-packages\\sklearn\\neural_network\\multilayer_perceptron.py:566: ConvergenceWarning: Stochastic Optimizer: Maximum iterations (200) reached and the optimization hasn't converged yet.\n",
      "  % self.max_iter, ConvergenceWarning)\n",
      "C:\\Users\\aayse\\AppData\\Local\\Continuum\\anaconda3\\lib\\site-packages\\sklearn\\neural_network\\multilayer_perceptron.py:566: ConvergenceWarning: Stochastic Optimizer: Maximum iterations (200) reached and the optimization hasn't converged yet.\n",
      "  % self.max_iter, ConvergenceWarning)\n",
      "C:\\Users\\aayse\\AppData\\Local\\Continuum\\anaconda3\\lib\\site-packages\\sklearn\\neural_network\\multilayer_perceptron.py:566: ConvergenceWarning: Stochastic Optimizer: Maximum iterations (200) reached and the optimization hasn't converged yet.\n",
      "  % self.max_iter, ConvergenceWarning)\n",
      "C:\\Users\\aayse\\AppData\\Local\\Continuum\\anaconda3\\lib\\site-packages\\sklearn\\neural_network\\multilayer_perceptron.py:566: ConvergenceWarning: Stochastic Optimizer: Maximum iterations (200) reached and the optimization hasn't converged yet.\n",
      "  % self.max_iter, ConvergenceWarning)\n",
      "C:\\Users\\aayse\\AppData\\Local\\Continuum\\anaconda3\\lib\\site-packages\\sklearn\\neural_network\\multilayer_perceptron.py:566: ConvergenceWarning: Stochastic Optimizer: Maximum iterations (200) reached and the optimization hasn't converged yet.\n",
      "  % self.max_iter, ConvergenceWarning)\n",
      "C:\\Users\\aayse\\AppData\\Local\\Continuum\\anaconda3\\lib\\site-packages\\sklearn\\neural_network\\multilayer_perceptron.py:566: ConvergenceWarning: Stochastic Optimizer: Maximum iterations (200) reached and the optimization hasn't converged yet.\n",
      "  % self.max_iter, ConvergenceWarning)\n",
      "C:\\Users\\aayse\\AppData\\Local\\Continuum\\anaconda3\\lib\\site-packages\\sklearn\\neural_network\\multilayer_perceptron.py:566: ConvergenceWarning: Stochastic Optimizer: Maximum iterations (200) reached and the optimization hasn't converged yet.\n",
      "  % self.max_iter, ConvergenceWarning)\n",
      "C:\\Users\\aayse\\AppData\\Local\\Continuum\\anaconda3\\lib\\site-packages\\sklearn\\neural_network\\multilayer_perceptron.py:566: ConvergenceWarning: Stochastic Optimizer: Maximum iterations (200) reached and the optimization hasn't converged yet.\n",
      "  % self.max_iter, ConvergenceWarning)\n",
      "C:\\Users\\aayse\\AppData\\Local\\Continuum\\anaconda3\\lib\\site-packages\\sklearn\\neural_network\\multilayer_perceptron.py:566: ConvergenceWarning: Stochastic Optimizer: Maximum iterations (200) reached and the optimization hasn't converged yet.\n",
      "  % self.max_iter, ConvergenceWarning)\n",
      "C:\\Users\\aayse\\AppData\\Local\\Continuum\\anaconda3\\lib\\site-packages\\sklearn\\neural_network\\multilayer_perceptron.py:566: ConvergenceWarning: Stochastic Optimizer: Maximum iterations (200) reached and the optimization hasn't converged yet.\n",
      "  % self.max_iter, ConvergenceWarning)\n",
      "C:\\Users\\aayse\\AppData\\Local\\Continuum\\anaconda3\\lib\\site-packages\\sklearn\\neural_network\\multilayer_perceptron.py:566: ConvergenceWarning: Stochastic Optimizer: Maximum iterations (200) reached and the optimization hasn't converged yet.\n",
      "  % self.max_iter, ConvergenceWarning)\n",
      "C:\\Users\\aayse\\AppData\\Local\\Continuum\\anaconda3\\lib\\site-packages\\sklearn\\neural_network\\multilayer_perceptron.py:566: ConvergenceWarning: Stochastic Optimizer: Maximum iterations (200) reached and the optimization hasn't converged yet.\n",
      "  % self.max_iter, ConvergenceWarning)\n",
      "C:\\Users\\aayse\\AppData\\Local\\Continuum\\anaconda3\\lib\\site-packages\\sklearn\\neural_network\\multilayer_perceptron.py:566: ConvergenceWarning: Stochastic Optimizer: Maximum iterations (200) reached and the optimization hasn't converged yet.\n",
      "  % self.max_iter, ConvergenceWarning)\n",
      "C:\\Users\\aayse\\AppData\\Local\\Continuum\\anaconda3\\lib\\site-packages\\sklearn\\neural_network\\multilayer_perceptron.py:566: ConvergenceWarning: Stochastic Optimizer: Maximum iterations (200) reached and the optimization hasn't converged yet.\n",
      "  % self.max_iter, ConvergenceWarning)\n",
      "C:\\Users\\aayse\\AppData\\Local\\Continuum\\anaconda3\\lib\\site-packages\\sklearn\\neural_network\\multilayer_perceptron.py:566: ConvergenceWarning: Stochastic Optimizer: Maximum iterations (200) reached and the optimization hasn't converged yet.\n",
      "  % self.max_iter, ConvergenceWarning)\n",
      "C:\\Users\\aayse\\AppData\\Local\\Continuum\\anaconda3\\lib\\site-packages\\sklearn\\neural_network\\multilayer_perceptron.py:566: ConvergenceWarning: Stochastic Optimizer: Maximum iterations (200) reached and the optimization hasn't converged yet.\n",
      "  % self.max_iter, ConvergenceWarning)\n",
      "C:\\Users\\aayse\\AppData\\Local\\Continuum\\anaconda3\\lib\\site-packages\\sklearn\\neural_network\\multilayer_perceptron.py:566: ConvergenceWarning: Stochastic Optimizer: Maximum iterations (200) reached and the optimization hasn't converged yet.\n",
      "  % self.max_iter, ConvergenceWarning)\n",
      "C:\\Users\\aayse\\AppData\\Local\\Continuum\\anaconda3\\lib\\site-packages\\sklearn\\neural_network\\multilayer_perceptron.py:566: ConvergenceWarning: Stochastic Optimizer: Maximum iterations (200) reached and the optimization hasn't converged yet.\n",
      "  % self.max_iter, ConvergenceWarning)\n",
      "C:\\Users\\aayse\\AppData\\Local\\Continuum\\anaconda3\\lib\\site-packages\\sklearn\\neural_network\\multilayer_perceptron.py:566: ConvergenceWarning: Stochastic Optimizer: Maximum iterations (200) reached and the optimization hasn't converged yet.\n",
      "  % self.max_iter, ConvergenceWarning)\n",
      "C:\\Users\\aayse\\AppData\\Local\\Continuum\\anaconda3\\lib\\site-packages\\sklearn\\neural_network\\multilayer_perceptron.py:566: ConvergenceWarning: Stochastic Optimizer: Maximum iterations (200) reached and the optimization hasn't converged yet.\n",
      "  % self.max_iter, ConvergenceWarning)\n",
      "C:\\Users\\aayse\\AppData\\Local\\Continuum\\anaconda3\\lib\\site-packages\\sklearn\\neural_network\\multilayer_perceptron.py:566: ConvergenceWarning: Stochastic Optimizer: Maximum iterations (200) reached and the optimization hasn't converged yet.\n",
      "  % self.max_iter, ConvergenceWarning)\n",
      "C:\\Users\\aayse\\AppData\\Local\\Continuum\\anaconda3\\lib\\site-packages\\sklearn\\neural_network\\multilayer_perceptron.py:566: ConvergenceWarning: Stochastic Optimizer: Maximum iterations (200) reached and the optimization hasn't converged yet.\n",
      "  % self.max_iter, ConvergenceWarning)\n",
      "C:\\Users\\aayse\\AppData\\Local\\Continuum\\anaconda3\\lib\\site-packages\\sklearn\\neural_network\\multilayer_perceptron.py:566: ConvergenceWarning: Stochastic Optimizer: Maximum iterations (200) reached and the optimization hasn't converged yet.\n",
      "  % self.max_iter, ConvergenceWarning)\n",
      "C:\\Users\\aayse\\AppData\\Local\\Continuum\\anaconda3\\lib\\site-packages\\sklearn\\neural_network\\multilayer_perceptron.py:566: ConvergenceWarning: Stochastic Optimizer: Maximum iterations (200) reached and the optimization hasn't converged yet.\n",
      "  % self.max_iter, ConvergenceWarning)\n",
      "C:\\Users\\aayse\\AppData\\Local\\Continuum\\anaconda3\\lib\\site-packages\\sklearn\\neural_network\\multilayer_perceptron.py:566: ConvergenceWarning: Stochastic Optimizer: Maximum iterations (200) reached and the optimization hasn't converged yet.\n",
      "  % self.max_iter, ConvergenceWarning)\n",
      "C:\\Users\\aayse\\AppData\\Local\\Continuum\\anaconda3\\lib\\site-packages\\sklearn\\neural_network\\multilayer_perceptron.py:566: ConvergenceWarning: Stochastic Optimizer: Maximum iterations (200) reached and the optimization hasn't converged yet.\n",
      "  % self.max_iter, ConvergenceWarning)\n",
      "C:\\Users\\aayse\\AppData\\Local\\Continuum\\anaconda3\\lib\\site-packages\\sklearn\\neural_network\\multilayer_perceptron.py:566: ConvergenceWarning: Stochastic Optimizer: Maximum iterations (200) reached and the optimization hasn't converged yet.\n",
      "  % self.max_iter, ConvergenceWarning)\n",
      "C:\\Users\\aayse\\AppData\\Local\\Continuum\\anaconda3\\lib\\site-packages\\sklearn\\neural_network\\multilayer_perceptron.py:566: ConvergenceWarning: Stochastic Optimizer: Maximum iterations (200) reached and the optimization hasn't converged yet.\n",
      "  % self.max_iter, ConvergenceWarning)\n",
      "C:\\Users\\aayse\\AppData\\Local\\Continuum\\anaconda3\\lib\\site-packages\\sklearn\\neural_network\\multilayer_perceptron.py:566: ConvergenceWarning: Stochastic Optimizer: Maximum iterations (200) reached and the optimization hasn't converged yet.\n",
      "  % self.max_iter, ConvergenceWarning)\n",
      "C:\\Users\\aayse\\AppData\\Local\\Continuum\\anaconda3\\lib\\site-packages\\sklearn\\neural_network\\multilayer_perceptron.py:566: ConvergenceWarning: Stochastic Optimizer: Maximum iterations (200) reached and the optimization hasn't converged yet.\n",
      "  % self.max_iter, ConvergenceWarning)\n",
      "C:\\Users\\aayse\\AppData\\Local\\Continuum\\anaconda3\\lib\\site-packages\\sklearn\\neural_network\\multilayer_perceptron.py:566: ConvergenceWarning: Stochastic Optimizer: Maximum iterations (200) reached and the optimization hasn't converged yet.\n",
      "  % self.max_iter, ConvergenceWarning)\n",
      "C:\\Users\\aayse\\AppData\\Local\\Continuum\\anaconda3\\lib\\site-packages\\sklearn\\neural_network\\multilayer_perceptron.py:566: ConvergenceWarning: Stochastic Optimizer: Maximum iterations (200) reached and the optimization hasn't converged yet.\n",
      "  % self.max_iter, ConvergenceWarning)\n",
      "C:\\Users\\aayse\\AppData\\Local\\Continuum\\anaconda3\\lib\\site-packages\\sklearn\\neural_network\\multilayer_perceptron.py:566: ConvergenceWarning: Stochastic Optimizer: Maximum iterations (200) reached and the optimization hasn't converged yet.\n",
      "  % self.max_iter, ConvergenceWarning)\n",
      "C:\\Users\\aayse\\AppData\\Local\\Continuum\\anaconda3\\lib\\site-packages\\sklearn\\neural_network\\multilayer_perceptron.py:566: ConvergenceWarning: Stochastic Optimizer: Maximum iterations (200) reached and the optimization hasn't converged yet.\n",
      "  % self.max_iter, ConvergenceWarning)\n",
      "C:\\Users\\aayse\\AppData\\Local\\Continuum\\anaconda3\\lib\\site-packages\\sklearn\\neural_network\\multilayer_perceptron.py:566: ConvergenceWarning: Stochastic Optimizer: Maximum iterations (200) reached and the optimization hasn't converged yet.\n",
      "  % self.max_iter, ConvergenceWarning)\n",
      "C:\\Users\\aayse\\AppData\\Local\\Continuum\\anaconda3\\lib\\site-packages\\sklearn\\neural_network\\multilayer_perceptron.py:566: ConvergenceWarning: Stochastic Optimizer: Maximum iterations (200) reached and the optimization hasn't converged yet.\n",
      "  % self.max_iter, ConvergenceWarning)\n",
      "C:\\Users\\aayse\\AppData\\Local\\Continuum\\anaconda3\\lib\\site-packages\\sklearn\\neural_network\\multilayer_perceptron.py:566: ConvergenceWarning: Stochastic Optimizer: Maximum iterations (200) reached and the optimization hasn't converged yet.\n",
      "  % self.max_iter, ConvergenceWarning)\n",
      "C:\\Users\\aayse\\AppData\\Local\\Continuum\\anaconda3\\lib\\site-packages\\sklearn\\neural_network\\multilayer_perceptron.py:566: ConvergenceWarning: Stochastic Optimizer: Maximum iterations (200) reached and the optimization hasn't converged yet.\n",
      "  % self.max_iter, ConvergenceWarning)\n",
      "C:\\Users\\aayse\\AppData\\Local\\Continuum\\anaconda3\\lib\\site-packages\\sklearn\\neural_network\\multilayer_perceptron.py:566: ConvergenceWarning: Stochastic Optimizer: Maximum iterations (200) reached and the optimization hasn't converged yet.\n",
      "  % self.max_iter, ConvergenceWarning)\n",
      "C:\\Users\\aayse\\AppData\\Local\\Continuum\\anaconda3\\lib\\site-packages\\sklearn\\neural_network\\multilayer_perceptron.py:566: ConvergenceWarning: Stochastic Optimizer: Maximum iterations (200) reached and the optimization hasn't converged yet.\n",
      "  % self.max_iter, ConvergenceWarning)\n",
      "C:\\Users\\aayse\\AppData\\Local\\Continuum\\anaconda3\\lib\\site-packages\\sklearn\\neural_network\\multilayer_perceptron.py:566: ConvergenceWarning: Stochastic Optimizer: Maximum iterations (200) reached and the optimization hasn't converged yet.\n",
      "  % self.max_iter, ConvergenceWarning)\n",
      "C:\\Users\\aayse\\AppData\\Local\\Continuum\\anaconda3\\lib\\site-packages\\sklearn\\neural_network\\multilayer_perceptron.py:566: ConvergenceWarning: Stochastic Optimizer: Maximum iterations (200) reached and the optimization hasn't converged yet.\n",
      "  % self.max_iter, ConvergenceWarning)\n",
      "C:\\Users\\aayse\\AppData\\Local\\Continuum\\anaconda3\\lib\\site-packages\\sklearn\\neural_network\\multilayer_perceptron.py:566: ConvergenceWarning: Stochastic Optimizer: Maximum iterations (200) reached and the optimization hasn't converged yet.\n",
      "  % self.max_iter, ConvergenceWarning)\n",
      "C:\\Users\\aayse\\AppData\\Local\\Continuum\\anaconda3\\lib\\site-packages\\sklearn\\neural_network\\multilayer_perceptron.py:566: ConvergenceWarning: Stochastic Optimizer: Maximum iterations (200) reached and the optimization hasn't converged yet.\n",
      "  % self.max_iter, ConvergenceWarning)\n",
      "C:\\Users\\aayse\\AppData\\Local\\Continuum\\anaconda3\\lib\\site-packages\\sklearn\\neural_network\\multilayer_perceptron.py:566: ConvergenceWarning: Stochastic Optimizer: Maximum iterations (200) reached and the optimization hasn't converged yet.\n",
      "  % self.max_iter, ConvergenceWarning)\n",
      "C:\\Users\\aayse\\AppData\\Local\\Continuum\\anaconda3\\lib\\site-packages\\sklearn\\neural_network\\multilayer_perceptron.py:566: ConvergenceWarning: Stochastic Optimizer: Maximum iterations (200) reached and the optimization hasn't converged yet.\n",
      "  % self.max_iter, ConvergenceWarning)\n",
      "C:\\Users\\aayse\\AppData\\Local\\Continuum\\anaconda3\\lib\\site-packages\\sklearn\\neural_network\\multilayer_perceptron.py:566: ConvergenceWarning: Stochastic Optimizer: Maximum iterations (200) reached and the optimization hasn't converged yet.\n",
      "  % self.max_iter, ConvergenceWarning)\n",
      "C:\\Users\\aayse\\AppData\\Local\\Continuum\\anaconda3\\lib\\site-packages\\sklearn\\neural_network\\multilayer_perceptron.py:566: ConvergenceWarning: Stochastic Optimizer: Maximum iterations (200) reached and the optimization hasn't converged yet.\n",
      "  % self.max_iter, ConvergenceWarning)\n",
      "C:\\Users\\aayse\\AppData\\Local\\Continuum\\anaconda3\\lib\\site-packages\\sklearn\\neural_network\\multilayer_perceptron.py:566: ConvergenceWarning: Stochastic Optimizer: Maximum iterations (200) reached and the optimization hasn't converged yet.\n",
      "  % self.max_iter, ConvergenceWarning)\n",
      "C:\\Users\\aayse\\AppData\\Local\\Continuum\\anaconda3\\lib\\site-packages\\sklearn\\neural_network\\multilayer_perceptron.py:566: ConvergenceWarning: Stochastic Optimizer: Maximum iterations (200) reached and the optimization hasn't converged yet.\n",
      "  % self.max_iter, ConvergenceWarning)\n",
      "C:\\Users\\aayse\\AppData\\Local\\Continuum\\anaconda3\\lib\\site-packages\\sklearn\\neural_network\\multilayer_perceptron.py:566: ConvergenceWarning: Stochastic Optimizer: Maximum iterations (200) reached and the optimization hasn't converged yet.\n",
      "  % self.max_iter, ConvergenceWarning)\n",
      "C:\\Users\\aayse\\AppData\\Local\\Continuum\\anaconda3\\lib\\site-packages\\sklearn\\neural_network\\multilayer_perceptron.py:566: ConvergenceWarning: Stochastic Optimizer: Maximum iterations (200) reached and the optimization hasn't converged yet.\n",
      "  % self.max_iter, ConvergenceWarning)\n",
      "C:\\Users\\aayse\\AppData\\Local\\Continuum\\anaconda3\\lib\\site-packages\\sklearn\\neural_network\\multilayer_perceptron.py:566: ConvergenceWarning: Stochastic Optimizer: Maximum iterations (200) reached and the optimization hasn't converged yet.\n",
      "  % self.max_iter, ConvergenceWarning)\n",
      "C:\\Users\\aayse\\AppData\\Local\\Continuum\\anaconda3\\lib\\site-packages\\sklearn\\neural_network\\multilayer_perceptron.py:566: ConvergenceWarning: Stochastic Optimizer: Maximum iterations (200) reached and the optimization hasn't converged yet.\n",
      "  % self.max_iter, ConvergenceWarning)\n",
      "C:\\Users\\aayse\\AppData\\Local\\Continuum\\anaconda3\\lib\\site-packages\\sklearn\\neural_network\\multilayer_perceptron.py:566: ConvergenceWarning: Stochastic Optimizer: Maximum iterations (200) reached and the optimization hasn't converged yet.\n",
      "  % self.max_iter, ConvergenceWarning)\n",
      "C:\\Users\\aayse\\AppData\\Local\\Continuum\\anaconda3\\lib\\site-packages\\sklearn\\neural_network\\multilayer_perceptron.py:566: ConvergenceWarning: Stochastic Optimizer: Maximum iterations (200) reached and the optimization hasn't converged yet.\n",
      "  % self.max_iter, ConvergenceWarning)\n",
      "C:\\Users\\aayse\\AppData\\Local\\Continuum\\anaconda3\\lib\\site-packages\\sklearn\\neural_network\\multilayer_perceptron.py:566: ConvergenceWarning: Stochastic Optimizer: Maximum iterations (200) reached and the optimization hasn't converged yet.\n",
      "  % self.max_iter, ConvergenceWarning)\n",
      "C:\\Users\\aayse\\AppData\\Local\\Continuum\\anaconda3\\lib\\site-packages\\sklearn\\neural_network\\multilayer_perceptron.py:566: ConvergenceWarning: Stochastic Optimizer: Maximum iterations (200) reached and the optimization hasn't converged yet.\n",
      "  % self.max_iter, ConvergenceWarning)\n",
      "C:\\Users\\aayse\\AppData\\Local\\Continuum\\anaconda3\\lib\\site-packages\\sklearn\\neural_network\\multilayer_perceptron.py:566: ConvergenceWarning: Stochastic Optimizer: Maximum iterations (200) reached and the optimization hasn't converged yet.\n",
      "  % self.max_iter, ConvergenceWarning)\n",
      "C:\\Users\\aayse\\AppData\\Local\\Continuum\\anaconda3\\lib\\site-packages\\sklearn\\neural_network\\multilayer_perceptron.py:566: ConvergenceWarning: Stochastic Optimizer: Maximum iterations (200) reached and the optimization hasn't converged yet.\n",
      "  % self.max_iter, ConvergenceWarning)\n",
      "C:\\Users\\aayse\\AppData\\Local\\Continuum\\anaconda3\\lib\\site-packages\\sklearn\\neural_network\\multilayer_perceptron.py:566: ConvergenceWarning: Stochastic Optimizer: Maximum iterations (200) reached and the optimization hasn't converged yet.\n",
      "  % self.max_iter, ConvergenceWarning)\n",
      "C:\\Users\\aayse\\AppData\\Local\\Continuum\\anaconda3\\lib\\site-packages\\sklearn\\neural_network\\multilayer_perceptron.py:566: ConvergenceWarning: Stochastic Optimizer: Maximum iterations (200) reached and the optimization hasn't converged yet.\n",
      "  % self.max_iter, ConvergenceWarning)\n",
      "C:\\Users\\aayse\\AppData\\Local\\Continuum\\anaconda3\\lib\\site-packages\\sklearn\\neural_network\\multilayer_perceptron.py:566: ConvergenceWarning: Stochastic Optimizer: Maximum iterations (200) reached and the optimization hasn't converged yet.\n",
      "  % self.max_iter, ConvergenceWarning)\n",
      "C:\\Users\\aayse\\AppData\\Local\\Continuum\\anaconda3\\lib\\site-packages\\sklearn\\neural_network\\multilayer_perceptron.py:566: ConvergenceWarning: Stochastic Optimizer: Maximum iterations (200) reached and the optimization hasn't converged yet.\n",
      "  % self.max_iter, ConvergenceWarning)\n",
      "C:\\Users\\aayse\\AppData\\Local\\Continuum\\anaconda3\\lib\\site-packages\\sklearn\\neural_network\\multilayer_perceptron.py:566: ConvergenceWarning: Stochastic Optimizer: Maximum iterations (200) reached and the optimization hasn't converged yet.\n",
      "  % self.max_iter, ConvergenceWarning)\n",
      "C:\\Users\\aayse\\AppData\\Local\\Continuum\\anaconda3\\lib\\site-packages\\sklearn\\neural_network\\multilayer_perceptron.py:566: ConvergenceWarning: Stochastic Optimizer: Maximum iterations (200) reached and the optimization hasn't converged yet.\n",
      "  % self.max_iter, ConvergenceWarning)\n",
      "C:\\Users\\aayse\\AppData\\Local\\Continuum\\anaconda3\\lib\\site-packages\\sklearn\\neural_network\\multilayer_perceptron.py:566: ConvergenceWarning: Stochastic Optimizer: Maximum iterations (200) reached and the optimization hasn't converged yet.\n",
      "  % self.max_iter, ConvergenceWarning)\n",
      "C:\\Users\\aayse\\AppData\\Local\\Continuum\\anaconda3\\lib\\site-packages\\sklearn\\neural_network\\multilayer_perceptron.py:566: ConvergenceWarning: Stochastic Optimizer: Maximum iterations (200) reached and the optimization hasn't converged yet.\n",
      "  % self.max_iter, ConvergenceWarning)\n",
      "C:\\Users\\aayse\\AppData\\Local\\Continuum\\anaconda3\\lib\\site-packages\\sklearn\\neural_network\\multilayer_perceptron.py:566: ConvergenceWarning: Stochastic Optimizer: Maximum iterations (200) reached and the optimization hasn't converged yet.\n",
      "  % self.max_iter, ConvergenceWarning)\n",
      "C:\\Users\\aayse\\AppData\\Local\\Continuum\\anaconda3\\lib\\site-packages\\sklearn\\neural_network\\multilayer_perceptron.py:566: ConvergenceWarning: Stochastic Optimizer: Maximum iterations (200) reached and the optimization hasn't converged yet.\n",
      "  % self.max_iter, ConvergenceWarning)\n",
      "C:\\Users\\aayse\\AppData\\Local\\Continuum\\anaconda3\\lib\\site-packages\\sklearn\\neural_network\\multilayer_perceptron.py:566: ConvergenceWarning: Stochastic Optimizer: Maximum iterations (200) reached and the optimization hasn't converged yet.\n",
      "  % self.max_iter, ConvergenceWarning)\n",
      "C:\\Users\\aayse\\AppData\\Local\\Continuum\\anaconda3\\lib\\site-packages\\sklearn\\neural_network\\multilayer_perceptron.py:566: ConvergenceWarning: Stochastic Optimizer: Maximum iterations (200) reached and the optimization hasn't converged yet.\n",
      "  % self.max_iter, ConvergenceWarning)\n",
      "C:\\Users\\aayse\\AppData\\Local\\Continuum\\anaconda3\\lib\\site-packages\\sklearn\\neural_network\\multilayer_perceptron.py:566: ConvergenceWarning: Stochastic Optimizer: Maximum iterations (200) reached and the optimization hasn't converged yet.\n",
      "  % self.max_iter, ConvergenceWarning)\n",
      "C:\\Users\\aayse\\AppData\\Local\\Continuum\\anaconda3\\lib\\site-packages\\sklearn\\neural_network\\multilayer_perceptron.py:566: ConvergenceWarning: Stochastic Optimizer: Maximum iterations (200) reached and the optimization hasn't converged yet.\n",
      "  % self.max_iter, ConvergenceWarning)\n",
      "C:\\Users\\aayse\\AppData\\Local\\Continuum\\anaconda3\\lib\\site-packages\\sklearn\\neural_network\\multilayer_perceptron.py:566: ConvergenceWarning: Stochastic Optimizer: Maximum iterations (200) reached and the optimization hasn't converged yet.\n",
      "  % self.max_iter, ConvergenceWarning)\n",
      "C:\\Users\\aayse\\AppData\\Local\\Continuum\\anaconda3\\lib\\site-packages\\sklearn\\neural_network\\multilayer_perceptron.py:566: ConvergenceWarning: Stochastic Optimizer: Maximum iterations (200) reached and the optimization hasn't converged yet.\n",
      "  % self.max_iter, ConvergenceWarning)\n",
      "C:\\Users\\aayse\\AppData\\Local\\Continuum\\anaconda3\\lib\\site-packages\\sklearn\\neural_network\\multilayer_perceptron.py:566: ConvergenceWarning: Stochastic Optimizer: Maximum iterations (200) reached and the optimization hasn't converged yet.\n",
      "  % self.max_iter, ConvergenceWarning)\n",
      "C:\\Users\\aayse\\AppData\\Local\\Continuum\\anaconda3\\lib\\site-packages\\sklearn\\neural_network\\multilayer_perceptron.py:566: ConvergenceWarning: Stochastic Optimizer: Maximum iterations (200) reached and the optimization hasn't converged yet.\n",
      "  % self.max_iter, ConvergenceWarning)\n",
      "C:\\Users\\aayse\\AppData\\Local\\Continuum\\anaconda3\\lib\\site-packages\\sklearn\\neural_network\\multilayer_perceptron.py:566: ConvergenceWarning: Stochastic Optimizer: Maximum iterations (200) reached and the optimization hasn't converged yet.\n",
      "  % self.max_iter, ConvergenceWarning)\n",
      "C:\\Users\\aayse\\AppData\\Local\\Continuum\\anaconda3\\lib\\site-packages\\sklearn\\neural_network\\multilayer_perceptron.py:566: ConvergenceWarning: Stochastic Optimizer: Maximum iterations (200) reached and the optimization hasn't converged yet.\n",
      "  % self.max_iter, ConvergenceWarning)\n",
      "C:\\Users\\aayse\\AppData\\Local\\Continuum\\anaconda3\\lib\\site-packages\\sklearn\\neural_network\\multilayer_perceptron.py:566: ConvergenceWarning: Stochastic Optimizer: Maximum iterations (200) reached and the optimization hasn't converged yet.\n",
      "  % self.max_iter, ConvergenceWarning)\n",
      "C:\\Users\\aayse\\AppData\\Local\\Continuum\\anaconda3\\lib\\site-packages\\sklearn\\neural_network\\multilayer_perceptron.py:566: ConvergenceWarning: Stochastic Optimizer: Maximum iterations (200) reached and the optimization hasn't converged yet.\n",
      "  % self.max_iter, ConvergenceWarning)\n",
      "C:\\Users\\aayse\\AppData\\Local\\Continuum\\anaconda3\\lib\\site-packages\\sklearn\\neural_network\\multilayer_perceptron.py:566: ConvergenceWarning: Stochastic Optimizer: Maximum iterations (200) reached and the optimization hasn't converged yet.\n",
      "  % self.max_iter, ConvergenceWarning)\n",
      "C:\\Users\\aayse\\AppData\\Local\\Continuum\\anaconda3\\lib\\site-packages\\sklearn\\neural_network\\multilayer_perceptron.py:566: ConvergenceWarning: Stochastic Optimizer: Maximum iterations (200) reached and the optimization hasn't converged yet.\n",
      "  % self.max_iter, ConvergenceWarning)\n",
      "C:\\Users\\aayse\\AppData\\Local\\Continuum\\anaconda3\\lib\\site-packages\\sklearn\\neural_network\\multilayer_perceptron.py:566: ConvergenceWarning: Stochastic Optimizer: Maximum iterations (200) reached and the optimization hasn't converged yet.\n",
      "  % self.max_iter, ConvergenceWarning)\n",
      "C:\\Users\\aayse\\AppData\\Local\\Continuum\\anaconda3\\lib\\site-packages\\sklearn\\neural_network\\multilayer_perceptron.py:566: ConvergenceWarning: Stochastic Optimizer: Maximum iterations (200) reached and the optimization hasn't converged yet.\n",
      "  % self.max_iter, ConvergenceWarning)\n",
      "C:\\Users\\aayse\\AppData\\Local\\Continuum\\anaconda3\\lib\\site-packages\\sklearn\\neural_network\\multilayer_perceptron.py:566: ConvergenceWarning: Stochastic Optimizer: Maximum iterations (200) reached and the optimization hasn't converged yet.\n",
      "  % self.max_iter, ConvergenceWarning)\n",
      "C:\\Users\\aayse\\AppData\\Local\\Continuum\\anaconda3\\lib\\site-packages\\sklearn\\neural_network\\multilayer_perceptron.py:566: ConvergenceWarning: Stochastic Optimizer: Maximum iterations (200) reached and the optimization hasn't converged yet.\n",
      "  % self.max_iter, ConvergenceWarning)\n",
      "C:\\Users\\aayse\\AppData\\Local\\Continuum\\anaconda3\\lib\\site-packages\\sklearn\\neural_network\\multilayer_perceptron.py:566: ConvergenceWarning: Stochastic Optimizer: Maximum iterations (200) reached and the optimization hasn't converged yet.\n",
      "  % self.max_iter, ConvergenceWarning)\n",
      "C:\\Users\\aayse\\AppData\\Local\\Continuum\\anaconda3\\lib\\site-packages\\sklearn\\neural_network\\multilayer_perceptron.py:566: ConvergenceWarning: Stochastic Optimizer: Maximum iterations (200) reached and the optimization hasn't converged yet.\n",
      "  % self.max_iter, ConvergenceWarning)\n",
      "C:\\Users\\aayse\\AppData\\Local\\Continuum\\anaconda3\\lib\\site-packages\\sklearn\\neural_network\\multilayer_perceptron.py:566: ConvergenceWarning: Stochastic Optimizer: Maximum iterations (200) reached and the optimization hasn't converged yet.\n",
      "  % self.max_iter, ConvergenceWarning)\n",
      "C:\\Users\\aayse\\AppData\\Local\\Continuum\\anaconda3\\lib\\site-packages\\sklearn\\neural_network\\multilayer_perceptron.py:566: ConvergenceWarning: Stochastic Optimizer: Maximum iterations (200) reached and the optimization hasn't converged yet.\n",
      "  % self.max_iter, ConvergenceWarning)\n",
      "C:\\Users\\aayse\\AppData\\Local\\Continuum\\anaconda3\\lib\\site-packages\\sklearn\\neural_network\\multilayer_perceptron.py:566: ConvergenceWarning: Stochastic Optimizer: Maximum iterations (200) reached and the optimization hasn't converged yet.\n",
      "  % self.max_iter, ConvergenceWarning)\n",
      "C:\\Users\\aayse\\AppData\\Local\\Continuum\\anaconda3\\lib\\site-packages\\sklearn\\neural_network\\multilayer_perceptron.py:566: ConvergenceWarning: Stochastic Optimizer: Maximum iterations (200) reached and the optimization hasn't converged yet.\n",
      "  % self.max_iter, ConvergenceWarning)\n",
      "C:\\Users\\aayse\\AppData\\Local\\Continuum\\anaconda3\\lib\\site-packages\\sklearn\\neural_network\\multilayer_perceptron.py:566: ConvergenceWarning: Stochastic Optimizer: Maximum iterations (200) reached and the optimization hasn't converged yet.\n",
      "  % self.max_iter, ConvergenceWarning)\n",
      "C:\\Users\\aayse\\AppData\\Local\\Continuum\\anaconda3\\lib\\site-packages\\sklearn\\neural_network\\multilayer_perceptron.py:566: ConvergenceWarning: Stochastic Optimizer: Maximum iterations (200) reached and the optimization hasn't converged yet.\n",
      "  % self.max_iter, ConvergenceWarning)\n",
      "C:\\Users\\aayse\\AppData\\Local\\Continuum\\anaconda3\\lib\\site-packages\\sklearn\\neural_network\\multilayer_perceptron.py:566: ConvergenceWarning: Stochastic Optimizer: Maximum iterations (200) reached and the optimization hasn't converged yet.\n",
      "  % self.max_iter, ConvergenceWarning)\n",
      "C:\\Users\\aayse\\AppData\\Local\\Continuum\\anaconda3\\lib\\site-packages\\sklearn\\neural_network\\multilayer_perceptron.py:566: ConvergenceWarning: Stochastic Optimizer: Maximum iterations (200) reached and the optimization hasn't converged yet.\n",
      "  % self.max_iter, ConvergenceWarning)\n",
      "C:\\Users\\aayse\\AppData\\Local\\Continuum\\anaconda3\\lib\\site-packages\\sklearn\\neural_network\\multilayer_perceptron.py:566: ConvergenceWarning: Stochastic Optimizer: Maximum iterations (200) reached and the optimization hasn't converged yet.\n",
      "  % self.max_iter, ConvergenceWarning)\n",
      "C:\\Users\\aayse\\AppData\\Local\\Continuum\\anaconda3\\lib\\site-packages\\sklearn\\neural_network\\multilayer_perceptron.py:566: ConvergenceWarning: Stochastic Optimizer: Maximum iterations (200) reached and the optimization hasn't converged yet.\n",
      "  % self.max_iter, ConvergenceWarning)\n",
      "C:\\Users\\aayse\\AppData\\Local\\Continuum\\anaconda3\\lib\\site-packages\\sklearn\\neural_network\\multilayer_perceptron.py:566: ConvergenceWarning: Stochastic Optimizer: Maximum iterations (200) reached and the optimization hasn't converged yet.\n",
      "  % self.max_iter, ConvergenceWarning)\n",
      "C:\\Users\\aayse\\AppData\\Local\\Continuum\\anaconda3\\lib\\site-packages\\sklearn\\neural_network\\multilayer_perceptron.py:566: ConvergenceWarning: Stochastic Optimizer: Maximum iterations (200) reached and the optimization hasn't converged yet.\n",
      "  % self.max_iter, ConvergenceWarning)\n",
      "C:\\Users\\aayse\\AppData\\Local\\Continuum\\anaconda3\\lib\\site-packages\\sklearn\\neural_network\\multilayer_perceptron.py:566: ConvergenceWarning: Stochastic Optimizer: Maximum iterations (200) reached and the optimization hasn't converged yet.\n",
      "  % self.max_iter, ConvergenceWarning)\n",
      "C:\\Users\\aayse\\AppData\\Local\\Continuum\\anaconda3\\lib\\site-packages\\sklearn\\neural_network\\multilayer_perceptron.py:566: ConvergenceWarning: Stochastic Optimizer: Maximum iterations (200) reached and the optimization hasn't converged yet.\n",
      "  % self.max_iter, ConvergenceWarning)\n",
      "C:\\Users\\aayse\\AppData\\Local\\Continuum\\anaconda3\\lib\\site-packages\\sklearn\\neural_network\\multilayer_perceptron.py:566: ConvergenceWarning: Stochastic Optimizer: Maximum iterations (200) reached and the optimization hasn't converged yet.\n",
      "  % self.max_iter, ConvergenceWarning)\n",
      "C:\\Users\\aayse\\AppData\\Local\\Continuum\\anaconda3\\lib\\site-packages\\sklearn\\neural_network\\multilayer_perceptron.py:566: ConvergenceWarning: Stochastic Optimizer: Maximum iterations (200) reached and the optimization hasn't converged yet.\n",
      "  % self.max_iter, ConvergenceWarning)\n",
      "C:\\Users\\aayse\\AppData\\Local\\Continuum\\anaconda3\\lib\\site-packages\\sklearn\\neural_network\\multilayer_perceptron.py:566: ConvergenceWarning: Stochastic Optimizer: Maximum iterations (200) reached and the optimization hasn't converged yet.\n",
      "  % self.max_iter, ConvergenceWarning)\n",
      "C:\\Users\\aayse\\AppData\\Local\\Continuum\\anaconda3\\lib\\site-packages\\sklearn\\neural_network\\multilayer_perceptron.py:566: ConvergenceWarning: Stochastic Optimizer: Maximum iterations (200) reached and the optimization hasn't converged yet.\n",
      "  % self.max_iter, ConvergenceWarning)\n",
      "C:\\Users\\aayse\\AppData\\Local\\Continuum\\anaconda3\\lib\\site-packages\\sklearn\\neural_network\\multilayer_perceptron.py:566: ConvergenceWarning: Stochastic Optimizer: Maximum iterations (200) reached and the optimization hasn't converged yet.\n",
      "  % self.max_iter, ConvergenceWarning)\n",
      "C:\\Users\\aayse\\AppData\\Local\\Continuum\\anaconda3\\lib\\site-packages\\sklearn\\neural_network\\multilayer_perceptron.py:566: ConvergenceWarning: Stochastic Optimizer: Maximum iterations (200) reached and the optimization hasn't converged yet.\n",
      "  % self.max_iter, ConvergenceWarning)\n",
      "C:\\Users\\aayse\\AppData\\Local\\Continuum\\anaconda3\\lib\\site-packages\\sklearn\\neural_network\\multilayer_perceptron.py:566: ConvergenceWarning: Stochastic Optimizer: Maximum iterations (200) reached and the optimization hasn't converged yet.\n",
      "  % self.max_iter, ConvergenceWarning)\n",
      "C:\\Users\\aayse\\AppData\\Local\\Continuum\\anaconda3\\lib\\site-packages\\sklearn\\neural_network\\multilayer_perceptron.py:566: ConvergenceWarning: Stochastic Optimizer: Maximum iterations (200) reached and the optimization hasn't converged yet.\n",
      "  % self.max_iter, ConvergenceWarning)\n",
      "C:\\Users\\aayse\\AppData\\Local\\Continuum\\anaconda3\\lib\\site-packages\\sklearn\\neural_network\\multilayer_perceptron.py:566: ConvergenceWarning: Stochastic Optimizer: Maximum iterations (200) reached and the optimization hasn't converged yet.\n",
      "  % self.max_iter, ConvergenceWarning)\n",
      "C:\\Users\\aayse\\AppData\\Local\\Continuum\\anaconda3\\lib\\site-packages\\sklearn\\neural_network\\multilayer_perceptron.py:566: ConvergenceWarning: Stochastic Optimizer: Maximum iterations (200) reached and the optimization hasn't converged yet.\n",
      "  % self.max_iter, ConvergenceWarning)\n",
      "C:\\Users\\aayse\\AppData\\Local\\Continuum\\anaconda3\\lib\\site-packages\\sklearn\\neural_network\\multilayer_perceptron.py:566: ConvergenceWarning: Stochastic Optimizer: Maximum iterations (200) reached and the optimization hasn't converged yet.\n",
      "  % self.max_iter, ConvergenceWarning)\n",
      "C:\\Users\\aayse\\AppData\\Local\\Continuum\\anaconda3\\lib\\site-packages\\sklearn\\neural_network\\multilayer_perceptron.py:566: ConvergenceWarning: Stochastic Optimizer: Maximum iterations (200) reached and the optimization hasn't converged yet.\n",
      "  % self.max_iter, ConvergenceWarning)\n",
      "C:\\Users\\aayse\\AppData\\Local\\Continuum\\anaconda3\\lib\\site-packages\\sklearn\\neural_network\\multilayer_perceptron.py:566: ConvergenceWarning: Stochastic Optimizer: Maximum iterations (200) reached and the optimization hasn't converged yet.\n",
      "  % self.max_iter, ConvergenceWarning)\n",
      "C:\\Users\\aayse\\AppData\\Local\\Continuum\\anaconda3\\lib\\site-packages\\sklearn\\neural_network\\multilayer_perceptron.py:566: ConvergenceWarning: Stochastic Optimizer: Maximum iterations (200) reached and the optimization hasn't converged yet.\n",
      "  % self.max_iter, ConvergenceWarning)\n",
      "C:\\Users\\aayse\\AppData\\Local\\Continuum\\anaconda3\\lib\\site-packages\\sklearn\\neural_network\\multilayer_perceptron.py:566: ConvergenceWarning: Stochastic Optimizer: Maximum iterations (200) reached and the optimization hasn't converged yet.\n",
      "  % self.max_iter, ConvergenceWarning)\n",
      "C:\\Users\\aayse\\AppData\\Local\\Continuum\\anaconda3\\lib\\site-packages\\sklearn\\neural_network\\multilayer_perceptron.py:566: ConvergenceWarning: Stochastic Optimizer: Maximum iterations (200) reached and the optimization hasn't converged yet.\n",
      "  % self.max_iter, ConvergenceWarning)\n",
      "C:\\Users\\aayse\\AppData\\Local\\Continuum\\anaconda3\\lib\\site-packages\\sklearn\\neural_network\\multilayer_perceptron.py:566: ConvergenceWarning: Stochastic Optimizer: Maximum iterations (200) reached and the optimization hasn't converged yet.\n",
      "  % self.max_iter, ConvergenceWarning)\n",
      "C:\\Users\\aayse\\AppData\\Local\\Continuum\\anaconda3\\lib\\site-packages\\sklearn\\neural_network\\multilayer_perceptron.py:566: ConvergenceWarning: Stochastic Optimizer: Maximum iterations (200) reached and the optimization hasn't converged yet.\n",
      "  % self.max_iter, ConvergenceWarning)\n",
      "C:\\Users\\aayse\\AppData\\Local\\Continuum\\anaconda3\\lib\\site-packages\\sklearn\\neural_network\\multilayer_perceptron.py:566: ConvergenceWarning: Stochastic Optimizer: Maximum iterations (200) reached and the optimization hasn't converged yet.\n",
      "  % self.max_iter, ConvergenceWarning)\n",
      "C:\\Users\\aayse\\AppData\\Local\\Continuum\\anaconda3\\lib\\site-packages\\sklearn\\neural_network\\multilayer_perceptron.py:566: ConvergenceWarning: Stochastic Optimizer: Maximum iterations (200) reached and the optimization hasn't converged yet.\n",
      "  % self.max_iter, ConvergenceWarning)\n",
      "C:\\Users\\aayse\\AppData\\Local\\Continuum\\anaconda3\\lib\\site-packages\\sklearn\\neural_network\\multilayer_perceptron.py:566: ConvergenceWarning: Stochastic Optimizer: Maximum iterations (200) reached and the optimization hasn't converged yet.\n",
      "  % self.max_iter, ConvergenceWarning)\n",
      "C:\\Users\\aayse\\AppData\\Local\\Continuum\\anaconda3\\lib\\site-packages\\sklearn\\neural_network\\multilayer_perceptron.py:566: ConvergenceWarning: Stochastic Optimizer: Maximum iterations (200) reached and the optimization hasn't converged yet.\n",
      "  % self.max_iter, ConvergenceWarning)\n",
      "C:\\Users\\aayse\\AppData\\Local\\Continuum\\anaconda3\\lib\\site-packages\\sklearn\\neural_network\\multilayer_perceptron.py:566: ConvergenceWarning: Stochastic Optimizer: Maximum iterations (200) reached and the optimization hasn't converged yet.\n",
      "  % self.max_iter, ConvergenceWarning)\n",
      "C:\\Users\\aayse\\AppData\\Local\\Continuum\\anaconda3\\lib\\site-packages\\sklearn\\neural_network\\multilayer_perceptron.py:566: ConvergenceWarning: Stochastic Optimizer: Maximum iterations (200) reached and the optimization hasn't converged yet.\n",
      "  % self.max_iter, ConvergenceWarning)\n",
      "C:\\Users\\aayse\\AppData\\Local\\Continuum\\anaconda3\\lib\\site-packages\\sklearn\\neural_network\\multilayer_perceptron.py:566: ConvergenceWarning: Stochastic Optimizer: Maximum iterations (200) reached and the optimization hasn't converged yet.\n",
      "  % self.max_iter, ConvergenceWarning)\n",
      "C:\\Users\\aayse\\AppData\\Local\\Continuum\\anaconda3\\lib\\site-packages\\sklearn\\neural_network\\multilayer_perceptron.py:566: ConvergenceWarning: Stochastic Optimizer: Maximum iterations (200) reached and the optimization hasn't converged yet.\n",
      "  % self.max_iter, ConvergenceWarning)\n",
      "C:\\Users\\aayse\\AppData\\Local\\Continuum\\anaconda3\\lib\\site-packages\\sklearn\\neural_network\\multilayer_perceptron.py:566: ConvergenceWarning: Stochastic Optimizer: Maximum iterations (200) reached and the optimization hasn't converged yet.\n",
      "  % self.max_iter, ConvergenceWarning)\n",
      "C:\\Users\\aayse\\AppData\\Local\\Continuum\\anaconda3\\lib\\site-packages\\sklearn\\neural_network\\multilayer_perceptron.py:566: ConvergenceWarning: Stochastic Optimizer: Maximum iterations (200) reached and the optimization hasn't converged yet.\n",
      "  % self.max_iter, ConvergenceWarning)\n",
      "C:\\Users\\aayse\\AppData\\Local\\Continuum\\anaconda3\\lib\\site-packages\\sklearn\\neural_network\\multilayer_perceptron.py:566: ConvergenceWarning: Stochastic Optimizer: Maximum iterations (200) reached and the optimization hasn't converged yet.\n",
      "  % self.max_iter, ConvergenceWarning)\n",
      "C:\\Users\\aayse\\AppData\\Local\\Continuum\\anaconda3\\lib\\site-packages\\sklearn\\neural_network\\multilayer_perceptron.py:566: ConvergenceWarning: Stochastic Optimizer: Maximum iterations (200) reached and the optimization hasn't converged yet.\n",
      "  % self.max_iter, ConvergenceWarning)\n",
      "C:\\Users\\aayse\\AppData\\Local\\Continuum\\anaconda3\\lib\\site-packages\\sklearn\\neural_network\\multilayer_perceptron.py:566: ConvergenceWarning: Stochastic Optimizer: Maximum iterations (200) reached and the optimization hasn't converged yet.\n",
      "  % self.max_iter, ConvergenceWarning)\n",
      "C:\\Users\\aayse\\AppData\\Local\\Continuum\\anaconda3\\lib\\site-packages\\sklearn\\neural_network\\multilayer_perceptron.py:566: ConvergenceWarning: Stochastic Optimizer: Maximum iterations (200) reached and the optimization hasn't converged yet.\n",
      "  % self.max_iter, ConvergenceWarning)\n",
      "C:\\Users\\aayse\\AppData\\Local\\Continuum\\anaconda3\\lib\\site-packages\\sklearn\\neural_network\\multilayer_perceptron.py:566: ConvergenceWarning: Stochastic Optimizer: Maximum iterations (200) reached and the optimization hasn't converged yet.\n",
      "  % self.max_iter, ConvergenceWarning)\n",
      "C:\\Users\\aayse\\AppData\\Local\\Continuum\\anaconda3\\lib\\site-packages\\sklearn\\neural_network\\multilayer_perceptron.py:566: ConvergenceWarning: Stochastic Optimizer: Maximum iterations (200) reached and the optimization hasn't converged yet.\n",
      "  % self.max_iter, ConvergenceWarning)\n",
      "C:\\Users\\aayse\\AppData\\Local\\Continuum\\anaconda3\\lib\\site-packages\\sklearn\\neural_network\\multilayer_perceptron.py:566: ConvergenceWarning: Stochastic Optimizer: Maximum iterations (200) reached and the optimization hasn't converged yet.\n",
      "  % self.max_iter, ConvergenceWarning)\n",
      "C:\\Users\\aayse\\AppData\\Local\\Continuum\\anaconda3\\lib\\site-packages\\sklearn\\neural_network\\multilayer_perceptron.py:566: ConvergenceWarning: Stochastic Optimizer: Maximum iterations (200) reached and the optimization hasn't converged yet.\n",
      "  % self.max_iter, ConvergenceWarning)\n",
      "C:\\Users\\aayse\\AppData\\Local\\Continuum\\anaconda3\\lib\\site-packages\\sklearn\\neural_network\\multilayer_perceptron.py:566: ConvergenceWarning: Stochastic Optimizer: Maximum iterations (200) reached and the optimization hasn't converged yet.\n",
      "  % self.max_iter, ConvergenceWarning)\n",
      "C:\\Users\\aayse\\AppData\\Local\\Continuum\\anaconda3\\lib\\site-packages\\sklearn\\neural_network\\multilayer_perceptron.py:566: ConvergenceWarning: Stochastic Optimizer: Maximum iterations (200) reached and the optimization hasn't converged yet.\n",
      "  % self.max_iter, ConvergenceWarning)\n",
      "C:\\Users\\aayse\\AppData\\Local\\Continuum\\anaconda3\\lib\\site-packages\\sklearn\\neural_network\\multilayer_perceptron.py:566: ConvergenceWarning: Stochastic Optimizer: Maximum iterations (200) reached and the optimization hasn't converged yet.\n",
      "  % self.max_iter, ConvergenceWarning)\n",
      "C:\\Users\\aayse\\AppData\\Local\\Continuum\\anaconda3\\lib\\site-packages\\sklearn\\neural_network\\multilayer_perceptron.py:566: ConvergenceWarning: Stochastic Optimizer: Maximum iterations (200) reached and the optimization hasn't converged yet.\n",
      "  % self.max_iter, ConvergenceWarning)\n",
      "C:\\Users\\aayse\\AppData\\Local\\Continuum\\anaconda3\\lib\\site-packages\\sklearn\\neural_network\\multilayer_perceptron.py:566: ConvergenceWarning: Stochastic Optimizer: Maximum iterations (200) reached and the optimization hasn't converged yet.\n",
      "  % self.max_iter, ConvergenceWarning)\n",
      "C:\\Users\\aayse\\AppData\\Local\\Continuum\\anaconda3\\lib\\site-packages\\sklearn\\neural_network\\multilayer_perceptron.py:566: ConvergenceWarning: Stochastic Optimizer: Maximum iterations (200) reached and the optimization hasn't converged yet.\n",
      "  % self.max_iter, ConvergenceWarning)\n",
      "C:\\Users\\aayse\\AppData\\Local\\Continuum\\anaconda3\\lib\\site-packages\\sklearn\\neural_network\\multilayer_perceptron.py:566: ConvergenceWarning: Stochastic Optimizer: Maximum iterations (200) reached and the optimization hasn't converged yet.\n",
      "  % self.max_iter, ConvergenceWarning)\n",
      "C:\\Users\\aayse\\AppData\\Local\\Continuum\\anaconda3\\lib\\site-packages\\sklearn\\neural_network\\multilayer_perceptron.py:566: ConvergenceWarning: Stochastic Optimizer: Maximum iterations (200) reached and the optimization hasn't converged yet.\n",
      "  % self.max_iter, ConvergenceWarning)\n",
      "C:\\Users\\aayse\\AppData\\Local\\Continuum\\anaconda3\\lib\\site-packages\\sklearn\\neural_network\\multilayer_perceptron.py:566: ConvergenceWarning: Stochastic Optimizer: Maximum iterations (200) reached and the optimization hasn't converged yet.\n",
      "  % self.max_iter, ConvergenceWarning)\n",
      "C:\\Users\\aayse\\AppData\\Local\\Continuum\\anaconda3\\lib\\site-packages\\sklearn\\neural_network\\multilayer_perceptron.py:566: ConvergenceWarning: Stochastic Optimizer: Maximum iterations (200) reached and the optimization hasn't converged yet.\n",
      "  % self.max_iter, ConvergenceWarning)\n",
      "C:\\Users\\aayse\\AppData\\Local\\Continuum\\anaconda3\\lib\\site-packages\\sklearn\\neural_network\\multilayer_perceptron.py:566: ConvergenceWarning: Stochastic Optimizer: Maximum iterations (200) reached and the optimization hasn't converged yet.\n",
      "  % self.max_iter, ConvergenceWarning)\n",
      "C:\\Users\\aayse\\AppData\\Local\\Continuum\\anaconda3\\lib\\site-packages\\sklearn\\neural_network\\multilayer_perceptron.py:566: ConvergenceWarning: Stochastic Optimizer: Maximum iterations (200) reached and the optimization hasn't converged yet.\n",
      "  % self.max_iter, ConvergenceWarning)\n",
      "C:\\Users\\aayse\\AppData\\Local\\Continuum\\anaconda3\\lib\\site-packages\\sklearn\\neural_network\\multilayer_perceptron.py:566: ConvergenceWarning: Stochastic Optimizer: Maximum iterations (200) reached and the optimization hasn't converged yet.\n",
      "  % self.max_iter, ConvergenceWarning)\n",
      "C:\\Users\\aayse\\AppData\\Local\\Continuum\\anaconda3\\lib\\site-packages\\sklearn\\neural_network\\multilayer_perceptron.py:566: ConvergenceWarning: Stochastic Optimizer: Maximum iterations (200) reached and the optimization hasn't converged yet.\n",
      "  % self.max_iter, ConvergenceWarning)\n",
      "C:\\Users\\aayse\\AppData\\Local\\Continuum\\anaconda3\\lib\\site-packages\\sklearn\\neural_network\\multilayer_perceptron.py:566: ConvergenceWarning: Stochastic Optimizer: Maximum iterations (200) reached and the optimization hasn't converged yet.\n",
      "  % self.max_iter, ConvergenceWarning)\n",
      "C:\\Users\\aayse\\AppData\\Local\\Continuum\\anaconda3\\lib\\site-packages\\sklearn\\neural_network\\multilayer_perceptron.py:566: ConvergenceWarning: Stochastic Optimizer: Maximum iterations (200) reached and the optimization hasn't converged yet.\n",
      "  % self.max_iter, ConvergenceWarning)\n",
      "C:\\Users\\aayse\\AppData\\Local\\Continuum\\anaconda3\\lib\\site-packages\\sklearn\\neural_network\\multilayer_perceptron.py:566: ConvergenceWarning: Stochastic Optimizer: Maximum iterations (200) reached and the optimization hasn't converged yet.\n",
      "  % self.max_iter, ConvergenceWarning)\n",
      "C:\\Users\\aayse\\AppData\\Local\\Continuum\\anaconda3\\lib\\site-packages\\sklearn\\neural_network\\multilayer_perceptron.py:566: ConvergenceWarning: Stochastic Optimizer: Maximum iterations (200) reached and the optimization hasn't converged yet.\n",
      "  % self.max_iter, ConvergenceWarning)\n",
      "C:\\Users\\aayse\\AppData\\Local\\Continuum\\anaconda3\\lib\\site-packages\\sklearn\\neural_network\\multilayer_perceptron.py:566: ConvergenceWarning: Stochastic Optimizer: Maximum iterations (200) reached and the optimization hasn't converged yet.\n",
      "  % self.max_iter, ConvergenceWarning)\n",
      "C:\\Users\\aayse\\AppData\\Local\\Continuum\\anaconda3\\lib\\site-packages\\sklearn\\neural_network\\multilayer_perceptron.py:566: ConvergenceWarning: Stochastic Optimizer: Maximum iterations (200) reached and the optimization hasn't converged yet.\n",
      "  % self.max_iter, ConvergenceWarning)\n",
      "C:\\Users\\aayse\\AppData\\Local\\Continuum\\anaconda3\\lib\\site-packages\\sklearn\\neural_network\\multilayer_perceptron.py:566: ConvergenceWarning: Stochastic Optimizer: Maximum iterations (200) reached and the optimization hasn't converged yet.\n",
      "  % self.max_iter, ConvergenceWarning)\n",
      "C:\\Users\\aayse\\AppData\\Local\\Continuum\\anaconda3\\lib\\site-packages\\sklearn\\neural_network\\multilayer_perceptron.py:566: ConvergenceWarning: Stochastic Optimizer: Maximum iterations (200) reached and the optimization hasn't converged yet.\n",
      "  % self.max_iter, ConvergenceWarning)\n",
      "C:\\Users\\aayse\\AppData\\Local\\Continuum\\anaconda3\\lib\\site-packages\\sklearn\\neural_network\\multilayer_perceptron.py:566: ConvergenceWarning: Stochastic Optimizer: Maximum iterations (200) reached and the optimization hasn't converged yet.\n",
      "  % self.max_iter, ConvergenceWarning)\n",
      "C:\\Users\\aayse\\AppData\\Local\\Continuum\\anaconda3\\lib\\site-packages\\sklearn\\neural_network\\multilayer_perceptron.py:566: ConvergenceWarning: Stochastic Optimizer: Maximum iterations (200) reached and the optimization hasn't converged yet.\n",
      "  % self.max_iter, ConvergenceWarning)\n",
      "C:\\Users\\aayse\\AppData\\Local\\Continuum\\anaconda3\\lib\\site-packages\\sklearn\\neural_network\\multilayer_perceptron.py:566: ConvergenceWarning: Stochastic Optimizer: Maximum iterations (200) reached and the optimization hasn't converged yet.\n",
      "  % self.max_iter, ConvergenceWarning)\n",
      "C:\\Users\\aayse\\AppData\\Local\\Continuum\\anaconda3\\lib\\site-packages\\sklearn\\neural_network\\multilayer_perceptron.py:566: ConvergenceWarning: Stochastic Optimizer: Maximum iterations (200) reached and the optimization hasn't converged yet.\n",
      "  % self.max_iter, ConvergenceWarning)\n",
      "C:\\Users\\aayse\\AppData\\Local\\Continuum\\anaconda3\\lib\\site-packages\\sklearn\\neural_network\\multilayer_perceptron.py:566: ConvergenceWarning: Stochastic Optimizer: Maximum iterations (200) reached and the optimization hasn't converged yet.\n",
      "  % self.max_iter, ConvergenceWarning)\n",
      "C:\\Users\\aayse\\AppData\\Local\\Continuum\\anaconda3\\lib\\site-packages\\sklearn\\neural_network\\multilayer_perceptron.py:566: ConvergenceWarning: Stochastic Optimizer: Maximum iterations (200) reached and the optimization hasn't converged yet.\n",
      "  % self.max_iter, ConvergenceWarning)\n",
      "C:\\Users\\aayse\\AppData\\Local\\Continuum\\anaconda3\\lib\\site-packages\\sklearn\\neural_network\\multilayer_perceptron.py:566: ConvergenceWarning: Stochastic Optimizer: Maximum iterations (200) reached and the optimization hasn't converged yet.\n",
      "  % self.max_iter, ConvergenceWarning)\n",
      "C:\\Users\\aayse\\AppData\\Local\\Continuum\\anaconda3\\lib\\site-packages\\sklearn\\neural_network\\multilayer_perceptron.py:566: ConvergenceWarning: Stochastic Optimizer: Maximum iterations (200) reached and the optimization hasn't converged yet.\n",
      "  % self.max_iter, ConvergenceWarning)\n",
      "C:\\Users\\aayse\\AppData\\Local\\Continuum\\anaconda3\\lib\\site-packages\\sklearn\\neural_network\\multilayer_perceptron.py:566: ConvergenceWarning: Stochastic Optimizer: Maximum iterations (200) reached and the optimization hasn't converged yet.\n",
      "  % self.max_iter, ConvergenceWarning)\n",
      "C:\\Users\\aayse\\AppData\\Local\\Continuum\\anaconda3\\lib\\site-packages\\sklearn\\neural_network\\multilayer_perceptron.py:566: ConvergenceWarning: Stochastic Optimizer: Maximum iterations (200) reached and the optimization hasn't converged yet.\n",
      "  % self.max_iter, ConvergenceWarning)\n",
      "C:\\Users\\aayse\\AppData\\Local\\Continuum\\anaconda3\\lib\\site-packages\\sklearn\\neural_network\\multilayer_perceptron.py:566: ConvergenceWarning: Stochastic Optimizer: Maximum iterations (200) reached and the optimization hasn't converged yet.\n",
      "  % self.max_iter, ConvergenceWarning)\n",
      "C:\\Users\\aayse\\AppData\\Local\\Continuum\\anaconda3\\lib\\site-packages\\sklearn\\neural_network\\multilayer_perceptron.py:566: ConvergenceWarning: Stochastic Optimizer: Maximum iterations (200) reached and the optimization hasn't converged yet.\n",
      "  % self.max_iter, ConvergenceWarning)\n",
      "C:\\Users\\aayse\\AppData\\Local\\Continuum\\anaconda3\\lib\\site-packages\\sklearn\\neural_network\\multilayer_perceptron.py:566: ConvergenceWarning: Stochastic Optimizer: Maximum iterations (200) reached and the optimization hasn't converged yet.\n",
      "  % self.max_iter, ConvergenceWarning)\n",
      "C:\\Users\\aayse\\AppData\\Local\\Continuum\\anaconda3\\lib\\site-packages\\sklearn\\neural_network\\multilayer_perceptron.py:566: ConvergenceWarning: Stochastic Optimizer: Maximum iterations (200) reached and the optimization hasn't converged yet.\n",
      "  % self.max_iter, ConvergenceWarning)\n",
      "C:\\Users\\aayse\\AppData\\Local\\Continuum\\anaconda3\\lib\\site-packages\\sklearn\\neural_network\\multilayer_perceptron.py:566: ConvergenceWarning: Stochastic Optimizer: Maximum iterations (200) reached and the optimization hasn't converged yet.\n",
      "  % self.max_iter, ConvergenceWarning)\n",
      "C:\\Users\\aayse\\AppData\\Local\\Continuum\\anaconda3\\lib\\site-packages\\sklearn\\neural_network\\multilayer_perceptron.py:566: ConvergenceWarning: Stochastic Optimizer: Maximum iterations (200) reached and the optimization hasn't converged yet.\n",
      "  % self.max_iter, ConvergenceWarning)\n",
      "C:\\Users\\aayse\\AppData\\Local\\Continuum\\anaconda3\\lib\\site-packages\\sklearn\\neural_network\\multilayer_perceptron.py:566: ConvergenceWarning: Stochastic Optimizer: Maximum iterations (200) reached and the optimization hasn't converged yet.\n",
      "  % self.max_iter, ConvergenceWarning)\n",
      "C:\\Users\\aayse\\AppData\\Local\\Continuum\\anaconda3\\lib\\site-packages\\sklearn\\neural_network\\multilayer_perceptron.py:566: ConvergenceWarning: Stochastic Optimizer: Maximum iterations (200) reached and the optimization hasn't converged yet.\n",
      "  % self.max_iter, ConvergenceWarning)\n",
      "C:\\Users\\aayse\\AppData\\Local\\Continuum\\anaconda3\\lib\\site-packages\\sklearn\\neural_network\\multilayer_perceptron.py:566: ConvergenceWarning: Stochastic Optimizer: Maximum iterations (200) reached and the optimization hasn't converged yet.\n",
      "  % self.max_iter, ConvergenceWarning)\n",
      "C:\\Users\\aayse\\AppData\\Local\\Continuum\\anaconda3\\lib\\site-packages\\sklearn\\neural_network\\multilayer_perceptron.py:566: ConvergenceWarning: Stochastic Optimizer: Maximum iterations (200) reached and the optimization hasn't converged yet.\n",
      "  % self.max_iter, ConvergenceWarning)\n",
      "C:\\Users\\aayse\\AppData\\Local\\Continuum\\anaconda3\\lib\\site-packages\\sklearn\\neural_network\\multilayer_perceptron.py:566: ConvergenceWarning: Stochastic Optimizer: Maximum iterations (200) reached and the optimization hasn't converged yet.\n",
      "  % self.max_iter, ConvergenceWarning)\n",
      "C:\\Users\\aayse\\AppData\\Local\\Continuum\\anaconda3\\lib\\site-packages\\sklearn\\neural_network\\multilayer_perceptron.py:566: ConvergenceWarning: Stochastic Optimizer: Maximum iterations (200) reached and the optimization hasn't converged yet.\n",
      "  % self.max_iter, ConvergenceWarning)\n",
      "C:\\Users\\aayse\\AppData\\Local\\Continuum\\anaconda3\\lib\\site-packages\\sklearn\\neural_network\\multilayer_perceptron.py:566: ConvergenceWarning: Stochastic Optimizer: Maximum iterations (200) reached and the optimization hasn't converged yet.\n",
      "  % self.max_iter, ConvergenceWarning)\n",
      "C:\\Users\\aayse\\AppData\\Local\\Continuum\\anaconda3\\lib\\site-packages\\sklearn\\neural_network\\multilayer_perceptron.py:566: ConvergenceWarning: Stochastic Optimizer: Maximum iterations (200) reached and the optimization hasn't converged yet.\n",
      "  % self.max_iter, ConvergenceWarning)\n",
      "C:\\Users\\aayse\\AppData\\Local\\Continuum\\anaconda3\\lib\\site-packages\\sklearn\\neural_network\\multilayer_perceptron.py:566: ConvergenceWarning: Stochastic Optimizer: Maximum iterations (200) reached and the optimization hasn't converged yet.\n",
      "  % self.max_iter, ConvergenceWarning)\n",
      "C:\\Users\\aayse\\AppData\\Local\\Continuum\\anaconda3\\lib\\site-packages\\sklearn\\neural_network\\multilayer_perceptron.py:566: ConvergenceWarning: Stochastic Optimizer: Maximum iterations (200) reached and the optimization hasn't converged yet.\n",
      "  % self.max_iter, ConvergenceWarning)\n",
      "C:\\Users\\aayse\\AppData\\Local\\Continuum\\anaconda3\\lib\\site-packages\\sklearn\\neural_network\\multilayer_perceptron.py:566: ConvergenceWarning: Stochastic Optimizer: Maximum iterations (200) reached and the optimization hasn't converged yet.\n",
      "  % self.max_iter, ConvergenceWarning)\n",
      "C:\\Users\\aayse\\AppData\\Local\\Continuum\\anaconda3\\lib\\site-packages\\sklearn\\neural_network\\multilayer_perceptron.py:566: ConvergenceWarning: Stochastic Optimizer: Maximum iterations (200) reached and the optimization hasn't converged yet.\n",
      "  % self.max_iter, ConvergenceWarning)\n",
      "C:\\Users\\aayse\\AppData\\Local\\Continuum\\anaconda3\\lib\\site-packages\\sklearn\\neural_network\\multilayer_perceptron.py:566: ConvergenceWarning: Stochastic Optimizer: Maximum iterations (200) reached and the optimization hasn't converged yet.\n",
      "  % self.max_iter, ConvergenceWarning)\n",
      "C:\\Users\\aayse\\AppData\\Local\\Continuum\\anaconda3\\lib\\site-packages\\sklearn\\neural_network\\multilayer_perceptron.py:566: ConvergenceWarning: Stochastic Optimizer: Maximum iterations (200) reached and the optimization hasn't converged yet.\n",
      "  % self.max_iter, ConvergenceWarning)\n",
      "C:\\Users\\aayse\\AppData\\Local\\Continuum\\anaconda3\\lib\\site-packages\\sklearn\\neural_network\\multilayer_perceptron.py:566: ConvergenceWarning: Stochastic Optimizer: Maximum iterations (200) reached and the optimization hasn't converged yet.\n",
      "  % self.max_iter, ConvergenceWarning)\n",
      "C:\\Users\\aayse\\AppData\\Local\\Continuum\\anaconda3\\lib\\site-packages\\sklearn\\neural_network\\multilayer_perceptron.py:566: ConvergenceWarning: Stochastic Optimizer: Maximum iterations (200) reached and the optimization hasn't converged yet.\n",
      "  % self.max_iter, ConvergenceWarning)\n",
      "C:\\Users\\aayse\\AppData\\Local\\Continuum\\anaconda3\\lib\\site-packages\\sklearn\\neural_network\\multilayer_perceptron.py:566: ConvergenceWarning: Stochastic Optimizer: Maximum iterations (200) reached and the optimization hasn't converged yet.\n",
      "  % self.max_iter, ConvergenceWarning)\n",
      "C:\\Users\\aayse\\AppData\\Local\\Continuum\\anaconda3\\lib\\site-packages\\sklearn\\neural_network\\multilayer_perceptron.py:566: ConvergenceWarning: Stochastic Optimizer: Maximum iterations (200) reached and the optimization hasn't converged yet.\n",
      "  % self.max_iter, ConvergenceWarning)\n",
      "C:\\Users\\aayse\\AppData\\Local\\Continuum\\anaconda3\\lib\\site-packages\\sklearn\\neural_network\\multilayer_perceptron.py:566: ConvergenceWarning: Stochastic Optimizer: Maximum iterations (200) reached and the optimization hasn't converged yet.\n",
      "  % self.max_iter, ConvergenceWarning)\n",
      "C:\\Users\\aayse\\AppData\\Local\\Continuum\\anaconda3\\lib\\site-packages\\sklearn\\neural_network\\multilayer_perceptron.py:566: ConvergenceWarning: Stochastic Optimizer: Maximum iterations (200) reached and the optimization hasn't converged yet.\n",
      "  % self.max_iter, ConvergenceWarning)\n",
      "C:\\Users\\aayse\\AppData\\Local\\Continuum\\anaconda3\\lib\\site-packages\\sklearn\\neural_network\\multilayer_perceptron.py:566: ConvergenceWarning: Stochastic Optimizer: Maximum iterations (200) reached and the optimization hasn't converged yet.\n",
      "  % self.max_iter, ConvergenceWarning)\n",
      "C:\\Users\\aayse\\AppData\\Local\\Continuum\\anaconda3\\lib\\site-packages\\sklearn\\model_selection\\_search.py:814: DeprecationWarning: The default of the `iid` parameter will change from True to False in version 0.22 and will be removed in 0.24. This will change numeric results when test-set sizes are unequal.\n",
      "  DeprecationWarning)\n",
      "C:\\Users\\aayse\\AppData\\Local\\Continuum\\anaconda3\\lib\\site-packages\\sklearn\\neural_network\\multilayer_perceptron.py:566: ConvergenceWarning: Stochastic Optimizer: Maximum iterations (200) reached and the optimization hasn't converged yet.\n",
      "  % self.max_iter, ConvergenceWarning)\n"
     ]
    },
    {
     "data": {
      "text/plain": [
       "GridSearchCV(cv=10, error_score='raise-deprecating',\n",
       "             estimator=MLPRegressor(activation='relu', alpha=0.0001,\n",
       "                                    batch_size='auto', beta_1=0.9, beta_2=0.999,\n",
       "                                    early_stopping=False, epsilon=1e-08,\n",
       "                                    hidden_layer_sizes=[100, 20],\n",
       "                                    learning_rate='constant',\n",
       "                                    learning_rate_init=0.001, max_iter=200,\n",
       "                                    momentum=0.9, n_iter_no_change=10,\n",
       "                                    nesterovs_momentum=True, power_t=0.5,\n",
       "                                    random_state=None, shuffle=True,\n",
       "                                    solver='adam', tol=0.0001,\n",
       "                                    validation_fraction=0.1, verbose=False,\n",
       "                                    warm_start=False),\n",
       "             iid='warn', n_jobs=None,\n",
       "             param_grid={'activation': ['relu', 'logistic'],\n",
       "                         'alpha': [0.1, 0.01, 0.02, 0.05],\n",
       "                         'hidden_layer_sizes': [(20, 20), (100, 50, 150),\n",
       "                                                (300, 200, 150)]},\n",
       "             pre_dispatch='2*n_jobs', refit=True, return_train_score=False,\n",
       "             scoring=None, verbose=0)"
      ]
     },
     "execution_count": 58,
     "metadata": {},
     "output_type": "execute_result"
    }
   ],
   "source": [
    "mlp_cv_model.fit(X_train_scaled,y_train)"
   ]
  },
  {
   "cell_type": "code",
   "execution_count": 59,
   "metadata": {},
   "outputs": [
    {
     "data": {
      "text/plain": [
       "{'activation': 'relu', 'alpha': 0.02, 'hidden_layer_sizes': (100, 50, 150)}"
      ]
     },
     "execution_count": 59,
     "metadata": {},
     "output_type": "execute_result"
    }
   ],
   "source": [
    "mlp_cv_model.best_params_"
   ]
  },
  {
   "cell_type": "code",
   "execution_count": 60,
   "metadata": {},
   "outputs": [],
   "source": [
    "mlp_tuned=MLPRegressor(alpha=0.02,hidden_layer_sizes=(100,50,150))"
   ]
  },
  {
   "cell_type": "code",
   "execution_count": 61,
   "metadata": {},
   "outputs": [
    {
     "name": "stderr",
     "output_type": "stream",
     "text": [
      "C:\\Users\\aayse\\AppData\\Local\\Continuum\\anaconda3\\lib\\site-packages\\sklearn\\neural_network\\multilayer_perceptron.py:566: ConvergenceWarning: Stochastic Optimizer: Maximum iterations (200) reached and the optimization hasn't converged yet.\n",
      "  % self.max_iter, ConvergenceWarning)\n"
     ]
    },
    {
     "data": {
      "text/plain": [
       "MLPRegressor(activation='relu', alpha=0.02, batch_size='auto', beta_1=0.9,\n",
       "             beta_2=0.999, early_stopping=False, epsilon=1e-08,\n",
       "             hidden_layer_sizes=(100, 50, 150), learning_rate='constant',\n",
       "             learning_rate_init=0.001, max_iter=200, momentum=0.9,\n",
       "             n_iter_no_change=10, nesterovs_momentum=True, power_t=0.5,\n",
       "             random_state=None, shuffle=True, solver='adam', tol=0.0001,\n",
       "             validation_fraction=0.1, verbose=False, warm_start=False)"
      ]
     },
     "execution_count": 61,
     "metadata": {},
     "output_type": "execute_result"
    }
   ],
   "source": [
    "mlp_tuned.fit(X_train,y_train)"
   ]
  },
  {
   "cell_type": "code",
   "execution_count": 62,
   "metadata": {},
   "outputs": [],
   "source": [
    "y_pred=mlp_tuned.predict(X_test)"
   ]
  },
  {
   "cell_type": "code",
   "execution_count": 63,
   "metadata": {},
   "outputs": [
    {
     "data": {
      "text/plain": [
       "356.5388084630147"
      ]
     },
     "execution_count": 63,
     "metadata": {},
     "output_type": "execute_result"
    }
   ],
   "source": [
    "np.sqrt(mean_squared_error(y_test,y_pred))"
   ]
  },
  {
   "cell_type": "markdown",
   "metadata": {},
   "source": [
    "# CART - Classification and Regresyon Trees\n",
    "\n",
    "* Amaç :Veri seti içerisindeki karmasık yapıları basit karar yapılarına dönüştürmektir.Heterojen veri setleri belirlenmis  bir hedef degiskene göre homojen alt gruplara ayrılır.\n",
    "    "
   ]
  },
  {
   "cell_type": "code",
   "execution_count": 1,
   "metadata": {},
   "outputs": [],
   "source": [
    "# bagımlı degiskeni acıklaması bakımından degiskenlerin bagımlı degisken üzerindeki etkilerini bu yapılarla cok iyi görmüs oluruz.\n",
    "# genellenebilirlik kaygısı yoksa CART modelleri uygulanması ve basarılı olmasıyla etkilidir."
   ]
  },
  {
   "cell_type": "markdown",
   "metadata": {},
   "source": [
    "# CART - MODEL"
   ]
  },
  {
   "cell_type": "code",
   "execution_count": 77,
   "metadata": {},
   "outputs": [
    {
     "name": "stdout",
     "output_type": "stream",
     "text": [
      "X_train (197, 19)\n",
      "y_train (197,)\n",
      "X_test (66, 19)\n",
      "y_test (66,)\n",
      "training (263, 20)\n"
     ]
    }
   ],
   "source": [
    "hit=pd.read_csv(\"original.csv\")# American basketbol ligi \n",
    "df=hit.copy()\n",
    "df=df.dropna()\n",
    "dms= pd.get_dummies(df[['League','Division','NewLeague']])\n",
    "y=df[\"Salary\"]\n",
    "X_= df.drop([\"Salary\",\"League\",\"Division\",\"NewLeague\"],axis=1).astype(\"float64\")\n",
    "X=pd.concat([X_,dms[[\"League_N\",\"Division_W\",\"NewLeague_N\"]]],axis=1)\n",
    "# veri setini test ve train olarak ayırdık\n",
    "from sklearn.model_selection import train_test_split,cross_val_score,cross_val_predict\n",
    "X_train,X_test,y_train,y_test=train_test_split(X,y,test_size=0.25,\n",
    "                                              random_state=42)\n",
    "print(\"X_train\",X_train.shape)\n",
    "print(\"y_train\",y_train.shape)\n",
    "print(\"X_test\",X_test.shape)\n",
    "print(\"y_test\",y_test.shape)\n",
    "training= df.copy()# tüm veri seti\n",
    "print(\"training\",training.shape)"
   ]
  },
  {
   "cell_type": "code",
   "execution_count": 6,
   "metadata": {},
   "outputs": [],
   "source": [
    "X_train=pd.DataFrame(X_train[\"Hits\"])\n",
    "X_test=pd.DataFrame(X_test[\"Hits\"])"
   ]
  },
  {
   "cell_type": "code",
   "execution_count": 15,
   "metadata": {},
   "outputs": [],
   "source": [
    "cart_model=DecisionTreeRegressor(max_leaf_nodes=10)"
   ]
  },
  {
   "cell_type": "code",
   "execution_count": 16,
   "metadata": {},
   "outputs": [
    {
     "data": {
      "text/plain": [
       "DecisionTreeRegressor(criterion='mse', max_depth=None, max_features=None,\n",
       "                      max_leaf_nodes=10, min_impurity_decrease=0.0,\n",
       "                      min_impurity_split=None, min_samples_leaf=1,\n",
       "                      min_samples_split=2, min_weight_fraction_leaf=0.0,\n",
       "                      presort=False, random_state=None, splitter='best')"
      ]
     },
     "execution_count": 16,
     "metadata": {},
     "output_type": "execute_result"
    }
   ],
   "source": [
    "cart_model"
   ]
  },
  {
   "cell_type": "code",
   "execution_count": 17,
   "metadata": {},
   "outputs": [
    {
     "data": {
      "text/plain": [
       "DecisionTreeRegressor(criterion='mse', max_depth=None, max_features=None,\n",
       "                      max_leaf_nodes=10, min_impurity_decrease=0.0,\n",
       "                      min_impurity_split=None, min_samples_leaf=1,\n",
       "                      min_samples_split=2, min_weight_fraction_leaf=0.0,\n",
       "                      presort=False, random_state=None, splitter='best')"
      ]
     },
     "execution_count": 17,
     "metadata": {},
     "output_type": "execute_result"
    }
   ],
   "source": [
    "cart_model.fit(X_train,y_train)"
   ]
  },
  {
   "cell_type": "code",
   "execution_count": 18,
   "metadata": {},
   "outputs": [
    {
     "data": {
      "image/png": "[encoded data removed]",
      "text/plain": [
       "<Figure size 432x288 with 1 Axes>"
      ]
     },
     "metadata": {
      "needs_background": "light"
     },
     "output_type": "display_data"
    }
   ],
   "source": [
    "# Dallanmaları görmek istersek\n",
    "\n",
    "X_grid=np.arange(min(np.array(X_train)),max(np.array(X_train)),0.01)\n",
    "X_grid=X_grid.reshape((len(X_grid),1))\n",
    "plt.scatter(X_train,y_train,color='red')\n",
    "plt.plot(X_grid,cart_model.predict(X_grid),color='blue')\n",
    "plt.title('CART REGRESSION AGACI')\n",
    "plt.xlabel('Atıs Sayısı(Hits)')\n",
    "plt.ylabel('Maas(Salary)');"
   ]
  },
  {
   "cell_type": "code",
   "execution_count": 19,
   "metadata": {
    "collapsed": true,
    "jupyter": {
     "outputs_hidden": true
    }
   },
   "outputs": [
    {
     "name": "stdout",
     "output_type": "stream",
     "text": [
      "Collecting skompiler\n",
      "  Downloading SKompiler-0.5.5.tar.gz (48 kB)\n",
      "Requirement already satisfied: scikit-learn in c:\\users\\aayse\\appdata\\local\\continuum\\anaconda3\\lib\\site-packages (from skompiler) (0.21.3)\n",
      "Requirement already satisfied: joblib>=0.11 in c:\\users\\aayse\\appdata\\local\\continuum\\anaconda3\\lib\\site-packages (from scikit-learn->skompiler) (0.13.2)\n",
      "Requirement already satisfied: scipy>=0.17.0 in c:\\users\\aayse\\appdata\\local\\continuum\\anaconda3\\lib\\site-packages (from scikit-learn->skompiler) (1.4.1)\n",
      "Requirement already satisfied: numpy>=1.11.0 in c:\\users\\aayse\\appdata\\local\\continuum\\anaconda3\\lib\\site-packages (from scikit-learn->skompiler) (1.18.1)\n",
      "Building wheels for collected packages: skompiler\n",
      "  Building wheel for skompiler (setup.py): started\n",
      "  Building wheel for skompiler (setup.py): finished with status 'done'\n",
      "  Created wheel for skompiler: filename=SKompiler-0.5.5-py3-none-any.whl size=57151 sha256=d31425a42186d7a663ff45ce360a364cc04f521d7081258ed89c163b365c5afe\n",
      "  Stored in directory: c:\\users\\aayse\\appdata\\local\\pip\\cache\\wheels\\1f\\f6\\09\\b8aec43d39ab30463488d91526f29ba56155a6a6d61cf69986\n",
      "Successfully built skompiler\n",
      "Installing collected packages: skompiler\n",
      "Successfully installed skompiler-0.5.5\n"
     ]
    }
   ],
   "source": [
    "#!pip install skompiler"
   ]
  },
  {
   "cell_type": "code",
   "execution_count": 20,
   "metadata": {},
   "outputs": [],
   "source": [
    "from skompiler import skompile"
   ]
  },
  {
   "cell_type": "code",
   "execution_count": 23,
   "metadata": {},
   "outputs": [
    {
     "name": "stdout",
     "output_type": "stream",
     "text": [
      "(345.2011551724138 if x[0] <= 117.5 else ((((1300.0 if x[0] <= 118.5 else \n",
      "    641.0) if x[0] <= 122.5 else 1468.5236666666667) if x[0] <= 125.5 else \n",
      "    621.9679230769232) if x[0] <= 143.0 else (958.6111111111111 if x[0] <= \n",
      "    150.5 else 2460.0) if x[0] <= 151.5 else 499.1666666666667 if x[0] <= \n",
      "    157.5 else 892.5402413793104) if x[0] <= 225.5 else 1975.0)\n",
      "\n"
     ]
    }
   ],
   "source": [
    "# python kodu olarak bu karar agacının karar yapsının kodunu bize verdi\n",
    "print(skompile(cart_model.predict).to(\"python/code\"))# bir karar agacının karar modelini çıkarttık"
   ]
  },
  {
   "cell_type": "markdown",
   "metadata": {},
   "source": [
    "# CART- TAHMİN"
   ]
  },
  {
   "cell_type": "code",
   "execution_count": 24,
   "metadata": {},
   "outputs": [],
   "source": [
    "x=[91]# x degerini verdik"
   ]
  },
  {
   "cell_type": "code",
   "execution_count": 25,
   "metadata": {},
   "outputs": [
    {
     "data": {
      "text/plain": [
       "345.2011551724138"
      ]
     },
     "execution_count": 25,
     "metadata": {},
     "output_type": "execute_result"
    }
   ],
   "source": [
    "(345.2011551724138 if x[0] <= 117.5 else ((((1300.0 if x[0] <= 118.5 else \n",
    "    641.0) if x[0] <= 122.5 else 1468.5236666666667) if x[0] <= 125.5 else \n",
    "    621.9679230769232) if x[0] <= 143.0 else (958.6111111111111 if x[0] <= \n",
    "    150.5 else 2460.0) if x[0] <= 151.5 else 499.1666666666667 if x[0] <= \n",
    "    157.5 else 892.5402413793104) if x[0] <= 225.5 else 1975.0)\n",
    "# ve tahmin sonucunu ürettik"
   ]
  },
  {
   "cell_type": "code",
   "execution_count": 26,
   "metadata": {},
   "outputs": [
    {
     "data": {
      "text/plain": [
       "345.2011551724138"
      ]
     },
     "execution_count": 26,
     "metadata": {},
     "output_type": "execute_result"
    }
   ],
   "source": [
    "cart_model.predict(X_test)[5]"
   ]
  },
  {
   "cell_type": "code",
   "execution_count": 27,
   "metadata": {},
   "outputs": [
    {
     "data": {
      "text/plain": [
       "array([345.20115517])"
      ]
     },
     "execution_count": 27,
     "metadata": {},
     "output_type": "execute_result"
    }
   ],
   "source": [
    "cart_model.predict([[91]])"
   ]
  },
  {
   "cell_type": "code",
   "execution_count": 30,
   "metadata": {},
   "outputs": [],
   "source": [
    "y_pred=cart_model.predict(X_test)"
   ]
  },
  {
   "cell_type": "code",
   "execution_count": 31,
   "metadata": {},
   "outputs": [
    {
     "data": {
      "text/plain": [
       "486.34593105235456"
      ]
     },
     "execution_count": 31,
     "metadata": {},
     "output_type": "execute_result"
    }
   ],
   "source": [
    "np.sqrt(mean_squared_error(y_test,y_pred))"
   ]
  },
  {
   "cell_type": "markdown",
   "metadata": {},
   "source": [
    "# CART - MODEL TUNİNG"
   ]
  },
  {
   "cell_type": "code",
   "execution_count": 78,
   "metadata": {},
   "outputs": [],
   "source": [
    "cart_model=DecisionTreeRegressor()"
   ]
  },
  {
   "cell_type": "code",
   "execution_count": 79,
   "metadata": {},
   "outputs": [
    {
     "data": {
      "text/plain": [
       "524.2554537583406"
      ]
     },
     "execution_count": 79,
     "metadata": {},
     "output_type": "execute_result"
    }
   ],
   "source": [
    "cart_model.fit(X_train,y_train)\n",
    "y_pred=cart_model.predict(X_test)\n",
    "np.sqrt(mean_squared_error(y_test,y_pred))"
   ]
  },
  {
   "cell_type": "code",
   "execution_count": 80,
   "metadata": {},
   "outputs": [],
   "source": [
    "cart_params={\"min_samples_split\":range(2,100),\n",
    "       \"max_leaf_nodes\":range(2,10)}"
   ]
  },
  {
   "cell_type": "code",
   "execution_count": 81,
   "metadata": {},
   "outputs": [],
   "source": [
    "cart_cv_model=GridSearchCV(cart_model,cart_params,cv=10)"
   ]
  },
  {
   "cell_type": "code",
   "execution_count": 84,
   "metadata": {},
   "outputs": [
    {
     "name": "stderr",
     "output_type": "stream",
     "text": [
      "C:\\Users\\aayse\\AppData\\Local\\Continuum\\anaconda3\\lib\\site-packages\\sklearn\\model_selection\\_search.py:814: DeprecationWarning: The default of the `iid` parameter will change from True to False in version 0.22 and will be removed in 0.24. This will change numeric results when test-set sizes are unequal.\n",
      "  DeprecationWarning)\n"
     ]
    },
    {
     "data": {
      "text/plain": [
       "GridSearchCV(cv=10, error_score='raise-deprecating',\n",
       "             estimator=DecisionTreeRegressor(criterion='mse', max_depth=None,\n",
       "                                             max_features=None,\n",
       "                                             max_leaf_nodes=None,\n",
       "                                             min_impurity_decrease=0.0,\n",
       "                                             min_impurity_split=None,\n",
       "                                             min_samples_leaf=1,\n",
       "                                             min_samples_split=2,\n",
       "                                             min_weight_fraction_leaf=0.0,\n",
       "                                             presort=False, random_state=None,\n",
       "                                             splitter='best'),\n",
       "             iid='warn', n_jobs=None,\n",
       "             param_grid={'max_leaf_nodes': range(2, 10),\n",
       "                         'min_samples_split': range(2, 100)},\n",
       "             pre_dispatch='2*n_jobs', refit=True, return_train_score=False,\n",
       "             scoring=None, verbose=0)"
      ]
     },
     "execution_count": 84,
     "metadata": {},
     "output_type": "execute_result"
    }
   ],
   "source": [
    "cart_cv_model.fit(X_train,y_train)"
   ]
  },
  {
   "cell_type": "code",
   "execution_count": 85,
   "metadata": {},
   "outputs": [
    {
     "data": {
      "text/plain": [
       "{'max_leaf_nodes': 9, 'min_samples_split': 37}"
      ]
     },
     "execution_count": 85,
     "metadata": {},
     "output_type": "execute_result"
    }
   ],
   "source": [
    "cart_cv_model.best_params_"
   ]
  },
  {
   "cell_type": "code",
   "execution_count": 90,
   "metadata": {},
   "outputs": [],
   "source": [
    "cart_tuned=DecisionTreeRegressor(max_leaf_nodes=9,min_samples_split=37)"
   ]
  },
  {
   "cell_type": "code",
   "execution_count": 91,
   "metadata": {},
   "outputs": [
    {
     "data": {
      "text/plain": [
       "DecisionTreeRegressor(criterion='mse', max_depth=None, max_features=None,\n",
       "                      max_leaf_nodes=9, min_impurity_decrease=0.0,\n",
       "                      min_impurity_split=None, min_samples_leaf=1,\n",
       "                      min_samples_split=37, min_weight_fraction_leaf=0.0,\n",
       "                      presort=False, random_state=None, splitter='best')"
      ]
     },
     "execution_count": 91,
     "metadata": {},
     "output_type": "execute_result"
    }
   ],
   "source": [
    "cart_tuned.fit(X_train,y_train)"
   ]
  },
  {
   "cell_type": "code",
   "execution_count": 92,
   "metadata": {},
   "outputs": [],
   "source": [
    "y_pred=cart_tuned.predict(X_test)"
   ]
  },
  {
   "cell_type": "code",
   "execution_count": 93,
   "metadata": {},
   "outputs": [
    {
     "data": {
      "text/plain": [
       "376.39788207109865"
      ]
     },
     "execution_count": 93,
     "metadata": {},
     "output_type": "execute_result"
    }
   ],
   "source": [
    "np.sqrt(mean_squared_error(y_test,y_pred))"
   ]
  },
  {
   "cell_type": "markdown",
   "metadata": {},
   "source": [
    "# BAGGED TREES - TEORİ\n",
    "* Bagging:\n",
    "    - Temeli bootstrap yöntemi ile olusturulan birden fazla karar agacının ürettigi tahminlerinin bir araya getirilerek degerlendirilmesine dayanır"
   ]
  },
  {
   "cell_type": "code",
   "execution_count": 94,
   "metadata": {},
   "outputs": [],
   "source": [
    "# 1,2,3....................m\n",
    "\n",
    "# T adet agac icin n'er adet gözlem (n<m) boostrap yöntemi ile secilir.\n",
    "# T adet karar agacı modelinin ürettigi T adet tahmin degerini bir araya getir.\n",
    "# varyansı düsüren ve ezberlemeye karsı dayanıklı olan bir yöntemdir."
   ]
  },
  {
   "cell_type": "markdown",
   "metadata": {},
   "source": [
    "# Bagged Trees Regresyon - MODEL"
   ]
  },
  {
   "cell_type": "code",
   "execution_count": 95,
   "metadata": {},
   "outputs": [
    {
     "name": "stdout",
     "output_type": "stream",
     "text": [
      "X_train (197, 19)\n",
      "y_train (197,)\n",
      "X_test (66, 19)\n",
      "y_test (66,)\n",
      "training (263, 20)\n"
     ]
    }
   ],
   "source": [
    "hit=pd.read_csv(\"original.csv\")# American basketbol ligi \n",
    "df=hit.copy()\n",
    "df=df.dropna()\n",
    "dms= pd.get_dummies(df[['League','Division','NewLeague']])\n",
    "y=df[\"Salary\"]\n",
    "X_= df.drop([\"Salary\",\"League\",\"Division\",\"NewLeague\"],axis=1).astype(\"float64\")\n",
    "X=pd.concat([X_,dms[[\"League_N\",\"Division_W\",\"NewLeague_N\"]]],axis=1)\n",
    "# veri setini test ve train olarak ayırdık\n",
    "from sklearn.model_selection import train_test_split,cross_val_score,cross_val_predict\n",
    "X_train,X_test,y_train,y_test=train_test_split(X,y,test_size=0.25,\n",
    "                                              random_state=42)\n",
    "print(\"X_train\",X_train.shape)\n",
    "print(\"y_train\",y_train.shape)\n",
    "print(\"X_test\",X_test.shape)\n",
    "print(\"y_test\",y_test.shape)\n",
    "training= df.copy()# tüm veri seti\n",
    "print(\"training\",training.shape)"
   ]
  },
  {
   "cell_type": "code",
   "execution_count": 97,
   "metadata": {},
   "outputs": [
    {
     "data": {
      "text/plain": [
       "BaggingRegressor(base_estimator=None, bootstrap=True, bootstrap_features=True,\n",
       "                 max_features=1.0, max_samples=1.0, n_estimators=10,\n",
       "                 n_jobs=None, oob_score=False, random_state=None, verbose=0,\n",
       "                 warm_start=False)"
      ]
     },
     "execution_count": 97,
     "metadata": {},
     "output_type": "execute_result"
    }
   ],
   "source": [
    "# boostrap örneklerini gözlemlemek icin boostrap_features ı True yaptık.\n",
    "bag_model=BaggingRegressor(bootstrap_features=True)\n",
    "bag_model.fit(X_train,y_train)"
   ]
  },
  {
   "cell_type": "code",
   "execution_count": 98,
   "metadata": {},
   "outputs": [],
   "source": [
    "# n_estimators =10 demek 10 tane agac olusturulacak demektir."
   ]
  },
  {
   "cell_type": "code",
   "execution_count": 99,
   "metadata": {},
   "outputs": [
    {
     "data": {
      "text/plain": [
       "10"
      ]
     },
     "execution_count": 99,
     "metadata": {},
     "output_type": "execute_result"
    }
   ],
   "source": [
    "bag_model.n_estimators"
   ]
  },
  {
   "cell_type": "code",
   "execution_count": 101,
   "metadata": {
    "collapsed": true,
    "jupyter": {
     "outputs_hidden": true
    }
   },
   "outputs": [
    {
     "data": {
      "text/plain": [
       "[DecisionTreeRegressor(criterion='mse', max_depth=None, max_features=None,\n",
       "                       max_leaf_nodes=None, min_impurity_decrease=0.0,\n",
       "                       min_impurity_split=None, min_samples_leaf=1,\n",
       "                       min_samples_split=2, min_weight_fraction_leaf=0.0,\n",
       "                       presort=False, random_state=1898307916, splitter='best'),\n",
       " DecisionTreeRegressor(criterion='mse', max_depth=None, max_features=None,\n",
       "                       max_leaf_nodes=None, min_impurity_decrease=0.0,\n",
       "                       min_impurity_split=None, min_samples_leaf=1,\n",
       "                       min_samples_split=2, min_weight_fraction_leaf=0.0,\n",
       "                       presort=False, random_state=674603258, splitter='best'),\n",
       " DecisionTreeRegressor(criterion='mse', max_depth=None, max_features=None,\n",
       "                       max_leaf_nodes=None, min_impurity_decrease=0.0,\n",
       "                       min_impurity_split=None, min_samples_leaf=1,\n",
       "                       min_samples_split=2, min_weight_fraction_leaf=0.0,\n",
       "                       presort=False, random_state=1251828475, splitter='best'),\n",
       " DecisionTreeRegressor(criterion='mse', max_depth=None, max_features=None,\n",
       "                       max_leaf_nodes=None, min_impurity_decrease=0.0,\n",
       "                       min_impurity_split=None, min_samples_leaf=1,\n",
       "                       min_samples_split=2, min_weight_fraction_leaf=0.0,\n",
       "                       presort=False, random_state=1762032061, splitter='best'),\n",
       " DecisionTreeRegressor(criterion='mse', max_depth=None, max_features=None,\n",
       "                       max_leaf_nodes=None, min_impurity_decrease=0.0,\n",
       "                       min_impurity_split=None, min_samples_leaf=1,\n",
       "                       min_samples_split=2, min_weight_fraction_leaf=0.0,\n",
       "                       presort=False, random_state=1638449319, splitter='best'),\n",
       " DecisionTreeRegressor(criterion='mse', max_depth=None, max_features=None,\n",
       "                       max_leaf_nodes=None, min_impurity_decrease=0.0,\n",
       "                       min_impurity_split=None, min_samples_leaf=1,\n",
       "                       min_samples_split=2, min_weight_fraction_leaf=0.0,\n",
       "                       presort=False, random_state=756919467, splitter='best'),\n",
       " DecisionTreeRegressor(criterion='mse', max_depth=None, max_features=None,\n",
       "                       max_leaf_nodes=None, min_impurity_decrease=0.0,\n",
       "                       min_impurity_split=None, min_samples_leaf=1,\n",
       "                       min_samples_split=2, min_weight_fraction_leaf=0.0,\n",
       "                       presort=False, random_state=1967333979, splitter='best'),\n",
       " DecisionTreeRegressor(criterion='mse', max_depth=None, max_features=None,\n",
       "                       max_leaf_nodes=None, min_impurity_decrease=0.0,\n",
       "                       min_impurity_split=None, min_samples_leaf=1,\n",
       "                       min_samples_split=2, min_weight_fraction_leaf=0.0,\n",
       "                       presort=False, random_state=903913479, splitter='best'),\n",
       " DecisionTreeRegressor(criterion='mse', max_depth=None, max_features=None,\n",
       "                       max_leaf_nodes=None, min_impurity_decrease=0.0,\n",
       "                       min_impurity_split=None, min_samples_leaf=1,\n",
       "                       min_samples_split=2, min_weight_fraction_leaf=0.0,\n",
       "                       presort=False, random_state=1555713942, splitter='best'),\n",
       " DecisionTreeRegressor(criterion='mse', max_depth=None, max_features=None,\n",
       "                       max_leaf_nodes=None, min_impurity_decrease=0.0,\n",
       "                       min_impurity_split=None, min_samples_leaf=1,\n",
       "                       min_samples_split=2, min_weight_fraction_leaf=0.0,\n",
       "                       presort=False, random_state=445667809, splitter='best')]"
      ]
     },
     "execution_count": 101,
     "metadata": {},
     "output_type": "execute_result"
    }
   ],
   "source": [
    "bag_model.estimators_# her birisi birbirinden farklı agaclardır"
   ]
  },
  {
   "cell_type": "code",
   "execution_count": 104,
   "metadata": {
    "collapsed": true,
    "jupyter": {
     "outputs_hidden": true
    }
   },
   "outputs": [
    {
     "data": {
      "text/plain": [
       "[array([159, 188, 153,   8, 167,  92,  58, 159,  17, 180, 128, 121, 117,\n",
       "         97,  42, 170,  94,  35, 127,  79,  87,  27, 134, 188, 150, 164,\n",
       "        185,  60, 190, 172, 152,  25,  51, 145, 181,  85,  65, 142, 181,\n",
       "        161,  92, 126,  38, 150, 177, 111,  78,  13,  60,  79, 176, 160,\n",
       "        146,  24,  51, 163,  40,  82,  65, 116,  22,  87,  91, 126, 183,\n",
       "        109,  52,  96, 112,  65,  90,   5, 100, 109, 148,  67, 196,  25,\n",
       "        126,  83, 121, 146,  44,  13, 137, 196,  66, 116, 115, 124,  50,\n",
       "        153, 148,   6, 122, 185,  61, 137,   0, 166,  71,  28, 121,  55,\n",
       "        145,  46, 173,  98, 130,  85,   6, 141, 196, 104,  74,  68, 118,\n",
       "        175,   5,  13,  62,  87, 108,  50, 158,  32, 193, 183, 110, 129,\n",
       "         95, 164, 163,  91, 161, 192, 167, 125, 102, 141, 192, 162, 186,\n",
       "         84, 128,  86,  69,  81, 151, 117, 191, 187, 192, 155, 139,  63,\n",
       "        187, 191,  28, 159,   4,  80,  80, 113, 119,  82,  83,  58, 154,\n",
       "        135,  98, 140,  31,  21, 130,  40, 100,   0, 144,  30, 135, 161,\n",
       "         30,  66, 104,  94,  75,  68,  22, 119, 142, 101,  75, 160,  97,\n",
       "         48,  98]),\n",
       " array([166,  74, 116, 142,   7,  10,  63, 129, 148, 185, 168,  93, 164,\n",
       "        153, 141, 173, 107,  81, 164,  70, 151,  58, 192, 124,  52,  29,\n",
       "        118,  84,   8, 164,  58, 111, 172, 155,  63,  55, 149, 184,  13,\n",
       "        193,  96, 186, 142, 155,  55,  52,  77, 147,   2, 140, 144,  54,\n",
       "         81,  38, 123,  10,  31, 159,  33, 108,  36,  82,  83,   1, 113,\n",
       "          9, 148, 132, 194, 111, 124, 136, 162, 136, 118, 179,   1,  27,\n",
       "         72,  73,  32,  22,  49,  11, 138, 166, 103,  36, 158, 187, 154,\n",
       "        122,  77, 135, 124, 149,  97,  58, 184, 193, 174, 104,  22, 162,\n",
       "         46, 181, 107, 165, 143,  17,  94, 192, 186, 155, 173,  11,   9,\n",
       "        189,  99, 137, 164, 116, 161,  84, 100,   4, 164, 142,  59, 146,\n",
       "        121,  46, 192, 109, 138,  75, 190,  52,  56,  51, 124, 139,  84,\n",
       "         10, 167,  73, 185, 104, 176, 114,   6,  22,  90,  87,  85, 170,\n",
       "        132,  34, 188, 151,  87, 187, 178,  84, 100, 149,  67, 152,  24,\n",
       "        102, 151, 193, 167,  50,  34, 138, 112, 172,  26,  41,  25,  59,\n",
       "         58,  47, 156,  87,  46, 121, 163,  70,  67, 168,  55,  50, 190,\n",
       "        153,  34]),\n",
       " array([ 21,  42, 119,  44,  92, 165,  13, 110,  27, 177, 144,  69, 188,\n",
       "        133,   4,  84, 167,  97, 137, 122, 179,  23, 162, 147, 102, 119,\n",
       "        103, 106,  83, 146,   9,  75, 111, 157, 137, 174,  48, 116, 141,\n",
       "          2, 174,  44, 183, 184,  87, 156,  60,  89, 105, 155, 105, 129,\n",
       "         68,   5, 151,  29,  93, 174, 110, 115,  93,  92, 182, 125, 150,\n",
       "         60,  74,   6, 185, 159, 164,  31, 144, 177,   1,  98, 186, 180,\n",
       "        109, 117, 127,  89, 132,  56, 108, 159,  53, 108,  61,  25, 126,\n",
       "         83,  49,  17,  48, 127, 159, 123, 106,  64, 178,  16,  33, 176,\n",
       "        126,  28,  90,  97, 117, 128, 130,  84, 164,  26,  46,  50,  80,\n",
       "         97,  16, 189, 132,  46,  52,  24, 132,  24,  74,  27, 130,  31,\n",
       "        128, 127,  53,  99,  14, 123,  40,  36,  76, 141,  69, 186, 196,\n",
       "        190,  25,  35, 132, 119, 144, 110,  22, 126, 129, 178,  56,  14,\n",
       "         87,  47, 135, 109,  58,  47, 191,  96, 157, 170,  91, 135,   3,\n",
       "        150, 111, 103,  25,  97,  85,  30,  35,  88, 191,  13, 172, 168,\n",
       "        172,  49, 110, 164,  88, 112,  42, 141, 113, 171, 168, 131, 190,\n",
       "        113, 119]),\n",
       " array([ 34, 156,  34, 131, 106,  22, 114,  14, 188,  31, 149,  39,  32,\n",
       "        143, 124, 186, 171,  76, 175,   3, 105,  60,   9,  35, 165, 102,\n",
       "         59, 145,  58, 115, 166,  89, 139, 184, 148, 139, 170, 136, 127,\n",
       "        191, 193, 160, 161,  61,  72,  64,  55,  61, 179,  30, 153,  56,\n",
       "        129, 104, 196,  94,   6, 184,   8, 100,  99, 174, 132, 132,  77,\n",
       "         15, 180, 191,  11,  79, 171,  36,  38,  95,   1, 178,  45,  70,\n",
       "         45,  15,  17,   3, 157,  89, 133, 168, 137,   6,  91, 196,  46,\n",
       "        116, 150,  55, 168, 182, 189,  96, 130,  24, 134, 171, 129,  60,\n",
       "        122, 170,  24,  96,  43, 135, 178,  27, 170,  12, 173, 118,   1,\n",
       "         22, 168,  92,  86,  89,   7, 157, 114,  18, 150,  24,  75,  45,\n",
       "         54,  25,  33, 185,   8,  47,  55, 154, 147,  31, 170, 166,  39,\n",
       "         75,   4,  39, 159, 133, 150,   2,  89, 124, 160,  71,  30,  79,\n",
       "          3, 117,  77,  66, 118,  16,  88, 134,  55, 125,  90,  81, 114,\n",
       "         58,  16,  80,  55, 118,  36, 190,  54, 103,   2, 136,  92, 111,\n",
       "        132, 169, 100,   2, 116,  11, 116,   5, 164,  56,  63, 146, 188,\n",
       "         98, 140]),\n",
       " array([102, 154,  91, 113,  26,  54, 147, 191, 170,  45,  39, 196,  18,\n",
       "        132, 168,   7, 125, 181,   2,  98, 138,   2, 149, 190,  75, 168,\n",
       "        160, 159,  59, 117, 128,  99,  25,  15, 125,  43, 163, 140, 176,\n",
       "         69,  99,  98,  16,  18,  81,  88,  48, 131, 124, 104,   4, 143,\n",
       "         97,  70,   2, 148,  38, 100, 107,  52, 174, 165,  40,  71, 104,\n",
       "        130,  10,  58, 112,  98, 138, 130, 189,  17, 108, 171, 179, 115,\n",
       "        120,  75, 145, 114,  17,   6,  88,  60,  58, 135,  11,  92,  64,\n",
       "        103,  94,  27,  62, 116,  47, 118, 195, 133, 146,  14,  48,  37,\n",
       "         92, 101,  36,  42,  29,  37, 128,  26, 138,   5,  31,  81, 168,\n",
       "         19,  60, 161, 150, 137, 188,  94, 121,  81,  47,  29,  15, 182,\n",
       "        133,  22,  14, 143,  81,  71, 110,  76, 120,  89,  38,  11,  80,\n",
       "        129, 160,  29,  39,  76,  75,  62,  95, 170, 112, 195,  14,  18,\n",
       "         18, 137,  20,  54, 194, 151, 121, 130,  18,  28, 105,  17, 170,\n",
       "         73, 136,  43, 163,  66,   5, 106,  29, 187, 183, 184, 122, 181,\n",
       "         82, 161,  36,  20,  35,  14, 152, 167,  75,  30, 128,  99, 185,\n",
       "          0, 142]),\n",
       " array([134, 138, 108, 174,  30, 180, 128,  88, 110, 194, 140,  51,  43,\n",
       "        141,  99, 115, 161, 101,  75,  36, 106,  16, 104, 124, 134,  12,\n",
       "        152, 155,  68,  17, 188, 156, 116, 150,  31, 135,  13,  20,  97,\n",
       "        165,  87,  87, 131, 147, 162,  53, 174,  66,  79,  76, 158,  52,\n",
       "         70, 175,  34,   4, 102,  77,  89, 160,  72,  87, 106,  17, 146,\n",
       "        104,  62,  73,  11, 136, 151, 112,  35,  84, 169,  24, 189, 113,\n",
       "         57, 127,  43, 172,  52,  32, 187, 138, 186,  84, 196,  54,  63,\n",
       "         95,  92, 121, 151,  30, 143, 103,  79, 113, 149, 168, 169,  98,\n",
       "         14, 132, 105,  81, 173,  72, 180, 178, 122,   4, 182,  21, 147,\n",
       "         79,  47, 131,  77,  67,  61, 195, 109, 144, 101, 179,  68,  10,\n",
       "         42,  83,  72,  92,  14, 176, 175, 131,  57,  90, 167,  23,  87,\n",
       "        127,  44,  86,   7, 111,  51,  47,  36,  27,  85,  37, 164,  39,\n",
       "        104,  97, 115, 130, 110,  57, 105,   5, 188,  95,  39,  31,  94,\n",
       "         32, 159,  90,  64, 186, 135, 175,  34, 179, 125, 174, 136, 166,\n",
       "        175,  20,  75,  93,  75,  14,  67, 142, 147, 186, 183,  80, 155,\n",
       "         51, 172]),\n",
       " array([100, 110,  37,  62, 159, 111,   8,  74, 173, 131,  84, 189, 160,\n",
       "        159,   4, 119, 147,  36, 172, 113,  41,  61, 167,   5, 111,  90,\n",
       "        106,  74,  50,  86, 179,  94, 188, 115, 115,  58,  39,  28,  76,\n",
       "        149,  92, 194,  82,   6, 176,  55,  73,  46, 147, 145, 133, 167,\n",
       "         81, 184, 132,  25,  58,  52, 187, 174, 116, 132, 136,  11, 192,\n",
       "        138, 126, 136, 146, 137,  78, 155,  60, 183, 122,  82,  56,  99,\n",
       "         18, 160,  20,  81,  36, 128,  71,  22,  24, 113, 142, 100,  50,\n",
       "        157, 135,  89,  38,  29,  90, 182, 169, 112,  80,  45,  66,  15,\n",
       "         45, 135,  13,   4, 116,  39, 117, 172, 119,  90, 172, 103, 157,\n",
       "        143,  34,  57,  61, 176,  57,  17, 189,  80, 105, 104, 136,  95,\n",
       "        125, 195,   3,  55,  94, 125,  77, 187, 133, 127,  24, 109,  70,\n",
       "         40,  38, 169, 116, 126,  87,   0,  64,  10, 117, 135,   1,  13,\n",
       "         14,  69, 125, 165,  95, 153,  11, 167, 181, 134,   5,  32, 184,\n",
       "        145, 128, 177, 158,   2, 138, 173, 141,  58,  34, 182,  30, 117,\n",
       "        180,  93, 150,  65, 134,  52, 101, 100,  74,   5, 112, 169,  22,\n",
       "         50,   9]),\n",
       " array([164, 163, 159,  12,  82, 106, 104,  48, 170, 117, 171,  28,  24,\n",
       "        150,  68, 124, 171,  91,  82, 118, 142,  42, 105,  56, 119, 192,\n",
       "        193,  94,  80, 173, 150, 141,  18,  10, 169,  95,  45,  64, 152,\n",
       "         29, 124,  57, 170,  56,  18, 146,  29, 185, 166,  60, 101, 124,\n",
       "         17, 146, 173,  45, 158,  95, 151, 110, 132, 107,   6, 132, 121,\n",
       "        161, 137, 147, 123,  98, 158, 135, 143, 190, 178,  68,  18, 164,\n",
       "        181, 142, 124,  77,  49, 191,  13,  85,  27, 178, 162,  29,  79,\n",
       "         54,  27,  43,  48, 126,  52, 182, 168,  88, 155,  63,  92, 153,\n",
       "         35,  18,  62, 159,  71, 139, 168,  83,  84,   3,  79, 169,  11,\n",
       "        160,  48, 182,   3,  40,  50,  16, 149,  95,   4, 128, 180,  19,\n",
       "        116, 111,  96, 164,  61,  32, 117, 131,  91, 140,  11, 171,  97,\n",
       "         62, 167, 172, 185, 194, 115, 132,  85, 192, 120, 128,  38,  84,\n",
       "        140,  17, 117,  26, 111, 120, 113,  90,   1,   2, 156,  72, 191,\n",
       "        103, 103, 170,  75, 130,  27,  36,  21, 117, 181,   1,  68, 172,\n",
       "          7, 173,  26, 117,  10, 110,  12, 158,  81, 164, 114,   0, 103,\n",
       "         62, 176]),\n",
       " array([ 11,  79, 161,  99, 177, 183,  78,  73, 132,   4,  24,   0, 160,\n",
       "          2,  26, 186,  15,  24, 118,  35,   2, 170, 153, 186, 107, 152,\n",
       "        159, 179,  38, 171, 108, 168,  60, 161, 105, 145, 139,  94,  56,\n",
       "         10, 168, 146, 107, 133, 181,  71,   4,  13,   6,  12, 140,  96,\n",
       "        112, 160, 182,  51,  53,  73, 107,  66,  20, 138, 142,  48, 193,\n",
       "         51,  36, 186,  30, 167,  25,  63,  35, 107,  83, 130, 160, 173,\n",
       "        156,  88, 131,  38, 170,  89, 114,  71,  91,  47, 107, 154,   9,\n",
       "         53, 180, 111, 183, 112,  68, 127, 190,   8, 143, 110,  73,  97,\n",
       "         46, 188,  32,  26, 195,  50,  54, 125, 149, 168,  91, 144,  73,\n",
       "          2,  25,  78, 190, 121,  67,  10, 170,   5, 167,  68,  32,  49,\n",
       "        150, 135, 161,   4, 164,  50,   6,  39,  72,  51,  76,  44, 194,\n",
       "         95,  67,  72,  33,  80,  29, 127, 117, 193,  74, 100,  44,  36,\n",
       "        146, 161,  24,  63, 131, 161,  39, 167, 142,  85,  84, 143,  54,\n",
       "        177,  85, 145, 174, 110, 130,  56, 169,  66,  94, 131, 181,  29,\n",
       "         58, 105, 152, 194,  16, 170,  95, 139, 190,   1,  36, 105,  86,\n",
       "        131,  70]),\n",
       " array([136,  65, 183,  35, 108, 149, 154, 133,  31, 173,  75, 192,  35,\n",
       "        109,  24, 156, 168,  14, 176, 143, 195, 172, 174,  55,  94,  24,\n",
       "         41,  32, 113,  56, 193,  28, 175,  84,  88, 173, 161, 181, 103,\n",
       "        157,  16,  32, 117,   0,  41,  67, 167, 120, 171, 125,  26,  81,\n",
       "         17, 106, 188,  23, 129,  20,  16,  15,  80, 129,  30, 169,  62,\n",
       "         56, 124,   1, 177,  58,  61,  56,  56, 150, 180,   4,   3, 101,\n",
       "        106,  61,  34, 121,  60,  90,  49, 139,   1, 126, 162,  96, 166,\n",
       "        194, 170, 187,  44, 100, 102,  15, 188,  37, 166,  29, 191, 103,\n",
       "         99, 140,  74, 137, 189, 126,  78,  30,  48,   7, 127,  28,  63,\n",
       "        116,  42,  85,  52,  58,  68, 125, 161,  29,  24, 123, 129,  77,\n",
       "          8,  37, 183, 157, 157,  51,  76, 110, 195, 190,  56,  29,  30,\n",
       "        119, 161,  98,  54,  86,  74,  38,  45,  16, 138,  50, 194,  25,\n",
       "         30, 108,  26, 187, 168,  53,  49,  94, 153, 141,   3, 100,  44,\n",
       "        127,  58, 138, 184, 115,  72, 175,  93, 131, 137, 175,  57,  31,\n",
       "        123,  75,  65, 187,   5,  20,  96,  95,  45,  19,  74, 133, 185,\n",
       "        186,  46])]"
      ]
     },
     "execution_count": 104,
     "metadata": {},
     "output_type": "execute_result"
    }
   ],
   "source": [
    "bag_model.estimators_samples_# her bir agactaki örnekleri alıyoruz"
   ]
  },
  {
   "cell_type": "code",
   "execution_count": 105,
   "metadata": {
    "collapsed": true,
    "jupyter": {
     "outputs_hidden": true
    }
   },
   "outputs": [
    {
     "data": {
      "text/plain": [
       "[array([ 1, 13, 10,  0, 18,  0,  6, 10,  9,  6, 16,  1,  7,  3, 11, 14, 13,\n",
       "        17,  8]),\n",
       " array([ 6, 11, 18,  0,  8, 11,  4,  7, 12,  3, 17,  8, 15, 15, 18, 11,  8,\n",
       "         3,  7]),\n",
       " array([10,  3, 13, 13, 18, 11,  1, 16,  1,  8, 14, 15, 14,  8,  1,  7,  3,\n",
       "        18,  1]),\n",
       " array([ 4,  7,  1,  8, 13, 15,  7, 11, 18, 11, 12,  0,  0, 10, 12, 12,  1,\n",
       "         3, 16]),\n",
       " array([ 4, 12, 11,  5, 15,  2,  3, 12,  3, 10,  5, 16, 16,  1, 13,  0,  4,\n",
       "        16,  6]),\n",
       " array([17,  7, 14, 14, 16, 13,  3, 10,  5, 11,  7,  2,  7,  2, 13,  9,  2,\n",
       "         0,  6]),\n",
       " array([ 7, 13, 18,  3,  7, 17, 12,  3,  9, 12,  8, 11, 14, 10,  5,  7,  9,\n",
       "        13,  0]),\n",
       " array([11, 10, 16,  3, 15,  4, 12,  1, 12, 12, 16,  7,  6,  9,  2, 18,  9,\n",
       "        13,  4]),\n",
       " array([ 2, 16, 11, 14,  4, 14,  4,  1,  4, 13, 15, 12, 16, 16, 12, 14,  8,\n",
       "        17, 10]),\n",
       " array([13, 17,  9,  9, 16,  7,  6,  4, 18, 17,  6, 10, 12, 12,  8,  2, 12,\n",
       "         9,  8])]"
      ]
     },
     "execution_count": 105,
     "metadata": {},
     "output_type": "execute_result"
    }
   ],
   "source": [
    "# her bir agacın bagımsız degiskenlerine ulasmak istersek\n",
    "bag_model.estimators_features_"
   ]
  },
  {
   "cell_type": "code",
   "execution_count": 106,
   "metadata": {},
   "outputs": [
    {
     "data": {
      "text/plain": [
       "DecisionTreeRegressor(criterion='mse', max_depth=None, max_features=None,\n",
       "                      max_leaf_nodes=None, min_impurity_decrease=0.0,\n",
       "                      min_impurity_split=None, min_samples_leaf=1,\n",
       "                      min_samples_split=2, min_weight_fraction_leaf=0.0,\n",
       "                      presort=False, random_state=1898307916, splitter='best')"
      ]
     },
     "execution_count": 106,
     "metadata": {},
     "output_type": "execute_result"
    }
   ],
   "source": [
    "# her bir modele özel degerlere erismek isteyelim\n",
    "bag_model.estimators_[0] # sadece 1. modelin özelliklerine erisildi"
   ]
  },
  {
   "cell_type": "code",
   "execution_count": 107,
   "metadata": {},
   "outputs": [],
   "source": [
    "# Sonuc olarak bagging  veri setinin icerisinden birden fazla agacı aynı anda olusturark bir tahmin yaklasımı yapar.\n"
   ]
  },
  {
   "cell_type": "markdown",
   "metadata": {},
   "source": [
    "# Bagged Trees- TAHMİN"
   ]
  },
  {
   "cell_type": "code",
   "execution_count": 108,
   "metadata": {},
   "outputs": [],
   "source": [
    "y_pred=bag_model.predict(X_test)"
   ]
  },
  {
   "cell_type": "code",
   "execution_count": 109,
   "metadata": {},
   "outputs": [
    {
     "data": {
      "text/plain": [
       "401.67727493821906"
      ]
     },
     "execution_count": 109,
     "metadata": {},
     "output_type": "execute_result"
    }
   ],
   "source": [
    "np.sqrt(mean_squared_error(y_test,y_pred))# bu elde ettigimiz tahmin\n",
    "# her bir olusturulan tahminlerin biraraya gelerek olusturdugu tahmindir."
   ]
  },
  {
   "cell_type": "code",
   "execution_count": 110,
   "metadata": {},
   "outputs": [],
   "source": [
    "# 1.agaca gidip onunla tahmin işlmei gerceklestirdik\n",
    "# sadece agacın tahmin basarısını görmek istedik\n",
    "iki_y_pred=bag_model.estimators_[1].fit(X_train,y_train).predict(X_test)"
   ]
  },
  {
   "cell_type": "code",
   "execution_count": 111,
   "metadata": {},
   "outputs": [
    {
     "data": {
      "text/plain": [
       "504.8102615395575"
      ]
     },
     "execution_count": 111,
     "metadata": {},
     "output_type": "execute_result"
    }
   ],
   "source": [
    "np.sqrt(mean_squared_error(y_test,iki_y_pred))"
   ]
  },
  {
   "cell_type": "code",
   "execution_count": 112,
   "metadata": {},
   "outputs": [
    {
     "data": {
      "text/plain": [
       "449.79070608474353"
      ]
     },
     "execution_count": 112,
     "metadata": {},
     "output_type": "execute_result"
    }
   ],
   "source": [
    "# agacların her birisine ayrı ayrı erisip tahmin hatalarını gözlemleyebilirz.\n",
    "yedi_y_pred=bag_model.estimators_[6].fit(X_train,y_train).predict(X_test)\n",
    "np.sqrt(mean_squared_error(y_test,yedi_y_pred))"
   ]
  },
  {
   "cell_type": "markdown",
   "metadata": {},
   "source": [
    "# Bagging - MODEL TUNİNG"
   ]
  },
  {
   "cell_type": "code",
   "execution_count": 113,
   "metadata": {},
   "outputs": [
    {
     "data": {
      "text/plain": [
       "BaggingRegressor(base_estimator=None, bootstrap=True, bootstrap_features=True,\n",
       "                 max_features=1.0, max_samples=1.0, n_estimators=10,\n",
       "                 n_jobs=None, oob_score=False, random_state=None, verbose=0,\n",
       "                 warm_start=False)"
      ]
     },
     "execution_count": 113,
     "metadata": {},
     "output_type": "execute_result"
    }
   ],
   "source": [
    "bag_model=BaggingRegressor(bootstrap_features=True)\n",
    "bag_model.fit(X_train,y_train)"
   ]
  },
  {
   "cell_type": "code",
   "execution_count": 114,
   "metadata": {},
   "outputs": [],
   "source": [
    "bag_params={\"n_estimators\":range(2,20),\n",
    "           }"
   ]
  },
  {
   "cell_type": "code",
   "execution_count": 115,
   "metadata": {},
   "outputs": [],
   "source": [
    "bag_cv_model=GridSearchCV(bag_model,bag_params,cv=10)"
   ]
  },
  {
   "cell_type": "code",
   "execution_count": 116,
   "metadata": {},
   "outputs": [
    {
     "name": "stderr",
     "output_type": "stream",
     "text": [
      "C:\\Users\\aayse\\AppData\\Local\\Continuum\\anaconda3\\lib\\site-packages\\sklearn\\model_selection\\_search.py:814: DeprecationWarning: The default of the `iid` parameter will change from True to False in version 0.22 and will be removed in 0.24. This will change numeric results when test-set sizes are unequal.\n",
      "  DeprecationWarning)\n"
     ]
    },
    {
     "data": {
      "text/plain": [
       "GridSearchCV(cv=10, error_score='raise-deprecating',\n",
       "             estimator=BaggingRegressor(base_estimator=None, bootstrap=True,\n",
       "                                        bootstrap_features=True,\n",
       "                                        max_features=1.0, max_samples=1.0,\n",
       "                                        n_estimators=10, n_jobs=None,\n",
       "                                        oob_score=False, random_state=None,\n",
       "                                        verbose=0, warm_start=False),\n",
       "             iid='warn', n_jobs=None, param_grid={'n_estimators': range(2, 20)},\n",
       "             pre_dispatch='2*n_jobs', refit=True, return_train_score=False,\n",
       "             scoring=None, verbose=0)"
      ]
     },
     "execution_count": 116,
     "metadata": {},
     "output_type": "execute_result"
    }
   ],
   "source": [
    "bag_cv_model.fit(X_train,y_train)"
   ]
  },
  {
   "cell_type": "code",
   "execution_count": 117,
   "metadata": {},
   "outputs": [
    {
     "data": {
      "text/plain": [
       "{'n_estimators': 6}"
      ]
     },
     "execution_count": 117,
     "metadata": {},
     "output_type": "execute_result"
    }
   ],
   "source": [
    "bag_cv_model.best_params_"
   ]
  },
  {
   "cell_type": "code",
   "execution_count": 121,
   "metadata": {},
   "outputs": [
    {
     "data": {
      "text/plain": [
       "BaggingRegressor(base_estimator=None, bootstrap=True, bootstrap_features=False,\n",
       "                 max_features=1.0, max_samples=1.0, n_estimators=6, n_jobs=None,\n",
       "                 oob_score=False, random_state=45, verbose=0, warm_start=False)"
      ]
     },
     "execution_count": 121,
     "metadata": {},
     "output_type": "execute_result"
    }
   ],
   "source": [
    "bag_tuned=BaggingRegressor(n_estimators=6,random_state=45)\n",
    "bag_tuned.fit(X_train,y_train)"
   ]
  },
  {
   "cell_type": "code",
   "execution_count": 122,
   "metadata": {},
   "outputs": [],
   "source": [
    "y_pred=bag_tuned.predict(X_test)"
   ]
  },
  {
   "cell_type": "code",
   "execution_count": 124,
   "metadata": {},
   "outputs": [
    {
     "data": {
      "text/plain": [
       "359.9759709118334"
      ]
     },
     "execution_count": 124,
     "metadata": {},
     "output_type": "execute_result"
    }
   ],
   "source": [
    "np.sqrt(mean_squared_error(y_test,y_pred))"
   ]
  },
  {
   "cell_type": "markdown",
   "metadata": {},
   "source": [
    "# Random Forests -TEORİ\n",
    "* Temeli birden çok karar agacının ürettigi tahminleri bir araya getirilerek degerlendirilmesine dayanır\n",
    "    - Bagging ile Random Subspace(rastgele alt küme secme islemi) yöntemlerinin birlesimi ile olusturulmustur.\n",
    "    - Agaclar icin gözlemler bootstrap rastgele örnek secim yöntemi ile degiskenler random subspace yöntemi ile secilir\n",
    "    - Karar agacının her bir dügümünden en iyi dallara ayırıcı(bilgi kazancı) degisken tüm degiskenler arasından rastgele secilen daha az sayıdaki degisken arasından secilir.\n",
    "    - Agac olusturmada veri setinin 2/3 ü kullanılır.Dısarda kalan veri agacların performans degerlendirmesi ve degisken önemlerinin belirlenmesi icin kullanılır.\n",
    "    - Her düğüm noktasında rastgele degisken secimi yapılır.(regresyonda p/3,sınıflandırmada karakök p)\n",
    "    - Nihai tahmin için agaclardan tahmin degerleri talep edilirken her bir agacoın daha önce hesaplanan hata oranları göz önüne alınarak agaclara agırlık verilir."
   ]
  },
  {
   "cell_type": "code",
   "execution_count": 125,
   "metadata": {},
   "outputs": [],
   "source": [
    "# Her bir agac olusturulduktan sonra isabetli tahmin yapanlara daha fazla söz hakkı tanır.\n",
    "#İsabetsiz tahmin yapanlara daha az ağırlık verir."
   ]
  },
  {
   "cell_type": "markdown",
   "metadata": {},
   "source": [
    "# Random Forest - MODEL"
   ]
  },
  {
   "cell_type": "code",
   "execution_count": 127,
   "metadata": {},
   "outputs": [],
   "source": [
    "hit=pd.read_csv(\"original.csv\")# American basketbol ligi \n",
    "df=hit.copy()\n",
    "df=df.dropna()\n",
    "dms= pd.get_dummies(df[['League','Division','NewLeague']])\n",
    "y=df[\"Salary\"]\n",
    "X_= df.drop([\"Salary\",\"League\",\"Division\",\"NewLeague\"],axis=1).astype(\"float64\")\n",
    "X=pd.concat([X_,dms[[\"League_N\",\"Division_W\",\"NewLeague_N\"]]],axis=1)\n",
    "# veri setini test ve train olarak ayırdık\n",
    "from sklearn.model_selection import train_test_split,cross_val_score,cross_val_predict\n",
    "X_train,X_test,y_train,y_test=train_test_split(X,y,test_size=0.25,\n",
    "                                              random_state=42)"
   ]
  },
  {
   "cell_type": "code",
   "execution_count": 128,
   "metadata": {},
   "outputs": [],
   "source": [
    "from sklearn.ensemble import RandomForestRegressor"
   ]
  },
  {
   "cell_type": "code",
   "execution_count": 129,
   "metadata": {},
   "outputs": [],
   "source": [
    "rf_model=RandomForestRegressor(random_state=42)"
   ]
  },
  {
   "cell_type": "code",
   "execution_count": 130,
   "metadata": {},
   "outputs": [
    {
     "name": "stderr",
     "output_type": "stream",
     "text": [
      "C:\\Users\\aayse\\AppData\\Local\\Continuum\\anaconda3\\lib\\site-packages\\sklearn\\ensemble\\forest.py:245: FutureWarning: The default value of n_estimators will change from 10 in version 0.20 to 100 in 0.22.\n",
      "  \"10 in version 0.20 to 100 in 0.22.\", FutureWarning)\n"
     ]
    },
    {
     "data": {
      "text/plain": [
       "RandomForestRegressor(bootstrap=True, criterion='mse', max_depth=None,\n",
       "                      max_features='auto', max_leaf_nodes=None,\n",
       "                      min_impurity_decrease=0.0, min_impurity_split=None,\n",
       "                      min_samples_leaf=1, min_samples_split=2,\n",
       "                      min_weight_fraction_leaf=0.0, n_estimators=10,\n",
       "                      n_jobs=None, oob_score=False, random_state=42, verbose=0,\n",
       "                      warm_start=False)"
      ]
     },
     "execution_count": 130,
     "metadata": {},
     "output_type": "execute_result"
    }
   ],
   "source": [
    "rf_model.fit(X_train,y_train)"
   ]
  },
  {
   "cell_type": "code",
   "execution_count": 131,
   "metadata": {},
   "outputs": [],
   "source": [
    "# n_estimators=10 ön tanımlı degeriyle olusmus\n",
    "# tahmin yapılcak agac sayısıdır.\n",
    "#max_features: bölünme işlemlerinde göz önünde bulundurulacak olan max degisken sayısıdr.\n",
    "# min_sample_split: bir node bölünmeden önce bu nodedaki minimum gözlem sayısıdrı\n",
    "#min_samples_leaf:leaf node daki minimum gözlem sayısıdır."
   ]
  },
  {
   "cell_type": "code",
   "execution_count": 132,
   "metadata": {},
   "outputs": [],
   "source": [
    "# random forest da önemli olan iki paramtre vardır\n",
    "#birincisi: fit edilecek agac sayısı olan n_estimators\n",
    "#ikincisi: her bölünmede göze alınacak olan degisken sayıs(max_features)\n",
    "# ücüncü olarak da agacın derinlik sayısını söyleyebiliriz.(max_depth)"
   ]
  },
  {
   "cell_type": "markdown",
   "metadata": {},
   "source": [
    "# Random Forest - TAHMİN"
   ]
  },
  {
   "cell_type": "code",
   "execution_count": 133,
   "metadata": {},
   "outputs": [],
   "source": [
    "y_pred=rf_model.predict(X_test)"
   ]
  },
  {
   "cell_type": "code",
   "execution_count": 134,
   "metadata": {},
   "outputs": [
    {
     "data": {
      "text/plain": [
       "373.04044281427"
      ]
     },
     "execution_count": 134,
     "metadata": {},
     "output_type": "execute_result"
    }
   ],
   "source": [
    "np.sqrt(mean_squared_error(y_test,y_pred))"
   ]
  },
  {
   "cell_type": "markdown",
   "metadata": {},
   "source": [
    "# Random Forest - MODEL TUNİNG"
   ]
  },
  {
   "cell_type": "code",
   "execution_count": 139,
   "metadata": {},
   "outputs": [],
   "source": [
    "rf_params={\"max_depth\":list(range(1,10)),\n",
    "         \"max_features\":[3,5,10,15],\n",
    "         \"n_estimators\":[100,200,500,1000,2000]}#tahmin üretecek olan tahminci sayısı\n"
   ]
  },
  {
   "cell_type": "code",
   "execution_count": 140,
   "metadata": {},
   "outputs": [],
   "source": [
    "rf_model=RandomForestRegressor(random_state=42)"
   ]
  },
  {
   "cell_type": "code",
   "execution_count": 142,
   "metadata": {},
   "outputs": [],
   "source": [
    "rf_cv_model=GridSearchCV(rf_model,\n",
    "                         rf_params\n",
    "                         ,cv=10,\n",
    "                         n_jobs=-1)#islemcilerin tam performanslı kullanılmasını saglar"
   ]
  },
  {
   "cell_type": "code",
   "execution_count": 143,
   "metadata": {},
   "outputs": [
    {
     "name": "stderr",
     "output_type": "stream",
     "text": [
      "C:\\Users\\aayse\\AppData\\Local\\Continuum\\anaconda3\\lib\\site-packages\\sklearn\\model_selection\\_search.py:814: DeprecationWarning: The default of the `iid` parameter will change from True to False in version 0.22 and will be removed in 0.24. This will change numeric results when test-set sizes are unequal.\n",
      "  DeprecationWarning)\n"
     ]
    },
    {
     "data": {
      "text/plain": [
       "GridSearchCV(cv=10, error_score='raise-deprecating',\n",
       "             estimator=RandomForestRegressor(bootstrap=True, criterion='mse',\n",
       "                                             max_depth=None,\n",
       "                                             max_features='auto',\n",
       "                                             max_leaf_nodes=None,\n",
       "                                             min_impurity_decrease=0.0,\n",
       "                                             min_impurity_split=None,\n",
       "                                             min_samples_leaf=1,\n",
       "                                             min_samples_split=2,\n",
       "                                             min_weight_fraction_leaf=0.0,\n",
       "                                             n_estimators='warn', n_jobs=None,\n",
       "                                             oob_score=False, random_state=42,\n",
       "                                             verbose=0, warm_start=False),\n",
       "             iid='warn', n_jobs=-1,\n",
       "             param_grid={'max_depth': [1, 2, 3, 4, 5, 6, 7, 8, 9],\n",
       "                         'max_features': [3, 5, 10, 15],\n",
       "                         'n_estimators': [100, 200, 500, 1000, 2000]},\n",
       "             pre_dispatch='2*n_jobs', refit=True, return_train_score=False,\n",
       "             scoring=None, verbose=0)"
      ]
     },
     "execution_count": 143,
     "metadata": {},
     "output_type": "execute_result"
    }
   ],
   "source": [
    "rf_cv_model.fit(X_train,y_train)"
   ]
  },
  {
   "cell_type": "code",
   "execution_count": 144,
   "metadata": {},
   "outputs": [
    {
     "data": {
      "text/plain": [
       "{'max_depth': 8, 'max_features': 3, 'n_estimators': 200}"
      ]
     },
     "execution_count": 144,
     "metadata": {},
     "output_type": "execute_result"
    }
   ],
   "source": [
    "rf_cv_model.best_params_"
   ]
  },
  {
   "cell_type": "code",
   "execution_count": 145,
   "metadata": {},
   "outputs": [],
   "source": [
    "rf_tuned=RandomForestRegressor(max_depth= 8, max_features= 3,n_estimators=200)"
   ]
  },
  {
   "cell_type": "code",
   "execution_count": 146,
   "metadata": {},
   "outputs": [],
   "source": [
    "rf_tuned=rf_tuned.fit(X_train,y_train)"
   ]
  },
  {
   "cell_type": "code",
   "execution_count": 148,
   "metadata": {},
   "outputs": [],
   "source": [
    "y_pred=rf_tuned.predict(X_test)"
   ]
  },
  {
   "cell_type": "code",
   "execution_count": 149,
   "metadata": {},
   "outputs": [
    {
     "data": {
      "text/plain": [
       "346.8644837688298"
      ]
     },
     "execution_count": 149,
     "metadata": {},
     "output_type": "execute_result"
    }
   ],
   "source": [
    "np.sqrt(mean_squared_error(y_test,y_pred))"
   ]
  },
  {
   "cell_type": "code",
   "execution_count": 150,
   "metadata": {},
   "outputs": [
    {
     "data": {
      "text/plain": [
       "Text(0.5, 0, 'Degiskenlerin Önem Düzeyleri')"
      ]
     },
     "execution_count": 150,
     "metadata": {},
     "output_type": "execute_result"
    },
    {
     "data": {
      "image/png": "[encoded data removed]",
      "text/plain": [
       "<Figure size 432x288 with 1 Axes>"
      ]
     },
     "metadata": {
      "needs_background": "light"
     },
     "output_type": "display_data"
    }
   ],
   "source": [
    "# Degiskenlerin önem düzeylerine ihtiyacımız oldugunu düsünelim\n",
    "Importance=pd.DataFrame({\"Importance\":rf_tuned.feature_importances_*100},\n",
    "                       index=X_train.columns)\n",
    "Importance.sort_values(by=\"Importance\",\n",
    "                       axis=0,\n",
    "                       ascending=True).plot(kind=\"barh\",\n",
    "                                            color=\"r\")\n",
    "\n",
    "plt.xlabel(\"Degiskenlerin Önem Düzeyleri\")"
   ]
  },
  {
   "cell_type": "markdown",
   "metadata": {},
   "source": [
    "# Gradient Boosting Machines\n",
    "* AdaBoost'un sınıflandırma ve regresyon problemlerine kolayca uygulanabilen genellestirilmis versiyonudur.\n",
    "* Artıklar üzerine tek bir tahmnsel model formunda olan modeller serisi kurulur"
   ]
  },
  {
   "cell_type": "markdown",
   "metadata": {},
   "source": [
    "** Boosting Yöntemlerine Giriş\n",
    "* Zayıf öğrenicileri bir araya getirip güçlü bir öğrenici ortaya çıkarmak fikrine dayanır(1990)"
   ]
  },
  {
   "cell_type": "markdown",
   "metadata": {},
   "source": [
    "**  Adaptive Boosting (AdaBoost)\n",
    "* Zayıf sınıflandırıcıların bir araya gelerek güçlü bir sınıflandırıcı olusturması fikrini hayata geciren algoritmadır.(1996)"
   ]
  },
  {
   "cell_type": "markdown",
   "metadata": {},
   "source": [
    "     - Boosting yöntemlerinde agacların birbirine bagımlılıgı söz konusudur\n",
    "     - Bagging yöntemlerinde agaclar  bagımsızdır.\n"
   ]
  },
  {
   "cell_type": "markdown",
   "metadata": {},
   "source": [
    "* Boosting problemleri artıkların optimizasyonu problemi olarak görülmelidir"
   ]
  },
  {
   "cell_type": "markdown",
   "metadata": {},
   "source": [
    "* Gradient Boosting Machines\n",
    "    - Gradient boosting tek bir tahminsel model formunda olan modeller serisi olusturur.\n",
    "    - Seri içeirisindeki bir model serideki bir önceki modelin tahmin artıklarının/hatalarının (residuals) üzerine kurularak (fit) olusturulur.\n",
    "    - GBM diferansiyellenebilen herhangi bir kayıp fonksiyonu optimize edilebilen Gradient descent algoritmasını kullanmakta\n",
    "    - GB bir çok temel öğrenci tipi (base learner type) kulllanabilir (Trees,linear terms,splines,...)\n",
    "    - Cost fonksiyonları ve link fonksiyonları modeifiye edilebilirler\n",
    "    - Boosting +Gradient Descent "
   ]
  },
  {
   "cell_type": "markdown",
   "metadata": {},
   "source": [
    "# Gradient Boosting Machines - MODEL"
   ]
  },
  {
   "cell_type": "code",
   "execution_count": 6,
   "metadata": {},
   "outputs": [],
   "source": [
    "hit=pd.read_csv(\"original.csv\")# American basketbol ligi \n",
    "df=hit.copy()\n",
    "df=df.dropna()\n",
    "dms= pd.get_dummies(df[['League','Division','NewLeague']])\n",
    "y=df[\"Salary\"]\n",
    "X_= df.drop([\"Salary\",\"League\",\"Division\",\"NewLeague\"],axis=1).astype(\"float64\")\n",
    "X=pd.concat([X_,dms[[\"League_N\",\"Division_W\",\"NewLeague_N\"]]],axis=1)\n",
    "# veri setini test ve train olarak ayırdık\n",
    "from sklearn.model_selection import train_test_split,cross_val_score,cross_val_predict\n",
    "X_train,X_test,y_train,y_test=train_test_split(X,y,test_size=0.25,\n",
    "                                              random_state=42)"
   ]
  },
  {
   "cell_type": "code",
   "execution_count": 7,
   "metadata": {},
   "outputs": [],
   "source": [
    "from sklearn.ensemble import GradientBoostingRegressor"
   ]
  },
  {
   "cell_type": "code",
   "execution_count": 8,
   "metadata": {},
   "outputs": [],
   "source": [
    "gbm_model=GradientBoostingRegressor()"
   ]
  },
  {
   "cell_type": "code",
   "execution_count": 9,
   "metadata": {},
   "outputs": [
    {
     "data": {
      "text/plain": [
       "GradientBoostingRegressor(alpha=0.9, criterion='friedman_mse', init=None,\n",
       "                          learning_rate=0.1, loss='ls', max_depth=3,\n",
       "                          max_features=None, max_leaf_nodes=None,\n",
       "                          min_impurity_decrease=0.0, min_impurity_split=None,\n",
       "                          min_samples_leaf=1, min_samples_split=2,\n",
       "                          min_weight_fraction_leaf=0.0, n_estimators=100,\n",
       "                          n_iter_no_change=None, presort='auto',\n",
       "                          random_state=None, subsample=1.0, tol=0.0001,\n",
       "                          validation_fraction=0.1, verbose=0, warm_start=False)"
      ]
     },
     "execution_count": 9,
     "metadata": {},
     "output_type": "execute_result"
    }
   ],
   "source": [
    "gbm_model.fit(X_train,y_train)"
   ]
  },
  {
   "cell_type": "markdown",
   "metadata": {},
   "source": [
    "# Gradient Boosting Machine - TAHMİN"
   ]
  },
  {
   "cell_type": "code",
   "execution_count": 10,
   "metadata": {},
   "outputs": [],
   "source": [
    "y_pred=gbm_model.predict(X_test)"
   ]
  },
  {
   "cell_type": "code",
   "execution_count": 11,
   "metadata": {},
   "outputs": [
    {
     "data": {
      "text/plain": [
       "354.9923871127796"
      ]
     },
     "execution_count": 11,
     "metadata": {},
     "output_type": "execute_result"
    }
   ],
   "source": [
    "np.sqrt(mean_squared_error(y_test,y_pred))# ilkel test hatamız"
   ]
  },
  {
   "cell_type": "markdown",
   "metadata": {},
   "source": [
    "# Gradient Boosting Machine- MODEL TUNİNG "
   ]
  },
  {
   "cell_type": "code",
   "execution_count": 12,
   "metadata": {},
   "outputs": [],
   "source": [
    "gbm_params={'learning_rate':[0.001,0.01,0.1,0.2],\n",
    "           'max_depth':[3,5,8,50,100],\n",
    "           'n_estimators':[200,500,1000,2000],\n",
    "           'subsample':[1,0.5,0.75]}"
   ]
  },
  {
   "cell_type": "code",
   "execution_count": 13,
   "metadata": {},
   "outputs": [
    {
     "name": "stdout",
     "output_type": "stream",
     "text": [
      "Fitting 10 folds for each of 240 candidates, totalling 2400 fits\n"
     ]
    },
    {
     "name": "stderr",
     "output_type": "stream",
     "text": [
      "[Parallel(n_jobs=-1)]: Using backend LokyBackend with 4 concurrent workers.\n",
      "[Parallel(n_jobs=-1)]: Done  33 tasks      | elapsed:    7.8s\n",
      "[Parallel(n_jobs=-1)]: Done 154 tasks      | elapsed:   42.6s\n",
      "[Parallel(n_jobs=-1)]: Done 357 tasks      | elapsed:  2.3min\n",
      "[Parallel(n_jobs=-1)]: Done 640 tasks      | elapsed:  4.9min\n",
      "[Parallel(n_jobs=-1)]: Done 1005 tasks      | elapsed:  7.2min\n",
      "[Parallel(n_jobs=-1)]: Done 1450 tasks      | elapsed: 10.8min\n",
      "[Parallel(n_jobs=-1)]: Done 1977 tasks      | elapsed: 12.9min\n",
      "[Parallel(n_jobs=-1)]: Done 2400 out of 2400 | elapsed: 14.6min finished\n",
      "C:\\Users\\aayse\\AppData\\Local\\Continuum\\anaconda3\\lib\\site-packages\\sklearn\\model_selection\\_search.py:814: DeprecationWarning: The default of the `iid` parameter will change from True to False in version 0.22 and will be removed in 0.24. This will change numeric results when test-set sizes are unequal.\n",
      "  DeprecationWarning)\n"
     ]
    },
    {
     "data": {
      "text/plain": [
       "GridSearchCV(cv=10, error_score='raise-deprecating',\n",
       "             estimator=GradientBoostingRegressor(alpha=0.9,\n",
       "                                                 criterion='friedman_mse',\n",
       "                                                 init=None, learning_rate=0.1,\n",
       "                                                 loss='ls', max_depth=3,\n",
       "                                                 max_features=None,\n",
       "                                                 max_leaf_nodes=None,\n",
       "                                                 min_impurity_decrease=0.0,\n",
       "                                                 min_impurity_split=None,\n",
       "                                                 min_samples_leaf=1,\n",
       "                                                 min_samples_split=2,\n",
       "                                                 min_weight_fraction_leaf=0.0,\n",
       "                                                 n_estimators=100,\n",
       "                                                 n_ite...\n",
       "                                                 presort='auto',\n",
       "                                                 random_state=None,\n",
       "                                                 subsample=1.0, tol=0.0001,\n",
       "                                                 validation_fraction=0.1,\n",
       "                                                 verbose=0, warm_start=False),\n",
       "             iid='warn', n_jobs=-1,\n",
       "             param_grid={'learning_rate': [0.001, 0.01, 0.1, 0.2],\n",
       "                         'max_depth': [3, 5, 8, 50, 100],\n",
       "                         'n_estimators': [200, 500, 1000, 2000],\n",
       "                         'subsample': [1, 0.5, 0.75]},\n",
       "             pre_dispatch='2*n_jobs', refit=True, return_train_score=False,\n",
       "             scoring=None, verbose=2)"
      ]
     },
     "execution_count": 13,
     "metadata": {},
     "output_type": "execute_result"
    }
   ],
   "source": [
    "gbm=GradientBoostingRegressor()\n",
    "gbm_cv_model=GridSearchCV(gbm,gbm_params,cv=10,n_jobs=-1,verbose=2)\n",
    "gbm_cv_model.fit(X_train,y_train)"
   ]
  },
  {
   "cell_type": "code",
   "execution_count": 14,
   "metadata": {},
   "outputs": [
    {
     "data": {
      "text/plain": [
       "{'learning_rate': 0.1, 'max_depth': 3, 'n_estimators': 2000, 'subsample': 0.5}"
      ]
     },
     "execution_count": 14,
     "metadata": {},
     "output_type": "execute_result"
    }
   ],
   "source": [
    "gbm_cv_model.best_params_"
   ]
  },
  {
   "cell_type": "code",
   "execution_count": 15,
   "metadata": {},
   "outputs": [],
   "source": [
    "gbm_tuned=GradientBoostingRegressor(learning_rate=0.1 ,\n",
    "                                   max_depth=3 ,\n",
    "                                   n_estimators=2000 ,\n",
    "                                   subsample=0.5 )\n",
    "gbm_tuned=gbm_tuned.fit(X_train,y_train)"
   ]
  },
  {
   "cell_type": "code",
   "execution_count": 16,
   "metadata": {},
   "outputs": [
    {
     "data": {
      "text/plain": [
       "365.96802900988877"
      ]
     },
     "execution_count": 16,
     "metadata": {},
     "output_type": "execute_result"
    }
   ],
   "source": [
    "y_pred=gbm_tuned.predict(X_test)\n",
    "np.sqrt(mean_squared_error(y_test,y_pred))"
   ]
  },
  {
   "cell_type": "code",
   "execution_count": 17,
   "metadata": {},
   "outputs": [
    {
     "data": {
      "text/plain": [
       "Text(0.5, 0, 'Degiskenlerin Önem Düzeyleri')"
      ]
     },
     "execution_count": 17,
     "metadata": {},
     "output_type": "execute_result"
    },
    {
     "data": {
      "image/png": "[encoded data removed]",
      "text/plain": [
       "<Figure size 432x288 with 1 Axes>"
      ]
     },
     "metadata": {
      "needs_background": "light"
     },
     "output_type": "display_data"
    }
   ],
   "source": [
    "# Degiskenlerin önem düzeylerine ihtiyacımız oldugunu düsünelim\n",
    "Importance=pd.DataFrame({\"Importance\":gbm_tuned.feature_importances_*100},\n",
    "                       index=X_train.columns)\n",
    "Importance.sort_values(by=\"Importance\",\n",
    "                       axis=0,\n",
    "                       ascending=True).plot(kind=\"barh\",\n",
    "                                            color=\"r\")\n",
    "\n",
    "plt.xlabel(\"Degiskenlerin Önem Düzeyleri\")"
   ]
  },
  {
   "cell_type": "markdown",
   "metadata": {},
   "source": [
    "# eXtreme Gradient Boosting ( XGBoost)\n",
    "* XGBoost,GBM'in hız ve tahmin performansını artırmak üzere optimize edilmis; ölceklenebilir ve farklı platformlarda entegre edilebilir halidir.(2014-Tianqi Chen)"
   ]
  },
  {
   "cell_type": "markdown",
   "metadata": {},
   "source": [
    "* XGBoost\n",
    " - R,Python,Hadoop, Scala, Julia ile kullanılabilir\n",
    " - Ölçeklenebilirdir\n",
    " - Hızlıdır\n",
    " - Tahmin basarısı yüksektir\n",
    " - Bir çok kaggle yarışmasında basarısını kanıtlamıstır"
   ]
  },
  {
   "cell_type": "markdown",
   "metadata": {},
   "source": [
    "# XGBoost - MODEL"
   ]
  },
  {
   "cell_type": "code",
   "execution_count": 18,
   "metadata": {},
   "outputs": [],
   "source": [
    "hit=pd.read_csv(\"original.csv\")# American basketbol ligi \n",
    "df=hit.copy()\n",
    "df=df.dropna()\n",
    "dms= pd.get_dummies(df[['League','Division','NewLeague']])\n",
    "y=df[\"Salary\"]\n",
    "X_= df.drop([\"Salary\",\"League\",\"Division\",\"NewLeague\"],axis=1).astype(\"float64\")\n",
    "X=pd.concat([X_,dms[[\"League_N\",\"Division_W\",\"NewLeague_N\"]]],axis=1)\n",
    "# veri setini test ve train olarak ayırdık\n",
    "from sklearn.model_selection import train_test_split,cross_val_score,cross_val_predict\n",
    "X_train,X_test,y_train,y_test=train_test_split(X,y,test_size=0.25,\n",
    "                                              random_state=42)"
   ]
  },
  {
   "cell_type": "code",
   "execution_count": 19,
   "metadata": {},
   "outputs": [
    {
     "name": "stdout",
     "output_type": "stream",
     "text": [
      "Collecting xgboost\n",
      "  Downloading xgboost-1.0.2-py3-none-win_amd64.whl (24.6 MB)\n",
      "Requirement already satisfied: numpy in c:\\users\\aayse\\appdata\\local\\continuum\\anaconda3\\lib\\site-packages (from xgboost) (1.18.1)\n",
      "Requirement already satisfied: scipy in c:\\users\\aayse\\appdata\\local\\continuum\\anaconda3\\lib\\site-packages (from xgboost) (1.4.1)\n",
      "Installing collected packages: xgboost\n",
      "Successfully installed xgboost-1.0.2\n"
     ]
    }
   ],
   "source": [
    "# !pip install xgboost"
   ]
  },
  {
   "cell_type": "code",
   "execution_count": 20,
   "metadata": {},
   "outputs": [],
   "source": [
    "# not: xgboostun kendi veri yapısını kullanabilirseniz daha performanslı\n",
    "# sonuclar elde edebilirsiniz.\n",
    "import xgboost as xgb"
   ]
  },
  {
   "cell_type": "code",
   "execution_count": 22,
   "metadata": {},
   "outputs": [],
   "source": [
    "# bu kulanım  xgboostun kendi veri yapısı\n",
    "DM_train=xgb.DMatrix(data=X_train,label=y_train)#train seti\n",
    "DM_test=xgb.DMatrix(data=X_test,label=y_test)# test seti"
   ]
  },
  {
   "cell_type": "code",
   "execution_count": 23,
   "metadata": {},
   "outputs": [],
   "source": [
    "from xgboost import XGBRegressor"
   ]
  },
  {
   "cell_type": "code",
   "execution_count": 25,
   "metadata": {},
   "outputs": [],
   "source": [
    "xgb_model= XGBRegressor().fit(X_train,y_train)"
   ]
  },
  {
   "cell_type": "markdown",
   "metadata": {},
   "source": [
    "# XGBoost - TAHMİN"
   ]
  },
  {
   "cell_type": "code",
   "execution_count": 26,
   "metadata": {},
   "outputs": [],
   "source": [
    "y_pred=xgb_model.predict(X_test)"
   ]
  },
  {
   "cell_type": "code",
   "execution_count": 27,
   "metadata": {},
   "outputs": [
    {
     "data": {
      "text/plain": [
       "355.4651481224188"
      ]
     },
     "execution_count": 27,
     "metadata": {},
     "output_type": "execute_result"
    }
   ],
   "source": [
    "np.sqrt(mean_squared_error(y_test,y_pred))"
   ]
  },
  {
   "cell_type": "markdown",
   "metadata": {},
   "source": [
    "# XGBoost - MODEL TUNİNG"
   ]
  },
  {
   "cell_type": "code",
   "execution_count": 28,
   "metadata": {},
   "outputs": [
    {
     "data": {
      "text/plain": [
       "XGBRegressor(base_score=0.5, booster=None, colsample_bylevel=1,\n",
       "             colsample_bynode=1, colsample_bytree=1, gamma=0, gpu_id=-1,\n",
       "             importance_type='gain', interaction_constraints=None,\n",
       "             learning_rate=0.300000012, max_delta_step=0, max_depth=6,\n",
       "             min_child_weight=1, missing=nan, monotone_constraints=None,\n",
       "             n_estimators=100, n_jobs=0, num_parallel_tree=1,\n",
       "             objective='reg:squarederror', random_state=0, reg_alpha=0,\n",
       "             reg_lambda=1, scale_pos_weight=1, subsample=1, tree_method=None,\n",
       "             validate_parameters=False, verbosity=None)"
      ]
     },
     "execution_count": 28,
     "metadata": {},
     "output_type": "execute_result"
    }
   ],
   "source": [
    "xgb_model"
   ]
  },
  {
   "cell_type": "code",
   "execution_count": 30,
   "metadata": {},
   "outputs": [],
   "source": [
    "xgb_params={'colsample_bytree':[0.4,0.5,0.6,0.9,1],\n",
    "           'n_estimators':[100,200,500,1000],\n",
    "           'max_depth':[2,3,4,5,6],\n",
    "           'learning_rate':[0.1,0.01,0.5]}"
   ]
  },
  {
   "cell_type": "code",
   "execution_count": 31,
   "metadata": {},
   "outputs": [],
   "source": [
    "\n",
    "xgb=XGBRegressor()\n",
    "xgb_cv_model=GridSearchCV(xgb,\n",
    "                          xgb_params,\n",
    "                          cv=10,\n",
    "                         n_jobs=-1,\n",
    "                         verbose=2)\n"
   ]
  },
  {
   "cell_type": "code",
   "execution_count": 32,
   "metadata": {},
   "outputs": [
    {
     "name": "stdout",
     "output_type": "stream",
     "text": [
      "Fitting 10 folds for each of 300 candidates, totalling 3000 fits\n"
     ]
    },
    {
     "name": "stderr",
     "output_type": "stream",
     "text": [
      "[Parallel(n_jobs=-1)]: Using backend LokyBackend with 4 concurrent workers.\n",
      "[Parallel(n_jobs=-1)]: Done  33 tasks      | elapsed:    8.5s\n",
      "[Parallel(n_jobs=-1)]: Done 154 tasks      | elapsed:   18.4s\n",
      "[Parallel(n_jobs=-1)]: Done 357 tasks      | elapsed:   35.5s\n",
      "[Parallel(n_jobs=-1)]: Done 640 tasks      | elapsed:   54.0s\n",
      "[Parallel(n_jobs=-1)]: Done 1005 tasks      | elapsed:  1.5min\n",
      "[Parallel(n_jobs=-1)]: Done 1450 tasks      | elapsed:  2.0min\n",
      "[Parallel(n_jobs=-1)]: Done 1977 tasks      | elapsed:  2.8min\n",
      "[Parallel(n_jobs=-1)]: Done 2584 tasks      | elapsed:  3.8min\n",
      "[Parallel(n_jobs=-1)]: Done 3000 out of 3000 | elapsed:  4.6min finished\n",
      "C:\\Users\\aayse\\AppData\\Local\\Continuum\\anaconda3\\lib\\site-packages\\sklearn\\model_selection\\_search.py:814: DeprecationWarning: The default of the `iid` parameter will change from True to False in version 0.22 and will be removed in 0.24. This will change numeric results when test-set sizes are unequal.\n",
      "  DeprecationWarning)\n"
     ]
    },
    {
     "data": {
      "text/plain": [
       "GridSearchCV(cv=10, error_score='raise-deprecating',\n",
       "             estimator=XGBRegressor(base_score=None, booster=None,\n",
       "                                    colsample_bylevel=None,\n",
       "                                    colsample_bynode=None,\n",
       "                                    colsample_bytree=None, gamma=None,\n",
       "                                    gpu_id=None, importance_type='gain',\n",
       "                                    interaction_constraints=None,\n",
       "                                    learning_rate=None, max_delta_step=None,\n",
       "                                    max_depth=None, min_child_weight=None,\n",
       "                                    missing=nan, monotone_constrai...\n",
       "                                    reg_lambda=None, scale_pos_weight=None,\n",
       "                                    subsample=None, tree_method=None,\n",
       "                                    validate_parameters=False, verbosity=None),\n",
       "             iid='warn', n_jobs=-1,\n",
       "             param_grid={'colsample_bytree': [0.4, 0.5, 0.6, 0.9, 1],\n",
       "                         'learning_rate': [0.1, 0.01, 0.5],\n",
       "                         'max_depth': [2, 3, 4, 5, 6],\n",
       "                         'n_estimators': [100, 200, 500, 1000]},\n",
       "             pre_dispatch='2*n_jobs', refit=True, return_train_score=False,\n",
       "             scoring=None, verbose=2)"
      ]
     },
     "execution_count": 32,
     "metadata": {},
     "output_type": "execute_result"
    }
   ],
   "source": [
    "xgb_cv_model.fit(X_train,y_train)"
   ]
  },
  {
   "cell_type": "code",
   "execution_count": 33,
   "metadata": {},
   "outputs": [
    {
     "data": {
      "text/plain": [
       "{'colsample_bytree': 0.5,\n",
       " 'learning_rate': 0.1,\n",
       " 'max_depth': 2,\n",
       " 'n_estimators': 500}"
      ]
     },
     "execution_count": 33,
     "metadata": {},
     "output_type": "execute_result"
    }
   ],
   "source": [
    "xgb_cv_model.best_params_"
   ]
  },
  {
   "cell_type": "code",
   "execution_count": 38,
   "metadata": {},
   "outputs": [],
   "source": [
    "xgb_tuned=XGBRegressor(colsample_bytree=0.5,\n",
    "                      learning_rate=0.1,\n",
    "                      max_depth=2,\n",
    "                      n_estimators=500)\n",
    "xgb_tuned=xgb_tuned.fit(X_train,y_train)"
   ]
  },
  {
   "cell_type": "code",
   "execution_count": 39,
   "metadata": {},
   "outputs": [
    {
     "data": {
      "text/plain": [
       "346.0275157777717"
      ]
     },
     "execution_count": 39,
     "metadata": {},
     "output_type": "execute_result"
    }
   ],
   "source": [
    "y_pred=xgb_tuned.predict(X_test)\n",
    "np.sqrt(mean_squared_error(y_test,y_pred))"
   ]
  },
  {
   "cell_type": "markdown",
   "metadata": {},
   "source": [
    "# Light GBM\n",
    "* Light GBM, XGBoost'un eğitim süresi performansını arttırmaya yönelik geliştirilen bir diğer GBM türüdür."
   ]
  },
  {
   "cell_type": "markdown",
   "metadata": {},
   "source": [
    "*  Daha performanslı\n",
    "* Lewel - wise büyüme stratejisi yerine leaf_wise büyüme stratejisi\n",
    "* Breadth- first search (BFS) yerine depth - first search(DFS)"
   ]
  },
  {
   "cell_type": "code",
   "execution_count": 40,
   "metadata": {},
   "outputs": [],
   "source": [
    "# XGBoostun eğitim süresi çok uzun sürmektedir.\n",
    "# XGBoost daha genis kapsamlı ilk arama yapar.\n",
    "# Light GBM daha derin kapsamlı ilk arama yapar."
   ]
  },
  {
   "cell_type": "markdown",
   "metadata": {},
   "source": [
    "# Light GBM - MODEL"
   ]
  },
  {
   "cell_type": "code",
   "execution_count": 41,
   "metadata": {},
   "outputs": [],
   "source": [
    "hit=pd.read_csv(\"original.csv\")# American basketbol ligi \n",
    "df=hit.copy()\n",
    "df=df.dropna()\n",
    "dms= pd.get_dummies(df[['League','Division','NewLeague']])\n",
    "y=df[\"Salary\"]\n",
    "X_= df.drop([\"Salary\",\"League\",\"Division\",\"NewLeague\"],axis=1).astype(\"float64\")\n",
    "X=pd.concat([X_,dms[[\"League_N\",\"Division_W\",\"NewLeague_N\"]]],axis=1)\n",
    "# veri setini test ve train olarak ayırdık\n",
    "from sklearn.model_selection import train_test_split,cross_val_score,cross_val_predict\n",
    "X_train,X_test,y_train,y_test=train_test_split(X,y,test_size=0.25,\n",
    "                                              random_state=42)"
   ]
  },
  {
   "cell_type": "code",
   "execution_count": 42,
   "metadata": {},
   "outputs": [
    {
     "name": "stdout",
     "output_type": "stream",
     "text": [
      "Collecting lightgbm\n",
      "  Downloading lightgbm-2.3.1-py2.py3-none-win_amd64.whl (544 kB)\n",
      "Requirement already satisfied: numpy in c:\\users\\aayse\\appdata\\local\\continuum\\anaconda3\\lib\\site-packages (from lightgbm) (1.18.1)\n",
      "Requirement already satisfied: scipy in c:\\users\\aayse\\appdata\\local\\continuum\\anaconda3\\lib\\site-packages (from lightgbm) (1.4.1)\n",
      "Requirement already satisfied: scikit-learn in c:\\users\\aayse\\appdata\\local\\continuum\\anaconda3\\lib\\site-packages (from lightgbm) (0.21.3)\n",
      "Requirement already satisfied: joblib>=0.11 in c:\\users\\aayse\\appdata\\local\\continuum\\anaconda3\\lib\\site-packages (from scikit-learn->lightgbm) (0.13.2)\n",
      "Installing collected packages: lightgbm\n",
      "Successfully installed lightgbm-2.3.1\n"
     ]
    }
   ],
   "source": [
    "#!pip install lightgbm"
   ]
  },
  {
   "cell_type": "code",
   "execution_count": 43,
   "metadata": {},
   "outputs": [],
   "source": [
    "from lightgbm import LGBMRegressor"
   ]
  },
  {
   "cell_type": "code",
   "execution_count": 44,
   "metadata": {},
   "outputs": [],
   "source": [
    "lgbm=LGBMRegressor()"
   ]
  },
  {
   "cell_type": "code",
   "execution_count": 45,
   "metadata": {},
   "outputs": [],
   "source": [
    "lgbm_model=lgbm.fit(X_train,y_train)"
   ]
  },
  {
   "cell_type": "markdown",
   "metadata": {},
   "source": [
    "# Light GBM- TAHMİN"
   ]
  },
  {
   "cell_type": "code",
   "execution_count": 46,
   "metadata": {},
   "outputs": [],
   "source": [
    "y_pred=lgbm_model.predict(X_test,num_iteration=lgbm_model.best_iteration_)"
   ]
  },
  {
   "cell_type": "code",
   "execution_count": 47,
   "metadata": {},
   "outputs": [
    {
     "data": {
      "text/plain": [
       "363.8712087611089"
      ]
     },
     "execution_count": 47,
     "metadata": {},
     "output_type": "execute_result"
    }
   ],
   "source": [
    "np.sqrt(mean_squared_error(y_test,y_pred))"
   ]
  },
  {
   "cell_type": "markdown",
   "metadata": {},
   "source": [
    "# Light GBM - MODEL TUNİNG"
   ]
  },
  {
   "cell_type": "code",
   "execution_count": 48,
   "metadata": {},
   "outputs": [
    {
     "data": {
      "text/plain": [
       "LGBMRegressor(boosting_type='gbdt', class_weight=None, colsample_bytree=1.0,\n",
       "              importance_type='split', learning_rate=0.1, max_depth=-1,\n",
       "              min_child_samples=20, min_child_weight=0.001, min_split_gain=0.0,\n",
       "              n_estimators=100, n_jobs=-1, num_leaves=31, objective=None,\n",
       "              random_state=None, reg_alpha=0.0, reg_lambda=0.0, silent=True,\n",
       "              subsample=1.0, subsample_for_bin=200000, subsample_freq=0)"
      ]
     },
     "execution_count": 48,
     "metadata": {},
     "output_type": "execute_result"
    }
   ],
   "source": [
    "lgbm_model"
   ]
  },
  {
   "cell_type": "code",
   "execution_count": 51,
   "metadata": {},
   "outputs": [],
   "source": [
    "lgbm_params={\n",
    "    'colsample_bytree':[0.4,0.5,0.6,0.9,1],\n",
    "    'learning_rate':[0.01,0.1,0.5,1],\n",
    "    'n_estimators':[20,40,100,200,500,1000],\n",
    "'max_depth':[1,2,3,4,5,6,7,8]\n",
    "}\n",
    "\n",
    "lgbm=LGBMRegressor()\n",
    "lgbm_cv_model=GridSearchCV(lgbm,lgbm_params,cv=10,n_jobs=-1,verbose=2)"
   ]
  },
  {
   "cell_type": "code",
   "execution_count": 52,
   "metadata": {},
   "outputs": [
    {
     "name": "stdout",
     "output_type": "stream",
     "text": [
      "Fitting 10 folds for each of 960 candidates, totalling 9600 fits\n"
     ]
    },
    {
     "name": "stderr",
     "output_type": "stream",
     "text": [
      "[Parallel(n_jobs=-1)]: Using backend LokyBackend with 4 concurrent workers.\n",
      "[Parallel(n_jobs=-1)]: Done 204 tasks      | elapsed:    6.5s\n",
      "[Parallel(n_jobs=-1)]: Done 696 tasks      | elapsed:   24.6s\n",
      "[Parallel(n_jobs=-1)]: Done 1508 tasks      | elapsed:   53.6s\n",
      "[Parallel(n_jobs=-1)]: Done 2640 tasks      | elapsed:  1.6min\n",
      "[Parallel(n_jobs=-1)]: Done 4100 tasks      | elapsed:  2.5min\n",
      "[Parallel(n_jobs=-1)]: Done 5880 tasks      | elapsed:  3.4min\n",
      "[Parallel(n_jobs=-1)]: Done 7360 tasks      | elapsed:  4.5min\n",
      "[Parallel(n_jobs=-1)]: Done 8574 tasks      | elapsed:  5.4min\n",
      "[Parallel(n_jobs=-1)]: Done 9600 out of 9600 | elapsed:  6.2min finished\n",
      "C:\\Users\\aayse\\AppData\\Local\\Continuum\\anaconda3\\lib\\site-packages\\sklearn\\model_selection\\_search.py:814: DeprecationWarning: The default of the `iid` parameter will change from True to False in version 0.22 and will be removed in 0.24. This will change numeric results when test-set sizes are unequal.\n",
      "  DeprecationWarning)\n"
     ]
    },
    {
     "data": {
      "text/plain": [
       "GridSearchCV(cv=10, error_score='raise-deprecating',\n",
       "             estimator=LGBMRegressor(boosting_type='gbdt', class_weight=None,\n",
       "                                     colsample_bytree=1.0,\n",
       "                                     importance_type='split', learning_rate=0.1,\n",
       "                                     max_depth=-1, min_child_samples=20,\n",
       "                                     min_child_weight=0.001, min_split_gain=0.0,\n",
       "                                     n_estimators=100, n_jobs=-1, num_leaves=31,\n",
       "                                     objective=None, random_state=None,\n",
       "                                     reg_alpha=0.0, reg_lambda=0.0, silent=True,\n",
       "                                     subsample=1.0, subsample_for_bin=200000,\n",
       "                                     subsample_freq=0),\n",
       "             iid='warn', n_jobs=-1,\n",
       "             param_grid={'colsample_bytree': [0.4, 0.5, 0.6, 0.9, 1],\n",
       "                         'learning_rate': [0.01, 0.1, 0.5, 1],\n",
       "                         'max_depth': [1, 2, 3, 4, 5, 6, 7, 8],\n",
       "                         'n_estimators': [20, 40, 100, 200, 500, 1000]},\n",
       "             pre_dispatch='2*n_jobs', refit=True, return_train_score=False,\n",
       "             scoring=None, verbose=2)"
      ]
     },
     "execution_count": 52,
     "metadata": {},
     "output_type": "execute_result"
    }
   ],
   "source": [
    "lgbm_cv_model.fit(X_train,y_train)"
   ]
  },
  {
   "cell_type": "code",
   "execution_count": 53,
   "metadata": {},
   "outputs": [
    {
     "data": {
      "text/plain": [
       "{'colsample_bytree': 0.4,\n",
       " 'learning_rate': 0.1,\n",
       " 'max_depth': 5,\n",
       " 'n_estimators': 40}"
      ]
     },
     "execution_count": 53,
     "metadata": {},
     "output_type": "execute_result"
    }
   ],
   "source": [
    "lgbm_cv_model.best_params_"
   ]
  },
  {
   "cell_type": "code",
   "execution_count": 56,
   "metadata": {},
   "outputs": [],
   "source": [
    "lgbm_tuned=LGBMRegressor(learning_rate=0.1,\n",
    "                        max_depth=5,\n",
    "                        n_estimators=40,\n",
    "                        colsample_bytree=0.4)\n",
    "\n",
    "lgbm_tuned=lgbm_tuned.fit(X_train,y_train)"
   ]
  },
  {
   "cell_type": "code",
   "execution_count": 57,
   "metadata": {},
   "outputs": [
    {
     "data": {
      "text/plain": [
       "377.8415676535648"
      ]
     },
     "execution_count": 57,
     "metadata": {},
     "output_type": "execute_result"
    }
   ],
   "source": [
    "y_pred=lgbm_tuned.predict(X_test)\n",
    "np.sqrt(mean_squared_error(y_test,y_pred))"
   ]
  },
  {
   "cell_type": "markdown",
   "metadata": {},
   "source": [
    "# Category Boosting (CatBoost)\n",
    "* Kategorik degiskenler ile otomatik olarak mücadele edebilen ,hızlı,basarılı bir diger GBM türevi(Yandex 2017)"
   ]
  },
  {
   "cell_type": "markdown",
   "metadata": {},
   "source": [
    "* Category Boosting (CatBoost)\n",
    "    - Kategorik degisken destegi\n",
    "    - Hızlı ve ölçeklenebilir GPU destegi\n",
    "    - Daha basarılı tahminler\n",
    "    - Hızlı train ve hızlı tahmin\n",
    "    - Rusyanın ilk açık kaynak kodlu ,basarılı ML çalışması"
   ]
  },
  {
   "cell_type": "markdown",
   "metadata": {},
   "source": [
    "# CatBoost - MODEL "
   ]
  },
  {
   "cell_type": "code",
   "execution_count": 58,
   "metadata": {},
   "outputs": [],
   "source": [
    "hit=pd.read_csv(\"original.csv\")# American basketbol ligi \n",
    "df=hit.copy()\n",
    "df=df.dropna()\n",
    "dms= pd.get_dummies(df[['League','Division','NewLeague']])\n",
    "y=df[\"Salary\"]\n",
    "X_= df.drop([\"Salary\",\"League\",\"Division\",\"NewLeague\"],axis=1).astype(\"float64\")\n",
    "X=pd.concat([X_,dms[[\"League_N\",\"Division_W\",\"NewLeague_N\"]]],axis=1)\n",
    "# veri setini test ve train olarak ayırdık\n",
    "from sklearn.model_selection import train_test_split,cross_val_score,cross_val_predict\n",
    "X_train,X_test,y_train,y_test=train_test_split(X,y,test_size=0.25,\n",
    "                                              random_state=42)"
   ]
  },
  {
   "cell_type": "code",
   "execution_count": 59,
   "metadata": {
    "collapsed": true,
    "jupyter": {
     "outputs_hidden": true
    }
   },
   "outputs": [
    {
     "name": "stdout",
     "output_type": "stream",
     "text": [
      "Collecting catboost\n",
      "  Downloading catboost-0.23-cp37-none-win_amd64.whl (63.6 MB)\n",
      "Collecting plotly\n",
      "  Downloading plotly-4.6.0-py2.py3-none-any.whl (7.1 MB)\n",
      "Requirement already satisfied: scipy in c:\\users\\aayse\\appdata\\local\\continuum\\anaconda3\\lib\\site-packages (from catboost) (1.4.1)\n",
      "Requirement already satisfied: pandas>=0.24.0 in c:\\users\\aayse\\appdata\\local\\continuum\\anaconda3\\lib\\site-packages (from catboost) (0.25.1)\n",
      "Requirement already satisfied: numpy>=1.16.0 in c:\\users\\aayse\\appdata\\local\\continuum\\anaconda3\\lib\\site-packages (from catboost) (1.18.1)\n",
      "Collecting graphviz\n",
      "  Downloading graphviz-0.14-py2.py3-none-any.whl (18 kB)\n",
      "Requirement already satisfied: matplotlib in c:\\users\\aayse\\appdata\\local\\continuum\\anaconda3\\lib\\site-packages (from catboost) (3.1.1)\n",
      "Requirement already satisfied: six in c:\\users\\aayse\\appdata\\local\\continuum\\anaconda3\\lib\\site-packages (from catboost) (1.12.0)\n",
      "Collecting retrying>=1.3.3\n",
      "  Downloading retrying-1.3.3.tar.gz (10 kB)\n",
      "Requirement already satisfied: python-dateutil>=2.6.1 in c:\\users\\aayse\\appdata\\local\\continuum\\anaconda3\\lib\\site-packages (from pandas>=0.24.0->catboost) (2.8.0)\n",
      "Requirement already satisfied: pytz>=2017.2 in c:\\users\\aayse\\appdata\\local\\continuum\\anaconda3\\lib\\site-packages (from pandas>=0.24.0->catboost) (2019.3)\n",
      "Requirement already satisfied: cycler>=0.10 in c:\\users\\aayse\\appdata\\local\\continuum\\anaconda3\\lib\\site-packages (from matplotlib->catboost) (0.10.0)\n",
      "Requirement already satisfied: kiwisolver>=1.0.1 in c:\\users\\aayse\\appdata\\local\\continuum\\anaconda3\\lib\\site-packages (from matplotlib->catboost) (1.1.0)\n",
      "Requirement already satisfied: pyparsing!=2.0.4,!=2.1.2,!=2.1.6,>=2.0.1 in c:\\users\\aayse\\appdata\\local\\continuum\\anaconda3\\lib\\site-packages (from matplotlib->catboost) (2.4.2)\n",
      "Requirement already satisfied: setuptools in c:\\users\\aayse\\appdata\\local\\continuum\\anaconda3\\lib\\site-packages (from kiwisolver>=1.0.1->matplotlib->catboost) (41.4.0)\n",
      "Building wheels for collected packages: retrying\n",
      "  Building wheel for retrying (setup.py): started\n",
      "  Building wheel for retrying (setup.py): finished with status 'done'\n",
      "  Created wheel for retrying: filename=retrying-1.3.3-py3-none-any.whl size=11434 sha256=ee3471d9a15a61d4df4c6f65d1d4972a288d764c62743fefd7a7165bf1e8c594\n",
      "  Stored in directory: c:\\users\\aayse\\appdata\\local\\pip\\cache\\wheels\\f9\\8d\\8d\\f6af3f7f9eea3553bc2fe6d53e4b287dad18b06a861ac56ddf\n",
      "Successfully built retrying\n",
      "Installing collected packages: retrying, plotly, graphviz, catboost\n",
      "Successfully installed catboost-0.23 graphviz-0.14 plotly-4.6.0 retrying-1.3.3\n"
     ]
    }
   ],
   "source": [
    "!pip install catboost"
   ]
  },
  {
   "cell_type": "code",
   "execution_count": 62,
   "metadata": {},
   "outputs": [],
   "source": [
    "from catboost import CatBoostRegressor"
   ]
  },
  {
   "cell_type": "code",
   "execution_count": 65,
   "metadata": {
    "collapsed": true,
    "jupyter": {
     "outputs_hidden": true
    }
   },
   "outputs": [
    {
     "name": "stdout",
     "output_type": "stream",
     "text": [
      "Learning rate set to 0.029229\n",
      "0:\tlearn: 438.1974206\ttotal: 57.1ms\tremaining: 57.1s\n",
      "1:\tlearn: 432.4168868\ttotal: 59.6ms\tremaining: 29.7s\n",
      "2:\tlearn: 426.3836690\ttotal: 62.1ms\tremaining: 20.6s\n",
      "3:\tlearn: 420.2261014\ttotal: 64.5ms\tremaining: 16.1s\n",
      "4:\tlearn: 414.9976675\ttotal: 66.8ms\tremaining: 13.3s\n",
      "5:\tlearn: 409.6125323\ttotal: 69ms\tremaining: 11.4s\n",
      "6:\tlearn: 403.9277911\ttotal: 71.3ms\tremaining: 10.1s\n",
      "7:\tlearn: 398.4395285\ttotal: 73.6ms\tremaining: 9.12s\n",
      "8:\tlearn: 392.4517081\ttotal: 76.1ms\tremaining: 8.38s\n",
      "9:\tlearn: 387.4871123\ttotal: 80.5ms\tremaining: 7.97s\n",
      "10:\tlearn: 382.6230510\ttotal: 84.5ms\tremaining: 7.6s\n",
      "11:\tlearn: 378.1012454\ttotal: 88.4ms\tremaining: 7.28s\n",
      "12:\tlearn: 372.6002306\ttotal: 92.7ms\tremaining: 7.04s\n",
      "13:\tlearn: 368.4682192\ttotal: 96.6ms\tremaining: 6.8s\n",
      "14:\tlearn: 364.0565766\ttotal: 102ms\tremaining: 6.71s\n",
      "15:\tlearn: 359.5683249\ttotal: 106ms\tremaining: 6.52s\n",
      "16:\tlearn: 355.1782794\ttotal: 109ms\tremaining: 6.29s\n",
      "17:\tlearn: 350.4689946\ttotal: 112ms\tremaining: 6.09s\n",
      "18:\tlearn: 346.2553348\ttotal: 116ms\tremaining: 5.99s\n",
      "19:\tlearn: 341.7051884\ttotal: 120ms\tremaining: 5.87s\n",
      "20:\tlearn: 337.8343606\ttotal: 123ms\tremaining: 5.71s\n",
      "21:\tlearn: 333.7956702\ttotal: 125ms\tremaining: 5.58s\n",
      "22:\tlearn: 329.8867930\ttotal: 129ms\tremaining: 5.48s\n",
      "23:\tlearn: 326.1844372\ttotal: 132ms\tremaining: 5.36s\n",
      "24:\tlearn: 323.1315580\ttotal: 136ms\tremaining: 5.3s\n",
      "25:\tlearn: 319.3322885\ttotal: 139ms\tremaining: 5.2s\n",
      "26:\tlearn: 316.2039164\ttotal: 142ms\tremaining: 5.1s\n",
      "27:\tlearn: 313.2598806\ttotal: 144ms\tremaining: 4.99s\n",
      "28:\tlearn: 310.1086898\ttotal: 146ms\tremaining: 4.89s\n",
      "29:\tlearn: 307.0508553\ttotal: 149ms\tremaining: 4.82s\n",
      "30:\tlearn: 304.5843401\ttotal: 152ms\tremaining: 4.75s\n",
      "31:\tlearn: 301.6708432\ttotal: 155ms\tremaining: 4.67s\n",
      "32:\tlearn: 298.9175443\ttotal: 157ms\tremaining: 4.59s\n",
      "33:\tlearn: 296.1231309\ttotal: 160ms\tremaining: 4.54s\n",
      "34:\tlearn: 293.2359275\ttotal: 163ms\tremaining: 4.5s\n",
      "35:\tlearn: 290.3999850\ttotal: 167ms\tremaining: 4.46s\n",
      "36:\tlearn: 287.8958674\ttotal: 170ms\tremaining: 4.42s\n",
      "37:\tlearn: 285.6692571\ttotal: 172ms\tremaining: 4.37s\n",
      "38:\tlearn: 282.9812904\ttotal: 176ms\tremaining: 4.33s\n",
      "39:\tlearn: 280.6302291\ttotal: 179ms\tremaining: 4.28s\n",
      "40:\tlearn: 278.2767119\ttotal: 181ms\tremaining: 4.24s\n",
      "41:\tlearn: 276.0589541\ttotal: 184ms\tremaining: 4.19s\n",
      "42:\tlearn: 273.6619286\ttotal: 186ms\tremaining: 4.14s\n",
      "43:\tlearn: 271.1128163\ttotal: 188ms\tremaining: 4.09s\n",
      "44:\tlearn: 268.9091716\ttotal: 190ms\tremaining: 4.04s\n",
      "45:\tlearn: 266.3675542\ttotal: 193ms\tremaining: 4s\n",
      "46:\tlearn: 263.7815611\ttotal: 195ms\tremaining: 3.95s\n",
      "47:\tlearn: 261.8160223\ttotal: 197ms\tremaining: 3.91s\n",
      "48:\tlearn: 259.7109561\ttotal: 199ms\tremaining: 3.87s\n",
      "49:\tlearn: 257.7200276\ttotal: 202ms\tremaining: 3.83s\n",
      "50:\tlearn: 255.7835524\ttotal: 204ms\tremaining: 3.8s\n",
      "51:\tlearn: 253.8406902\ttotal: 206ms\tremaining: 3.76s\n",
      "52:\tlearn: 251.6896611\ttotal: 209ms\tremaining: 3.73s\n",
      "53:\tlearn: 250.0830915\ttotal: 211ms\tremaining: 3.7s\n",
      "54:\tlearn: 248.3689069\ttotal: 213ms\tremaining: 3.67s\n",
      "55:\tlearn: 246.2718937\ttotal: 216ms\tremaining: 3.63s\n",
      "56:\tlearn: 244.3923224\ttotal: 218ms\tremaining: 3.6s\n",
      "57:\tlearn: 242.3040669\ttotal: 220ms\tremaining: 3.58s\n",
      "58:\tlearn: 240.5357981\ttotal: 222ms\tremaining: 3.55s\n",
      "59:\tlearn: 238.7009594\ttotal: 225ms\tremaining: 3.52s\n",
      "60:\tlearn: 237.2676945\ttotal: 227ms\tremaining: 3.49s\n",
      "61:\tlearn: 235.7252656\ttotal: 229ms\tremaining: 3.47s\n",
      "62:\tlearn: 234.1007596\ttotal: 232ms\tremaining: 3.45s\n",
      "63:\tlearn: 232.4179971\ttotal: 234ms\tremaining: 3.42s\n",
      "64:\tlearn: 231.1643497\ttotal: 236ms\tremaining: 3.4s\n",
      "65:\tlearn: 229.6810852\ttotal: 239ms\tremaining: 3.38s\n",
      "66:\tlearn: 228.1714231\ttotal: 241ms\tremaining: 3.35s\n",
      "67:\tlearn: 226.9338286\ttotal: 243ms\tremaining: 3.33s\n",
      "68:\tlearn: 226.0780127\ttotal: 245ms\tremaining: 3.31s\n",
      "69:\tlearn: 224.6598569\ttotal: 248ms\tremaining: 3.29s\n",
      "70:\tlearn: 223.1110463\ttotal: 250ms\tremaining: 3.27s\n",
      "71:\tlearn: 221.6545694\ttotal: 253ms\tremaining: 3.26s\n",
      "72:\tlearn: 220.2670639\ttotal: 255ms\tremaining: 3.24s\n",
      "73:\tlearn: 218.9738032\ttotal: 257ms\tremaining: 3.22s\n",
      "74:\tlearn: 217.9247112\ttotal: 260ms\tremaining: 3.2s\n",
      "75:\tlearn: 216.9202490\ttotal: 262ms\tremaining: 3.18s\n",
      "76:\tlearn: 215.5989131\ttotal: 264ms\tremaining: 3.16s\n",
      "77:\tlearn: 214.3540917\ttotal: 266ms\tremaining: 3.15s\n",
      "78:\tlearn: 213.4575339\ttotal: 268ms\tremaining: 3.13s\n",
      "79:\tlearn: 212.1036261\ttotal: 270ms\tremaining: 3.11s\n",
      "80:\tlearn: 210.8030392\ttotal: 273ms\tremaining: 3.1s\n",
      "81:\tlearn: 209.5290460\ttotal: 275ms\tremaining: 3.08s\n",
      "82:\tlearn: 208.0255508\ttotal: 277ms\tremaining: 3.06s\n",
      "83:\tlearn: 206.9124270\ttotal: 280ms\tremaining: 3.05s\n",
      "84:\tlearn: 205.5903017\ttotal: 282ms\tremaining: 3.04s\n",
      "85:\tlearn: 204.6057051\ttotal: 289ms\tremaining: 3.07s\n",
      "86:\tlearn: 203.7128429\ttotal: 292ms\tremaining: 3.06s\n",
      "87:\tlearn: 202.7663836\ttotal: 294ms\tremaining: 3.05s\n",
      "88:\tlearn: 201.9026542\ttotal: 297ms\tremaining: 3.04s\n",
      "89:\tlearn: 200.7729520\ttotal: 301ms\tremaining: 3.04s\n",
      "90:\tlearn: 199.6909954\ttotal: 306ms\tremaining: 3.05s\n",
      "91:\tlearn: 198.6341430\ttotal: 308ms\tremaining: 3.04s\n",
      "92:\tlearn: 197.6117675\ttotal: 311ms\tremaining: 3.03s\n",
      "93:\tlearn: 196.5198483\ttotal: 313ms\tremaining: 3.02s\n",
      "94:\tlearn: 195.5443940\ttotal: 317ms\tremaining: 3.02s\n",
      "95:\tlearn: 194.4203970\ttotal: 319ms\tremaining: 3.01s\n",
      "96:\tlearn: 193.2677508\ttotal: 322ms\tremaining: 2.99s\n",
      "97:\tlearn: 192.1768427\ttotal: 324ms\tremaining: 2.98s\n",
      "98:\tlearn: 191.2356955\ttotal: 326ms\tremaining: 2.97s\n",
      "99:\tlearn: 189.9934546\ttotal: 329ms\tremaining: 2.96s\n",
      "100:\tlearn: 189.2719006\ttotal: 331ms\tremaining: 2.94s\n",
      "101:\tlearn: 188.1079321\ttotal: 333ms\tremaining: 2.93s\n",
      "102:\tlearn: 187.1211517\ttotal: 335ms\tremaining: 2.92s\n",
      "103:\tlearn: 185.9059118\ttotal: 338ms\tremaining: 2.91s\n",
      "104:\tlearn: 185.2620919\ttotal: 340ms\tremaining: 2.9s\n",
      "105:\tlearn: 184.4349037\ttotal: 343ms\tremaining: 2.89s\n",
      "106:\tlearn: 183.1846237\ttotal: 345ms\tremaining: 2.88s\n",
      "107:\tlearn: 182.1448077\ttotal: 347ms\tremaining: 2.87s\n",
      "108:\tlearn: 181.4787170\ttotal: 350ms\tremaining: 2.86s\n",
      "109:\tlearn: 180.6789032\ttotal: 352ms\tremaining: 2.85s\n",
      "110:\tlearn: 179.9122461\ttotal: 355ms\tremaining: 2.84s\n",
      "111:\tlearn: 178.9952892\ttotal: 357ms\tremaining: 2.83s\n",
      "112:\tlearn: 178.6013107\ttotal: 359ms\tremaining: 2.82s\n",
      "113:\tlearn: 177.7090692\ttotal: 361ms\tremaining: 2.81s\n",
      "114:\tlearn: 176.7404828\ttotal: 364ms\tremaining: 2.8s\n",
      "115:\tlearn: 176.0415402\ttotal: 366ms\tremaining: 2.79s\n",
      "116:\tlearn: 175.5315148\ttotal: 368ms\tremaining: 2.78s\n",
      "117:\tlearn: 174.8976738\ttotal: 370ms\tremaining: 2.77s\n",
      "118:\tlearn: 174.0530870\ttotal: 373ms\tremaining: 2.76s\n",
      "119:\tlearn: 173.0700181\ttotal: 375ms\tremaining: 2.75s\n",
      "120:\tlearn: 172.2832739\ttotal: 377ms\tremaining: 2.74s\n",
      "121:\tlearn: 171.4960220\ttotal: 379ms\tremaining: 2.73s\n",
      "122:\tlearn: 171.0402978\ttotal: 382ms\tremaining: 2.72s\n",
      "123:\tlearn: 170.7119169\ttotal: 384ms\tremaining: 2.71s\n",
      "124:\tlearn: 169.6907823\ttotal: 386ms\tremaining: 2.7s\n",
      "125:\tlearn: 169.2063700\ttotal: 389ms\tremaining: 2.7s\n",
      "126:\tlearn: 168.1597529\ttotal: 391ms\tremaining: 2.69s\n",
      "127:\tlearn: 167.3156403\ttotal: 393ms\tremaining: 2.68s\n",
      "128:\tlearn: 166.3187281\ttotal: 396ms\tremaining: 2.67s\n",
      "129:\tlearn: 166.1101656\ttotal: 398ms\tremaining: 2.66s\n",
      "130:\tlearn: 165.5420012\ttotal: 400ms\tremaining: 2.65s\n",
      "131:\tlearn: 164.6237022\ttotal: 402ms\tremaining: 2.65s\n",
      "132:\tlearn: 163.7646814\ttotal: 405ms\tremaining: 2.64s\n",
      "133:\tlearn: 163.3971858\ttotal: 407ms\tremaining: 2.63s\n",
      "134:\tlearn: 162.8775666\ttotal: 409ms\tremaining: 2.62s\n",
      "135:\tlearn: 162.3591190\ttotal: 412ms\tremaining: 2.62s\n",
      "136:\tlearn: 161.8515150\ttotal: 414ms\tremaining: 2.61s\n",
      "137:\tlearn: 161.2542226\ttotal: 416ms\tremaining: 2.6s\n",
      "138:\tlearn: 160.5899334\ttotal: 419ms\tremaining: 2.59s\n",
      "139:\tlearn: 159.6307999\ttotal: 421ms\tremaining: 2.59s\n",
      "140:\tlearn: 159.0055431\ttotal: 423ms\tremaining: 2.58s\n",
      "141:\tlearn: 158.2566894\ttotal: 426ms\tremaining: 2.57s\n",
      "142:\tlearn: 157.6496356\ttotal: 428ms\tremaining: 2.57s\n",
      "143:\tlearn: 157.1590393\ttotal: 431ms\tremaining: 2.56s\n",
      "144:\tlearn: 156.5730455\ttotal: 433ms\tremaining: 2.55s\n",
      "145:\tlearn: 155.8450985\ttotal: 437ms\tremaining: 2.55s\n",
      "146:\tlearn: 155.2439210\ttotal: 439ms\tremaining: 2.55s\n",
      "147:\tlearn: 154.9417796\ttotal: 442ms\tremaining: 2.54s\n",
      "148:\tlearn: 154.3763613\ttotal: 444ms\tremaining: 2.54s\n",
      "149:\tlearn: 153.9438757\ttotal: 447ms\tremaining: 2.53s\n",
      "150:\tlearn: 153.1854046\ttotal: 451ms\tremaining: 2.53s\n",
      "151:\tlearn: 152.8631442\ttotal: 453ms\tremaining: 2.53s\n",
      "152:\tlearn: 152.3115428\ttotal: 456ms\tremaining: 2.52s\n",
      "153:\tlearn: 151.8957029\ttotal: 459ms\tremaining: 2.52s\n",
      "154:\tlearn: 151.1871329\ttotal: 463ms\tremaining: 2.52s\n",
      "155:\tlearn: 150.6828564\ttotal: 466ms\tremaining: 2.52s\n",
      "156:\tlearn: 150.2509622\ttotal: 468ms\tremaining: 2.51s\n",
      "157:\tlearn: 149.6497659\ttotal: 470ms\tremaining: 2.5s\n",
      "158:\tlearn: 148.9332067\ttotal: 474ms\tremaining: 2.5s\n",
      "159:\tlearn: 148.7156418\ttotal: 477ms\tremaining: 2.5s\n",
      "160:\tlearn: 148.2737189\ttotal: 480ms\tremaining: 2.5s\n",
      "161:\tlearn: 147.9625721\ttotal: 483ms\tremaining: 2.5s\n",
      "162:\tlearn: 147.4564915\ttotal: 485ms\tremaining: 2.49s\n",
      "163:\tlearn: 146.8606991\ttotal: 487ms\tremaining: 2.48s\n",
      "164:\tlearn: 146.2386459\ttotal: 489ms\tremaining: 2.48s\n",
      "165:\tlearn: 145.7642228\ttotal: 492ms\tremaining: 2.47s\n",
      "166:\tlearn: 145.3792204\ttotal: 495ms\tremaining: 2.47s\n",
      "167:\tlearn: 145.0935465\ttotal: 498ms\tremaining: 2.46s\n",
      "168:\tlearn: 144.6976165\ttotal: 500ms\tremaining: 2.46s\n",
      "169:\tlearn: 143.9724403\ttotal: 502ms\tremaining: 2.45s\n",
      "170:\tlearn: 143.6449839\ttotal: 504ms\tremaining: 2.44s\n",
      "171:\tlearn: 143.1999180\ttotal: 507ms\tremaining: 2.44s\n",
      "172:\tlearn: 142.9381183\ttotal: 511ms\tremaining: 2.44s\n",
      "173:\tlearn: 142.3304601\ttotal: 514ms\tremaining: 2.44s\n",
      "174:\tlearn: 141.9229624\ttotal: 517ms\tremaining: 2.44s\n",
      "175:\tlearn: 141.4043903\ttotal: 519ms\tremaining: 2.43s\n",
      "176:\tlearn: 141.0209642\ttotal: 522ms\tremaining: 2.43s\n",
      "177:\tlearn: 140.4510865\ttotal: 525ms\tremaining: 2.42s\n",
      "178:\tlearn: 140.3441522\ttotal: 526ms\tremaining: 2.41s\n",
      "179:\tlearn: 139.8478562\ttotal: 529ms\tremaining: 2.41s\n",
      "180:\tlearn: 139.7464932\ttotal: 530ms\tremaining: 2.4s\n",
      "181:\tlearn: 139.2514614\ttotal: 532ms\tremaining: 2.39s\n",
      "182:\tlearn: 139.0274540\ttotal: 536ms\tremaining: 2.39s\n",
      "183:\tlearn: 138.4584181\ttotal: 538ms\tremaining: 2.39s\n",
      "184:\tlearn: 138.2093063\ttotal: 542ms\tremaining: 2.38s\n",
      "185:\tlearn: 137.8406250\ttotal: 544ms\tremaining: 2.38s\n",
      "186:\tlearn: 137.7280816\ttotal: 546ms\tremaining: 2.37s\n",
      "187:\tlearn: 137.2465993\ttotal: 549ms\tremaining: 2.37s\n",
      "188:\tlearn: 136.7894765\ttotal: 552ms\tremaining: 2.37s\n",
      "189:\tlearn: 136.4857311\ttotal: 555ms\tremaining: 2.37s\n",
      "190:\tlearn: 136.0043713\ttotal: 557ms\tremaining: 2.36s\n",
      "191:\tlearn: 135.7523177\ttotal: 559ms\tremaining: 2.35s\n",
      "192:\tlearn: 135.3372675\ttotal: 562ms\tremaining: 2.35s\n",
      "193:\tlearn: 135.0202084\ttotal: 565ms\tremaining: 2.35s\n",
      "194:\tlearn: 134.7757422\ttotal: 568ms\tremaining: 2.34s\n",
      "195:\tlearn: 134.3546545\ttotal: 571ms\tremaining: 2.34s\n",
      "196:\tlearn: 133.9623627\ttotal: 573ms\tremaining: 2.33s\n",
      "197:\tlearn: 133.2648869\ttotal: 576ms\tremaining: 2.33s\n",
      "198:\tlearn: 132.9318972\ttotal: 579ms\tremaining: 2.33s\n",
      "199:\tlearn: 132.5119098\ttotal: 581ms\tremaining: 2.33s\n",
      "200:\tlearn: 131.8954412\ttotal: 584ms\tremaining: 2.32s\n",
      "201:\tlearn: 131.6115557\ttotal: 586ms\tremaining: 2.31s\n",
      "202:\tlearn: 131.2095441\ttotal: 588ms\tremaining: 2.31s\n",
      "203:\tlearn: 130.6658729\ttotal: 591ms\tremaining: 2.31s\n",
      "204:\tlearn: 130.3457517\ttotal: 594ms\tremaining: 2.31s\n",
      "205:\tlearn: 130.0833818\ttotal: 598ms\tremaining: 2.3s\n",
      "206:\tlearn: 129.7238048\ttotal: 600ms\tremaining: 2.3s\n",
      "207:\tlearn: 129.0671906\ttotal: 602ms\tremaining: 2.29s\n",
      "208:\tlearn: 128.7683402\ttotal: 606ms\tremaining: 2.29s\n",
      "209:\tlearn: 128.5832593\ttotal: 609ms\tremaining: 2.29s\n",
      "210:\tlearn: 128.3749444\ttotal: 612ms\tremaining: 2.29s\n",
      "211:\tlearn: 128.1143221\ttotal: 614ms\tremaining: 2.28s\n",
      "212:\tlearn: 127.9897497\ttotal: 616ms\tremaining: 2.27s\n",
      "213:\tlearn: 127.6815659\ttotal: 619ms\tremaining: 2.27s\n",
      "214:\tlearn: 127.2006697\ttotal: 622ms\tremaining: 2.27s\n",
      "215:\tlearn: 127.0352179\ttotal: 625ms\tremaining: 2.27s\n",
      "216:\tlearn: 126.9617234\ttotal: 626ms\tremaining: 2.26s\n",
      "217:\tlearn: 126.7776328\ttotal: 628ms\tremaining: 2.25s\n",
      "218:\tlearn: 126.3802524\ttotal: 633ms\tremaining: 2.26s\n",
      "219:\tlearn: 126.1995377\ttotal: 636ms\tremaining: 2.25s\n",
      "220:\tlearn: 126.1155383\ttotal: 638ms\tremaining: 2.25s\n",
      "221:\tlearn: 125.9832799\ttotal: 641ms\tremaining: 2.25s\n",
      "222:\tlearn: 125.7495770\ttotal: 643ms\tremaining: 2.24s\n",
      "223:\tlearn: 125.2409845\ttotal: 646ms\tremaining: 2.24s\n",
      "224:\tlearn: 124.9538099\ttotal: 653ms\tremaining: 2.25s\n",
      "225:\tlearn: 124.7089151\ttotal: 658ms\tremaining: 2.25s\n",
      "226:\tlearn: 124.3984858\ttotal: 667ms\tremaining: 2.27s\n",
      "227:\tlearn: 124.0014588\ttotal: 670ms\tremaining: 2.27s\n",
      "228:\tlearn: 123.7139174\ttotal: 673ms\tremaining: 2.27s\n",
      "229:\tlearn: 123.6555034\ttotal: 674ms\tremaining: 2.26s\n",
      "230:\tlearn: 123.3398368\ttotal: 677ms\tremaining: 2.25s\n",
      "231:\tlearn: 122.7561150\ttotal: 680ms\tremaining: 2.25s\n",
      "232:\tlearn: 122.5676806\ttotal: 683ms\tremaining: 2.25s\n",
      "233:\tlearn: 122.1759040\ttotal: 685ms\tremaining: 2.24s\n",
      "234:\tlearn: 121.5761316\ttotal: 688ms\tremaining: 2.24s\n",
      "235:\tlearn: 121.3308579\ttotal: 692ms\tremaining: 2.24s\n",
      "236:\tlearn: 120.6316918\ttotal: 694ms\tremaining: 2.23s\n",
      "237:\tlearn: 120.0241441\ttotal: 697ms\tremaining: 2.23s\n",
      "238:\tlearn: 119.6974692\ttotal: 699ms\tremaining: 2.23s\n",
      "239:\tlearn: 119.5295579\ttotal: 702ms\tremaining: 2.22s\n",
      "240:\tlearn: 118.8105516\ttotal: 705ms\tremaining: 2.22s\n",
      "241:\tlearn: 118.5001438\ttotal: 708ms\tremaining: 2.22s\n",
      "242:\tlearn: 118.1525333\ttotal: 710ms\tremaining: 2.21s\n",
      "243:\tlearn: 117.8294708\ttotal: 712ms\tremaining: 2.21s\n",
      "244:\tlearn: 117.4650856\ttotal: 715ms\tremaining: 2.2s\n",
      "245:\tlearn: 117.2329146\ttotal: 717ms\tremaining: 2.2s\n",
      "246:\tlearn: 116.6281150\ttotal: 720ms\tremaining: 2.19s\n",
      "247:\tlearn: 116.4382173\ttotal: 722ms\tremaining: 2.19s\n",
      "248:\tlearn: 115.7804838\ttotal: 725ms\tremaining: 2.19s\n",
      "249:\tlearn: 115.4468389\ttotal: 727ms\tremaining: 2.18s\n",
      "250:\tlearn: 115.2535858\ttotal: 730ms\tremaining: 2.18s\n",
      "251:\tlearn: 115.0959725\ttotal: 733ms\tremaining: 2.17s\n",
      "252:\tlearn: 114.5054098\ttotal: 736ms\tremaining: 2.17s\n",
      "253:\tlearn: 114.2196805\ttotal: 738ms\tremaining: 2.17s\n",
      "254:\tlearn: 113.9389493\ttotal: 740ms\tremaining: 2.16s\n",
      "255:\tlearn: 113.8318782\ttotal: 743ms\tremaining: 2.16s\n",
      "256:\tlearn: 113.7010766\ttotal: 746ms\tremaining: 2.16s\n",
      "257:\tlearn: 113.5349213\ttotal: 748ms\tremaining: 2.15s\n",
      "258:\tlearn: 113.2939692\ttotal: 750ms\tremaining: 2.15s\n",
      "259:\tlearn: 112.8734855\ttotal: 752ms\tremaining: 2.14s\n",
      "260:\tlearn: 112.2073904\ttotal: 755ms\tremaining: 2.14s\n",
      "261:\tlearn: 111.7098455\ttotal: 758ms\tremaining: 2.13s\n",
      "262:\tlearn: 111.4861643\ttotal: 761ms\tremaining: 2.13s\n",
      "263:\tlearn: 111.4065123\ttotal: 763ms\tremaining: 2.13s\n",
      "264:\tlearn: 110.9193214\ttotal: 765ms\tremaining: 2.12s\n",
      "265:\tlearn: 110.2486713\ttotal: 767ms\tremaining: 2.12s\n",
      "266:\tlearn: 110.1718829\ttotal: 770ms\tremaining: 2.11s\n",
      "267:\tlearn: 109.8233102\ttotal: 772ms\tremaining: 2.11s\n",
      "268:\tlearn: 109.2576068\ttotal: 774ms\tremaining: 2.1s\n",
      "269:\tlearn: 109.1038965\ttotal: 776ms\tremaining: 2.1s\n",
      "270:\tlearn: 108.5183523\ttotal: 779ms\tremaining: 2.09s\n",
      "271:\tlearn: 108.4470954\ttotal: 781ms\tremaining: 2.09s\n",
      "272:\tlearn: 108.0259628\ttotal: 783ms\tremaining: 2.08s\n",
      "273:\tlearn: 107.5793316\ttotal: 787ms\tremaining: 2.08s\n",
      "274:\tlearn: 107.4747562\ttotal: 789ms\tremaining: 2.08s\n",
      "275:\tlearn: 107.4015080\ttotal: 792ms\tremaining: 2.08s\n",
      "276:\tlearn: 106.7954512\ttotal: 794ms\tremaining: 2.07s\n",
      "277:\tlearn: 106.3607188\ttotal: 797ms\tremaining: 2.07s\n",
      "278:\tlearn: 106.2892222\ttotal: 799ms\tremaining: 2.06s\n",
      "279:\tlearn: 106.1701389\ttotal: 802ms\tremaining: 2.06s\n",
      "280:\tlearn: 106.0889424\ttotal: 804ms\tremaining: 2.06s\n",
      "281:\tlearn: 105.8903610\ttotal: 807ms\tremaining: 2.05s\n",
      "282:\tlearn: 105.6531794\ttotal: 809ms\tremaining: 2.05s\n",
      "283:\tlearn: 105.3489666\ttotal: 811ms\tremaining: 2.04s\n",
      "284:\tlearn: 105.2156952\ttotal: 814ms\tremaining: 2.04s\n",
      "285:\tlearn: 104.7489850\ttotal: 816ms\tremaining: 2.04s\n",
      "286:\tlearn: 104.4701409\ttotal: 818ms\tremaining: 2.03s\n",
      "287:\tlearn: 104.3778769\ttotal: 821ms\tremaining: 2.03s\n",
      "288:\tlearn: 103.8224679\ttotal: 823ms\tremaining: 2.02s\n",
      "289:\tlearn: 103.2728523\ttotal: 826ms\tremaining: 2.02s\n",
      "290:\tlearn: 102.7341369\ttotal: 828ms\tremaining: 2.02s\n",
      "291:\tlearn: 102.5732242\ttotal: 833ms\tremaining: 2.02s\n",
      "292:\tlearn: 102.4869595\ttotal: 836ms\tremaining: 2.02s\n",
      "293:\tlearn: 101.9743362\ttotal: 839ms\tremaining: 2.01s\n",
      "294:\tlearn: 101.8782948\ttotal: 842ms\tremaining: 2.01s\n",
      "295:\tlearn: 101.3571512\ttotal: 844ms\tremaining: 2.01s\n",
      "296:\tlearn: 100.8372462\ttotal: 846ms\tremaining: 2s\n",
      "297:\tlearn: 100.6707783\ttotal: 849ms\tremaining: 2s\n",
      "298:\tlearn: 100.3215940\ttotal: 851ms\tremaining: 2s\n",
      "299:\tlearn: 99.8162460\ttotal: 854ms\tremaining: 1.99s\n",
      "300:\tlearn: 99.7024172\ttotal: 856ms\tremaining: 1.99s\n",
      "301:\tlearn: 99.2308832\ttotal: 859ms\tremaining: 1.98s\n",
      "302:\tlearn: 98.7981083\ttotal: 861ms\tremaining: 1.98s\n",
      "303:\tlearn: 98.6418362\ttotal: 863ms\tremaining: 1.98s\n",
      "304:\tlearn: 98.1248564\ttotal: 865ms\tremaining: 1.97s\n",
      "305:\tlearn: 97.9442581\ttotal: 868ms\tremaining: 1.97s\n",
      "306:\tlearn: 97.5091297\ttotal: 871ms\tremaining: 1.97s\n",
      "307:\tlearn: 97.0381695\ttotal: 873ms\tremaining: 1.96s\n",
      "308:\tlearn: 96.5858904\ttotal: 876ms\tremaining: 1.96s\n",
      "309:\tlearn: 96.4466124\ttotal: 878ms\tremaining: 1.95s\n",
      "310:\tlearn: 95.9786304\ttotal: 881ms\tremaining: 1.95s\n",
      "311:\tlearn: 95.5390501\ttotal: 883ms\tremaining: 1.95s\n",
      "312:\tlearn: 95.3241323\ttotal: 885ms\tremaining: 1.94s\n",
      "313:\tlearn: 95.1166839\ttotal: 888ms\tremaining: 1.94s\n",
      "314:\tlearn: 94.6729021\ttotal: 890ms\tremaining: 1.94s\n",
      "315:\tlearn: 94.2571678\ttotal: 892ms\tremaining: 1.93s\n",
      "316:\tlearn: 93.9414786\ttotal: 895ms\tremaining: 1.93s\n",
      "317:\tlearn: 93.7804159\ttotal: 897ms\tremaining: 1.92s\n",
      "318:\tlearn: 93.5413306\ttotal: 900ms\tremaining: 1.92s\n",
      "319:\tlearn: 93.4280107\ttotal: 902ms\tremaining: 1.92s\n",
      "320:\tlearn: 92.9986302\ttotal: 904ms\tremaining: 1.91s\n",
      "321:\tlearn: 92.9421610\ttotal: 907ms\tremaining: 1.91s\n",
      "322:\tlearn: 92.4662692\ttotal: 909ms\tremaining: 1.91s\n",
      "323:\tlearn: 92.0455485\ttotal: 912ms\tremaining: 1.9s\n",
      "324:\tlearn: 91.6664667\ttotal: 914ms\tremaining: 1.9s\n",
      "325:\tlearn: 91.5600717\ttotal: 917ms\tremaining: 1.9s\n",
      "326:\tlearn: 91.5004974\ttotal: 930ms\tremaining: 1.91s\n",
      "327:\tlearn: 91.0716355\ttotal: 933ms\tremaining: 1.91s\n",
      "328:\tlearn: 90.6376777\ttotal: 935ms\tremaining: 1.91s\n",
      "329:\tlearn: 90.2132341\ttotal: 938ms\tremaining: 1.9s\n",
      "330:\tlearn: 90.1525801\ttotal: 941ms\tremaining: 1.9s\n",
      "331:\tlearn: 89.7879501\ttotal: 945ms\tremaining: 1.9s\n",
      "332:\tlearn: 89.3626218\ttotal: 948ms\tremaining: 1.9s\n",
      "333:\tlearn: 89.1274526\ttotal: 952ms\tremaining: 1.9s\n",
      "334:\tlearn: 88.7222011\ttotal: 955ms\tremaining: 1.9s\n",
      "335:\tlearn: 88.5311901\ttotal: 958ms\tremaining: 1.89s\n",
      "336:\tlearn: 88.0699983\ttotal: 961ms\tremaining: 1.89s\n",
      "337:\tlearn: 87.6737037\ttotal: 966ms\tremaining: 1.89s\n",
      "338:\tlearn: 87.3069085\ttotal: 968ms\tremaining: 1.89s\n",
      "339:\tlearn: 86.8639700\ttotal: 971ms\tremaining: 1.88s\n",
      "340:\tlearn: 86.7339532\ttotal: 973ms\tremaining: 1.88s\n",
      "341:\tlearn: 86.5677333\ttotal: 976ms\tremaining: 1.88s\n",
      "342:\tlearn: 86.4361752\ttotal: 978ms\tremaining: 1.87s\n",
      "343:\tlearn: 86.2469458\ttotal: 981ms\tremaining: 1.87s\n",
      "344:\tlearn: 86.1967306\ttotal: 983ms\tremaining: 1.87s\n",
      "345:\tlearn: 86.0709863\ttotal: 986ms\tremaining: 1.86s\n",
      "346:\tlearn: 85.6398833\ttotal: 989ms\tremaining: 1.86s\n",
      "347:\tlearn: 85.5979263\ttotal: 991ms\tremaining: 1.86s\n",
      "348:\tlearn: 85.4437261\ttotal: 994ms\tremaining: 1.85s\n",
      "349:\tlearn: 85.0669752\ttotal: 997ms\tremaining: 1.85s\n",
      "350:\tlearn: 85.0164116\ttotal: 999ms\tremaining: 1.85s\n",
      "351:\tlearn: 84.6350071\ttotal: 1s\tremaining: 1.84s\n",
      "352:\tlearn: 84.1473245\ttotal: 1s\tremaining: 1.84s\n",
      "353:\tlearn: 83.8115391\ttotal: 1.01s\tremaining: 1.84s\n",
      "354:\tlearn: 83.4823620\ttotal: 1.01s\tremaining: 1.83s\n",
      "355:\tlearn: 83.1595406\ttotal: 1.01s\tremaining: 1.83s\n",
      "356:\tlearn: 82.7280745\ttotal: 1.01s\tremaining: 1.82s\n",
      "357:\tlearn: 82.6210086\ttotal: 1.01s\tremaining: 1.82s\n",
      "358:\tlearn: 82.3077194\ttotal: 1.02s\tremaining: 1.82s\n",
      "359:\tlearn: 81.9112073\ttotal: 1.02s\tremaining: 1.81s\n",
      "360:\tlearn: 81.5518193\ttotal: 1.02s\tremaining: 1.81s\n",
      "361:\tlearn: 81.4267033\ttotal: 1.02s\tremaining: 1.81s\n",
      "362:\tlearn: 81.0255982\ttotal: 1.03s\tremaining: 1.8s\n",
      "363:\tlearn: 80.6891175\ttotal: 1.03s\tremaining: 1.8s\n",
      "364:\tlearn: 80.4390711\ttotal: 1.03s\tremaining: 1.8s\n",
      "365:\tlearn: 80.1232319\ttotal: 1.03s\tremaining: 1.79s\n",
      "366:\tlearn: 80.0808756\ttotal: 1.04s\tremaining: 1.79s\n",
      "367:\tlearn: 79.7090424\ttotal: 1.04s\tremaining: 1.78s\n",
      "368:\tlearn: 79.3969152\ttotal: 1.04s\tremaining: 1.78s\n",
      "369:\tlearn: 79.0731259\ttotal: 1.04s\tremaining: 1.78s\n",
      "370:\tlearn: 78.9862934\ttotal: 1.05s\tremaining: 1.77s\n",
      "371:\tlearn: 78.7730476\ttotal: 1.05s\tremaining: 1.77s\n",
      "372:\tlearn: 78.6302158\ttotal: 1.05s\tremaining: 1.77s\n",
      "373:\tlearn: 78.5184111\ttotal: 1.05s\tremaining: 1.76s\n",
      "374:\tlearn: 78.3814955\ttotal: 1.06s\tremaining: 1.76s\n",
      "375:\tlearn: 77.9622261\ttotal: 1.06s\tremaining: 1.76s\n",
      "376:\tlearn: 77.8601787\ttotal: 1.06s\tremaining: 1.75s\n",
      "377:\tlearn: 77.7650898\ttotal: 1.06s\tremaining: 1.75s\n",
      "378:\tlearn: 77.3945927\ttotal: 1.06s\tremaining: 1.75s\n",
      "379:\tlearn: 77.3348237\ttotal: 1.07s\tremaining: 1.74s\n",
      "380:\tlearn: 77.2431856\ttotal: 1.07s\tremaining: 1.74s\n",
      "381:\tlearn: 76.9192891\ttotal: 1.07s\tremaining: 1.74s\n",
      "382:\tlearn: 76.7949544\ttotal: 1.08s\tremaining: 1.73s\n",
      "383:\tlearn: 76.5217530\ttotal: 1.08s\tremaining: 1.73s\n",
      "384:\tlearn: 76.1648512\ttotal: 1.08s\tremaining: 1.73s\n",
      "385:\tlearn: 75.9867656\ttotal: 1.08s\tremaining: 1.73s\n",
      "386:\tlearn: 75.7293435\ttotal: 1.09s\tremaining: 1.72s\n",
      "387:\tlearn: 75.6419805\ttotal: 1.09s\tremaining: 1.72s\n",
      "388:\tlearn: 75.3138222\ttotal: 1.09s\tremaining: 1.72s\n",
      "389:\tlearn: 75.0125736\ttotal: 1.09s\tremaining: 1.71s\n",
      "390:\tlearn: 74.9803725\ttotal: 1.1s\tremaining: 1.71s\n",
      "391:\tlearn: 74.6113970\ttotal: 1.1s\tremaining: 1.71s\n",
      "392:\tlearn: 74.3668766\ttotal: 1.1s\tremaining: 1.7s\n",
      "393:\tlearn: 74.2752147\ttotal: 1.1s\tremaining: 1.7s\n",
      "394:\tlearn: 74.2172412\ttotal: 1.11s\tremaining: 1.7s\n",
      "395:\tlearn: 73.8652110\ttotal: 1.11s\tremaining: 1.69s\n",
      "396:\tlearn: 73.6963645\ttotal: 1.11s\tremaining: 1.69s\n",
      "397:\tlearn: 73.4075086\ttotal: 1.11s\tremaining: 1.68s\n",
      "398:\tlearn: 73.0346771\ttotal: 1.12s\tremaining: 1.68s\n",
      "399:\tlearn: 72.9971586\ttotal: 1.12s\tremaining: 1.68s\n",
      "400:\tlearn: 72.6755493\ttotal: 1.12s\tremaining: 1.67s\n",
      "401:\tlearn: 72.5972282\ttotal: 1.12s\tremaining: 1.67s\n",
      "402:\tlearn: 72.4345974\ttotal: 1.12s\tremaining: 1.67s\n",
      "403:\tlearn: 72.2185716\ttotal: 1.13s\tremaining: 1.66s\n",
      "404:\tlearn: 71.9251032\ttotal: 1.13s\tremaining: 1.66s\n",
      "405:\tlearn: 71.8901544\ttotal: 1.13s\tremaining: 1.66s\n",
      "406:\tlearn: 71.5338422\ttotal: 1.13s\tremaining: 1.65s\n",
      "407:\tlearn: 71.4477827\ttotal: 1.14s\tremaining: 1.65s\n",
      "408:\tlearn: 71.4127550\ttotal: 1.14s\tremaining: 1.65s\n",
      "409:\tlearn: 71.3322454\ttotal: 1.14s\tremaining: 1.64s\n",
      "410:\tlearn: 71.2981804\ttotal: 1.14s\tremaining: 1.64s\n",
      "411:\tlearn: 71.0089173\ttotal: 1.15s\tremaining: 1.64s\n",
      "412:\tlearn: 70.7854493\ttotal: 1.15s\tremaining: 1.63s\n",
      "413:\tlearn: 70.4930103\ttotal: 1.15s\tremaining: 1.63s\n",
      "414:\tlearn: 70.1976578\ttotal: 1.15s\tremaining: 1.62s\n",
      "415:\tlearn: 69.9565552\ttotal: 1.15s\tremaining: 1.62s\n",
      "416:\tlearn: 69.8912103\ttotal: 1.16s\tremaining: 1.62s\n",
      "417:\tlearn: 69.7356706\ttotal: 1.16s\tremaining: 1.61s\n",
      "418:\tlearn: 69.6634412\ttotal: 1.16s\tremaining: 1.61s\n",
      "419:\tlearn: 69.2943609\ttotal: 1.16s\tremaining: 1.61s\n",
      "420:\tlearn: 69.0269983\ttotal: 1.17s\tremaining: 1.6s\n",
      "421:\tlearn: 68.8653561\ttotal: 1.17s\tremaining: 1.6s\n",
      "422:\tlearn: 68.6555281\ttotal: 1.17s\tremaining: 1.6s\n",
      "423:\tlearn: 68.2338294\ttotal: 1.17s\tremaining: 1.59s\n",
      "424:\tlearn: 68.0909898\ttotal: 1.18s\tremaining: 1.59s\n",
      "425:\tlearn: 67.7905722\ttotal: 1.18s\tremaining: 1.59s\n",
      "426:\tlearn: 67.5586853\ttotal: 1.18s\tremaining: 1.58s\n",
      "427:\tlearn: 67.3518839\ttotal: 1.18s\tremaining: 1.58s\n",
      "428:\tlearn: 67.2029794\ttotal: 1.18s\tremaining: 1.58s\n",
      "429:\tlearn: 66.9467892\ttotal: 1.19s\tremaining: 1.57s\n",
      "430:\tlearn: 66.7821891\ttotal: 1.19s\tremaining: 1.57s\n",
      "431:\tlearn: 66.4955741\ttotal: 1.19s\tremaining: 1.57s\n",
      "432:\tlearn: 66.2240359\ttotal: 1.19s\tremaining: 1.56s\n",
      "433:\tlearn: 65.9832136\ttotal: 1.2s\tremaining: 1.56s\n",
      "434:\tlearn: 65.7761577\ttotal: 1.2s\tremaining: 1.56s\n",
      "435:\tlearn: 65.4845025\ttotal: 1.2s\tremaining: 1.55s\n",
      "436:\tlearn: 65.4215937\ttotal: 1.2s\tremaining: 1.55s\n",
      "437:\tlearn: 65.1768197\ttotal: 1.2s\tremaining: 1.54s\n",
      "438:\tlearn: 65.1071642\ttotal: 1.21s\tremaining: 1.54s\n",
      "439:\tlearn: 65.0705857\ttotal: 1.21s\tremaining: 1.54s\n",
      "440:\tlearn: 64.7782864\ttotal: 1.21s\tremaining: 1.53s\n",
      "441:\tlearn: 64.5284944\ttotal: 1.21s\tremaining: 1.53s\n",
      "442:\tlearn: 64.3504433\ttotal: 1.22s\tremaining: 1.53s\n",
      "443:\tlearn: 64.3001112\ttotal: 1.22s\tremaining: 1.52s\n",
      "444:\tlearn: 63.9063758\ttotal: 1.22s\tremaining: 1.52s\n",
      "445:\tlearn: 63.8746707\ttotal: 1.22s\tremaining: 1.52s\n",
      "446:\tlearn: 63.5487944\ttotal: 1.23s\tremaining: 1.52s\n",
      "447:\tlearn: 63.3406893\ttotal: 1.23s\tremaining: 1.51s\n",
      "448:\tlearn: 63.0992921\ttotal: 1.23s\tremaining: 1.51s\n",
      "449:\tlearn: 62.8676535\ttotal: 1.23s\tremaining: 1.5s\n",
      "450:\tlearn: 62.6978975\ttotal: 1.23s\tremaining: 1.5s\n",
      "451:\tlearn: 62.4888356\ttotal: 1.24s\tremaining: 1.5s\n",
      "452:\tlearn: 62.4591033\ttotal: 1.24s\tremaining: 1.5s\n",
      "453:\tlearn: 62.3981355\ttotal: 1.24s\tremaining: 1.49s\n",
      "454:\tlearn: 62.2755114\ttotal: 1.24s\tremaining: 1.49s\n",
      "455:\tlearn: 62.0286915\ttotal: 1.25s\tremaining: 1.49s\n",
      "456:\tlearn: 61.8101493\ttotal: 1.25s\tremaining: 1.48s\n",
      "457:\tlearn: 61.7125436\ttotal: 1.25s\tremaining: 1.48s\n",
      "458:\tlearn: 61.3464743\ttotal: 1.25s\tremaining: 1.48s\n",
      "459:\tlearn: 61.0777407\ttotal: 1.25s\tremaining: 1.47s\n",
      "460:\tlearn: 60.7354015\ttotal: 1.26s\tremaining: 1.47s\n",
      "461:\tlearn: 60.7070785\ttotal: 1.26s\tremaining: 1.47s\n",
      "462:\tlearn: 60.4380726\ttotal: 1.26s\tremaining: 1.47s\n",
      "463:\tlearn: 60.3794644\ttotal: 1.26s\tremaining: 1.46s\n",
      "464:\tlearn: 60.3096146\ttotal: 1.27s\tremaining: 1.46s\n",
      "465:\tlearn: 60.2803998\ttotal: 1.27s\tremaining: 1.46s\n",
      "466:\tlearn: 60.2489158\ttotal: 1.27s\tremaining: 1.45s\n",
      "467:\tlearn: 60.2187601\ttotal: 1.27s\tremaining: 1.45s\n",
      "468:\tlearn: 59.9901529\ttotal: 1.28s\tremaining: 1.45s\n",
      "469:\tlearn: 59.7821357\ttotal: 1.28s\tremaining: 1.44s\n",
      "470:\tlearn: 59.7334527\ttotal: 1.28s\tremaining: 1.44s\n",
      "471:\tlearn: 59.4989600\ttotal: 1.28s\tremaining: 1.44s\n",
      "472:\tlearn: 59.1865219\ttotal: 1.29s\tremaining: 1.44s\n",
      "473:\tlearn: 58.9478658\ttotal: 1.29s\tremaining: 1.43s\n",
      "474:\tlearn: 58.6836425\ttotal: 1.29s\tremaining: 1.43s\n",
      "475:\tlearn: 58.6522637\ttotal: 1.3s\tremaining: 1.43s\n",
      "476:\tlearn: 58.5963542\ttotal: 1.3s\tremaining: 1.42s\n",
      "477:\tlearn: 58.3648296\ttotal: 1.3s\tremaining: 1.42s\n",
      "478:\tlearn: 58.3188915\ttotal: 1.3s\tremaining: 1.42s\n",
      "479:\tlearn: 58.1813689\ttotal: 1.31s\tremaining: 1.42s\n",
      "480:\tlearn: 57.9437076\ttotal: 1.31s\tremaining: 1.41s\n",
      "481:\tlearn: 57.7694232\ttotal: 1.31s\tremaining: 1.41s\n",
      "482:\tlearn: 57.7437082\ttotal: 1.31s\tremaining: 1.41s\n",
      "483:\tlearn: 57.5081532\ttotal: 1.32s\tremaining: 1.4s\n",
      "484:\tlearn: 57.2134650\ttotal: 1.32s\tremaining: 1.4s\n",
      "485:\tlearn: 56.9733344\ttotal: 1.32s\tremaining: 1.4s\n",
      "486:\tlearn: 56.9412760\ttotal: 1.32s\tremaining: 1.39s\n",
      "487:\tlearn: 56.8640335\ttotal: 1.32s\tremaining: 1.39s\n",
      "488:\tlearn: 56.5624625\ttotal: 1.33s\tremaining: 1.39s\n",
      "489:\tlearn: 56.4986179\ttotal: 1.33s\tremaining: 1.38s\n",
      "490:\tlearn: 56.3527490\ttotal: 1.33s\tremaining: 1.38s\n",
      "491:\tlearn: 56.0961642\ttotal: 1.33s\tremaining: 1.38s\n",
      "492:\tlearn: 55.8256120\ttotal: 1.34s\tremaining: 1.38s\n",
      "493:\tlearn: 55.6150160\ttotal: 1.34s\tremaining: 1.37s\n",
      "494:\tlearn: 55.5631279\ttotal: 1.34s\tremaining: 1.37s\n",
      "495:\tlearn: 55.3736400\ttotal: 1.34s\tremaining: 1.37s\n",
      "496:\tlearn: 55.3441677\ttotal: 1.35s\tremaining: 1.36s\n",
      "497:\tlearn: 55.1995384\ttotal: 1.35s\tremaining: 1.36s\n",
      "498:\tlearn: 54.8980322\ttotal: 1.35s\tremaining: 1.36s\n",
      "499:\tlearn: 54.7119603\ttotal: 1.35s\tremaining: 1.35s\n",
      "500:\tlearn: 54.6236591\ttotal: 1.36s\tremaining: 1.35s\n",
      "501:\tlearn: 54.4131558\ttotal: 1.36s\tremaining: 1.35s\n",
      "502:\tlearn: 54.3901230\ttotal: 1.36s\tremaining: 1.34s\n",
      "503:\tlearn: 54.3662021\ttotal: 1.36s\tremaining: 1.34s\n",
      "504:\tlearn: 54.2068745\ttotal: 1.36s\tremaining: 1.34s\n",
      "505:\tlearn: 54.1800600\ttotal: 1.37s\tremaining: 1.33s\n",
      "506:\tlearn: 54.1376632\ttotal: 1.37s\tremaining: 1.33s\n",
      "507:\tlearn: 53.9788342\ttotal: 1.37s\tremaining: 1.33s\n",
      "508:\tlearn: 53.9294324\ttotal: 1.37s\tremaining: 1.32s\n",
      "509:\tlearn: 53.6786369\ttotal: 1.38s\tremaining: 1.32s\n",
      "510:\tlearn: 53.4578789\ttotal: 1.38s\tremaining: 1.32s\n",
      "511:\tlearn: 53.3261204\ttotal: 1.38s\tremaining: 1.32s\n",
      "512:\tlearn: 53.1331329\ttotal: 1.38s\tremaining: 1.31s\n",
      "513:\tlearn: 52.9261288\ttotal: 1.39s\tremaining: 1.31s\n",
      "514:\tlearn: 52.7447311\ttotal: 1.39s\tremaining: 1.31s\n",
      "515:\tlearn: 52.5966869\ttotal: 1.39s\tremaining: 1.3s\n",
      "516:\tlearn: 52.4130565\ttotal: 1.39s\tremaining: 1.3s\n",
      "517:\tlearn: 52.1948654\ttotal: 1.4s\tremaining: 1.3s\n",
      "518:\tlearn: 51.9463802\ttotal: 1.4s\tremaining: 1.29s\n",
      "519:\tlearn: 51.9178306\ttotal: 1.4s\tremaining: 1.29s\n",
      "520:\tlearn: 51.7246141\ttotal: 1.4s\tremaining: 1.29s\n",
      "521:\tlearn: 51.5669648\ttotal: 1.4s\tremaining: 1.28s\n",
      "522:\tlearn: 51.5221972\ttotal: 1.41s\tremaining: 1.28s\n",
      "523:\tlearn: 51.3293697\ttotal: 1.41s\tremaining: 1.28s\n",
      "524:\tlearn: 51.1767477\ttotal: 1.41s\tremaining: 1.28s\n",
      "525:\tlearn: 51.0961343\ttotal: 1.41s\tremaining: 1.27s\n",
      "526:\tlearn: 50.9995340\ttotal: 1.42s\tremaining: 1.27s\n",
      "527:\tlearn: 50.8846082\ttotal: 1.42s\tremaining: 1.27s\n",
      "528:\tlearn: 50.7478794\ttotal: 1.42s\tremaining: 1.26s\n",
      "529:\tlearn: 50.5116322\ttotal: 1.42s\tremaining: 1.26s\n",
      "530:\tlearn: 50.2760468\ttotal: 1.43s\tremaining: 1.26s\n",
      "531:\tlearn: 50.1040144\ttotal: 1.43s\tremaining: 1.26s\n",
      "532:\tlearn: 49.8827812\ttotal: 1.43s\tremaining: 1.25s\n",
      "533:\tlearn: 49.8255711\ttotal: 1.43s\tremaining: 1.25s\n",
      "534:\tlearn: 49.7890438\ttotal: 1.44s\tremaining: 1.25s\n",
      "535:\tlearn: 49.6290340\ttotal: 1.44s\tremaining: 1.24s\n",
      "536:\tlearn: 49.3965889\ttotal: 1.44s\tremaining: 1.24s\n",
      "537:\tlearn: 49.1641285\ttotal: 1.44s\tremaining: 1.24s\n",
      "538:\tlearn: 48.9654180\ttotal: 1.44s\tremaining: 1.24s\n",
      "539:\tlearn: 48.9278341\ttotal: 1.45s\tremaining: 1.23s\n",
      "540:\tlearn: 48.8457405\ttotal: 1.45s\tremaining: 1.23s\n",
      "541:\tlearn: 48.8041804\ttotal: 1.45s\tremaining: 1.23s\n",
      "542:\tlearn: 48.7179291\ttotal: 1.45s\tremaining: 1.22s\n",
      "543:\tlearn: 48.6759771\ttotal: 1.46s\tremaining: 1.22s\n",
      "544:\tlearn: 48.4792967\ttotal: 1.46s\tremaining: 1.22s\n",
      "545:\tlearn: 48.3843114\ttotal: 1.46s\tremaining: 1.21s\n",
      "546:\tlearn: 48.2453957\ttotal: 1.46s\tremaining: 1.21s\n",
      "547:\tlearn: 48.0231685\ttotal: 1.47s\tremaining: 1.21s\n",
      "548:\tlearn: 47.8612203\ttotal: 1.47s\tremaining: 1.21s\n",
      "549:\tlearn: 47.7590091\ttotal: 1.47s\tremaining: 1.2s\n",
      "550:\tlearn: 47.6561968\ttotal: 1.47s\tremaining: 1.2s\n",
      "551:\tlearn: 47.4106594\ttotal: 1.48s\tremaining: 1.2s\n",
      "552:\tlearn: 47.2194456\ttotal: 1.48s\tremaining: 1.19s\n",
      "553:\tlearn: 47.0783850\ttotal: 1.48s\tremaining: 1.19s\n",
      "554:\tlearn: 46.8215038\ttotal: 1.48s\tremaining: 1.19s\n",
      "555:\tlearn: 46.6674572\ttotal: 1.48s\tremaining: 1.19s\n",
      "556:\tlearn: 46.6418726\ttotal: 1.49s\tremaining: 1.18s\n",
      "557:\tlearn: 46.5248666\ttotal: 1.49s\tremaining: 1.18s\n",
      "558:\tlearn: 46.5061320\ttotal: 1.49s\tremaining: 1.18s\n",
      "559:\tlearn: 46.4397708\ttotal: 1.49s\tremaining: 1.17s\n",
      "560:\tlearn: 46.3904442\ttotal: 1.5s\tremaining: 1.17s\n",
      "561:\tlearn: 46.2576989\ttotal: 1.5s\tremaining: 1.17s\n",
      "562:\tlearn: 45.9568721\ttotal: 1.5s\tremaining: 1.17s\n",
      "563:\tlearn: 45.8482033\ttotal: 1.5s\tremaining: 1.16s\n",
      "564:\tlearn: 45.6689466\ttotal: 1.51s\tremaining: 1.16s\n",
      "565:\tlearn: 45.4222796\ttotal: 1.51s\tremaining: 1.16s\n",
      "566:\tlearn: 45.2404146\ttotal: 1.51s\tremaining: 1.15s\n",
      "567:\tlearn: 45.0903054\ttotal: 1.51s\tremaining: 1.15s\n",
      "568:\tlearn: 44.7991969\ttotal: 1.52s\tremaining: 1.15s\n",
      "569:\tlearn: 44.6413756\ttotal: 1.52s\tremaining: 1.15s\n",
      "570:\tlearn: 44.5799550\ttotal: 1.52s\tremaining: 1.14s\n",
      "571:\tlearn: 44.5651506\ttotal: 1.52s\tremaining: 1.14s\n",
      "572:\tlearn: 44.4233165\ttotal: 1.52s\tremaining: 1.14s\n",
      "573:\tlearn: 44.2369747\ttotal: 1.53s\tremaining: 1.13s\n",
      "574:\tlearn: 44.0545664\ttotal: 1.53s\tremaining: 1.13s\n",
      "575:\tlearn: 43.9004385\ttotal: 1.53s\tremaining: 1.13s\n",
      "576:\tlearn: 43.7138119\ttotal: 1.53s\tremaining: 1.13s\n",
      "577:\tlearn: 43.5755556\ttotal: 1.54s\tremaining: 1.12s\n",
      "578:\tlearn: 43.4934072\ttotal: 1.54s\tremaining: 1.12s\n",
      "579:\tlearn: 43.4629843\ttotal: 1.54s\tremaining: 1.12s\n",
      "580:\tlearn: 43.3825129\ttotal: 1.54s\tremaining: 1.11s\n",
      "581:\tlearn: 43.2549166\ttotal: 1.55s\tremaining: 1.11s\n",
      "582:\tlearn: 43.1514800\ttotal: 1.55s\tremaining: 1.11s\n",
      "583:\tlearn: 42.9846414\ttotal: 1.55s\tremaining: 1.1s\n",
      "584:\tlearn: 42.8538804\ttotal: 1.55s\tremaining: 1.1s\n",
      "585:\tlearn: 42.7710806\ttotal: 1.56s\tremaining: 1.1s\n",
      "586:\tlearn: 42.5351412\ttotal: 1.56s\tremaining: 1.1s\n",
      "587:\tlearn: 42.4784055\ttotal: 1.56s\tremaining: 1.09s\n",
      "588:\tlearn: 42.3174788\ttotal: 1.56s\tremaining: 1.09s\n",
      "589:\tlearn: 42.1761529\ttotal: 1.57s\tremaining: 1.09s\n",
      "590:\tlearn: 42.0486059\ttotal: 1.57s\tremaining: 1.08s\n",
      "591:\tlearn: 41.8689529\ttotal: 1.57s\tremaining: 1.08s\n",
      "592:\tlearn: 41.8306286\ttotal: 1.57s\tremaining: 1.08s\n",
      "593:\tlearn: 41.6966124\ttotal: 1.58s\tremaining: 1.08s\n",
      "594:\tlearn: 41.6647082\ttotal: 1.58s\tremaining: 1.08s\n",
      "595:\tlearn: 41.5609917\ttotal: 1.58s\tremaining: 1.07s\n",
      "596:\tlearn: 41.4632566\ttotal: 1.59s\tremaining: 1.07s\n",
      "597:\tlearn: 41.3899602\ttotal: 1.59s\tremaining: 1.07s\n",
      "598:\tlearn: 41.2152047\ttotal: 1.59s\tremaining: 1.06s\n",
      "599:\tlearn: 41.0959753\ttotal: 1.59s\tremaining: 1.06s\n",
      "600:\tlearn: 40.9815009\ttotal: 1.59s\tremaining: 1.06s\n",
      "601:\tlearn: 40.8912971\ttotal: 1.6s\tremaining: 1.06s\n",
      "602:\tlearn: 40.7881395\ttotal: 1.6s\tremaining: 1.05s\n",
      "603:\tlearn: 40.6325570\ttotal: 1.6s\tremaining: 1.05s\n",
      "604:\tlearn: 40.4083902\ttotal: 1.6s\tremaining: 1.05s\n",
      "605:\tlearn: 40.3292737\ttotal: 1.61s\tremaining: 1.04s\n",
      "606:\tlearn: 40.2629492\ttotal: 1.61s\tremaining: 1.04s\n",
      "607:\tlearn: 40.2448471\ttotal: 1.61s\tremaining: 1.04s\n",
      "608:\tlearn: 40.2293673\ttotal: 1.61s\tremaining: 1.04s\n",
      "609:\tlearn: 40.0978829\ttotal: 1.62s\tremaining: 1.03s\n",
      "610:\tlearn: 40.0512268\ttotal: 1.62s\tremaining: 1.03s\n",
      "611:\tlearn: 39.8920221\ttotal: 1.62s\tremaining: 1.03s\n",
      "612:\tlearn: 39.8591122\ttotal: 1.62s\tremaining: 1.02s\n",
      "613:\tlearn: 39.7261911\ttotal: 1.63s\tremaining: 1.02s\n",
      "614:\tlearn: 39.6986628\ttotal: 1.63s\tremaining: 1.02s\n",
      "615:\tlearn: 39.5659851\ttotal: 1.63s\tremaining: 1.02s\n",
      "616:\tlearn: 39.4815274\ttotal: 1.63s\tremaining: 1.01s\n",
      "617:\tlearn: 39.3682607\ttotal: 1.64s\tremaining: 1.01s\n",
      "618:\tlearn: 39.2643803\ttotal: 1.64s\tremaining: 1.01s\n",
      "619:\tlearn: 39.1307437\ttotal: 1.64s\tremaining: 1s\n",
      "620:\tlearn: 38.9596117\ttotal: 1.64s\tremaining: 1s\n",
      "621:\tlearn: 38.8456302\ttotal: 1.64s\tremaining: 1000ms\n",
      "622:\tlearn: 38.7810676\ttotal: 1.65s\tremaining: 997ms\n",
      "623:\tlearn: 38.7450983\ttotal: 1.65s\tremaining: 994ms\n",
      "624:\tlearn: 38.6788090\ttotal: 1.65s\tremaining: 991ms\n",
      "625:\tlearn: 38.5788475\ttotal: 1.65s\tremaining: 988ms\n",
      "626:\tlearn: 38.4675366\ttotal: 1.66s\tremaining: 985ms\n",
      "627:\tlearn: 38.2350724\ttotal: 1.66s\tremaining: 983ms\n",
      "628:\tlearn: 38.2074221\ttotal: 1.66s\tremaining: 980ms\n",
      "629:\tlearn: 38.0622880\ttotal: 1.66s\tremaining: 977ms\n",
      "630:\tlearn: 37.8520281\ttotal: 1.67s\tremaining: 974ms\n",
      "631:\tlearn: 37.6631204\ttotal: 1.67s\tremaining: 972ms\n",
      "632:\tlearn: 37.5153877\ttotal: 1.67s\tremaining: 969ms\n",
      "633:\tlearn: 37.3834892\ttotal: 1.67s\tremaining: 966ms\n",
      "634:\tlearn: 37.2552166\ttotal: 1.68s\tremaining: 963ms\n",
      "635:\tlearn: 37.0779047\ttotal: 1.68s\tremaining: 960ms\n",
      "636:\tlearn: 37.0329263\ttotal: 1.68s\tremaining: 958ms\n",
      "637:\tlearn: 36.8927982\ttotal: 1.68s\tremaining: 955ms\n",
      "638:\tlearn: 36.8105498\ttotal: 1.69s\tremaining: 952ms\n",
      "639:\tlearn: 36.7512624\ttotal: 1.69s\tremaining: 949ms\n",
      "640:\tlearn: 36.5891302\ttotal: 1.69s\tremaining: 946ms\n",
      "641:\tlearn: 36.4551656\ttotal: 1.69s\tremaining: 944ms\n",
      "642:\tlearn: 36.4318588\ttotal: 1.69s\tremaining: 941ms\n",
      "643:\tlearn: 36.4074785\ttotal: 1.7s\tremaining: 938ms\n",
      "644:\tlearn: 36.2579510\ttotal: 1.7s\tremaining: 935ms\n",
      "645:\tlearn: 36.1413504\ttotal: 1.7s\tremaining: 932ms\n",
      "646:\tlearn: 36.0078406\ttotal: 1.7s\tremaining: 930ms\n",
      "647:\tlearn: 35.8909828\ttotal: 1.71s\tremaining: 927ms\n",
      "648:\tlearn: 35.7426906\ttotal: 1.71s\tremaining: 925ms\n",
      "649:\tlearn: 35.5963108\ttotal: 1.71s\tremaining: 922ms\n",
      "650:\tlearn: 35.4623805\ttotal: 1.71s\tremaining: 919ms\n",
      "651:\tlearn: 35.4428004\ttotal: 1.72s\tremaining: 916ms\n",
      "652:\tlearn: 35.3007158\ttotal: 1.72s\tremaining: 914ms\n",
      "653:\tlearn: 35.1510309\ttotal: 1.72s\tremaining: 911ms\n",
      "654:\tlearn: 35.1258328\ttotal: 1.72s\tremaining: 909ms\n",
      "655:\tlearn: 35.0183795\ttotal: 1.73s\tremaining: 906ms\n",
      "656:\tlearn: 34.9003271\ttotal: 1.73s\tremaining: 903ms\n",
      "657:\tlearn: 34.7887445\ttotal: 1.73s\tremaining: 900ms\n",
      "658:\tlearn: 34.6253676\ttotal: 1.73s\tremaining: 897ms\n",
      "659:\tlearn: 34.5506116\ttotal: 1.74s\tremaining: 894ms\n",
      "660:\tlearn: 34.4197699\ttotal: 1.74s\tremaining: 892ms\n",
      "661:\tlearn: 34.3097495\ttotal: 1.74s\tremaining: 889ms\n",
      "662:\tlearn: 34.1572027\ttotal: 1.74s\tremaining: 886ms\n",
      "663:\tlearn: 34.1441284\ttotal: 1.75s\tremaining: 883ms\n",
      "664:\tlearn: 34.0600732\ttotal: 1.75s\tremaining: 881ms\n",
      "665:\tlearn: 34.0500587\ttotal: 1.75s\tremaining: 878ms\n",
      "666:\tlearn: 33.9193340\ttotal: 1.75s\tremaining: 875ms\n",
      "667:\tlearn: 33.7564013\ttotal: 1.75s\tremaining: 872ms\n",
      "668:\tlearn: 33.6528749\ttotal: 1.76s\tremaining: 869ms\n",
      "669:\tlearn: 33.5681199\ttotal: 1.76s\tremaining: 867ms\n",
      "670:\tlearn: 33.4451433\ttotal: 1.76s\tremaining: 864ms\n",
      "671:\tlearn: 33.3468901\ttotal: 1.76s\tremaining: 861ms\n",
      "672:\tlearn: 33.2486282\ttotal: 1.77s\tremaining: 858ms\n",
      "673:\tlearn: 33.2302888\ttotal: 1.77s\tremaining: 856ms\n",
      "674:\tlearn: 33.0558859\ttotal: 1.77s\tremaining: 853ms\n",
      "675:\tlearn: 32.9700344\ttotal: 1.77s\tremaining: 850ms\n",
      "676:\tlearn: 32.8501642\ttotal: 1.78s\tremaining: 847ms\n",
      "677:\tlearn: 32.7340426\ttotal: 1.78s\tremaining: 845ms\n",
      "678:\tlearn: 32.7121017\ttotal: 1.78s\tremaining: 842ms\n",
      "679:\tlearn: 32.6200569\ttotal: 1.78s\tremaining: 839ms\n",
      "680:\tlearn: 32.5052371\ttotal: 1.78s\tremaining: 836ms\n",
      "681:\tlearn: 32.3916969\ttotal: 1.79s\tremaining: 834ms\n",
      "682:\tlearn: 32.2925704\ttotal: 1.79s\tremaining: 831ms\n",
      "683:\tlearn: 32.1901836\ttotal: 1.79s\tremaining: 828ms\n",
      "684:\tlearn: 32.1810795\ttotal: 1.79s\tremaining: 825ms\n",
      "685:\tlearn: 32.0538798\ttotal: 1.8s\tremaining: 823ms\n",
      "686:\tlearn: 31.9695880\ttotal: 1.8s\tremaining: 820ms\n",
      "687:\tlearn: 31.8186240\ttotal: 1.8s\tremaining: 817ms\n",
      "688:\tlearn: 31.7717776\ttotal: 1.8s\tremaining: 814ms\n",
      "689:\tlearn: 31.6271069\ttotal: 1.81s\tremaining: 812ms\n",
      "690:\tlearn: 31.4257754\ttotal: 1.81s\tremaining: 809ms\n",
      "691:\tlearn: 31.3158018\ttotal: 1.81s\tremaining: 806ms\n",
      "692:\tlearn: 31.2062456\ttotal: 1.81s\tremaining: 803ms\n",
      "693:\tlearn: 31.1002943\ttotal: 1.81s\tremaining: 800ms\n",
      "694:\tlearn: 31.0204694\ttotal: 1.82s\tremaining: 798ms\n",
      "695:\tlearn: 30.8638326\ttotal: 1.82s\tremaining: 795ms\n",
      "696:\tlearn: 30.8558418\ttotal: 1.82s\tremaining: 792ms\n",
      "697:\tlearn: 30.7168233\ttotal: 1.82s\tremaining: 789ms\n",
      "698:\tlearn: 30.6741149\ttotal: 1.83s\tremaining: 787ms\n",
      "699:\tlearn: 30.5633505\ttotal: 1.83s\tremaining: 784ms\n",
      "700:\tlearn: 30.3980151\ttotal: 1.83s\tremaining: 781ms\n",
      "701:\tlearn: 30.3868882\ttotal: 1.83s\tremaining: 778ms\n",
      "702:\tlearn: 30.3095110\ttotal: 1.83s\tremaining: 776ms\n",
      "703:\tlearn: 30.2001626\ttotal: 1.84s\tremaining: 773ms\n",
      "704:\tlearn: 30.1086639\ttotal: 1.84s\tremaining: 770ms\n",
      "705:\tlearn: 30.0062050\ttotal: 1.84s\tremaining: 767ms\n",
      "706:\tlearn: 29.9366332\ttotal: 1.84s\tremaining: 765ms\n",
      "707:\tlearn: 29.8514157\ttotal: 1.85s\tremaining: 762ms\n",
      "708:\tlearn: 29.8410197\ttotal: 1.85s\tremaining: 759ms\n",
      "709:\tlearn: 29.7691296\ttotal: 1.85s\tremaining: 756ms\n",
      "710:\tlearn: 29.6347315\ttotal: 1.85s\tremaining: 754ms\n",
      "711:\tlearn: 29.5690771\ttotal: 1.86s\tremaining: 751ms\n",
      "712:\tlearn: 29.4717613\ttotal: 1.86s\tremaining: 748ms\n",
      "713:\tlearn: 29.3453955\ttotal: 1.86s\tremaining: 745ms\n",
      "714:\tlearn: 29.3183996\ttotal: 1.86s\tremaining: 743ms\n",
      "715:\tlearn: 29.2357029\ttotal: 1.86s\tremaining: 740ms\n",
      "716:\tlearn: 29.1493484\ttotal: 1.87s\tremaining: 737ms\n",
      "717:\tlearn: 29.1412750\ttotal: 1.87s\tremaining: 734ms\n",
      "718:\tlearn: 29.0633640\ttotal: 1.87s\tremaining: 732ms\n",
      "719:\tlearn: 29.0063752\ttotal: 1.88s\tremaining: 730ms\n",
      "720:\tlearn: 28.8895697\ttotal: 1.88s\tremaining: 728ms\n",
      "721:\tlearn: 28.8127439\ttotal: 1.88s\tremaining: 725ms\n",
      "722:\tlearn: 28.7979935\ttotal: 1.89s\tremaining: 723ms\n",
      "723:\tlearn: 28.7730564\ttotal: 1.89s\tremaining: 720ms\n",
      "724:\tlearn: 28.6841951\ttotal: 1.89s\tremaining: 717ms\n",
      "725:\tlearn: 28.6192690\ttotal: 1.89s\tremaining: 714ms\n",
      "726:\tlearn: 28.5382100\ttotal: 1.89s\tremaining: 712ms\n",
      "727:\tlearn: 28.4124604\ttotal: 1.9s\tremaining: 709ms\n",
      "728:\tlearn: 28.3992354\ttotal: 1.9s\tremaining: 706ms\n",
      "729:\tlearn: 28.2458739\ttotal: 1.9s\tremaining: 704ms\n",
      "730:\tlearn: 28.1698858\ttotal: 1.91s\tremaining: 701ms\n",
      "731:\tlearn: 28.0857240\ttotal: 1.91s\tremaining: 698ms\n",
      "732:\tlearn: 28.0631865\ttotal: 1.91s\tremaining: 696ms\n",
      "733:\tlearn: 27.9617138\ttotal: 1.91s\tremaining: 693ms\n",
      "734:\tlearn: 27.9296040\ttotal: 1.91s\tremaining: 690ms\n",
      "735:\tlearn: 27.8714544\ttotal: 1.92s\tremaining: 687ms\n",
      "736:\tlearn: 27.8468105\ttotal: 1.92s\tremaining: 684ms\n",
      "737:\tlearn: 27.7605180\ttotal: 1.92s\tremaining: 682ms\n",
      "738:\tlearn: 27.6731250\ttotal: 1.92s\tremaining: 679ms\n",
      "739:\tlearn: 27.6662586\ttotal: 1.92s\tremaining: 676ms\n",
      "740:\tlearn: 27.6319100\ttotal: 1.93s\tremaining: 673ms\n",
      "741:\tlearn: 27.5465757\ttotal: 1.93s\tremaining: 670ms\n",
      "742:\tlearn: 27.4710735\ttotal: 1.93s\tremaining: 668ms\n",
      "743:\tlearn: 27.4510659\ttotal: 1.93s\tremaining: 665ms\n",
      "744:\tlearn: 27.3748617\ttotal: 1.93s\tremaining: 662ms\n",
      "745:\tlearn: 27.3633452\ttotal: 1.94s\tremaining: 660ms\n",
      "746:\tlearn: 27.2959571\ttotal: 1.94s\tremaining: 657ms\n",
      "747:\tlearn: 27.1315947\ttotal: 1.94s\tremaining: 654ms\n",
      "748:\tlearn: 27.0550248\ttotal: 1.94s\tremaining: 652ms\n",
      "749:\tlearn: 27.0373435\ttotal: 1.95s\tremaining: 649ms\n",
      "750:\tlearn: 26.9726665\ttotal: 1.95s\tremaining: 646ms\n",
      "751:\tlearn: 26.9145554\ttotal: 1.95s\tremaining: 644ms\n",
      "752:\tlearn: 26.8976495\ttotal: 1.95s\tremaining: 641ms\n",
      "753:\tlearn: 26.8013163\ttotal: 1.96s\tremaining: 638ms\n",
      "754:\tlearn: 26.7203712\ttotal: 1.96s\tremaining: 636ms\n",
      "755:\tlearn: 26.5829005\ttotal: 1.96s\tremaining: 633ms\n",
      "756:\tlearn: 26.4324310\ttotal: 1.96s\tremaining: 630ms\n",
      "757:\tlearn: 26.2890218\ttotal: 1.97s\tremaining: 628ms\n",
      "758:\tlearn: 26.1965245\ttotal: 1.97s\tremaining: 625ms\n",
      "759:\tlearn: 26.1810870\ttotal: 1.97s\tremaining: 622ms\n",
      "760:\tlearn: 26.1187072\ttotal: 1.97s\tremaining: 620ms\n",
      "761:\tlearn: 26.0637705\ttotal: 1.98s\tremaining: 617ms\n",
      "762:\tlearn: 25.9562461\ttotal: 1.98s\tremaining: 614ms\n",
      "763:\tlearn: 25.8386943\ttotal: 1.98s\tremaining: 612ms\n",
      "764:\tlearn: 25.7790725\ttotal: 1.98s\tremaining: 609ms\n",
      "765:\tlearn: 25.6701106\ttotal: 1.99s\tremaining: 606ms\n",
      "766:\tlearn: 25.6362119\ttotal: 1.99s\tremaining: 604ms\n",
      "767:\tlearn: 25.6252040\ttotal: 1.99s\tremaining: 601ms\n",
      "768:\tlearn: 25.5249470\ttotal: 1.99s\tremaining: 598ms\n",
      "769:\tlearn: 25.4610308\ttotal: 1.99s\tremaining: 596ms\n",
      "770:\tlearn: 25.3338917\ttotal: 2s\tremaining: 593ms\n",
      "771:\tlearn: 25.2081591\ttotal: 2s\tremaining: 590ms\n",
      "772:\tlearn: 25.1976317\ttotal: 2s\tremaining: 588ms\n",
      "773:\tlearn: 25.1309682\ttotal: 2s\tremaining: 585ms\n",
      "774:\tlearn: 25.0198547\ttotal: 2.01s\tremaining: 582ms\n",
      "775:\tlearn: 24.9490229\ttotal: 2.01s\tremaining: 580ms\n",
      "776:\tlearn: 24.9028200\ttotal: 2.01s\tremaining: 577ms\n",
      "777:\tlearn: 24.8337886\ttotal: 2.01s\tremaining: 575ms\n",
      "778:\tlearn: 24.7433955\ttotal: 2.02s\tremaining: 572ms\n",
      "779:\tlearn: 24.6167855\ttotal: 2.02s\tremaining: 569ms\n",
      "780:\tlearn: 24.5516424\ttotal: 2.02s\tremaining: 567ms\n",
      "781:\tlearn: 24.3925316\ttotal: 2.02s\tremaining: 564ms\n",
      "782:\tlearn: 24.3473598\ttotal: 2.02s\tremaining: 561ms\n",
      "783:\tlearn: 24.2382596\ttotal: 2.03s\tremaining: 559ms\n",
      "784:\tlearn: 24.1741117\ttotal: 2.03s\tremaining: 556ms\n",
      "785:\tlearn: 24.1282632\ttotal: 2.03s\tremaining: 554ms\n",
      "786:\tlearn: 24.1150038\ttotal: 2.04s\tremaining: 551ms\n",
      "787:\tlearn: 24.0552315\ttotal: 2.04s\tremaining: 548ms\n",
      "788:\tlearn: 24.0020307\ttotal: 2.04s\tremaining: 546ms\n",
      "789:\tlearn: 23.9582172\ttotal: 2.04s\tremaining: 543ms\n",
      "790:\tlearn: 23.9466945\ttotal: 2.04s\tremaining: 540ms\n",
      "791:\tlearn: 23.9012494\ttotal: 2.05s\tremaining: 538ms\n",
      "792:\tlearn: 23.8902062\ttotal: 2.05s\tremaining: 535ms\n",
      "793:\tlearn: 23.8375677\ttotal: 2.05s\tremaining: 533ms\n",
      "794:\tlearn: 23.8275049\ttotal: 2.06s\tremaining: 530ms\n",
      "795:\tlearn: 23.7639978\ttotal: 2.06s\tremaining: 527ms\n",
      "796:\tlearn: 23.7210385\ttotal: 2.06s\tremaining: 525ms\n",
      "797:\tlearn: 23.7118867\ttotal: 2.06s\tremaining: 522ms\n",
      "798:\tlearn: 23.6210770\ttotal: 2.06s\tremaining: 520ms\n",
      "799:\tlearn: 23.5667973\ttotal: 2.07s\tremaining: 517ms\n",
      "800:\tlearn: 23.5093551\ttotal: 2.07s\tremaining: 514ms\n",
      "801:\tlearn: 23.4248240\ttotal: 2.07s\tremaining: 512ms\n",
      "802:\tlearn: 23.3851975\ttotal: 2.07s\tremaining: 509ms\n",
      "803:\tlearn: 23.2576151\ttotal: 2.08s\tremaining: 506ms\n",
      "804:\tlearn: 23.1403284\ttotal: 2.08s\tremaining: 504ms\n",
      "805:\tlearn: 23.0861220\ttotal: 2.08s\tremaining: 501ms\n",
      "806:\tlearn: 23.0179965\ttotal: 2.08s\tremaining: 498ms\n",
      "807:\tlearn: 22.9499510\ttotal: 2.09s\tremaining: 496ms\n",
      "808:\tlearn: 22.9093322\ttotal: 2.09s\tremaining: 493ms\n",
      "809:\tlearn: 22.8749288\ttotal: 2.09s\tremaining: 491ms\n",
      "810:\tlearn: 22.8082947\ttotal: 2.09s\tremaining: 488ms\n",
      "811:\tlearn: 22.7734708\ttotal: 2.1s\tremaining: 485ms\n",
      "812:\tlearn: 22.6526692\ttotal: 2.1s\tremaining: 483ms\n",
      "813:\tlearn: 22.5530242\ttotal: 2.1s\tremaining: 480ms\n",
      "814:\tlearn: 22.4717488\ttotal: 2.1s\tremaining: 478ms\n",
      "815:\tlearn: 22.4620780\ttotal: 2.11s\tremaining: 475ms\n",
      "816:\tlearn: 22.4023061\ttotal: 2.11s\tremaining: 472ms\n",
      "817:\tlearn: 22.3578971\ttotal: 2.11s\tremaining: 470ms\n",
      "818:\tlearn: 22.3087689\ttotal: 2.11s\tremaining: 467ms\n",
      "819:\tlearn: 22.3046658\ttotal: 2.12s\tremaining: 464ms\n",
      "820:\tlearn: 22.2330663\ttotal: 2.12s\tremaining: 462ms\n",
      "821:\tlearn: 22.1591095\ttotal: 2.12s\tremaining: 459ms\n",
      "822:\tlearn: 22.1550239\ttotal: 2.12s\tremaining: 456ms\n",
      "823:\tlearn: 22.1463899\ttotal: 2.12s\tremaining: 453ms\n",
      "824:\tlearn: 22.1315815\ttotal: 2.13s\tremaining: 451ms\n",
      "825:\tlearn: 22.0652590\ttotal: 2.13s\tremaining: 448ms\n",
      "826:\tlearn: 22.0221121\ttotal: 2.13s\tremaining: 446ms\n",
      "827:\tlearn: 21.9774501\ttotal: 2.13s\tremaining: 443ms\n",
      "828:\tlearn: 21.9395292\ttotal: 2.13s\tremaining: 440ms\n",
      "829:\tlearn: 21.8508549\ttotal: 2.14s\tremaining: 438ms\n",
      "830:\tlearn: 21.8190935\ttotal: 2.14s\tremaining: 435ms\n",
      "831:\tlearn: 21.8109670\ttotal: 2.14s\tremaining: 433ms\n",
      "832:\tlearn: 21.7578310\ttotal: 2.14s\tremaining: 430ms\n",
      "833:\tlearn: 21.6862934\ttotal: 2.15s\tremaining: 427ms\n",
      "834:\tlearn: 21.6036840\ttotal: 2.15s\tremaining: 425ms\n",
      "835:\tlearn: 21.5099448\ttotal: 2.15s\tremaining: 422ms\n",
      "836:\tlearn: 21.4677400\ttotal: 2.15s\tremaining: 419ms\n",
      "837:\tlearn: 21.4091690\ttotal: 2.15s\tremaining: 417ms\n",
      "838:\tlearn: 21.3466938\ttotal: 2.16s\tremaining: 414ms\n",
      "839:\tlearn: 21.2298144\ttotal: 2.16s\tremaining: 411ms\n",
      "840:\tlearn: 21.1270373\ttotal: 2.16s\tremaining: 409ms\n",
      "841:\tlearn: 21.0373314\ttotal: 2.17s\tremaining: 407ms\n",
      "842:\tlearn: 20.9835159\ttotal: 2.17s\tremaining: 404ms\n",
      "843:\tlearn: 20.8484600\ttotal: 2.17s\tremaining: 402ms\n",
      "844:\tlearn: 20.7891557\ttotal: 2.18s\tremaining: 399ms\n",
      "845:\tlearn: 20.7291399\ttotal: 2.18s\tremaining: 397ms\n",
      "846:\tlearn: 20.6849494\ttotal: 2.18s\tremaining: 394ms\n",
      "847:\tlearn: 20.6154963\ttotal: 2.18s\tremaining: 392ms\n",
      "848:\tlearn: 20.5405276\ttotal: 2.19s\tremaining: 389ms\n",
      "849:\tlearn: 20.5016669\ttotal: 2.19s\tremaining: 387ms\n",
      "850:\tlearn: 20.4700003\ttotal: 2.19s\tremaining: 384ms\n",
      "851:\tlearn: 20.4163286\ttotal: 2.19s\tremaining: 381ms\n",
      "852:\tlearn: 20.3832418\ttotal: 2.2s\tremaining: 379ms\n",
      "853:\tlearn: 20.3012184\ttotal: 2.2s\tremaining: 376ms\n",
      "854:\tlearn: 20.2920333\ttotal: 2.2s\tremaining: 373ms\n",
      "855:\tlearn: 20.2053869\ttotal: 2.2s\tremaining: 371ms\n",
      "856:\tlearn: 20.1658977\ttotal: 2.21s\tremaining: 368ms\n",
      "857:\tlearn: 20.1100216\ttotal: 2.21s\tremaining: 366ms\n",
      "858:\tlearn: 20.0083729\ttotal: 2.21s\tremaining: 363ms\n",
      "859:\tlearn: 19.9455311\ttotal: 2.21s\tremaining: 360ms\n",
      "860:\tlearn: 19.8796059\ttotal: 2.21s\tremaining: 358ms\n",
      "861:\tlearn: 19.8565398\ttotal: 2.22s\tremaining: 355ms\n",
      "862:\tlearn: 19.7320152\ttotal: 2.22s\tremaining: 352ms\n",
      "863:\tlearn: 19.6553629\ttotal: 2.22s\tremaining: 350ms\n",
      "864:\tlearn: 19.5653904\ttotal: 2.23s\tremaining: 347ms\n",
      "865:\tlearn: 19.5044019\ttotal: 2.23s\tremaining: 345ms\n",
      "866:\tlearn: 19.4952821\ttotal: 2.23s\tremaining: 342ms\n",
      "867:\tlearn: 19.4417196\ttotal: 2.23s\tremaining: 340ms\n",
      "868:\tlearn: 19.3928280\ttotal: 2.23s\tremaining: 337ms\n",
      "869:\tlearn: 19.3310543\ttotal: 2.24s\tremaining: 334ms\n",
      "870:\tlearn: 19.2860856\ttotal: 2.24s\tremaining: 332ms\n",
      "871:\tlearn: 19.1689820\ttotal: 2.24s\tremaining: 329ms\n",
      "872:\tlearn: 19.0656586\ttotal: 2.24s\tremaining: 326ms\n",
      "873:\tlearn: 19.0585347\ttotal: 2.25s\tremaining: 324ms\n",
      "874:\tlearn: 19.0124418\ttotal: 2.25s\tremaining: 321ms\n",
      "875:\tlearn: 18.9798186\ttotal: 2.25s\tremaining: 319ms\n",
      "876:\tlearn: 18.8896499\ttotal: 2.25s\tremaining: 316ms\n",
      "877:\tlearn: 18.8379639\ttotal: 2.25s\tremaining: 313ms\n",
      "878:\tlearn: 18.8312106\ttotal: 2.26s\tremaining: 311ms\n",
      "879:\tlearn: 18.7718969\ttotal: 2.26s\tremaining: 308ms\n",
      "880:\tlearn: 18.7453473\ttotal: 2.26s\tremaining: 306ms\n",
      "881:\tlearn: 18.6851317\ttotal: 2.26s\tremaining: 303ms\n",
      "882:\tlearn: 18.5988650\ttotal: 2.27s\tremaining: 300ms\n",
      "883:\tlearn: 18.5525116\ttotal: 2.27s\tremaining: 298ms\n",
      "884:\tlearn: 18.4964362\ttotal: 2.27s\tremaining: 295ms\n",
      "885:\tlearn: 18.4542378\ttotal: 2.27s\tremaining: 293ms\n",
      "886:\tlearn: 18.4053368\ttotal: 2.28s\tremaining: 290ms\n",
      "887:\tlearn: 18.3676513\ttotal: 2.28s\tremaining: 287ms\n",
      "888:\tlearn: 18.3048839\ttotal: 2.28s\tremaining: 285ms\n",
      "889:\tlearn: 18.2501678\ttotal: 2.28s\tremaining: 282ms\n",
      "890:\tlearn: 18.2421410\ttotal: 2.29s\tremaining: 280ms\n",
      "891:\tlearn: 18.1820355\ttotal: 2.29s\tremaining: 277ms\n",
      "892:\tlearn: 18.1045997\ttotal: 2.29s\tremaining: 275ms\n",
      "893:\tlearn: 18.0516539\ttotal: 2.29s\tremaining: 272ms\n",
      "894:\tlearn: 17.9507407\ttotal: 2.3s\tremaining: 269ms\n",
      "895:\tlearn: 17.8656394\ttotal: 2.3s\tremaining: 267ms\n",
      "896:\tlearn: 17.8130004\ttotal: 2.3s\tremaining: 264ms\n",
      "897:\tlearn: 17.8056685\ttotal: 2.3s\tremaining: 262ms\n",
      "898:\tlearn: 17.7479301\ttotal: 2.31s\tremaining: 259ms\n",
      "899:\tlearn: 17.6628775\ttotal: 2.31s\tremaining: 257ms\n",
      "900:\tlearn: 17.6036263\ttotal: 2.31s\tremaining: 254ms\n",
      "901:\tlearn: 17.5548725\ttotal: 2.32s\tremaining: 252ms\n",
      "902:\tlearn: 17.5112982\ttotal: 2.32s\tremaining: 249ms\n",
      "903:\tlearn: 17.4337097\ttotal: 2.32s\tremaining: 247ms\n",
      "904:\tlearn: 17.3438812\ttotal: 2.32s\tremaining: 244ms\n",
      "905:\tlearn: 17.2978952\ttotal: 2.33s\tremaining: 242ms\n",
      "906:\tlearn: 17.2705120\ttotal: 2.33s\tremaining: 239ms\n",
      "907:\tlearn: 17.2197843\ttotal: 2.33s\tremaining: 237ms\n",
      "908:\tlearn: 17.1672918\ttotal: 2.34s\tremaining: 234ms\n",
      "909:\tlearn: 17.0962813\ttotal: 2.34s\tremaining: 231ms\n",
      "910:\tlearn: 17.0367884\ttotal: 2.34s\tremaining: 229ms\n",
      "911:\tlearn: 16.9995434\ttotal: 2.35s\tremaining: 226ms\n",
      "912:\tlearn: 16.9503108\ttotal: 2.35s\tremaining: 224ms\n",
      "913:\tlearn: 16.8634821\ttotal: 2.35s\tremaining: 221ms\n",
      "914:\tlearn: 16.8562342\ttotal: 2.35s\tremaining: 219ms\n",
      "915:\tlearn: 16.8266675\ttotal: 2.36s\tremaining: 216ms\n",
      "916:\tlearn: 16.8202756\ttotal: 2.36s\tremaining: 214ms\n",
      "917:\tlearn: 16.8140117\ttotal: 2.36s\tremaining: 211ms\n",
      "918:\tlearn: 16.7657793\ttotal: 2.36s\tremaining: 208ms\n",
      "919:\tlearn: 16.7455489\ttotal: 2.37s\tremaining: 206ms\n",
      "920:\tlearn: 16.7350234\ttotal: 2.37s\tremaining: 203ms\n",
      "921:\tlearn: 16.6764784\ttotal: 2.37s\tremaining: 201ms\n",
      "922:\tlearn: 16.6413683\ttotal: 2.37s\tremaining: 198ms\n",
      "923:\tlearn: 16.6313216\ttotal: 2.38s\tremaining: 196ms\n",
      "924:\tlearn: 16.5737890\ttotal: 2.38s\tremaining: 193ms\n",
      "925:\tlearn: 16.5612564\ttotal: 2.38s\tremaining: 190ms\n",
      "926:\tlearn: 16.5194103\ttotal: 2.38s\tremaining: 188ms\n",
      "927:\tlearn: 16.4774875\ttotal: 2.39s\tremaining: 185ms\n",
      "928:\tlearn: 16.4716862\ttotal: 2.39s\tremaining: 183ms\n",
      "929:\tlearn: 16.4373752\ttotal: 2.39s\tremaining: 180ms\n",
      "930:\tlearn: 16.4285377\ttotal: 2.4s\tremaining: 178ms\n",
      "931:\tlearn: 16.3673869\ttotal: 2.4s\tremaining: 175ms\n",
      "932:\tlearn: 16.3185470\ttotal: 2.4s\tremaining: 173ms\n",
      "933:\tlearn: 16.2631467\ttotal: 2.4s\tremaining: 170ms\n",
      "934:\tlearn: 16.1934975\ttotal: 2.41s\tremaining: 167ms\n",
      "935:\tlearn: 16.1884481\ttotal: 2.41s\tremaining: 165ms\n",
      "936:\tlearn: 16.1500024\ttotal: 2.41s\tremaining: 162ms\n",
      "937:\tlearn: 16.1409804\ttotal: 2.42s\tremaining: 160ms\n",
      "938:\tlearn: 16.0683587\ttotal: 2.42s\tremaining: 157ms\n",
      "939:\tlearn: 15.9809030\ttotal: 2.42s\tremaining: 154ms\n",
      "940:\tlearn: 15.8978202\ttotal: 2.42s\tremaining: 152ms\n",
      "941:\tlearn: 15.8709900\ttotal: 2.43s\tremaining: 149ms\n",
      "942:\tlearn: 15.8344018\ttotal: 2.43s\tremaining: 147ms\n",
      "943:\tlearn: 15.8295482\ttotal: 2.43s\tremaining: 144ms\n",
      "944:\tlearn: 15.7744973\ttotal: 2.43s\tremaining: 142ms\n",
      "945:\tlearn: 15.7305450\ttotal: 2.44s\tremaining: 139ms\n",
      "946:\tlearn: 15.6857434\ttotal: 2.44s\tremaining: 137ms\n",
      "947:\tlearn: 15.6591016\ttotal: 2.44s\tremaining: 134ms\n",
      "948:\tlearn: 15.6314256\ttotal: 2.44s\tremaining: 131ms\n",
      "949:\tlearn: 15.5788777\ttotal: 2.45s\tremaining: 129ms\n",
      "950:\tlearn: 15.5325554\ttotal: 2.45s\tremaining: 126ms\n",
      "951:\tlearn: 15.4890930\ttotal: 2.45s\tremaining: 124ms\n",
      "952:\tlearn: 15.4263779\ttotal: 2.46s\tremaining: 121ms\n",
      "953:\tlearn: 15.3892307\ttotal: 2.46s\tremaining: 119ms\n",
      "954:\tlearn: 15.3531641\ttotal: 2.46s\tremaining: 116ms\n",
      "955:\tlearn: 15.3172544\ttotal: 2.46s\tremaining: 113ms\n",
      "956:\tlearn: 15.2722481\ttotal: 2.47s\tremaining: 111ms\n",
      "957:\tlearn: 15.2509946\ttotal: 2.47s\tremaining: 108ms\n",
      "958:\tlearn: 15.2106080\ttotal: 2.47s\tremaining: 106ms\n",
      "959:\tlearn: 15.1550705\ttotal: 2.48s\tremaining: 103ms\n",
      "960:\tlearn: 15.1198927\ttotal: 2.48s\tremaining: 101ms\n",
      "961:\tlearn: 15.0521121\ttotal: 2.48s\tremaining: 98.1ms\n",
      "962:\tlearn: 15.0138282\ttotal: 2.48s\tremaining: 95.5ms\n",
      "963:\tlearn: 14.9511473\ttotal: 2.49s\tremaining: 92.9ms\n",
      "964:\tlearn: 14.9013556\ttotal: 2.49s\tremaining: 90.3ms\n",
      "965:\tlearn: 14.8491591\ttotal: 2.49s\tremaining: 87.7ms\n",
      "966:\tlearn: 14.7846364\ttotal: 2.5s\tremaining: 85.2ms\n",
      "967:\tlearn: 14.7378076\ttotal: 2.5s\tremaining: 82.6ms\n",
      "968:\tlearn: 14.6963646\ttotal: 2.5s\tremaining: 80.1ms\n",
      "969:\tlearn: 14.6368320\ttotal: 2.5s\tremaining: 77.5ms\n",
      "970:\tlearn: 14.5641432\ttotal: 2.51s\tremaining: 74.9ms\n",
      "971:\tlearn: 14.5009366\ttotal: 2.51s\tremaining: 72.3ms\n",
      "972:\tlearn: 14.4934257\ttotal: 2.51s\tremaining: 69.8ms\n",
      "973:\tlearn: 14.4521224\ttotal: 2.52s\tremaining: 67.2ms\n",
      "974:\tlearn: 14.4111253\ttotal: 2.52s\tremaining: 64.6ms\n",
      "975:\tlearn: 14.3698632\ttotal: 2.52s\tremaining: 62ms\n",
      "976:\tlearn: 14.3591191\ttotal: 2.52s\tremaining: 59.5ms\n",
      "977:\tlearn: 14.3269189\ttotal: 2.53s\tremaining: 56.9ms\n",
      "978:\tlearn: 14.2789397\ttotal: 2.53s\tremaining: 54.3ms\n",
      "979:\tlearn: 14.2216384\ttotal: 2.53s\tremaining: 51.7ms\n",
      "980:\tlearn: 14.1751644\ttotal: 2.54s\tremaining: 49.1ms\n",
      "981:\tlearn: 14.1256092\ttotal: 2.54s\tremaining: 46.5ms\n",
      "982:\tlearn: 14.0731502\ttotal: 2.54s\tremaining: 44ms\n",
      "983:\tlearn: 14.0117995\ttotal: 2.54s\tremaining: 41.4ms\n",
      "984:\tlearn: 13.9841830\ttotal: 2.55s\tremaining: 38.8ms\n",
      "985:\tlearn: 13.9230955\ttotal: 2.55s\tremaining: 36.2ms\n",
      "986:\tlearn: 13.8746811\ttotal: 2.55s\tremaining: 33.6ms\n",
      "987:\tlearn: 13.8092980\ttotal: 2.55s\tremaining: 31ms\n",
      "988:\tlearn: 13.7921958\ttotal: 2.56s\tremaining: 28.4ms\n",
      "989:\tlearn: 13.7424480\ttotal: 2.56s\tremaining: 25.8ms\n",
      "990:\tlearn: 13.6967360\ttotal: 2.56s\tremaining: 23.3ms\n",
      "991:\tlearn: 13.6709582\ttotal: 2.56s\tremaining: 20.7ms\n",
      "992:\tlearn: 13.6094706\ttotal: 2.57s\tremaining: 18.1ms\n",
      "993:\tlearn: 13.5641205\ttotal: 2.57s\tremaining: 15.5ms\n",
      "994:\tlearn: 13.5192775\ttotal: 2.57s\tremaining: 12.9ms\n",
      "995:\tlearn: 13.4902451\ttotal: 2.57s\tremaining: 10.3ms\n",
      "996:\tlearn: 13.4806052\ttotal: 2.58s\tremaining: 7.77ms\n",
      "997:\tlearn: 13.4282445\ttotal: 2.58s\tremaining: 5.18ms\n",
      "998:\tlearn: 13.4020177\ttotal: 2.59s\tremaining: 2.59ms\n",
      "999:\tlearn: 13.3781902\ttotal: 2.59s\tremaining: 0us\n"
     ]
    }
   ],
   "source": [
    "catb=CatBoostRegressor()\n",
    "catb_model=catb.fit(X_train,y_train)"
   ]
  },
  {
   "cell_type": "markdown",
   "metadata": {},
   "source": [
    "# CatBoost - TAHMİN"
   ]
  },
  {
   "cell_type": "code",
   "execution_count": 66,
   "metadata": {},
   "outputs": [
    {
     "data": {
      "text/plain": [
       "350.2683163098795"
      ]
     },
     "execution_count": 66,
     "metadata": {},
     "output_type": "execute_result"
    }
   ],
   "source": [
    "y_pred=catb_model.predict(X_test)\n",
    "np.sqrt(mean_squared_error(y_test,y_pred))"
   ]
  },
  {
   "cell_type": "markdown",
   "metadata": {},
   "source": [
    "# CatBoost - MODEL TUNİNG"
   ]
  },
  {
   "cell_type": "code",
   "execution_count": 67,
   "metadata": {},
   "outputs": [],
   "source": [
    "catb_params={'iterations':[200,500,1000,2000],\n",
    "            'learning_rate':[0.01,0.03,0.05,0.1],\n",
    "            'depth':[3,4,5,6,7,8]}\n",
    "\n"
   ]
  },
  {
   "cell_type": "code",
   "execution_count": 69,
   "metadata": {},
   "outputs": [],
   "source": [
    "catb=CatBoostRegressor()\n",
    "\n",
    "catb_cv_model=GridSearchCV(catb,catb_params,cv=10,n_jobs=-1,verbose=2)"
   ]
  },
  {
   "cell_type": "code",
   "execution_count": 70,
   "metadata": {
    "collapsed": true,
    "jupyter": {
     "outputs_hidden": true
    }
   },
   "outputs": [
    {
     "name": "stdout",
     "output_type": "stream",
     "text": [
      "Fitting 10 folds for each of 96 candidates, totalling 960 fits\n"
     ]
    },
    {
     "name": "stderr",
     "output_type": "stream",
     "text": [
      "[Parallel(n_jobs=-1)]: Using backend LokyBackend with 4 concurrent workers.\n",
      "[Parallel(n_jobs=-1)]: Done  33 tasks      | elapsed:   13.6s\n",
      "[Parallel(n_jobs=-1)]: Done 154 tasks      | elapsed:  2.1min\n",
      "[Parallel(n_jobs=-1)]: Done 357 tasks      | elapsed:  5.4min\n",
      "[Parallel(n_jobs=-1)]: Done 640 tasks      | elapsed: 14.7min\n",
      "[Parallel(n_jobs=-1)]: Done 960 out of 960 | elapsed: 40.5min finished\n",
      "C:\\Users\\aayse\\AppData\\Local\\Continuum\\anaconda3\\lib\\site-packages\\sklearn\\model_selection\\_search.py:814: DeprecationWarning: The default of the `iid` parameter will change from True to False in version 0.22 and will be removed in 0.24. This will change numeric results when test-set sizes are unequal.\n",
      "  DeprecationWarning)\n"
     ]
    },
    {
     "name": "stdout",
     "output_type": "stream",
     "text": [
      "0:\tlearn: 425.7900818\ttotal: 1.3ms\tremaining: 260ms\n",
      "1:\tlearn: 404.8723520\ttotal: 2.29ms\tremaining: 227ms\n",
      "2:\tlearn: 387.4057666\ttotal: 3.34ms\tremaining: 219ms\n",
      "3:\tlearn: 372.2801584\ttotal: 4.37ms\tremaining: 214ms\n",
      "4:\tlearn: 358.9204229\ttotal: 5.28ms\tremaining: 206ms\n",
      "5:\tlearn: 347.0083933\ttotal: 6.24ms\tremaining: 202ms\n",
      "6:\tlearn: 336.0130818\ttotal: 7.3ms\tremaining: 201ms\n",
      "7:\tlearn: 324.3923300\ttotal: 8.36ms\tremaining: 201ms\n",
      "8:\tlearn: 314.8690957\ttotal: 9.37ms\tremaining: 199ms\n",
      "9:\tlearn: 308.5075563\ttotal: 10.3ms\tremaining: 197ms\n",
      "10:\tlearn: 298.8587285\ttotal: 11.2ms\tremaining: 193ms\n",
      "11:\tlearn: 294.7655438\ttotal: 12.2ms\tremaining: 191ms\n",
      "12:\tlearn: 288.0697862\ttotal: 13ms\tremaining: 187ms\n",
      "13:\tlearn: 282.6697154\ttotal: 13.9ms\tremaining: 184ms\n",
      "14:\tlearn: 277.6121667\ttotal: 14.7ms\tremaining: 182ms\n",
      "15:\tlearn: 273.4383979\ttotal: 15.6ms\tremaining: 179ms\n",
      "16:\tlearn: 269.1556201\ttotal: 16.4ms\tremaining: 177ms\n",
      "17:\tlearn: 264.8098704\ttotal: 17.3ms\tremaining: 175ms\n",
      "18:\tlearn: 261.6700768\ttotal: 18.1ms\tremaining: 172ms\n",
      "19:\tlearn: 257.3961290\ttotal: 18.9ms\tremaining: 170ms\n",
      "20:\tlearn: 252.2691509\ttotal: 19.8ms\tremaining: 169ms\n",
      "21:\tlearn: 249.0686482\ttotal: 20.6ms\tremaining: 167ms\n",
      "22:\tlearn: 244.1881041\ttotal: 21.6ms\tremaining: 167ms\n",
      "23:\tlearn: 242.1696687\ttotal: 22.5ms\tremaining: 165ms\n",
      "24:\tlearn: 239.2131476\ttotal: 23.4ms\tremaining: 164ms\n",
      "25:\tlearn: 236.6883901\ttotal: 24.3ms\tremaining: 162ms\n",
      "26:\tlearn: 234.5295613\ttotal: 25.1ms\tremaining: 161ms\n",
      "27:\tlearn: 231.7788834\ttotal: 25.9ms\tremaining: 159ms\n",
      "28:\tlearn: 228.8020330\ttotal: 26.8ms\tremaining: 158ms\n",
      "29:\tlearn: 226.8420565\ttotal: 27.7ms\tremaining: 157ms\n",
      "30:\tlearn: 224.0686558\ttotal: 28.5ms\tremaining: 155ms\n",
      "31:\tlearn: 222.6644699\ttotal: 29.5ms\tremaining: 155ms\n",
      "32:\tlearn: 221.6889573\ttotal: 30.8ms\tremaining: 156ms\n",
      "33:\tlearn: 220.5171653\ttotal: 31.9ms\tremaining: 156ms\n",
      "34:\tlearn: 217.7686033\ttotal: 32.9ms\tremaining: 155ms\n",
      "35:\tlearn: 214.8462789\ttotal: 33.9ms\tremaining: 154ms\n",
      "36:\tlearn: 214.4799251\ttotal: 34.8ms\tremaining: 153ms\n",
      "37:\tlearn: 212.3480429\ttotal: 35.8ms\tremaining: 153ms\n",
      "38:\tlearn: 210.0040644\ttotal: 36.8ms\tremaining: 152ms\n",
      "39:\tlearn: 208.3086913\ttotal: 37.9ms\tremaining: 151ms\n",
      "40:\tlearn: 207.5469119\ttotal: 38.8ms\tremaining: 151ms\n",
      "41:\tlearn: 205.9351113\ttotal: 39.7ms\tremaining: 149ms\n",
      "42:\tlearn: 205.3580824\ttotal: 40.5ms\tremaining: 148ms\n",
      "43:\tlearn: 204.6204266\ttotal: 41.3ms\tremaining: 146ms\n",
      "44:\tlearn: 202.5023220\ttotal: 42.1ms\tremaining: 145ms\n",
      "45:\tlearn: 201.4347853\ttotal: 43ms\tremaining: 144ms\n",
      "46:\tlearn: 200.8752553\ttotal: 44ms\tremaining: 143ms\n",
      "47:\tlearn: 200.4047344\ttotal: 44.9ms\tremaining: 142ms\n",
      "48:\tlearn: 197.5433004\ttotal: 46.2ms\tremaining: 142ms\n",
      "49:\tlearn: 194.6943292\ttotal: 47.1ms\tremaining: 141ms\n",
      "50:\tlearn: 194.3011982\ttotal: 47.9ms\tremaining: 140ms\n",
      "51:\tlearn: 193.4011843\ttotal: 49ms\tremaining: 140ms\n",
      "52:\tlearn: 193.0109753\ttotal: 49.9ms\tremaining: 138ms\n",
      "53:\tlearn: 192.6071142\ttotal: 50.8ms\tremaining: 137ms\n",
      "54:\tlearn: 191.9666153\ttotal: 51.6ms\tremaining: 136ms\n",
      "55:\tlearn: 191.5789727\ttotal: 52.5ms\tremaining: 135ms\n",
      "56:\tlearn: 190.7186284\ttotal: 53.3ms\tremaining: 134ms\n",
      "57:\tlearn: 190.4543087\ttotal: 54.2ms\tremaining: 133ms\n",
      "58:\tlearn: 190.1336317\ttotal: 55ms\tremaining: 132ms\n",
      "59:\tlearn: 188.2286484\ttotal: 56ms\tremaining: 131ms\n",
      "60:\tlearn: 187.7652417\ttotal: 57ms\tremaining: 130ms\n",
      "61:\tlearn: 187.4227950\ttotal: 58ms\tremaining: 129ms\n",
      "62:\tlearn: 186.9289182\ttotal: 58.8ms\tremaining: 128ms\n",
      "63:\tlearn: 185.2993487\ttotal: 59.7ms\tremaining: 127ms\n",
      "64:\tlearn: 185.0349598\ttotal: 60.5ms\tremaining: 126ms\n",
      "65:\tlearn: 183.9773430\ttotal: 61.4ms\tremaining: 125ms\n",
      "66:\tlearn: 183.4463166\ttotal: 62.2ms\tremaining: 124ms\n",
      "67:\tlearn: 181.6627740\ttotal: 63.1ms\tremaining: 122ms\n",
      "68:\tlearn: 179.8785055\ttotal: 64ms\tremaining: 122ms\n",
      "69:\tlearn: 179.6737527\ttotal: 65.1ms\tremaining: 121ms\n",
      "70:\tlearn: 177.0830981\ttotal: 66ms\tremaining: 120ms\n",
      "71:\tlearn: 176.5917790\ttotal: 66.9ms\tremaining: 119ms\n",
      "72:\tlearn: 176.1240502\ttotal: 67.8ms\tremaining: 118ms\n",
      "73:\tlearn: 174.4828953\ttotal: 68.6ms\tremaining: 117ms\n",
      "74:\tlearn: 173.4220482\ttotal: 69.5ms\tremaining: 116ms\n",
      "75:\tlearn: 171.9903405\ttotal: 70.5ms\tremaining: 115ms\n",
      "76:\tlearn: 171.5803116\ttotal: 71.4ms\tremaining: 114ms\n",
      "77:\tlearn: 170.1411594\ttotal: 72.3ms\tremaining: 113ms\n",
      "78:\tlearn: 167.9868133\ttotal: 73.1ms\tremaining: 112ms\n",
      "79:\tlearn: 166.5304475\ttotal: 74ms\tremaining: 111ms\n",
      "80:\tlearn: 166.1741622\ttotal: 74.8ms\tremaining: 110ms\n",
      "81:\tlearn: 165.8411762\ttotal: 75.7ms\tremaining: 109ms\n",
      "82:\tlearn: 165.1041583\ttotal: 76.5ms\tremaining: 108ms\n",
      "83:\tlearn: 163.5641543\ttotal: 77.4ms\tremaining: 107ms\n",
      "84:\tlearn: 163.2003311\ttotal: 78.3ms\tremaining: 106ms\n",
      "85:\tlearn: 161.1781702\ttotal: 79.2ms\tremaining: 105ms\n",
      "86:\tlearn: 160.8727658\ttotal: 80ms\tremaining: 104ms\n",
      "87:\tlearn: 159.7954077\ttotal: 80.9ms\tremaining: 103ms\n",
      "88:\tlearn: 158.8759132\ttotal: 81.7ms\tremaining: 102ms\n",
      "89:\tlearn: 158.4831323\ttotal: 82.7ms\tremaining: 101ms\n",
      "90:\tlearn: 157.4808127\ttotal: 83.6ms\tremaining: 100ms\n",
      "91:\tlearn: 157.1703230\ttotal: 84.5ms\tremaining: 99.2ms\n",
      "92:\tlearn: 155.3184755\ttotal: 85.3ms\tremaining: 98.2ms\n",
      "93:\tlearn: 154.3988879\ttotal: 86.3ms\tremaining: 97.3ms\n",
      "94:\tlearn: 153.4591935\ttotal: 87.2ms\tremaining: 96.3ms\n",
      "95:\tlearn: 153.1206893\ttotal: 88ms\tremaining: 95.3ms\n",
      "96:\tlearn: 152.7897351\ttotal: 88.9ms\tremaining: 94.4ms\n",
      "97:\tlearn: 150.9293164\ttotal: 89.8ms\tremaining: 93.5ms\n",
      "98:\tlearn: 149.7127171\ttotal: 90.6ms\tremaining: 92.5ms\n",
      "99:\tlearn: 149.5089324\ttotal: 91.5ms\tremaining: 91.5ms\n",
      "100:\tlearn: 149.3156312\ttotal: 92.4ms\tremaining: 90.5ms\n",
      "101:\tlearn: 147.7226718\ttotal: 93.3ms\tremaining: 89.6ms\n",
      "102:\tlearn: 146.7692282\ttotal: 94.3ms\tremaining: 88.8ms\n",
      "103:\tlearn: 145.9084983\ttotal: 95.1ms\tremaining: 87.8ms\n",
      "104:\tlearn: 144.8780979\ttotal: 96ms\tremaining: 86.8ms\n",
      "105:\tlearn: 143.8090268\ttotal: 96.9ms\tremaining: 86ms\n",
      "106:\tlearn: 143.1272551\ttotal: 97.8ms\tremaining: 85ms\n",
      "107:\tlearn: 142.4863018\ttotal: 98.7ms\tremaining: 84ms\n",
      "108:\tlearn: 141.4861279\ttotal: 99.7ms\tremaining: 83.2ms\n",
      "109:\tlearn: 140.8689530\ttotal: 101ms\tremaining: 82.2ms\n",
      "110:\tlearn: 140.4009570\ttotal: 101ms\tremaining: 81.4ms\n",
      "111:\tlearn: 140.0344439\ttotal: 102ms\tremaining: 80.4ms\n",
      "112:\tlearn: 139.4290096\ttotal: 103ms\tremaining: 79.4ms\n",
      "113:\tlearn: 139.2008874\ttotal: 104ms\tremaining: 78.6ms\n",
      "114:\tlearn: 138.6000188\ttotal: 105ms\tremaining: 77.6ms\n",
      "115:\tlearn: 138.3962706\ttotal: 106ms\tremaining: 76.7ms\n",
      "116:\tlearn: 138.1737256\ttotal: 107ms\tremaining: 76.1ms\n",
      "117:\tlearn: 137.6342361\ttotal: 108ms\tremaining: 75.3ms\n",
      "118:\tlearn: 136.7119826\ttotal: 110ms\tremaining: 74.5ms\n",
      "119:\tlearn: 135.3057402\ttotal: 111ms\tremaining: 73.7ms\n",
      "120:\tlearn: 134.4797815\ttotal: 111ms\tremaining: 72.8ms\n",
      "121:\tlearn: 133.0774331\ttotal: 112ms\tremaining: 71.8ms\n",
      "122:\tlearn: 131.8739238\ttotal: 113ms\tremaining: 70.9ms\n",
      "123:\tlearn: 131.3203837\ttotal: 114ms\tremaining: 70ms\n",
      "124:\tlearn: 130.8294604\ttotal: 115ms\tremaining: 69ms\n",
      "125:\tlearn: 130.6107905\ttotal: 116ms\tremaining: 68.1ms\n",
      "126:\tlearn: 130.1614924\ttotal: 117ms\tremaining: 67.1ms\n",
      "127:\tlearn: 129.3166972\ttotal: 118ms\tremaining: 66.2ms\n",
      "128:\tlearn: 129.1038672\ttotal: 119ms\tremaining: 65.3ms\n",
      "129:\tlearn: 128.9594874\ttotal: 120ms\tremaining: 64.3ms\n",
      "130:\tlearn: 128.1849638\ttotal: 120ms\tremaining: 63.4ms\n",
      "131:\tlearn: 128.0307033\ttotal: 121ms\tremaining: 62.5ms\n",
      "132:\tlearn: 127.3373882\ttotal: 122ms\tremaining: 61.6ms\n",
      "133:\tlearn: 126.2856989\ttotal: 123ms\tremaining: 60.7ms\n",
      "134:\tlearn: 126.1379832\ttotal: 124ms\tremaining: 59.8ms\n",
      "135:\tlearn: 126.0180019\ttotal: 125ms\tremaining: 58.9ms\n",
      "136:\tlearn: 125.8843963\ttotal: 126ms\tremaining: 57.9ms\n",
      "137:\tlearn: 125.7576333\ttotal: 127ms\tremaining: 57.3ms\n",
      "138:\tlearn: 125.4794581\ttotal: 128ms\tremaining: 56.4ms\n",
      "139:\tlearn: 124.7920270\ttotal: 130ms\tremaining: 55.5ms\n",
      "140:\tlearn: 124.6530278\ttotal: 131ms\tremaining: 54.6ms\n",
      "141:\tlearn: 123.4539010\ttotal: 131ms\tremaining: 53.7ms\n",
      "142:\tlearn: 122.8980001\ttotal: 132ms\tremaining: 52.7ms\n",
      "143:\tlearn: 122.0911177\ttotal: 133ms\tremaining: 51.8ms\n",
      "144:\tlearn: 121.1209154\ttotal: 134ms\tremaining: 50.9ms\n",
      "145:\tlearn: 120.1613553\ttotal: 135ms\tremaining: 50ms\n",
      "146:\tlearn: 119.1894727\ttotal: 136ms\tremaining: 49ms\n",
      "147:\tlearn: 118.0325732\ttotal: 137ms\tremaining: 48.1ms\n",
      "148:\tlearn: 117.9138240\ttotal: 138ms\tremaining: 47.1ms\n",
      "149:\tlearn: 117.3831462\ttotal: 139ms\tremaining: 46.2ms\n",
      "150:\tlearn: 116.8475244\ttotal: 140ms\tremaining: 45.3ms\n",
      "151:\tlearn: 116.3821954\ttotal: 140ms\tremaining: 44.3ms\n",
      "152:\tlearn: 115.5293176\ttotal: 141ms\tremaining: 43.4ms\n",
      "153:\tlearn: 115.0975175\ttotal: 142ms\tremaining: 42.5ms\n",
      "154:\tlearn: 114.0649594\ttotal: 143ms\tremaining: 41.5ms\n",
      "155:\tlearn: 113.2562326\ttotal: 144ms\tremaining: 40.6ms\n",
      "156:\tlearn: 112.7557871\ttotal: 145ms\tremaining: 39.7ms\n",
      "157:\tlearn: 112.5657565\ttotal: 146ms\tremaining: 38.8ms\n",
      "158:\tlearn: 112.3541525\ttotal: 147ms\tremaining: 37.8ms\n",
      "159:\tlearn: 111.8527982\ttotal: 148ms\tremaining: 36.9ms\n",
      "160:\tlearn: 111.1619644\ttotal: 149ms\tremaining: 36ms\n",
      "161:\tlearn: 110.3588257\ttotal: 150ms\tremaining: 35.1ms\n",
      "162:\tlearn: 109.6664293\ttotal: 151ms\tremaining: 34.2ms\n",
      "163:\tlearn: 109.5577303\ttotal: 151ms\tremaining: 33.2ms\n",
      "164:\tlearn: 109.0570285\ttotal: 152ms\tremaining: 32.3ms\n",
      "165:\tlearn: 108.7601467\ttotal: 153ms\tremaining: 31.4ms\n",
      "166:\tlearn: 108.0448620\ttotal: 154ms\tremaining: 30.5ms\n",
      "167:\tlearn: 107.5593372\ttotal: 155ms\tremaining: 29.5ms\n",
      "168:\tlearn: 106.3862999\ttotal: 156ms\tremaining: 28.6ms\n",
      "169:\tlearn: 106.2180807\ttotal: 157ms\tremaining: 27.7ms\n",
      "170:\tlearn: 106.0695603\ttotal: 158ms\tremaining: 26.7ms\n",
      "171:\tlearn: 105.6940213\ttotal: 159ms\tremaining: 25.8ms\n",
      "172:\tlearn: 104.7598987\ttotal: 160ms\tremaining: 24.9ms\n",
      "173:\tlearn: 104.6589992\ttotal: 160ms\tremaining: 24ms\n",
      "174:\tlearn: 103.7203657\ttotal: 161ms\tremaining: 23.1ms\n",
      "175:\tlearn: 103.2660987\ttotal: 162ms\tremaining: 22.1ms\n",
      "176:\tlearn: 103.0926213\ttotal: 163ms\tremaining: 21.2ms\n",
      "177:\tlearn: 102.6925209\ttotal: 164ms\tremaining: 20.3ms\n",
      "178:\tlearn: 102.1655154\ttotal: 165ms\tremaining: 19.3ms\n",
      "179:\tlearn: 101.8273108\ttotal: 166ms\tremaining: 18.4ms\n",
      "180:\tlearn: 101.7264515\ttotal: 167ms\tremaining: 17.5ms\n",
      "181:\tlearn: 101.1102333\ttotal: 168ms\tremaining: 16.6ms\n",
      "182:\tlearn: 100.7880364\ttotal: 169ms\tremaining: 15.7ms\n",
      "183:\tlearn: 100.6673014\ttotal: 169ms\tremaining: 14.7ms\n",
      "184:\tlearn: 100.0153055\ttotal: 170ms\tremaining: 13.8ms\n",
      "185:\tlearn: 99.7667281\ttotal: 171ms\tremaining: 12.9ms\n",
      "186:\tlearn: 99.1860593\ttotal: 172ms\tremaining: 12ms\n",
      "187:\tlearn: 99.0408133\ttotal: 173ms\tremaining: 11ms\n",
      "188:\tlearn: 98.9030718\ttotal: 174ms\tremaining: 10.1ms\n",
      "189:\tlearn: 97.4513860\ttotal: 175ms\tremaining: 9.2ms\n",
      "190:\tlearn: 97.3322959\ttotal: 176ms\tremaining: 8.27ms\n",
      "191:\tlearn: 97.1950848\ttotal: 177ms\tremaining: 7.35ms\n",
      "192:\tlearn: 96.6789532\ttotal: 177ms\tremaining: 6.43ms\n",
      "193:\tlearn: 96.5506179\ttotal: 178ms\tremaining: 5.51ms\n",
      "194:\tlearn: 95.6635039\ttotal: 179ms\tremaining: 4.59ms\n",
      "195:\tlearn: 94.8850777\ttotal: 180ms\tremaining: 3.67ms\n",
      "196:\tlearn: 94.1624589\ttotal: 181ms\tremaining: 2.76ms\n",
      "197:\tlearn: 93.8220662\ttotal: 182ms\tremaining: 1.84ms\n",
      "198:\tlearn: 93.7300351\ttotal: 183ms\tremaining: 920us\n",
      "199:\tlearn: 93.3339522\ttotal: 184ms\tremaining: 0us\n"
     ]
    },
    {
     "data": {
      "text/plain": [
       "GridSearchCV(cv=10, error_score='raise-deprecating',\n",
       "             estimator=<catboost.core.CatBoostRegressor object at 0x0000022C09C64548>,\n",
       "             iid='warn', n_jobs=-1,\n",
       "             param_grid={'depth': [3, 4, 5, 6, 7, 8],\n",
       "                         'iterations': [200, 500, 1000, 2000],\n",
       "                         'learning_rate': [0.01, 0.03, 0.05, 0.1]},\n",
       "             pre_dispatch='2*n_jobs', refit=True, return_train_score=False,\n",
       "             scoring=None, verbose=2)"
      ]
     },
     "execution_count": 70,
     "metadata": {},
     "output_type": "execute_result"
    }
   ],
   "source": [
    "catb_cv_model.fit(X_train,y_train)"
   ]
  },
  {
   "cell_type": "code",
   "execution_count": 71,
   "metadata": {},
   "outputs": [
    {
     "data": {
      "text/plain": [
       "{'depth': 3, 'iterations': 200, 'learning_rate': 0.1}"
      ]
     },
     "execution_count": 71,
     "metadata": {},
     "output_type": "execute_result"
    }
   ],
   "source": [
    "catb_cv_model.best_params_"
   ]
  },
  {
   "cell_type": "code",
   "execution_count": 72,
   "metadata": {
    "collapsed": true,
    "jupyter": {
     "outputs_hidden": true
    }
   },
   "outputs": [
    {
     "name": "stdout",
     "output_type": "stream",
     "text": [
      "0:\tlearn: 425.7900818\ttotal: 1.03ms\tremaining: 205ms\n",
      "1:\tlearn: 404.8723520\ttotal: 2.15ms\tremaining: 213ms\n",
      "2:\tlearn: 387.4057666\ttotal: 3.06ms\tremaining: 201ms\n",
      "3:\tlearn: 372.2801584\ttotal: 3.95ms\tremaining: 194ms\n",
      "4:\tlearn: 358.9204229\ttotal: 4.83ms\tremaining: 188ms\n",
      "5:\tlearn: 347.0083933\ttotal: 5.75ms\tremaining: 186ms\n",
      "6:\tlearn: 336.0130818\ttotal: 6.54ms\tremaining: 180ms\n",
      "7:\tlearn: 324.3923300\ttotal: 7.35ms\tremaining: 176ms\n",
      "8:\tlearn: 314.8690957\ttotal: 8.32ms\tremaining: 177ms\n",
      "9:\tlearn: 308.5075563\ttotal: 9.3ms\tremaining: 177ms\n",
      "10:\tlearn: 298.8587285\ttotal: 10.3ms\tremaining: 177ms\n",
      "11:\tlearn: 294.7655438\ttotal: 11.2ms\tremaining: 176ms\n",
      "12:\tlearn: 288.0697862\ttotal: 12.1ms\tremaining: 174ms\n",
      "13:\tlearn: 282.6697154\ttotal: 13ms\tremaining: 172ms\n",
      "14:\tlearn: 277.6121667\ttotal: 14ms\tremaining: 173ms\n",
      "15:\tlearn: 273.4383979\ttotal: 15ms\tremaining: 173ms\n",
      "16:\tlearn: 269.1556201\ttotal: 16ms\tremaining: 172ms\n",
      "17:\tlearn: 264.8098704\ttotal: 16.7ms\tremaining: 169ms\n",
      "18:\tlearn: 261.6700768\ttotal: 17.5ms\tremaining: 167ms\n",
      "19:\tlearn: 257.3961290\ttotal: 18.3ms\tremaining: 164ms\n",
      "20:\tlearn: 252.2691509\ttotal: 19.1ms\tremaining: 163ms\n",
      "21:\tlearn: 249.0686482\ttotal: 20.1ms\tremaining: 162ms\n",
      "22:\tlearn: 244.1881041\ttotal: 21ms\tremaining: 162ms\n",
      "23:\tlearn: 242.1696687\ttotal: 21.8ms\tremaining: 160ms\n",
      "24:\tlearn: 239.2131476\ttotal: 22.8ms\tremaining: 160ms\n",
      "25:\tlearn: 236.6883901\ttotal: 23.8ms\tremaining: 159ms\n",
      "26:\tlearn: 234.5295613\ttotal: 25ms\tremaining: 160ms\n",
      "27:\tlearn: 231.7788834\ttotal: 25.8ms\tremaining: 159ms\n",
      "28:\tlearn: 228.8020330\ttotal: 26.7ms\tremaining: 157ms\n",
      "29:\tlearn: 226.8420565\ttotal: 27.7ms\tremaining: 157ms\n",
      "30:\tlearn: 224.0686558\ttotal: 28.5ms\tremaining: 155ms\n",
      "31:\tlearn: 222.6644699\ttotal: 29.5ms\tremaining: 155ms\n",
      "32:\tlearn: 221.6889573\ttotal: 30.3ms\tremaining: 153ms\n",
      "33:\tlearn: 220.5171653\ttotal: 31.3ms\tremaining: 153ms\n",
      "34:\tlearn: 217.7686033\ttotal: 32.1ms\tremaining: 151ms\n",
      "35:\tlearn: 214.8462789\ttotal: 33.1ms\tremaining: 151ms\n",
      "36:\tlearn: 214.4799251\ttotal: 33.9ms\tremaining: 149ms\n",
      "37:\tlearn: 212.3480429\ttotal: 34.9ms\tremaining: 149ms\n",
      "38:\tlearn: 210.0040644\ttotal: 35.7ms\tremaining: 147ms\n",
      "39:\tlearn: 208.3086913\ttotal: 36.5ms\tremaining: 146ms\n",
      "40:\tlearn: 207.5469119\ttotal: 37.6ms\tremaining: 146ms\n",
      "41:\tlearn: 205.9351113\ttotal: 38.4ms\tremaining: 145ms\n",
      "42:\tlearn: 205.3580824\ttotal: 39.2ms\tremaining: 143ms\n",
      "43:\tlearn: 204.6204266\ttotal: 40.1ms\tremaining: 142ms\n",
      "44:\tlearn: 202.5023220\ttotal: 40.9ms\tremaining: 141ms\n",
      "45:\tlearn: 201.4347853\ttotal: 41.7ms\tremaining: 140ms\n",
      "46:\tlearn: 200.8752553\ttotal: 42.5ms\tremaining: 138ms\n",
      "47:\tlearn: 200.4047344\ttotal: 43.3ms\tremaining: 137ms\n",
      "48:\tlearn: 197.5433004\ttotal: 44.1ms\tremaining: 136ms\n",
      "49:\tlearn: 194.6943292\ttotal: 44.9ms\tremaining: 135ms\n",
      "50:\tlearn: 194.3011982\ttotal: 45.7ms\tremaining: 133ms\n",
      "51:\tlearn: 193.4011843\ttotal: 46.6ms\tremaining: 132ms\n",
      "52:\tlearn: 193.0109753\ttotal: 47.4ms\tremaining: 132ms\n",
      "53:\tlearn: 192.6071142\ttotal: 48.6ms\tremaining: 132ms\n",
      "54:\tlearn: 191.9666153\ttotal: 49.4ms\tremaining: 130ms\n",
      "55:\tlearn: 191.5789727\ttotal: 50.3ms\tremaining: 129ms\n",
      "56:\tlearn: 190.7186284\ttotal: 51.1ms\tremaining: 128ms\n",
      "57:\tlearn: 190.4543087\ttotal: 51.9ms\tremaining: 127ms\n",
      "58:\tlearn: 190.1336317\ttotal: 52.7ms\tremaining: 126ms\n",
      "59:\tlearn: 188.2286484\ttotal: 53.8ms\tremaining: 126ms\n",
      "60:\tlearn: 187.7652417\ttotal: 54.6ms\tremaining: 125ms\n",
      "61:\tlearn: 187.4227950\ttotal: 55.4ms\tremaining: 123ms\n",
      "62:\tlearn: 186.9289182\ttotal: 56.2ms\tremaining: 122ms\n",
      "63:\tlearn: 185.2993487\ttotal: 57.1ms\tremaining: 121ms\n",
      "64:\tlearn: 185.0349598\ttotal: 58.1ms\tremaining: 121ms\n",
      "65:\tlearn: 183.9773430\ttotal: 58.9ms\tremaining: 120ms\n",
      "66:\tlearn: 183.4463166\ttotal: 59.7ms\tremaining: 118ms\n",
      "67:\tlearn: 181.6627740\ttotal: 60.7ms\tremaining: 118ms\n",
      "68:\tlearn: 179.8785055\ttotal: 61.5ms\tremaining: 117ms\n",
      "69:\tlearn: 179.6737527\ttotal: 62.3ms\tremaining: 116ms\n",
      "70:\tlearn: 177.0830981\ttotal: 63.1ms\tremaining: 115ms\n",
      "71:\tlearn: 176.5917790\ttotal: 63.9ms\tremaining: 114ms\n",
      "72:\tlearn: 176.1240502\ttotal: 64.8ms\tremaining: 113ms\n",
      "73:\tlearn: 174.4828953\ttotal: 65.6ms\tremaining: 112ms\n",
      "74:\tlearn: 173.4220482\ttotal: 66.4ms\tremaining: 111ms\n",
      "75:\tlearn: 171.9903405\ttotal: 67.2ms\tremaining: 110ms\n",
      "76:\tlearn: 171.5803116\ttotal: 68ms\tremaining: 109ms\n",
      "77:\tlearn: 170.1411594\ttotal: 68.7ms\tremaining: 108ms\n",
      "78:\tlearn: 167.9868133\ttotal: 69.6ms\tremaining: 107ms\n",
      "79:\tlearn: 166.5304475\ttotal: 70.4ms\tremaining: 106ms\n",
      "80:\tlearn: 166.1741622\ttotal: 71.2ms\tremaining: 105ms\n",
      "81:\tlearn: 165.8411762\ttotal: 72.1ms\tremaining: 104ms\n",
      "82:\tlearn: 165.1041583\ttotal: 72.9ms\tremaining: 103ms\n",
      "83:\tlearn: 163.5641543\ttotal: 73.8ms\tremaining: 102ms\n",
      "84:\tlearn: 163.2003311\ttotal: 74.6ms\tremaining: 101ms\n",
      "85:\tlearn: 161.1781702\ttotal: 75.4ms\tremaining: 99.9ms\n",
      "86:\tlearn: 160.8727658\ttotal: 76.2ms\tremaining: 99ms\n",
      "87:\tlearn: 159.7954077\ttotal: 77.1ms\tremaining: 98.1ms\n",
      "88:\tlearn: 158.8759132\ttotal: 77.9ms\tremaining: 97.1ms\n",
      "89:\tlearn: 158.4831323\ttotal: 78.7ms\tremaining: 96.2ms\n",
      "90:\tlearn: 157.4808127\ttotal: 79.5ms\tremaining: 95.2ms\n",
      "91:\tlearn: 157.1703230\ttotal: 80.2ms\tremaining: 94.2ms\n",
      "92:\tlearn: 155.3184755\ttotal: 81ms\tremaining: 93.2ms\n",
      "93:\tlearn: 154.3988879\ttotal: 81.9ms\tremaining: 92.3ms\n",
      "94:\tlearn: 153.4591935\ttotal: 82.7ms\tremaining: 91.4ms\n",
      "95:\tlearn: 153.1206893\ttotal: 83.6ms\tremaining: 90.6ms\n",
      "96:\tlearn: 152.7897351\ttotal: 84.5ms\tremaining: 89.7ms\n",
      "97:\tlearn: 150.9293164\ttotal: 85.3ms\tremaining: 88.8ms\n",
      "98:\tlearn: 149.7127171\ttotal: 86.1ms\tremaining: 87.9ms\n",
      "99:\tlearn: 149.5089324\ttotal: 86.9ms\tremaining: 86.9ms\n",
      "100:\tlearn: 149.3156312\ttotal: 87.7ms\tremaining: 86ms\n",
      "101:\tlearn: 147.7226718\ttotal: 88.5ms\tremaining: 85ms\n",
      "102:\tlearn: 146.7692282\ttotal: 89.3ms\tremaining: 84.1ms\n",
      "103:\tlearn: 145.9084983\ttotal: 90.1ms\tremaining: 83.2ms\n",
      "104:\tlearn: 144.8780979\ttotal: 90.9ms\tremaining: 82.2ms\n",
      "105:\tlearn: 143.8090268\ttotal: 91.7ms\tremaining: 81.3ms\n",
      "106:\tlearn: 143.1272551\ttotal: 92.6ms\tremaining: 80.5ms\n",
      "107:\tlearn: 142.4863018\ttotal: 93.5ms\tremaining: 79.6ms\n",
      "108:\tlearn: 141.4861279\ttotal: 94.3ms\tremaining: 78.7ms\n",
      "109:\tlearn: 140.8689530\ttotal: 95.3ms\tremaining: 78ms\n",
      "110:\tlearn: 140.4009570\ttotal: 96.2ms\tremaining: 77.2ms\n",
      "111:\tlearn: 140.0344439\ttotal: 97.1ms\tremaining: 76.3ms\n",
      "112:\tlearn: 139.4290096\ttotal: 97.9ms\tremaining: 75.3ms\n",
      "113:\tlearn: 139.2008874\ttotal: 98.7ms\tremaining: 74.4ms\n",
      "114:\tlearn: 138.6000188\ttotal: 99.5ms\tremaining: 73.5ms\n",
      "115:\tlearn: 138.3962706\ttotal: 100ms\tremaining: 72.6ms\n",
      "116:\tlearn: 138.1737256\ttotal: 101ms\tremaining: 71.7ms\n",
      "117:\tlearn: 137.6342361\ttotal: 102ms\tremaining: 70.7ms\n",
      "118:\tlearn: 136.7119826\ttotal: 103ms\tremaining: 69.8ms\n",
      "119:\tlearn: 135.3057402\ttotal: 103ms\tremaining: 68.9ms\n",
      "120:\tlearn: 134.4797815\ttotal: 104ms\tremaining: 68ms\n",
      "121:\tlearn: 133.0774331\ttotal: 105ms\tremaining: 67.1ms\n",
      "122:\tlearn: 131.8739238\ttotal: 106ms\tremaining: 66.2ms\n",
      "123:\tlearn: 131.3203837\ttotal: 106ms\tremaining: 65.3ms\n",
      "124:\tlearn: 130.8294604\ttotal: 107ms\tremaining: 64.4ms\n",
      "125:\tlearn: 130.6107905\ttotal: 108ms\tremaining: 63.5ms\n",
      "126:\tlearn: 130.1614924\ttotal: 109ms\tremaining: 62.6ms\n",
      "127:\tlearn: 129.3166972\ttotal: 110ms\tremaining: 61.7ms\n",
      "128:\tlearn: 129.1038672\ttotal: 111ms\tremaining: 60.8ms\n",
      "129:\tlearn: 128.9594874\ttotal: 111ms\tremaining: 59.9ms\n",
      "130:\tlearn: 128.1849638\ttotal: 112ms\tremaining: 59.1ms\n",
      "131:\tlearn: 128.0307033\ttotal: 113ms\tremaining: 58.5ms\n",
      "132:\tlearn: 127.3373882\ttotal: 115ms\tremaining: 58.2ms\n",
      "133:\tlearn: 126.2856989\ttotal: 117ms\tremaining: 57.4ms\n",
      "134:\tlearn: 126.1379832\ttotal: 117ms\tremaining: 56.5ms\n",
      "135:\tlearn: 126.0180019\ttotal: 118ms\tremaining: 55.8ms\n",
      "136:\tlearn: 125.8843963\ttotal: 119ms\tremaining: 54.9ms\n",
      "137:\tlearn: 125.7576333\ttotal: 120ms\tremaining: 54ms\n",
      "138:\tlearn: 125.4794581\ttotal: 121ms\tremaining: 53.2ms\n",
      "139:\tlearn: 124.7920270\ttotal: 122ms\tremaining: 52.3ms\n",
      "140:\tlearn: 124.6530278\ttotal: 123ms\tremaining: 51.4ms\n",
      "141:\tlearn: 123.4539010\ttotal: 124ms\tremaining: 50.5ms\n",
      "142:\tlearn: 122.8980001\ttotal: 125ms\tremaining: 49.8ms\n",
      "143:\tlearn: 122.0911177\ttotal: 126ms\tremaining: 49.1ms\n",
      "144:\tlearn: 121.1209154\ttotal: 127ms\tremaining: 48.3ms\n",
      "145:\tlearn: 120.1613553\ttotal: 128ms\tremaining: 47.4ms\n",
      "146:\tlearn: 119.1894727\ttotal: 129ms\tremaining: 46.6ms\n",
      "147:\tlearn: 118.0325732\ttotal: 130ms\tremaining: 45.8ms\n",
      "148:\tlearn: 117.9138240\ttotal: 131ms\tremaining: 44.9ms\n",
      "149:\tlearn: 117.3831462\ttotal: 132ms\tremaining: 44ms\n",
      "150:\tlearn: 116.8475244\ttotal: 133ms\tremaining: 43.1ms\n",
      "151:\tlearn: 116.3821954\ttotal: 134ms\tremaining: 42.2ms\n",
      "152:\tlearn: 115.5293176\ttotal: 134ms\tremaining: 41.3ms\n",
      "153:\tlearn: 115.0975175\ttotal: 135ms\tremaining: 40.4ms\n",
      "154:\tlearn: 114.0649594\ttotal: 136ms\tremaining: 39.5ms\n",
      "155:\tlearn: 113.2562326\ttotal: 137ms\tremaining: 38.6ms\n",
      "156:\tlearn: 112.7557871\ttotal: 138ms\tremaining: 37.7ms\n",
      "157:\tlearn: 112.5657565\ttotal: 139ms\tremaining: 36.8ms\n",
      "158:\tlearn: 112.3541525\ttotal: 140ms\tremaining: 36ms\n",
      "159:\tlearn: 111.8527982\ttotal: 141ms\tremaining: 35.1ms\n",
      "160:\tlearn: 111.1619644\ttotal: 141ms\tremaining: 34.2ms\n",
      "161:\tlearn: 110.3588257\ttotal: 143ms\tremaining: 33.4ms\n",
      "162:\tlearn: 109.6664293\ttotal: 144ms\tremaining: 32.6ms\n",
      "163:\tlearn: 109.5577303\ttotal: 145ms\tremaining: 31.8ms\n",
      "164:\tlearn: 109.0570285\ttotal: 146ms\tremaining: 31ms\n",
      "165:\tlearn: 108.7601467\ttotal: 147ms\tremaining: 30.2ms\n",
      "166:\tlearn: 108.0448620\ttotal: 148ms\tremaining: 29.3ms\n",
      "167:\tlearn: 107.5593372\ttotal: 150ms\tremaining: 28.5ms\n",
      "168:\tlearn: 106.3862999\ttotal: 151ms\tremaining: 27.7ms\n",
      "169:\tlearn: 106.2180807\ttotal: 152ms\tremaining: 26.8ms\n",
      "170:\tlearn: 106.0695603\ttotal: 153ms\tremaining: 26ms\n",
      "171:\tlearn: 105.6940213\ttotal: 155ms\tremaining: 25.2ms\n",
      "172:\tlearn: 104.7598987\ttotal: 156ms\tremaining: 24.4ms\n",
      "173:\tlearn: 104.6589992\ttotal: 157ms\tremaining: 23.5ms\n",
      "174:\tlearn: 103.7203657\ttotal: 158ms\tremaining: 22.6ms\n",
      "175:\tlearn: 103.2660987\ttotal: 159ms\tremaining: 21.7ms\n",
      "176:\tlearn: 103.0926213\ttotal: 160ms\tremaining: 20.8ms\n",
      "177:\tlearn: 102.6925209\ttotal: 161ms\tremaining: 19.9ms\n",
      "178:\tlearn: 102.1655154\ttotal: 164ms\tremaining: 19.2ms\n",
      "179:\tlearn: 101.8273108\ttotal: 166ms\tremaining: 18.4ms\n",
      "180:\tlearn: 101.7264515\ttotal: 167ms\tremaining: 17.5ms\n",
      "181:\tlearn: 101.1102333\ttotal: 168ms\tremaining: 16.7ms\n",
      "182:\tlearn: 100.7880364\ttotal: 170ms\tremaining: 15.8ms\n",
      "183:\tlearn: 100.6673014\ttotal: 171ms\tremaining: 14.9ms\n",
      "184:\tlearn: 100.0153055\ttotal: 172ms\tremaining: 14ms\n",
      "185:\tlearn: 99.7667281\ttotal: 174ms\tremaining: 13.1ms\n",
      "186:\tlearn: 99.1860593\ttotal: 175ms\tremaining: 12.2ms\n",
      "187:\tlearn: 99.0408133\ttotal: 177ms\tremaining: 11.3ms\n",
      "188:\tlearn: 98.9030718\ttotal: 178ms\tremaining: 10.4ms\n",
      "189:\tlearn: 97.4513860\ttotal: 179ms\tremaining: 9.42ms\n",
      "190:\tlearn: 97.3322959\ttotal: 180ms\tremaining: 8.48ms\n",
      "191:\tlearn: 97.1950848\ttotal: 181ms\tremaining: 7.53ms\n",
      "192:\tlearn: 96.6789532\ttotal: 182ms\tremaining: 6.59ms\n",
      "193:\tlearn: 96.5506179\ttotal: 183ms\tremaining: 5.64ms\n",
      "194:\tlearn: 95.6635039\ttotal: 183ms\tremaining: 4.7ms\n",
      "195:\tlearn: 94.8850777\ttotal: 184ms\tremaining: 3.76ms\n",
      "196:\tlearn: 94.1624589\ttotal: 185ms\tremaining: 2.82ms\n",
      "197:\tlearn: 93.8220662\ttotal: 186ms\tremaining: 1.88ms\n",
      "198:\tlearn: 93.7300351\ttotal: 187ms\tremaining: 938us\n",
      "199:\tlearn: 93.3339522\ttotal: 188ms\tremaining: 0us\n"
     ]
    }
   ],
   "source": [
    "catb_tuned=CatBoostRegressor(iterations=200,\n",
    "                            learning_rate=0.1,\n",
    "                            depth=3)\n",
    "catb_tuned=catb_tuned.fit(X_train,y_train)"
   ]
  },
  {
   "cell_type": "code",
   "execution_count": 73,
   "metadata": {},
   "outputs": [
    {
     "data": {
      "text/plain": [
       "344.3125832615482"
      ]
     },
     "execution_count": 73,
     "metadata": {},
     "output_type": "execute_result"
    }
   ],
   "source": [
    "y_pred=catb_tuned.predict(X_test)\n",
    "np.sqrt(mean_squared_error(y_test,y_pred))"
   ]
  },
  {
   "cell_type": "code",
   "execution_count": null,
   "metadata": {},
   "outputs": [],
   "source": []
  }
 ],
 "metadata": {
  "kernelspec": {
   "display_name": "Python 3",
   "language": "python",
   "name": "python3"
  },
  "language_info": {
   "codemirror_mode": {
    "name": "ipython",
    "version": 3
   },
   "file_extension": ".py",
   "mimetype": "text/x-python",
   "name": "python",
   "nbconvert_exporter": "python",
   "pygments_lexer": "ipython3",
   "version": "3.7.4"
  }
 },
 "nbformat": 4,
 "nbformat_minor": 4
}
