{
 "cells": [
  {
   "cell_type": "markdown",
   "metadata": {},
   "source": [
    " DATA LITERACY (Veri Okuryazarlığı)"
   ]
  },
  {
   "cell_type": "code",
   "execution_count": null,
   "metadata": {},
   "outputs": [],
   "source": [
    "Veri Okuryazarlığı: Günlük hayatta veriyle temas ettiğimiz ilk anlardaki\n",
    "    basit veri yorumlama kabiliyetidir.\n",
    "    Her türden veri tipini değişken ve ölçek türlerini tanımlayabilme \n",
    "    betimsel istatistikleri ve istatiksel graafikleri kullanarak\n",
    "    veri değerlendirme yeteneğidir."
   ]
  },
  {
   "cell_type": "markdown",
   "metadata": {},
   "source": [
    "Population and Sample(Popülasyon ve Örneklem) \n",
    "populasyon ilgilendiğimiz ana kitlemizdir hedef kitlemizdir.\n",
    "Örneklem: Anakitle içinden seçilen alt kitledir.\n",
    "\n",
    "Gerçek hayat da elimizde verinin tamamı değilde veriyi temsil eden örneklem elimizde bulunur."
   ]
  },
  {
   "cell_type": "markdown",
   "metadata": {},
   "source": [
    "Observation Unit(Gözlem Birimi)\n",
    "\n",
    "araştırmadaincelediğimiz birimlerdir.\n",
    "sample da incelediğimiz her bir alan gözlem birimidir.\n",
    "anket için düşünelim mikrofon uzattığımız her kişi gözlem birimidir.(her bir satırdır)\n"
   ]
  },
  {
   "cell_type": "markdown",
   "metadata": {},
   "source": [
    "Variables and Variables Types\n",
    "(Değişken ve Değişken Türleri)\n"
   ]
  },
  {
   "cell_type": "markdown",
   "metadata": {},
   "source": [
    "değişken : birimden birime farklı değer alan niceliklerdir.\n",
    "(sütun isimleri diyebiliriz)\n",
    "\n",
    "değişken türleri (sayısal ve kategorik)\n",
    "sayısal değişkenler (nicel ,kantitatif)\n",
    "kategorik değişkenler(nitel,kalitatif)\n",
    "\n",
    "cinsiyet kategorik değişkendir.\n",
    "kadın ve erkek ise bu kategorik değişkenin sınıflarıdır.\n",
    "\n",
    "rütbe kategorik değişkenin sınıfları:\n",
    "onbası < yüzbası < binbası < albay \n"
   ]
  },
  {
   "cell_type": "markdown",
   "metadata": {},
   "source": [
    "Scales of Mesaurement (Ölçek Türleri)\n",
    "\n",
    "Ölçek Türleri:\n",
    "sayısal değişkenler için : aralık(ınterval) ve oran (ratio)\n",
    "\n",
    "+ başlangıç noktası sıfır olmayan sayısal değişkenlere aralık ölçek türüdür.( - yada + değerler alabliyorsa) \n",
    "+ başlangıç noktası sıfr kabul eden sayısal değişkenlerin ölçek türü orandır.\n",
    "\n",
    "kategorik değişkenler için : nominal ve ordinal \n",
    "(character formatındaki veriler) \n",
    "+ kategorik değişkenin sınıfları arasında fark olmadığında nominal ölçek türü\n",
    "(kadın ve erkek)\n",
    "+ sınıfları arasında fark var ise ordinaldir.\n",
    "onbası < yüzbası < binbası < albay \n",
    "\n",
    "örn: eğitim durumu kategorik bir değişkendir.\n",
    "ilkokul< lise < üniversite < lisansüstü\n",
    "değişkenin sınıfları arasında bir fark oldugu icin \"Rütbe\" değişkeni ordinaldir."
   ]
  },
  {
   "cell_type": "markdown",
   "metadata": {},
   "source": [
    "MERKEZİ EĞİLİM ÖLÇÜLERİ\n",
    "++ Aritmetik Ortalama++\n",
    "\n",
    "Bir seride (değişkende) yer alan tüm değerlerin toplanması ve birim sayısına \n",
    "bölünmesi ile elde edilen istatistiktir.\n",
    "- web sitemizde geçirilen süre ortalaması nedir? \n",
    "\n",
    "++ Median(Medyan) ++\n",
    "Ortadaki değerdir.\n",
    "n tek ise:\n",
    "    medyan= (n+1/2).terim\n",
    "n çift ise:\n",
    "    medyan=((n/2).terim +((n/2)+1).terim)/2\n",
    "+ Medyan ve Ortalama Karşılaştırılması\n",
    "Aritmetik ortalama , seri dağılımının(değişken dağılımıın ) simetrik olduğu bilindiğinde kullanılabilir.\n",
    "\n",
    "Eğer elimizdeki seri simetrik değilse medyan hesaplanabilir.\n",
    "Ve simetrik olmamak değişken içinde aykırı değerler olduğunu gösterir. Bu durumda ortalama yanıltıcı olacaktır.\n",
    "\n",
    "\n",
    "13,10,15,12,17,12,19,18,11,12,190\n",
    "\n",
    "- elimizdeki seri en küçük 10 en yüksek 19 arasında değişiyor.Ama bir tanede 190 değerimiz var.Biz bu serinin aritmetik ortalamasını alırsak 28,5 çıkar. Soru şu: Bu aritmetik ortalama değeri seriyi iyi temsil ediyor mu?\n",
    "\n",
    "Cevap: hayır. \n",
    "\n",
    "- Bu serinin medyanı 13 tür. Bu seriyi temsil etmek için medyan olan değeri seçmemiz gerekir.\n",
    "\n",
    "----dağılım simetrik olmadığını gördüğüm için bu veriyi \n",
    "temsil etmek için medyan değerine baktım diye sunum yapılmalı.\n",
    "\n",
    "\n",
    "++ Mode(Mod) ++\n",
    "Bir seride (değişkende) en çok tekrar eden değere Mod adı verilir.\n",
    "\n",
    "++ Quartiles(Kartiller) ++\n",
    "Küçükten büyüğe sıralanan bir seriyi 4 parçaya ayıran değerlere kartiller denir.\n",
    "\n",
    "Q1= 1/4(n+1).terim\n",
    "Q3= 3/4(n+1).terim\n",
    "Q2= Q3-Q1 Medyan değeridir\n"
   ]
  },
  {
   "cell_type": "markdown",
   "metadata": {},
   "source": [
    "Merkezi Eğilimin Önemini Kavrama \n",
    "A- Emlak\n",
    "B- Emlak \n",
    "-Hangisinin portföyü daha iyidir? \n",
    "örneğin:\n",
    "    A ort= 706000\n",
    "    B ort= 730000\n",
    "Ortalamaya bakarak B emlağı daha seçkin portföye sahibim\n",
    "diyebilir mi?\n",
    "- Belki diyebilir ama teknik olarak dememesi gerekir.Bizim burda soru sormamız gerekir.Medyanlarınız kaç diye sormamız gerekir?\n",
    "A ort= 706000\n",
    "A medyan=700000 \n",
    "- Burada ortalama ile medyanın birbirine çok yakın olması dağılımın düzgün olduğunu homojen( seri içerisindeki değerlerin birbirine yakın olması) oldugunu gösterir.A yı temsil etmek için ortalama yada medyan değeri kullanılabilir.\n",
    "B ort= 730000\n",
    "B medyan= 400000\n",
    "\n",
    "- B de aykırı değer vardır. Bu iki seriyi temsil etmek için kullanılacak olan uygun değer medyan değeridir.\n"
   ]
  },
  {
   "cell_type": "markdown",
   "metadata": {},
   "source": [
    "Mesaures of Dispersion (Dağılım Ölçüleri)\n",
    "++ Range (Değişim Aralığı) ++\n",
    "Bir serideki maksimum değerle minimum değeri çıkardığımızda elde ettiğimiz değerdir.en ilkel dağılım ölçütüdür.\n",
    "++ Standard Deviation (Standart Sapma) ++\n",
    "ortalamadan olan sapmalarının  genel bir ölçüsüdür.\n",
    "\n",
    "++  Variance(Varyans)  ++ \n",
    "\n",
    "standart sapmanın karesidir.\n",
    "Ortalamadan olan sapmaların karelerinin ortalamasıdır.\n",
    "\n",
    "++ Skewness(Çarpıklık) ++\n",
    "Çarpıklık bir değişkenin dağılımının simetrik olamayışıdır. Çan eğrisi olan çarpık olmayan anlamına gelir\n",
    "\n",
    "\n",
    "pearson çarpıklık katsayısı(PÇK):\n",
    "3*(x ortalama - medyan)/standart sapma \n",
    "\n",
    "\n",
    "- medyan ve ortalama arasında fark varsa dağılımın çarpık oldugunu anlarız\n",
    "PÇK<0 ---NEGATİF ÇARPIK(SOLDAN)\n",
    "PÇK>0 ---POZİTİF ÇARPIK (SAĞDAN)\n",
    "PÇK=0 ---SİMETRİK\n",
    "\n",
    "++ Kurtosis( Basıklık) \n",
    "Dağılımın basıklığını / sivriliğini gösterir.\n",
    "\n",
    "Basıklık katsayısı: m4/standart sapmanın 4. kuvveti\n",
    "\n",
    "BK=3 ise dağılım standart normal dağılıma uygundur.\n",
    "BK>3 ise dağılım sivridir.\n",
    "BK<3 ise dağılım basıktır."
   ]
  },
  {
   "cell_type": "markdown",
   "metadata": {},
   "source": [
    "++Statistical Thinking Models ++\n",
    "(İstatiksel Düşünce Modelleri)\n",
    "\n",
    "Veri okuryazarlığından veri analitiğine giden yolu modelleyen yol göstericilerdir.\n",
    "++ Mooney Modeli(2002) esas alacağız++\n",
    "4 basamaktan oluşuyor.\n",
    "1. Verinin Tanımlanması(mod,medyan,basıklık,çarpıklık vb bakmak) \n",
    "2. Verinin Organize Edilmesi ve İndirgenmesi\n",
    "3. Veri Gösterimi(istatiksel veri görselleştirme)\n",
    "4. Verinin Analiz Edilmesi ve Yorumlanması \n",
    "\n",
    "bu aşamaları değerlendirme seviyeleri vardır.\n",
    "++Statistical Thinking Levels (İstatiksel Düşünce Düzeyleri) ++\n",
    "Kişiye Özgülük (Seviye 1)\n",
    "Geçici(Seviye 2)\n",
    "Nicel (Seviye 3)\n",
    "Analitik( Seviye 4)\n",
    "\n",
    "\n",
    "\n",
    "\n"
   ]
  },
  {
   "cell_type": "markdown",
   "metadata": {},
   "source": [
    "Mooney Modelindeki;\n",
    "1.adım: Verinin Tanımlanması\n",
    "2.adım : Verinin Organize Edilmesi ve İndirgenmesi\n",
    "- bakkal defteri düzenleme işlemi \n",
    "3.adım: Verinin Gösterimi\n",
    "- ev fiyatlarındaki artışın gösterildiği grafikler \n",
    "4.adım : Verinin Analiz Edilmesi ve Yorumlanması\n",
    "- survivor yarışması dayanıklılıkları ölçülmüş ortalama ve standart sapmaları"
   ]
  }
 ],
 "metadata": {
  "kernelspec": {
   "display_name": "Python 3",
   "language": "python",
   "name": "python3"
  },
  "language_info": {
   "codemirror_mode": {
    "name": "ipython",
    "version": 3
   },
   "file_extension": ".py",
   "mimetype": "text/x-python",
   "name": "python",
   "nbconvert_exporter": "python",
   "pygments_lexer": "ipython3",
   "version": "3.7.4"
  }
 },
 "nbformat": 4,
 "nbformat_minor": 4
}
