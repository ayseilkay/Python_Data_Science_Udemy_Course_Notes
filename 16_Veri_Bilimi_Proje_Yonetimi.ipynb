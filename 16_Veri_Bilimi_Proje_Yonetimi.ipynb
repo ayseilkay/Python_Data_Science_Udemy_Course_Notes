{
 "cells": [
  {
   "cell_type": "markdown",
   "metadata": {},
   "source": [
    "## Adım 1:\n",
    "* Problemin apaçık tanımlanması\n",
    "* Proje Beklenti Yönetimi\n",
    "    - ilgili birimlerin beklentisinin yönetilmesidir\n",
    "* Projenin Başarı Metriginin Ne Olacağının Belirlenmesi\n",
    "    - Çalışmanın en başında belirlenmesi gerekir."
   ]
  },
  {
   "cell_type": "markdown",
   "metadata": {},
   "source": [
    "## Adım 2:"
   ]
  },
  {
   "cell_type": "markdown",
   "metadata": {},
   "source": [
    "* Literatür Taraması ve En iyi Uygulamaların Araştırılması"
   ]
  },
  {
   "cell_type": "markdown",
   "metadata": {},
   "source": [
    "## Adım 3: \n",
    "#### Veriyi Anlamak\n",
    "* Veri tabanlarında iz sürmek\n",
    "* Verinin oluşma şeklini anlamak\n",
    "* Verinin hayat döngüsünü anlamak \n",
    "* Verinin ilgili proje için uygunluğunun anlaşılması"
   ]
  },
  {
   "cell_type": "markdown",
   "metadata": {},
   "source": [
    "## Adım 4:\n",
    "#### Özellik Mühendisliği\n",
    "* Tidy Süreci\n",
    "    - Verinin düzenli hale getirilmesidir  \n",
    "    - Düzenli ifadesi her bir satırın ilgilenilen gözlem birimini ve her bir sütununda bir değişkeni ifade etmesi durumudur.\n",
    "* Keşifçi Veri Analizi\n",
    "* Feature Engineering"
   ]
  },
  {
   "cell_type": "markdown",
   "metadata": {},
   "source": [
    "## Adım 5:\n",
    "#### Veri Ön İşleme\n",
    "* Veri Temizleme (data cleaning/cleasing)\n",
    "* Veri Standardizasyonu/ Dönüşümü\n",
    "* Veri İndirgeme"
   ]
  },
  {
   "cell_type": "markdown",
   "metadata": {},
   "source": [
    "## Adım 6:\n",
    "* Modelleme ve Model Basarı Değerlendirme"
   ]
  },
  {
   "cell_type": "markdown",
   "metadata": {},
   "source": [
    "## Adım 7:\n",
    "#### Çalışmanın Canlı Sisteme Entegrasyonu\n",
    "* İş birimlerini beslemek\n",
    "* Canlı sistemleri anlık beslemek(anlık tahminsel modeller çalıştırmak)\n",
    "* Canlı sistemler için tablolar oluşturmak"
   ]
  },
  {
   "cell_type": "code",
   "execution_count": null,
   "metadata": {},
   "outputs": [],
   "source": []
  }
 ],
 "metadata": {
  "kernelspec": {
   "display_name": "Python 3",
   "language": "python",
   "name": "python3"
  },
  "language_info": {
   "codemirror_mode": {
    "name": "ipython",
    "version": 3
   },
   "file_extension": ".py",
   "mimetype": "text/x-python",
   "name": "python",
   "nbconvert_exporter": "python",
   "pygments_lexer": "ipython3",
   "version": "3.7.4"
  }
 },
 "nbformat": 4,
 "nbformat_minor": 4
}
